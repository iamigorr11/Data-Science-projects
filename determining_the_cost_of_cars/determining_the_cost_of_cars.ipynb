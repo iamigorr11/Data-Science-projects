{
 "cells": [
  {
   "cell_type": "markdown",
   "metadata": {},
   "source": [
    "## Подготовка данных"
   ]
  },
  {
   "cell_type": "markdown",
   "metadata": {},
   "source": [
    "Испортируем все необходимые библиотеки для проекта."
   ]
  },
  {
   "cell_type": "code",
   "execution_count": 1,
   "metadata": {},
   "outputs": [],
   "source": [
    "import pandas as pd\n",
    "import numpy as np\n",
    "import matplotlib.pyplot as plt \n",
    "from sklearn. preprocessing import OneHotEncoder\n",
    "from sklearn.model_selection import train_test_split\n",
    "from sklearn.preprocessing import StandardScaler \n",
    "from sklearn.preprocessing import OneHotEncoder\n",
    "from sklearn.ensemble import RandomForestClassifier\n",
    "from sklearn.tree import DecisionTreeRegressor\n",
    "import warnings\n",
    "from sklearn.metrics import mean_squared_error\n",
    "from sklearn.metrics import make_scorer\n",
    "from sklearn.model_selection import GridSearchCV\n",
    "from catboost import CatBoostRegressor, Pool\n",
    "import lightgbm as lgb\n",
    "import time "
   ]
  },
  {
   "cell_type": "markdown",
   "metadata": {},
   "source": [
    "Рассмотрим строки датасета."
   ]
  },
  {
   "cell_type": "code",
   "execution_count": 2,
   "metadata": {
    "scrolled": true
   },
   "outputs": [
    {
     "data": {
      "text/html": [
       "<div>\n",
       "<style scoped>\n",
       "    .dataframe tbody tr th:only-of-type {\n",
       "        vertical-align: middle;\n",
       "    }\n",
       "\n",
       "    .dataframe tbody tr th {\n",
       "        vertical-align: top;\n",
       "    }\n",
       "\n",
       "    .dataframe thead th {\n",
       "        text-align: right;\n",
       "    }\n",
       "</style>\n",
       "<table border=\"1\" class=\"dataframe\">\n",
       "  <thead>\n",
       "    <tr style=\"text-align: right;\">\n",
       "      <th></th>\n",
       "      <th>DateCrawled</th>\n",
       "      <th>Price</th>\n",
       "      <th>VehicleType</th>\n",
       "      <th>RegistrationYear</th>\n",
       "      <th>Gearbox</th>\n",
       "      <th>Power</th>\n",
       "      <th>Model</th>\n",
       "      <th>Kilometer</th>\n",
       "      <th>RegistrationMonth</th>\n",
       "      <th>FuelType</th>\n",
       "      <th>Brand</th>\n",
       "      <th>Repaired</th>\n",
       "      <th>DateCreated</th>\n",
       "      <th>NumberOfPictures</th>\n",
       "      <th>PostalCode</th>\n",
       "      <th>LastSeen</th>\n",
       "    </tr>\n",
       "  </thead>\n",
       "  <tbody>\n",
       "    <tr>\n",
       "      <th>0</th>\n",
       "      <td>2016-03-24 11:52:17</td>\n",
       "      <td>480</td>\n",
       "      <td>NaN</td>\n",
       "      <td>1993</td>\n",
       "      <td>manual</td>\n",
       "      <td>0</td>\n",
       "      <td>golf</td>\n",
       "      <td>150000</td>\n",
       "      <td>0</td>\n",
       "      <td>petrol</td>\n",
       "      <td>volkswagen</td>\n",
       "      <td>NaN</td>\n",
       "      <td>2016-03-24 00:00:00</td>\n",
       "      <td>0</td>\n",
       "      <td>70435</td>\n",
       "      <td>2016-04-07 03:16:57</td>\n",
       "    </tr>\n",
       "    <tr>\n",
       "      <th>1</th>\n",
       "      <td>2016-03-24 10:58:45</td>\n",
       "      <td>18300</td>\n",
       "      <td>coupe</td>\n",
       "      <td>2011</td>\n",
       "      <td>manual</td>\n",
       "      <td>190</td>\n",
       "      <td>NaN</td>\n",
       "      <td>125000</td>\n",
       "      <td>5</td>\n",
       "      <td>gasoline</td>\n",
       "      <td>audi</td>\n",
       "      <td>yes</td>\n",
       "      <td>2016-03-24 00:00:00</td>\n",
       "      <td>0</td>\n",
       "      <td>66954</td>\n",
       "      <td>2016-04-07 01:46:50</td>\n",
       "    </tr>\n",
       "    <tr>\n",
       "      <th>2</th>\n",
       "      <td>2016-03-14 12:52:21</td>\n",
       "      <td>9800</td>\n",
       "      <td>suv</td>\n",
       "      <td>2004</td>\n",
       "      <td>auto</td>\n",
       "      <td>163</td>\n",
       "      <td>grand</td>\n",
       "      <td>125000</td>\n",
       "      <td>8</td>\n",
       "      <td>gasoline</td>\n",
       "      <td>jeep</td>\n",
       "      <td>NaN</td>\n",
       "      <td>2016-03-14 00:00:00</td>\n",
       "      <td>0</td>\n",
       "      <td>90480</td>\n",
       "      <td>2016-04-05 12:47:46</td>\n",
       "    </tr>\n",
       "    <tr>\n",
       "      <th>3</th>\n",
       "      <td>2016-03-17 16:54:04</td>\n",
       "      <td>1500</td>\n",
       "      <td>small</td>\n",
       "      <td>2001</td>\n",
       "      <td>manual</td>\n",
       "      <td>75</td>\n",
       "      <td>golf</td>\n",
       "      <td>150000</td>\n",
       "      <td>6</td>\n",
       "      <td>petrol</td>\n",
       "      <td>volkswagen</td>\n",
       "      <td>no</td>\n",
       "      <td>2016-03-17 00:00:00</td>\n",
       "      <td>0</td>\n",
       "      <td>91074</td>\n",
       "      <td>2016-03-17 17:40:17</td>\n",
       "    </tr>\n",
       "    <tr>\n",
       "      <th>4</th>\n",
       "      <td>2016-03-31 17:25:20</td>\n",
       "      <td>3600</td>\n",
       "      <td>small</td>\n",
       "      <td>2008</td>\n",
       "      <td>manual</td>\n",
       "      <td>69</td>\n",
       "      <td>fabia</td>\n",
       "      <td>90000</td>\n",
       "      <td>7</td>\n",
       "      <td>gasoline</td>\n",
       "      <td>skoda</td>\n",
       "      <td>no</td>\n",
       "      <td>2016-03-31 00:00:00</td>\n",
       "      <td>0</td>\n",
       "      <td>60437</td>\n",
       "      <td>2016-04-06 10:17:21</td>\n",
       "    </tr>\n",
       "  </tbody>\n",
       "</table>\n",
       "</div>"
      ],
      "text/plain": [
       "           DateCrawled  Price VehicleType  RegistrationYear Gearbox  Power  \\\n",
       "0  2016-03-24 11:52:17    480         NaN              1993  manual      0   \n",
       "1  2016-03-24 10:58:45  18300       coupe              2011  manual    190   \n",
       "2  2016-03-14 12:52:21   9800         suv              2004    auto    163   \n",
       "3  2016-03-17 16:54:04   1500       small              2001  manual     75   \n",
       "4  2016-03-31 17:25:20   3600       small              2008  manual     69   \n",
       "\n",
       "   Model  Kilometer  RegistrationMonth  FuelType       Brand Repaired  \\\n",
       "0   golf     150000                  0    petrol  volkswagen      NaN   \n",
       "1    NaN     125000                  5  gasoline        audi      yes   \n",
       "2  grand     125000                  8  gasoline        jeep      NaN   \n",
       "3   golf     150000                  6    petrol  volkswagen       no   \n",
       "4  fabia      90000                  7  gasoline       skoda       no   \n",
       "\n",
       "           DateCreated  NumberOfPictures  PostalCode             LastSeen  \n",
       "0  2016-03-24 00:00:00                 0       70435  2016-04-07 03:16:57  \n",
       "1  2016-03-24 00:00:00                 0       66954  2016-04-07 01:46:50  \n",
       "2  2016-03-14 00:00:00                 0       90480  2016-04-05 12:47:46  \n",
       "3  2016-03-17 00:00:00                 0       91074  2016-03-17 17:40:17  \n",
       "4  2016-03-31 00:00:00                 0       60437  2016-04-06 10:17:21  "
      ]
     },
     "metadata": {},
     "output_type": "display_data"
    }
   ],
   "source": [
    "data = pd.read_csv('/datasets/autos.csv')\n",
    "display(data.head())"
   ]
  },
  {
   "cell_type": "markdown",
   "metadata": {},
   "source": [
    "Изменим названия столбцов (приведем к нижнему регистру)."
   ]
  },
  {
   "cell_type": "code",
   "execution_count": 3,
   "metadata": {},
   "outputs": [
    {
     "data": {
      "text/html": [
       "<div>\n",
       "<style scoped>\n",
       "    .dataframe tbody tr th:only-of-type {\n",
       "        vertical-align: middle;\n",
       "    }\n",
       "\n",
       "    .dataframe tbody tr th {\n",
       "        vertical-align: top;\n",
       "    }\n",
       "\n",
       "    .dataframe thead th {\n",
       "        text-align: right;\n",
       "    }\n",
       "</style>\n",
       "<table border=\"1\" class=\"dataframe\">\n",
       "  <thead>\n",
       "    <tr style=\"text-align: right;\">\n",
       "      <th></th>\n",
       "      <th>datecrawled</th>\n",
       "      <th>price</th>\n",
       "      <th>vehicletype</th>\n",
       "      <th>registrationyear</th>\n",
       "      <th>gearbox</th>\n",
       "      <th>power</th>\n",
       "      <th>model</th>\n",
       "      <th>kilometer</th>\n",
       "      <th>registrationmonth</th>\n",
       "      <th>fueltype</th>\n",
       "      <th>brand</th>\n",
       "      <th>repaired</th>\n",
       "      <th>datecreated</th>\n",
       "      <th>numberofpictures</th>\n",
       "      <th>postalcode</th>\n",
       "      <th>lastseen</th>\n",
       "    </tr>\n",
       "  </thead>\n",
       "  <tbody>\n",
       "    <tr>\n",
       "      <th>0</th>\n",
       "      <td>2016-03-24 11:52:17</td>\n",
       "      <td>480</td>\n",
       "      <td>NaN</td>\n",
       "      <td>1993</td>\n",
       "      <td>manual</td>\n",
       "      <td>0</td>\n",
       "      <td>golf</td>\n",
       "      <td>150000</td>\n",
       "      <td>0</td>\n",
       "      <td>petrol</td>\n",
       "      <td>volkswagen</td>\n",
       "      <td>NaN</td>\n",
       "      <td>2016-03-24 00:00:00</td>\n",
       "      <td>0</td>\n",
       "      <td>70435</td>\n",
       "      <td>2016-04-07 03:16:57</td>\n",
       "    </tr>\n",
       "    <tr>\n",
       "      <th>1</th>\n",
       "      <td>2016-03-24 10:58:45</td>\n",
       "      <td>18300</td>\n",
       "      <td>coupe</td>\n",
       "      <td>2011</td>\n",
       "      <td>manual</td>\n",
       "      <td>190</td>\n",
       "      <td>NaN</td>\n",
       "      <td>125000</td>\n",
       "      <td>5</td>\n",
       "      <td>gasoline</td>\n",
       "      <td>audi</td>\n",
       "      <td>yes</td>\n",
       "      <td>2016-03-24 00:00:00</td>\n",
       "      <td>0</td>\n",
       "      <td>66954</td>\n",
       "      <td>2016-04-07 01:46:50</td>\n",
       "    </tr>\n",
       "    <tr>\n",
       "      <th>2</th>\n",
       "      <td>2016-03-14 12:52:21</td>\n",
       "      <td>9800</td>\n",
       "      <td>suv</td>\n",
       "      <td>2004</td>\n",
       "      <td>auto</td>\n",
       "      <td>163</td>\n",
       "      <td>grand</td>\n",
       "      <td>125000</td>\n",
       "      <td>8</td>\n",
       "      <td>gasoline</td>\n",
       "      <td>jeep</td>\n",
       "      <td>NaN</td>\n",
       "      <td>2016-03-14 00:00:00</td>\n",
       "      <td>0</td>\n",
       "      <td>90480</td>\n",
       "      <td>2016-04-05 12:47:46</td>\n",
       "    </tr>\n",
       "    <tr>\n",
       "      <th>3</th>\n",
       "      <td>2016-03-17 16:54:04</td>\n",
       "      <td>1500</td>\n",
       "      <td>small</td>\n",
       "      <td>2001</td>\n",
       "      <td>manual</td>\n",
       "      <td>75</td>\n",
       "      <td>golf</td>\n",
       "      <td>150000</td>\n",
       "      <td>6</td>\n",
       "      <td>petrol</td>\n",
       "      <td>volkswagen</td>\n",
       "      <td>no</td>\n",
       "      <td>2016-03-17 00:00:00</td>\n",
       "      <td>0</td>\n",
       "      <td>91074</td>\n",
       "      <td>2016-03-17 17:40:17</td>\n",
       "    </tr>\n",
       "    <tr>\n",
       "      <th>4</th>\n",
       "      <td>2016-03-31 17:25:20</td>\n",
       "      <td>3600</td>\n",
       "      <td>small</td>\n",
       "      <td>2008</td>\n",
       "      <td>manual</td>\n",
       "      <td>69</td>\n",
       "      <td>fabia</td>\n",
       "      <td>90000</td>\n",
       "      <td>7</td>\n",
       "      <td>gasoline</td>\n",
       "      <td>skoda</td>\n",
       "      <td>no</td>\n",
       "      <td>2016-03-31 00:00:00</td>\n",
       "      <td>0</td>\n",
       "      <td>60437</td>\n",
       "      <td>2016-04-06 10:17:21</td>\n",
       "    </tr>\n",
       "  </tbody>\n",
       "</table>\n",
       "</div>"
      ],
      "text/plain": [
       "           datecrawled  price vehicletype  registrationyear gearbox  power  \\\n",
       "0  2016-03-24 11:52:17    480         NaN              1993  manual      0   \n",
       "1  2016-03-24 10:58:45  18300       coupe              2011  manual    190   \n",
       "2  2016-03-14 12:52:21   9800         suv              2004    auto    163   \n",
       "3  2016-03-17 16:54:04   1500       small              2001  manual     75   \n",
       "4  2016-03-31 17:25:20   3600       small              2008  manual     69   \n",
       "\n",
       "   model  kilometer  registrationmonth  fueltype       brand repaired  \\\n",
       "0   golf     150000                  0    petrol  volkswagen      NaN   \n",
       "1    NaN     125000                  5  gasoline        audi      yes   \n",
       "2  grand     125000                  8  gasoline        jeep      NaN   \n",
       "3   golf     150000                  6    petrol  volkswagen       no   \n",
       "4  fabia      90000                  7  gasoline       skoda       no   \n",
       "\n",
       "           datecreated  numberofpictures  postalcode             lastseen  \n",
       "0  2016-03-24 00:00:00                 0       70435  2016-04-07 03:16:57  \n",
       "1  2016-03-24 00:00:00                 0       66954  2016-04-07 01:46:50  \n",
       "2  2016-03-14 00:00:00                 0       90480  2016-04-05 12:47:46  \n",
       "3  2016-03-17 00:00:00                 0       91074  2016-03-17 17:40:17  \n",
       "4  2016-03-31 00:00:00                 0       60437  2016-04-06 10:17:21  "
      ]
     },
     "metadata": {},
     "output_type": "display_data"
    }
   ],
   "source": [
    "data.columns = [x.lower() for x in data.columns]\n",
    "display(data.head())"
   ]
  },
  {
   "cell_type": "markdown",
   "metadata": {},
   "source": [
    "Рассмотрим общую информацию датасета."
   ]
  },
  {
   "cell_type": "code",
   "execution_count": 4,
   "metadata": {},
   "outputs": [
    {
     "name": "stdout",
     "output_type": "stream",
     "text": [
      "Размер датасета: (354369, 16)\n",
      "\n",
      "<class 'pandas.core.frame.DataFrame'>\n",
      "RangeIndex: 354369 entries, 0 to 354368\n",
      "Data columns (total 16 columns):\n",
      " #   Column             Non-Null Count   Dtype \n",
      "---  ------             --------------   ----- \n",
      " 0   datecrawled        354369 non-null  object\n",
      " 1   price              354369 non-null  int64 \n",
      " 2   vehicletype        316879 non-null  object\n",
      " 3   registrationyear   354369 non-null  int64 \n",
      " 4   gearbox            334536 non-null  object\n",
      " 5   power              354369 non-null  int64 \n",
      " 6   model              334664 non-null  object\n",
      " 7   kilometer          354369 non-null  int64 \n",
      " 8   registrationmonth  354369 non-null  int64 \n",
      " 9   fueltype           321474 non-null  object\n",
      " 10  brand              354369 non-null  object\n",
      " 11  repaired           283215 non-null  object\n",
      " 12  datecreated        354369 non-null  object\n",
      " 13  numberofpictures   354369 non-null  int64 \n",
      " 14  postalcode         354369 non-null  int64 \n",
      " 15  lastseen           354369 non-null  object\n",
      "dtypes: int64(7), object(9)\n",
      "memory usage: 43.3+ MB\n"
     ]
    }
   ],
   "source": [
    "print('Размер датасета:', data.shape)\n",
    "print('')\n",
    "data.info()"
   ]
  },
  {
   "cell_type": "markdown",
   "metadata": {},
   "source": [
    "Рассмотрим описательную статистику количественных признаков датасета."
   ]
  },
  {
   "cell_type": "code",
   "execution_count": 5,
   "metadata": {
    "scrolled": true
   },
   "outputs": [
    {
     "data": {
      "text/html": [
       "<div>\n",
       "<style scoped>\n",
       "    .dataframe tbody tr th:only-of-type {\n",
       "        vertical-align: middle;\n",
       "    }\n",
       "\n",
       "    .dataframe tbody tr th {\n",
       "        vertical-align: top;\n",
       "    }\n",
       "\n",
       "    .dataframe thead th {\n",
       "        text-align: right;\n",
       "    }\n",
       "</style>\n",
       "<table border=\"1\" class=\"dataframe\">\n",
       "  <thead>\n",
       "    <tr style=\"text-align: right;\">\n",
       "      <th></th>\n",
       "      <th>price</th>\n",
       "      <th>registrationyear</th>\n",
       "      <th>power</th>\n",
       "      <th>kilometer</th>\n",
       "      <th>registrationmonth</th>\n",
       "      <th>numberofpictures</th>\n",
       "      <th>postalcode</th>\n",
       "    </tr>\n",
       "  </thead>\n",
       "  <tbody>\n",
       "    <tr>\n",
       "      <th>count</th>\n",
       "      <td>354369.000000</td>\n",
       "      <td>354369.000000</td>\n",
       "      <td>354369.000000</td>\n",
       "      <td>354369.000000</td>\n",
       "      <td>354369.000000</td>\n",
       "      <td>354369.0</td>\n",
       "      <td>354369.000000</td>\n",
       "    </tr>\n",
       "    <tr>\n",
       "      <th>mean</th>\n",
       "      <td>4416.656776</td>\n",
       "      <td>2004.234448</td>\n",
       "      <td>110.094337</td>\n",
       "      <td>128211.172535</td>\n",
       "      <td>5.714645</td>\n",
       "      <td>0.0</td>\n",
       "      <td>50508.689087</td>\n",
       "    </tr>\n",
       "    <tr>\n",
       "      <th>std</th>\n",
       "      <td>4514.158514</td>\n",
       "      <td>90.227958</td>\n",
       "      <td>189.850405</td>\n",
       "      <td>37905.341530</td>\n",
       "      <td>3.726421</td>\n",
       "      <td>0.0</td>\n",
       "      <td>25783.096248</td>\n",
       "    </tr>\n",
       "    <tr>\n",
       "      <th>min</th>\n",
       "      <td>0.000000</td>\n",
       "      <td>1000.000000</td>\n",
       "      <td>0.000000</td>\n",
       "      <td>5000.000000</td>\n",
       "      <td>0.000000</td>\n",
       "      <td>0.0</td>\n",
       "      <td>1067.000000</td>\n",
       "    </tr>\n",
       "    <tr>\n",
       "      <th>25%</th>\n",
       "      <td>1050.000000</td>\n",
       "      <td>1999.000000</td>\n",
       "      <td>69.000000</td>\n",
       "      <td>125000.000000</td>\n",
       "      <td>3.000000</td>\n",
       "      <td>0.0</td>\n",
       "      <td>30165.000000</td>\n",
       "    </tr>\n",
       "    <tr>\n",
       "      <th>50%</th>\n",
       "      <td>2700.000000</td>\n",
       "      <td>2003.000000</td>\n",
       "      <td>105.000000</td>\n",
       "      <td>150000.000000</td>\n",
       "      <td>6.000000</td>\n",
       "      <td>0.0</td>\n",
       "      <td>49413.000000</td>\n",
       "    </tr>\n",
       "    <tr>\n",
       "      <th>75%</th>\n",
       "      <td>6400.000000</td>\n",
       "      <td>2008.000000</td>\n",
       "      <td>143.000000</td>\n",
       "      <td>150000.000000</td>\n",
       "      <td>9.000000</td>\n",
       "      <td>0.0</td>\n",
       "      <td>71083.000000</td>\n",
       "    </tr>\n",
       "    <tr>\n",
       "      <th>max</th>\n",
       "      <td>20000.000000</td>\n",
       "      <td>9999.000000</td>\n",
       "      <td>20000.000000</td>\n",
       "      <td>150000.000000</td>\n",
       "      <td>12.000000</td>\n",
       "      <td>0.0</td>\n",
       "      <td>99998.000000</td>\n",
       "    </tr>\n",
       "  </tbody>\n",
       "</table>\n",
       "</div>"
      ],
      "text/plain": [
       "               price  registrationyear          power      kilometer  \\\n",
       "count  354369.000000     354369.000000  354369.000000  354369.000000   \n",
       "mean     4416.656776       2004.234448     110.094337  128211.172535   \n",
       "std      4514.158514         90.227958     189.850405   37905.341530   \n",
       "min         0.000000       1000.000000       0.000000    5000.000000   \n",
       "25%      1050.000000       1999.000000      69.000000  125000.000000   \n",
       "50%      2700.000000       2003.000000     105.000000  150000.000000   \n",
       "75%      6400.000000       2008.000000     143.000000  150000.000000   \n",
       "max     20000.000000       9999.000000   20000.000000  150000.000000   \n",
       "\n",
       "       registrationmonth  numberofpictures     postalcode  \n",
       "count      354369.000000          354369.0  354369.000000  \n",
       "mean            5.714645               0.0   50508.689087  \n",
       "std             3.726421               0.0   25783.096248  \n",
       "min             0.000000               0.0    1067.000000  \n",
       "25%             3.000000               0.0   30165.000000  \n",
       "50%             6.000000               0.0   49413.000000  \n",
       "75%             9.000000               0.0   71083.000000  \n",
       "max            12.000000               0.0   99998.000000  "
      ]
     },
     "execution_count": 5,
     "metadata": {},
     "output_type": "execute_result"
    }
   ],
   "source": [
    "data.describe()"
   ]
  },
  {
   "cell_type": "markdown",
   "metadata": {},
   "source": [
    "Как можно заметить, выделяются аномалии в признаках \"registrationyear\", \"power\" и \"price\". Год регистрации авто не может быть больше 2023  и не может быть равен 1000. Примем минимальный год регистрации автомобиля 1980. Значение мощности автомобиля max равно 20000, и не может превышать 3000 л.с.(максимальная известная мощность двигателя в л.с.). Также аномально низко выглядит цена за автомобиль со значением 0. Примем, что минимальная стоимость автомобился равна 500 евро.\n",
    "\n",
    "Считаю необходимым убрать признаки \"numberofpictures\", так как данный признак практически во всех строках имеет значение 0, признак \"postalcode\", так как почтовый индекс владельца анкеты не влияет на стоимость автомобиля. Также считаю, что признаки \"datecrawled\", \"datecreated\" и \"lastseen\" не влияют на стоимость автомобиля в виду нулевого влияния на его состояние. Также считаю, что признак \"registrationmonth\" не настолько важен, как \"registrationyear\" и можно им принебречь.     \n",
    "\n",
    "С учетом этого, обновим наш датасет."
   ]
  },
  {
   "cell_type": "code",
   "execution_count": 6,
   "metadata": {},
   "outputs": [
    {
     "data": {
      "text/html": [
       "<div>\n",
       "<style scoped>\n",
       "    .dataframe tbody tr th:only-of-type {\n",
       "        vertical-align: middle;\n",
       "    }\n",
       "\n",
       "    .dataframe tbody tr th {\n",
       "        vertical-align: top;\n",
       "    }\n",
       "\n",
       "    .dataframe thead th {\n",
       "        text-align: right;\n",
       "    }\n",
       "</style>\n",
       "<table border=\"1\" class=\"dataframe\">\n",
       "  <thead>\n",
       "    <tr style=\"text-align: right;\">\n",
       "      <th></th>\n",
       "      <th>price</th>\n",
       "      <th>vehicletype</th>\n",
       "      <th>gearbox</th>\n",
       "      <th>power</th>\n",
       "      <th>model</th>\n",
       "      <th>kilometer</th>\n",
       "      <th>registrationmonth</th>\n",
       "      <th>fueltype</th>\n",
       "      <th>brand</th>\n",
       "      <th>repaired</th>\n",
       "    </tr>\n",
       "  </thead>\n",
       "  <tbody>\n",
       "    <tr>\n",
       "      <th>0</th>\n",
       "      <td>18300</td>\n",
       "      <td>coupe</td>\n",
       "      <td>manual</td>\n",
       "      <td>190</td>\n",
       "      <td>NaN</td>\n",
       "      <td>125000</td>\n",
       "      <td>5</td>\n",
       "      <td>gasoline</td>\n",
       "      <td>audi</td>\n",
       "      <td>yes</td>\n",
       "    </tr>\n",
       "    <tr>\n",
       "      <th>1</th>\n",
       "      <td>9800</td>\n",
       "      <td>suv</td>\n",
       "      <td>auto</td>\n",
       "      <td>163</td>\n",
       "      <td>grand</td>\n",
       "      <td>125000</td>\n",
       "      <td>8</td>\n",
       "      <td>gasoline</td>\n",
       "      <td>jeep</td>\n",
       "      <td>NaN</td>\n",
       "    </tr>\n",
       "    <tr>\n",
       "      <th>2</th>\n",
       "      <td>1500</td>\n",
       "      <td>small</td>\n",
       "      <td>manual</td>\n",
       "      <td>75</td>\n",
       "      <td>golf</td>\n",
       "      <td>150000</td>\n",
       "      <td>6</td>\n",
       "      <td>petrol</td>\n",
       "      <td>volkswagen</td>\n",
       "      <td>no</td>\n",
       "    </tr>\n",
       "    <tr>\n",
       "      <th>3</th>\n",
       "      <td>3600</td>\n",
       "      <td>small</td>\n",
       "      <td>manual</td>\n",
       "      <td>69</td>\n",
       "      <td>fabia</td>\n",
       "      <td>90000</td>\n",
       "      <td>7</td>\n",
       "      <td>gasoline</td>\n",
       "      <td>skoda</td>\n",
       "      <td>no</td>\n",
       "    </tr>\n",
       "    <tr>\n",
       "      <th>4</th>\n",
       "      <td>650</td>\n",
       "      <td>sedan</td>\n",
       "      <td>manual</td>\n",
       "      <td>102</td>\n",
       "      <td>3er</td>\n",
       "      <td>150000</td>\n",
       "      <td>10</td>\n",
       "      <td>petrol</td>\n",
       "      <td>bmw</td>\n",
       "      <td>yes</td>\n",
       "    </tr>\n",
       "  </tbody>\n",
       "</table>\n",
       "</div>"
      ],
      "text/plain": [
       "   price vehicletype gearbox  power  model  kilometer  registrationmonth  \\\n",
       "0  18300       coupe  manual    190    NaN     125000                  5   \n",
       "1   9800         suv    auto    163  grand     125000                  8   \n",
       "2   1500       small  manual     75   golf     150000                  6   \n",
       "3   3600       small  manual     69  fabia      90000                  7   \n",
       "4    650       sedan  manual    102    3er     150000                 10   \n",
       "\n",
       "   fueltype       brand repaired  \n",
       "0  gasoline        audi      yes  \n",
       "1  gasoline        jeep      NaN  \n",
       "2    petrol  volkswagen       no  \n",
       "3  gasoline       skoda       no  \n",
       "4    petrol         bmw      yes  "
      ]
     },
     "metadata": {},
     "output_type": "display_data"
    },
    {
     "name": "stdout",
     "output_type": "stream",
     "text": [
      "Размер датасета: (309177, 10)\n"
     ]
    }
   ],
   "source": [
    "data = data.query(\"1980 < registrationyear < 2023 & power < 3000 & price > 500\")\n",
    "data = data.drop(\n",
    "    [\n",
    "        \"datecrawled\",\n",
    "        \"datecreated\",\n",
    "        \"lastseen\",\n",
    "        \"registrationyear\",\n",
    "        \"numberofpictures\",\n",
    "        \"postalcode\",\n",
    "    ],\n",
    "    axis=1,\n",
    ")\n",
    "data = data.reset_index(drop=True)\n",
    "display(data.head())\n",
    "print(\"Размер датасета:\", data.shape)"
   ]
  },
  {
   "cell_type": "markdown",
   "metadata": {},
   "source": [
    "Посчитаем количество пропусков в датасете."
   ]
  },
  {
   "cell_type": "code",
   "execution_count": 7,
   "metadata": {},
   "outputs": [
    {
     "data": {
      "text/plain": [
       "price                    0\n",
       "vehicletype          25814\n",
       "gearbox              12278\n",
       "power                    0\n",
       "model                13446\n",
       "kilometer                0\n",
       "registrationmonth        0\n",
       "fueltype             21883\n",
       "brand                    0\n",
       "repaired             51993\n",
       "dtype: int64"
      ]
     },
     "execution_count": 7,
     "metadata": {},
     "output_type": "execute_result"
    }
   ],
   "source": [
    "data.isna().sum()"
   ]
  },
  {
   "cell_type": "markdown",
   "metadata": {},
   "source": [
    "Заполним пропуски в признаке \"repaired\" заглушкой unknown  "
   ]
  },
  {
   "cell_type": "code",
   "execution_count": 8,
   "metadata": {},
   "outputs": [],
   "source": [
    "data['repaired'] = data['repaired']. fillna('unknown')\n",
    "data['model'] = data['model']. fillna('unknown')"
   ]
  },
  {
   "cell_type": "code",
   "execution_count": 9,
   "metadata": {},
   "outputs": [
    {
     "name": "stdout",
     "output_type": "stream",
     "text": [
      "Размер датасета: (309177, 10)\n",
      "\n"
     ]
    },
    {
     "data": {
      "text/plain": [
       "price                    0\n",
       "vehicletype          25814\n",
       "gearbox              12278\n",
       "power                    0\n",
       "model                    0\n",
       "kilometer                0\n",
       "registrationmonth        0\n",
       "fueltype             21883\n",
       "brand                    0\n",
       "repaired                 0\n",
       "dtype: int64"
      ]
     },
     "execution_count": 9,
     "metadata": {},
     "output_type": "execute_result"
    }
   ],
   "source": [
    "print('Размер датасета:', data.shape)\n",
    "print('')\n",
    "data.isna().sum()"
   ]
  },
  {
   "cell_type": "markdown",
   "metadata": {},
   "source": [
    "Посчитаем количество нулевых значений в признаке \"power\"."
   ]
  },
  {
   "cell_type": "code",
   "execution_count": 10,
   "metadata": {},
   "outputs": [
    {
     "data": {
      "text/plain": [
       "26637"
      ]
     },
     "execution_count": 10,
     "metadata": {},
     "output_type": "execute_result"
    }
   ],
   "source": [
    "len(data[data['power'] == 0])"
   ]
  },
  {
   "cell_type": "markdown",
   "metadata": {},
   "source": [
    "Рассчитаем медиану признака \"power\"."
   ]
  },
  {
   "cell_type": "code",
   "execution_count": 11,
   "metadata": {},
   "outputs": [
    {
     "data": {
      "text/plain": [
       "109.0"
      ]
     },
     "execution_count": 11,
     "metadata": {},
     "output_type": "execute_result"
    }
   ],
   "source": [
    "data['power'].median()"
   ]
  },
  {
   "cell_type": "markdown",
   "metadata": {},
   "source": [
    "Заменим нули в признаке \"power\" на медианное значение."
   ]
  },
  {
   "cell_type": "code",
   "execution_count": 12,
   "metadata": {},
   "outputs": [],
   "source": [
    "data = data.replace([0],[data['power'].median()])"
   ]
  },
  {
   "cell_type": "markdown",
   "metadata": {},
   "source": [
    "Посчитаем количество нулевых значений признака \"power\"."
   ]
  },
  {
   "cell_type": "code",
   "execution_count": 13,
   "metadata": {},
   "outputs": [
    {
     "data": {
      "text/plain": [
       "0"
      ]
     },
     "execution_count": 13,
     "metadata": {},
     "output_type": "execute_result"
    }
   ],
   "source": [
    "len(data[data['power'] == 0])"
   ]
  },
  {
   "cell_type": "code",
   "execution_count": 14,
   "metadata": {},
   "outputs": [
    {
     "name": "stdout",
     "output_type": "stream",
     "text": [
      "Размер датасета: (309177, 10)\n"
     ]
    }
   ],
   "source": [
    "print('Размер датасета:', data.shape)"
   ]
  },
  {
   "cell_type": "code",
   "execution_count": 15,
   "metadata": {},
   "outputs": [],
   "source": [
    "data[\"vehicletype\"] = data.groupby(\"model\")[\"vehicletype\"].transform(\n",
    "    lambda x: x.fillna((x.mode()[0] if x.count() != 0 else \"unknown\"))\n",
    ")\n",
    "data[\"gearbox\"] = data.groupby(\"model\")[\"gearbox\"].transform(\n",
    "    lambda x: x.fillna((x.mode()[0] if x.count() != 0 else \"unknown\"))\n",
    ")\n",
    "data[\"fueltype\"] = data.groupby(\"model\")[\"fueltype\"].transform(\n",
    "    lambda x: x.fillna((x.mode()[0] if x.count() != 0 else \"unknown\"))\n",
    ")"
   ]
  },
  {
   "cell_type": "code",
   "execution_count": 16,
   "metadata": {},
   "outputs": [
    {
     "data": {
      "text/plain": [
       "price                0\n",
       "vehicletype          0\n",
       "gearbox              0\n",
       "power                0\n",
       "model                0\n",
       "kilometer            0\n",
       "registrationmonth    0\n",
       "fueltype             0\n",
       "brand                0\n",
       "repaired             0\n",
       "dtype: int64"
      ]
     },
     "execution_count": 16,
     "metadata": {},
     "output_type": "execute_result"
    }
   ],
   "source": [
    "data.isna().sum()"
   ]
  },
  {
   "cell_type": "code",
   "execution_count": 17,
   "metadata": {},
   "outputs": [
    {
     "name": "stdout",
     "output_type": "stream",
     "text": [
      "price                0\n",
      "vehicletype          0\n",
      "gearbox              0\n",
      "power                0\n",
      "model                0\n",
      "kilometer            0\n",
      "registrationmonth    0\n",
      "fueltype             0\n",
      "brand                0\n",
      "repaired             0\n",
      "dtype: int64\n"
     ]
    }
   ],
   "source": [
    "print(data.isna().sum())"
   ]
  },
  {
   "cell_type": "markdown",
   "metadata": {},
   "source": [
    "Так как сумма оставшихся пропусков меньше 10% от общего количества строк в датасете, удалим данные пропуски."
   ]
  },
  {
   "cell_type": "code",
   "execution_count": 18,
   "metadata": {},
   "outputs": [
    {
     "name": "stdout",
     "output_type": "stream",
     "text": [
      "price                0\n",
      "vehicletype          0\n",
      "gearbox              0\n",
      "power                0\n",
      "model                0\n",
      "kilometer            0\n",
      "registrationmonth    0\n",
      "fueltype             0\n",
      "brand                0\n",
      "repaired             0\n",
      "dtype: int64\n"
     ]
    },
    {
     "data": {
      "text/html": [
       "<div>\n",
       "<style scoped>\n",
       "    .dataframe tbody tr th:only-of-type {\n",
       "        vertical-align: middle;\n",
       "    }\n",
       "\n",
       "    .dataframe tbody tr th {\n",
       "        vertical-align: top;\n",
       "    }\n",
       "\n",
       "    .dataframe thead th {\n",
       "        text-align: right;\n",
       "    }\n",
       "</style>\n",
       "<table border=\"1\" class=\"dataframe\">\n",
       "  <thead>\n",
       "    <tr style=\"text-align: right;\">\n",
       "      <th></th>\n",
       "      <th>price</th>\n",
       "      <th>vehicletype</th>\n",
       "      <th>gearbox</th>\n",
       "      <th>power</th>\n",
       "      <th>model</th>\n",
       "      <th>kilometer</th>\n",
       "      <th>registrationmonth</th>\n",
       "      <th>fueltype</th>\n",
       "      <th>brand</th>\n",
       "      <th>repaired</th>\n",
       "    </tr>\n",
       "  </thead>\n",
       "  <tbody>\n",
       "    <tr>\n",
       "      <th>0</th>\n",
       "      <td>18300.0</td>\n",
       "      <td>coupe</td>\n",
       "      <td>manual</td>\n",
       "      <td>190.0</td>\n",
       "      <td>unknown</td>\n",
       "      <td>125000.0</td>\n",
       "      <td>5.0</td>\n",
       "      <td>gasoline</td>\n",
       "      <td>audi</td>\n",
       "      <td>yes</td>\n",
       "    </tr>\n",
       "    <tr>\n",
       "      <th>1</th>\n",
       "      <td>9800.0</td>\n",
       "      <td>suv</td>\n",
       "      <td>auto</td>\n",
       "      <td>163.0</td>\n",
       "      <td>grand</td>\n",
       "      <td>125000.0</td>\n",
       "      <td>8.0</td>\n",
       "      <td>gasoline</td>\n",
       "      <td>jeep</td>\n",
       "      <td>unknown</td>\n",
       "    </tr>\n",
       "    <tr>\n",
       "      <th>2</th>\n",
       "      <td>1500.0</td>\n",
       "      <td>small</td>\n",
       "      <td>manual</td>\n",
       "      <td>75.0</td>\n",
       "      <td>golf</td>\n",
       "      <td>150000.0</td>\n",
       "      <td>6.0</td>\n",
       "      <td>petrol</td>\n",
       "      <td>volkswagen</td>\n",
       "      <td>no</td>\n",
       "    </tr>\n",
       "    <tr>\n",
       "      <th>3</th>\n",
       "      <td>3600.0</td>\n",
       "      <td>small</td>\n",
       "      <td>manual</td>\n",
       "      <td>69.0</td>\n",
       "      <td>fabia</td>\n",
       "      <td>90000.0</td>\n",
       "      <td>7.0</td>\n",
       "      <td>gasoline</td>\n",
       "      <td>skoda</td>\n",
       "      <td>no</td>\n",
       "    </tr>\n",
       "    <tr>\n",
       "      <th>4</th>\n",
       "      <td>650.0</td>\n",
       "      <td>sedan</td>\n",
       "      <td>manual</td>\n",
       "      <td>102.0</td>\n",
       "      <td>3er</td>\n",
       "      <td>150000.0</td>\n",
       "      <td>10.0</td>\n",
       "      <td>petrol</td>\n",
       "      <td>bmw</td>\n",
       "      <td>yes</td>\n",
       "    </tr>\n",
       "  </tbody>\n",
       "</table>\n",
       "</div>"
      ],
      "text/plain": [
       "     price vehicletype gearbox  power    model  kilometer  registrationmonth  \\\n",
       "0  18300.0       coupe  manual  190.0  unknown   125000.0                5.0   \n",
       "1   9800.0         suv    auto  163.0    grand   125000.0                8.0   \n",
       "2   1500.0       small  manual   75.0     golf   150000.0                6.0   \n",
       "3   3600.0       small  manual   69.0    fabia    90000.0                7.0   \n",
       "4    650.0       sedan  manual  102.0      3er   150000.0               10.0   \n",
       "\n",
       "   fueltype       brand repaired  \n",
       "0  gasoline        audi      yes  \n",
       "1  gasoline        jeep  unknown  \n",
       "2    petrol  volkswagen       no  \n",
       "3  gasoline       skoda       no  \n",
       "4    petrol         bmw      yes  "
      ]
     },
     "metadata": {},
     "output_type": "display_data"
    },
    {
     "name": "stdout",
     "output_type": "stream",
     "text": [
      "\n",
      "Размер датасета: (309177, 10)\n"
     ]
    }
   ],
   "source": [
    "print(data.isna().sum())\n",
    "display(data.head())\n",
    "print('')\n",
    "print('Размер датасета:', data.shape)"
   ]
  },
  {
   "cell_type": "markdown",
   "metadata": {},
   "source": [
    "<b>Вывод: </b>\n",
    "<br> На данной этапе было выполнена обработка датасета. Были удалены признаки, не влияющие на формирование целевого признака. На осовании описательной статистики были определены выбросы и аномальные значения в количественных признаках. Также удалены строки с пропусками в категориальных признаках, так как процентное соотношение этих пропусков к общему размеру датасета не превышает 10%."
   ]
  },
  {
   "cell_type": "markdown",
   "metadata": {},
   "source": [
    "## Обучение моделей"
   ]
  },
  {
   "cell_type": "markdown",
   "metadata": {},
   "source": [
    "Проведем стандартизацию количественных признаков, сперва создав три выборки: тренировочную, валидационную и тестовую."
   ]
  },
  {
   "cell_type": "code",
   "execution_count": 19,
   "metadata": {},
   "outputs": [
    {
     "name": "stdout",
     "output_type": "stream",
     "text": [
      "Размер \"features_train\": (185506, 9)\n",
      "Размер \"features_valid\": (61835, 9)\n",
      "Размер \"features_test\": (61836, 9)\n"
     ]
    },
    {
     "data": {
      "text/html": [
       "<div>\n",
       "<style scoped>\n",
       "    .dataframe tbody tr th:only-of-type {\n",
       "        vertical-align: middle;\n",
       "    }\n",
       "\n",
       "    .dataframe tbody tr th {\n",
       "        vertical-align: top;\n",
       "    }\n",
       "\n",
       "    .dataframe thead th {\n",
       "        text-align: right;\n",
       "    }\n",
       "</style>\n",
       "<table border=\"1\" class=\"dataframe\">\n",
       "  <thead>\n",
       "    <tr style=\"text-align: right;\">\n",
       "      <th></th>\n",
       "      <th>vehicletype</th>\n",
       "      <th>gearbox</th>\n",
       "      <th>power</th>\n",
       "      <th>model</th>\n",
       "      <th>kilometer</th>\n",
       "      <th>registrationmonth</th>\n",
       "      <th>fueltype</th>\n",
       "      <th>brand</th>\n",
       "      <th>repaired</th>\n",
       "    </tr>\n",
       "  </thead>\n",
       "  <tbody>\n",
       "    <tr>\n",
       "      <th>0</th>\n",
       "      <td>bus</td>\n",
       "      <td>auto</td>\n",
       "      <td>0.528575</td>\n",
       "      <td>c4</td>\n",
       "      <td>-2.670185</td>\n",
       "      <td>-0.150276</td>\n",
       "      <td>petrol</td>\n",
       "      <td>citroen</td>\n",
       "      <td>unknown</td>\n",
       "    </tr>\n",
       "    <tr>\n",
       "      <th>1</th>\n",
       "      <td>sedan</td>\n",
       "      <td>manual</td>\n",
       "      <td>0.864240</td>\n",
       "      <td>vectra</td>\n",
       "      <td>0.589188</td>\n",
       "      <td>-0.150276</td>\n",
       "      <td>gasoline</td>\n",
       "      <td>opel</td>\n",
       "      <td>unknown</td>\n",
       "    </tr>\n",
       "    <tr>\n",
       "      <th>2</th>\n",
       "      <td>bus</td>\n",
       "      <td>auto</td>\n",
       "      <td>0.432671</td>\n",
       "      <td>vito</td>\n",
       "      <td>0.589188</td>\n",
       "      <td>-0.334437</td>\n",
       "      <td>gasoline</td>\n",
       "      <td>mercedes_benz</td>\n",
       "      <td>yes</td>\n",
       "    </tr>\n",
       "    <tr>\n",
       "      <th>3</th>\n",
       "      <td>wagon</td>\n",
       "      <td>manual</td>\n",
       "      <td>0.033070</td>\n",
       "      <td>passat</td>\n",
       "      <td>0.589188</td>\n",
       "      <td>-0.150276</td>\n",
       "      <td>petrol</td>\n",
       "      <td>volkswagen</td>\n",
       "      <td>no</td>\n",
       "    </tr>\n",
       "    <tr>\n",
       "      <th>4</th>\n",
       "      <td>wagon</td>\n",
       "      <td>manual</td>\n",
       "      <td>-0.350547</td>\n",
       "      <td>passat</td>\n",
       "      <td>0.589188</td>\n",
       "      <td>-0.150276</td>\n",
       "      <td>petrol</td>\n",
       "      <td>volkswagen</td>\n",
       "      <td>no</td>\n",
       "    </tr>\n",
       "  </tbody>\n",
       "</table>\n",
       "</div>"
      ],
      "text/plain": [
       "  vehicletype gearbox     power   model  kilometer  registrationmonth  \\\n",
       "0         bus    auto  0.528575      c4  -2.670185          -0.150276   \n",
       "1       sedan  manual  0.864240  vectra   0.589188          -0.150276   \n",
       "2         bus    auto  0.432671    vito   0.589188          -0.334437   \n",
       "3       wagon  manual  0.033070  passat   0.589188          -0.150276   \n",
       "4       wagon  manual -0.350547  passat   0.589188          -0.150276   \n",
       "\n",
       "   fueltype          brand repaired  \n",
       "0    petrol        citroen  unknown  \n",
       "1  gasoline           opel  unknown  \n",
       "2  gasoline  mercedes_benz      yes  \n",
       "3    petrol     volkswagen       no  \n",
       "4    petrol     volkswagen       no  "
      ]
     },
     "metadata": {},
     "output_type": "display_data"
    }
   ],
   "source": [
    "pd.options.mode.chained_assignment = None\n",
    "\n",
    "for col in data.select_dtypes(include=[\"object\"]):\n",
    "    data[col] = data[col].astype(\"category\")\n",
    "\n",
    "target = data[\"price\"]\n",
    "features = data.drop(\"price\", axis=1)\n",
    "features_train, features_valid_test, target_train, target_valid_test = train_test_split(\n",
    "    features, target, test_size=0.4, random_state=12345\n",
    ")\n",
    "\n",
    "features_valid, features_test, target_valid, target_test = train_test_split(\n",
    "    features_valid_test, target_valid_test, test_size=0.5, random_state=12345\n",
    ")\n",
    "\n",
    "numeric = [\"power\", \"kilometer\", \"registrationmonth\"]\n",
    "\n",
    "scaler = StandardScaler()\n",
    "features_train[numeric] = scaler.fit_transform(features_train[numeric])\n",
    "features_valid[numeric] = scaler.transform(features_valid[numeric])\n",
    "features_test[numeric] = scaler.transform(features_test[numeric])\n",
    "\n",
    "print('Размер \"features_train\":', features_train.shape)\n",
    "print('Размер \"features_valid\":', features_valid.shape)\n",
    "print('Размер \"features_test\":', features_test.shape)\n",
    "features_train = features_train.reset_index().drop([\"index\"], axis=1)\n",
    "features_valid = features_valid.reset_index().drop([\"index\"], axis=1)\n",
    "features_test = features_test.reset_index().drop([\"index\"], axis=1)\n",
    "display(features_train.head())"
   ]
  },
  {
   "cell_type": "markdown",
   "metadata": {},
   "source": [
    "Закодируем категориальные признаки как однократный числовой массив."
   ]
  },
  {
   "cell_type": "code",
   "execution_count": 20,
   "metadata": {},
   "outputs": [
    {
     "data": {
      "text/html": [
       "<div>\n",
       "<style scoped>\n",
       "    .dataframe tbody tr th:only-of-type {\n",
       "        vertical-align: middle;\n",
       "    }\n",
       "\n",
       "    .dataframe tbody tr th {\n",
       "        vertical-align: top;\n",
       "    }\n",
       "\n",
       "    .dataframe thead th {\n",
       "        text-align: right;\n",
       "    }\n",
       "</style>\n",
       "<table border=\"1\" class=\"dataframe\">\n",
       "  <thead>\n",
       "    <tr style=\"text-align: right;\">\n",
       "      <th></th>\n",
       "      <th>power</th>\n",
       "      <th>kilometer</th>\n",
       "      <th>registrationmonth</th>\n",
       "      <th>0</th>\n",
       "      <th>1</th>\n",
       "      <th>2</th>\n",
       "      <th>3</th>\n",
       "      <th>4</th>\n",
       "      <th>5</th>\n",
       "      <th>6</th>\n",
       "      <th>...</th>\n",
       "      <th>299</th>\n",
       "      <th>300</th>\n",
       "      <th>301</th>\n",
       "      <th>302</th>\n",
       "      <th>303</th>\n",
       "      <th>304</th>\n",
       "      <th>305</th>\n",
       "      <th>306</th>\n",
       "      <th>307</th>\n",
       "      <th>308</th>\n",
       "    </tr>\n",
       "  </thead>\n",
       "  <tbody>\n",
       "    <tr>\n",
       "      <th>0</th>\n",
       "      <td>0.528575</td>\n",
       "      <td>-2.670185</td>\n",
       "      <td>-0.150276</td>\n",
       "      <td>1.0</td>\n",
       "      <td>0.0</td>\n",
       "      <td>0.0</td>\n",
       "      <td>0.0</td>\n",
       "      <td>0.0</td>\n",
       "      <td>0.0</td>\n",
       "      <td>0.0</td>\n",
       "      <td>...</td>\n",
       "      <td>0.0</td>\n",
       "      <td>0.0</td>\n",
       "      <td>0.0</td>\n",
       "      <td>0.0</td>\n",
       "      <td>0.0</td>\n",
       "      <td>0.0</td>\n",
       "      <td>0.0</td>\n",
       "      <td>0.0</td>\n",
       "      <td>1.0</td>\n",
       "      <td>0.0</td>\n",
       "    </tr>\n",
       "    <tr>\n",
       "      <th>1</th>\n",
       "      <td>0.864240</td>\n",
       "      <td>0.589188</td>\n",
       "      <td>-0.150276</td>\n",
       "      <td>0.0</td>\n",
       "      <td>0.0</td>\n",
       "      <td>0.0</td>\n",
       "      <td>0.0</td>\n",
       "      <td>1.0</td>\n",
       "      <td>0.0</td>\n",
       "      <td>0.0</td>\n",
       "      <td>...</td>\n",
       "      <td>0.0</td>\n",
       "      <td>0.0</td>\n",
       "      <td>0.0</td>\n",
       "      <td>0.0</td>\n",
       "      <td>0.0</td>\n",
       "      <td>0.0</td>\n",
       "      <td>0.0</td>\n",
       "      <td>0.0</td>\n",
       "      <td>1.0</td>\n",
       "      <td>0.0</td>\n",
       "    </tr>\n",
       "    <tr>\n",
       "      <th>2</th>\n",
       "      <td>0.432671</td>\n",
       "      <td>0.589188</td>\n",
       "      <td>-0.334437</td>\n",
       "      <td>1.0</td>\n",
       "      <td>0.0</td>\n",
       "      <td>0.0</td>\n",
       "      <td>0.0</td>\n",
       "      <td>0.0</td>\n",
       "      <td>0.0</td>\n",
       "      <td>0.0</td>\n",
       "      <td>...</td>\n",
       "      <td>0.0</td>\n",
       "      <td>0.0</td>\n",
       "      <td>0.0</td>\n",
       "      <td>0.0</td>\n",
       "      <td>0.0</td>\n",
       "      <td>0.0</td>\n",
       "      <td>0.0</td>\n",
       "      <td>0.0</td>\n",
       "      <td>0.0</td>\n",
       "      <td>1.0</td>\n",
       "    </tr>\n",
       "    <tr>\n",
       "      <th>3</th>\n",
       "      <td>0.033070</td>\n",
       "      <td>0.589188</td>\n",
       "      <td>-0.150276</td>\n",
       "      <td>0.0</td>\n",
       "      <td>0.0</td>\n",
       "      <td>0.0</td>\n",
       "      <td>0.0</td>\n",
       "      <td>0.0</td>\n",
       "      <td>0.0</td>\n",
       "      <td>0.0</td>\n",
       "      <td>...</td>\n",
       "      <td>0.0</td>\n",
       "      <td>0.0</td>\n",
       "      <td>0.0</td>\n",
       "      <td>0.0</td>\n",
       "      <td>0.0</td>\n",
       "      <td>1.0</td>\n",
       "      <td>0.0</td>\n",
       "      <td>1.0</td>\n",
       "      <td>0.0</td>\n",
       "      <td>0.0</td>\n",
       "    </tr>\n",
       "    <tr>\n",
       "      <th>4</th>\n",
       "      <td>-0.350547</td>\n",
       "      <td>0.589188</td>\n",
       "      <td>-0.150276</td>\n",
       "      <td>0.0</td>\n",
       "      <td>0.0</td>\n",
       "      <td>0.0</td>\n",
       "      <td>0.0</td>\n",
       "      <td>0.0</td>\n",
       "      <td>0.0</td>\n",
       "      <td>0.0</td>\n",
       "      <td>...</td>\n",
       "      <td>0.0</td>\n",
       "      <td>0.0</td>\n",
       "      <td>0.0</td>\n",
       "      <td>0.0</td>\n",
       "      <td>0.0</td>\n",
       "      <td>1.0</td>\n",
       "      <td>0.0</td>\n",
       "      <td>1.0</td>\n",
       "      <td>0.0</td>\n",
       "      <td>0.0</td>\n",
       "    </tr>\n",
       "  </tbody>\n",
       "</table>\n",
       "<p>5 rows × 312 columns</p>\n",
       "</div>"
      ],
      "text/plain": [
       "      power  kilometer  registrationmonth    0    1    2    3    4    5    6  \\\n",
       "0  0.528575  -2.670185          -0.150276  1.0  0.0  0.0  0.0  0.0  0.0  0.0   \n",
       "1  0.864240   0.589188          -0.150276  0.0  0.0  0.0  0.0  1.0  0.0  0.0   \n",
       "2  0.432671   0.589188          -0.334437  1.0  0.0  0.0  0.0  0.0  0.0  0.0   \n",
       "3  0.033070   0.589188          -0.150276  0.0  0.0  0.0  0.0  0.0  0.0  0.0   \n",
       "4 -0.350547   0.589188          -0.150276  0.0  0.0  0.0  0.0  0.0  0.0  0.0   \n",
       "\n",
       "   ...  299  300  301  302  303  304  305  306  307  308  \n",
       "0  ...  0.0  0.0  0.0  0.0  0.0  0.0  0.0  0.0  1.0  0.0  \n",
       "1  ...  0.0  0.0  0.0  0.0  0.0  0.0  0.0  0.0  1.0  0.0  \n",
       "2  ...  0.0  0.0  0.0  0.0  0.0  0.0  0.0  0.0  0.0  1.0  \n",
       "3  ...  0.0  0.0  0.0  0.0  0.0  1.0  0.0  1.0  0.0  0.0  \n",
       "4  ...  0.0  0.0  0.0  0.0  0.0  1.0  0.0  1.0  0.0  0.0  \n",
       "\n",
       "[5 rows x 312 columns]"
      ]
     },
     "metadata": {},
     "output_type": "display_data"
    },
    {
     "data": {
      "text/html": [
       "<div>\n",
       "<style scoped>\n",
       "    .dataframe tbody tr th:only-of-type {\n",
       "        vertical-align: middle;\n",
       "    }\n",
       "\n",
       "    .dataframe tbody tr th {\n",
       "        vertical-align: top;\n",
       "    }\n",
       "\n",
       "    .dataframe thead th {\n",
       "        text-align: right;\n",
       "    }\n",
       "</style>\n",
       "<table border=\"1\" class=\"dataframe\">\n",
       "  <thead>\n",
       "    <tr style=\"text-align: right;\">\n",
       "      <th></th>\n",
       "      <th>power</th>\n",
       "      <th>kilometer</th>\n",
       "      <th>registrationmonth</th>\n",
       "      <th>0</th>\n",
       "      <th>1</th>\n",
       "      <th>2</th>\n",
       "      <th>3</th>\n",
       "      <th>4</th>\n",
       "      <th>5</th>\n",
       "      <th>6</th>\n",
       "      <th>...</th>\n",
       "      <th>299</th>\n",
       "      <th>300</th>\n",
       "      <th>301</th>\n",
       "      <th>302</th>\n",
       "      <th>303</th>\n",
       "      <th>304</th>\n",
       "      <th>305</th>\n",
       "      <th>306</th>\n",
       "      <th>307</th>\n",
       "      <th>308</th>\n",
       "    </tr>\n",
       "  </thead>\n",
       "  <tbody>\n",
       "    <tr>\n",
       "      <th>0</th>\n",
       "      <td>-1.245653</td>\n",
       "      <td>0.589188</td>\n",
       "      <td>-0.113444</td>\n",
       "      <td>0.0</td>\n",
       "      <td>0.0</td>\n",
       "      <td>0.0</td>\n",
       "      <td>0.0</td>\n",
       "      <td>0.0</td>\n",
       "      <td>1.0</td>\n",
       "      <td>0.0</td>\n",
       "      <td>...</td>\n",
       "      <td>0.0</td>\n",
       "      <td>0.0</td>\n",
       "      <td>0.0</td>\n",
       "      <td>0.0</td>\n",
       "      <td>0.0</td>\n",
       "      <td>0.0</td>\n",
       "      <td>0.0</td>\n",
       "      <td>1.0</td>\n",
       "      <td>0.0</td>\n",
       "      <td>0.0</td>\n",
       "    </tr>\n",
       "    <tr>\n",
       "      <th>1</th>\n",
       "      <td>-0.222674</td>\n",
       "      <td>-1.312113</td>\n",
       "      <td>-0.444933</td>\n",
       "      <td>0.0</td>\n",
       "      <td>0.0</td>\n",
       "      <td>0.0</td>\n",
       "      <td>0.0</td>\n",
       "      <td>0.0</td>\n",
       "      <td>0.0</td>\n",
       "      <td>1.0</td>\n",
       "      <td>...</td>\n",
       "      <td>0.0</td>\n",
       "      <td>0.0</td>\n",
       "      <td>0.0</td>\n",
       "      <td>0.0</td>\n",
       "      <td>0.0</td>\n",
       "      <td>0.0</td>\n",
       "      <td>0.0</td>\n",
       "      <td>1.0</td>\n",
       "      <td>0.0</td>\n",
       "      <td>0.0</td>\n",
       "    </tr>\n",
       "    <tr>\n",
       "      <th>2</th>\n",
       "      <td>-0.846052</td>\n",
       "      <td>0.589188</td>\n",
       "      <td>-0.408101</td>\n",
       "      <td>0.0</td>\n",
       "      <td>0.0</td>\n",
       "      <td>0.0</td>\n",
       "      <td>0.0</td>\n",
       "      <td>1.0</td>\n",
       "      <td>0.0</td>\n",
       "      <td>0.0</td>\n",
       "      <td>...</td>\n",
       "      <td>0.0</td>\n",
       "      <td>0.0</td>\n",
       "      <td>0.0</td>\n",
       "      <td>0.0</td>\n",
       "      <td>0.0</td>\n",
       "      <td>1.0</td>\n",
       "      <td>0.0</td>\n",
       "      <td>0.0</td>\n",
       "      <td>1.0</td>\n",
       "      <td>0.0</td>\n",
       "    </tr>\n",
       "    <tr>\n",
       "      <th>3</th>\n",
       "      <td>-1.005892</td>\n",
       "      <td>-2.398570</td>\n",
       "      <td>-0.444933</td>\n",
       "      <td>0.0</td>\n",
       "      <td>0.0</td>\n",
       "      <td>0.0</td>\n",
       "      <td>0.0</td>\n",
       "      <td>0.0</td>\n",
       "      <td>1.0</td>\n",
       "      <td>0.0</td>\n",
       "      <td>...</td>\n",
       "      <td>0.0</td>\n",
       "      <td>0.0</td>\n",
       "      <td>0.0</td>\n",
       "      <td>0.0</td>\n",
       "      <td>0.0</td>\n",
       "      <td>1.0</td>\n",
       "      <td>0.0</td>\n",
       "      <td>1.0</td>\n",
       "      <td>0.0</td>\n",
       "      <td>0.0</td>\n",
       "    </tr>\n",
       "    <tr>\n",
       "      <th>4</th>\n",
       "      <td>0.640464</td>\n",
       "      <td>0.589188</td>\n",
       "      <td>-0.076612</td>\n",
       "      <td>0.0</td>\n",
       "      <td>0.0</td>\n",
       "      <td>0.0</td>\n",
       "      <td>0.0</td>\n",
       "      <td>0.0</td>\n",
       "      <td>0.0</td>\n",
       "      <td>0.0</td>\n",
       "      <td>...</td>\n",
       "      <td>0.0</td>\n",
       "      <td>0.0</td>\n",
       "      <td>0.0</td>\n",
       "      <td>0.0</td>\n",
       "      <td>0.0</td>\n",
       "      <td>0.0</td>\n",
       "      <td>0.0</td>\n",
       "      <td>1.0</td>\n",
       "      <td>0.0</td>\n",
       "      <td>0.0</td>\n",
       "    </tr>\n",
       "  </tbody>\n",
       "</table>\n",
       "<p>5 rows × 312 columns</p>\n",
       "</div>"
      ],
      "text/plain": [
       "      power  kilometer  registrationmonth    0    1    2    3    4    5    6  \\\n",
       "0 -1.245653   0.589188          -0.113444  0.0  0.0  0.0  0.0  0.0  1.0  0.0   \n",
       "1 -0.222674  -1.312113          -0.444933  0.0  0.0  0.0  0.0  0.0  0.0  1.0   \n",
       "2 -0.846052   0.589188          -0.408101  0.0  0.0  0.0  0.0  1.0  0.0  0.0   \n",
       "3 -1.005892  -2.398570          -0.444933  0.0  0.0  0.0  0.0  0.0  1.0  0.0   \n",
       "4  0.640464   0.589188          -0.076612  0.0  0.0  0.0  0.0  0.0  0.0  0.0   \n",
       "\n",
       "   ...  299  300  301  302  303  304  305  306  307  308  \n",
       "0  ...  0.0  0.0  0.0  0.0  0.0  0.0  0.0  1.0  0.0  0.0  \n",
       "1  ...  0.0  0.0  0.0  0.0  0.0  0.0  0.0  1.0  0.0  0.0  \n",
       "2  ...  0.0  0.0  0.0  0.0  0.0  1.0  0.0  0.0  1.0  0.0  \n",
       "3  ...  0.0  0.0  0.0  0.0  0.0  1.0  0.0  1.0  0.0  0.0  \n",
       "4  ...  0.0  0.0  0.0  0.0  0.0  0.0  0.0  1.0  0.0  0.0  \n",
       "\n",
       "[5 rows x 312 columns]"
      ]
     },
     "metadata": {},
     "output_type": "display_data"
    },
    {
     "data": {
      "text/html": [
       "<div>\n",
       "<style scoped>\n",
       "    .dataframe tbody tr th:only-of-type {\n",
       "        vertical-align: middle;\n",
       "    }\n",
       "\n",
       "    .dataframe tbody tr th {\n",
       "        vertical-align: top;\n",
       "    }\n",
       "\n",
       "    .dataframe thead th {\n",
       "        text-align: right;\n",
       "    }\n",
       "</style>\n",
       "<table border=\"1\" class=\"dataframe\">\n",
       "  <thead>\n",
       "    <tr style=\"text-align: right;\">\n",
       "      <th></th>\n",
       "      <th>power</th>\n",
       "      <th>kilometer</th>\n",
       "      <th>registrationmonth</th>\n",
       "      <th>0</th>\n",
       "      <th>1</th>\n",
       "      <th>2</th>\n",
       "      <th>3</th>\n",
       "      <th>4</th>\n",
       "      <th>5</th>\n",
       "      <th>6</th>\n",
       "      <th>...</th>\n",
       "      <th>299</th>\n",
       "      <th>300</th>\n",
       "      <th>301</th>\n",
       "      <th>302</th>\n",
       "      <th>303</th>\n",
       "      <th>304</th>\n",
       "      <th>305</th>\n",
       "      <th>306</th>\n",
       "      <th>307</th>\n",
       "      <th>308</th>\n",
       "    </tr>\n",
       "  </thead>\n",
       "  <tbody>\n",
       "    <tr>\n",
       "      <th>0</th>\n",
       "      <td>0.528575</td>\n",
       "      <td>-2.670185</td>\n",
       "      <td>-0.150276</td>\n",
       "      <td>1.0</td>\n",
       "      <td>0.0</td>\n",
       "      <td>0.0</td>\n",
       "      <td>0.0</td>\n",
       "      <td>0.0</td>\n",
       "      <td>0.0</td>\n",
       "      <td>0.0</td>\n",
       "      <td>...</td>\n",
       "      <td>0.0</td>\n",
       "      <td>0.0</td>\n",
       "      <td>0.0</td>\n",
       "      <td>0.0</td>\n",
       "      <td>0.0</td>\n",
       "      <td>0.0</td>\n",
       "      <td>0.0</td>\n",
       "      <td>0.0</td>\n",
       "      <td>1.0</td>\n",
       "      <td>0.0</td>\n",
       "    </tr>\n",
       "    <tr>\n",
       "      <th>1</th>\n",
       "      <td>0.864240</td>\n",
       "      <td>0.589188</td>\n",
       "      <td>-0.150276</td>\n",
       "      <td>0.0</td>\n",
       "      <td>0.0</td>\n",
       "      <td>0.0</td>\n",
       "      <td>0.0</td>\n",
       "      <td>1.0</td>\n",
       "      <td>0.0</td>\n",
       "      <td>0.0</td>\n",
       "      <td>...</td>\n",
       "      <td>0.0</td>\n",
       "      <td>0.0</td>\n",
       "      <td>0.0</td>\n",
       "      <td>0.0</td>\n",
       "      <td>0.0</td>\n",
       "      <td>0.0</td>\n",
       "      <td>0.0</td>\n",
       "      <td>0.0</td>\n",
       "      <td>1.0</td>\n",
       "      <td>0.0</td>\n",
       "    </tr>\n",
       "    <tr>\n",
       "      <th>2</th>\n",
       "      <td>0.432671</td>\n",
       "      <td>0.589188</td>\n",
       "      <td>-0.334437</td>\n",
       "      <td>1.0</td>\n",
       "      <td>0.0</td>\n",
       "      <td>0.0</td>\n",
       "      <td>0.0</td>\n",
       "      <td>0.0</td>\n",
       "      <td>0.0</td>\n",
       "      <td>0.0</td>\n",
       "      <td>...</td>\n",
       "      <td>0.0</td>\n",
       "      <td>0.0</td>\n",
       "      <td>0.0</td>\n",
       "      <td>0.0</td>\n",
       "      <td>0.0</td>\n",
       "      <td>0.0</td>\n",
       "      <td>0.0</td>\n",
       "      <td>0.0</td>\n",
       "      <td>0.0</td>\n",
       "      <td>1.0</td>\n",
       "    </tr>\n",
       "    <tr>\n",
       "      <th>3</th>\n",
       "      <td>0.033070</td>\n",
       "      <td>0.589188</td>\n",
       "      <td>-0.150276</td>\n",
       "      <td>0.0</td>\n",
       "      <td>0.0</td>\n",
       "      <td>0.0</td>\n",
       "      <td>0.0</td>\n",
       "      <td>0.0</td>\n",
       "      <td>0.0</td>\n",
       "      <td>0.0</td>\n",
       "      <td>...</td>\n",
       "      <td>0.0</td>\n",
       "      <td>0.0</td>\n",
       "      <td>0.0</td>\n",
       "      <td>0.0</td>\n",
       "      <td>0.0</td>\n",
       "      <td>1.0</td>\n",
       "      <td>0.0</td>\n",
       "      <td>1.0</td>\n",
       "      <td>0.0</td>\n",
       "      <td>0.0</td>\n",
       "    </tr>\n",
       "    <tr>\n",
       "      <th>4</th>\n",
       "      <td>-0.350547</td>\n",
       "      <td>0.589188</td>\n",
       "      <td>-0.150276</td>\n",
       "      <td>0.0</td>\n",
       "      <td>0.0</td>\n",
       "      <td>0.0</td>\n",
       "      <td>0.0</td>\n",
       "      <td>0.0</td>\n",
       "      <td>0.0</td>\n",
       "      <td>0.0</td>\n",
       "      <td>...</td>\n",
       "      <td>0.0</td>\n",
       "      <td>0.0</td>\n",
       "      <td>0.0</td>\n",
       "      <td>0.0</td>\n",
       "      <td>0.0</td>\n",
       "      <td>1.0</td>\n",
       "      <td>0.0</td>\n",
       "      <td>1.0</td>\n",
       "      <td>0.0</td>\n",
       "      <td>0.0</td>\n",
       "    </tr>\n",
       "  </tbody>\n",
       "</table>\n",
       "<p>5 rows × 312 columns</p>\n",
       "</div>"
      ],
      "text/plain": [
       "      power  kilometer  registrationmonth    0    1    2    3    4    5    6  \\\n",
       "0  0.528575  -2.670185          -0.150276  1.0  0.0  0.0  0.0  0.0  0.0  0.0   \n",
       "1  0.864240   0.589188          -0.150276  0.0  0.0  0.0  0.0  1.0  0.0  0.0   \n",
       "2  0.432671   0.589188          -0.334437  1.0  0.0  0.0  0.0  0.0  0.0  0.0   \n",
       "3  0.033070   0.589188          -0.150276  0.0  0.0  0.0  0.0  0.0  0.0  0.0   \n",
       "4 -0.350547   0.589188          -0.150276  0.0  0.0  0.0  0.0  0.0  0.0  0.0   \n",
       "\n",
       "   ...  299  300  301  302  303  304  305  306  307  308  \n",
       "0  ...  0.0  0.0  0.0  0.0  0.0  0.0  0.0  0.0  1.0  0.0  \n",
       "1  ...  0.0  0.0  0.0  0.0  0.0  0.0  0.0  0.0  1.0  0.0  \n",
       "2  ...  0.0  0.0  0.0  0.0  0.0  0.0  0.0  0.0  0.0  1.0  \n",
       "3  ...  0.0  0.0  0.0  0.0  0.0  1.0  0.0  1.0  0.0  0.0  \n",
       "4  ...  0.0  0.0  0.0  0.0  0.0  1.0  0.0  1.0  0.0  0.0  \n",
       "\n",
       "[5 rows x 312 columns]"
      ]
     },
     "metadata": {},
     "output_type": "display_data"
    }
   ],
   "source": [
    "# создадим OneHotEncoder\n",
    "\n",
    "encoder = OneHotEncoder(handle_unknown=\"ignore\")\n",
    "features_train_ohe = pd.DataFrame(\n",
    "    encoder.fit_transform(\n",
    "        features_train[\n",
    "            [\"vehicletype\", \"gearbox\", \"model\", \"fueltype\", \"brand\", \"repaired\"]\n",
    "        ]\n",
    "    ).toarray()\n",
    ")\n",
    "features_valid_ohe = pd.DataFrame(\n",
    "    encoder.transform(\n",
    "        features_valid[\n",
    "            [\"vehicletype\", \"gearbox\", \"model\", \"fueltype\", \"brand\", \"repaired\"]\n",
    "        ]\n",
    "    ).toarray()\n",
    ")\n",
    "features_test_ohe = pd.DataFrame(\n",
    "    encoder.transform(\n",
    "        features_test[\n",
    "            [\"vehicletype\", \"gearbox\", \"model\", \"fueltype\", \"brand\", \"repaired\"]\n",
    "        ]\n",
    "    ).toarray()\n",
    ")\n",
    "features_train_ohe = features_train.join(features_train_ohe)\n",
    "features_train_ohe = features_train_ohe.drop(\n",
    "    [\"vehicletype\", \"gearbox\", \"model\", \"fueltype\", \"brand\", \"repaired\"], axis=1\n",
    ")\n",
    "features_valid_ohe = features_valid.join(features_valid_ohe)\n",
    "features_valid_ohe = features_valid_ohe.drop(\n",
    "    [\"vehicletype\", \"gearbox\", \"model\", \"fueltype\", \"brand\", \"repaired\"], axis=1\n",
    ")\n",
    "features_test_ohe = features_test.join(features_test_ohe)\n",
    "features_test_ohe = features_test_ohe.drop(\n",
    "    [\"vehicletype\", \"gearbox\", \"model\", \"fueltype\", \"brand\", \"repaired\"], axis=1\n",
    ")\n",
    "display(features_train_ohe.head())\n",
    "display(features_valid_ohe.head())\n",
    "display(features_train_ohe.head())"
   ]
  },
  {
   "cell_type": "markdown",
   "metadata": {},
   "source": [
    "С помощью GridSearchCV определим лучшие параметры по параметру MSE для модели DecisionTreeRegressor."
   ]
  },
  {
   "cell_type": "code",
   "execution_count": 21,
   "metadata": {},
   "outputs": [
    {
     "name": "stdout",
     "output_type": "stream",
     "text": [
      "Fitting 5 folds for each of 80 candidates, totalling 400 fits\n",
      "[CV 1/5; 1/80] START max_depth=1, min_samples_leaf=2, min_samples_split=2.......\n",
      "[CV 1/5; 1/80] END max_depth=1, min_samples_leaf=2, min_samples_split=2; total time=   0.7s\n",
      "[CV 2/5; 1/80] START max_depth=1, min_samples_leaf=2, min_samples_split=2.......\n",
      "[CV 2/5; 1/80] END max_depth=1, min_samples_leaf=2, min_samples_split=2; total time=   0.8s\n",
      "[CV 3/5; 1/80] START max_depth=1, min_samples_leaf=2, min_samples_split=2.......\n",
      "[CV 3/5; 1/80] END max_depth=1, min_samples_leaf=2, min_samples_split=2; total time=   0.7s\n",
      "[CV 4/5; 1/80] START max_depth=1, min_samples_leaf=2, min_samples_split=2.......\n",
      "[CV 4/5; 1/80] END max_depth=1, min_samples_leaf=2, min_samples_split=2; total time=   0.7s\n",
      "[CV 5/5; 1/80] START max_depth=1, min_samples_leaf=2, min_samples_split=2.......\n",
      "[CV 5/5; 1/80] END max_depth=1, min_samples_leaf=2, min_samples_split=2; total time=   0.7s\n",
      "[CV 1/5; 2/80] START max_depth=1, min_samples_leaf=2, min_samples_split=4.......\n",
      "[CV 1/5; 2/80] END max_depth=1, min_samples_leaf=2, min_samples_split=4; total time=   0.7s\n",
      "[CV 2/5; 2/80] START max_depth=1, min_samples_leaf=2, min_samples_split=4.......\n",
      "[CV 2/5; 2/80] END max_depth=1, min_samples_leaf=2, min_samples_split=4; total time=   0.7s\n",
      "[CV 3/5; 2/80] START max_depth=1, min_samples_leaf=2, min_samples_split=4.......\n",
      "[CV 3/5; 2/80] END max_depth=1, min_samples_leaf=2, min_samples_split=4; total time=   0.7s\n",
      "[CV 4/5; 2/80] START max_depth=1, min_samples_leaf=2, min_samples_split=4.......\n",
      "[CV 4/5; 2/80] END max_depth=1, min_samples_leaf=2, min_samples_split=4; total time=   0.7s\n",
      "[CV 5/5; 2/80] START max_depth=1, min_samples_leaf=2, min_samples_split=4.......\n",
      "[CV 5/5; 2/80] END max_depth=1, min_samples_leaf=2, min_samples_split=4; total time=   0.6s\n",
      "[CV 1/5; 3/80] START max_depth=1, min_samples_leaf=2, min_samples_split=6.......\n",
      "[CV 1/5; 3/80] END max_depth=1, min_samples_leaf=2, min_samples_split=6; total time=   0.6s\n",
      "[CV 2/5; 3/80] START max_depth=1, min_samples_leaf=2, min_samples_split=6.......\n",
      "[CV 2/5; 3/80] END max_depth=1, min_samples_leaf=2, min_samples_split=6; total time=   0.6s\n",
      "[CV 3/5; 3/80] START max_depth=1, min_samples_leaf=2, min_samples_split=6.......\n",
      "[CV 3/5; 3/80] END max_depth=1, min_samples_leaf=2, min_samples_split=6; total time=   0.6s\n",
      "[CV 4/5; 3/80] START max_depth=1, min_samples_leaf=2, min_samples_split=6.......\n",
      "[CV 4/5; 3/80] END max_depth=1, min_samples_leaf=2, min_samples_split=6; total time=   0.6s\n",
      "[CV 5/5; 3/80] START max_depth=1, min_samples_leaf=2, min_samples_split=6.......\n",
      "[CV 5/5; 3/80] END max_depth=1, min_samples_leaf=2, min_samples_split=6; total time=   0.6s\n",
      "[CV 1/5; 4/80] START max_depth=1, min_samples_leaf=2, min_samples_split=8.......\n",
      "[CV 1/5; 4/80] END max_depth=1, min_samples_leaf=2, min_samples_split=8; total time=   0.6s\n",
      "[CV 2/5; 4/80] START max_depth=1, min_samples_leaf=2, min_samples_split=8.......\n",
      "[CV 2/5; 4/80] END max_depth=1, min_samples_leaf=2, min_samples_split=8; total time=   0.6s\n",
      "[CV 3/5; 4/80] START max_depth=1, min_samples_leaf=2, min_samples_split=8.......\n",
      "[CV 3/5; 4/80] END max_depth=1, min_samples_leaf=2, min_samples_split=8; total time=   0.6s\n",
      "[CV 4/5; 4/80] START max_depth=1, min_samples_leaf=2, min_samples_split=8.......\n",
      "[CV 4/5; 4/80] END max_depth=1, min_samples_leaf=2, min_samples_split=8; total time=   0.6s\n",
      "[CV 5/5; 4/80] START max_depth=1, min_samples_leaf=2, min_samples_split=8.......\n",
      "[CV 5/5; 4/80] END max_depth=1, min_samples_leaf=2, min_samples_split=8; total time=   0.6s\n",
      "[CV 1/5; 5/80] START max_depth=1, min_samples_leaf=4, min_samples_split=2.......\n",
      "[CV 1/5; 5/80] END max_depth=1, min_samples_leaf=4, min_samples_split=2; total time=   0.7s\n",
      "[CV 2/5; 5/80] START max_depth=1, min_samples_leaf=4, min_samples_split=2.......\n",
      "[CV 2/5; 5/80] END max_depth=1, min_samples_leaf=4, min_samples_split=2; total time=   0.7s\n",
      "[CV 3/5; 5/80] START max_depth=1, min_samples_leaf=4, min_samples_split=2.......\n",
      "[CV 3/5; 5/80] END max_depth=1, min_samples_leaf=4, min_samples_split=2; total time=   0.7s\n",
      "[CV 4/5; 5/80] START max_depth=1, min_samples_leaf=4, min_samples_split=2.......\n",
      "[CV 4/5; 5/80] END max_depth=1, min_samples_leaf=4, min_samples_split=2; total time=   0.7s\n",
      "[CV 5/5; 5/80] START max_depth=1, min_samples_leaf=4, min_samples_split=2.......\n",
      "[CV 5/5; 5/80] END max_depth=1, min_samples_leaf=4, min_samples_split=2; total time=   0.6s\n",
      "[CV 1/5; 6/80] START max_depth=1, min_samples_leaf=4, min_samples_split=4.......\n",
      "[CV 1/5; 6/80] END max_depth=1, min_samples_leaf=4, min_samples_split=4; total time=   0.7s\n",
      "[CV 2/5; 6/80] START max_depth=1, min_samples_leaf=4, min_samples_split=4.......\n",
      "[CV 2/5; 6/80] END max_depth=1, min_samples_leaf=4, min_samples_split=4; total time=   0.6s\n",
      "[CV 3/5; 6/80] START max_depth=1, min_samples_leaf=4, min_samples_split=4.......\n",
      "[CV 3/5; 6/80] END max_depth=1, min_samples_leaf=4, min_samples_split=4; total time=   0.6s\n",
      "[CV 4/5; 6/80] START max_depth=1, min_samples_leaf=4, min_samples_split=4.......\n",
      "[CV 4/5; 6/80] END max_depth=1, min_samples_leaf=4, min_samples_split=4; total time=   0.6s\n",
      "[CV 5/5; 6/80] START max_depth=1, min_samples_leaf=4, min_samples_split=4.......\n",
      "[CV 5/5; 6/80] END max_depth=1, min_samples_leaf=4, min_samples_split=4; total time=   0.6s\n",
      "[CV 1/5; 7/80] START max_depth=1, min_samples_leaf=4, min_samples_split=6.......\n",
      "[CV 1/5; 7/80] END max_depth=1, min_samples_leaf=4, min_samples_split=6; total time=   0.6s\n",
      "[CV 2/5; 7/80] START max_depth=1, min_samples_leaf=4, min_samples_split=6.......\n",
      "[CV 2/5; 7/80] END max_depth=1, min_samples_leaf=4, min_samples_split=6; total time=   0.6s\n",
      "[CV 3/5; 7/80] START max_depth=1, min_samples_leaf=4, min_samples_split=6.......\n",
      "[CV 3/5; 7/80] END max_depth=1, min_samples_leaf=4, min_samples_split=6; total time=   0.7s\n",
      "[CV 4/5; 7/80] START max_depth=1, min_samples_leaf=4, min_samples_split=6.......\n",
      "[CV 4/5; 7/80] END max_depth=1, min_samples_leaf=4, min_samples_split=6; total time=   0.7s\n",
      "[CV 5/5; 7/80] START max_depth=1, min_samples_leaf=4, min_samples_split=6.......\n",
      "[CV 5/5; 7/80] END max_depth=1, min_samples_leaf=4, min_samples_split=6; total time=   0.7s\n",
      "[CV 1/5; 8/80] START max_depth=1, min_samples_leaf=4, min_samples_split=8.......\n",
      "[CV 1/5; 8/80] END max_depth=1, min_samples_leaf=4, min_samples_split=8; total time=   0.6s\n",
      "[CV 2/5; 8/80] START max_depth=1, min_samples_leaf=4, min_samples_split=8.......\n",
      "[CV 2/5; 8/80] END max_depth=1, min_samples_leaf=4, min_samples_split=8; total time=   0.7s\n",
      "[CV 3/5; 8/80] START max_depth=1, min_samples_leaf=4, min_samples_split=8.......\n",
      "[CV 3/5; 8/80] END max_depth=1, min_samples_leaf=4, min_samples_split=8; total time=   0.6s\n",
      "[CV 4/5; 8/80] START max_depth=1, min_samples_leaf=4, min_samples_split=8.......\n",
      "[CV 4/5; 8/80] END max_depth=1, min_samples_leaf=4, min_samples_split=8; total time=   0.7s\n",
      "[CV 5/5; 8/80] START max_depth=1, min_samples_leaf=4, min_samples_split=8.......\n",
      "[CV 5/5; 8/80] END max_depth=1, min_samples_leaf=4, min_samples_split=8; total time=   0.6s\n",
      "[CV 1/5; 9/80] START max_depth=1, min_samples_leaf=6, min_samples_split=2.......\n",
      "[CV 1/5; 9/80] END max_depth=1, min_samples_leaf=6, min_samples_split=2; total time=   0.7s\n",
      "[CV 2/5; 9/80] START max_depth=1, min_samples_leaf=6, min_samples_split=2.......\n",
      "[CV 2/5; 9/80] END max_depth=1, min_samples_leaf=6, min_samples_split=2; total time=   0.6s\n",
      "[CV 3/5; 9/80] START max_depth=1, min_samples_leaf=6, min_samples_split=2.......\n",
      "[CV 3/5; 9/80] END max_depth=1, min_samples_leaf=6, min_samples_split=2; total time=   0.7s\n",
      "[CV 4/5; 9/80] START max_depth=1, min_samples_leaf=6, min_samples_split=2.......\n",
      "[CV 4/5; 9/80] END max_depth=1, min_samples_leaf=6, min_samples_split=2; total time=   0.7s\n",
      "[CV 5/5; 9/80] START max_depth=1, min_samples_leaf=6, min_samples_split=2.......\n",
      "[CV 5/5; 9/80] END max_depth=1, min_samples_leaf=6, min_samples_split=2; total time=   0.6s\n",
      "[CV 1/5; 10/80] START max_depth=1, min_samples_leaf=6, min_samples_split=4......\n",
      "[CV 1/5; 10/80] END max_depth=1, min_samples_leaf=6, min_samples_split=4; total time=   0.6s\n",
      "[CV 2/5; 10/80] START max_depth=1, min_samples_leaf=6, min_samples_split=4......\n",
      "[CV 2/5; 10/80] END max_depth=1, min_samples_leaf=6, min_samples_split=4; total time=   0.6s\n",
      "[CV 3/5; 10/80] START max_depth=1, min_samples_leaf=6, min_samples_split=4......\n",
      "[CV 3/5; 10/80] END max_depth=1, min_samples_leaf=6, min_samples_split=4; total time=   0.6s\n",
      "[CV 4/5; 10/80] START max_depth=1, min_samples_leaf=6, min_samples_split=4......\n",
      "[CV 4/5; 10/80] END max_depth=1, min_samples_leaf=6, min_samples_split=4; total time=   0.6s\n",
      "[CV 5/5; 10/80] START max_depth=1, min_samples_leaf=6, min_samples_split=4......\n",
      "[CV 5/5; 10/80] END max_depth=1, min_samples_leaf=6, min_samples_split=4; total time=   0.7s\n",
      "[CV 1/5; 11/80] START max_depth=1, min_samples_leaf=6, min_samples_split=6......\n",
      "[CV 1/5; 11/80] END max_depth=1, min_samples_leaf=6, min_samples_split=6; total time=   0.7s\n",
      "[CV 2/5; 11/80] START max_depth=1, min_samples_leaf=6, min_samples_split=6......\n",
      "[CV 2/5; 11/80] END max_depth=1, min_samples_leaf=6, min_samples_split=6; total time=   0.7s\n",
      "[CV 3/5; 11/80] START max_depth=1, min_samples_leaf=6, min_samples_split=6......\n",
      "[CV 3/5; 11/80] END max_depth=1, min_samples_leaf=6, min_samples_split=6; total time=   0.6s\n",
      "[CV 4/5; 11/80] START max_depth=1, min_samples_leaf=6, min_samples_split=6......\n",
      "[CV 4/5; 11/80] END max_depth=1, min_samples_leaf=6, min_samples_split=6; total time=   0.6s\n",
      "[CV 5/5; 11/80] START max_depth=1, min_samples_leaf=6, min_samples_split=6......\n",
      "[CV 5/5; 11/80] END max_depth=1, min_samples_leaf=6, min_samples_split=6; total time=   0.7s\n",
      "[CV 1/5; 12/80] START max_depth=1, min_samples_leaf=6, min_samples_split=8......\n",
      "[CV 1/5; 12/80] END max_depth=1, min_samples_leaf=6, min_samples_split=8; total time=   0.6s\n",
      "[CV 2/5; 12/80] START max_depth=1, min_samples_leaf=6, min_samples_split=8......\n",
      "[CV 2/5; 12/80] END max_depth=1, min_samples_leaf=6, min_samples_split=8; total time=   0.7s\n",
      "[CV 3/5; 12/80] START max_depth=1, min_samples_leaf=6, min_samples_split=8......\n",
      "[CV 3/5; 12/80] END max_depth=1, min_samples_leaf=6, min_samples_split=8; total time=   0.6s\n",
      "[CV 4/5; 12/80] START max_depth=1, min_samples_leaf=6, min_samples_split=8......\n",
      "[CV 4/5; 12/80] END max_depth=1, min_samples_leaf=6, min_samples_split=8; total time=   0.7s\n",
      "[CV 5/5; 12/80] START max_depth=1, min_samples_leaf=6, min_samples_split=8......\n",
      "[CV 5/5; 12/80] END max_depth=1, min_samples_leaf=6, min_samples_split=8; total time=   0.7s\n",
      "[CV 1/5; 13/80] START max_depth=1, min_samples_leaf=8, min_samples_split=2......\n",
      "[CV 1/5; 13/80] END max_depth=1, min_samples_leaf=8, min_samples_split=2; total time=   0.7s\n",
      "[CV 2/5; 13/80] START max_depth=1, min_samples_leaf=8, min_samples_split=2......\n",
      "[CV 2/5; 13/80] END max_depth=1, min_samples_leaf=8, min_samples_split=2; total time=   0.6s\n",
      "[CV 3/5; 13/80] START max_depth=1, min_samples_leaf=8, min_samples_split=2......\n",
      "[CV 3/5; 13/80] END max_depth=1, min_samples_leaf=8, min_samples_split=2; total time=   0.6s\n",
      "[CV 4/5; 13/80] START max_depth=1, min_samples_leaf=8, min_samples_split=2......\n",
      "[CV 4/5; 13/80] END max_depth=1, min_samples_leaf=8, min_samples_split=2; total time=   0.7s\n",
      "[CV 5/5; 13/80] START max_depth=1, min_samples_leaf=8, min_samples_split=2......\n",
      "[CV 5/5; 13/80] END max_depth=1, min_samples_leaf=8, min_samples_split=2; total time=   0.6s\n",
      "[CV 1/5; 14/80] START max_depth=1, min_samples_leaf=8, min_samples_split=4......\n",
      "[CV 1/5; 14/80] END max_depth=1, min_samples_leaf=8, min_samples_split=4; total time=   0.7s\n",
      "[CV 2/5; 14/80] START max_depth=1, min_samples_leaf=8, min_samples_split=4......\n",
      "[CV 2/5; 14/80] END max_depth=1, min_samples_leaf=8, min_samples_split=4; total time=   0.7s\n",
      "[CV 3/5; 14/80] START max_depth=1, min_samples_leaf=8, min_samples_split=4......\n",
      "[CV 3/5; 14/80] END max_depth=1, min_samples_leaf=8, min_samples_split=4; total time=   0.7s\n",
      "[CV 4/5; 14/80] START max_depth=1, min_samples_leaf=8, min_samples_split=4......\n",
      "[CV 4/5; 14/80] END max_depth=1, min_samples_leaf=8, min_samples_split=4; total time=   0.6s\n",
      "[CV 5/5; 14/80] START max_depth=1, min_samples_leaf=8, min_samples_split=4......\n",
      "[CV 5/5; 14/80] END max_depth=1, min_samples_leaf=8, min_samples_split=4; total time=   0.6s\n",
      "[CV 1/5; 15/80] START max_depth=1, min_samples_leaf=8, min_samples_split=6......\n",
      "[CV 1/5; 15/80] END max_depth=1, min_samples_leaf=8, min_samples_split=6; total time=   0.7s\n",
      "[CV 2/5; 15/80] START max_depth=1, min_samples_leaf=8, min_samples_split=6......\n",
      "[CV 2/5; 15/80] END max_depth=1, min_samples_leaf=8, min_samples_split=6; total time=   0.6s\n",
      "[CV 3/5; 15/80] START max_depth=1, min_samples_leaf=8, min_samples_split=6......\n",
      "[CV 3/5; 15/80] END max_depth=1, min_samples_leaf=8, min_samples_split=6; total time=   0.6s\n",
      "[CV 4/5; 15/80] START max_depth=1, min_samples_leaf=8, min_samples_split=6......\n",
      "[CV 4/5; 15/80] END max_depth=1, min_samples_leaf=8, min_samples_split=6; total time=   0.6s\n",
      "[CV 5/5; 15/80] START max_depth=1, min_samples_leaf=8, min_samples_split=6......\n",
      "[CV 5/5; 15/80] END max_depth=1, min_samples_leaf=8, min_samples_split=6; total time=   0.6s\n",
      "[CV 1/5; 16/80] START max_depth=1, min_samples_leaf=8, min_samples_split=8......\n",
      "[CV 1/5; 16/80] END max_depth=1, min_samples_leaf=8, min_samples_split=8; total time=   0.6s\n",
      "[CV 2/5; 16/80] START max_depth=1, min_samples_leaf=8, min_samples_split=8......\n",
      "[CV 2/5; 16/80] END max_depth=1, min_samples_leaf=8, min_samples_split=8; total time=   0.6s\n",
      "[CV 3/5; 16/80] START max_depth=1, min_samples_leaf=8, min_samples_split=8......\n",
      "[CV 3/5; 16/80] END max_depth=1, min_samples_leaf=8, min_samples_split=8; total time=   0.7s\n",
      "[CV 4/5; 16/80] START max_depth=1, min_samples_leaf=8, min_samples_split=8......\n",
      "[CV 4/5; 16/80] END max_depth=1, min_samples_leaf=8, min_samples_split=8; total time=   0.7s\n",
      "[CV 5/5; 16/80] START max_depth=1, min_samples_leaf=8, min_samples_split=8......\n",
      "[CV 5/5; 16/80] END max_depth=1, min_samples_leaf=8, min_samples_split=8; total time=   0.7s\n",
      "[CV 1/5; 17/80] START max_depth=2, min_samples_leaf=2, min_samples_split=2......\n",
      "[CV 1/5; 17/80] END max_depth=2, min_samples_leaf=2, min_samples_split=2; total time=   0.9s\n",
      "[CV 2/5; 17/80] START max_depth=2, min_samples_leaf=2, min_samples_split=2......\n",
      "[CV 2/5; 17/80] END max_depth=2, min_samples_leaf=2, min_samples_split=2; total time=   1.0s\n",
      "[CV 3/5; 17/80] START max_depth=2, min_samples_leaf=2, min_samples_split=2......\n",
      "[CV 3/5; 17/80] END max_depth=2, min_samples_leaf=2, min_samples_split=2; total time=   0.9s\n",
      "[CV 4/5; 17/80] START max_depth=2, min_samples_leaf=2, min_samples_split=2......\n",
      "[CV 4/5; 17/80] END max_depth=2, min_samples_leaf=2, min_samples_split=2; total time=   1.0s\n",
      "[CV 5/5; 17/80] START max_depth=2, min_samples_leaf=2, min_samples_split=2......\n",
      "[CV 5/5; 17/80] END max_depth=2, min_samples_leaf=2, min_samples_split=2; total time=   1.0s\n",
      "[CV 1/5; 18/80] START max_depth=2, min_samples_leaf=2, min_samples_split=4......\n",
      "[CV 1/5; 18/80] END max_depth=2, min_samples_leaf=2, min_samples_split=4; total time=   0.9s\n",
      "[CV 2/5; 18/80] START max_depth=2, min_samples_leaf=2, min_samples_split=4......\n",
      "[CV 2/5; 18/80] END max_depth=2, min_samples_leaf=2, min_samples_split=4; total time=   0.9s\n",
      "[CV 3/5; 18/80] START max_depth=2, min_samples_leaf=2, min_samples_split=4......\n",
      "[CV 3/5; 18/80] END max_depth=2, min_samples_leaf=2, min_samples_split=4; total time=   0.9s\n",
      "[CV 4/5; 18/80] START max_depth=2, min_samples_leaf=2, min_samples_split=4......\n",
      "[CV 4/5; 18/80] END max_depth=2, min_samples_leaf=2, min_samples_split=4; total time=   0.9s\n",
      "[CV 5/5; 18/80] START max_depth=2, min_samples_leaf=2, min_samples_split=4......\n",
      "[CV 5/5; 18/80] END max_depth=2, min_samples_leaf=2, min_samples_split=4; total time=   0.9s\n",
      "[CV 1/5; 19/80] START max_depth=2, min_samples_leaf=2, min_samples_split=6......\n",
      "[CV 1/5; 19/80] END max_depth=2, min_samples_leaf=2, min_samples_split=6; total time=   0.9s\n",
      "[CV 2/5; 19/80] START max_depth=2, min_samples_leaf=2, min_samples_split=6......\n",
      "[CV 2/5; 19/80] END max_depth=2, min_samples_leaf=2, min_samples_split=6; total time=   0.9s\n",
      "[CV 3/5; 19/80] START max_depth=2, min_samples_leaf=2, min_samples_split=6......\n",
      "[CV 3/5; 19/80] END max_depth=2, min_samples_leaf=2, min_samples_split=6; total time=   1.0s\n",
      "[CV 4/5; 19/80] START max_depth=2, min_samples_leaf=2, min_samples_split=6......\n",
      "[CV 4/5; 19/80] END max_depth=2, min_samples_leaf=2, min_samples_split=6; total time=   0.9s\n",
      "[CV 5/5; 19/80] START max_depth=2, min_samples_leaf=2, min_samples_split=6......\n",
      "[CV 5/5; 19/80] END max_depth=2, min_samples_leaf=2, min_samples_split=6; total time=   0.9s\n",
      "[CV 1/5; 20/80] START max_depth=2, min_samples_leaf=2, min_samples_split=8......\n",
      "[CV 1/5; 20/80] END max_depth=2, min_samples_leaf=2, min_samples_split=8; total time=   1.0s\n",
      "[CV 2/5; 20/80] START max_depth=2, min_samples_leaf=2, min_samples_split=8......\n",
      "[CV 2/5; 20/80] END max_depth=2, min_samples_leaf=2, min_samples_split=8; total time=   0.9s\n",
      "[CV 3/5; 20/80] START max_depth=2, min_samples_leaf=2, min_samples_split=8......\n",
      "[CV 3/5; 20/80] END max_depth=2, min_samples_leaf=2, min_samples_split=8; total time=   0.9s\n",
      "[CV 4/5; 20/80] START max_depth=2, min_samples_leaf=2, min_samples_split=8......\n",
      "[CV 4/5; 20/80] END max_depth=2, min_samples_leaf=2, min_samples_split=8; total time=   0.9s\n",
      "[CV 5/5; 20/80] START max_depth=2, min_samples_leaf=2, min_samples_split=8......\n",
      "[CV 5/5; 20/80] END max_depth=2, min_samples_leaf=2, min_samples_split=8; total time=   0.9s\n",
      "[CV 1/5; 21/80] START max_depth=2, min_samples_leaf=4, min_samples_split=2......\n",
      "[CV 1/5; 21/80] END max_depth=2, min_samples_leaf=4, min_samples_split=2; total time=   0.9s\n",
      "[CV 2/5; 21/80] START max_depth=2, min_samples_leaf=4, min_samples_split=2......\n",
      "[CV 2/5; 21/80] END max_depth=2, min_samples_leaf=4, min_samples_split=2; total time=   0.9s\n",
      "[CV 3/5; 21/80] START max_depth=2, min_samples_leaf=4, min_samples_split=2......\n",
      "[CV 3/5; 21/80] END max_depth=2, min_samples_leaf=4, min_samples_split=2; total time=   0.9s\n",
      "[CV 4/5; 21/80] START max_depth=2, min_samples_leaf=4, min_samples_split=2......\n",
      "[CV 4/5; 21/80] END max_depth=2, min_samples_leaf=4, min_samples_split=2; total time=   1.0s\n",
      "[CV 5/5; 21/80] START max_depth=2, min_samples_leaf=4, min_samples_split=2......\n",
      "[CV 5/5; 21/80] END max_depth=2, min_samples_leaf=4, min_samples_split=2; total time=   0.9s\n",
      "[CV 1/5; 22/80] START max_depth=2, min_samples_leaf=4, min_samples_split=4......\n",
      "[CV 1/5; 22/80] END max_depth=2, min_samples_leaf=4, min_samples_split=4; total time=   1.0s\n",
      "[CV 2/5; 22/80] START max_depth=2, min_samples_leaf=4, min_samples_split=4......\n",
      "[CV 2/5; 22/80] END max_depth=2, min_samples_leaf=4, min_samples_split=4; total time=   0.9s\n",
      "[CV 3/5; 22/80] START max_depth=2, min_samples_leaf=4, min_samples_split=4......\n",
      "[CV 3/5; 22/80] END max_depth=2, min_samples_leaf=4, min_samples_split=4; total time=   0.9s\n",
      "[CV 4/5; 22/80] START max_depth=2, min_samples_leaf=4, min_samples_split=4......\n",
      "[CV 4/5; 22/80] END max_depth=2, min_samples_leaf=4, min_samples_split=4; total time=   0.9s\n",
      "[CV 5/5; 22/80] START max_depth=2, min_samples_leaf=4, min_samples_split=4......\n",
      "[CV 5/5; 22/80] END max_depth=2, min_samples_leaf=4, min_samples_split=4; total time=   0.9s\n",
      "[CV 1/5; 23/80] START max_depth=2, min_samples_leaf=4, min_samples_split=6......\n",
      "[CV 1/5; 23/80] END max_depth=2, min_samples_leaf=4, min_samples_split=6; total time=   0.9s\n",
      "[CV 2/5; 23/80] START max_depth=2, min_samples_leaf=4, min_samples_split=6......\n",
      "[CV 2/5; 23/80] END max_depth=2, min_samples_leaf=4, min_samples_split=6; total time=   1.0s\n",
      "[CV 3/5; 23/80] START max_depth=2, min_samples_leaf=4, min_samples_split=6......\n",
      "[CV 3/5; 23/80] END max_depth=2, min_samples_leaf=4, min_samples_split=6; total time=   1.0s\n",
      "[CV 4/5; 23/80] START max_depth=2, min_samples_leaf=4, min_samples_split=6......\n",
      "[CV 4/5; 23/80] END max_depth=2, min_samples_leaf=4, min_samples_split=6; total time=   1.0s\n",
      "[CV 5/5; 23/80] START max_depth=2, min_samples_leaf=4, min_samples_split=6......\n",
      "[CV 5/5; 23/80] END max_depth=2, min_samples_leaf=4, min_samples_split=6; total time=   0.9s\n",
      "[CV 1/5; 24/80] START max_depth=2, min_samples_leaf=4, min_samples_split=8......\n",
      "[CV 1/5; 24/80] END max_depth=2, min_samples_leaf=4, min_samples_split=8; total time=   0.9s\n",
      "[CV 2/5; 24/80] START max_depth=2, min_samples_leaf=4, min_samples_split=8......\n",
      "[CV 2/5; 24/80] END max_depth=2, min_samples_leaf=4, min_samples_split=8; total time=   0.9s\n",
      "[CV 3/5; 24/80] START max_depth=2, min_samples_leaf=4, min_samples_split=8......\n",
      "[CV 3/5; 24/80] END max_depth=2, min_samples_leaf=4, min_samples_split=8; total time=   1.0s\n",
      "[CV 4/5; 24/80] START max_depth=2, min_samples_leaf=4, min_samples_split=8......\n",
      "[CV 4/5; 24/80] END max_depth=2, min_samples_leaf=4, min_samples_split=8; total time=   1.1s\n",
      "[CV 5/5; 24/80] START max_depth=2, min_samples_leaf=4, min_samples_split=8......\n",
      "[CV 5/5; 24/80] END max_depth=2, min_samples_leaf=4, min_samples_split=8; total time=   1.0s\n",
      "[CV 1/5; 25/80] START max_depth=2, min_samples_leaf=6, min_samples_split=2......\n",
      "[CV 1/5; 25/80] END max_depth=2, min_samples_leaf=6, min_samples_split=2; total time=   0.9s\n",
      "[CV 2/5; 25/80] START max_depth=2, min_samples_leaf=6, min_samples_split=2......\n",
      "[CV 2/5; 25/80] END max_depth=2, min_samples_leaf=6, min_samples_split=2; total time=   0.9s\n",
      "[CV 3/5; 25/80] START max_depth=2, min_samples_leaf=6, min_samples_split=2......\n",
      "[CV 3/5; 25/80] END max_depth=2, min_samples_leaf=6, min_samples_split=2; total time=   0.9s\n",
      "[CV 4/5; 25/80] START max_depth=2, min_samples_leaf=6, min_samples_split=2......\n",
      "[CV 4/5; 25/80] END max_depth=2, min_samples_leaf=6, min_samples_split=2; total time=   1.0s\n",
      "[CV 5/5; 25/80] START max_depth=2, min_samples_leaf=6, min_samples_split=2......\n",
      "[CV 5/5; 25/80] END max_depth=2, min_samples_leaf=6, min_samples_split=2; total time=   0.9s\n",
      "[CV 1/5; 26/80] START max_depth=2, min_samples_leaf=6, min_samples_split=4......\n",
      "[CV 1/5; 26/80] END max_depth=2, min_samples_leaf=6, min_samples_split=4; total time=   0.9s\n",
      "[CV 2/5; 26/80] START max_depth=2, min_samples_leaf=6, min_samples_split=4......\n",
      "[CV 2/5; 26/80] END max_depth=2, min_samples_leaf=6, min_samples_split=4; total time=   0.9s\n",
      "[CV 3/5; 26/80] START max_depth=2, min_samples_leaf=6, min_samples_split=4......\n",
      "[CV 3/5; 26/80] END max_depth=2, min_samples_leaf=6, min_samples_split=4; total time=   0.9s\n",
      "[CV 4/5; 26/80] START max_depth=2, min_samples_leaf=6, min_samples_split=4......\n",
      "[CV 4/5; 26/80] END max_depth=2, min_samples_leaf=6, min_samples_split=4; total time=   1.0s\n",
      "[CV 5/5; 26/80] START max_depth=2, min_samples_leaf=6, min_samples_split=4......\n",
      "[CV 5/5; 26/80] END max_depth=2, min_samples_leaf=6, min_samples_split=4; total time=   0.9s\n",
      "[CV 1/5; 27/80] START max_depth=2, min_samples_leaf=6, min_samples_split=6......\n",
      "[CV 1/5; 27/80] END max_depth=2, min_samples_leaf=6, min_samples_split=6; total time=   0.9s\n",
      "[CV 2/5; 27/80] START max_depth=2, min_samples_leaf=6, min_samples_split=6......\n",
      "[CV 2/5; 27/80] END max_depth=2, min_samples_leaf=6, min_samples_split=6; total time=   0.9s\n",
      "[CV 3/5; 27/80] START max_depth=2, min_samples_leaf=6, min_samples_split=6......\n",
      "[CV 3/5; 27/80] END max_depth=2, min_samples_leaf=6, min_samples_split=6; total time=   0.9s\n",
      "[CV 4/5; 27/80] START max_depth=2, min_samples_leaf=6, min_samples_split=6......\n",
      "[CV 4/5; 27/80] END max_depth=2, min_samples_leaf=6, min_samples_split=6; total time=   1.0s\n",
      "[CV 5/5; 27/80] START max_depth=2, min_samples_leaf=6, min_samples_split=6......\n",
      "[CV 5/5; 27/80] END max_depth=2, min_samples_leaf=6, min_samples_split=6; total time=   1.0s\n",
      "[CV 1/5; 28/80] START max_depth=2, min_samples_leaf=6, min_samples_split=8......\n",
      "[CV 1/5; 28/80] END max_depth=2, min_samples_leaf=6, min_samples_split=8; total time=   0.9s\n",
      "[CV 2/5; 28/80] START max_depth=2, min_samples_leaf=6, min_samples_split=8......\n",
      "[CV 2/5; 28/80] END max_depth=2, min_samples_leaf=6, min_samples_split=8; total time=   0.9s\n",
      "[CV 3/5; 28/80] START max_depth=2, min_samples_leaf=6, min_samples_split=8......\n",
      "[CV 3/5; 28/80] END max_depth=2, min_samples_leaf=6, min_samples_split=8; total time=   0.9s\n",
      "[CV 4/5; 28/80] START max_depth=2, min_samples_leaf=6, min_samples_split=8......\n",
      "[CV 4/5; 28/80] END max_depth=2, min_samples_leaf=6, min_samples_split=8; total time=   0.9s\n",
      "[CV 5/5; 28/80] START max_depth=2, min_samples_leaf=6, min_samples_split=8......\n",
      "[CV 5/5; 28/80] END max_depth=2, min_samples_leaf=6, min_samples_split=8; total time=   1.0s\n",
      "[CV 1/5; 29/80] START max_depth=2, min_samples_leaf=8, min_samples_split=2......\n",
      "[CV 1/5; 29/80] END max_depth=2, min_samples_leaf=8, min_samples_split=2; total time=   0.9s\n",
      "[CV 2/5; 29/80] START max_depth=2, min_samples_leaf=8, min_samples_split=2......\n",
      "[CV 2/5; 29/80] END max_depth=2, min_samples_leaf=8, min_samples_split=2; total time=   1.0s\n",
      "[CV 3/5; 29/80] START max_depth=2, min_samples_leaf=8, min_samples_split=2......\n",
      "[CV 3/5; 29/80] END max_depth=2, min_samples_leaf=8, min_samples_split=2; total time=   0.9s\n",
      "[CV 4/5; 29/80] START max_depth=2, min_samples_leaf=8, min_samples_split=2......\n",
      "[CV 4/5; 29/80] END max_depth=2, min_samples_leaf=8, min_samples_split=2; total time=   1.0s\n",
      "[CV 5/5; 29/80] START max_depth=2, min_samples_leaf=8, min_samples_split=2......\n",
      "[CV 5/5; 29/80] END max_depth=2, min_samples_leaf=8, min_samples_split=2; total time=   0.9s\n",
      "[CV 1/5; 30/80] START max_depth=2, min_samples_leaf=8, min_samples_split=4......\n",
      "[CV 1/5; 30/80] END max_depth=2, min_samples_leaf=8, min_samples_split=4; total time=   1.0s\n",
      "[CV 2/5; 30/80] START max_depth=2, min_samples_leaf=8, min_samples_split=4......\n",
      "[CV 2/5; 30/80] END max_depth=2, min_samples_leaf=8, min_samples_split=4; total time=   0.9s\n",
      "[CV 3/5; 30/80] START max_depth=2, min_samples_leaf=8, min_samples_split=4......\n",
      "[CV 3/5; 30/80] END max_depth=2, min_samples_leaf=8, min_samples_split=4; total time=   0.9s\n",
      "[CV 4/5; 30/80] START max_depth=2, min_samples_leaf=8, min_samples_split=4......\n",
      "[CV 4/5; 30/80] END max_depth=2, min_samples_leaf=8, min_samples_split=4; total time=   0.9s\n",
      "[CV 5/5; 30/80] START max_depth=2, min_samples_leaf=8, min_samples_split=4......\n",
      "[CV 5/5; 30/80] END max_depth=2, min_samples_leaf=8, min_samples_split=4; total time=   1.0s\n",
      "[CV 1/5; 31/80] START max_depth=2, min_samples_leaf=8, min_samples_split=6......\n",
      "[CV 1/5; 31/80] END max_depth=2, min_samples_leaf=8, min_samples_split=6; total time=   1.0s\n",
      "[CV 2/5; 31/80] START max_depth=2, min_samples_leaf=8, min_samples_split=6......\n",
      "[CV 2/5; 31/80] END max_depth=2, min_samples_leaf=8, min_samples_split=6; total time=   0.9s\n",
      "[CV 3/5; 31/80] START max_depth=2, min_samples_leaf=8, min_samples_split=6......\n",
      "[CV 3/5; 31/80] END max_depth=2, min_samples_leaf=8, min_samples_split=6; total time=   0.9s\n",
      "[CV 4/5; 31/80] START max_depth=2, min_samples_leaf=8, min_samples_split=6......\n",
      "[CV 4/5; 31/80] END max_depth=2, min_samples_leaf=8, min_samples_split=6; total time=   0.9s\n",
      "[CV 5/5; 31/80] START max_depth=2, min_samples_leaf=8, min_samples_split=6......\n",
      "[CV 5/5; 31/80] END max_depth=2, min_samples_leaf=8, min_samples_split=6; total time=   0.9s\n",
      "[CV 1/5; 32/80] START max_depth=2, min_samples_leaf=8, min_samples_split=8......\n",
      "[CV 1/5; 32/80] END max_depth=2, min_samples_leaf=8, min_samples_split=8; total time=   0.9s\n",
      "[CV 2/5; 32/80] START max_depth=2, min_samples_leaf=8, min_samples_split=8......\n",
      "[CV 2/5; 32/80] END max_depth=2, min_samples_leaf=8, min_samples_split=8; total time=   0.9s\n",
      "[CV 3/5; 32/80] START max_depth=2, min_samples_leaf=8, min_samples_split=8......\n",
      "[CV 3/5; 32/80] END max_depth=2, min_samples_leaf=8, min_samples_split=8; total time=   0.9s\n",
      "[CV 4/5; 32/80] START max_depth=2, min_samples_leaf=8, min_samples_split=8......\n",
      "[CV 4/5; 32/80] END max_depth=2, min_samples_leaf=8, min_samples_split=8; total time=   0.9s\n",
      "[CV 5/5; 32/80] START max_depth=2, min_samples_leaf=8, min_samples_split=8......\n",
      "[CV 5/5; 32/80] END max_depth=2, min_samples_leaf=8, min_samples_split=8; total time=   0.9s\n",
      "[CV 1/5; 33/80] START max_depth=3, min_samples_leaf=2, min_samples_split=2......\n",
      "[CV 1/5; 33/80] END max_depth=3, min_samples_leaf=2, min_samples_split=2; total time=   1.3s\n",
      "[CV 2/5; 33/80] START max_depth=3, min_samples_leaf=2, min_samples_split=2......\n",
      "[CV 2/5; 33/80] END max_depth=3, min_samples_leaf=2, min_samples_split=2; total time=   1.3s\n",
      "[CV 3/5; 33/80] START max_depth=3, min_samples_leaf=2, min_samples_split=2......\n",
      "[CV 3/5; 33/80] END max_depth=3, min_samples_leaf=2, min_samples_split=2; total time=   1.3s\n",
      "[CV 4/5; 33/80] START max_depth=3, min_samples_leaf=2, min_samples_split=2......\n",
      "[CV 4/5; 33/80] END max_depth=3, min_samples_leaf=2, min_samples_split=2; total time=   1.2s\n",
      "[CV 5/5; 33/80] START max_depth=3, min_samples_leaf=2, min_samples_split=2......\n",
      "[CV 5/5; 33/80] END max_depth=3, min_samples_leaf=2, min_samples_split=2; total time=   1.2s\n",
      "[CV 1/5; 34/80] START max_depth=3, min_samples_leaf=2, min_samples_split=4......\n",
      "[CV 1/5; 34/80] END max_depth=3, min_samples_leaf=2, min_samples_split=4; total time=   1.3s\n",
      "[CV 2/5; 34/80] START max_depth=3, min_samples_leaf=2, min_samples_split=4......\n",
      "[CV 2/5; 34/80] END max_depth=3, min_samples_leaf=2, min_samples_split=4; total time=   1.2s\n",
      "[CV 3/5; 34/80] START max_depth=3, min_samples_leaf=2, min_samples_split=4......\n",
      "[CV 3/5; 34/80] END max_depth=3, min_samples_leaf=2, min_samples_split=4; total time=   1.2s\n",
      "[CV 4/5; 34/80] START max_depth=3, min_samples_leaf=2, min_samples_split=4......\n",
      "[CV 4/5; 34/80] END max_depth=3, min_samples_leaf=2, min_samples_split=4; total time=   1.2s\n",
      "[CV 5/5; 34/80] START max_depth=3, min_samples_leaf=2, min_samples_split=4......\n",
      "[CV 5/5; 34/80] END max_depth=3, min_samples_leaf=2, min_samples_split=4; total time=   1.2s\n",
      "[CV 1/5; 35/80] START max_depth=3, min_samples_leaf=2, min_samples_split=6......\n",
      "[CV 1/5; 35/80] END max_depth=3, min_samples_leaf=2, min_samples_split=6; total time=   1.3s\n",
      "[CV 2/5; 35/80] START max_depth=3, min_samples_leaf=2, min_samples_split=6......\n",
      "[CV 2/5; 35/80] END max_depth=3, min_samples_leaf=2, min_samples_split=6; total time=   1.3s\n",
      "[CV 3/5; 35/80] START max_depth=3, min_samples_leaf=2, min_samples_split=6......\n",
      "[CV 3/5; 35/80] END max_depth=3, min_samples_leaf=2, min_samples_split=6; total time=   1.2s\n",
      "[CV 4/5; 35/80] START max_depth=3, min_samples_leaf=2, min_samples_split=6......\n",
      "[CV 4/5; 35/80] END max_depth=3, min_samples_leaf=2, min_samples_split=6; total time=   1.3s\n",
      "[CV 5/5; 35/80] START max_depth=3, min_samples_leaf=2, min_samples_split=6......\n",
      "[CV 5/5; 35/80] END max_depth=3, min_samples_leaf=2, min_samples_split=6; total time=   1.2s\n",
      "[CV 1/5; 36/80] START max_depth=3, min_samples_leaf=2, min_samples_split=8......\n",
      "[CV 1/5; 36/80] END max_depth=3, min_samples_leaf=2, min_samples_split=8; total time=   1.2s\n",
      "[CV 2/5; 36/80] START max_depth=3, min_samples_leaf=2, min_samples_split=8......\n",
      "[CV 2/5; 36/80] END max_depth=3, min_samples_leaf=2, min_samples_split=8; total time=   1.2s\n",
      "[CV 3/5; 36/80] START max_depth=3, min_samples_leaf=2, min_samples_split=8......\n",
      "[CV 3/5; 36/80] END max_depth=3, min_samples_leaf=2, min_samples_split=8; total time=   1.3s\n",
      "[CV 4/5; 36/80] START max_depth=3, min_samples_leaf=2, min_samples_split=8......\n",
      "[CV 4/5; 36/80] END max_depth=3, min_samples_leaf=2, min_samples_split=8; total time=   1.3s\n",
      "[CV 5/5; 36/80] START max_depth=3, min_samples_leaf=2, min_samples_split=8......\n",
      "[CV 5/5; 36/80] END max_depth=3, min_samples_leaf=2, min_samples_split=8; total time=   1.4s\n",
      "[CV 1/5; 37/80] START max_depth=3, min_samples_leaf=4, min_samples_split=2......\n",
      "[CV 1/5; 37/80] END max_depth=3, min_samples_leaf=4, min_samples_split=2; total time=   1.3s\n",
      "[CV 2/5; 37/80] START max_depth=3, min_samples_leaf=4, min_samples_split=2......\n",
      "[CV 2/5; 37/80] END max_depth=3, min_samples_leaf=4, min_samples_split=2; total time=   1.2s\n",
      "[CV 3/5; 37/80] START max_depth=3, min_samples_leaf=4, min_samples_split=2......\n",
      "[CV 3/5; 37/80] END max_depth=3, min_samples_leaf=4, min_samples_split=2; total time=   1.2s\n",
      "[CV 4/5; 37/80] START max_depth=3, min_samples_leaf=4, min_samples_split=2......\n",
      "[CV 4/5; 37/80] END max_depth=3, min_samples_leaf=4, min_samples_split=2; total time=   1.3s\n",
      "[CV 5/5; 37/80] START max_depth=3, min_samples_leaf=4, min_samples_split=2......\n",
      "[CV 5/5; 37/80] END max_depth=3, min_samples_leaf=4, min_samples_split=2; total time=   1.2s\n",
      "[CV 1/5; 38/80] START max_depth=3, min_samples_leaf=4, min_samples_split=4......\n",
      "[CV 1/5; 38/80] END max_depth=3, min_samples_leaf=4, min_samples_split=4; total time=   1.2s\n",
      "[CV 2/5; 38/80] START max_depth=3, min_samples_leaf=4, min_samples_split=4......\n",
      "[CV 2/5; 38/80] END max_depth=3, min_samples_leaf=4, min_samples_split=4; total time=   1.2s\n",
      "[CV 3/5; 38/80] START max_depth=3, min_samples_leaf=4, min_samples_split=4......\n",
      "[CV 3/5; 38/80] END max_depth=3, min_samples_leaf=4, min_samples_split=4; total time=   1.2s\n",
      "[CV 4/5; 38/80] START max_depth=3, min_samples_leaf=4, min_samples_split=4......\n",
      "[CV 4/5; 38/80] END max_depth=3, min_samples_leaf=4, min_samples_split=4; total time=   1.3s\n",
      "[CV 5/5; 38/80] START max_depth=3, min_samples_leaf=4, min_samples_split=4......\n",
      "[CV 5/5; 38/80] END max_depth=3, min_samples_leaf=4, min_samples_split=4; total time=   1.2s\n",
      "[CV 1/5; 39/80] START max_depth=3, min_samples_leaf=4, min_samples_split=6......\n",
      "[CV 1/5; 39/80] END max_depth=3, min_samples_leaf=4, min_samples_split=6; total time=   1.2s\n",
      "[CV 2/5; 39/80] START max_depth=3, min_samples_leaf=4, min_samples_split=6......\n",
      "[CV 2/5; 39/80] END max_depth=3, min_samples_leaf=4, min_samples_split=6; total time=   1.2s\n",
      "[CV 3/5; 39/80] START max_depth=3, min_samples_leaf=4, min_samples_split=6......\n",
      "[CV 3/5; 39/80] END max_depth=3, min_samples_leaf=4, min_samples_split=6; total time=   1.2s\n",
      "[CV 4/5; 39/80] START max_depth=3, min_samples_leaf=4, min_samples_split=6......\n",
      "[CV 4/5; 39/80] END max_depth=3, min_samples_leaf=4, min_samples_split=6; total time=   1.2s\n",
      "[CV 5/5; 39/80] START max_depth=3, min_samples_leaf=4, min_samples_split=6......\n",
      "[CV 5/5; 39/80] END max_depth=3, min_samples_leaf=4, min_samples_split=6; total time=   1.2s\n",
      "[CV 1/5; 40/80] START max_depth=3, min_samples_leaf=4, min_samples_split=8......\n",
      "[CV 1/5; 40/80] END max_depth=3, min_samples_leaf=4, min_samples_split=8; total time=   1.3s\n",
      "[CV 2/5; 40/80] START max_depth=3, min_samples_leaf=4, min_samples_split=8......\n",
      "[CV 2/5; 40/80] END max_depth=3, min_samples_leaf=4, min_samples_split=8; total time=   1.2s\n",
      "[CV 3/5; 40/80] START max_depth=3, min_samples_leaf=4, min_samples_split=8......\n",
      "[CV 3/5; 40/80] END max_depth=3, min_samples_leaf=4, min_samples_split=8; total time=   1.3s\n",
      "[CV 4/5; 40/80] START max_depth=3, min_samples_leaf=4, min_samples_split=8......\n",
      "[CV 4/5; 40/80] END max_depth=3, min_samples_leaf=4, min_samples_split=8; total time=   1.2s\n",
      "[CV 5/5; 40/80] START max_depth=3, min_samples_leaf=4, min_samples_split=8......\n",
      "[CV 5/5; 40/80] END max_depth=3, min_samples_leaf=4, min_samples_split=8; total time=   1.2s\n",
      "[CV 1/5; 41/80] START max_depth=3, min_samples_leaf=6, min_samples_split=2......\n",
      "[CV 1/5; 41/80] END max_depth=3, min_samples_leaf=6, min_samples_split=2; total time=   1.2s\n",
      "[CV 2/5; 41/80] START max_depth=3, min_samples_leaf=6, min_samples_split=2......\n",
      "[CV 2/5; 41/80] END max_depth=3, min_samples_leaf=6, min_samples_split=2; total time=   1.2s\n",
      "[CV 3/5; 41/80] START max_depth=3, min_samples_leaf=6, min_samples_split=2......\n",
      "[CV 3/5; 41/80] END max_depth=3, min_samples_leaf=6, min_samples_split=2; total time=   1.3s\n",
      "[CV 4/5; 41/80] START max_depth=3, min_samples_leaf=6, min_samples_split=2......\n",
      "[CV 4/5; 41/80] END max_depth=3, min_samples_leaf=6, min_samples_split=2; total time=   1.3s\n",
      "[CV 5/5; 41/80] START max_depth=3, min_samples_leaf=6, min_samples_split=2......\n",
      "[CV 5/5; 41/80] END max_depth=3, min_samples_leaf=6, min_samples_split=2; total time=   1.3s\n",
      "[CV 1/5; 42/80] START max_depth=3, min_samples_leaf=6, min_samples_split=4......\n",
      "[CV 1/5; 42/80] END max_depth=3, min_samples_leaf=6, min_samples_split=4; total time=   1.4s\n",
      "[CV 2/5; 42/80] START max_depth=3, min_samples_leaf=6, min_samples_split=4......\n",
      "[CV 2/5; 42/80] END max_depth=3, min_samples_leaf=6, min_samples_split=4; total time=   1.3s\n",
      "[CV 3/5; 42/80] START max_depth=3, min_samples_leaf=6, min_samples_split=4......\n",
      "[CV 3/5; 42/80] END max_depth=3, min_samples_leaf=6, min_samples_split=4; total time=   1.2s\n",
      "[CV 4/5; 42/80] START max_depth=3, min_samples_leaf=6, min_samples_split=4......\n",
      "[CV 4/5; 42/80] END max_depth=3, min_samples_leaf=6, min_samples_split=4; total time=   1.2s\n",
      "[CV 5/5; 42/80] START max_depth=3, min_samples_leaf=6, min_samples_split=4......\n",
      "[CV 5/5; 42/80] END max_depth=3, min_samples_leaf=6, min_samples_split=4; total time=   1.3s\n",
      "[CV 1/5; 43/80] START max_depth=3, min_samples_leaf=6, min_samples_split=6......\n",
      "[CV 1/5; 43/80] END max_depth=3, min_samples_leaf=6, min_samples_split=6; total time=   1.2s\n",
      "[CV 2/5; 43/80] START max_depth=3, min_samples_leaf=6, min_samples_split=6......\n",
      "[CV 2/5; 43/80] END max_depth=3, min_samples_leaf=6, min_samples_split=6; total time=   1.2s\n",
      "[CV 3/5; 43/80] START max_depth=3, min_samples_leaf=6, min_samples_split=6......\n",
      "[CV 3/5; 43/80] END max_depth=3, min_samples_leaf=6, min_samples_split=6; total time=   1.3s\n",
      "[CV 4/5; 43/80] START max_depth=3, min_samples_leaf=6, min_samples_split=6......\n",
      "[CV 4/5; 43/80] END max_depth=3, min_samples_leaf=6, min_samples_split=6; total time=   1.3s\n",
      "[CV 5/5; 43/80] START max_depth=3, min_samples_leaf=6, min_samples_split=6......\n",
      "[CV 5/5; 43/80] END max_depth=3, min_samples_leaf=6, min_samples_split=6; total time=   1.2s\n",
      "[CV 1/5; 44/80] START max_depth=3, min_samples_leaf=6, min_samples_split=8......\n",
      "[CV 1/5; 44/80] END max_depth=3, min_samples_leaf=6, min_samples_split=8; total time=   1.2s\n",
      "[CV 2/5; 44/80] START max_depth=3, min_samples_leaf=6, min_samples_split=8......\n",
      "[CV 2/5; 44/80] END max_depth=3, min_samples_leaf=6, min_samples_split=8; total time=   1.3s\n",
      "[CV 3/5; 44/80] START max_depth=3, min_samples_leaf=6, min_samples_split=8......\n",
      "[CV 3/5; 44/80] END max_depth=3, min_samples_leaf=6, min_samples_split=8; total time=   1.2s\n",
      "[CV 4/5; 44/80] START max_depth=3, min_samples_leaf=6, min_samples_split=8......\n",
      "[CV 4/5; 44/80] END max_depth=3, min_samples_leaf=6, min_samples_split=8; total time=   1.3s\n",
      "[CV 5/5; 44/80] START max_depth=3, min_samples_leaf=6, min_samples_split=8......\n",
      "[CV 5/5; 44/80] END max_depth=3, min_samples_leaf=6, min_samples_split=8; total time=   1.3s\n",
      "[CV 1/5; 45/80] START max_depth=3, min_samples_leaf=8, min_samples_split=2......\n",
      "[CV 1/5; 45/80] END max_depth=3, min_samples_leaf=8, min_samples_split=2; total time=   1.3s\n",
      "[CV 2/5; 45/80] START max_depth=3, min_samples_leaf=8, min_samples_split=2......\n",
      "[CV 2/5; 45/80] END max_depth=3, min_samples_leaf=8, min_samples_split=2; total time=   1.2s\n",
      "[CV 3/5; 45/80] START max_depth=3, min_samples_leaf=8, min_samples_split=2......\n",
      "[CV 3/5; 45/80] END max_depth=3, min_samples_leaf=8, min_samples_split=2; total time=   1.2s\n",
      "[CV 4/5; 45/80] START max_depth=3, min_samples_leaf=8, min_samples_split=2......\n",
      "[CV 4/5; 45/80] END max_depth=3, min_samples_leaf=8, min_samples_split=2; total time=   1.3s\n",
      "[CV 5/5; 45/80] START max_depth=3, min_samples_leaf=8, min_samples_split=2......\n",
      "[CV 5/5; 45/80] END max_depth=3, min_samples_leaf=8, min_samples_split=2; total time=   1.4s\n",
      "[CV 1/5; 46/80] START max_depth=3, min_samples_leaf=8, min_samples_split=4......\n",
      "[CV 1/5; 46/80] END max_depth=3, min_samples_leaf=8, min_samples_split=4; total time=   1.2s\n",
      "[CV 2/5; 46/80] START max_depth=3, min_samples_leaf=8, min_samples_split=4......\n",
      "[CV 2/5; 46/80] END max_depth=3, min_samples_leaf=8, min_samples_split=4; total time=   1.3s\n",
      "[CV 3/5; 46/80] START max_depth=3, min_samples_leaf=8, min_samples_split=4......\n",
      "[CV 3/5; 46/80] END max_depth=3, min_samples_leaf=8, min_samples_split=4; total time=   1.3s\n",
      "[CV 4/5; 46/80] START max_depth=3, min_samples_leaf=8, min_samples_split=4......\n",
      "[CV 4/5; 46/80] END max_depth=3, min_samples_leaf=8, min_samples_split=4; total time=   1.4s\n",
      "[CV 5/5; 46/80] START max_depth=3, min_samples_leaf=8, min_samples_split=4......\n",
      "[CV 5/5; 46/80] END max_depth=3, min_samples_leaf=8, min_samples_split=4; total time=   1.2s\n",
      "[CV 1/5; 47/80] START max_depth=3, min_samples_leaf=8, min_samples_split=6......\n",
      "[CV 1/5; 47/80] END max_depth=3, min_samples_leaf=8, min_samples_split=6; total time=   1.3s\n",
      "[CV 2/5; 47/80] START max_depth=3, min_samples_leaf=8, min_samples_split=6......\n",
      "[CV 2/5; 47/80] END max_depth=3, min_samples_leaf=8, min_samples_split=6; total time=   1.3s\n",
      "[CV 3/5; 47/80] START max_depth=3, min_samples_leaf=8, min_samples_split=6......\n",
      "[CV 3/5; 47/80] END max_depth=3, min_samples_leaf=8, min_samples_split=6; total time=   1.2s\n",
      "[CV 4/5; 47/80] START max_depth=3, min_samples_leaf=8, min_samples_split=6......\n",
      "[CV 4/5; 47/80] END max_depth=3, min_samples_leaf=8, min_samples_split=6; total time=   1.3s\n",
      "[CV 5/5; 47/80] START max_depth=3, min_samples_leaf=8, min_samples_split=6......\n",
      "[CV 5/5; 47/80] END max_depth=3, min_samples_leaf=8, min_samples_split=6; total time=   1.2s\n",
      "[CV 1/5; 48/80] START max_depth=3, min_samples_leaf=8, min_samples_split=8......\n",
      "[CV 1/5; 48/80] END max_depth=3, min_samples_leaf=8, min_samples_split=8; total time=   1.3s\n",
      "[CV 2/5; 48/80] START max_depth=3, min_samples_leaf=8, min_samples_split=8......\n",
      "[CV 2/5; 48/80] END max_depth=3, min_samples_leaf=8, min_samples_split=8; total time=   1.4s\n",
      "[CV 3/5; 48/80] START max_depth=3, min_samples_leaf=8, min_samples_split=8......\n",
      "[CV 3/5; 48/80] END max_depth=3, min_samples_leaf=8, min_samples_split=8; total time=   1.3s\n",
      "[CV 4/5; 48/80] START max_depth=3, min_samples_leaf=8, min_samples_split=8......\n",
      "[CV 4/5; 48/80] END max_depth=3, min_samples_leaf=8, min_samples_split=8; total time=   1.2s\n",
      "[CV 5/5; 48/80] START max_depth=3, min_samples_leaf=8, min_samples_split=8......\n",
      "[CV 5/5; 48/80] END max_depth=3, min_samples_leaf=8, min_samples_split=8; total time=   1.3s\n",
      "[CV 1/5; 49/80] START max_depth=4, min_samples_leaf=2, min_samples_split=2......\n",
      "[CV 1/5; 49/80] END max_depth=4, min_samples_leaf=2, min_samples_split=2; total time=   1.7s\n",
      "[CV 2/5; 49/80] START max_depth=4, min_samples_leaf=2, min_samples_split=2......\n",
      "[CV 2/5; 49/80] END max_depth=4, min_samples_leaf=2, min_samples_split=2; total time=   1.8s\n",
      "[CV 3/5; 49/80] START max_depth=4, min_samples_leaf=2, min_samples_split=2......\n",
      "[CV 3/5; 49/80] END max_depth=4, min_samples_leaf=2, min_samples_split=2; total time=   1.8s\n",
      "[CV 4/5; 49/80] START max_depth=4, min_samples_leaf=2, min_samples_split=2......\n",
      "[CV 4/5; 49/80] END max_depth=4, min_samples_leaf=2, min_samples_split=2; total time=   1.9s\n",
      "[CV 5/5; 49/80] START max_depth=4, min_samples_leaf=2, min_samples_split=2......\n",
      "[CV 5/5; 49/80] END max_depth=4, min_samples_leaf=2, min_samples_split=2; total time=   1.9s\n",
      "[CV 1/5; 50/80] START max_depth=4, min_samples_leaf=2, min_samples_split=4......\n",
      "[CV 1/5; 50/80] END max_depth=4, min_samples_leaf=2, min_samples_split=4; total time=   1.6s\n",
      "[CV 2/5; 50/80] START max_depth=4, min_samples_leaf=2, min_samples_split=4......\n",
      "[CV 2/5; 50/80] END max_depth=4, min_samples_leaf=2, min_samples_split=4; total time=   1.6s\n",
      "[CV 3/5; 50/80] START max_depth=4, min_samples_leaf=2, min_samples_split=4......\n",
      "[CV 3/5; 50/80] END max_depth=4, min_samples_leaf=2, min_samples_split=4; total time=   1.6s\n",
      "[CV 4/5; 50/80] START max_depth=4, min_samples_leaf=2, min_samples_split=4......\n",
      "[CV 4/5; 50/80] END max_depth=4, min_samples_leaf=2, min_samples_split=4; total time=   1.7s\n",
      "[CV 5/5; 50/80] START max_depth=4, min_samples_leaf=2, min_samples_split=4......\n",
      "[CV 5/5; 50/80] END max_depth=4, min_samples_leaf=2, min_samples_split=4; total time=   1.7s\n",
      "[CV 1/5; 51/80] START max_depth=4, min_samples_leaf=2, min_samples_split=6......\n",
      "[CV 1/5; 51/80] END max_depth=4, min_samples_leaf=2, min_samples_split=6; total time=   1.6s\n",
      "[CV 2/5; 51/80] START max_depth=4, min_samples_leaf=2, min_samples_split=6......\n",
      "[CV 2/5; 51/80] END max_depth=4, min_samples_leaf=2, min_samples_split=6; total time=   1.6s\n",
      "[CV 3/5; 51/80] START max_depth=4, min_samples_leaf=2, min_samples_split=6......\n",
      "[CV 3/5; 51/80] END max_depth=4, min_samples_leaf=2, min_samples_split=6; total time=   1.6s\n",
      "[CV 4/5; 51/80] START max_depth=4, min_samples_leaf=2, min_samples_split=6......\n",
      "[CV 4/5; 51/80] END max_depth=4, min_samples_leaf=2, min_samples_split=6; total time=   1.6s\n",
      "[CV 5/5; 51/80] START max_depth=4, min_samples_leaf=2, min_samples_split=6......\n",
      "[CV 5/5; 51/80] END max_depth=4, min_samples_leaf=2, min_samples_split=6; total time=   1.6s\n",
      "[CV 1/5; 52/80] START max_depth=4, min_samples_leaf=2, min_samples_split=8......\n",
      "[CV 1/5; 52/80] END max_depth=4, min_samples_leaf=2, min_samples_split=8; total time=   1.7s\n",
      "[CV 2/5; 52/80] START max_depth=4, min_samples_leaf=2, min_samples_split=8......\n",
      "[CV 2/5; 52/80] END max_depth=4, min_samples_leaf=2, min_samples_split=8; total time=   1.6s\n",
      "[CV 3/5; 52/80] START max_depth=4, min_samples_leaf=2, min_samples_split=8......\n",
      "[CV 3/5; 52/80] END max_depth=4, min_samples_leaf=2, min_samples_split=8; total time=   1.6s\n",
      "[CV 4/5; 52/80] START max_depth=4, min_samples_leaf=2, min_samples_split=8......\n",
      "[CV 4/5; 52/80] END max_depth=4, min_samples_leaf=2, min_samples_split=8; total time=   1.6s\n",
      "[CV 5/5; 52/80] START max_depth=4, min_samples_leaf=2, min_samples_split=8......\n",
      "[CV 5/5; 52/80] END max_depth=4, min_samples_leaf=2, min_samples_split=8; total time=   1.6s\n",
      "[CV 1/5; 53/80] START max_depth=4, min_samples_leaf=4, min_samples_split=2......\n",
      "[CV 1/5; 53/80] END max_depth=4, min_samples_leaf=4, min_samples_split=2; total time=   1.7s\n",
      "[CV 2/5; 53/80] START max_depth=4, min_samples_leaf=4, min_samples_split=2......\n",
      "[CV 2/5; 53/80] END max_depth=4, min_samples_leaf=4, min_samples_split=2; total time=   1.7s\n",
      "[CV 3/5; 53/80] START max_depth=4, min_samples_leaf=4, min_samples_split=2......\n",
      "[CV 3/5; 53/80] END max_depth=4, min_samples_leaf=4, min_samples_split=2; total time=   1.8s\n",
      "[CV 4/5; 53/80] START max_depth=4, min_samples_leaf=4, min_samples_split=2......\n",
      "[CV 4/5; 53/80] END max_depth=4, min_samples_leaf=4, min_samples_split=2; total time=   1.6s\n",
      "[CV 5/5; 53/80] START max_depth=4, min_samples_leaf=4, min_samples_split=2......\n",
      "[CV 5/5; 53/80] END max_depth=4, min_samples_leaf=4, min_samples_split=2; total time=   1.5s\n",
      "[CV 1/5; 54/80] START max_depth=4, min_samples_leaf=4, min_samples_split=4......\n",
      "[CV 1/5; 54/80] END max_depth=4, min_samples_leaf=4, min_samples_split=4; total time=   1.6s\n",
      "[CV 2/5; 54/80] START max_depth=4, min_samples_leaf=4, min_samples_split=4......\n",
      "[CV 2/5; 54/80] END max_depth=4, min_samples_leaf=4, min_samples_split=4; total time=   1.6s\n",
      "[CV 3/5; 54/80] START max_depth=4, min_samples_leaf=4, min_samples_split=4......\n",
      "[CV 3/5; 54/80] END max_depth=4, min_samples_leaf=4, min_samples_split=4; total time=   1.6s\n",
      "[CV 4/5; 54/80] START max_depth=4, min_samples_leaf=4, min_samples_split=4......\n",
      "[CV 4/5; 54/80] END max_depth=4, min_samples_leaf=4, min_samples_split=4; total time=   1.6s\n",
      "[CV 5/5; 54/80] START max_depth=4, min_samples_leaf=4, min_samples_split=4......\n",
      "[CV 5/5; 54/80] END max_depth=4, min_samples_leaf=4, min_samples_split=4; total time=   1.6s\n",
      "[CV 1/5; 55/80] START max_depth=4, min_samples_leaf=4, min_samples_split=6......\n",
      "[CV 1/5; 55/80] END max_depth=4, min_samples_leaf=4, min_samples_split=6; total time=   1.7s\n",
      "[CV 2/5; 55/80] START max_depth=4, min_samples_leaf=4, min_samples_split=6......\n",
      "[CV 2/5; 55/80] END max_depth=4, min_samples_leaf=4, min_samples_split=6; total time=   1.6s\n",
      "[CV 3/5; 55/80] START max_depth=4, min_samples_leaf=4, min_samples_split=6......\n",
      "[CV 3/5; 55/80] END max_depth=4, min_samples_leaf=4, min_samples_split=6; total time=   1.7s\n",
      "[CV 4/5; 55/80] START max_depth=4, min_samples_leaf=4, min_samples_split=6......\n",
      "[CV 4/5; 55/80] END max_depth=4, min_samples_leaf=4, min_samples_split=6; total time=   1.7s\n",
      "[CV 5/5; 55/80] START max_depth=4, min_samples_leaf=4, min_samples_split=6......\n",
      "[CV 5/5; 55/80] END max_depth=4, min_samples_leaf=4, min_samples_split=6; total time=   1.6s\n",
      "[CV 1/5; 56/80] START max_depth=4, min_samples_leaf=4, min_samples_split=8......\n",
      "[CV 1/5; 56/80] END max_depth=4, min_samples_leaf=4, min_samples_split=8; total time=   1.6s\n",
      "[CV 2/5; 56/80] START max_depth=4, min_samples_leaf=4, min_samples_split=8......\n",
      "[CV 2/5; 56/80] END max_depth=4, min_samples_leaf=4, min_samples_split=8; total time=   1.5s\n",
      "[CV 3/5; 56/80] START max_depth=4, min_samples_leaf=4, min_samples_split=8......\n",
      "[CV 3/5; 56/80] END max_depth=4, min_samples_leaf=4, min_samples_split=8; total time=   1.6s\n",
      "[CV 4/5; 56/80] START max_depth=4, min_samples_leaf=4, min_samples_split=8......\n",
      "[CV 4/5; 56/80] END max_depth=4, min_samples_leaf=4, min_samples_split=8; total time=   1.7s\n",
      "[CV 5/5; 56/80] START max_depth=4, min_samples_leaf=4, min_samples_split=8......\n",
      "[CV 5/5; 56/80] END max_depth=4, min_samples_leaf=4, min_samples_split=8; total time=   1.7s\n",
      "[CV 1/5; 57/80] START max_depth=4, min_samples_leaf=6, min_samples_split=2......\n",
      "[CV 1/5; 57/80] END max_depth=4, min_samples_leaf=6, min_samples_split=2; total time=   1.6s\n",
      "[CV 2/5; 57/80] START max_depth=4, min_samples_leaf=6, min_samples_split=2......\n",
      "[CV 2/5; 57/80] END max_depth=4, min_samples_leaf=6, min_samples_split=2; total time=   1.6s\n",
      "[CV 3/5; 57/80] START max_depth=4, min_samples_leaf=6, min_samples_split=2......\n",
      "[CV 3/5; 57/80] END max_depth=4, min_samples_leaf=6, min_samples_split=2; total time=   1.6s\n",
      "[CV 4/5; 57/80] START max_depth=4, min_samples_leaf=6, min_samples_split=2......\n",
      "[CV 4/5; 57/80] END max_depth=4, min_samples_leaf=6, min_samples_split=2; total time=   1.6s\n",
      "[CV 5/5; 57/80] START max_depth=4, min_samples_leaf=6, min_samples_split=2......\n",
      "[CV 5/5; 57/80] END max_depth=4, min_samples_leaf=6, min_samples_split=2; total time=   1.7s\n",
      "[CV 1/5; 58/80] START max_depth=4, min_samples_leaf=6, min_samples_split=4......\n",
      "[CV 1/5; 58/80] END max_depth=4, min_samples_leaf=6, min_samples_split=4; total time=   1.7s\n",
      "[CV 2/5; 58/80] START max_depth=4, min_samples_leaf=6, min_samples_split=4......\n",
      "[CV 2/5; 58/80] END max_depth=4, min_samples_leaf=6, min_samples_split=4; total time=   1.6s\n",
      "[CV 3/5; 58/80] START max_depth=4, min_samples_leaf=6, min_samples_split=4......\n",
      "[CV 3/5; 58/80] END max_depth=4, min_samples_leaf=6, min_samples_split=4; total time=   1.7s\n",
      "[CV 4/5; 58/80] START max_depth=4, min_samples_leaf=6, min_samples_split=4......\n",
      "[CV 4/5; 58/80] END max_depth=4, min_samples_leaf=6, min_samples_split=4; total time=   1.6s\n",
      "[CV 5/5; 58/80] START max_depth=4, min_samples_leaf=6, min_samples_split=4......\n",
      "[CV 5/5; 58/80] END max_depth=4, min_samples_leaf=6, min_samples_split=4; total time=   1.6s\n",
      "[CV 1/5; 59/80] START max_depth=4, min_samples_leaf=6, min_samples_split=6......\n",
      "[CV 1/5; 59/80] END max_depth=4, min_samples_leaf=6, min_samples_split=6; total time=   1.6s\n",
      "[CV 2/5; 59/80] START max_depth=4, min_samples_leaf=6, min_samples_split=6......\n",
      "[CV 2/5; 59/80] END max_depth=4, min_samples_leaf=6, min_samples_split=6; total time=   1.7s\n",
      "[CV 3/5; 59/80] START max_depth=4, min_samples_leaf=6, min_samples_split=6......\n",
      "[CV 3/5; 59/80] END max_depth=4, min_samples_leaf=6, min_samples_split=6; total time=   1.6s\n",
      "[CV 4/5; 59/80] START max_depth=4, min_samples_leaf=6, min_samples_split=6......\n",
      "[CV 4/5; 59/80] END max_depth=4, min_samples_leaf=6, min_samples_split=6; total time=   1.6s\n",
      "[CV 5/5; 59/80] START max_depth=4, min_samples_leaf=6, min_samples_split=6......\n",
      "[CV 5/5; 59/80] END max_depth=4, min_samples_leaf=6, min_samples_split=6; total time=   1.6s\n",
      "[CV 1/5; 60/80] START max_depth=4, min_samples_leaf=6, min_samples_split=8......\n",
      "[CV 1/5; 60/80] END max_depth=4, min_samples_leaf=6, min_samples_split=8; total time=   1.6s\n",
      "[CV 2/5; 60/80] START max_depth=4, min_samples_leaf=6, min_samples_split=8......\n",
      "[CV 2/5; 60/80] END max_depth=4, min_samples_leaf=6, min_samples_split=8; total time=   1.7s\n",
      "[CV 3/5; 60/80] START max_depth=4, min_samples_leaf=6, min_samples_split=8......\n",
      "[CV 3/5; 60/80] END max_depth=4, min_samples_leaf=6, min_samples_split=8; total time=   1.8s\n",
      "[CV 4/5; 60/80] START max_depth=4, min_samples_leaf=6, min_samples_split=8......\n",
      "[CV 4/5; 60/80] END max_depth=4, min_samples_leaf=6, min_samples_split=8; total time=   1.5s\n",
      "[CV 5/5; 60/80] START max_depth=4, min_samples_leaf=6, min_samples_split=8......\n",
      "[CV 5/5; 60/80] END max_depth=4, min_samples_leaf=6, min_samples_split=8; total time=   1.6s\n",
      "[CV 1/5; 61/80] START max_depth=4, min_samples_leaf=8, min_samples_split=2......\n",
      "[CV 1/5; 61/80] END max_depth=4, min_samples_leaf=8, min_samples_split=2; total time=   2.1s\n",
      "[CV 2/5; 61/80] START max_depth=4, min_samples_leaf=8, min_samples_split=2......\n",
      "[CV 2/5; 61/80] END max_depth=4, min_samples_leaf=8, min_samples_split=2; total time=   1.7s\n",
      "[CV 3/5; 61/80] START max_depth=4, min_samples_leaf=8, min_samples_split=2......\n",
      "[CV 3/5; 61/80] END max_depth=4, min_samples_leaf=8, min_samples_split=2; total time=   1.9s\n",
      "[CV 4/5; 61/80] START max_depth=4, min_samples_leaf=8, min_samples_split=2......\n",
      "[CV 4/5; 61/80] END max_depth=4, min_samples_leaf=8, min_samples_split=2; total time=   1.8s\n",
      "[CV 5/5; 61/80] START max_depth=4, min_samples_leaf=8, min_samples_split=2......\n",
      "[CV 5/5; 61/80] END max_depth=4, min_samples_leaf=8, min_samples_split=2; total time=   1.6s\n",
      "[CV 1/5; 62/80] START max_depth=4, min_samples_leaf=8, min_samples_split=4......\n",
      "[CV 1/5; 62/80] END max_depth=4, min_samples_leaf=8, min_samples_split=4; total time=   1.6s\n",
      "[CV 2/5; 62/80] START max_depth=4, min_samples_leaf=8, min_samples_split=4......\n",
      "[CV 2/5; 62/80] END max_depth=4, min_samples_leaf=8, min_samples_split=4; total time=   1.7s\n",
      "[CV 3/5; 62/80] START max_depth=4, min_samples_leaf=8, min_samples_split=4......\n",
      "[CV 3/5; 62/80] END max_depth=4, min_samples_leaf=8, min_samples_split=4; total time=   1.7s\n",
      "[CV 4/5; 62/80] START max_depth=4, min_samples_leaf=8, min_samples_split=4......\n",
      "[CV 4/5; 62/80] END max_depth=4, min_samples_leaf=8, min_samples_split=4; total time=   1.6s\n",
      "[CV 5/5; 62/80] START max_depth=4, min_samples_leaf=8, min_samples_split=4......\n",
      "[CV 5/5; 62/80] END max_depth=4, min_samples_leaf=8, min_samples_split=4; total time=   1.7s\n",
      "[CV 1/5; 63/80] START max_depth=4, min_samples_leaf=8, min_samples_split=6......\n",
      "[CV 1/5; 63/80] END max_depth=4, min_samples_leaf=8, min_samples_split=6; total time=   1.6s\n",
      "[CV 2/5; 63/80] START max_depth=4, min_samples_leaf=8, min_samples_split=6......\n",
      "[CV 2/5; 63/80] END max_depth=4, min_samples_leaf=8, min_samples_split=6; total time=   1.7s\n",
      "[CV 3/5; 63/80] START max_depth=4, min_samples_leaf=8, min_samples_split=6......\n",
      "[CV 3/5; 63/80] END max_depth=4, min_samples_leaf=8, min_samples_split=6; total time=   1.7s\n",
      "[CV 4/5; 63/80] START max_depth=4, min_samples_leaf=8, min_samples_split=6......\n",
      "[CV 4/5; 63/80] END max_depth=4, min_samples_leaf=8, min_samples_split=6; total time=   1.6s\n",
      "[CV 5/5; 63/80] START max_depth=4, min_samples_leaf=8, min_samples_split=6......\n",
      "[CV 5/5; 63/80] END max_depth=4, min_samples_leaf=8, min_samples_split=6; total time=   1.7s\n",
      "[CV 1/5; 64/80] START max_depth=4, min_samples_leaf=8, min_samples_split=8......\n",
      "[CV 1/5; 64/80] END max_depth=4, min_samples_leaf=8, min_samples_split=8; total time=   1.6s\n",
      "[CV 2/5; 64/80] START max_depth=4, min_samples_leaf=8, min_samples_split=8......\n",
      "[CV 2/5; 64/80] END max_depth=4, min_samples_leaf=8, min_samples_split=8; total time=   1.6s\n",
      "[CV 3/5; 64/80] START max_depth=4, min_samples_leaf=8, min_samples_split=8......\n",
      "[CV 3/5; 64/80] END max_depth=4, min_samples_leaf=8, min_samples_split=8; total time=   1.6s\n",
      "[CV 4/5; 64/80] START max_depth=4, min_samples_leaf=8, min_samples_split=8......\n",
      "[CV 4/5; 64/80] END max_depth=4, min_samples_leaf=8, min_samples_split=8; total time=   1.6s\n",
      "[CV 5/5; 64/80] START max_depth=4, min_samples_leaf=8, min_samples_split=8......\n",
      "[CV 5/5; 64/80] END max_depth=4, min_samples_leaf=8, min_samples_split=8; total time=   1.6s\n",
      "[CV 1/5; 65/80] START max_depth=5, min_samples_leaf=2, min_samples_split=2......\n",
      "[CV 1/5; 65/80] END max_depth=5, min_samples_leaf=2, min_samples_split=2; total time=   1.9s\n",
      "[CV 2/5; 65/80] START max_depth=5, min_samples_leaf=2, min_samples_split=2......\n",
      "[CV 2/5; 65/80] END max_depth=5, min_samples_leaf=2, min_samples_split=2; total time=   2.0s\n",
      "[CV 3/5; 65/80] START max_depth=5, min_samples_leaf=2, min_samples_split=2......\n",
      "[CV 3/5; 65/80] END max_depth=5, min_samples_leaf=2, min_samples_split=2; total time=   1.9s\n",
      "[CV 4/5; 65/80] START max_depth=5, min_samples_leaf=2, min_samples_split=2......\n",
      "[CV 4/5; 65/80] END max_depth=5, min_samples_leaf=2, min_samples_split=2; total time=   2.0s\n",
      "[CV 5/5; 65/80] START max_depth=5, min_samples_leaf=2, min_samples_split=2......\n",
      "[CV 5/5; 65/80] END max_depth=5, min_samples_leaf=2, min_samples_split=2; total time=   2.0s\n",
      "[CV 1/5; 66/80] START max_depth=5, min_samples_leaf=2, min_samples_split=4......\n",
      "[CV 1/5; 66/80] END max_depth=5, min_samples_leaf=2, min_samples_split=4; total time=   2.0s\n",
      "[CV 2/5; 66/80] START max_depth=5, min_samples_leaf=2, min_samples_split=4......\n",
      "[CV 2/5; 66/80] END max_depth=5, min_samples_leaf=2, min_samples_split=4; total time=   2.0s\n",
      "[CV 3/5; 66/80] START max_depth=5, min_samples_leaf=2, min_samples_split=4......\n",
      "[CV 3/5; 66/80] END max_depth=5, min_samples_leaf=2, min_samples_split=4; total time=   2.0s\n",
      "[CV 4/5; 66/80] START max_depth=5, min_samples_leaf=2, min_samples_split=4......\n",
      "[CV 4/5; 66/80] END max_depth=5, min_samples_leaf=2, min_samples_split=4; total time=   2.0s\n",
      "[CV 5/5; 66/80] START max_depth=5, min_samples_leaf=2, min_samples_split=4......\n",
      "[CV 5/5; 66/80] END max_depth=5, min_samples_leaf=2, min_samples_split=4; total time=   2.0s\n",
      "[CV 1/5; 67/80] START max_depth=5, min_samples_leaf=2, min_samples_split=6......\n",
      "[CV 1/5; 67/80] END max_depth=5, min_samples_leaf=2, min_samples_split=6; total time=   2.1s\n",
      "[CV 2/5; 67/80] START max_depth=5, min_samples_leaf=2, min_samples_split=6......\n",
      "[CV 2/5; 67/80] END max_depth=5, min_samples_leaf=2, min_samples_split=6; total time=   2.1s\n",
      "[CV 3/5; 67/80] START max_depth=5, min_samples_leaf=2, min_samples_split=6......\n",
      "[CV 3/5; 67/80] END max_depth=5, min_samples_leaf=2, min_samples_split=6; total time=   2.0s\n",
      "[CV 4/5; 67/80] START max_depth=5, min_samples_leaf=2, min_samples_split=6......\n",
      "[CV 4/5; 67/80] END max_depth=5, min_samples_leaf=2, min_samples_split=6; total time=   1.9s\n",
      "[CV 5/5; 67/80] START max_depth=5, min_samples_leaf=2, min_samples_split=6......\n",
      "[CV 5/5; 67/80] END max_depth=5, min_samples_leaf=2, min_samples_split=6; total time=   2.0s\n",
      "[CV 1/5; 68/80] START max_depth=5, min_samples_leaf=2, min_samples_split=8......\n",
      "[CV 1/5; 68/80] END max_depth=5, min_samples_leaf=2, min_samples_split=8; total time=   2.1s\n",
      "[CV 2/5; 68/80] START max_depth=5, min_samples_leaf=2, min_samples_split=8......\n",
      "[CV 2/5; 68/80] END max_depth=5, min_samples_leaf=2, min_samples_split=8; total time=   2.1s\n",
      "[CV 3/5; 68/80] START max_depth=5, min_samples_leaf=2, min_samples_split=8......\n",
      "[CV 3/5; 68/80] END max_depth=5, min_samples_leaf=2, min_samples_split=8; total time=   2.0s\n",
      "[CV 4/5; 68/80] START max_depth=5, min_samples_leaf=2, min_samples_split=8......\n",
      "[CV 4/5; 68/80] END max_depth=5, min_samples_leaf=2, min_samples_split=8; total time=   2.0s\n",
      "[CV 5/5; 68/80] START max_depth=5, min_samples_leaf=2, min_samples_split=8......\n",
      "[CV 5/5; 68/80] END max_depth=5, min_samples_leaf=2, min_samples_split=8; total time=   2.0s\n",
      "[CV 1/5; 69/80] START max_depth=5, min_samples_leaf=4, min_samples_split=2......\n",
      "[CV 1/5; 69/80] END max_depth=5, min_samples_leaf=4, min_samples_split=2; total time=   2.0s\n",
      "[CV 2/5; 69/80] START max_depth=5, min_samples_leaf=4, min_samples_split=2......\n",
      "[CV 2/5; 69/80] END max_depth=5, min_samples_leaf=4, min_samples_split=2; total time=   2.0s\n",
      "[CV 3/5; 69/80] START max_depth=5, min_samples_leaf=4, min_samples_split=2......\n",
      "[CV 3/5; 69/80] END max_depth=5, min_samples_leaf=4, min_samples_split=2; total time=   1.9s\n",
      "[CV 4/5; 69/80] START max_depth=5, min_samples_leaf=4, min_samples_split=2......\n",
      "[CV 4/5; 69/80] END max_depth=5, min_samples_leaf=4, min_samples_split=2; total time=   1.9s\n",
      "[CV 5/5; 69/80] START max_depth=5, min_samples_leaf=4, min_samples_split=2......\n",
      "[CV 5/5; 69/80] END max_depth=5, min_samples_leaf=4, min_samples_split=2; total time=   1.9s\n",
      "[CV 1/5; 70/80] START max_depth=5, min_samples_leaf=4, min_samples_split=4......\n",
      "[CV 1/5; 70/80] END max_depth=5, min_samples_leaf=4, min_samples_split=4; total time=   2.1s\n",
      "[CV 2/5; 70/80] START max_depth=5, min_samples_leaf=4, min_samples_split=4......\n",
      "[CV 2/5; 70/80] END max_depth=5, min_samples_leaf=4, min_samples_split=4; total time=   2.0s\n",
      "[CV 3/5; 70/80] START max_depth=5, min_samples_leaf=4, min_samples_split=4......\n",
      "[CV 3/5; 70/80] END max_depth=5, min_samples_leaf=4, min_samples_split=4; total time=   1.9s\n",
      "[CV 4/5; 70/80] START max_depth=5, min_samples_leaf=4, min_samples_split=4......\n",
      "[CV 4/5; 70/80] END max_depth=5, min_samples_leaf=4, min_samples_split=4; total time=   1.9s\n",
      "[CV 5/5; 70/80] START max_depth=5, min_samples_leaf=4, min_samples_split=4......\n",
      "[CV 5/5; 70/80] END max_depth=5, min_samples_leaf=4, min_samples_split=4; total time=   1.9s\n",
      "[CV 1/5; 71/80] START max_depth=5, min_samples_leaf=4, min_samples_split=6......\n",
      "[CV 1/5; 71/80] END max_depth=5, min_samples_leaf=4, min_samples_split=6; total time=   2.0s\n",
      "[CV 2/5; 71/80] START max_depth=5, min_samples_leaf=4, min_samples_split=6......\n",
      "[CV 2/5; 71/80] END max_depth=5, min_samples_leaf=4, min_samples_split=6; total time=   2.1s\n",
      "[CV 3/5; 71/80] START max_depth=5, min_samples_leaf=4, min_samples_split=6......\n",
      "[CV 3/5; 71/80] END max_depth=5, min_samples_leaf=4, min_samples_split=6; total time=   2.0s\n",
      "[CV 4/5; 71/80] START max_depth=5, min_samples_leaf=4, min_samples_split=6......\n",
      "[CV 4/5; 71/80] END max_depth=5, min_samples_leaf=4, min_samples_split=6; total time=   1.9s\n",
      "[CV 5/5; 71/80] START max_depth=5, min_samples_leaf=4, min_samples_split=6......\n",
      "[CV 5/5; 71/80] END max_depth=5, min_samples_leaf=4, min_samples_split=6; total time=   1.9s\n",
      "[CV 1/5; 72/80] START max_depth=5, min_samples_leaf=4, min_samples_split=8......\n",
      "[CV 1/5; 72/80] END max_depth=5, min_samples_leaf=4, min_samples_split=8; total time=   2.0s\n",
      "[CV 2/5; 72/80] START max_depth=5, min_samples_leaf=4, min_samples_split=8......\n",
      "[CV 2/5; 72/80] END max_depth=5, min_samples_leaf=4, min_samples_split=8; total time=   2.1s\n",
      "[CV 3/5; 72/80] START max_depth=5, min_samples_leaf=4, min_samples_split=8......\n",
      "[CV 3/5; 72/80] END max_depth=5, min_samples_leaf=4, min_samples_split=8; total time=   1.9s\n",
      "[CV 4/5; 72/80] START max_depth=5, min_samples_leaf=4, min_samples_split=8......\n",
      "[CV 4/5; 72/80] END max_depth=5, min_samples_leaf=4, min_samples_split=8; total time=   2.0s\n",
      "[CV 5/5; 72/80] START max_depth=5, min_samples_leaf=4, min_samples_split=8......\n",
      "[CV 5/5; 72/80] END max_depth=5, min_samples_leaf=4, min_samples_split=8; total time=   1.9s\n",
      "[CV 1/5; 73/80] START max_depth=5, min_samples_leaf=6, min_samples_split=2......\n",
      "[CV 1/5; 73/80] END max_depth=5, min_samples_leaf=6, min_samples_split=2; total time=   2.0s\n",
      "[CV 2/5; 73/80] START max_depth=5, min_samples_leaf=6, min_samples_split=2......\n",
      "[CV 2/5; 73/80] END max_depth=5, min_samples_leaf=6, min_samples_split=2; total time=   2.1s\n",
      "[CV 3/5; 73/80] START max_depth=5, min_samples_leaf=6, min_samples_split=2......\n",
      "[CV 3/5; 73/80] END max_depth=5, min_samples_leaf=6, min_samples_split=2; total time=   1.9s\n",
      "[CV 4/5; 73/80] START max_depth=5, min_samples_leaf=6, min_samples_split=2......\n",
      "[CV 4/5; 73/80] END max_depth=5, min_samples_leaf=6, min_samples_split=2; total time=   1.9s\n",
      "[CV 5/5; 73/80] START max_depth=5, min_samples_leaf=6, min_samples_split=2......\n",
      "[CV 5/5; 73/80] END max_depth=5, min_samples_leaf=6, min_samples_split=2; total time=   1.9s\n",
      "[CV 1/5; 74/80] START max_depth=5, min_samples_leaf=6, min_samples_split=4......\n",
      "[CV 1/5; 74/80] END max_depth=5, min_samples_leaf=6, min_samples_split=4; total time=   2.0s\n",
      "[CV 2/5; 74/80] START max_depth=5, min_samples_leaf=6, min_samples_split=4......\n",
      "[CV 2/5; 74/80] END max_depth=5, min_samples_leaf=6, min_samples_split=4; total time=   2.1s\n",
      "[CV 3/5; 74/80] START max_depth=5, min_samples_leaf=6, min_samples_split=4......\n",
      "[CV 3/5; 74/80] END max_depth=5, min_samples_leaf=6, min_samples_split=4; total time=   2.0s\n",
      "[CV 4/5; 74/80] START max_depth=5, min_samples_leaf=6, min_samples_split=4......\n",
      "[CV 4/5; 74/80] END max_depth=5, min_samples_leaf=6, min_samples_split=4; total time=   1.9s\n",
      "[CV 5/5; 74/80] START max_depth=5, min_samples_leaf=6, min_samples_split=4......\n",
      "[CV 5/5; 74/80] END max_depth=5, min_samples_leaf=6, min_samples_split=4; total time=   2.0s\n",
      "[CV 1/5; 75/80] START max_depth=5, min_samples_leaf=6, min_samples_split=6......\n",
      "[CV 1/5; 75/80] END max_depth=5, min_samples_leaf=6, min_samples_split=6; total time=   2.0s\n",
      "[CV 2/5; 75/80] START max_depth=5, min_samples_leaf=6, min_samples_split=6......\n",
      "[CV 2/5; 75/80] END max_depth=5, min_samples_leaf=6, min_samples_split=6; total time=   2.2s\n",
      "[CV 3/5; 75/80] START max_depth=5, min_samples_leaf=6, min_samples_split=6......\n",
      "[CV 3/5; 75/80] END max_depth=5, min_samples_leaf=6, min_samples_split=6; total time=   2.0s\n",
      "[CV 4/5; 75/80] START max_depth=5, min_samples_leaf=6, min_samples_split=6......\n",
      "[CV 4/5; 75/80] END max_depth=5, min_samples_leaf=6, min_samples_split=6; total time=   2.0s\n",
      "[CV 5/5; 75/80] START max_depth=5, min_samples_leaf=6, min_samples_split=6......\n",
      "[CV 5/5; 75/80] END max_depth=5, min_samples_leaf=6, min_samples_split=6; total time=   2.1s\n",
      "[CV 1/5; 76/80] START max_depth=5, min_samples_leaf=6, min_samples_split=8......\n",
      "[CV 1/5; 76/80] END max_depth=5, min_samples_leaf=6, min_samples_split=8; total time=   2.1s\n",
      "[CV 2/5; 76/80] START max_depth=5, min_samples_leaf=6, min_samples_split=8......\n",
      "[CV 2/5; 76/80] END max_depth=5, min_samples_leaf=6, min_samples_split=8; total time=   2.2s\n",
      "[CV 3/5; 76/80] START max_depth=5, min_samples_leaf=6, min_samples_split=8......\n",
      "[CV 3/5; 76/80] END max_depth=5, min_samples_leaf=6, min_samples_split=8; total time=   2.0s\n",
      "[CV 4/5; 76/80] START max_depth=5, min_samples_leaf=6, min_samples_split=8......\n",
      "[CV 4/5; 76/80] END max_depth=5, min_samples_leaf=6, min_samples_split=8; total time=   1.9s\n",
      "[CV 5/5; 76/80] START max_depth=5, min_samples_leaf=6, min_samples_split=8......\n",
      "[CV 5/5; 76/80] END max_depth=5, min_samples_leaf=6, min_samples_split=8; total time=   1.9s\n",
      "[CV 1/5; 77/80] START max_depth=5, min_samples_leaf=8, min_samples_split=2......\n",
      "[CV 1/5; 77/80] END max_depth=5, min_samples_leaf=8, min_samples_split=2; total time=   1.9s\n",
      "[CV 2/5; 77/80] START max_depth=5, min_samples_leaf=8, min_samples_split=2......\n",
      "[CV 2/5; 77/80] END max_depth=5, min_samples_leaf=8, min_samples_split=2; total time=   2.1s\n",
      "[CV 3/5; 77/80] START max_depth=5, min_samples_leaf=8, min_samples_split=2......\n",
      "[CV 3/5; 77/80] END max_depth=5, min_samples_leaf=8, min_samples_split=2; total time=   2.0s\n",
      "[CV 4/5; 77/80] START max_depth=5, min_samples_leaf=8, min_samples_split=2......\n",
      "[CV 4/5; 77/80] END max_depth=5, min_samples_leaf=8, min_samples_split=2; total time=   1.9s\n",
      "[CV 5/5; 77/80] START max_depth=5, min_samples_leaf=8, min_samples_split=2......\n",
      "[CV 5/5; 77/80] END max_depth=5, min_samples_leaf=8, min_samples_split=2; total time=   2.0s\n",
      "[CV 1/5; 78/80] START max_depth=5, min_samples_leaf=8, min_samples_split=4......\n",
      "[CV 1/5; 78/80] END max_depth=5, min_samples_leaf=8, min_samples_split=4; total time=   2.1s\n",
      "[CV 2/5; 78/80] START max_depth=5, min_samples_leaf=8, min_samples_split=4......\n",
      "[CV 2/5; 78/80] END max_depth=5, min_samples_leaf=8, min_samples_split=4; total time=   2.0s\n",
      "[CV 3/5; 78/80] START max_depth=5, min_samples_leaf=8, min_samples_split=4......\n",
      "[CV 3/5; 78/80] END max_depth=5, min_samples_leaf=8, min_samples_split=4; total time=   2.0s\n",
      "[CV 4/5; 78/80] START max_depth=5, min_samples_leaf=8, min_samples_split=4......\n",
      "[CV 4/5; 78/80] END max_depth=5, min_samples_leaf=8, min_samples_split=4; total time=   2.0s\n",
      "[CV 5/5; 78/80] START max_depth=5, min_samples_leaf=8, min_samples_split=4......\n",
      "[CV 5/5; 78/80] END max_depth=5, min_samples_leaf=8, min_samples_split=4; total time=   2.0s\n",
      "[CV 1/5; 79/80] START max_depth=5, min_samples_leaf=8, min_samples_split=6......\n",
      "[CV 1/5; 79/80] END max_depth=5, min_samples_leaf=8, min_samples_split=6; total time=   2.0s\n",
      "[CV 2/5; 79/80] START max_depth=5, min_samples_leaf=8, min_samples_split=6......\n",
      "[CV 2/5; 79/80] END max_depth=5, min_samples_leaf=8, min_samples_split=6; total time=   2.0s\n",
      "[CV 3/5; 79/80] START max_depth=5, min_samples_leaf=8, min_samples_split=6......\n",
      "[CV 3/5; 79/80] END max_depth=5, min_samples_leaf=8, min_samples_split=6; total time=   2.0s\n",
      "[CV 4/5; 79/80] START max_depth=5, min_samples_leaf=8, min_samples_split=6......\n",
      "[CV 4/5; 79/80] END max_depth=5, min_samples_leaf=8, min_samples_split=6; total time=   2.0s\n",
      "[CV 5/5; 79/80] START max_depth=5, min_samples_leaf=8, min_samples_split=6......\n",
      "[CV 5/5; 79/80] END max_depth=5, min_samples_leaf=8, min_samples_split=6; total time=   2.0s\n",
      "[CV 1/5; 80/80] START max_depth=5, min_samples_leaf=8, min_samples_split=8......\n",
      "[CV 1/5; 80/80] END max_depth=5, min_samples_leaf=8, min_samples_split=8; total time=   2.0s\n",
      "[CV 2/5; 80/80] START max_depth=5, min_samples_leaf=8, min_samples_split=8......\n",
      "[CV 2/5; 80/80] END max_depth=5, min_samples_leaf=8, min_samples_split=8; total time=   2.1s\n",
      "[CV 3/5; 80/80] START max_depth=5, min_samples_leaf=8, min_samples_split=8......\n",
      "[CV 3/5; 80/80] END max_depth=5, min_samples_leaf=8, min_samples_split=8; total time=   2.0s\n",
      "[CV 4/5; 80/80] START max_depth=5, min_samples_leaf=8, min_samples_split=8......\n",
      "[CV 4/5; 80/80] END max_depth=5, min_samples_leaf=8, min_samples_split=8; total time=   2.0s\n",
      "[CV 5/5; 80/80] START max_depth=5, min_samples_leaf=8, min_samples_split=8......\n",
      "[CV 5/5; 80/80] END max_depth=5, min_samples_leaf=8, min_samples_split=8; total time=   2.0s\n"
     ]
    },
    {
     "data": {
      "text/plain": [
       "GridSearchCV(cv=5, estimator=DecisionTreeRegressor(random_state=12345),\n",
       "             n_jobs=-1,\n",
       "             param_grid={'max_depth': range(1, 6),\n",
       "                         'min_samples_leaf': range(2, 10, 2),\n",
       "                         'min_samples_split': range(2, 10, 2)},\n",
       "             scoring='neg_root_mean_squared_error', verbose=10)"
      ]
     },
     "execution_count": 21,
     "metadata": {},
     "output_type": "execute_result"
    }
   ],
   "source": [
    "dtr = DecisionTreeRegressor(random_state=12345)\n",
    "parametrs = {\n",
    "    \"max_depth\": range(1, 6),\n",
    "    \"min_samples_split\": range(2, 10, 2),\n",
    "    \"min_samples_leaf\": range(2, 10, 2),\n",
    "}\n",
    "grid = GridSearchCV(\n",
    "    dtr, parametrs, cv=5, n_jobs=-1, verbose=10, scoring=\"neg_root_mean_squared_error\"\n",
    ")\n",
    "grid.fit(features_train_ohe, target_train)"
   ]
  },
  {
   "cell_type": "markdown",
   "metadata": {},
   "source": [
    "Рассмотрим лучшие параметры."
   ]
  },
  {
   "cell_type": "code",
   "execution_count": 22,
   "metadata": {},
   "outputs": [
    {
     "data": {
      "text/plain": [
       "{'max_depth': 5, 'min_samples_leaf': 2, 'min_samples_split': 2}"
      ]
     },
     "execution_count": 22,
     "metadata": {},
     "output_type": "execute_result"
    }
   ],
   "source": [
    "grid.best_params_ "
   ]
  },
  {
   "cell_type": "markdown",
   "metadata": {},
   "source": [
    "Определим RMSE для тренировочной выборки при использовании модели DecisionTreeRegressor."
   ]
  },
  {
   "cell_type": "code",
   "execution_count": 23,
   "metadata": {},
   "outputs": [
    {
     "name": "stdout",
     "output_type": "stream",
     "text": [
      "RMSE равно:\" 2982.9662141186905\n"
     ]
    }
   ],
   "source": [
    "rmse = - grid.best_score_\n",
    "print('RMSE равно:\"', rmse)"
   ]
  },
  {
   "cell_type": "markdown",
   "metadata": {},
   "source": [
    "Определим время обучения при использовании модели DecisionTreeRegressor."
   ]
  },
  {
   "cell_type": "code",
   "execution_count": 24,
   "metadata": {},
   "outputs": [],
   "source": [
    "start = time.time()\n",
    "\n",
    "model = DecisionTreeRegressor(max_depth = 5, min_samples_split = 2, min_samples_leaf = 2, random_state=12345)\n",
    "model.fit(features_train_ohe, target_train)\n",
    "\n",
    "end_fit_dtr = time.time() - start"
   ]
  },
  {
   "cell_type": "markdown",
   "metadata": {},
   "source": [
    "Определим время предсказания при использовании модели DecisionTreeRegressor и качество модели."
   ]
  },
  {
   "cell_type": "code",
   "execution_count": 25,
   "metadata": {},
   "outputs": [
    {
     "name": "stdout",
     "output_type": "stream",
     "text": [
      "2983.7739720728337\n"
     ]
    }
   ],
   "source": [
    "start = time.time()\n",
    "\n",
    "predictions = model.predict(features_train_ohe)\n",
    "rmse_dtr = mean_squared_error(target_train, predictions) ** 0.5\n",
    "\n",
    "end_predict_dtr = time.time() - start\n",
    "\n",
    "print(rmse_dtr)"
   ]
  },
  {
   "cell_type": "markdown",
   "metadata": {},
   "source": [
    "Зададим список качественных признаков."
   ]
  },
  {
   "cell_type": "code",
   "execution_count": 26,
   "metadata": {},
   "outputs": [],
   "source": [
    "cat_features = [\"vehicletype\", \"gearbox\", \"model\", \"fueltype\", \"brand\", \"repaired\"]"
   ]
  },
  {
   "cell_type": "code",
   "execution_count": 27,
   "metadata": {},
   "outputs": [],
   "source": [
    "cb = CatBoostRegressor(n_estimators=1500,\n",
    "                       loss_function='RMSE',\n",
    "                       learning_rate=0.4,\n",
    "                       depth=3, task_type='CPU',\n",
    "                       random_state=1,\n",
    "                       verbose=False)\n",
    "\n",
    "pool_train = Pool(features_train, target_train,\n",
    "                  cat_features = cat_features)\n",
    "\n",
    "pool_valid = Pool(features_valid, cat_features = cat_features)"
   ]
  },
  {
   "cell_type": "markdown",
   "metadata": {},
   "source": [
    "Определим время обучения модели CatBoostRegressor."
   ]
  },
  {
   "cell_type": "code",
   "execution_count": 28,
   "metadata": {},
   "outputs": [
    {
     "name": "stdout",
     "output_type": "stream",
     "text": [
      "0:\tlearn: 3851.3311712\ttotal: 199ms\tremaining: 4m 58s\n",
      "30:\tlearn: 2628.4752928\ttotal: 2.83s\tremaining: 2m 14s\n",
      "60:\tlearn: 2533.8226392\ttotal: 5.41s\tremaining: 2m 7s\n",
      "90:\tlearn: 2490.4805384\ttotal: 8.14s\tremaining: 2m 6s\n",
      "120:\tlearn: 2454.1915877\ttotal: 10.8s\tremaining: 2m 3s\n",
      "150:\tlearn: 2428.1013549\ttotal: 13.4s\tremaining: 1m 59s\n",
      "180:\tlearn: 2407.6209693\ttotal: 16.3s\tremaining: 1m 58s\n",
      "210:\tlearn: 2392.6794172\ttotal: 19s\tremaining: 1m 56s\n",
      "240:\tlearn: 2377.1873525\ttotal: 21.4s\tremaining: 1m 51s\n",
      "270:\tlearn: 2364.5795354\ttotal: 23.8s\tremaining: 1m 47s\n",
      "300:\tlearn: 2349.9015982\ttotal: 26.6s\tremaining: 1m 46s\n",
      "330:\tlearn: 2337.6074834\ttotal: 29.3s\tremaining: 1m 43s\n",
      "360:\tlearn: 2332.1908061\ttotal: 31.7s\tremaining: 1m 40s\n",
      "390:\tlearn: 2323.5258518\ttotal: 34.5s\tremaining: 1m 37s\n",
      "420:\tlearn: 2314.6192535\ttotal: 37.2s\tremaining: 1m 35s\n",
      "450:\tlearn: 2309.5688143\ttotal: 39.7s\tremaining: 1m 32s\n",
      "480:\tlearn: 2302.1469412\ttotal: 42.3s\tremaining: 1m 29s\n",
      "510:\tlearn: 2296.9765753\ttotal: 44.7s\tremaining: 1m 26s\n",
      "540:\tlearn: 2289.9663212\ttotal: 47.1s\tremaining: 1m 23s\n",
      "570:\tlearn: 2285.7200941\ttotal: 49.5s\tremaining: 1m 20s\n",
      "600:\tlearn: 2282.1152776\ttotal: 51.9s\tremaining: 1m 17s\n",
      "630:\tlearn: 2275.0456402\ttotal: 54.5s\tremaining: 1m 15s\n",
      "660:\tlearn: 2269.0453868\ttotal: 57.1s\tremaining: 1m 12s\n",
      "690:\tlearn: 2264.8018433\ttotal: 59.5s\tremaining: 1m 9s\n",
      "720:\tlearn: 2261.0736527\ttotal: 1m 2s\tremaining: 1m 7s\n",
      "750:\tlearn: 2257.0532087\ttotal: 1m 5s\tremaining: 1m 4s\n",
      "780:\tlearn: 2254.0054377\ttotal: 1m 7s\tremaining: 1m 2s\n",
      "810:\tlearn: 2250.9411284\ttotal: 1m 10s\tremaining: 59.6s\n",
      "840:\tlearn: 2247.0364778\ttotal: 1m 12s\tremaining: 56.9s\n",
      "870:\tlearn: 2244.3343825\ttotal: 1m 15s\tremaining: 54.2s\n",
      "900:\tlearn: 2241.2930250\ttotal: 1m 17s\tremaining: 51.4s\n",
      "930:\tlearn: 2238.9801250\ttotal: 1m 19s\tremaining: 48.6s\n",
      "960:\tlearn: 2235.6399368\ttotal: 1m 22s\tremaining: 46s\n",
      "990:\tlearn: 2233.2874528\ttotal: 1m 24s\tremaining: 43.5s\n",
      "1020:\tlearn: 2230.9695393\ttotal: 1m 27s\tremaining: 41s\n",
      "1050:\tlearn: 2228.0538509\ttotal: 1m 29s\tremaining: 38.4s\n",
      "1080:\tlearn: 2225.9341712\ttotal: 1m 32s\tremaining: 35.7s\n",
      "1110:\tlearn: 2224.0672697\ttotal: 1m 34s\tremaining: 33.1s\n",
      "1140:\tlearn: 2221.1399835\ttotal: 1m 37s\tremaining: 30.5s\n",
      "1170:\tlearn: 2218.0214512\ttotal: 1m 39s\tremaining: 27.9s\n",
      "1200:\tlearn: 2216.1485715\ttotal: 1m 41s\tremaining: 25.3s\n",
      "1230:\tlearn: 2214.2864691\ttotal: 1m 44s\tremaining: 22.8s\n",
      "1260:\tlearn: 2211.1716722\ttotal: 1m 47s\tremaining: 20.3s\n",
      "1290:\tlearn: 2209.1177291\ttotal: 1m 49s\tremaining: 17.7s\n",
      "1320:\tlearn: 2207.6002765\ttotal: 1m 51s\tremaining: 15.1s\n",
      "1350:\tlearn: 2204.6319981\ttotal: 1m 54s\tremaining: 12.6s\n",
      "1380:\tlearn: 2202.6992329\ttotal: 1m 56s\tremaining: 10.1s\n",
      "1410:\tlearn: 2200.5521711\ttotal: 1m 59s\tremaining: 7.51s\n",
      "1440:\tlearn: 2198.4137094\ttotal: 2m 1s\tremaining: 4.98s\n",
      "1470:\tlearn: 2196.9723797\ttotal: 2m 3s\tremaining: 2.44s\n",
      "1499:\tlearn: 2195.2513418\ttotal: 2m 6s\tremaining: 0us\n"
     ]
    }
   ],
   "source": [
    "start = time.time()\n",
    "\n",
    "cb.fit(pool_train, verbose=30) \n",
    "\n",
    "end_fit_cb = time.time() - start"
   ]
  },
  {
   "cell_type": "markdown",
   "metadata": {},
   "source": [
    "Определим время предсказания при использовании модели CatBoostRegressor и качество модели."
   ]
  },
  {
   "cell_type": "code",
   "execution_count": 29,
   "metadata": {},
   "outputs": [
    {
     "name": "stdout",
     "output_type": "stream",
     "text": [
      "2239.7797697593455\n"
     ]
    }
   ],
   "source": [
    "start = time.time()\n",
    "\n",
    "predictions = cb.predict(features_valid)\n",
    "rmse_cb = mean_squared_error(target_valid, predictions) ** 0.5\n",
    "\n",
    "end_predict_cb = time.time() - start\n",
    "\n",
    "print(rmse_cb)"
   ]
  },
  {
   "cell_type": "markdown",
   "metadata": {},
   "source": [
    "Параметра модели LightGBM."
   ]
  },
  {
   "cell_type": "code",
   "execution_count": 30,
   "metadata": {},
   "outputs": [],
   "source": [
    "params = {\n",
    "    'num_iterations': 500,\n",
    "    'max_depth': 20,\n",
    "    'task': 'train', \n",
    "    'boosting': 'gbdt',\n",
    "    'objective': 'regression',\n",
    "    'num_leaves': 10,\n",
    "    'learnnig_rage': 0.05,\n",
    "    'metric': 'l1',\n",
    "    'verbose': -1\n",
    "}"
   ]
  },
  {
   "cell_type": "markdown",
   "metadata": {},
   "source": [
    "Создадим данные для модели LightGBM."
   ]
  },
  {
   "cell_type": "code",
   "execution_count": 31,
   "metadata": {},
   "outputs": [],
   "source": [
    "lgb_train = lgb.Dataset(features_train, target_train)\n",
    "lgb_valid= lgb.Dataset(features_valid, target_valid)"
   ]
  },
  {
   "cell_type": "markdown",
   "metadata": {},
   "source": [
    "Определим время обучения модели LightGBM."
   ]
  },
  {
   "cell_type": "code",
   "execution_count": 32,
   "metadata": {},
   "outputs": [
    {
     "name": "stdout",
     "output_type": "stream",
     "text": [
      "[LightGBM] [Warning] Unknown parameter: learnnig_rage\n"
     ]
    },
    {
     "name": "stderr",
     "output_type": "stream",
     "text": [
      "/opt/conda/lib/python3.9/site-packages/lightgbm/engine.py:177: UserWarning: Found `num_iterations` in params. Will use it instead of argument\n",
      "  _log_warning(f\"Found `{alias}` in params. Will use it instead of argument\")\n",
      "/opt/conda/lib/python3.9/site-packages/lightgbm/engine.py:181: UserWarning: 'early_stopping_rounds' argument is deprecated and will be removed in a future release of LightGBM. Pass 'early_stopping()' callback via 'callbacks' argument instead.\n",
      "  _log_warning(\"'early_stopping_rounds' argument is deprecated and will be removed in a future release of LightGBM. \"\n",
      "/opt/conda/lib/python3.9/site-packages/lightgbm/basic.py:1780: UserWarning: Overriding the parameters from Reference Dataset.\n",
      "  _log_warning('Overriding the parameters from Reference Dataset.')\n",
      "/opt/conda/lib/python3.9/site-packages/lightgbm/basic.py:1513: UserWarning: categorical_column in param dict is overridden.\n",
      "  _log_warning(f'{cat_alias} in param dict is overridden.')\n"
     ]
    },
    {
     "name": "stdout",
     "output_type": "stream",
     "text": [
      "[1]\tvalid_0's l1: 3375.2\n",
      "Training until validation scores don't improve for 10 rounds\n",
      "[2]\tvalid_0's l1: 3216.28\n",
      "[3]\tvalid_0's l1: 3075.91\n",
      "[4]\tvalid_0's l1: 2955.68\n",
      "[5]\tvalid_0's l1: 2848.14\n",
      "[6]\tvalid_0's l1: 2756.86\n",
      "[7]\tvalid_0's l1: 2672.29\n",
      "[8]\tvalid_0's l1: 2594.87\n",
      "[9]\tvalid_0's l1: 2523.89\n",
      "[10]\tvalid_0's l1: 2464.44\n",
      "[11]\tvalid_0's l1: 2410.51\n",
      "[12]\tvalid_0's l1: 2363.58\n",
      "[13]\tvalid_0's l1: 2314.38\n",
      "[14]\tvalid_0's l1: 2268.59\n",
      "[15]\tvalid_0's l1: 2227.24\n",
      "[16]\tvalid_0's l1: 2191.72\n",
      "[17]\tvalid_0's l1: 2156.16\n",
      "[18]\tvalid_0's l1: 2124.45\n",
      "[19]\tvalid_0's l1: 2093.73\n",
      "[20]\tvalid_0's l1: 2070.17\n",
      "[21]\tvalid_0's l1: 2045.74\n",
      "[22]\tvalid_0's l1: 2026.19\n",
      "[23]\tvalid_0's l1: 2005.2\n",
      "[24]\tvalid_0's l1: 1987.55\n",
      "[25]\tvalid_0's l1: 1967.59\n",
      "[26]\tvalid_0's l1: 1952.85\n",
      "[27]\tvalid_0's l1: 1938.39\n",
      "[28]\tvalid_0's l1: 1924.83\n",
      "[29]\tvalid_0's l1: 1908.94\n",
      "[30]\tvalid_0's l1: 1897.86\n",
      "[31]\tvalid_0's l1: 1887.56\n",
      "[32]\tvalid_0's l1: 1876.69\n",
      "[33]\tvalid_0's l1: 1868.7\n",
      "[34]\tvalid_0's l1: 1859.73\n",
      "[35]\tvalid_0's l1: 1851.47\n",
      "[36]\tvalid_0's l1: 1843.21\n",
      "[37]\tvalid_0's l1: 1835.48\n",
      "[38]\tvalid_0's l1: 1829.2\n",
      "[39]\tvalid_0's l1: 1821.66\n",
      "[40]\tvalid_0's l1: 1816.39\n",
      "[41]\tvalid_0's l1: 1811.26\n",
      "[42]\tvalid_0's l1: 1805.13\n",
      "[43]\tvalid_0's l1: 1799.71\n",
      "[44]\tvalid_0's l1: 1796.1\n",
      "[45]\tvalid_0's l1: 1790.79\n",
      "[46]\tvalid_0's l1: 1787.39\n",
      "[47]\tvalid_0's l1: 1783.81\n",
      "[48]\tvalid_0's l1: 1780.02\n",
      "[49]\tvalid_0's l1: 1774.91\n",
      "[50]\tvalid_0's l1: 1772.22\n",
      "[51]\tvalid_0's l1: 1769.16\n",
      "[52]\tvalid_0's l1: 1766.99\n",
      "[53]\tvalid_0's l1: 1765\n",
      "[54]\tvalid_0's l1: 1762.91\n",
      "[55]\tvalid_0's l1: 1760.34\n",
      "[56]\tvalid_0's l1: 1757.47\n",
      "[57]\tvalid_0's l1: 1755.1\n",
      "[58]\tvalid_0's l1: 1752.67\n",
      "[59]\tvalid_0's l1: 1750.59\n",
      "[60]\tvalid_0's l1: 1748.62\n",
      "[61]\tvalid_0's l1: 1746.18\n",
      "[62]\tvalid_0's l1: 1743.63\n",
      "[63]\tvalid_0's l1: 1742.49\n",
      "[64]\tvalid_0's l1: 1740.56\n",
      "[65]\tvalid_0's l1: 1738.75\n",
      "[66]\tvalid_0's l1: 1735.66\n",
      "[67]\tvalid_0's l1: 1733.69\n",
      "[68]\tvalid_0's l1: 1730.24\n",
      "[69]\tvalid_0's l1: 1729.06\n",
      "[70]\tvalid_0's l1: 1727.06\n",
      "[71]\tvalid_0's l1: 1723.92\n",
      "[72]\tvalid_0's l1: 1723.16\n",
      "[73]\tvalid_0's l1: 1719.79\n",
      "[74]\tvalid_0's l1: 1718.73\n",
      "[75]\tvalid_0's l1: 1717.77\n",
      "[76]\tvalid_0's l1: 1716.98\n",
      "[77]\tvalid_0's l1: 1715.6\n",
      "[78]\tvalid_0's l1: 1713.98\n",
      "[79]\tvalid_0's l1: 1713.01\n",
      "[80]\tvalid_0's l1: 1710.58\n",
      "[81]\tvalid_0's l1: 1709.65\n",
      "[82]\tvalid_0's l1: 1709.12\n",
      "[83]\tvalid_0's l1: 1708.23\n",
      "[84]\tvalid_0's l1: 1707.6\n",
      "[85]\tvalid_0's l1: 1706.85\n",
      "[86]\tvalid_0's l1: 1705.83\n",
      "[87]\tvalid_0's l1: 1704.01\n",
      "[88]\tvalid_0's l1: 1701.59\n",
      "[89]\tvalid_0's l1: 1701.05\n",
      "[90]\tvalid_0's l1: 1700.11\n",
      "[91]\tvalid_0's l1: 1699.19\n",
      "[92]\tvalid_0's l1: 1697.85\n",
      "[93]\tvalid_0's l1: 1696.16\n",
      "[94]\tvalid_0's l1: 1695.43\n",
      "[95]\tvalid_0's l1: 1694.14\n",
      "[96]\tvalid_0's l1: 1692.63\n",
      "[97]\tvalid_0's l1: 1691.92\n",
      "[98]\tvalid_0's l1: 1690.96\n",
      "[99]\tvalid_0's l1: 1689.31\n",
      "[100]\tvalid_0's l1: 1687.19\n",
      "[101]\tvalid_0's l1: 1686.18\n",
      "[102]\tvalid_0's l1: 1685.34\n",
      "[103]\tvalid_0's l1: 1684.91\n",
      "[104]\tvalid_0's l1: 1682.43\n",
      "[105]\tvalid_0's l1: 1682.13\n",
      "[106]\tvalid_0's l1: 1681.63\n",
      "[107]\tvalid_0's l1: 1681.02\n",
      "[108]\tvalid_0's l1: 1680.5\n",
      "[109]\tvalid_0's l1: 1680.09\n",
      "[110]\tvalid_0's l1: 1679.49\n",
      "[111]\tvalid_0's l1: 1679\n",
      "[112]\tvalid_0's l1: 1677.68\n",
      "[113]\tvalid_0's l1: 1676.34\n",
      "[114]\tvalid_0's l1: 1674.56\n",
      "[115]\tvalid_0's l1: 1673.63\n",
      "[116]\tvalid_0's l1: 1672.56\n",
      "[117]\tvalid_0's l1: 1672.38\n",
      "[118]\tvalid_0's l1: 1671.72\n",
      "[119]\tvalid_0's l1: 1669.57\n",
      "[120]\tvalid_0's l1: 1668.74\n",
      "[121]\tvalid_0's l1: 1668.18\n",
      "[122]\tvalid_0's l1: 1667.79\n",
      "[123]\tvalid_0's l1: 1667.13\n",
      "[124]\tvalid_0's l1: 1666.76\n",
      "[125]\tvalid_0's l1: 1665.72\n",
      "[126]\tvalid_0's l1: 1665.44\n",
      "[127]\tvalid_0's l1: 1665.14\n",
      "[128]\tvalid_0's l1: 1664.6\n",
      "[129]\tvalid_0's l1: 1664.09\n",
      "[130]\tvalid_0's l1: 1663.08\n",
      "[131]\tvalid_0's l1: 1662.59\n",
      "[132]\tvalid_0's l1: 1662.12\n",
      "[133]\tvalid_0's l1: 1661.74\n",
      "[134]\tvalid_0's l1: 1661.43\n",
      "[135]\tvalid_0's l1: 1661.02\n",
      "[136]\tvalid_0's l1: 1659.61\n",
      "[137]\tvalid_0's l1: 1659\n",
      "[138]\tvalid_0's l1: 1658.2\n",
      "[139]\tvalid_0's l1: 1657.12\n",
      "[140]\tvalid_0's l1: 1656.67\n",
      "[141]\tvalid_0's l1: 1654.87\n",
      "[142]\tvalid_0's l1: 1652.51\n",
      "[143]\tvalid_0's l1: 1650.83\n",
      "[144]\tvalid_0's l1: 1650.32\n",
      "[145]\tvalid_0's l1: 1649.08\n",
      "[146]\tvalid_0's l1: 1648.76\n",
      "[147]\tvalid_0's l1: 1648.68\n",
      "[148]\tvalid_0's l1: 1646.94\n",
      "[149]\tvalid_0's l1: 1646.04\n",
      "[150]\tvalid_0's l1: 1645.3\n",
      "[151]\tvalid_0's l1: 1644.96\n",
      "[152]\tvalid_0's l1: 1644.68\n",
      "[153]\tvalid_0's l1: 1644.27\n",
      "[154]\tvalid_0's l1: 1643.89\n",
      "[155]\tvalid_0's l1: 1643.25\n",
      "[156]\tvalid_0's l1: 1642.6\n",
      "[157]\tvalid_0's l1: 1642.35\n",
      "[158]\tvalid_0's l1: 1642.1\n",
      "[159]\tvalid_0's l1: 1641.78\n",
      "[160]\tvalid_0's l1: 1641.32\n",
      "[161]\tvalid_0's l1: 1639.78\n",
      "[162]\tvalid_0's l1: 1639.61\n",
      "[163]\tvalid_0's l1: 1638.39\n",
      "[164]\tvalid_0's l1: 1638.11\n",
      "[165]\tvalid_0's l1: 1637.99\n",
      "[166]\tvalid_0's l1: 1637.56\n",
      "[167]\tvalid_0's l1: 1636.95\n",
      "[168]\tvalid_0's l1: 1636.68\n",
      "[169]\tvalid_0's l1: 1636.29\n",
      "[170]\tvalid_0's l1: 1634.56\n",
      "[171]\tvalid_0's l1: 1634.36\n",
      "[172]\tvalid_0's l1: 1633.82\n",
      "[173]\tvalid_0's l1: 1633.3\n",
      "[174]\tvalid_0's l1: 1632.97\n",
      "[175]\tvalid_0's l1: 1632.63\n",
      "[176]\tvalid_0's l1: 1632.5\n",
      "[177]\tvalid_0's l1: 1632.35\n",
      "[178]\tvalid_0's l1: 1630.46\n",
      "[179]\tvalid_0's l1: 1629.05\n",
      "[180]\tvalid_0's l1: 1627.98\n",
      "[181]\tvalid_0's l1: 1627.99\n",
      "[182]\tvalid_0's l1: 1626.9\n",
      "[183]\tvalid_0's l1: 1626.04\n",
      "[184]\tvalid_0's l1: 1625.33\n",
      "[185]\tvalid_0's l1: 1624.82\n",
      "[186]\tvalid_0's l1: 1623.92\n",
      "[187]\tvalid_0's l1: 1623.57\n",
      "[188]\tvalid_0's l1: 1622.82\n",
      "[189]\tvalid_0's l1: 1622.58\n",
      "[190]\tvalid_0's l1: 1622.35\n",
      "[191]\tvalid_0's l1: 1621.55\n",
      "[192]\tvalid_0's l1: 1621.4\n",
      "[193]\tvalid_0's l1: 1621.16\n",
      "[194]\tvalid_0's l1: 1620.49\n",
      "[195]\tvalid_0's l1: 1620.41\n",
      "[196]\tvalid_0's l1: 1619.22\n",
      "[197]\tvalid_0's l1: 1618.38\n",
      "[198]\tvalid_0's l1: 1617.54\n",
      "[199]\tvalid_0's l1: 1617.28\n",
      "[200]\tvalid_0's l1: 1616.1\n",
      "[201]\tvalid_0's l1: 1615.27\n",
      "[202]\tvalid_0's l1: 1615.11\n",
      "[203]\tvalid_0's l1: 1614.3\n",
      "[204]\tvalid_0's l1: 1613.7\n",
      "[205]\tvalid_0's l1: 1613.48\n",
      "[206]\tvalid_0's l1: 1613.34\n",
      "[207]\tvalid_0's l1: 1611.65\n",
      "[208]\tvalid_0's l1: 1610.88\n",
      "[209]\tvalid_0's l1: 1610.64\n",
      "[210]\tvalid_0's l1: 1609.61\n",
      "[211]\tvalid_0's l1: 1609.42\n",
      "[212]\tvalid_0's l1: 1609.25\n",
      "[213]\tvalid_0's l1: 1608.93\n",
      "[214]\tvalid_0's l1: 1608.75\n",
      "[215]\tvalid_0's l1: 1608.01\n",
      "[216]\tvalid_0's l1: 1606.94\n",
      "[217]\tvalid_0's l1: 1606.31\n",
      "[218]\tvalid_0's l1: 1605.35\n",
      "[219]\tvalid_0's l1: 1604.55\n",
      "[220]\tvalid_0's l1: 1603.95\n",
      "[221]\tvalid_0's l1: 1603.37\n",
      "[222]\tvalid_0's l1: 1603.1\n",
      "[223]\tvalid_0's l1: 1602.39\n",
      "[224]\tvalid_0's l1: 1601.7\n",
      "[225]\tvalid_0's l1: 1601.41\n",
      "[226]\tvalid_0's l1: 1600.94\n",
      "[227]\tvalid_0's l1: 1600.61\n",
      "[228]\tvalid_0's l1: 1600.39\n",
      "[229]\tvalid_0's l1: 1600.18\n",
      "[230]\tvalid_0's l1: 1599.87\n",
      "[231]\tvalid_0's l1: 1599.15\n",
      "[232]\tvalid_0's l1: 1598.69\n",
      "[233]\tvalid_0's l1: 1598.6\n",
      "[234]\tvalid_0's l1: 1597.87\n",
      "[235]\tvalid_0's l1: 1597.09\n",
      "[236]\tvalid_0's l1: 1596.53\n",
      "[237]\tvalid_0's l1: 1595.87\n",
      "[238]\tvalid_0's l1: 1595.31\n",
      "[239]\tvalid_0's l1: 1594.55\n",
      "[240]\tvalid_0's l1: 1594.17\n",
      "[241]\tvalid_0's l1: 1593.87\n",
      "[242]\tvalid_0's l1: 1592.5\n",
      "[243]\tvalid_0's l1: 1592.07\n",
      "[244]\tvalid_0's l1: 1591.8\n",
      "[245]\tvalid_0's l1: 1591.53\n",
      "[246]\tvalid_0's l1: 1590.55\n",
      "[247]\tvalid_0's l1: 1590.2\n",
      "[248]\tvalid_0's l1: 1589.96\n",
      "[249]\tvalid_0's l1: 1589.57\n",
      "[250]\tvalid_0's l1: 1588.65\n",
      "[251]\tvalid_0's l1: 1587.98\n",
      "[252]\tvalid_0's l1: 1587.79\n",
      "[253]\tvalid_0's l1: 1587.63\n",
      "[254]\tvalid_0's l1: 1586.74\n",
      "[255]\tvalid_0's l1: 1586.61\n",
      "[256]\tvalid_0's l1: 1586.43\n",
      "[257]\tvalid_0's l1: 1586.13\n",
      "[258]\tvalid_0's l1: 1584.09\n",
      "[259]\tvalid_0's l1: 1583.89\n",
      "[260]\tvalid_0's l1: 1583.52\n",
      "[261]\tvalid_0's l1: 1583.34\n",
      "[262]\tvalid_0's l1: 1582.92\n",
      "[263]\tvalid_0's l1: 1582.34\n",
      "[264]\tvalid_0's l1: 1582.23\n",
      "[265]\tvalid_0's l1: 1581.37\n",
      "[266]\tvalid_0's l1: 1581.08\n",
      "[267]\tvalid_0's l1: 1579.86\n",
      "[268]\tvalid_0's l1: 1579.54\n",
      "[269]\tvalid_0's l1: 1579.4\n",
      "[270]\tvalid_0's l1: 1579.23\n",
      "[271]\tvalid_0's l1: 1579\n",
      "[272]\tvalid_0's l1: 1578.09\n",
      "[273]\tvalid_0's l1: 1577.9\n",
      "[274]\tvalid_0's l1: 1576.75\n",
      "[275]\tvalid_0's l1: 1576.44\n",
      "[276]\tvalid_0's l1: 1576.1\n",
      "[277]\tvalid_0's l1: 1575.71\n",
      "[278]\tvalid_0's l1: 1575.5\n",
      "[279]\tvalid_0's l1: 1574.18\n",
      "[280]\tvalid_0's l1: 1574.11\n",
      "[281]\tvalid_0's l1: 1573.67\n",
      "[282]\tvalid_0's l1: 1573.52\n",
      "[283]\tvalid_0's l1: 1573.44\n",
      "[284]\tvalid_0's l1: 1572.99\n",
      "[285]\tvalid_0's l1: 1572.79\n",
      "[286]\tvalid_0's l1: 1572.68\n",
      "[287]\tvalid_0's l1: 1571.59\n",
      "[288]\tvalid_0's l1: 1571.52\n",
      "[289]\tvalid_0's l1: 1571.36\n",
      "[290]\tvalid_0's l1: 1571.28\n",
      "[291]\tvalid_0's l1: 1570.61\n",
      "[292]\tvalid_0's l1: 1570.24\n",
      "[293]\tvalid_0's l1: 1569.58\n",
      "[294]\tvalid_0's l1: 1568.55\n",
      "[295]\tvalid_0's l1: 1568.32\n",
      "[296]\tvalid_0's l1: 1567.58\n",
      "[297]\tvalid_0's l1: 1567.45\n",
      "[298]\tvalid_0's l1: 1567.34\n",
      "[299]\tvalid_0's l1: 1566.69\n",
      "[300]\tvalid_0's l1: 1566.46\n",
      "[301]\tvalid_0's l1: 1566.28\n",
      "[302]\tvalid_0's l1: 1565.87\n",
      "[303]\tvalid_0's l1: 1564.49\n",
      "[304]\tvalid_0's l1: 1564.27\n",
      "[305]\tvalid_0's l1: 1564.12\n",
      "[306]\tvalid_0's l1: 1563.98\n",
      "[307]\tvalid_0's l1: 1563.93\n",
      "[308]\tvalid_0's l1: 1563.73\n",
      "[309]\tvalid_0's l1: 1563.18\n",
      "[310]\tvalid_0's l1: 1562.78\n",
      "[311]\tvalid_0's l1: 1561.85\n",
      "[312]\tvalid_0's l1: 1561.34\n",
      "[313]\tvalid_0's l1: 1560.97\n",
      "[314]\tvalid_0's l1: 1560.71\n",
      "[315]\tvalid_0's l1: 1560.11\n",
      "[316]\tvalid_0's l1: 1559.96\n",
      "[317]\tvalid_0's l1: 1559.86\n",
      "[318]\tvalid_0's l1: 1559.72\n",
      "[319]\tvalid_0's l1: 1559.14\n",
      "[320]\tvalid_0's l1: 1558.85\n",
      "[321]\tvalid_0's l1: 1558.33\n",
      "[322]\tvalid_0's l1: 1558.25\n",
      "[323]\tvalid_0's l1: 1558.16\n",
      "[324]\tvalid_0's l1: 1558.04\n",
      "[325]\tvalid_0's l1: 1557.26\n",
      "[326]\tvalid_0's l1: 1557.06\n",
      "[327]\tvalid_0's l1: 1556.94\n",
      "[328]\tvalid_0's l1: 1556.2\n",
      "[329]\tvalid_0's l1: 1555.95\n",
      "[330]\tvalid_0's l1: 1555.64\n",
      "[331]\tvalid_0's l1: 1555.38\n",
      "[332]\tvalid_0's l1: 1555.22\n",
      "[333]\tvalid_0's l1: 1555.1\n",
      "[334]\tvalid_0's l1: 1554.79\n",
      "[335]\tvalid_0's l1: 1554.69\n",
      "[336]\tvalid_0's l1: 1554.4\n",
      "[337]\tvalid_0's l1: 1554.12\n",
      "[338]\tvalid_0's l1: 1553.95\n",
      "[339]\tvalid_0's l1: 1553.53\n",
      "[340]\tvalid_0's l1: 1553.29\n",
      "[341]\tvalid_0's l1: 1552.94\n",
      "[342]\tvalid_0's l1: 1552.77\n",
      "[343]\tvalid_0's l1: 1552.1\n",
      "[344]\tvalid_0's l1: 1552.05\n",
      "[345]\tvalid_0's l1: 1551.63\n",
      "[346]\tvalid_0's l1: 1550.77\n",
      "[347]\tvalid_0's l1: 1550.15\n",
      "[348]\tvalid_0's l1: 1549.99\n",
      "[349]\tvalid_0's l1: 1549.6\n",
      "[350]\tvalid_0's l1: 1549.11\n",
      "[351]\tvalid_0's l1: 1548.79\n",
      "[352]\tvalid_0's l1: 1548.37\n",
      "[353]\tvalid_0's l1: 1547.31\n",
      "[354]\tvalid_0's l1: 1546.56\n",
      "[355]\tvalid_0's l1: 1546.47\n",
      "[356]\tvalid_0's l1: 1545.74\n",
      "[357]\tvalid_0's l1: 1545.58\n",
      "[358]\tvalid_0's l1: 1545.14\n",
      "[359]\tvalid_0's l1: 1545.01\n",
      "[360]\tvalid_0's l1: 1544.48\n",
      "[361]\tvalid_0's l1: 1544.4\n",
      "[362]\tvalid_0's l1: 1543.58\n",
      "[363]\tvalid_0's l1: 1543.33\n",
      "[364]\tvalid_0's l1: 1543.19\n",
      "[365]\tvalid_0's l1: 1542.83\n",
      "[366]\tvalid_0's l1: 1542.5\n",
      "[367]\tvalid_0's l1: 1542.13\n",
      "[368]\tvalid_0's l1: 1542.16\n",
      "[369]\tvalid_0's l1: 1542.13\n",
      "[370]\tvalid_0's l1: 1540.96\n",
      "[371]\tvalid_0's l1: 1540.41\n",
      "[372]\tvalid_0's l1: 1540.33\n",
      "[373]\tvalid_0's l1: 1540.11\n",
      "[374]\tvalid_0's l1: 1539.81\n",
      "[375]\tvalid_0's l1: 1539.75\n",
      "[376]\tvalid_0's l1: 1539.43\n",
      "[377]\tvalid_0's l1: 1538.63\n",
      "[378]\tvalid_0's l1: 1538.25\n",
      "[379]\tvalid_0's l1: 1537.63\n",
      "[380]\tvalid_0's l1: 1537.25\n",
      "[381]\tvalid_0's l1: 1537.14\n",
      "[382]\tvalid_0's l1: 1537.14\n",
      "[383]\tvalid_0's l1: 1537.06\n",
      "[384]\tvalid_0's l1: 1536.89\n",
      "[385]\tvalid_0's l1: 1536.65\n",
      "[386]\tvalid_0's l1: 1536.44\n",
      "[387]\tvalid_0's l1: 1536.44\n",
      "[388]\tvalid_0's l1: 1536\n",
      "[389]\tvalid_0's l1: 1535.41\n",
      "[390]\tvalid_0's l1: 1535.16\n",
      "[391]\tvalid_0's l1: 1534.82\n",
      "[392]\tvalid_0's l1: 1534.77\n",
      "[393]\tvalid_0's l1: 1534.21\n",
      "[394]\tvalid_0's l1: 1533.54\n",
      "[395]\tvalid_0's l1: 1533.49\n",
      "[396]\tvalid_0's l1: 1533.45\n",
      "[397]\tvalid_0's l1: 1533.36\n",
      "[398]\tvalid_0's l1: 1533.29\n",
      "[399]\tvalid_0's l1: 1533.09\n",
      "[400]\tvalid_0's l1: 1533.01\n",
      "[401]\tvalid_0's l1: 1532.71\n",
      "[402]\tvalid_0's l1: 1532.58\n",
      "[403]\tvalid_0's l1: 1532.34\n",
      "[404]\tvalid_0's l1: 1531.88\n",
      "[405]\tvalid_0's l1: 1531.78\n",
      "[406]\tvalid_0's l1: 1531.65\n",
      "[407]\tvalid_0's l1: 1530.66\n",
      "[408]\tvalid_0's l1: 1530.23\n",
      "[409]\tvalid_0's l1: 1529.86\n",
      "[410]\tvalid_0's l1: 1529.79\n",
      "[411]\tvalid_0's l1: 1529.44\n",
      "[412]\tvalid_0's l1: 1529.38\n",
      "[413]\tvalid_0's l1: 1528.92\n",
      "[414]\tvalid_0's l1: 1528.58\n",
      "[415]\tvalid_0's l1: 1528.24\n",
      "[416]\tvalid_0's l1: 1527.96\n",
      "[417]\tvalid_0's l1: 1527.86\n",
      "[418]\tvalid_0's l1: 1527.63\n",
      "[419]\tvalid_0's l1: 1527.51\n",
      "[420]\tvalid_0's l1: 1527.27\n",
      "[421]\tvalid_0's l1: 1527.25\n",
      "[422]\tvalid_0's l1: 1526.76\n",
      "[423]\tvalid_0's l1: 1526.68\n",
      "[424]\tvalid_0's l1: 1526.32\n",
      "[425]\tvalid_0's l1: 1525.91\n",
      "[426]\tvalid_0's l1: 1525.85\n",
      "[427]\tvalid_0's l1: 1525.63\n",
      "[428]\tvalid_0's l1: 1525.32\n",
      "[429]\tvalid_0's l1: 1525.2\n",
      "[430]\tvalid_0's l1: 1524.89\n",
      "[431]\tvalid_0's l1: 1524.69\n",
      "[432]\tvalid_0's l1: 1524.57\n",
      "[433]\tvalid_0's l1: 1524.16\n",
      "[434]\tvalid_0's l1: 1523.53\n",
      "[435]\tvalid_0's l1: 1523.37\n",
      "[436]\tvalid_0's l1: 1523.31\n",
      "[437]\tvalid_0's l1: 1523.26\n",
      "[438]\tvalid_0's l1: 1523.23\n",
      "[439]\tvalid_0's l1: 1523.16\n",
      "[440]\tvalid_0's l1: 1523.02\n",
      "[441]\tvalid_0's l1: 1522.72\n",
      "[442]\tvalid_0's l1: 1522.49\n",
      "[443]\tvalid_0's l1: 1522.39\n",
      "[444]\tvalid_0's l1: 1522.31\n",
      "[445]\tvalid_0's l1: 1521.26\n",
      "[446]\tvalid_0's l1: 1521.23\n",
      "[447]\tvalid_0's l1: 1520.84\n",
      "[448]\tvalid_0's l1: 1520.74\n",
      "[449]\tvalid_0's l1: 1520.67\n",
      "[450]\tvalid_0's l1: 1520.61\n",
      "[451]\tvalid_0's l1: 1520.15\n",
      "[452]\tvalid_0's l1: 1519.45\n",
      "[453]\tvalid_0's l1: 1519.08\n",
      "[454]\tvalid_0's l1: 1518.52\n",
      "[455]\tvalid_0's l1: 1518.47\n",
      "[456]\tvalid_0's l1: 1518.21\n",
      "[457]\tvalid_0's l1: 1517.92\n",
      "[458]\tvalid_0's l1: 1517.42\n",
      "[459]\tvalid_0's l1: 1517.24\n",
      "[460]\tvalid_0's l1: 1517.15\n",
      "[461]\tvalid_0's l1: 1516.99\n",
      "[462]\tvalid_0's l1: 1516.98\n",
      "[463]\tvalid_0's l1: 1516.94\n",
      "[464]\tvalid_0's l1: 1516.77\n",
      "[465]\tvalid_0's l1: 1516.68\n",
      "[466]\tvalid_0's l1: 1516.64\n",
      "[467]\tvalid_0's l1: 1516.61\n",
      "[468]\tvalid_0's l1: 1516.57\n",
      "[469]\tvalid_0's l1: 1516.51\n",
      "[470]\tvalid_0's l1: 1516.26\n",
      "[471]\tvalid_0's l1: 1516.13\n",
      "[472]\tvalid_0's l1: 1515.97\n",
      "[473]\tvalid_0's l1: 1515.89\n",
      "[474]\tvalid_0's l1: 1515.81\n",
      "[475]\tvalid_0's l1: 1515.47\n",
      "[476]\tvalid_0's l1: 1515.47\n",
      "[477]\tvalid_0's l1: 1515.34\n",
      "[478]\tvalid_0's l1: 1515.23\n",
      "[479]\tvalid_0's l1: 1515.17\n",
      "[480]\tvalid_0's l1: 1515.12\n",
      "[481]\tvalid_0's l1: 1514.96\n",
      "[482]\tvalid_0's l1: 1514.85\n",
      "[483]\tvalid_0's l1: 1514.69\n",
      "[484]\tvalid_0's l1: 1514.02\n",
      "[485]\tvalid_0's l1: 1514.06\n",
      "[486]\tvalid_0's l1: 1513.57\n",
      "[487]\tvalid_0's l1: 1512.97\n",
      "[488]\tvalid_0's l1: 1512.93\n",
      "[489]\tvalid_0's l1: 1512.88\n",
      "[490]\tvalid_0's l1: 1512.83\n",
      "[491]\tvalid_0's l1: 1512.74\n",
      "[492]\tvalid_0's l1: 1512.69\n",
      "[493]\tvalid_0's l1: 1512.57\n",
      "[494]\tvalid_0's l1: 1512.47\n",
      "[495]\tvalid_0's l1: 1512.41\n",
      "[496]\tvalid_0's l1: 1512.16\n",
      "[497]\tvalid_0's l1: 1512.11\n",
      "[498]\tvalid_0's l1: 1512.01\n",
      "[499]\tvalid_0's l1: 1511.93\n",
      "[500]\tvalid_0's l1: 1511.81\n",
      "Did not meet early stopping. Best iteration is:\n",
      "[500]\tvalid_0's l1: 1511.81\n"
     ]
    }
   ],
   "source": [
    "start = time.time()\n",
    "\n",
    "start = time.time()\n",
    "model = lgb.train(params,\n",
    "                 train_set=lgb_train,\n",
    "                 valid_sets=lgb_valid,\n",
    "                 early_stopping_rounds=10)\n",
    "end_train_lgb = time.time() - start\n",
    "\n",
    "end_fit_lgbm = time.time() - start"
   ]
  },
  {
   "cell_type": "markdown",
   "metadata": {},
   "source": [
    "Определим время предсказания модели и качество."
   ]
  },
  {
   "cell_type": "code",
   "execution_count": 33,
   "metadata": {
    "scrolled": true
   },
   "outputs": [
    {
     "name": "stdout",
     "output_type": "stream",
     "text": [
      "2215.9240206661857\n"
     ]
    }
   ],
   "source": [
    "start = time.time()\n",
    "\n",
    "predictions = model.predict(features_valid)\n",
    "rmse_lgbm = mean_squared_error(target_valid, predictions) ** 0.5\n",
    "\n",
    "end_predict_lgbm = time.time() - start\n",
    "\n",
    "print(rmse_lgbm)"
   ]
  },
  {
   "cell_type": "markdown",
   "metadata": {},
   "source": [
    "## Анализ моделей"
   ]
  },
  {
   "cell_type": "markdown",
   "metadata": {},
   "source": [
    "Для анализа модели создадим датафрейм с данными: название модели, время обучения, время предсказания, значение метрики качества."
   ]
  },
  {
   "cell_type": "code",
   "execution_count": 34,
   "metadata": {},
   "outputs": [
    {
     "data": {
      "text/html": [
       "<div>\n",
       "<style scoped>\n",
       "    .dataframe tbody tr th:only-of-type {\n",
       "        vertical-align: middle;\n",
       "    }\n",
       "\n",
       "    .dataframe tbody tr th {\n",
       "        vertical-align: top;\n",
       "    }\n",
       "\n",
       "    .dataframe thead th {\n",
       "        text-align: right;\n",
       "    }\n",
       "</style>\n",
       "<table border=\"1\" class=\"dataframe\">\n",
       "  <thead>\n",
       "    <tr style=\"text-align: right;\">\n",
       "      <th></th>\n",
       "      <th>Название модели</th>\n",
       "      <th>Время обучения</th>\n",
       "      <th>Время предсказания</th>\n",
       "      <th>Общее время</th>\n",
       "      <th>Значение метрики RMSE</th>\n",
       "    </tr>\n",
       "  </thead>\n",
       "  <tbody>\n",
       "    <tr>\n",
       "      <th>0</th>\n",
       "      <td>DecisionTreeRegressor.</td>\n",
       "      <td>2.255437</td>\n",
       "      <td>0.220686</td>\n",
       "      <td>2.476124</td>\n",
       "      <td>2983.773972</td>\n",
       "    </tr>\n",
       "    <tr>\n",
       "      <th>1</th>\n",
       "      <td>CatBoostRegressor</td>\n",
       "      <td>128.779253</td>\n",
       "      <td>0.407532</td>\n",
       "      <td>129.186785</td>\n",
       "      <td>2239.779770</td>\n",
       "    </tr>\n",
       "    <tr>\n",
       "      <th>2</th>\n",
       "      <td>LightGBM</td>\n",
       "      <td>169.050292</td>\n",
       "      <td>1.915229</td>\n",
       "      <td>170.965521</td>\n",
       "      <td>2215.924021</td>\n",
       "    </tr>\n",
       "  </tbody>\n",
       "</table>\n",
       "</div>"
      ],
      "text/plain": [
       "          Название модели  Время обучения  Время предсказания  Общее время  \\\n",
       "0  DecisionTreeRegressor.        2.255437            0.220686     2.476124   \n",
       "1       CatBoostRegressor      128.779253            0.407532   129.186785   \n",
       "2                LightGBM      169.050292            1.915229   170.965521   \n",
       "\n",
       "   Значение метрики RMSE  \n",
       "0            2983.773972  \n",
       "1            2239.779770  \n",
       "2            2215.924021  "
      ]
     },
     "metadata": {},
     "output_type": "display_data"
    }
   ],
   "source": [
    "df = pd.DataFrame({'Название модели': ['DecisionTreeRegressor.', 'CatBoostRegressor', 'LightGBM'], \n",
    "                   'Время обучения':     [end_fit_dtr, end_fit_cb, end_fit_lgbm], \n",
    "                   'Время предсказания': [end_predict_dtr, end_predict_cb, end_predict_lgbm],\n",
    "                   'Общее время':        [end_fit_dtr + end_predict_dtr, \n",
    "                                          end_fit_cb + end_predict_cb, \n",
    "                                          end_fit_lgbm + end_predict_lgbm],\n",
    "                   'Значение метрики RMSE': [rmse_dtr, rmse_cb, rmse_lgbm]})\n",
    "display(df)"
   ]
  },
  {
   "cell_type": "markdown",
   "metadata": {},
   "source": [
    "Как можно заметить наилучшее значение метрики RMSE у модели LightGBM, также можно заметить, что данная модель имеет второе самое быстрое общее время обучения и предсказания. Протестируем модель LightGBM на тестовой выборке."
   ]
  },
  {
   "cell_type": "code",
   "execution_count": 35,
   "metadata": {},
   "outputs": [
    {
     "name": "stdout",
     "output_type": "stream",
     "text": [
      "[LightGBM] [Warning] Unknown parameter: learnnig_rage\n"
     ]
    },
    {
     "name": "stderr",
     "output_type": "stream",
     "text": [
      "/opt/conda/lib/python3.9/site-packages/lightgbm/engine.py:177: UserWarning: Found `num_iterations` in params. Will use it instead of argument\n",
      "  _log_warning(f\"Found `{alias}` in params. Will use it instead of argument\")\n",
      "/opt/conda/lib/python3.9/site-packages/lightgbm/engine.py:181: UserWarning: 'early_stopping_rounds' argument is deprecated and will be removed in a future release of LightGBM. Pass 'early_stopping()' callback via 'callbacks' argument instead.\n",
      "  _log_warning(\"'early_stopping_rounds' argument is deprecated and will be removed in a future release of LightGBM. \"\n"
     ]
    },
    {
     "name": "stdout",
     "output_type": "stream",
     "text": [
      "[1]\tvalid_0's l1: 3375.2\n",
      "Training until validation scores don't improve for 10 rounds\n",
      "[2]\tvalid_0's l1: 3216.28\n",
      "[3]\tvalid_0's l1: 3075.91\n",
      "[4]\tvalid_0's l1: 2955.68\n",
      "[5]\tvalid_0's l1: 2848.14\n",
      "[6]\tvalid_0's l1: 2756.86\n",
      "[7]\tvalid_0's l1: 2672.29\n",
      "[8]\tvalid_0's l1: 2594.87\n",
      "[9]\tvalid_0's l1: 2523.89\n",
      "[10]\tvalid_0's l1: 2464.44\n",
      "[11]\tvalid_0's l1: 2410.51\n",
      "[12]\tvalid_0's l1: 2363.58\n",
      "[13]\tvalid_0's l1: 2314.38\n",
      "[14]\tvalid_0's l1: 2268.59\n",
      "[15]\tvalid_0's l1: 2227.24\n",
      "[16]\tvalid_0's l1: 2191.72\n",
      "[17]\tvalid_0's l1: 2156.16\n",
      "[18]\tvalid_0's l1: 2124.45\n",
      "[19]\tvalid_0's l1: 2093.73\n",
      "[20]\tvalid_0's l1: 2070.17\n",
      "[21]\tvalid_0's l1: 2045.74\n",
      "[22]\tvalid_0's l1: 2026.19\n",
      "[23]\tvalid_0's l1: 2005.2\n",
      "[24]\tvalid_0's l1: 1987.55\n",
      "[25]\tvalid_0's l1: 1967.59\n",
      "[26]\tvalid_0's l1: 1952.85\n",
      "[27]\tvalid_0's l1: 1938.39\n",
      "[28]\tvalid_0's l1: 1924.83\n",
      "[29]\tvalid_0's l1: 1908.94\n",
      "[30]\tvalid_0's l1: 1897.86\n",
      "[31]\tvalid_0's l1: 1887.56\n",
      "[32]\tvalid_0's l1: 1876.69\n",
      "[33]\tvalid_0's l1: 1868.7\n",
      "[34]\tvalid_0's l1: 1859.73\n",
      "[35]\tvalid_0's l1: 1851.47\n",
      "[36]\tvalid_0's l1: 1843.21\n",
      "[37]\tvalid_0's l1: 1835.48\n",
      "[38]\tvalid_0's l1: 1829.2\n",
      "[39]\tvalid_0's l1: 1821.66\n",
      "[40]\tvalid_0's l1: 1816.39\n",
      "[41]\tvalid_0's l1: 1811.26\n",
      "[42]\tvalid_0's l1: 1805.13\n",
      "[43]\tvalid_0's l1: 1799.71\n",
      "[44]\tvalid_0's l1: 1796.1\n",
      "[45]\tvalid_0's l1: 1790.79\n",
      "[46]\tvalid_0's l1: 1787.39\n",
      "[47]\tvalid_0's l1: 1783.81\n",
      "[48]\tvalid_0's l1: 1780.02\n",
      "[49]\tvalid_0's l1: 1774.91\n",
      "[50]\tvalid_0's l1: 1772.22\n",
      "[51]\tvalid_0's l1: 1769.16\n",
      "[52]\tvalid_0's l1: 1766.99\n",
      "[53]\tvalid_0's l1: 1765\n",
      "[54]\tvalid_0's l1: 1762.91\n",
      "[55]\tvalid_0's l1: 1760.34\n",
      "[56]\tvalid_0's l1: 1757.47\n",
      "[57]\tvalid_0's l1: 1755.1\n",
      "[58]\tvalid_0's l1: 1752.67\n",
      "[59]\tvalid_0's l1: 1750.59\n",
      "[60]\tvalid_0's l1: 1748.62\n",
      "[61]\tvalid_0's l1: 1746.18\n",
      "[62]\tvalid_0's l1: 1743.63\n",
      "[63]\tvalid_0's l1: 1742.49\n",
      "[64]\tvalid_0's l1: 1740.56\n",
      "[65]\tvalid_0's l1: 1738.75\n",
      "[66]\tvalid_0's l1: 1735.66\n",
      "[67]\tvalid_0's l1: 1733.69\n",
      "[68]\tvalid_0's l1: 1730.24\n",
      "[69]\tvalid_0's l1: 1729.06\n",
      "[70]\tvalid_0's l1: 1727.06\n",
      "[71]\tvalid_0's l1: 1723.92\n",
      "[72]\tvalid_0's l1: 1723.16\n",
      "[73]\tvalid_0's l1: 1719.79\n",
      "[74]\tvalid_0's l1: 1718.73\n",
      "[75]\tvalid_0's l1: 1717.77\n",
      "[76]\tvalid_0's l1: 1716.98\n",
      "[77]\tvalid_0's l1: 1715.6\n",
      "[78]\tvalid_0's l1: 1713.98\n",
      "[79]\tvalid_0's l1: 1713.01\n",
      "[80]\tvalid_0's l1: 1710.58\n",
      "[81]\tvalid_0's l1: 1709.65\n",
      "[82]\tvalid_0's l1: 1709.12\n",
      "[83]\tvalid_0's l1: 1708.23\n",
      "[84]\tvalid_0's l1: 1707.6\n",
      "[85]\tvalid_0's l1: 1706.85\n",
      "[86]\tvalid_0's l1: 1705.83\n",
      "[87]\tvalid_0's l1: 1704.01\n",
      "[88]\tvalid_0's l1: 1701.59\n",
      "[89]\tvalid_0's l1: 1701.05\n",
      "[90]\tvalid_0's l1: 1700.11\n",
      "[91]\tvalid_0's l1: 1699.19\n",
      "[92]\tvalid_0's l1: 1697.85\n",
      "[93]\tvalid_0's l1: 1696.16\n",
      "[94]\tvalid_0's l1: 1695.43\n",
      "[95]\tvalid_0's l1: 1694.14\n",
      "[96]\tvalid_0's l1: 1692.63\n",
      "[97]\tvalid_0's l1: 1691.92\n",
      "[98]\tvalid_0's l1: 1690.96\n",
      "[99]\tvalid_0's l1: 1689.31\n",
      "[100]\tvalid_0's l1: 1687.19\n",
      "[101]\tvalid_0's l1: 1686.18\n",
      "[102]\tvalid_0's l1: 1685.34\n",
      "[103]\tvalid_0's l1: 1684.91\n",
      "[104]\tvalid_0's l1: 1682.43\n",
      "[105]\tvalid_0's l1: 1682.13\n",
      "[106]\tvalid_0's l1: 1681.63\n",
      "[107]\tvalid_0's l1: 1681.02\n",
      "[108]\tvalid_0's l1: 1680.5\n",
      "[109]\tvalid_0's l1: 1680.09\n",
      "[110]\tvalid_0's l1: 1679.49\n",
      "[111]\tvalid_0's l1: 1679\n",
      "[112]\tvalid_0's l1: 1677.68\n",
      "[113]\tvalid_0's l1: 1676.34\n",
      "[114]\tvalid_0's l1: 1674.56\n",
      "[115]\tvalid_0's l1: 1673.63\n",
      "[116]\tvalid_0's l1: 1672.56\n",
      "[117]\tvalid_0's l1: 1672.38\n",
      "[118]\tvalid_0's l1: 1671.72\n",
      "[119]\tvalid_0's l1: 1669.57\n",
      "[120]\tvalid_0's l1: 1668.74\n",
      "[121]\tvalid_0's l1: 1668.18\n",
      "[122]\tvalid_0's l1: 1667.79\n",
      "[123]\tvalid_0's l1: 1667.13\n",
      "[124]\tvalid_0's l1: 1666.76\n",
      "[125]\tvalid_0's l1: 1665.72\n",
      "[126]\tvalid_0's l1: 1665.44\n",
      "[127]\tvalid_0's l1: 1665.14\n",
      "[128]\tvalid_0's l1: 1664.6\n",
      "[129]\tvalid_0's l1: 1664.09\n",
      "[130]\tvalid_0's l1: 1663.08\n",
      "[131]\tvalid_0's l1: 1662.59\n",
      "[132]\tvalid_0's l1: 1662.12\n",
      "[133]\tvalid_0's l1: 1661.74\n",
      "[134]\tvalid_0's l1: 1661.43\n",
      "[135]\tvalid_0's l1: 1661.02\n",
      "[136]\tvalid_0's l1: 1659.61\n",
      "[137]\tvalid_0's l1: 1659\n",
      "[138]\tvalid_0's l1: 1658.2\n",
      "[139]\tvalid_0's l1: 1657.12\n",
      "[140]\tvalid_0's l1: 1656.67\n",
      "[141]\tvalid_0's l1: 1654.87\n",
      "[142]\tvalid_0's l1: 1652.51\n",
      "[143]\tvalid_0's l1: 1650.83\n",
      "[144]\tvalid_0's l1: 1650.32\n",
      "[145]\tvalid_0's l1: 1649.08\n",
      "[146]\tvalid_0's l1: 1648.76\n",
      "[147]\tvalid_0's l1: 1648.68\n",
      "[148]\tvalid_0's l1: 1646.94\n",
      "[149]\tvalid_0's l1: 1646.04\n",
      "[150]\tvalid_0's l1: 1645.3\n",
      "[151]\tvalid_0's l1: 1644.96\n",
      "[152]\tvalid_0's l1: 1644.68\n",
      "[153]\tvalid_0's l1: 1644.27\n",
      "[154]\tvalid_0's l1: 1643.89\n",
      "[155]\tvalid_0's l1: 1643.25\n",
      "[156]\tvalid_0's l1: 1642.6\n",
      "[157]\tvalid_0's l1: 1642.35\n",
      "[158]\tvalid_0's l1: 1642.1\n",
      "[159]\tvalid_0's l1: 1641.78\n",
      "[160]\tvalid_0's l1: 1641.32\n",
      "[161]\tvalid_0's l1: 1639.78\n",
      "[162]\tvalid_0's l1: 1639.61\n",
      "[163]\tvalid_0's l1: 1638.39\n",
      "[164]\tvalid_0's l1: 1638.11\n",
      "[165]\tvalid_0's l1: 1637.99\n",
      "[166]\tvalid_0's l1: 1637.56\n",
      "[167]\tvalid_0's l1: 1636.95\n",
      "[168]\tvalid_0's l1: 1636.68\n",
      "[169]\tvalid_0's l1: 1636.29\n",
      "[170]\tvalid_0's l1: 1634.56\n",
      "[171]\tvalid_0's l1: 1634.36\n",
      "[172]\tvalid_0's l1: 1633.82\n",
      "[173]\tvalid_0's l1: 1633.3\n",
      "[174]\tvalid_0's l1: 1632.97\n",
      "[175]\tvalid_0's l1: 1632.63\n",
      "[176]\tvalid_0's l1: 1632.5\n",
      "[177]\tvalid_0's l1: 1632.35\n",
      "[178]\tvalid_0's l1: 1630.46\n",
      "[179]\tvalid_0's l1: 1629.05\n",
      "[180]\tvalid_0's l1: 1627.98\n",
      "[181]\tvalid_0's l1: 1627.99\n",
      "[182]\tvalid_0's l1: 1626.9\n",
      "[183]\tvalid_0's l1: 1626.04\n",
      "[184]\tvalid_0's l1: 1625.33\n",
      "[185]\tvalid_0's l1: 1624.82\n",
      "[186]\tvalid_0's l1: 1623.92\n",
      "[187]\tvalid_0's l1: 1623.57\n",
      "[188]\tvalid_0's l1: 1622.82\n",
      "[189]\tvalid_0's l1: 1622.58\n",
      "[190]\tvalid_0's l1: 1622.35\n",
      "[191]\tvalid_0's l1: 1621.55\n",
      "[192]\tvalid_0's l1: 1621.4\n",
      "[193]\tvalid_0's l1: 1621.16\n",
      "[194]\tvalid_0's l1: 1620.49\n",
      "[195]\tvalid_0's l1: 1620.41\n",
      "[196]\tvalid_0's l1: 1619.22\n",
      "[197]\tvalid_0's l1: 1618.38\n",
      "[198]\tvalid_0's l1: 1617.54\n",
      "[199]\tvalid_0's l1: 1617.28\n",
      "[200]\tvalid_0's l1: 1616.1\n",
      "[201]\tvalid_0's l1: 1615.27\n",
      "[202]\tvalid_0's l1: 1615.11\n",
      "[203]\tvalid_0's l1: 1614.3\n",
      "[204]\tvalid_0's l1: 1613.7\n",
      "[205]\tvalid_0's l1: 1613.48\n",
      "[206]\tvalid_0's l1: 1613.34\n",
      "[207]\tvalid_0's l1: 1611.65\n",
      "[208]\tvalid_0's l1: 1610.88\n",
      "[209]\tvalid_0's l1: 1610.64\n",
      "[210]\tvalid_0's l1: 1609.61\n",
      "[211]\tvalid_0's l1: 1609.42\n",
      "[212]\tvalid_0's l1: 1609.25\n",
      "[213]\tvalid_0's l1: 1608.93\n",
      "[214]\tvalid_0's l1: 1608.75\n",
      "[215]\tvalid_0's l1: 1608.01\n",
      "[216]\tvalid_0's l1: 1606.94\n",
      "[217]\tvalid_0's l1: 1606.31\n",
      "[218]\tvalid_0's l1: 1605.35\n",
      "[219]\tvalid_0's l1: 1604.55\n",
      "[220]\tvalid_0's l1: 1603.95\n",
      "[221]\tvalid_0's l1: 1603.37\n",
      "[222]\tvalid_0's l1: 1603.1\n",
      "[223]\tvalid_0's l1: 1602.39\n",
      "[224]\tvalid_0's l1: 1601.7\n",
      "[225]\tvalid_0's l1: 1601.41\n",
      "[226]\tvalid_0's l1: 1600.94\n",
      "[227]\tvalid_0's l1: 1600.61\n",
      "[228]\tvalid_0's l1: 1600.39\n",
      "[229]\tvalid_0's l1: 1600.18\n",
      "[230]\tvalid_0's l1: 1599.87\n",
      "[231]\tvalid_0's l1: 1599.15\n",
      "[232]\tvalid_0's l1: 1598.69\n",
      "[233]\tvalid_0's l1: 1598.6\n",
      "[234]\tvalid_0's l1: 1597.87\n",
      "[235]\tvalid_0's l1: 1597.09\n",
      "[236]\tvalid_0's l1: 1596.53\n",
      "[237]\tvalid_0's l1: 1595.87\n",
      "[238]\tvalid_0's l1: 1595.31\n",
      "[239]\tvalid_0's l1: 1594.55\n",
      "[240]\tvalid_0's l1: 1594.17\n",
      "[241]\tvalid_0's l1: 1593.87\n",
      "[242]\tvalid_0's l1: 1592.5\n",
      "[243]\tvalid_0's l1: 1592.07\n",
      "[244]\tvalid_0's l1: 1591.8\n",
      "[245]\tvalid_0's l1: 1591.53\n",
      "[246]\tvalid_0's l1: 1590.55\n",
      "[247]\tvalid_0's l1: 1590.2\n",
      "[248]\tvalid_0's l1: 1589.96\n",
      "[249]\tvalid_0's l1: 1589.57\n",
      "[250]\tvalid_0's l1: 1588.65\n",
      "[251]\tvalid_0's l1: 1587.98\n",
      "[252]\tvalid_0's l1: 1587.79\n",
      "[253]\tvalid_0's l1: 1587.63\n",
      "[254]\tvalid_0's l1: 1586.74\n",
      "[255]\tvalid_0's l1: 1586.61\n",
      "[256]\tvalid_0's l1: 1586.43\n",
      "[257]\tvalid_0's l1: 1586.13\n",
      "[258]\tvalid_0's l1: 1584.09\n",
      "[259]\tvalid_0's l1: 1583.89\n",
      "[260]\tvalid_0's l1: 1583.52\n",
      "[261]\tvalid_0's l1: 1583.34\n",
      "[262]\tvalid_0's l1: 1582.92\n",
      "[263]\tvalid_0's l1: 1582.34\n",
      "[264]\tvalid_0's l1: 1582.23\n",
      "[265]\tvalid_0's l1: 1581.37\n",
      "[266]\tvalid_0's l1: 1581.08\n",
      "[267]\tvalid_0's l1: 1579.86\n",
      "[268]\tvalid_0's l1: 1579.54\n",
      "[269]\tvalid_0's l1: 1579.4\n",
      "[270]\tvalid_0's l1: 1579.23\n",
      "[271]\tvalid_0's l1: 1579\n",
      "[272]\tvalid_0's l1: 1578.09\n",
      "[273]\tvalid_0's l1: 1577.9\n",
      "[274]\tvalid_0's l1: 1576.75\n",
      "[275]\tvalid_0's l1: 1576.44\n",
      "[276]\tvalid_0's l1: 1576.1\n",
      "[277]\tvalid_0's l1: 1575.71\n",
      "[278]\tvalid_0's l1: 1575.5\n",
      "[279]\tvalid_0's l1: 1574.18\n",
      "[280]\tvalid_0's l1: 1574.11\n",
      "[281]\tvalid_0's l1: 1573.67\n",
      "[282]\tvalid_0's l1: 1573.52\n",
      "[283]\tvalid_0's l1: 1573.44\n",
      "[284]\tvalid_0's l1: 1572.99\n",
      "[285]\tvalid_0's l1: 1572.79\n",
      "[286]\tvalid_0's l1: 1572.68\n",
      "[287]\tvalid_0's l1: 1571.59\n",
      "[288]\tvalid_0's l1: 1571.52\n",
      "[289]\tvalid_0's l1: 1571.36\n",
      "[290]\tvalid_0's l1: 1571.28\n",
      "[291]\tvalid_0's l1: 1570.61\n",
      "[292]\tvalid_0's l1: 1570.24\n",
      "[293]\tvalid_0's l1: 1569.58\n",
      "[294]\tvalid_0's l1: 1568.55\n",
      "[295]\tvalid_0's l1: 1568.32\n",
      "[296]\tvalid_0's l1: 1567.58\n",
      "[297]\tvalid_0's l1: 1567.45\n",
      "[298]\tvalid_0's l1: 1567.34\n",
      "[299]\tvalid_0's l1: 1566.69\n",
      "[300]\tvalid_0's l1: 1566.46\n",
      "[301]\tvalid_0's l1: 1566.28\n",
      "[302]\tvalid_0's l1: 1565.87\n",
      "[303]\tvalid_0's l1: 1564.49\n",
      "[304]\tvalid_0's l1: 1564.27\n",
      "[305]\tvalid_0's l1: 1564.12\n",
      "[306]\tvalid_0's l1: 1563.98\n",
      "[307]\tvalid_0's l1: 1563.93\n",
      "[308]\tvalid_0's l1: 1563.73\n",
      "[309]\tvalid_0's l1: 1563.18\n",
      "[310]\tvalid_0's l1: 1562.78\n",
      "[311]\tvalid_0's l1: 1561.85\n",
      "[312]\tvalid_0's l1: 1561.34\n",
      "[313]\tvalid_0's l1: 1560.97\n",
      "[314]\tvalid_0's l1: 1560.71\n",
      "[315]\tvalid_0's l1: 1560.11\n",
      "[316]\tvalid_0's l1: 1559.96\n",
      "[317]\tvalid_0's l1: 1559.86\n",
      "[318]\tvalid_0's l1: 1559.72\n",
      "[319]\tvalid_0's l1: 1559.14\n",
      "[320]\tvalid_0's l1: 1558.85\n",
      "[321]\tvalid_0's l1: 1558.33\n",
      "[322]\tvalid_0's l1: 1558.25\n",
      "[323]\tvalid_0's l1: 1558.16\n",
      "[324]\tvalid_0's l1: 1558.04\n",
      "[325]\tvalid_0's l1: 1557.26\n",
      "[326]\tvalid_0's l1: 1557.06\n",
      "[327]\tvalid_0's l1: 1556.94\n",
      "[328]\tvalid_0's l1: 1556.2\n",
      "[329]\tvalid_0's l1: 1555.95\n",
      "[330]\tvalid_0's l1: 1555.64\n",
      "[331]\tvalid_0's l1: 1555.38\n",
      "[332]\tvalid_0's l1: 1555.22\n",
      "[333]\tvalid_0's l1: 1555.1\n",
      "[334]\tvalid_0's l1: 1554.79\n",
      "[335]\tvalid_0's l1: 1554.69\n",
      "[336]\tvalid_0's l1: 1554.4\n",
      "[337]\tvalid_0's l1: 1554.12\n",
      "[338]\tvalid_0's l1: 1553.95\n",
      "[339]\tvalid_0's l1: 1553.53\n",
      "[340]\tvalid_0's l1: 1553.29\n",
      "[341]\tvalid_0's l1: 1552.94\n",
      "[342]\tvalid_0's l1: 1552.77\n",
      "[343]\tvalid_0's l1: 1552.1\n",
      "[344]\tvalid_0's l1: 1552.05\n",
      "[345]\tvalid_0's l1: 1551.63\n",
      "[346]\tvalid_0's l1: 1550.77\n",
      "[347]\tvalid_0's l1: 1550.15\n",
      "[348]\tvalid_0's l1: 1549.99\n",
      "[349]\tvalid_0's l1: 1549.6\n",
      "[350]\tvalid_0's l1: 1549.11\n",
      "[351]\tvalid_0's l1: 1548.79\n",
      "[352]\tvalid_0's l1: 1548.37\n",
      "[353]\tvalid_0's l1: 1547.31\n",
      "[354]\tvalid_0's l1: 1546.56\n",
      "[355]\tvalid_0's l1: 1546.47\n",
      "[356]\tvalid_0's l1: 1545.74\n",
      "[357]\tvalid_0's l1: 1545.58\n",
      "[358]\tvalid_0's l1: 1545.14\n",
      "[359]\tvalid_0's l1: 1545.01\n",
      "[360]\tvalid_0's l1: 1544.48\n",
      "[361]\tvalid_0's l1: 1544.4\n",
      "[362]\tvalid_0's l1: 1543.58\n",
      "[363]\tvalid_0's l1: 1543.33\n",
      "[364]\tvalid_0's l1: 1543.19\n",
      "[365]\tvalid_0's l1: 1542.83\n",
      "[366]\tvalid_0's l1: 1542.5\n",
      "[367]\tvalid_0's l1: 1542.13\n",
      "[368]\tvalid_0's l1: 1542.16\n",
      "[369]\tvalid_0's l1: 1542.13\n",
      "[370]\tvalid_0's l1: 1540.96\n",
      "[371]\tvalid_0's l1: 1540.41\n",
      "[372]\tvalid_0's l1: 1540.33\n",
      "[373]\tvalid_0's l1: 1540.11\n",
      "[374]\tvalid_0's l1: 1539.81\n",
      "[375]\tvalid_0's l1: 1539.75\n",
      "[376]\tvalid_0's l1: 1539.43\n",
      "[377]\tvalid_0's l1: 1538.63\n",
      "[378]\tvalid_0's l1: 1538.25\n",
      "[379]\tvalid_0's l1: 1537.63\n",
      "[380]\tvalid_0's l1: 1537.25\n",
      "[381]\tvalid_0's l1: 1537.14\n",
      "[382]\tvalid_0's l1: 1537.14\n",
      "[383]\tvalid_0's l1: 1537.06\n",
      "[384]\tvalid_0's l1: 1536.89\n",
      "[385]\tvalid_0's l1: 1536.65\n",
      "[386]\tvalid_0's l1: 1536.44\n",
      "[387]\tvalid_0's l1: 1536.44\n",
      "[388]\tvalid_0's l1: 1536\n",
      "[389]\tvalid_0's l1: 1535.41\n",
      "[390]\tvalid_0's l1: 1535.16\n",
      "[391]\tvalid_0's l1: 1534.82\n",
      "[392]\tvalid_0's l1: 1534.77\n",
      "[393]\tvalid_0's l1: 1534.21\n",
      "[394]\tvalid_0's l1: 1533.54\n",
      "[395]\tvalid_0's l1: 1533.49\n",
      "[396]\tvalid_0's l1: 1533.45\n",
      "[397]\tvalid_0's l1: 1533.36\n",
      "[398]\tvalid_0's l1: 1533.29\n",
      "[399]\tvalid_0's l1: 1533.09\n",
      "[400]\tvalid_0's l1: 1533.01\n",
      "[401]\tvalid_0's l1: 1532.71\n",
      "[402]\tvalid_0's l1: 1532.58\n",
      "[403]\tvalid_0's l1: 1532.34\n",
      "[404]\tvalid_0's l1: 1531.88\n",
      "[405]\tvalid_0's l1: 1531.78\n",
      "[406]\tvalid_0's l1: 1531.65\n",
      "[407]\tvalid_0's l1: 1530.66\n",
      "[408]\tvalid_0's l1: 1530.23\n",
      "[409]\tvalid_0's l1: 1529.86\n",
      "[410]\tvalid_0's l1: 1529.79\n",
      "[411]\tvalid_0's l1: 1529.44\n",
      "[412]\tvalid_0's l1: 1529.38\n",
      "[413]\tvalid_0's l1: 1528.92\n",
      "[414]\tvalid_0's l1: 1528.58\n",
      "[415]\tvalid_0's l1: 1528.24\n",
      "[416]\tvalid_0's l1: 1527.96\n",
      "[417]\tvalid_0's l1: 1527.86\n",
      "[418]\tvalid_0's l1: 1527.63\n",
      "[419]\tvalid_0's l1: 1527.51\n",
      "[420]\tvalid_0's l1: 1527.27\n",
      "[421]\tvalid_0's l1: 1527.25\n",
      "[422]\tvalid_0's l1: 1526.76\n",
      "[423]\tvalid_0's l1: 1526.68\n",
      "[424]\tvalid_0's l1: 1526.32\n",
      "[425]\tvalid_0's l1: 1525.91\n",
      "[426]\tvalid_0's l1: 1525.85\n",
      "[427]\tvalid_0's l1: 1525.63\n",
      "[428]\tvalid_0's l1: 1525.32\n",
      "[429]\tvalid_0's l1: 1525.2\n",
      "[430]\tvalid_0's l1: 1524.89\n",
      "[431]\tvalid_0's l1: 1524.69\n",
      "[432]\tvalid_0's l1: 1524.57\n",
      "[433]\tvalid_0's l1: 1524.16\n",
      "[434]\tvalid_0's l1: 1523.53\n",
      "[435]\tvalid_0's l1: 1523.37\n",
      "[436]\tvalid_0's l1: 1523.31\n",
      "[437]\tvalid_0's l1: 1523.26\n",
      "[438]\tvalid_0's l1: 1523.23\n",
      "[439]\tvalid_0's l1: 1523.16\n",
      "[440]\tvalid_0's l1: 1523.02\n",
      "[441]\tvalid_0's l1: 1522.72\n",
      "[442]\tvalid_0's l1: 1522.49\n",
      "[443]\tvalid_0's l1: 1522.39\n",
      "[444]\tvalid_0's l1: 1522.31\n",
      "[445]\tvalid_0's l1: 1521.26\n",
      "[446]\tvalid_0's l1: 1521.23\n",
      "[447]\tvalid_0's l1: 1520.84\n",
      "[448]\tvalid_0's l1: 1520.74\n",
      "[449]\tvalid_0's l1: 1520.67\n",
      "[450]\tvalid_0's l1: 1520.61\n",
      "[451]\tvalid_0's l1: 1520.15\n",
      "[452]\tvalid_0's l1: 1519.45\n",
      "[453]\tvalid_0's l1: 1519.08\n",
      "[454]\tvalid_0's l1: 1518.52\n",
      "[455]\tvalid_0's l1: 1518.47\n",
      "[456]\tvalid_0's l1: 1518.21\n",
      "[457]\tvalid_0's l1: 1517.92\n",
      "[458]\tvalid_0's l1: 1517.42\n",
      "[459]\tvalid_0's l1: 1517.24\n",
      "[460]\tvalid_0's l1: 1517.15\n",
      "[461]\tvalid_0's l1: 1516.99\n",
      "[462]\tvalid_0's l1: 1516.98\n",
      "[463]\tvalid_0's l1: 1516.94\n",
      "[464]\tvalid_0's l1: 1516.77\n",
      "[465]\tvalid_0's l1: 1516.68\n",
      "[466]\tvalid_0's l1: 1516.64\n",
      "[467]\tvalid_0's l1: 1516.61\n",
      "[468]\tvalid_0's l1: 1516.57\n",
      "[469]\tvalid_0's l1: 1516.51\n",
      "[470]\tvalid_0's l1: 1516.26\n",
      "[471]\tvalid_0's l1: 1516.13\n",
      "[472]\tvalid_0's l1: 1515.97\n",
      "[473]\tvalid_0's l1: 1515.89\n",
      "[474]\tvalid_0's l1: 1515.81\n",
      "[475]\tvalid_0's l1: 1515.47\n",
      "[476]\tvalid_0's l1: 1515.47\n",
      "[477]\tvalid_0's l1: 1515.34\n",
      "[478]\tvalid_0's l1: 1515.23\n",
      "[479]\tvalid_0's l1: 1515.17\n",
      "[480]\tvalid_0's l1: 1515.12\n",
      "[481]\tvalid_0's l1: 1514.96\n",
      "[482]\tvalid_0's l1: 1514.85\n",
      "[483]\tvalid_0's l1: 1514.69\n",
      "[484]\tvalid_0's l1: 1514.02\n",
      "[485]\tvalid_0's l1: 1514.06\n",
      "[486]\tvalid_0's l1: 1513.57\n",
      "[487]\tvalid_0's l1: 1512.97\n",
      "[488]\tvalid_0's l1: 1512.93\n",
      "[489]\tvalid_0's l1: 1512.88\n",
      "[490]\tvalid_0's l1: 1512.83\n",
      "[491]\tvalid_0's l1: 1512.74\n",
      "[492]\tvalid_0's l1: 1512.69\n",
      "[493]\tvalid_0's l1: 1512.57\n",
      "[494]\tvalid_0's l1: 1512.47\n",
      "[495]\tvalid_0's l1: 1512.41\n",
      "[496]\tvalid_0's l1: 1512.16\n",
      "[497]\tvalid_0's l1: 1512.11\n",
      "[498]\tvalid_0's l1: 1512.01\n",
      "[499]\tvalid_0's l1: 1511.93\n",
      "[500]\tvalid_0's l1: 1511.81\n",
      "Did not meet early stopping. Best iteration is:\n",
      "[500]\tvalid_0's l1: 1511.81\n"
     ]
    }
   ],
   "source": [
    "model = lgb.train(params,\n",
    "                 train_set=lgb_train,\n",
    "                 valid_sets=lgb_valid,\n",
    "                 early_stopping_rounds=10)"
   ]
  },
  {
   "cell_type": "code",
   "execution_count": 36,
   "metadata": {},
   "outputs": [
    {
     "name": "stdout",
     "output_type": "stream",
     "text": [
      "2224.190661805113\n"
     ]
    }
   ],
   "source": [
    "predictions = model.predict(features_test)\n",
    "rmse_lgbm = mean_squared_error(target_test, predictions) ** 0.5\n",
    "print(rmse_lgbm)"
   ]
  },
  {
   "cell_type": "markdown",
   "metadata": {},
   "source": [
    "Как можно заметить, значение метрики чуть выше требуемой."
   ]
  },
  {
   "cell_type": "markdown",
   "metadata": {},
   "source": [
    "<b>Вывод: </b>\n",
    "\n",
    "В данной работе были проведено исследование моделей на быстроту обучения и точность предсказания. Были выбраны три модели DecisionTreeRegressor, CatBoostRegressor, LightGBM. Предварительно данные для исследования были обработаны от выбросов и аномальных значений, а также были удалены признаки, которые не влияют на целевой признак. В результате исследования была выбрана модель LightGBM, так как она удовлетворяла по значению метрики, как не тренировочной так и на тестовой, но имеет большое время обучения."
   ]
  }
 ],
 "metadata": {
  "ExecuteTimeLog": [
   {
    "duration": 46,
    "start_time": "2023-06-08T19:55:42.250Z"
   },
   {
    "duration": 383,
    "start_time": "2023-06-08T19:56:02.690Z"
   },
   {
    "duration": 2672,
    "start_time": "2023-06-08T19:56:03.074Z"
   },
   {
    "duration": 43,
    "start_time": "2023-06-09T07:15:48.666Z"
   },
   {
    "duration": 367,
    "start_time": "2023-06-09T07:15:51.406Z"
   },
   {
    "duration": 906,
    "start_time": "2023-06-09T07:15:51.774Z"
   },
   {
    "duration": 25,
    "start_time": "2023-06-09T07:16:22.957Z"
   },
   {
    "duration": 6,
    "start_time": "2023-06-09T07:16:28.828Z"
   },
   {
    "duration": 3,
    "start_time": "2023-06-09T07:16:33.140Z"
   },
   {
    "duration": 11,
    "start_time": "2023-06-09T07:16:39.582Z"
   },
   {
    "duration": 119,
    "start_time": "2023-06-09T07:16:55.490Z"
   },
   {
    "duration": 86,
    "start_time": "2023-06-09T07:17:18.750Z"
   },
   {
    "duration": 113,
    "start_time": "2023-06-09T07:20:04.658Z"
   },
   {
    "duration": 35,
    "start_time": "2023-06-09T08:09:05.565Z"
   },
   {
    "duration": 48,
    "start_time": "2023-06-09T08:09:15.665Z"
   },
   {
    "duration": 80,
    "start_time": "2023-06-09T08:09:25.668Z"
   },
   {
    "duration": 28,
    "start_time": "2023-06-09T08:09:47.436Z"
   },
   {
    "duration": 61,
    "start_time": "2023-06-09T08:09:47.597Z"
   },
   {
    "duration": 35,
    "start_time": "2023-06-09T08:10:10.437Z"
   },
   {
    "duration": 59,
    "start_time": "2023-06-09T08:10:10.993Z"
   },
   {
    "duration": 32,
    "start_time": "2023-06-09T08:10:48.776Z"
   },
   {
    "duration": 60,
    "start_time": "2023-06-09T08:10:48.944Z"
   },
   {
    "duration": 68,
    "start_time": "2023-06-09T08:11:13.372Z"
   },
   {
    "duration": 33,
    "start_time": "2023-06-09T08:14:02.209Z"
   },
   {
    "duration": 61,
    "start_time": "2023-06-09T08:14:03.190Z"
   },
   {
    "duration": 359,
    "start_time": "2023-06-09T08:14:56.241Z"
   },
   {
    "duration": 780,
    "start_time": "2023-06-09T08:14:56.602Z"
   },
   {
    "duration": 12,
    "start_time": "2023-06-09T08:14:57.384Z"
   },
   {
    "duration": 158,
    "start_time": "2023-06-09T08:14:57.398Z"
   },
   {
    "duration": 100,
    "start_time": "2023-06-09T08:14:57.557Z"
   },
   {
    "duration": 112,
    "start_time": "2023-06-09T08:14:57.659Z"
   },
   {
    "duration": 139,
    "start_time": "2023-06-09T08:14:57.772Z"
   },
   {
    "duration": 91,
    "start_time": "2023-06-09T08:14:57.912Z"
   },
   {
    "duration": 112,
    "start_time": "2023-06-09T08:14:58.005Z"
   },
   {
    "duration": 785,
    "start_time": "2023-06-09T08:22:55.755Z"
   },
   {
    "duration": 12,
    "start_time": "2023-06-09T08:23:33.403Z"
   },
   {
    "duration": 127,
    "start_time": "2023-06-09T08:58:41.687Z"
   },
   {
    "duration": 85,
    "start_time": "2023-06-09T08:59:18.244Z"
   },
   {
    "duration": 408,
    "start_time": "2023-06-09T08:59:21.779Z"
   },
   {
    "duration": 691,
    "start_time": "2023-06-09T08:59:22.188Z"
   },
   {
    "duration": 11,
    "start_time": "2023-06-09T08:59:22.884Z"
   },
   {
    "duration": 107,
    "start_time": "2023-06-09T08:59:22.896Z"
   },
   {
    "duration": 148,
    "start_time": "2023-06-09T08:59:23.004Z"
   },
   {
    "duration": 0,
    "start_time": "2023-06-09T08:59:23.154Z"
   },
   {
    "duration": 56,
    "start_time": "2023-06-09T08:59:54.835Z"
   },
   {
    "duration": 96,
    "start_time": "2023-06-09T09:00:16.180Z"
   },
   {
    "duration": 85,
    "start_time": "2023-06-09T09:02:59.348Z"
   },
   {
    "duration": 6,
    "start_time": "2023-06-09T09:03:11.980Z"
   },
   {
    "duration": 6,
    "start_time": "2023-06-09T09:03:25.852Z"
   },
   {
    "duration": 7,
    "start_time": "2023-06-09T09:03:31.904Z"
   },
   {
    "duration": 6,
    "start_time": "2023-06-09T09:03:33.484Z"
   },
   {
    "duration": 6,
    "start_time": "2023-06-09T09:05:09.948Z"
   },
   {
    "duration": 374,
    "start_time": "2023-06-09T09:05:14.800Z"
   },
   {
    "duration": 695,
    "start_time": "2023-06-09T09:05:15.176Z"
   },
   {
    "duration": 13,
    "start_time": "2023-06-09T09:05:15.873Z"
   },
   {
    "duration": 121,
    "start_time": "2023-06-09T09:05:15.889Z"
   },
   {
    "duration": 145,
    "start_time": "2023-06-09T09:05:16.012Z"
   },
   {
    "duration": 82,
    "start_time": "2023-06-09T09:05:16.159Z"
   },
   {
    "duration": 6,
    "start_time": "2023-06-09T09:05:31.003Z"
   },
   {
    "duration": 7,
    "start_time": "2023-06-09T09:05:31.207Z"
   },
   {
    "duration": 372,
    "start_time": "2023-06-09T09:05:35.748Z"
   },
   {
    "duration": 729,
    "start_time": "2023-06-09T09:05:36.124Z"
   },
   {
    "duration": 12,
    "start_time": "2023-06-09T09:05:36.855Z"
   },
   {
    "duration": 96,
    "start_time": "2023-06-09T09:05:36.870Z"
   },
   {
    "duration": 75,
    "start_time": "2023-06-09T09:05:36.968Z"
   },
   {
    "duration": 94,
    "start_time": "2023-06-09T09:05:37.044Z"
   },
   {
    "duration": 104,
    "start_time": "2023-06-09T09:06:05.240Z"
   },
   {
    "duration": 63,
    "start_time": "2023-06-09T09:06:07.116Z"
   },
   {
    "duration": 6,
    "start_time": "2023-06-09T09:06:21.879Z"
   },
   {
    "duration": 381,
    "start_time": "2023-06-09T09:09:12.391Z"
   },
   {
    "duration": 697,
    "start_time": "2023-06-09T09:09:12.773Z"
   },
   {
    "duration": 14,
    "start_time": "2023-06-09T09:09:13.471Z"
   },
   {
    "duration": 94,
    "start_time": "2023-06-09T09:09:13.487Z"
   },
   {
    "duration": 111,
    "start_time": "2023-06-09T09:09:13.582Z"
   },
   {
    "duration": 66,
    "start_time": "2023-06-09T09:09:13.695Z"
   },
   {
    "duration": 6,
    "start_time": "2023-06-09T09:09:34.956Z"
   },
   {
    "duration": 6,
    "start_time": "2023-06-09T09:09:52.257Z"
   },
   {
    "duration": 7,
    "start_time": "2023-06-09T09:09:57.292Z"
   },
   {
    "duration": 7,
    "start_time": "2023-06-09T09:09:58.228Z"
   },
   {
    "duration": 6,
    "start_time": "2023-06-09T09:16:41.781Z"
   },
   {
    "duration": 371,
    "start_time": "2023-06-09T09:16:48.601Z"
   },
   {
    "duration": 705,
    "start_time": "2023-06-09T09:16:48.973Z"
   },
   {
    "duration": 13,
    "start_time": "2023-06-09T09:16:49.679Z"
   },
   {
    "duration": 93,
    "start_time": "2023-06-09T09:16:49.694Z"
   },
   {
    "duration": 62,
    "start_time": "2023-06-09T09:16:49.788Z"
   },
   {
    "duration": 11,
    "start_time": "2023-06-09T09:16:49.851Z"
   },
   {
    "duration": 91,
    "start_time": "2023-06-09T09:18:21.570Z"
   },
   {
    "duration": 10,
    "start_time": "2023-06-09T09:18:23.374Z"
   },
   {
    "duration": 105,
    "start_time": "2023-06-09T09:18:33.394Z"
   },
   {
    "duration": 11,
    "start_time": "2023-06-09T09:18:35.730Z"
   },
   {
    "duration": 67,
    "start_time": "2023-06-09T09:19:02.417Z"
   },
   {
    "duration": 49,
    "start_time": "2023-06-09T09:19:08.998Z"
   },
   {
    "duration": 11,
    "start_time": "2023-06-09T09:19:09.261Z"
   },
   {
    "duration": 398,
    "start_time": "2023-06-09T09:19:12.770Z"
   },
   {
    "duration": 678,
    "start_time": "2023-06-09T09:19:13.170Z"
   },
   {
    "duration": 11,
    "start_time": "2023-06-09T09:19:13.849Z"
   },
   {
    "duration": 146,
    "start_time": "2023-06-09T09:19:13.861Z"
   },
   {
    "duration": 93,
    "start_time": "2023-06-09T09:19:14.009Z"
   },
   {
    "duration": 10,
    "start_time": "2023-06-09T09:19:14.104Z"
   },
   {
    "duration": 99,
    "start_time": "2023-06-09T10:55:01.160Z"
   },
   {
    "duration": 96,
    "start_time": "2023-06-09T10:55:10.497Z"
   },
   {
    "duration": 85,
    "start_time": "2023-06-09T10:56:31.189Z"
   },
   {
    "duration": 44,
    "start_time": "2023-06-09T10:57:03.289Z"
   },
   {
    "duration": 75,
    "start_time": "2023-06-09T10:57:27.413Z"
   },
   {
    "duration": 117,
    "start_time": "2023-06-09T10:57:46.173Z"
   },
   {
    "duration": 37,
    "start_time": "2023-06-09T10:57:49.374Z"
   },
   {
    "duration": 415,
    "start_time": "2023-06-09T10:57:53.275Z"
   },
   {
    "duration": 724,
    "start_time": "2023-06-09T10:57:53.692Z"
   },
   {
    "duration": 12,
    "start_time": "2023-06-09T10:57:54.418Z"
   },
   {
    "duration": 113,
    "start_time": "2023-06-09T10:57:54.432Z"
   },
   {
    "duration": 96,
    "start_time": "2023-06-09T10:57:54.547Z"
   },
   {
    "duration": 16,
    "start_time": "2023-06-09T10:57:54.644Z"
   },
   {
    "duration": 247,
    "start_time": "2023-06-09T10:57:54.662Z"
   },
   {
    "duration": 65,
    "start_time": "2023-06-09T10:58:07.240Z"
   },
   {
    "duration": 12,
    "start_time": "2023-06-09T10:58:17.624Z"
   },
   {
    "duration": 54,
    "start_time": "2023-06-09T10:59:49.573Z"
   },
   {
    "duration": 13,
    "start_time": "2023-06-09T10:59:50.128Z"
   },
   {
    "duration": 465,
    "start_time": "2023-06-09T11:00:01.388Z"
   },
   {
    "duration": 783,
    "start_time": "2023-06-09T11:00:01.855Z"
   },
   {
    "duration": 13,
    "start_time": "2023-06-09T11:00:02.639Z"
   },
   {
    "duration": 125,
    "start_time": "2023-06-09T11:00:02.654Z"
   },
   {
    "duration": 108,
    "start_time": "2023-06-09T11:00:02.781Z"
   },
   {
    "duration": 12,
    "start_time": "2023-06-09T11:00:02.890Z"
   },
   {
    "duration": 124,
    "start_time": "2023-06-09T11:00:02.904Z"
   },
   {
    "duration": 12,
    "start_time": "2023-06-09T11:00:03.030Z"
   },
   {
    "duration": 48,
    "start_time": "2023-06-09T11:00:17.632Z"
   },
   {
    "duration": 12,
    "start_time": "2023-06-09T11:00:19.280Z"
   },
   {
    "duration": 159,
    "start_time": "2023-06-09T11:00:38.969Z"
   },
   {
    "duration": 13,
    "start_time": "2023-06-09T11:00:39.132Z"
   },
   {
    "duration": 113,
    "start_time": "2023-06-09T11:05:10.830Z"
   },
   {
    "duration": 13,
    "start_time": "2023-06-09T11:05:11.290Z"
   },
   {
    "duration": 92,
    "start_time": "2023-06-09T11:05:36.359Z"
   },
   {
    "duration": 2033,
    "start_time": "2023-06-09T11:09:09.849Z"
   },
   {
    "duration": 26,
    "start_time": "2023-06-09T11:09:51.741Z"
   },
   {
    "duration": 345,
    "start_time": "2023-06-09T11:10:43.115Z"
   },
   {
    "duration": 729,
    "start_time": "2023-06-09T11:10:43.462Z"
   },
   {
    "duration": 13,
    "start_time": "2023-06-09T11:10:44.192Z"
   },
   {
    "duration": 170,
    "start_time": "2023-06-09T11:10:44.207Z"
   },
   {
    "duration": 123,
    "start_time": "2023-06-09T11:10:44.379Z"
   },
   {
    "duration": 12,
    "start_time": "2023-06-09T11:10:44.504Z"
   },
   {
    "duration": 247,
    "start_time": "2023-06-09T11:10:44.517Z"
   },
   {
    "duration": 11,
    "start_time": "2023-06-09T11:10:44.766Z"
   },
   {
    "duration": 99,
    "start_time": "2023-06-09T11:10:44.785Z"
   },
   {
    "duration": 20,
    "start_time": "2023-06-09T11:10:44.887Z"
   },
   {
    "duration": 101,
    "start_time": "2023-06-09T11:13:12.688Z"
   },
   {
    "duration": 16,
    "start_time": "2023-06-09T11:55:34.091Z"
   },
   {
    "duration": 28,
    "start_time": "2023-06-09T12:10:17.299Z"
   },
   {
    "duration": 21,
    "start_time": "2023-06-09T12:10:41.007Z"
   },
   {
    "duration": 17,
    "start_time": "2023-06-09T12:11:50.526Z"
   },
   {
    "duration": 21,
    "start_time": "2023-06-09T12:13:03.430Z"
   },
   {
    "duration": 29,
    "start_time": "2023-06-09T12:14:49.941Z"
   },
   {
    "duration": 24,
    "start_time": "2023-06-09T12:16:04.805Z"
   },
   {
    "duration": 45,
    "start_time": "2023-06-09T12:16:05.654Z"
   },
   {
    "duration": 31,
    "start_time": "2023-06-09T12:17:41.633Z"
   },
   {
    "duration": 7,
    "start_time": "2023-06-09T12:23:37.101Z"
   },
   {
    "duration": 28,
    "start_time": "2023-06-09T12:23:37.265Z"
   },
   {
    "duration": 3,
    "start_time": "2023-06-09T12:23:47.265Z"
   },
   {
    "duration": 26,
    "start_time": "2023-06-09T12:23:47.457Z"
   },
   {
    "duration": 381,
    "start_time": "2023-06-09T12:23:51.887Z"
   },
   {
    "duration": 749,
    "start_time": "2023-06-09T12:23:52.270Z"
   },
   {
    "duration": 12,
    "start_time": "2023-06-09T12:23:53.021Z"
   },
   {
    "duration": 110,
    "start_time": "2023-06-09T12:23:53.035Z"
   },
   {
    "duration": 108,
    "start_time": "2023-06-09T12:23:53.148Z"
   },
   {
    "duration": 12,
    "start_time": "2023-06-09T12:23:53.258Z"
   },
   {
    "duration": 262,
    "start_time": "2023-06-09T12:23:53.285Z"
   },
   {
    "duration": 12,
    "start_time": "2023-06-09T12:23:53.549Z"
   },
   {
    "duration": 95,
    "start_time": "2023-06-09T12:23:53.563Z"
   },
   {
    "duration": 31,
    "start_time": "2023-06-09T12:23:53.659Z"
   },
   {
    "duration": 31,
    "start_time": "2023-06-09T12:23:53.692Z"
   },
   {
    "duration": 10,
    "start_time": "2023-06-09T12:23:53.725Z"
   },
   {
    "duration": 14,
    "start_time": "2023-06-09T12:24:12.431Z"
   },
   {
    "duration": 387,
    "start_time": "2023-06-09T12:29:32.981Z"
   },
   {
    "duration": 697,
    "start_time": "2023-06-09T12:29:33.370Z"
   },
   {
    "duration": 16,
    "start_time": "2023-06-09T12:29:34.068Z"
   },
   {
    "duration": 96,
    "start_time": "2023-06-09T12:29:34.086Z"
   },
   {
    "duration": 98,
    "start_time": "2023-06-09T12:29:34.183Z"
   },
   {
    "duration": 11,
    "start_time": "2023-06-09T12:29:34.285Z"
   },
   {
    "duration": 267,
    "start_time": "2023-06-09T12:29:34.298Z"
   },
   {
    "duration": 11,
    "start_time": "2023-06-09T12:29:34.566Z"
   },
   {
    "duration": 75,
    "start_time": "2023-06-09T12:29:34.584Z"
   },
   {
    "duration": 40,
    "start_time": "2023-06-09T12:29:34.661Z"
   },
   {
    "duration": 28,
    "start_time": "2023-06-09T12:29:34.703Z"
   },
   {
    "duration": 9,
    "start_time": "2023-06-09T12:29:34.732Z"
   },
   {
    "duration": 15,
    "start_time": "2023-06-09T12:30:01.542Z"
   },
   {
    "duration": 15,
    "start_time": "2023-06-09T12:30:19.488Z"
   },
   {
    "duration": 324,
    "start_time": "2023-06-09T12:30:24.335Z"
   },
   {
    "duration": 699,
    "start_time": "2023-06-09T12:30:24.661Z"
   },
   {
    "duration": 11,
    "start_time": "2023-06-09T12:30:25.362Z"
   },
   {
    "duration": 88,
    "start_time": "2023-06-09T12:30:25.384Z"
   },
   {
    "duration": 101,
    "start_time": "2023-06-09T12:30:25.473Z"
   },
   {
    "duration": 13,
    "start_time": "2023-06-09T12:30:25.576Z"
   },
   {
    "duration": 246,
    "start_time": "2023-06-09T12:30:25.590Z"
   },
   {
    "duration": 11,
    "start_time": "2023-06-09T12:30:25.838Z"
   },
   {
    "duration": 82,
    "start_time": "2023-06-09T12:30:25.850Z"
   },
   {
    "duration": 27,
    "start_time": "2023-06-09T12:30:25.935Z"
   },
   {
    "duration": 57,
    "start_time": "2023-06-09T12:30:25.964Z"
   },
   {
    "duration": 11,
    "start_time": "2023-06-09T12:30:26.023Z"
   },
   {
    "duration": 370,
    "start_time": "2023-06-09T12:31:45.495Z"
   },
   {
    "duration": 742,
    "start_time": "2023-06-09T12:31:45.867Z"
   },
   {
    "duration": 11,
    "start_time": "2023-06-09T12:31:46.610Z"
   },
   {
    "duration": 99,
    "start_time": "2023-06-09T12:31:46.623Z"
   },
   {
    "duration": 100,
    "start_time": "2023-06-09T12:31:46.723Z"
   },
   {
    "duration": 10,
    "start_time": "2023-06-09T12:31:46.825Z"
   },
   {
    "duration": 251,
    "start_time": "2023-06-09T12:31:46.836Z"
   },
   {
    "duration": 10,
    "start_time": "2023-06-09T12:31:47.089Z"
   },
   {
    "duration": 84,
    "start_time": "2023-06-09T12:31:47.101Z"
   },
   {
    "duration": 31,
    "start_time": "2023-06-09T12:31:47.187Z"
   },
   {
    "duration": 46,
    "start_time": "2023-06-09T12:31:47.219Z"
   },
   {
    "duration": 45,
    "start_time": "2023-06-09T12:31:47.266Z"
   },
   {
    "duration": 46,
    "start_time": "2023-06-09T12:51:43.585Z"
   },
   {
    "duration": 38,
    "start_time": "2023-06-09T12:51:59.027Z"
   },
   {
    "duration": 55,
    "start_time": "2023-06-09T12:52:01.898Z"
   },
   {
    "duration": 397,
    "start_time": "2023-06-09T12:52:06.390Z"
   },
   {
    "duration": 759,
    "start_time": "2023-06-09T12:52:06.789Z"
   },
   {
    "duration": 11,
    "start_time": "2023-06-09T12:52:07.550Z"
   },
   {
    "duration": 141,
    "start_time": "2023-06-09T12:52:07.563Z"
   },
   {
    "duration": 110,
    "start_time": "2023-06-09T12:52:07.707Z"
   },
   {
    "duration": 10,
    "start_time": "2023-06-09T12:52:07.819Z"
   },
   {
    "duration": 264,
    "start_time": "2023-06-09T12:52:07.831Z"
   },
   {
    "duration": 12,
    "start_time": "2023-06-09T12:52:08.096Z"
   },
   {
    "duration": 92,
    "start_time": "2023-06-09T12:52:08.109Z"
   },
   {
    "duration": 41,
    "start_time": "2023-06-09T12:52:08.203Z"
   },
   {
    "duration": 65,
    "start_time": "2023-06-09T12:52:08.245Z"
   },
   {
    "duration": 31,
    "start_time": "2023-06-09T12:52:08.312Z"
   },
   {
    "duration": 28,
    "start_time": "2023-06-09T12:54:21.885Z"
   },
   {
    "duration": 340,
    "start_time": "2023-06-09T12:54:26.447Z"
   },
   {
    "duration": 786,
    "start_time": "2023-06-09T12:54:26.789Z"
   },
   {
    "duration": 17,
    "start_time": "2023-06-09T12:54:27.577Z"
   },
   {
    "duration": 120,
    "start_time": "2023-06-09T12:54:27.597Z"
   },
   {
    "duration": 106,
    "start_time": "2023-06-09T12:54:27.719Z"
   },
   {
    "duration": 12,
    "start_time": "2023-06-09T12:54:27.827Z"
   },
   {
    "duration": 288,
    "start_time": "2023-06-09T12:54:27.840Z"
   },
   {
    "duration": 12,
    "start_time": "2023-06-09T12:54:28.129Z"
   },
   {
    "duration": 174,
    "start_time": "2023-06-09T12:54:28.143Z"
   },
   {
    "duration": 41,
    "start_time": "2023-06-09T12:54:28.320Z"
   },
   {
    "duration": 78,
    "start_time": "2023-06-09T12:54:28.362Z"
   },
   {
    "duration": 41,
    "start_time": "2023-06-09T12:54:28.443Z"
   },
   {
    "duration": 44,
    "start_time": "2023-06-09T12:55:32.451Z"
   },
   {
    "duration": 377,
    "start_time": "2023-06-09T12:55:38.981Z"
   },
   {
    "duration": 727,
    "start_time": "2023-06-09T12:55:39.360Z"
   },
   {
    "duration": 12,
    "start_time": "2023-06-09T12:55:40.089Z"
   },
   {
    "duration": 97,
    "start_time": "2023-06-09T12:55:40.102Z"
   },
   {
    "duration": 107,
    "start_time": "2023-06-09T12:55:40.201Z"
   },
   {
    "duration": 11,
    "start_time": "2023-06-09T12:55:40.309Z"
   },
   {
    "duration": 269,
    "start_time": "2023-06-09T12:55:40.321Z"
   },
   {
    "duration": 12,
    "start_time": "2023-06-09T12:55:40.591Z"
   },
   {
    "duration": 98,
    "start_time": "2023-06-09T12:55:40.605Z"
   },
   {
    "duration": 45,
    "start_time": "2023-06-09T12:55:40.705Z"
   },
   {
    "duration": 57,
    "start_time": "2023-06-09T12:55:40.752Z"
   },
   {
    "duration": 32,
    "start_time": "2023-06-09T12:55:40.810Z"
   },
   {
    "duration": 1810,
    "start_time": "2023-06-09T12:58:17.613Z"
   },
   {
    "duration": 1067,
    "start_time": "2023-06-09T12:59:14.689Z"
   },
   {
    "duration": 1110,
    "start_time": "2023-06-09T12:59:24.130Z"
   },
   {
    "duration": 1219,
    "start_time": "2023-06-09T12:59:39.234Z"
   },
   {
    "duration": 1199,
    "start_time": "2023-06-09T12:59:48.238Z"
   },
   {
    "duration": 927,
    "start_time": "2023-06-09T12:59:57.731Z"
   },
   {
    "duration": 4,
    "start_time": "2023-06-09T13:02:29.415Z"
   },
   {
    "duration": 171,
    "start_time": "2023-06-09T13:02:47.367Z"
   },
   {
    "duration": 683,
    "start_time": "2023-06-09T13:03:13.338Z"
   },
   {
    "duration": 817,
    "start_time": "2023-06-09T13:03:14.023Z"
   },
   {
    "duration": 14,
    "start_time": "2023-06-09T13:03:14.843Z"
   },
   {
    "duration": 101,
    "start_time": "2023-06-09T13:03:14.859Z"
   },
   {
    "duration": 116,
    "start_time": "2023-06-09T13:03:14.961Z"
   },
   {
    "duration": 24,
    "start_time": "2023-06-09T13:03:15.079Z"
   },
   {
    "duration": 287,
    "start_time": "2023-06-09T13:03:15.105Z"
   },
   {
    "duration": 13,
    "start_time": "2023-06-09T13:03:15.394Z"
   },
   {
    "duration": 118,
    "start_time": "2023-06-09T13:03:15.409Z"
   },
   {
    "duration": 64,
    "start_time": "2023-06-09T13:03:15.530Z"
   },
   {
    "duration": 52,
    "start_time": "2023-06-09T13:03:15.596Z"
   },
   {
    "duration": 65,
    "start_time": "2023-06-09T13:03:15.650Z"
   },
   {
    "duration": 602,
    "start_time": "2023-06-09T13:08:01.110Z"
   },
   {
    "duration": 761,
    "start_time": "2023-06-09T13:08:01.714Z"
   },
   {
    "duration": 13,
    "start_time": "2023-06-09T13:08:02.477Z"
   },
   {
    "duration": 129,
    "start_time": "2023-06-09T13:08:02.491Z"
   },
   {
    "duration": 104,
    "start_time": "2023-06-09T13:08:02.622Z"
   },
   {
    "duration": 93,
    "start_time": "2023-06-09T13:08:02.728Z"
   },
   {
    "duration": 258,
    "start_time": "2023-06-09T13:08:02.822Z"
   },
   {
    "duration": 11,
    "start_time": "2023-06-09T13:08:03.082Z"
   },
   {
    "duration": 106,
    "start_time": "2023-06-09T13:08:03.094Z"
   },
   {
    "duration": 53,
    "start_time": "2023-06-09T13:08:03.201Z"
   },
   {
    "duration": 60,
    "start_time": "2023-06-09T13:08:03.255Z"
   },
   {
    "duration": 31,
    "start_time": "2023-06-09T13:08:03.316Z"
   },
   {
    "duration": 642,
    "start_time": "2023-06-09T13:09:53.195Z"
   },
   {
    "duration": 804,
    "start_time": "2023-06-09T13:09:53.839Z"
   },
   {
    "duration": 14,
    "start_time": "2023-06-09T13:09:54.645Z"
   },
   {
    "duration": 102,
    "start_time": "2023-06-09T13:09:54.661Z"
   },
   {
    "duration": 109,
    "start_time": "2023-06-09T13:09:54.765Z"
   },
   {
    "duration": 14,
    "start_time": "2023-06-09T13:09:54.876Z"
   },
   {
    "duration": 289,
    "start_time": "2023-06-09T13:09:54.892Z"
   },
   {
    "duration": 12,
    "start_time": "2023-06-09T13:09:55.182Z"
   },
   {
    "duration": 100,
    "start_time": "2023-06-09T13:09:55.195Z"
   },
   {
    "duration": 55,
    "start_time": "2023-06-09T13:09:55.296Z"
   },
   {
    "duration": 61,
    "start_time": "2023-06-09T13:09:55.352Z"
   },
   {
    "duration": 35,
    "start_time": "2023-06-09T13:09:55.414Z"
   },
   {
    "duration": 566,
    "start_time": "2023-06-09T13:10:13.623Z"
   },
   {
    "duration": 724,
    "start_time": "2023-06-09T13:10:14.191Z"
   },
   {
    "duration": 11,
    "start_time": "2023-06-09T13:10:14.917Z"
   },
   {
    "duration": 102,
    "start_time": "2023-06-09T13:10:14.929Z"
   },
   {
    "duration": 101,
    "start_time": "2023-06-09T13:10:15.033Z"
   },
   {
    "duration": 11,
    "start_time": "2023-06-09T13:10:15.136Z"
   },
   {
    "duration": 252,
    "start_time": "2023-06-09T13:10:15.148Z"
   },
   {
    "duration": 11,
    "start_time": "2023-06-09T13:10:15.401Z"
   },
   {
    "duration": 86,
    "start_time": "2023-06-09T13:10:15.413Z"
   },
   {
    "duration": 51,
    "start_time": "2023-06-09T13:10:15.500Z"
   },
   {
    "duration": 54,
    "start_time": "2023-06-09T13:10:15.552Z"
   },
   {
    "duration": 32,
    "start_time": "2023-06-09T13:10:15.608Z"
   },
   {
    "duration": 722,
    "start_time": "2023-06-09T13:14:13.600Z"
   },
   {
    "duration": 759,
    "start_time": "2023-06-09T13:14:14.324Z"
   },
   {
    "duration": 11,
    "start_time": "2023-06-09T13:14:15.085Z"
   },
   {
    "duration": 107,
    "start_time": "2023-06-09T13:14:15.097Z"
   },
   {
    "duration": 106,
    "start_time": "2023-06-09T13:14:15.205Z"
   },
   {
    "duration": 11,
    "start_time": "2023-06-09T13:14:15.312Z"
   },
   {
    "duration": 256,
    "start_time": "2023-06-09T13:14:15.325Z"
   },
   {
    "duration": 12,
    "start_time": "2023-06-09T13:14:15.582Z"
   },
   {
    "duration": 118,
    "start_time": "2023-06-09T13:14:15.595Z"
   },
   {
    "duration": 59,
    "start_time": "2023-06-09T13:14:15.715Z"
   },
   {
    "duration": 50,
    "start_time": "2023-06-09T13:14:15.775Z"
   },
   {
    "duration": 31,
    "start_time": "2023-06-09T13:14:15.827Z"
   },
   {
    "duration": 591,
    "start_time": "2023-06-09T13:17:39.269Z"
   },
   {
    "duration": 724,
    "start_time": "2023-06-09T13:17:39.862Z"
   },
   {
    "duration": 11,
    "start_time": "2023-06-09T13:17:40.588Z"
   },
   {
    "duration": 93,
    "start_time": "2023-06-09T13:17:40.601Z"
   },
   {
    "duration": 110,
    "start_time": "2023-06-09T13:17:40.695Z"
   },
   {
    "duration": 10,
    "start_time": "2023-06-09T13:17:40.807Z"
   },
   {
    "duration": 285,
    "start_time": "2023-06-09T13:17:40.819Z"
   },
   {
    "duration": 12,
    "start_time": "2023-06-09T13:17:41.106Z"
   },
   {
    "duration": 102,
    "start_time": "2023-06-09T13:17:41.120Z"
   },
   {
    "duration": 65,
    "start_time": "2023-06-09T13:17:41.224Z"
   },
   {
    "duration": 45,
    "start_time": "2023-06-09T13:17:41.290Z"
   },
   {
    "duration": 33,
    "start_time": "2023-06-09T13:17:41.336Z"
   },
   {
    "duration": 34,
    "start_time": "2023-06-09T13:17:41.370Z"
   },
   {
    "duration": 1216,
    "start_time": "2023-06-09T13:55:47.207Z"
   },
   {
    "duration": 615,
    "start_time": "2023-06-09T13:55:57.179Z"
   },
   {
    "duration": 784,
    "start_time": "2023-06-09T13:55:57.796Z"
   },
   {
    "duration": 12,
    "start_time": "2023-06-09T13:55:58.582Z"
   },
   {
    "duration": 103,
    "start_time": "2023-06-09T13:55:58.596Z"
   },
   {
    "duration": 435,
    "start_time": "2023-06-09T13:55:58.701Z"
   },
   {
    "duration": 74,
    "start_time": "2023-06-09T13:55:59.137Z"
   },
   {
    "duration": 12,
    "start_time": "2023-06-09T13:55:59.213Z"
   },
   {
    "duration": 14,
    "start_time": "2023-06-09T13:55:59.227Z"
   },
   {
    "duration": 95,
    "start_time": "2023-06-09T13:55:59.242Z"
   },
   {
    "duration": 46,
    "start_time": "2023-06-09T13:55:59.339Z"
   },
   {
    "duration": 57,
    "start_time": "2023-06-09T13:55:59.386Z"
   },
   {
    "duration": 42,
    "start_time": "2023-06-09T13:55:59.444Z"
   },
   {
    "duration": 54,
    "start_time": "2023-06-09T13:56:11.967Z"
   },
   {
    "duration": 2655,
    "start_time": "2023-06-09T14:04:26.791Z"
   },
   {
    "duration": 615,
    "start_time": "2023-06-09T14:04:40.822Z"
   },
   {
    "duration": 715,
    "start_time": "2023-06-09T14:04:41.438Z"
   },
   {
    "duration": 12,
    "start_time": "2023-06-09T14:04:42.155Z"
   },
   {
    "duration": 420,
    "start_time": "2023-06-09T14:04:42.168Z"
   },
   {
    "duration": 133,
    "start_time": "2023-06-09T14:04:42.590Z"
   },
   {
    "duration": 71,
    "start_time": "2023-06-09T14:04:42.725Z"
   },
   {
    "duration": 12,
    "start_time": "2023-06-09T14:04:42.797Z"
   },
   {
    "duration": 21,
    "start_time": "2023-06-09T14:04:42.810Z"
   },
   {
    "duration": 85,
    "start_time": "2023-06-09T14:04:42.833Z"
   },
   {
    "duration": 34,
    "start_time": "2023-06-09T14:04:42.920Z"
   },
   {
    "duration": 63,
    "start_time": "2023-06-09T14:04:42.956Z"
   },
   {
    "duration": 27,
    "start_time": "2023-06-09T14:04:43.020Z"
   },
   {
    "duration": 628,
    "start_time": "2023-06-09T14:19:02.858Z"
   },
   {
    "duration": 704,
    "start_time": "2023-06-09T14:19:03.488Z"
   },
   {
    "duration": 11,
    "start_time": "2023-06-09T14:19:04.193Z"
   },
   {
    "duration": 433,
    "start_time": "2023-06-09T14:19:04.206Z"
   },
   {
    "duration": 123,
    "start_time": "2023-06-09T14:19:04.641Z"
   },
   {
    "duration": 69,
    "start_time": "2023-06-09T14:19:04.766Z"
   },
   {
    "duration": 11,
    "start_time": "2023-06-09T14:19:04.837Z"
   },
   {
    "duration": 15,
    "start_time": "2023-06-09T14:19:04.849Z"
   },
   {
    "duration": 76,
    "start_time": "2023-06-09T14:19:04.866Z"
   },
   {
    "duration": 40,
    "start_time": "2023-06-09T14:19:04.944Z"
   },
   {
    "duration": 52,
    "start_time": "2023-06-09T14:19:04.986Z"
   },
   {
    "duration": 25,
    "start_time": "2023-06-09T14:19:05.039Z"
   },
   {
    "duration": 31,
    "start_time": "2023-06-09T14:20:08.162Z"
   },
   {
    "duration": 597,
    "start_time": "2023-06-09T14:20:19.854Z"
   },
   {
    "duration": 714,
    "start_time": "2023-06-09T14:20:20.453Z"
   },
   {
    "duration": 17,
    "start_time": "2023-06-09T14:20:21.168Z"
   },
   {
    "duration": 108,
    "start_time": "2023-06-09T14:20:21.186Z"
   },
   {
    "duration": 428,
    "start_time": "2023-06-09T14:20:21.296Z"
   },
   {
    "duration": 128,
    "start_time": "2023-06-09T14:20:21.725Z"
   },
   {
    "duration": 78,
    "start_time": "2023-06-09T14:20:21.854Z"
   },
   {
    "duration": 12,
    "start_time": "2023-06-09T14:20:21.934Z"
   },
   {
    "duration": 16,
    "start_time": "2023-06-09T14:20:21.948Z"
   },
   {
    "duration": 98,
    "start_time": "2023-06-09T14:20:21.966Z"
   },
   {
    "duration": 46,
    "start_time": "2023-06-09T14:20:22.065Z"
   },
   {
    "duration": 53,
    "start_time": "2023-06-09T14:20:22.112Z"
   },
   {
    "duration": 42,
    "start_time": "2023-06-09T14:20:22.167Z"
   },
   {
    "duration": 35,
    "start_time": "2023-06-09T14:27:42.672Z"
   },
   {
    "duration": 127,
    "start_time": "2023-06-09T14:28:04.184Z"
   },
   {
    "duration": 553,
    "start_time": "2023-06-09T14:28:46.324Z"
   },
   {
    "duration": 701,
    "start_time": "2023-06-09T14:28:46.879Z"
   },
   {
    "duration": 11,
    "start_time": "2023-06-09T14:28:47.582Z"
   },
   {
    "duration": 106,
    "start_time": "2023-06-09T14:28:47.595Z"
   },
   {
    "duration": 421,
    "start_time": "2023-06-09T14:28:47.702Z"
   },
   {
    "duration": 126,
    "start_time": "2023-06-09T14:28:48.124Z"
   },
   {
    "duration": 109,
    "start_time": "2023-06-09T14:28:48.251Z"
   },
   {
    "duration": 46,
    "start_time": "2023-06-09T14:29:49.653Z"
   },
   {
    "duration": 24,
    "start_time": "2023-06-09T14:30:58.862Z"
   },
   {
    "duration": 607,
    "start_time": "2023-06-09T14:31:05.589Z"
   },
   {
    "duration": 712,
    "start_time": "2023-06-09T14:31:06.198Z"
   },
   {
    "duration": 12,
    "start_time": "2023-06-09T14:31:06.911Z"
   },
   {
    "duration": 109,
    "start_time": "2023-06-09T14:31:06.924Z"
   },
   {
    "duration": 428,
    "start_time": "2023-06-09T14:31:07.034Z"
   },
   {
    "duration": 134,
    "start_time": "2023-06-09T14:31:07.464Z"
   },
   {
    "duration": 71,
    "start_time": "2023-06-09T14:31:07.599Z"
   },
   {
    "duration": 549,
    "start_time": "2023-06-09T14:31:37.523Z"
   },
   {
    "duration": 692,
    "start_time": "2023-06-09T14:31:38.074Z"
   },
   {
    "duration": 11,
    "start_time": "2023-06-09T14:31:38.767Z"
   },
   {
    "duration": 108,
    "start_time": "2023-06-09T14:31:38.785Z"
   },
   {
    "duration": 409,
    "start_time": "2023-06-09T14:31:38.895Z"
   },
   {
    "duration": 132,
    "start_time": "2023-06-09T14:31:39.305Z"
   },
   {
    "duration": 61,
    "start_time": "2023-06-09T14:31:39.439Z"
   },
   {
    "duration": 71,
    "start_time": "2023-06-09T14:33:44.239Z"
   },
   {
    "duration": 86,
    "start_time": "2023-06-09T14:37:04.920Z"
   },
   {
    "duration": 592,
    "start_time": "2023-06-09T14:37:08.969Z"
   },
   {
    "duration": 698,
    "start_time": "2023-06-09T14:37:09.562Z"
   },
   {
    "duration": 11,
    "start_time": "2023-06-09T14:37:10.261Z"
   },
   {
    "duration": 111,
    "start_time": "2023-06-09T14:37:10.284Z"
   },
   {
    "duration": 420,
    "start_time": "2023-06-09T14:37:10.396Z"
   },
   {
    "duration": 122,
    "start_time": "2023-06-09T14:37:10.818Z"
   },
   {
    "duration": 59,
    "start_time": "2023-06-09T14:37:10.941Z"
   },
   {
    "duration": 63,
    "start_time": "2023-06-09T14:37:11.002Z"
   },
   {
    "duration": 87,
    "start_time": "2023-06-09T14:38:20.317Z"
   },
   {
    "duration": 557,
    "start_time": "2023-06-09T14:38:24.449Z"
   },
   {
    "duration": 685,
    "start_time": "2023-06-09T14:38:25.008Z"
   },
   {
    "duration": 11,
    "start_time": "2023-06-09T14:38:25.694Z"
   },
   {
    "duration": 107,
    "start_time": "2023-06-09T14:38:25.707Z"
   },
   {
    "duration": 452,
    "start_time": "2023-06-09T14:38:25.816Z"
   },
   {
    "duration": 130,
    "start_time": "2023-06-09T14:38:26.269Z"
   },
   {
    "duration": 45,
    "start_time": "2023-06-09T14:38:26.402Z"
   },
   {
    "duration": 64,
    "start_time": "2023-06-09T14:38:26.449Z"
   },
   {
    "duration": 28,
    "start_time": "2023-06-09T14:38:47.414Z"
   },
   {
    "duration": 32,
    "start_time": "2023-06-09T14:39:07.061Z"
   },
   {
    "duration": 26,
    "start_time": "2023-06-09T14:39:15.297Z"
   },
   {
    "duration": 582,
    "start_time": "2023-06-09T14:41:04.197Z"
   },
   {
    "duration": 697,
    "start_time": "2023-06-09T14:41:04.781Z"
   },
   {
    "duration": 13,
    "start_time": "2023-06-09T14:41:05.479Z"
   },
   {
    "duration": 108,
    "start_time": "2023-06-09T14:41:05.494Z"
   },
   {
    "duration": 425,
    "start_time": "2023-06-09T14:41:05.604Z"
   },
   {
    "duration": 148,
    "start_time": "2023-06-09T14:41:06.031Z"
   },
   {
    "duration": 45,
    "start_time": "2023-06-09T14:41:06.181Z"
   },
   {
    "duration": 59,
    "start_time": "2023-06-09T14:41:06.228Z"
   },
   {
    "duration": 27,
    "start_time": "2023-06-09T14:41:06.288Z"
   },
   {
    "duration": 9,
    "start_time": "2023-06-09T14:41:06.317Z"
   },
   {
    "duration": 4,
    "start_time": "2023-06-09T14:41:06.327Z"
   },
   {
    "duration": 12,
    "start_time": "2023-06-09T14:41:21.493Z"
   },
   {
    "duration": 582,
    "start_time": "2023-06-09T14:41:26.278Z"
   },
   {
    "duration": 767,
    "start_time": "2023-06-09T14:41:26.862Z"
   },
   {
    "duration": 12,
    "start_time": "2023-06-09T14:41:27.631Z"
   },
   {
    "duration": 121,
    "start_time": "2023-06-09T14:41:27.645Z"
   },
   {
    "duration": 459,
    "start_time": "2023-06-09T14:41:27.768Z"
   },
   {
    "duration": 143,
    "start_time": "2023-06-09T14:41:28.229Z"
   },
   {
    "duration": 52,
    "start_time": "2023-06-09T14:41:28.374Z"
   },
   {
    "duration": 63,
    "start_time": "2023-06-09T14:41:28.428Z"
   },
   {
    "duration": 31,
    "start_time": "2023-06-09T14:41:28.492Z"
   },
   {
    "duration": 10,
    "start_time": "2023-06-09T14:41:28.526Z"
   },
   {
    "duration": 12,
    "start_time": "2023-06-09T14:41:28.538Z"
   },
   {
    "duration": 6,
    "start_time": "2023-06-09T14:49:36.488Z"
   },
   {
    "duration": 6,
    "start_time": "2023-06-09T14:49:36.664Z"
   },
   {
    "duration": 4,
    "start_time": "2023-06-09T14:49:54.656Z"
   },
   {
    "duration": 6,
    "start_time": "2023-06-09T14:49:55.312Z"
   },
   {
    "duration": 666,
    "start_time": "2023-06-09T14:49:59.175Z"
   },
   {
    "duration": 712,
    "start_time": "2023-06-09T14:49:59.843Z"
   },
   {
    "duration": 11,
    "start_time": "2023-06-09T14:50:00.556Z"
   },
   {
    "duration": 215,
    "start_time": "2023-06-09T14:50:00.568Z"
   },
   {
    "duration": 440,
    "start_time": "2023-06-09T14:50:00.784Z"
   },
   {
    "duration": 126,
    "start_time": "2023-06-09T14:50:01.225Z"
   },
   {
    "duration": 53,
    "start_time": "2023-06-09T14:50:01.353Z"
   },
   {
    "duration": 51,
    "start_time": "2023-06-09T14:50:01.407Z"
   },
   {
    "duration": 40,
    "start_time": "2023-06-09T14:50:01.460Z"
   },
   {
    "duration": 72,
    "start_time": "2023-06-09T14:50:01.503Z"
   },
   {
    "duration": 52,
    "start_time": "2023-06-09T14:50:01.576Z"
   },
   {
    "duration": 140,
    "start_time": "2023-06-09T14:50:01.630Z"
   },
   {
    "duration": 11,
    "start_time": "2023-06-09T14:52:20.278Z"
   },
   {
    "duration": 27,
    "start_time": "2023-06-09T14:52:23.366Z"
   },
   {
    "duration": 9,
    "start_time": "2023-06-09T14:52:33.810Z"
   },
   {
    "duration": 5,
    "start_time": "2023-06-09T14:52:34.087Z"
   },
   {
    "duration": 3,
    "start_time": "2023-06-09T14:52:48.735Z"
   },
   {
    "duration": 5,
    "start_time": "2023-06-09T14:52:49.303Z"
   },
   {
    "duration": 580,
    "start_time": "2023-06-09T14:52:58.432Z"
   },
   {
    "duration": 766,
    "start_time": "2023-06-09T14:52:59.014Z"
   },
   {
    "duration": 13,
    "start_time": "2023-06-09T14:52:59.781Z"
   },
   {
    "duration": 126,
    "start_time": "2023-06-09T14:52:59.796Z"
   },
   {
    "duration": 442,
    "start_time": "2023-06-09T14:52:59.923Z"
   },
   {
    "duration": 137,
    "start_time": "2023-06-09T14:53:00.367Z"
   },
   {
    "duration": 43,
    "start_time": "2023-06-09T14:53:00.506Z"
   },
   {
    "duration": 63,
    "start_time": "2023-06-09T14:53:00.551Z"
   },
   {
    "duration": 27,
    "start_time": "2023-06-09T14:53:00.615Z"
   },
   {
    "duration": 11,
    "start_time": "2023-06-09T14:53:00.644Z"
   },
   {
    "duration": 18,
    "start_time": "2023-06-09T14:53:00.656Z"
   },
   {
    "duration": 68,
    "start_time": "2023-06-09T14:53:00.685Z"
   },
   {
    "duration": 8,
    "start_time": "2023-06-09T14:53:31.712Z"
   },
   {
    "duration": 12,
    "start_time": "2023-06-09T14:53:32.625Z"
   },
   {
    "duration": 6,
    "start_time": "2023-06-09T14:53:43.489Z"
   },
   {
    "duration": 11,
    "start_time": "2023-06-09T14:53:43.901Z"
   },
   {
    "duration": 20,
    "start_time": "2023-06-09T14:53:54.849Z"
   },
   {
    "duration": 7,
    "start_time": "2023-06-09T14:54:26.909Z"
   },
   {
    "duration": 12,
    "start_time": "2023-06-09T14:54:30.561Z"
   },
   {
    "duration": 7,
    "start_time": "2023-06-09T14:54:34.057Z"
   },
   {
    "duration": 532,
    "start_time": "2023-06-09T14:54:37.328Z"
   },
   {
    "duration": 693,
    "start_time": "2023-06-09T14:54:37.861Z"
   },
   {
    "duration": 11,
    "start_time": "2023-06-09T14:54:38.556Z"
   },
   {
    "duration": 127,
    "start_time": "2023-06-09T14:54:38.569Z"
   },
   {
    "duration": 415,
    "start_time": "2023-06-09T14:54:38.697Z"
   },
   {
    "duration": 127,
    "start_time": "2023-06-09T14:54:39.113Z"
   },
   {
    "duration": 47,
    "start_time": "2023-06-09T14:54:39.241Z"
   },
   {
    "duration": 48,
    "start_time": "2023-06-09T14:54:39.290Z"
   },
   {
    "duration": 27,
    "start_time": "2023-06-09T14:54:39.339Z"
   },
   {
    "duration": 7,
    "start_time": "2023-06-09T14:54:39.385Z"
   },
   {
    "duration": 45,
    "start_time": "2023-06-09T14:54:39.393Z"
   },
   {
    "duration": 74,
    "start_time": "2023-06-09T14:54:56.437Z"
   },
   {
    "duration": 12,
    "start_time": "2023-06-09T14:55:00.532Z"
   },
   {
    "duration": 25,
    "start_time": "2023-06-09T14:55:12.108Z"
   },
   {
    "duration": 27,
    "start_time": "2023-06-09T14:55:33.552Z"
   },
   {
    "duration": 24,
    "start_time": "2023-06-09T14:58:42.657Z"
   },
   {
    "duration": 544,
    "start_time": "2023-06-09T14:58:46.720Z"
   },
   {
    "duration": 713,
    "start_time": "2023-06-09T14:58:47.265Z"
   },
   {
    "duration": 12,
    "start_time": "2023-06-09T14:58:47.984Z"
   },
   {
    "duration": 106,
    "start_time": "2023-06-09T14:58:47.998Z"
   },
   {
    "duration": 416,
    "start_time": "2023-06-09T14:58:48.106Z"
   },
   {
    "duration": 127,
    "start_time": "2023-06-09T14:58:48.523Z"
   },
   {
    "duration": 48,
    "start_time": "2023-06-09T14:58:48.652Z"
   },
   {
    "duration": 47,
    "start_time": "2023-06-09T14:58:48.701Z"
   },
   {
    "duration": 36,
    "start_time": "2023-06-09T14:58:48.750Z"
   },
   {
    "duration": 23,
    "start_time": "2023-06-09T14:58:48.788Z"
   },
   {
    "duration": 26,
    "start_time": "2023-06-09T14:58:48.813Z"
   },
   {
    "duration": 568,
    "start_time": "2023-06-09T15:02:36.293Z"
   },
   {
    "duration": 727,
    "start_time": "2023-06-09T15:02:36.862Z"
   },
   {
    "duration": 18,
    "start_time": "2023-06-09T15:02:37.591Z"
   },
   {
    "duration": 168,
    "start_time": "2023-06-09T15:02:37.611Z"
   },
   {
    "duration": 423,
    "start_time": "2023-06-09T15:02:37.780Z"
   },
   {
    "duration": 136,
    "start_time": "2023-06-09T15:02:38.204Z"
   },
   {
    "duration": 52,
    "start_time": "2023-06-09T15:02:38.342Z"
   },
   {
    "duration": 48,
    "start_time": "2023-06-09T15:02:38.396Z"
   },
   {
    "duration": 40,
    "start_time": "2023-06-09T15:02:38.445Z"
   },
   {
    "duration": 70,
    "start_time": "2023-06-09T15:07:38.517Z"
   },
   {
    "duration": 653,
    "start_time": "2023-06-09T15:07:43.133Z"
   },
   {
    "duration": 74,
    "start_time": "2023-06-09T15:08:03.109Z"
   },
   {
    "duration": 621,
    "start_time": "2023-06-09T15:10:57.561Z"
   },
   {
    "duration": 761,
    "start_time": "2023-06-09T15:10:58.183Z"
   },
   {
    "duration": 13,
    "start_time": "2023-06-09T15:10:58.945Z"
   },
   {
    "duration": 122,
    "start_time": "2023-06-09T15:10:58.961Z"
   },
   {
    "duration": 99,
    "start_time": "2023-06-09T15:10:59.085Z"
   },
   {
    "duration": 78,
    "start_time": "2023-06-09T15:10:59.186Z"
   },
   {
    "duration": 69,
    "start_time": "2023-06-09T15:11:32.996Z"
   },
   {
    "duration": 30,
    "start_time": "2023-06-09T15:11:37.249Z"
   },
   {
    "duration": 30,
    "start_time": "2023-06-09T15:11:47.876Z"
   },
   {
    "duration": 531,
    "start_time": "2023-06-09T15:12:07.947Z"
   },
   {
    "duration": 678,
    "start_time": "2023-06-09T15:12:08.480Z"
   },
   {
    "duration": 11,
    "start_time": "2023-06-09T15:12:09.160Z"
   },
   {
    "duration": 114,
    "start_time": "2023-06-09T15:12:09.173Z"
   },
   {
    "duration": 80,
    "start_time": "2023-06-09T15:12:09.289Z"
   },
   {
    "duration": 82,
    "start_time": "2023-06-09T15:12:09.371Z"
   },
   {
    "duration": 25,
    "start_time": "2023-06-09T15:13:09.719Z"
   },
   {
    "duration": 546,
    "start_time": "2023-06-09T15:15:14.731Z"
   },
   {
    "duration": 717,
    "start_time": "2023-06-09T15:15:15.279Z"
   },
   {
    "duration": 14,
    "start_time": "2023-06-09T15:15:15.997Z"
   },
   {
    "duration": 139,
    "start_time": "2023-06-09T15:15:16.014Z"
   },
   {
    "duration": 91,
    "start_time": "2023-06-09T15:15:16.154Z"
   },
   {
    "duration": 79,
    "start_time": "2023-06-09T15:15:16.246Z"
   },
   {
    "duration": 32,
    "start_time": "2023-06-09T15:15:16.326Z"
   },
   {
    "duration": 27,
    "start_time": "2023-06-09T15:15:16.360Z"
   },
   {
    "duration": 30,
    "start_time": "2023-06-09T15:15:16.388Z"
   },
   {
    "duration": 23,
    "start_time": "2023-06-09T15:16:12.620Z"
   },
   {
    "duration": 15,
    "start_time": "2023-06-09T15:16:12.944Z"
   },
   {
    "duration": 24,
    "start_time": "2023-06-09T15:16:13.112Z"
   },
   {
    "duration": 26,
    "start_time": "2023-06-09T15:16:28.048Z"
   },
   {
    "duration": 16,
    "start_time": "2023-06-09T15:16:28.385Z"
   },
   {
    "duration": 27,
    "start_time": "2023-06-09T15:16:28.519Z"
   },
   {
    "duration": 522,
    "start_time": "2023-06-09T15:16:42.044Z"
   },
   {
    "duration": 703,
    "start_time": "2023-06-09T15:16:42.568Z"
   },
   {
    "duration": 13,
    "start_time": "2023-06-09T15:16:43.272Z"
   },
   {
    "duration": 111,
    "start_time": "2023-06-09T15:16:43.287Z"
   },
   {
    "duration": 86,
    "start_time": "2023-06-09T15:16:43.400Z"
   },
   {
    "duration": 75,
    "start_time": "2023-06-09T15:16:43.488Z"
   },
   {
    "duration": 39,
    "start_time": "2023-06-09T15:16:43.564Z"
   },
   {
    "duration": 29,
    "start_time": "2023-06-09T15:16:43.605Z"
   },
   {
    "duration": 26,
    "start_time": "2023-06-09T15:16:43.636Z"
   },
   {
    "duration": 2,
    "start_time": "2023-06-09T15:59:09.157Z"
   },
   {
    "duration": 26,
    "start_time": "2023-06-09T15:59:09.329Z"
   },
   {
    "duration": 10,
    "start_time": "2023-06-09T15:59:34.136Z"
   },
   {
    "duration": 25,
    "start_time": "2023-06-09T15:59:34.649Z"
   },
   {
    "duration": 2,
    "start_time": "2023-06-09T15:59:45.717Z"
   },
   {
    "duration": 26,
    "start_time": "2023-06-09T15:59:45.905Z"
   },
   {
    "duration": 592,
    "start_time": "2023-06-09T15:59:49.680Z"
   },
   {
    "duration": 705,
    "start_time": "2023-06-09T15:59:50.273Z"
   },
   {
    "duration": 13,
    "start_time": "2023-06-09T15:59:50.979Z"
   },
   {
    "duration": 109,
    "start_time": "2023-06-09T15:59:50.994Z"
   },
   {
    "duration": 87,
    "start_time": "2023-06-09T15:59:51.105Z"
   },
   {
    "duration": 66,
    "start_time": "2023-06-09T15:59:51.194Z"
   },
   {
    "duration": 2,
    "start_time": "2023-06-09T15:59:51.262Z"
   },
   {
    "duration": 53,
    "start_time": "2023-06-09T15:59:51.265Z"
   },
   {
    "duration": 23,
    "start_time": "2023-06-09T15:59:51.319Z"
   },
   {
    "duration": 25,
    "start_time": "2023-06-09T15:59:51.345Z"
   },
   {
    "duration": 9,
    "start_time": "2023-06-09T15:59:59.037Z"
   },
   {
    "duration": 26,
    "start_time": "2023-06-09T16:00:00.292Z"
   },
   {
    "duration": 15,
    "start_time": "2023-06-09T16:00:16.268Z"
   },
   {
    "duration": 24,
    "start_time": "2023-06-09T16:00:16.489Z"
   },
   {
    "duration": 16,
    "start_time": "2023-06-09T16:00:23.832Z"
   },
   {
    "duration": 25,
    "start_time": "2023-06-09T16:00:24.033Z"
   },
   {
    "duration": 19,
    "start_time": "2023-06-09T16:00:37.965Z"
   },
   {
    "duration": 24,
    "start_time": "2023-06-09T16:00:38.113Z"
   },
   {
    "duration": 23,
    "start_time": "2023-06-09T16:00:48.340Z"
   },
   {
    "duration": 37,
    "start_time": "2023-06-09T16:00:48.877Z"
   },
   {
    "duration": 2,
    "start_time": "2023-06-09T16:01:03.928Z"
   },
   {
    "duration": 32,
    "start_time": "2023-06-09T16:01:04.165Z"
   },
   {
    "duration": 30,
    "start_time": "2023-06-09T16:01:06.157Z"
   },
   {
    "duration": 28,
    "start_time": "2023-06-09T16:01:06.332Z"
   },
   {
    "duration": 686,
    "start_time": "2023-06-09T16:01:09.564Z"
   },
   {
    "duration": 708,
    "start_time": "2023-06-09T16:01:10.252Z"
   },
   {
    "duration": 12,
    "start_time": "2023-06-09T16:01:10.961Z"
   },
   {
    "duration": 115,
    "start_time": "2023-06-09T16:01:10.984Z"
   },
   {
    "duration": 90,
    "start_time": "2023-06-09T16:01:11.101Z"
   },
   {
    "duration": 69,
    "start_time": "2023-06-09T16:01:11.194Z"
   },
   {
    "duration": 2,
    "start_time": "2023-06-09T16:01:11.264Z"
   },
   {
    "duration": 40,
    "start_time": "2023-06-09T16:01:11.267Z"
   },
   {
    "duration": 24,
    "start_time": "2023-06-09T16:01:11.309Z"
   },
   {
    "duration": 33,
    "start_time": "2023-06-09T16:01:11.335Z"
   },
   {
    "duration": 655,
    "start_time": "2023-06-09T16:01:23.990Z"
   },
   {
    "duration": 774,
    "start_time": "2023-06-09T16:01:24.647Z"
   },
   {
    "duration": 12,
    "start_time": "2023-06-09T16:01:25.422Z"
   },
   {
    "duration": 132,
    "start_time": "2023-06-09T16:01:25.435Z"
   },
   {
    "duration": 96,
    "start_time": "2023-06-09T16:01:25.568Z"
   },
   {
    "duration": 92,
    "start_time": "2023-06-09T16:01:25.665Z"
   },
   {
    "duration": 9,
    "start_time": "2023-06-09T16:01:25.758Z"
   },
   {
    "duration": 49,
    "start_time": "2023-06-09T16:01:25.768Z"
   },
   {
    "duration": 26,
    "start_time": "2023-06-09T16:01:25.818Z"
   },
   {
    "duration": 25,
    "start_time": "2023-06-09T16:01:25.846Z"
   },
   {
    "duration": 9,
    "start_time": "2023-06-09T16:01:45.630Z"
   },
   {
    "duration": 9,
    "start_time": "2023-06-09T16:01:46.762Z"
   },
   {
    "duration": 27,
    "start_time": "2023-06-09T16:01:56.514Z"
   },
   {
    "duration": 620,
    "start_time": "2023-06-09T16:01:59.623Z"
   },
   {
    "duration": 694,
    "start_time": "2023-06-09T16:02:00.245Z"
   },
   {
    "duration": 13,
    "start_time": "2023-06-09T16:02:00.941Z"
   },
   {
    "duration": 142,
    "start_time": "2023-06-09T16:02:00.956Z"
   },
   {
    "duration": 86,
    "start_time": "2023-06-09T16:02:01.100Z"
   },
   {
    "duration": 69,
    "start_time": "2023-06-09T16:02:01.187Z"
   },
   {
    "duration": 37,
    "start_time": "2023-06-09T16:02:01.257Z"
   },
   {
    "duration": 74,
    "start_time": "2023-06-09T16:02:01.295Z"
   },
   {
    "duration": 38,
    "start_time": "2023-06-09T16:02:01.371Z"
   },
   {
    "duration": 31,
    "start_time": "2023-06-09T16:04:18.839Z"
   },
   {
    "duration": 25,
    "start_time": "2023-06-09T16:04:19.019Z"
   },
   {
    "duration": 750,
    "start_time": "2023-06-09T16:04:23.761Z"
   },
   {
    "duration": 723,
    "start_time": "2023-06-09T16:04:24.512Z"
   },
   {
    "duration": 12,
    "start_time": "2023-06-09T16:04:25.236Z"
   },
   {
    "duration": 126,
    "start_time": "2023-06-09T16:04:25.250Z"
   },
   {
    "duration": 105,
    "start_time": "2023-06-09T16:04:25.377Z"
   },
   {
    "duration": 78,
    "start_time": "2023-06-09T16:04:25.483Z"
   },
   {
    "duration": 42,
    "start_time": "2023-06-09T16:04:25.562Z"
   },
   {
    "duration": 34,
    "start_time": "2023-06-09T16:04:25.606Z"
   },
   {
    "duration": 27,
    "start_time": "2023-06-09T16:04:25.642Z"
   },
   {
    "duration": 24,
    "start_time": "2023-06-09T16:05:57.340Z"
   },
   {
    "duration": 28,
    "start_time": "2023-06-09T16:06:08.757Z"
   },
   {
    "duration": 817,
    "start_time": "2023-06-09T16:06:48.065Z"
   },
   {
    "duration": 718,
    "start_time": "2023-06-09T16:06:48.884Z"
   },
   {
    "duration": 12,
    "start_time": "2023-06-09T16:06:49.604Z"
   },
   {
    "duration": 111,
    "start_time": "2023-06-09T16:06:49.617Z"
   },
   {
    "duration": 90,
    "start_time": "2023-06-09T16:06:49.730Z"
   },
   {
    "duration": 88,
    "start_time": "2023-06-09T16:06:49.822Z"
   },
   {
    "duration": 27,
    "start_time": "2023-06-09T16:06:49.912Z"
   },
   {
    "duration": 10,
    "start_time": "2023-06-09T16:06:49.941Z"
   },
   {
    "duration": 46,
    "start_time": "2023-06-09T16:06:49.952Z"
   },
   {
    "duration": 13,
    "start_time": "2023-06-09T16:06:50.000Z"
   },
   {
    "duration": 29,
    "start_time": "2023-06-09T16:22:51.419Z"
   },
   {
    "duration": 636,
    "start_time": "2023-06-09T16:22:55.776Z"
   },
   {
    "duration": 754,
    "start_time": "2023-06-09T16:22:56.414Z"
   },
   {
    "duration": 16,
    "start_time": "2023-06-09T16:22:57.170Z"
   },
   {
    "duration": 119,
    "start_time": "2023-06-09T16:22:57.188Z"
   },
   {
    "duration": 97,
    "start_time": "2023-06-09T16:22:57.309Z"
   },
   {
    "duration": 82,
    "start_time": "2023-06-09T16:22:57.408Z"
   },
   {
    "duration": 28,
    "start_time": "2023-06-09T16:22:57.492Z"
   },
   {
    "duration": 9,
    "start_time": "2023-06-09T16:22:57.522Z"
   },
   {
    "duration": 30,
    "start_time": "2023-06-09T16:22:57.532Z"
   },
   {
    "duration": 2,
    "start_time": "2023-06-09T16:22:57.586Z"
   },
   {
    "duration": 93,
    "start_time": "2023-06-09T16:23:50.351Z"
   },
   {
    "duration": 703,
    "start_time": "2023-06-09T16:24:02.479Z"
   },
   {
    "duration": 748,
    "start_time": "2023-06-09T16:24:03.183Z"
   },
   {
    "duration": 11,
    "start_time": "2023-06-09T16:24:03.932Z"
   },
   {
    "duration": 122,
    "start_time": "2023-06-09T16:24:03.945Z"
   },
   {
    "duration": 91,
    "start_time": "2023-06-09T16:24:04.069Z"
   },
   {
    "duration": 95,
    "start_time": "2023-06-09T16:24:04.162Z"
   },
   {
    "duration": 33,
    "start_time": "2023-06-09T16:24:04.258Z"
   },
   {
    "duration": 16,
    "start_time": "2023-06-09T16:24:04.292Z"
   },
   {
    "duration": 33,
    "start_time": "2023-06-09T16:24:04.310Z"
   },
   {
    "duration": 1215,
    "start_time": "2023-06-09T16:24:04.344Z"
   },
   {
    "duration": 13,
    "start_time": "2023-06-09T16:24:47.075Z"
   },
   {
    "duration": 650,
    "start_time": "2023-06-09T16:24:52.663Z"
   },
   {
    "duration": 791,
    "start_time": "2023-06-09T16:24:53.316Z"
   },
   {
    "duration": 13,
    "start_time": "2023-06-09T16:24:54.109Z"
   },
   {
    "duration": 140,
    "start_time": "2023-06-09T16:24:54.124Z"
   },
   {
    "duration": 94,
    "start_time": "2023-06-09T16:24:54.266Z"
   },
   {
    "duration": 98,
    "start_time": "2023-06-09T16:24:54.363Z"
   },
   {
    "duration": 30,
    "start_time": "2023-06-09T16:24:54.463Z"
   },
   {
    "duration": 10,
    "start_time": "2023-06-09T16:24:54.495Z"
   },
   {
    "duration": 37,
    "start_time": "2023-06-09T16:24:54.507Z"
   },
   {
    "duration": 111,
    "start_time": "2023-06-09T16:24:54.546Z"
   },
   {
    "duration": 13,
    "start_time": "2023-06-09T16:26:54.575Z"
   },
   {
    "duration": 579,
    "start_time": "2023-06-09T16:27:00.194Z"
   },
   {
    "duration": 690,
    "start_time": "2023-06-09T16:27:00.774Z"
   },
   {
    "duration": 12,
    "start_time": "2023-06-09T16:27:01.466Z"
   },
   {
    "duration": 139,
    "start_time": "2023-06-09T16:27:01.485Z"
   },
   {
    "duration": 94,
    "start_time": "2023-06-09T16:27:01.625Z"
   },
   {
    "duration": 88,
    "start_time": "2023-06-09T16:27:01.721Z"
   },
   {
    "duration": 26,
    "start_time": "2023-06-09T16:27:01.810Z"
   },
   {
    "duration": 51,
    "start_time": "2023-06-09T16:27:01.837Z"
   },
   {
    "duration": 52,
    "start_time": "2023-06-09T16:27:01.889Z"
   },
   {
    "duration": 83,
    "start_time": "2023-06-09T16:27:01.943Z"
   },
   {
    "duration": 14,
    "start_time": "2023-06-09T16:27:34.555Z"
   },
   {
    "duration": 594,
    "start_time": "2023-06-09T16:27:46.503Z"
   },
   {
    "duration": 709,
    "start_time": "2023-06-09T16:27:47.099Z"
   },
   {
    "duration": 11,
    "start_time": "2023-06-09T16:27:47.809Z"
   },
   {
    "duration": 123,
    "start_time": "2023-06-09T16:27:47.821Z"
   },
   {
    "duration": 84,
    "start_time": "2023-06-09T16:27:47.945Z"
   },
   {
    "duration": 82,
    "start_time": "2023-06-09T16:27:48.031Z"
   },
   {
    "duration": 28,
    "start_time": "2023-06-09T16:27:48.114Z"
   },
   {
    "duration": 27,
    "start_time": "2023-06-09T16:27:48.143Z"
   },
   {
    "duration": 29,
    "start_time": "2023-06-09T16:27:48.171Z"
   },
   {
    "duration": 89,
    "start_time": "2023-06-09T16:27:48.202Z"
   },
   {
    "duration": 15,
    "start_time": "2023-06-09T16:28:09.947Z"
   },
   {
    "duration": 730,
    "start_time": "2023-06-09T16:28:14.363Z"
   },
   {
    "duration": 719,
    "start_time": "2023-06-09T16:28:15.095Z"
   },
   {
    "duration": 11,
    "start_time": "2023-06-09T16:28:15.815Z"
   },
   {
    "duration": 111,
    "start_time": "2023-06-09T16:28:15.828Z"
   },
   {
    "duration": 88,
    "start_time": "2023-06-09T16:28:15.941Z"
   },
   {
    "duration": 82,
    "start_time": "2023-06-09T16:28:16.031Z"
   },
   {
    "duration": 30,
    "start_time": "2023-06-09T16:28:16.114Z"
   },
   {
    "duration": 8,
    "start_time": "2023-06-09T16:28:16.146Z"
   },
   {
    "duration": 42,
    "start_time": "2023-06-09T16:28:16.155Z"
   },
   {
    "duration": 74,
    "start_time": "2023-06-09T16:28:16.199Z"
   },
   {
    "duration": 590,
    "start_time": "2023-06-09T16:31:17.667Z"
   },
   {
    "duration": 705,
    "start_time": "2023-06-09T16:31:18.259Z"
   },
   {
    "duration": 11,
    "start_time": "2023-06-09T16:31:18.966Z"
   },
   {
    "duration": 110,
    "start_time": "2023-06-09T16:31:18.978Z"
   },
   {
    "duration": 82,
    "start_time": "2023-06-09T16:31:19.090Z"
   },
   {
    "duration": 83,
    "start_time": "2023-06-09T16:31:19.174Z"
   },
   {
    "duration": 32,
    "start_time": "2023-06-09T16:31:19.259Z"
   },
   {
    "duration": 31,
    "start_time": "2023-06-09T16:31:19.292Z"
   },
   {
    "duration": 31,
    "start_time": "2023-06-09T16:31:19.325Z"
   },
   {
    "duration": 76,
    "start_time": "2023-06-09T16:31:19.357Z"
   },
   {
    "duration": 13,
    "start_time": "2023-06-09T16:31:41.366Z"
   },
   {
    "duration": 590,
    "start_time": "2023-06-09T16:31:49.155Z"
   },
   {
    "duration": 732,
    "start_time": "2023-06-09T16:31:49.747Z"
   },
   {
    "duration": 13,
    "start_time": "2023-06-09T16:31:50.480Z"
   },
   {
    "duration": 128,
    "start_time": "2023-06-09T16:31:50.495Z"
   },
   {
    "duration": 101,
    "start_time": "2023-06-09T16:31:50.625Z"
   },
   {
    "duration": 80,
    "start_time": "2023-06-09T16:31:50.727Z"
   },
   {
    "duration": 27,
    "start_time": "2023-06-09T16:31:50.809Z"
   },
   {
    "duration": 9,
    "start_time": "2023-06-09T16:31:50.837Z"
   },
   {
    "duration": 64,
    "start_time": "2023-06-09T16:31:50.848Z"
   },
   {
    "duration": 34,
    "start_time": "2023-06-09T16:31:50.915Z"
   },
   {
    "duration": 76,
    "start_time": "2023-06-09T16:32:10.443Z"
   },
   {
    "duration": 584,
    "start_time": "2023-06-09T16:32:31.010Z"
   },
   {
    "duration": 715,
    "start_time": "2023-06-09T16:32:31.596Z"
   },
   {
    "duration": 11,
    "start_time": "2023-06-09T16:32:32.312Z"
   },
   {
    "duration": 209,
    "start_time": "2023-06-09T16:32:32.324Z"
   },
   {
    "duration": 92,
    "start_time": "2023-06-09T16:32:32.535Z"
   },
   {
    "duration": 74,
    "start_time": "2023-06-09T16:32:32.629Z"
   },
   {
    "duration": 26,
    "start_time": "2023-06-09T16:32:32.704Z"
   },
   {
    "duration": 10,
    "start_time": "2023-06-09T16:32:32.731Z"
   },
   {
    "duration": 30,
    "start_time": "2023-06-09T16:32:32.742Z"
   },
   {
    "duration": 8,
    "start_time": "2023-06-09T16:32:32.784Z"
   },
   {
    "duration": 70,
    "start_time": "2023-06-09T16:32:32.793Z"
   },
   {
    "duration": 623,
    "start_time": "2023-06-09T16:45:50.064Z"
   },
   {
    "duration": 700,
    "start_time": "2023-06-09T16:45:50.690Z"
   },
   {
    "duration": 12,
    "start_time": "2023-06-09T16:45:51.392Z"
   },
   {
    "duration": 139,
    "start_time": "2023-06-09T16:45:51.406Z"
   },
   {
    "duration": 83,
    "start_time": "2023-06-09T16:45:51.546Z"
   },
   {
    "duration": 80,
    "start_time": "2023-06-09T16:45:51.630Z"
   },
   {
    "duration": 27,
    "start_time": "2023-06-09T16:45:51.711Z"
   },
   {
    "duration": 21,
    "start_time": "2023-06-09T16:45:51.739Z"
   },
   {
    "duration": 30,
    "start_time": "2023-06-09T16:45:51.761Z"
   },
   {
    "duration": 90,
    "start_time": "2023-06-09T16:47:48.157Z"
   },
   {
    "duration": 41,
    "start_time": "2023-06-09T16:47:56.210Z"
   },
   {
    "duration": 25,
    "start_time": "2023-06-09T16:48:08.197Z"
   },
   {
    "duration": 740,
    "start_time": "2023-06-09T16:48:11.998Z"
   },
   {
    "duration": 684,
    "start_time": "2023-06-09T16:48:12.740Z"
   },
   {
    "duration": 11,
    "start_time": "2023-06-09T16:48:13.426Z"
   },
   {
    "duration": 112,
    "start_time": "2023-06-09T16:48:13.440Z"
   },
   {
    "duration": 88,
    "start_time": "2023-06-09T16:48:13.553Z"
   },
   {
    "duration": 76,
    "start_time": "2023-06-09T16:48:13.642Z"
   },
   {
    "duration": 27,
    "start_time": "2023-06-09T16:48:13.719Z"
   },
   {
    "duration": 9,
    "start_time": "2023-06-09T16:48:13.747Z"
   },
   {
    "duration": 38,
    "start_time": "2023-06-09T16:48:13.757Z"
   },
   {
    "duration": 35,
    "start_time": "2023-06-09T16:48:13.797Z"
   },
   {
    "duration": 24,
    "start_time": "2023-06-09T16:48:13.834Z"
   },
   {
    "duration": 32,
    "start_time": "2023-06-09T16:48:21.138Z"
   },
   {
    "duration": 25,
    "start_time": "2023-06-09T16:48:22.066Z"
   },
   {
    "duration": 34,
    "start_time": "2023-06-09T16:48:39.790Z"
   },
   {
    "duration": 534,
    "start_time": "2023-06-09T16:48:54.645Z"
   },
   {
    "duration": 765,
    "start_time": "2023-06-09T16:48:55.180Z"
   },
   {
    "duration": 17,
    "start_time": "2023-06-09T16:48:55.947Z"
   },
   {
    "duration": 157,
    "start_time": "2023-06-09T16:48:55.967Z"
   },
   {
    "duration": 114,
    "start_time": "2023-06-09T16:48:56.126Z"
   },
   {
    "duration": 83,
    "start_time": "2023-06-09T16:48:56.241Z"
   },
   {
    "duration": 30,
    "start_time": "2023-06-09T16:48:56.326Z"
   },
   {
    "duration": 12,
    "start_time": "2023-06-09T16:48:56.357Z"
   },
   {
    "duration": 41,
    "start_time": "2023-06-09T16:48:56.370Z"
   },
   {
    "duration": 33,
    "start_time": "2023-06-09T16:48:56.413Z"
   },
   {
    "duration": 49,
    "start_time": "2023-06-09T16:48:56.447Z"
   },
   {
    "duration": 33,
    "start_time": "2023-06-09T17:15:45.110Z"
   },
   {
    "duration": 53,
    "start_time": "2023-06-09T17:16:01.658Z"
   },
   {
    "duration": 1415,
    "start_time": "2023-06-09T18:49:52.852Z"
   },
   {
    "duration": 2402,
    "start_time": "2023-06-09T18:49:54.269Z"
   },
   {
    "duration": 41,
    "start_time": "2023-06-09T18:49:56.673Z"
   },
   {
    "duration": 319,
    "start_time": "2023-06-09T18:49:56.715Z"
   },
   {
    "duration": 149,
    "start_time": "2023-06-09T18:49:57.035Z"
   },
   {
    "duration": 125,
    "start_time": "2023-06-09T18:49:57.186Z"
   },
   {
    "duration": 50,
    "start_time": "2023-06-09T18:49:57.312Z"
   },
   {
    "duration": 77,
    "start_time": "2023-06-09T18:49:57.366Z"
   },
   {
    "duration": 37,
    "start_time": "2023-06-09T18:49:57.444Z"
   },
   {
    "duration": 136,
    "start_time": "2023-06-09T18:49:57.490Z"
   },
   {
    "duration": 49,
    "start_time": "2023-06-09T18:49:57.628Z"
   },
   {
    "duration": 234,
    "start_time": "2023-06-09T18:49:57.679Z"
   },
   {
    "duration": 134,
    "start_time": "2023-06-09T18:51:35.784Z"
   },
   {
    "duration": 2399,
    "start_time": "2023-06-09T18:52:37.215Z"
   },
   {
    "duration": 68,
    "start_time": "2023-06-09T18:53:03.269Z"
   },
   {
    "duration": 1808,
    "start_time": "2023-06-09T18:53:08.971Z"
   },
   {
    "duration": 1391,
    "start_time": "2023-06-09T18:53:10.780Z"
   },
   {
    "duration": 16,
    "start_time": "2023-06-09T18:53:12.173Z"
   },
   {
    "duration": 151,
    "start_time": "2023-06-09T18:53:12.191Z"
   },
   {
    "duration": 90,
    "start_time": "2023-06-09T18:53:12.343Z"
   },
   {
    "duration": 77,
    "start_time": "2023-06-09T18:53:12.435Z"
   },
   {
    "duration": 39,
    "start_time": "2023-06-09T18:53:12.514Z"
   },
   {
    "duration": 9,
    "start_time": "2023-06-09T18:53:12.554Z"
   },
   {
    "duration": 88,
    "start_time": "2023-06-09T18:53:12.564Z"
   },
   {
    "duration": 52,
    "start_time": "2023-06-09T18:53:12.654Z"
   },
   {
    "duration": 64,
    "start_time": "2023-06-09T18:53:12.712Z"
   },
   {
    "duration": 109,
    "start_time": "2023-06-09T18:53:42.404Z"
   },
   {
    "duration": 14,
    "start_time": "2023-06-09T18:56:22.411Z"
   },
   {
    "duration": 1261,
    "start_time": "2023-06-10T14:32:53.773Z"
   },
   {
    "duration": 972,
    "start_time": "2023-06-10T14:32:55.036Z"
   },
   {
    "duration": 10,
    "start_time": "2023-06-10T14:32:56.009Z"
   },
   {
    "duration": 125,
    "start_time": "2023-06-10T14:32:56.022Z"
   },
   {
    "duration": 90,
    "start_time": "2023-06-10T14:32:56.149Z"
   },
   {
    "duration": 76,
    "start_time": "2023-06-10T14:32:56.241Z"
   },
   {
    "duration": 27,
    "start_time": "2023-06-10T14:32:56.319Z"
   },
   {
    "duration": 9,
    "start_time": "2023-06-10T14:32:56.347Z"
   },
   {
    "duration": 30,
    "start_time": "2023-06-10T14:32:56.358Z"
   },
   {
    "duration": 53,
    "start_time": "2023-06-10T14:32:56.389Z"
   },
   {
    "duration": 31,
    "start_time": "2023-06-10T14:32:56.443Z"
   },
   {
    "duration": 42,
    "start_time": "2023-06-10T14:33:26.546Z"
   },
   {
    "duration": 1245,
    "start_time": "2023-06-10T14:33:32.196Z"
   },
   {
    "duration": 909,
    "start_time": "2023-06-10T14:33:33.443Z"
   },
   {
    "duration": 12,
    "start_time": "2023-06-10T14:33:34.354Z"
   },
   {
    "duration": 117,
    "start_time": "2023-06-10T14:33:34.369Z"
   },
   {
    "duration": 83,
    "start_time": "2023-06-10T14:33:34.487Z"
   },
   {
    "duration": 77,
    "start_time": "2023-06-10T14:33:34.571Z"
   },
   {
    "duration": 27,
    "start_time": "2023-06-10T14:33:34.650Z"
   },
   {
    "duration": 37,
    "start_time": "2023-06-10T14:33:34.678Z"
   },
   {
    "duration": 55,
    "start_time": "2023-06-10T14:33:34.717Z"
   },
   {
    "duration": 46,
    "start_time": "2023-06-10T14:33:34.774Z"
   },
   {
    "duration": 29,
    "start_time": "2023-06-10T14:33:34.822Z"
   },
   {
    "duration": 12,
    "start_time": "2023-06-10T14:33:34.853Z"
   },
   {
    "duration": 1281,
    "start_time": "2023-06-10T14:41:58.951Z"
   },
   {
    "duration": 713,
    "start_time": "2023-06-10T14:42:00.234Z"
   },
   {
    "duration": 12,
    "start_time": "2023-06-10T14:42:00.949Z"
   },
   {
    "duration": 142,
    "start_time": "2023-06-10T14:42:00.963Z"
   },
   {
    "duration": 115,
    "start_time": "2023-06-10T14:42:01.106Z"
   },
   {
    "duration": 69,
    "start_time": "2023-06-10T14:42:01.223Z"
   },
   {
    "duration": 38,
    "start_time": "2023-06-10T14:42:01.293Z"
   },
   {
    "duration": 47,
    "start_time": "2023-06-10T14:42:01.332Z"
   },
   {
    "duration": 58,
    "start_time": "2023-06-10T14:42:01.381Z"
   },
   {
    "duration": 55,
    "start_time": "2023-06-10T14:42:01.441Z"
   },
   {
    "duration": 34,
    "start_time": "2023-06-10T14:42:01.498Z"
   },
   {
    "duration": 170,
    "start_time": "2023-06-10T14:42:01.534Z"
   },
   {
    "duration": 41,
    "start_time": "2023-06-10T14:53:28.552Z"
   },
   {
    "duration": 50,
    "start_time": "2023-06-10T14:53:33.483Z"
   },
   {
    "duration": 755,
    "start_time": "2023-06-10T14:54:10.501Z"
   },
   {
    "duration": 582,
    "start_time": "2023-06-10T14:54:25.198Z"
   },
   {
    "duration": 74,
    "start_time": "2023-06-10T14:54:32.404Z"
   },
   {
    "duration": 167,
    "start_time": "2023-06-10T15:04:58.931Z"
   },
   {
    "duration": 14,
    "start_time": "2023-06-10T15:10:52.513Z"
   },
   {
    "duration": 1245,
    "start_time": "2023-06-10T15:11:01.005Z"
   },
   {
    "duration": 707,
    "start_time": "2023-06-10T15:11:02.252Z"
   },
   {
    "duration": 12,
    "start_time": "2023-06-10T15:11:02.960Z"
   },
   {
    "duration": 129,
    "start_time": "2023-06-10T15:11:02.974Z"
   },
   {
    "duration": 87,
    "start_time": "2023-06-10T15:11:03.105Z"
   },
   {
    "duration": 80,
    "start_time": "2023-06-10T15:11:03.194Z"
   },
   {
    "duration": 48,
    "start_time": "2023-06-10T15:11:03.276Z"
   },
   {
    "duration": 159,
    "start_time": "2023-06-10T15:11:03.326Z"
   },
   {
    "duration": 60,
    "start_time": "2023-06-10T15:11:03.486Z"
   },
   {
    "duration": 58,
    "start_time": "2023-06-10T15:11:03.549Z"
   },
   {
    "duration": 34,
    "start_time": "2023-06-10T15:11:03.609Z"
   },
   {
    "duration": 636,
    "start_time": "2023-06-10T15:11:03.644Z"
   },
   {
    "duration": 635,
    "start_time": "2023-06-10T15:13:56.997Z"
   },
   {
    "duration": 771,
    "start_time": "2023-06-10T16:16:02.902Z"
   },
   {
    "duration": 1314,
    "start_time": "2023-06-10T16:16:17.746Z"
   },
   {
    "duration": 736,
    "start_time": "2023-06-10T16:16:19.061Z"
   },
   {
    "duration": 24,
    "start_time": "2023-06-10T16:16:19.799Z"
   },
   {
    "duration": 201,
    "start_time": "2023-06-10T16:16:19.825Z"
   },
   {
    "duration": 89,
    "start_time": "2023-06-10T16:16:20.028Z"
   },
   {
    "duration": 75,
    "start_time": "2023-06-10T16:16:20.119Z"
   },
   {
    "duration": 41,
    "start_time": "2023-06-10T16:16:20.195Z"
   },
   {
    "duration": 9,
    "start_time": "2023-06-10T16:16:20.238Z"
   },
   {
    "duration": 37,
    "start_time": "2023-06-10T16:16:20.248Z"
   },
   {
    "duration": 41,
    "start_time": "2023-06-10T16:16:20.287Z"
   },
   {
    "duration": 34,
    "start_time": "2023-06-10T16:16:20.330Z"
   },
   {
    "duration": 860,
    "start_time": "2023-06-10T16:16:20.365Z"
   },
   {
    "duration": 920,
    "start_time": "2023-06-10T16:16:37.614Z"
   },
   {
    "duration": 853,
    "start_time": "2023-06-10T16:17:08.132Z"
   },
   {
    "duration": 782,
    "start_time": "2023-06-10T16:17:40.043Z"
   },
   {
    "duration": 4,
    "start_time": "2023-06-10T16:17:44.057Z"
   },
   {
    "duration": 1221,
    "start_time": "2023-06-10T16:17:47.229Z"
   },
   {
    "duration": 748,
    "start_time": "2023-06-10T16:17:48.452Z"
   },
   {
    "duration": 25,
    "start_time": "2023-06-10T16:17:49.202Z"
   },
   {
    "duration": 160,
    "start_time": "2023-06-10T16:17:49.230Z"
   },
   {
    "duration": 88,
    "start_time": "2023-06-10T16:17:49.392Z"
   },
   {
    "duration": 87,
    "start_time": "2023-06-10T16:17:49.482Z"
   },
   {
    "duration": 26,
    "start_time": "2023-06-10T16:17:49.570Z"
   },
   {
    "duration": 25,
    "start_time": "2023-06-10T16:17:49.597Z"
   },
   {
    "duration": 55,
    "start_time": "2023-06-10T16:17:49.624Z"
   },
   {
    "duration": 30,
    "start_time": "2023-06-10T16:17:49.681Z"
   },
   {
    "duration": 32,
    "start_time": "2023-06-10T16:17:49.713Z"
   },
   {
    "duration": 5,
    "start_time": "2023-06-10T16:17:49.746Z"
   },
   {
    "duration": 926,
    "start_time": "2023-06-10T16:17:54.979Z"
   },
   {
    "duration": 1070,
    "start_time": "2023-06-10T16:18:29.342Z"
   },
   {
    "duration": 882,
    "start_time": "2023-06-10T16:30:06.150Z"
   },
   {
    "duration": 1032,
    "start_time": "2023-06-10T16:30:51.062Z"
   },
   {
    "duration": 118,
    "start_time": "2023-06-10T16:31:28.260Z"
   },
   {
    "duration": 16,
    "start_time": "2023-06-10T16:31:51.985Z"
   },
   {
    "duration": 1285,
    "start_time": "2023-06-10T16:31:55.323Z"
   },
   {
    "duration": 758,
    "start_time": "2023-06-10T16:31:56.610Z"
   },
   {
    "duration": 12,
    "start_time": "2023-06-10T16:31:57.369Z"
   },
   {
    "duration": 148,
    "start_time": "2023-06-10T16:31:57.382Z"
   },
   {
    "duration": 121,
    "start_time": "2023-06-10T16:31:57.533Z"
   },
   {
    "duration": 82,
    "start_time": "2023-06-10T16:31:57.655Z"
   },
   {
    "duration": 29,
    "start_time": "2023-06-10T16:31:57.738Z"
   },
   {
    "duration": 15,
    "start_time": "2023-06-10T16:31:57.769Z"
   },
   {
    "duration": 55,
    "start_time": "2023-06-10T16:31:57.786Z"
   },
   {
    "duration": 38,
    "start_time": "2023-06-10T16:31:57.842Z"
   },
   {
    "duration": 53,
    "start_time": "2023-06-10T16:31:57.881Z"
   },
   {
    "duration": 1127,
    "start_time": "2023-06-10T16:31:57.935Z"
   },
   {
    "duration": 134,
    "start_time": "2023-06-10T16:31:59.063Z"
   },
   {
    "duration": 1528,
    "start_time": "2023-06-10T16:32:29.251Z"
   },
   {
    "duration": 863,
    "start_time": "2023-06-10T16:32:30.781Z"
   },
   {
    "duration": 13,
    "start_time": "2023-06-10T16:32:31.646Z"
   },
   {
    "duration": 195,
    "start_time": "2023-06-10T16:32:31.662Z"
   },
   {
    "duration": 106,
    "start_time": "2023-06-10T16:32:31.859Z"
   },
   {
    "duration": 101,
    "start_time": "2023-06-10T16:32:31.967Z"
   },
   {
    "duration": 30,
    "start_time": "2023-06-10T16:32:32.070Z"
   },
   {
    "duration": 42,
    "start_time": "2023-06-10T16:32:32.101Z"
   },
   {
    "duration": 76,
    "start_time": "2023-06-10T16:32:32.145Z"
   },
   {
    "duration": 81,
    "start_time": "2023-06-10T16:32:32.226Z"
   },
   {
    "duration": 49,
    "start_time": "2023-06-10T16:32:32.309Z"
   },
   {
    "duration": 1084,
    "start_time": "2023-06-10T16:32:32.360Z"
   },
   {
    "duration": 139,
    "start_time": "2023-06-10T16:32:33.446Z"
   },
   {
    "duration": 99,
    "start_time": "2023-06-10T16:32:44.790Z"
   },
   {
    "duration": 1444,
    "start_time": "2023-06-10T16:37:16.033Z"
   },
   {
    "duration": 754,
    "start_time": "2023-06-10T16:37:17.479Z"
   },
   {
    "duration": 11,
    "start_time": "2023-06-10T16:37:18.234Z"
   },
   {
    "duration": 125,
    "start_time": "2023-06-10T16:37:18.247Z"
   },
   {
    "duration": 89,
    "start_time": "2023-06-10T16:37:18.373Z"
   },
   {
    "duration": 88,
    "start_time": "2023-06-10T16:37:18.464Z"
   },
   {
    "duration": 24,
    "start_time": "2023-06-10T16:37:18.553Z"
   },
   {
    "duration": 21,
    "start_time": "2023-06-10T16:37:18.579Z"
   },
   {
    "duration": 41,
    "start_time": "2023-06-10T16:37:18.601Z"
   },
   {
    "duration": 51,
    "start_time": "2023-06-10T16:37:18.644Z"
   },
   {
    "duration": 34,
    "start_time": "2023-06-10T16:37:18.697Z"
   },
   {
    "duration": 936,
    "start_time": "2023-06-10T16:37:18.732Z"
   },
   {
    "duration": 97,
    "start_time": "2023-06-10T16:37:19.670Z"
   },
   {
    "duration": 93,
    "start_time": "2023-06-10T16:44:00.637Z"
   },
   {
    "duration": 2498,
    "start_time": "2023-06-10T16:46:48.355Z"
   },
   {
    "duration": 2077,
    "start_time": "2023-06-10T16:46:50.854Z"
   },
   {
    "duration": 15,
    "start_time": "2023-06-10T16:46:52.933Z"
   },
   {
    "duration": 376,
    "start_time": "2023-06-10T16:46:52.950Z"
   },
   {
    "duration": 303,
    "start_time": "2023-06-10T16:46:53.334Z"
   },
   {
    "duration": 187,
    "start_time": "2023-06-10T16:46:53.642Z"
   },
   {
    "duration": 88,
    "start_time": "2023-06-10T16:46:53.830Z"
   },
   {
    "duration": 23,
    "start_time": "2023-06-10T16:46:53.919Z"
   },
   {
    "duration": 109,
    "start_time": "2023-06-10T16:46:53.948Z"
   },
   {
    "duration": 97,
    "start_time": "2023-06-10T16:46:54.058Z"
   },
   {
    "duration": 106,
    "start_time": "2023-06-10T16:46:54.157Z"
   },
   {
    "duration": 2791,
    "start_time": "2023-06-10T16:46:54.265Z"
   },
   {
    "duration": 1103,
    "start_time": "2023-06-10T16:46:57.058Z"
   },
   {
    "duration": 2303,
    "start_time": "2023-06-10T16:47:27.545Z"
   },
   {
    "duration": 1773,
    "start_time": "2023-06-10T16:47:29.850Z"
   },
   {
    "duration": 22,
    "start_time": "2023-06-10T16:47:31.624Z"
   },
   {
    "duration": 413,
    "start_time": "2023-06-10T16:47:31.647Z"
   },
   {
    "duration": 267,
    "start_time": "2023-06-10T16:47:32.062Z"
   },
   {
    "duration": 203,
    "start_time": "2023-06-10T16:47:32.330Z"
   },
   {
    "duration": 28,
    "start_time": "2023-06-10T16:47:32.535Z"
   },
   {
    "duration": 79,
    "start_time": "2023-06-10T16:47:32.564Z"
   },
   {
    "duration": 91,
    "start_time": "2023-06-10T16:47:32.644Z"
   },
   {
    "duration": 197,
    "start_time": "2023-06-10T16:47:32.737Z"
   },
   {
    "duration": 104,
    "start_time": "2023-06-10T16:47:32.936Z"
   },
   {
    "duration": 2417,
    "start_time": "2023-06-10T16:47:33.043Z"
   },
   {
    "duration": 906,
    "start_time": "2023-06-10T16:47:35.521Z"
   },
   {
    "duration": 1412,
    "start_time": "2023-06-10T17:13:56.739Z"
   },
   {
    "duration": 901,
    "start_time": "2023-06-10T17:13:58.153Z"
   },
   {
    "duration": 13,
    "start_time": "2023-06-10T17:13:59.055Z"
   },
   {
    "duration": 163,
    "start_time": "2023-06-10T17:13:59.069Z"
   },
   {
    "duration": 103,
    "start_time": "2023-06-10T17:13:59.235Z"
   },
   {
    "duration": 92,
    "start_time": "2023-06-10T17:13:59.340Z"
   },
   {
    "duration": 28,
    "start_time": "2023-06-10T17:13:59.434Z"
   },
   {
    "duration": 32,
    "start_time": "2023-06-10T17:13:59.463Z"
   },
   {
    "duration": 59,
    "start_time": "2023-06-10T17:13:59.496Z"
   },
   {
    "duration": 51,
    "start_time": "2023-06-10T17:13:59.556Z"
   },
   {
    "duration": 44,
    "start_time": "2023-06-10T17:13:59.609Z"
   },
   {
    "duration": 1226,
    "start_time": "2023-06-10T17:13:59.655Z"
   },
   {
    "duration": 413,
    "start_time": "2023-06-10T17:14:00.883Z"
   },
   {
    "duration": 110,
    "start_time": "2023-06-10T17:14:01.298Z"
   },
   {
    "duration": 3,
    "start_time": "2023-06-10T17:15:00.680Z"
   },
   {
    "duration": 1522,
    "start_time": "2023-06-10T17:15:03.828Z"
   },
   {
    "duration": 795,
    "start_time": "2023-06-10T17:15:05.353Z"
   },
   {
    "duration": 11,
    "start_time": "2023-06-10T17:15:06.150Z"
   },
   {
    "duration": 138,
    "start_time": "2023-06-10T17:15:06.162Z"
   },
   {
    "duration": 91,
    "start_time": "2023-06-10T17:15:06.302Z"
   },
   {
    "duration": 84,
    "start_time": "2023-06-10T17:15:06.394Z"
   },
   {
    "duration": 24,
    "start_time": "2023-06-10T17:15:06.479Z"
   },
   {
    "duration": 21,
    "start_time": "2023-06-10T17:15:06.505Z"
   },
   {
    "duration": 43,
    "start_time": "2023-06-10T17:15:06.527Z"
   },
   {
    "duration": 42,
    "start_time": "2023-06-10T17:15:06.572Z"
   },
   {
    "duration": 37,
    "start_time": "2023-06-10T17:15:06.616Z"
   },
   {
    "duration": 1190,
    "start_time": "2023-06-10T17:15:06.655Z"
   },
   {
    "duration": 423,
    "start_time": "2023-06-10T17:15:07.847Z"
   },
   {
    "duration": 144,
    "start_time": "2023-06-10T17:15:08.273Z"
   },
   {
    "duration": 15,
    "start_time": "2023-06-10T17:19:59.806Z"
   },
   {
    "duration": 1371,
    "start_time": "2023-06-10T17:20:19.095Z"
   },
   {
    "duration": 762,
    "start_time": "2023-06-10T17:20:20.467Z"
   },
   {
    "duration": 14,
    "start_time": "2023-06-10T17:20:21.230Z"
   },
   {
    "duration": 129,
    "start_time": "2023-06-10T17:20:21.246Z"
   },
   {
    "duration": 89,
    "start_time": "2023-06-10T17:20:21.378Z"
   },
   {
    "duration": 96,
    "start_time": "2023-06-10T17:20:21.469Z"
   },
   {
    "duration": 35,
    "start_time": "2023-06-10T17:20:21.567Z"
   },
   {
    "duration": 44,
    "start_time": "2023-06-10T17:20:21.603Z"
   },
   {
    "duration": 56,
    "start_time": "2023-06-10T17:20:21.648Z"
   },
   {
    "duration": 76,
    "start_time": "2023-06-10T17:20:21.706Z"
   },
   {
    "duration": 51,
    "start_time": "2023-06-10T17:20:21.784Z"
   },
   {
    "duration": 1727,
    "start_time": "2023-06-10T17:20:21.836Z"
   },
   {
    "duration": 527,
    "start_time": "2023-06-10T17:20:23.565Z"
   },
   {
    "duration": 116,
    "start_time": "2023-06-10T17:20:24.095Z"
   },
   {
    "duration": 1947,
    "start_time": "2023-06-10T17:22:14.015Z"
   },
   {
    "duration": 0,
    "start_time": "2023-06-10T17:22:15.964Z"
   },
   {
    "duration": 0,
    "start_time": "2023-06-10T17:22:15.966Z"
   },
   {
    "duration": 0,
    "start_time": "2023-06-10T17:22:15.966Z"
   },
   {
    "duration": 0,
    "start_time": "2023-06-10T17:22:15.967Z"
   },
   {
    "duration": 0,
    "start_time": "2023-06-10T17:22:15.968Z"
   },
   {
    "duration": 0,
    "start_time": "2023-06-10T17:22:15.969Z"
   },
   {
    "duration": 1,
    "start_time": "2023-06-10T17:22:15.970Z"
   },
   {
    "duration": 0,
    "start_time": "2023-06-10T17:22:15.971Z"
   },
   {
    "duration": 0,
    "start_time": "2023-06-10T17:22:15.972Z"
   },
   {
    "duration": 0,
    "start_time": "2023-06-10T17:22:15.973Z"
   },
   {
    "duration": 0,
    "start_time": "2023-06-10T17:22:15.974Z"
   },
   {
    "duration": 0,
    "start_time": "2023-06-10T17:22:15.975Z"
   },
   {
    "duration": 0,
    "start_time": "2023-06-10T17:22:15.975Z"
   },
   {
    "duration": 3,
    "start_time": "2023-06-10T17:23:02.192Z"
   },
   {
    "duration": 1352,
    "start_time": "2023-06-10T17:23:05.374Z"
   },
   {
    "duration": 864,
    "start_time": "2023-06-10T17:23:06.728Z"
   },
   {
    "duration": 14,
    "start_time": "2023-06-10T17:23:07.594Z"
   },
   {
    "duration": 169,
    "start_time": "2023-06-10T17:23:07.610Z"
   },
   {
    "duration": 101,
    "start_time": "2023-06-10T17:23:07.780Z"
   },
   {
    "duration": 89,
    "start_time": "2023-06-10T17:23:07.882Z"
   },
   {
    "duration": 26,
    "start_time": "2023-06-10T17:23:07.972Z"
   },
   {
    "duration": 25,
    "start_time": "2023-06-10T17:23:08.000Z"
   },
   {
    "duration": 27,
    "start_time": "2023-06-10T17:23:08.027Z"
   },
   {
    "duration": 33,
    "start_time": "2023-06-10T17:23:08.056Z"
   },
   {
    "duration": 54,
    "start_time": "2023-06-10T17:23:08.090Z"
   },
   {
    "duration": 1033,
    "start_time": "2023-06-10T17:23:08.146Z"
   },
   {
    "duration": 419,
    "start_time": "2023-06-10T17:23:09.180Z"
   },
   {
    "duration": 109,
    "start_time": "2023-06-10T17:23:09.600Z"
   },
   {
    "duration": 3,
    "start_time": "2023-06-10T17:23:42.266Z"
   },
   {
    "duration": 1274,
    "start_time": "2023-06-10T17:23:45.733Z"
   },
   {
    "duration": 777,
    "start_time": "2023-06-10T17:23:47.009Z"
   },
   {
    "duration": 11,
    "start_time": "2023-06-10T17:23:47.787Z"
   },
   {
    "duration": 129,
    "start_time": "2023-06-10T17:23:47.799Z"
   },
   {
    "duration": 120,
    "start_time": "2023-06-10T17:23:47.930Z"
   },
   {
    "duration": 82,
    "start_time": "2023-06-10T17:23:48.051Z"
   },
   {
    "duration": 40,
    "start_time": "2023-06-10T17:23:48.135Z"
   },
   {
    "duration": 14,
    "start_time": "2023-06-10T17:23:48.177Z"
   },
   {
    "duration": 69,
    "start_time": "2023-06-10T17:23:48.192Z"
   },
   {
    "duration": 33,
    "start_time": "2023-06-10T17:23:48.262Z"
   },
   {
    "duration": 47,
    "start_time": "2023-06-10T17:23:48.296Z"
   },
   {
    "duration": 1042,
    "start_time": "2023-06-10T17:23:48.344Z"
   },
   {
    "duration": 439,
    "start_time": "2023-06-10T17:23:49.387Z"
   },
   {
    "duration": 114,
    "start_time": "2023-06-10T17:23:49.828Z"
   },
   {
    "duration": 47318,
    "start_time": "2023-06-10T17:24:04.465Z"
   },
   {
    "duration": 2,
    "start_time": "2023-06-10T17:26:04.537Z"
   },
   {
    "duration": 13,
    "start_time": "2023-06-10T17:32:17.354Z"
   },
   {
    "duration": 48449,
    "start_time": "2023-06-10T17:33:34.384Z"
   },
   {
    "duration": 3,
    "start_time": "2023-06-10T17:34:52.290Z"
   },
   {
    "duration": 3,
    "start_time": "2023-06-10T17:37:02.962Z"
   },
   {
    "duration": 4,
    "start_time": "2023-06-10T18:23:12.784Z"
   },
   {
    "duration": 1670,
    "start_time": "2023-06-10T18:23:16.722Z"
   },
   {
    "duration": 867,
    "start_time": "2023-06-10T18:23:18.394Z"
   },
   {
    "duration": 13,
    "start_time": "2023-06-10T18:23:19.262Z"
   },
   {
    "duration": 118,
    "start_time": "2023-06-10T18:23:19.276Z"
   },
   {
    "duration": 93,
    "start_time": "2023-06-10T18:23:19.396Z"
   },
   {
    "duration": 80,
    "start_time": "2023-06-10T18:23:19.491Z"
   },
   {
    "duration": 25,
    "start_time": "2023-06-10T18:23:19.573Z"
   },
   {
    "duration": 32,
    "start_time": "2023-06-10T18:23:19.599Z"
   },
   {
    "duration": 34,
    "start_time": "2023-06-10T18:23:19.633Z"
   },
   {
    "duration": 66,
    "start_time": "2023-06-10T18:23:19.668Z"
   },
   {
    "duration": 31,
    "start_time": "2023-06-10T18:23:19.736Z"
   },
   {
    "duration": 1022,
    "start_time": "2023-06-10T18:23:19.768Z"
   },
   {
    "duration": 439,
    "start_time": "2023-06-10T18:23:20.792Z"
   },
   {
    "duration": 49048,
    "start_time": "2023-06-10T18:23:21.233Z"
   },
   {
    "duration": 3,
    "start_time": "2023-06-10T18:24:10.282Z"
   },
   {
    "duration": 7,
    "start_time": "2023-06-10T18:24:10.287Z"
   },
   {
    "duration": 72,
    "start_time": "2023-06-10T18:24:10.295Z"
   },
   {
    "duration": 190,
    "start_time": "2023-06-10T18:38:53.471Z"
   },
   {
    "duration": 1269,
    "start_time": "2023-06-10T18:39:42.804Z"
   },
   {
    "duration": 709,
    "start_time": "2023-06-10T18:39:44.075Z"
   },
   {
    "duration": 11,
    "start_time": "2023-06-10T18:39:44.786Z"
   },
   {
    "duration": 119,
    "start_time": "2023-06-10T18:39:44.798Z"
   },
   {
    "duration": 118,
    "start_time": "2023-06-10T18:39:44.920Z"
   },
   {
    "duration": 82,
    "start_time": "2023-06-10T18:39:45.039Z"
   },
   {
    "duration": 28,
    "start_time": "2023-06-10T18:39:45.122Z"
   },
   {
    "duration": 8,
    "start_time": "2023-06-10T18:39:45.152Z"
   },
   {
    "duration": 28,
    "start_time": "2023-06-10T18:39:45.161Z"
   },
   {
    "duration": 57,
    "start_time": "2023-06-10T18:39:45.190Z"
   },
   {
    "duration": 35,
    "start_time": "2023-06-10T18:39:45.249Z"
   },
   {
    "duration": 1009,
    "start_time": "2023-06-10T18:39:45.286Z"
   },
   {
    "duration": 414,
    "start_time": "2023-06-10T18:39:46.297Z"
   },
   {
    "duration": 50119,
    "start_time": "2023-06-10T18:39:46.715Z"
   },
   {
    "duration": 5,
    "start_time": "2023-06-10T18:40:36.835Z"
   },
   {
    "duration": 27,
    "start_time": "2023-06-10T18:40:36.842Z"
   },
   {
    "duration": 188,
    "start_time": "2023-06-10T18:40:36.870Z"
   },
   {
    "duration": 663,
    "start_time": "2023-06-10T18:43:25.839Z"
   },
   {
    "duration": 77,
    "start_time": "2023-06-10T18:45:55.827Z"
   },
   {
    "duration": 1295,
    "start_time": "2023-06-10T18:47:33.213Z"
   },
   {
    "duration": 780,
    "start_time": "2023-06-10T18:47:34.510Z"
   },
   {
    "duration": 15,
    "start_time": "2023-06-10T18:47:35.292Z"
   },
   {
    "duration": 182,
    "start_time": "2023-06-10T18:47:35.318Z"
   },
   {
    "duration": 93,
    "start_time": "2023-06-10T18:47:35.502Z"
   },
   {
    "duration": 88,
    "start_time": "2023-06-10T18:47:35.596Z"
   },
   {
    "duration": 30,
    "start_time": "2023-06-10T18:47:35.686Z"
   },
   {
    "duration": 28,
    "start_time": "2023-06-10T18:47:35.717Z"
   },
   {
    "duration": 46,
    "start_time": "2023-06-10T18:47:35.746Z"
   },
   {
    "duration": 37,
    "start_time": "2023-06-10T18:47:35.794Z"
   },
   {
    "duration": 35,
    "start_time": "2023-06-10T18:47:35.833Z"
   },
   {
    "duration": 1070,
    "start_time": "2023-06-10T18:47:35.870Z"
   },
   {
    "duration": 457,
    "start_time": "2023-06-10T18:47:36.941Z"
   },
   {
    "duration": 50833,
    "start_time": "2023-06-10T18:47:37.400Z"
   },
   {
    "duration": 4,
    "start_time": "2023-06-10T18:48:28.234Z"
   },
   {
    "duration": 27,
    "start_time": "2023-06-10T18:48:28.239Z"
   },
   {
    "duration": 652,
    "start_time": "2023-06-10T18:48:28.267Z"
   },
   {
    "duration": 226,
    "start_time": "2023-06-10T18:48:28.920Z"
   },
   {
    "duration": 61,
    "start_time": "2023-06-10T18:57:03.468Z"
   },
   {
    "duration": 628,
    "start_time": "2023-06-10T18:57:19.328Z"
   },
   {
    "duration": 65,
    "start_time": "2023-06-10T18:57:25.331Z"
   },
   {
    "duration": 494,
    "start_time": "2023-06-10T19:10:25.334Z"
   },
   {
    "duration": 1293,
    "start_time": "2023-06-10T19:10:47.266Z"
   },
   {
    "duration": 785,
    "start_time": "2023-06-10T19:10:48.561Z"
   },
   {
    "duration": 14,
    "start_time": "2023-06-10T19:10:49.348Z"
   },
   {
    "duration": 167,
    "start_time": "2023-06-10T19:10:49.363Z"
   },
   {
    "duration": 100,
    "start_time": "2023-06-10T19:10:49.540Z"
   },
   {
    "duration": 93,
    "start_time": "2023-06-10T19:10:49.641Z"
   },
   {
    "duration": 27,
    "start_time": "2023-06-10T19:10:49.735Z"
   },
   {
    "duration": 14,
    "start_time": "2023-06-10T19:10:49.764Z"
   },
   {
    "duration": 36,
    "start_time": "2023-06-10T19:10:49.780Z"
   },
   {
    "duration": 62,
    "start_time": "2023-06-10T19:10:49.829Z"
   },
   {
    "duration": 65,
    "start_time": "2023-06-10T19:10:49.894Z"
   },
   {
    "duration": 1114,
    "start_time": "2023-06-10T19:10:49.964Z"
   },
   {
    "duration": 465,
    "start_time": "2023-06-10T19:10:51.079Z"
   },
   {
    "duration": 51600,
    "start_time": "2023-06-10T19:10:51.546Z"
   },
   {
    "duration": 4,
    "start_time": "2023-06-10T19:11:43.148Z"
   },
   {
    "duration": 16,
    "start_time": "2023-06-10T19:11:43.154Z"
   },
   {
    "duration": 608,
    "start_time": "2023-06-10T19:11:43.171Z"
   },
   {
    "duration": 63,
    "start_time": "2023-06-10T19:11:43.780Z"
   },
   {
    "duration": 417,
    "start_time": "2023-06-10T19:11:43.845Z"
   },
   {
    "duration": 110,
    "start_time": "2023-06-10T19:12:53.250Z"
   },
   {
    "duration": 3,
    "start_time": "2023-06-10T19:14:16.360Z"
   },
   {
    "duration": 38,
    "start_time": "2023-06-10T19:14:16.834Z"
   },
   {
    "duration": 2,
    "start_time": "2023-06-10T19:14:52.383Z"
   },
   {
    "duration": 17,
    "start_time": "2023-06-10T19:14:52.558Z"
   },
   {
    "duration": 1882,
    "start_time": "2023-06-10T19:16:04.159Z"
   },
   {
    "duration": 990,
    "start_time": "2023-06-10T19:16:06.042Z"
   },
   {
    "duration": 13,
    "start_time": "2023-06-10T19:16:07.033Z"
   },
   {
    "duration": 208,
    "start_time": "2023-06-10T19:16:07.048Z"
   },
   {
    "duration": 95,
    "start_time": "2023-06-10T19:16:07.258Z"
   },
   {
    "duration": 110,
    "start_time": "2023-06-10T19:16:07.355Z"
   },
   {
    "duration": 29,
    "start_time": "2023-06-10T19:16:07.467Z"
   },
   {
    "duration": 35,
    "start_time": "2023-06-10T19:16:07.498Z"
   },
   {
    "duration": 51,
    "start_time": "2023-06-10T19:16:07.535Z"
   },
   {
    "duration": 65,
    "start_time": "2023-06-10T19:16:07.588Z"
   },
   {
    "duration": 42,
    "start_time": "2023-06-10T19:16:07.655Z"
   },
   {
    "duration": 954,
    "start_time": "2023-06-10T19:16:07.699Z"
   },
   {
    "duration": 439,
    "start_time": "2023-06-10T19:16:08.654Z"
   },
   {
    "duration": 53459,
    "start_time": "2023-06-10T19:16:09.096Z"
   },
   {
    "duration": 4,
    "start_time": "2023-06-10T19:17:02.556Z"
   },
   {
    "duration": 39,
    "start_time": "2023-06-10T19:17:02.562Z"
   },
   {
    "duration": 690,
    "start_time": "2023-06-10T19:17:02.603Z"
   },
   {
    "duration": 68,
    "start_time": "2023-06-10T19:17:03.294Z"
   },
   {
    "duration": 697,
    "start_time": "2023-06-10T19:17:03.363Z"
   },
   {
    "duration": 3,
    "start_time": "2023-06-10T19:17:04.061Z"
   },
   {
    "duration": 137,
    "start_time": "2023-06-10T19:17:04.065Z"
   },
   {
    "duration": 520,
    "start_time": "2023-06-10T19:17:31.608Z"
   },
   {
    "duration": 498,
    "start_time": "2023-06-10T19:17:40.800Z"
   },
   {
    "duration": 499,
    "start_time": "2023-06-10T19:17:47.954Z"
   },
   {
    "duration": 65,
    "start_time": "2023-06-10T19:19:31.509Z"
   },
   {
    "duration": 499,
    "start_time": "2023-06-10T19:19:35.759Z"
   },
   {
    "duration": 599,
    "start_time": "2023-06-10T19:20:12.192Z"
   },
   {
    "duration": 394,
    "start_time": "2023-06-10T19:20:17.700Z"
   },
   {
    "duration": 362,
    "start_time": "2023-06-10T19:20:22.753Z"
   },
   {
    "duration": 6,
    "start_time": "2023-06-10T19:20:23.125Z"
   },
   {
    "duration": 3,
    "start_time": "2023-06-10T19:20:26.903Z"
   },
   {
    "duration": 18,
    "start_time": "2023-06-10T19:20:27.069Z"
   },
   {
    "duration": 2,
    "start_time": "2023-06-10T19:21:13.113Z"
   },
   {
    "duration": 17,
    "start_time": "2023-06-10T19:21:13.279Z"
   },
   {
    "duration": 16,
    "start_time": "2023-06-10T19:23:18.634Z"
   },
   {
    "duration": 24,
    "start_time": "2023-06-10T19:25:07.177Z"
   },
   {
    "duration": 16,
    "start_time": "2023-06-10T19:27:16.289Z"
   },
   {
    "duration": 18,
    "start_time": "2023-06-10T19:30:37.577Z"
   },
   {
    "duration": 1355,
    "start_time": "2023-06-10T19:31:56.554Z"
   },
   {
    "duration": 840,
    "start_time": "2023-06-10T19:31:57.912Z"
   },
   {
    "duration": 12,
    "start_time": "2023-06-10T19:31:58.753Z"
   },
   {
    "duration": 141,
    "start_time": "2023-06-10T19:31:58.767Z"
   },
   {
    "duration": 103,
    "start_time": "2023-06-10T19:31:58.916Z"
   },
   {
    "duration": 82,
    "start_time": "2023-06-10T19:31:59.020Z"
   },
   {
    "duration": 53,
    "start_time": "2023-06-10T19:31:59.104Z"
   },
   {
    "duration": 17,
    "start_time": "2023-06-10T19:31:59.158Z"
   },
   {
    "duration": 33,
    "start_time": "2023-06-10T19:31:59.176Z"
   },
   {
    "duration": 46,
    "start_time": "2023-06-10T19:31:59.211Z"
   },
   {
    "duration": 35,
    "start_time": "2023-06-10T19:31:59.259Z"
   },
   {
    "duration": 1101,
    "start_time": "2023-06-10T19:31:59.295Z"
   },
   {
    "duration": 450,
    "start_time": "2023-06-10T19:32:00.397Z"
   },
   {
    "duration": 53996,
    "start_time": "2023-06-10T19:32:00.850Z"
   },
   {
    "duration": 4,
    "start_time": "2023-06-10T19:32:54.848Z"
   },
   {
    "duration": 5,
    "start_time": "2023-06-10T19:32:54.853Z"
   },
   {
    "duration": 748,
    "start_time": "2023-06-10T19:32:54.860Z"
   },
   {
    "duration": 64,
    "start_time": "2023-06-10T19:32:55.609Z"
   },
   {
    "duration": 28,
    "start_time": "2023-06-10T19:32:55.674Z"
   },
   {
    "duration": 2,
    "start_time": "2023-06-10T19:32:55.703Z"
   },
   {
    "duration": 1211,
    "start_time": "2023-06-10T19:32:55.706Z"
   },
   {
    "duration": 38,
    "start_time": "2023-06-10T19:34:02.767Z"
   },
   {
    "duration": 1255,
    "start_time": "2023-06-10T19:34:09.048Z"
   },
   {
    "duration": 727,
    "start_time": "2023-06-10T19:34:10.304Z"
   },
   {
    "duration": 12,
    "start_time": "2023-06-10T19:34:11.033Z"
   },
   {
    "duration": 123,
    "start_time": "2023-06-10T19:34:11.047Z"
   },
   {
    "duration": 91,
    "start_time": "2023-06-10T19:34:11.172Z"
   },
   {
    "duration": 85,
    "start_time": "2023-06-10T19:34:11.264Z"
   },
   {
    "duration": 26,
    "start_time": "2023-06-10T19:34:11.350Z"
   },
   {
    "duration": 15,
    "start_time": "2023-06-10T19:34:11.377Z"
   },
   {
    "duration": 41,
    "start_time": "2023-06-10T19:34:11.394Z"
   },
   {
    "duration": 38,
    "start_time": "2023-06-10T19:34:11.437Z"
   },
   {
    "duration": 31,
    "start_time": "2023-06-10T19:34:11.477Z"
   },
   {
    "duration": 946,
    "start_time": "2023-06-10T19:34:11.509Z"
   },
   {
    "duration": 408,
    "start_time": "2023-06-10T19:34:12.457Z"
   },
   {
    "duration": 50062,
    "start_time": "2023-06-10T19:34:12.866Z"
   },
   {
    "duration": 3,
    "start_time": "2023-06-10T19:35:02.930Z"
   },
   {
    "duration": 39,
    "start_time": "2023-06-10T19:35:02.935Z"
   },
   {
    "duration": 655,
    "start_time": "2023-06-10T19:35:02.976Z"
   },
   {
    "duration": 58,
    "start_time": "2023-06-10T19:35:03.632Z"
   },
   {
    "duration": 48,
    "start_time": "2023-06-10T19:35:03.691Z"
   },
   {
    "duration": 3,
    "start_time": "2023-06-10T19:35:03.741Z"
   },
   {
    "duration": 1718,
    "start_time": "2023-06-10T19:35:03.746Z"
   },
   {
    "duration": 1154,
    "start_time": "2023-06-10T19:42:29.599Z"
   },
   {
    "duration": 979,
    "start_time": "2023-06-10T19:43:40.827Z"
   },
   {
    "duration": 777,
    "start_time": "2023-06-10T19:44:23.772Z"
   },
   {
    "duration": 10,
    "start_time": "2023-06-10T19:46:55.980Z"
   },
   {
    "duration": 1308,
    "start_time": "2023-06-10T19:47:05.356Z"
   },
   {
    "duration": 793,
    "start_time": "2023-06-10T19:47:06.665Z"
   },
   {
    "duration": 12,
    "start_time": "2023-06-10T19:47:07.459Z"
   },
   {
    "duration": 126,
    "start_time": "2023-06-10T19:47:07.473Z"
   },
   {
    "duration": 133,
    "start_time": "2023-06-10T19:47:07.600Z"
   },
   {
    "duration": 71,
    "start_time": "2023-06-10T19:47:07.734Z"
   },
   {
    "duration": 44,
    "start_time": "2023-06-10T19:47:07.806Z"
   },
   {
    "duration": 16,
    "start_time": "2023-06-10T19:47:07.851Z"
   },
   {
    "duration": 33,
    "start_time": "2023-06-10T19:47:07.869Z"
   },
   {
    "duration": 47,
    "start_time": "2023-06-10T19:47:07.905Z"
   },
   {
    "duration": 35,
    "start_time": "2023-06-10T19:47:07.954Z"
   },
   {
    "duration": 1142,
    "start_time": "2023-06-10T19:47:07.991Z"
   },
   {
    "duration": 438,
    "start_time": "2023-06-10T19:47:09.135Z"
   },
   {
    "duration": 52960,
    "start_time": "2023-06-10T19:47:09.574Z"
   },
   {
    "duration": 3,
    "start_time": "2023-06-10T19:48:02.536Z"
   },
   {
    "duration": 47,
    "start_time": "2023-06-10T19:48:02.540Z"
   },
   {
    "duration": 640,
    "start_time": "2023-06-10T19:48:02.589Z"
   },
   {
    "duration": 55,
    "start_time": "2023-06-10T19:48:03.231Z"
   },
   {
    "duration": 56,
    "start_time": "2023-06-10T19:48:03.288Z"
   },
   {
    "duration": 2,
    "start_time": "2023-06-10T19:48:03.345Z"
   },
   {
    "duration": 39,
    "start_time": "2023-06-10T19:48:03.348Z"
   },
   {
    "duration": 3,
    "start_time": "2023-06-10T19:51:09.633Z"
   },
   {
    "duration": 587443,
    "start_time": "2023-06-10T19:53:09.098Z"
   },
   {
    "duration": 9,
    "start_time": "2023-06-10T20:05:54.211Z"
   },
   {
    "duration": 3,
    "start_time": "2023-06-10T20:06:46.705Z"
   },
   {
    "duration": 1297,
    "start_time": "2023-06-10T20:06:50.282Z"
   },
   {
    "duration": 763,
    "start_time": "2023-06-10T20:06:51.581Z"
   },
   {
    "duration": 15,
    "start_time": "2023-06-10T20:06:52.345Z"
   },
   {
    "duration": 134,
    "start_time": "2023-06-10T20:06:52.361Z"
   },
   {
    "duration": 91,
    "start_time": "2023-06-10T20:06:52.497Z"
   },
   {
    "duration": 90,
    "start_time": "2023-06-10T20:06:52.589Z"
   },
   {
    "duration": 26,
    "start_time": "2023-06-10T20:06:52.680Z"
   },
   {
    "duration": 30,
    "start_time": "2023-06-10T20:06:52.708Z"
   },
   {
    "duration": 29,
    "start_time": "2023-06-10T20:06:52.739Z"
   },
   {
    "duration": 33,
    "start_time": "2023-06-10T20:06:52.770Z"
   },
   {
    "duration": 43,
    "start_time": "2023-06-10T20:06:52.804Z"
   },
   {
    "duration": 1097,
    "start_time": "2023-06-10T20:06:52.849Z"
   },
   {
    "duration": 444,
    "start_time": "2023-06-10T20:06:53.948Z"
   },
   {
    "duration": 50802,
    "start_time": "2023-06-10T20:06:54.393Z"
   },
   {
    "duration": 3,
    "start_time": "2023-06-10T20:07:45.197Z"
   },
   {
    "duration": 32,
    "start_time": "2023-06-10T20:07:45.202Z"
   },
   {
    "duration": 653,
    "start_time": "2023-06-10T20:07:45.236Z"
   },
   {
    "duration": 70,
    "start_time": "2023-06-10T20:07:45.891Z"
   },
   {
    "duration": 36,
    "start_time": "2023-06-10T20:07:45.963Z"
   },
   {
    "duration": 3,
    "start_time": "2023-06-10T20:07:46.000Z"
   },
   {
    "duration": 19,
    "start_time": "2023-06-10T20:07:46.004Z"
   },
   {
    "duration": 113,
    "start_time": "2023-06-10T20:14:53.186Z"
   },
   {
    "duration": 42957,
    "start_time": "2023-06-10T20:15:55.642Z"
   },
   {
    "duration": 8772,
    "start_time": "2023-06-10T20:17:18.109Z"
   },
   {
    "duration": 10,
    "start_time": "2023-06-10T20:18:59.642Z"
   },
   {
    "duration": 3994,
    "start_time": "2023-06-10T20:19:26.838Z"
   },
   {
    "duration": 108,
    "start_time": "2023-06-10T20:21:05.327Z"
   },
   {
    "duration": 96,
    "start_time": "2023-06-10T20:21:23.441Z"
   },
   {
    "duration": 4719,
    "start_time": "2023-06-10T20:21:32.969Z"
   },
   {
    "duration": 102,
    "start_time": "2023-06-10T20:21:39.156Z"
   },
   {
    "duration": 23256,
    "start_time": "2023-06-10T20:25:34.316Z"
   },
   {
    "duration": 9,
    "start_time": "2023-06-10T20:29:16.832Z"
   },
   {
    "duration": 8,
    "start_time": "2023-06-10T20:29:23.271Z"
   },
   {
    "duration": 5,
    "start_time": "2023-06-10T20:30:03.174Z"
   },
   {
    "duration": 1612,
    "start_time": "2023-06-10T20:30:14.577Z"
   },
   {
    "duration": 4,
    "start_time": "2023-06-10T20:30:21.164Z"
   },
   {
    "duration": 4,
    "start_time": "2023-06-10T20:30:43.730Z"
   },
   {
    "duration": 5,
    "start_time": "2023-06-10T20:32:01.261Z"
   },
   {
    "duration": 4,
    "start_time": "2023-06-10T20:32:09.283Z"
   },
   {
    "duration": 13,
    "start_time": "2023-06-10T20:32:13.614Z"
   },
   {
    "duration": 66,
    "start_time": "2023-06-10T21:31:06.794Z"
   },
   {
    "duration": 11,
    "start_time": "2023-06-10T21:32:14.397Z"
   },
   {
    "duration": 15341,
    "start_time": "2023-06-10T21:32:29.364Z"
   },
   {
    "duration": 8,
    "start_time": "2023-06-10T21:33:48.605Z"
   },
   {
    "duration": 6,
    "start_time": "2023-06-10T21:33:56.554Z"
   },
   {
    "duration": 978,
    "start_time": "2023-06-10T21:34:12.907Z"
   },
   {
    "duration": 5,
    "start_time": "2023-06-10T21:34:53.092Z"
   },
   {
    "duration": 15717,
    "start_time": "2023-06-10T21:35:59.412Z"
   },
   {
    "duration": 7,
    "start_time": "2023-06-10T21:37:10.403Z"
   },
   {
    "duration": 28,
    "start_time": "2023-06-10T21:37:59.931Z"
   },
   {
    "duration": 30,
    "start_time": "2023-06-10T21:38:12.374Z"
   },
   {
    "duration": 22,
    "start_time": "2023-06-10T21:46:56.613Z"
   },
   {
    "duration": 33,
    "start_time": "2023-06-10T21:55:54.310Z"
   },
   {
    "duration": 11,
    "start_time": "2023-06-10T21:55:55.467Z"
   },
   {
    "duration": 10,
    "start_time": "2023-06-10T21:58:58.692Z"
   },
   {
    "duration": 2083,
    "start_time": "2023-06-10T21:59:06.904Z"
   },
   {
    "duration": 95,
    "start_time": "2023-06-10T21:59:08.988Z"
   },
   {
    "duration": 66025,
    "start_time": "2023-06-10T21:59:14.704Z"
   },
   {
    "duration": 478,
    "start_time": "2023-06-10T22:00:20.731Z"
   },
   {
    "duration": 66898,
    "start_time": "2023-06-10T22:00:44.963Z"
   },
   {
    "duration": 53251,
    "start_time": "2023-06-10T22:02:04.215Z"
   },
   {
    "duration": 152305,
    "start_time": "2023-06-10T22:03:21.317Z"
   },
   {
    "duration": 635,
    "start_time": "2023-06-10T22:07:40.509Z"
   },
   {
    "duration": 0,
    "start_time": "2023-06-10T22:09:08.941Z"
   },
   {
    "duration": 0,
    "start_time": "2023-06-10T22:09:08.942Z"
   },
   {
    "duration": 1271,
    "start_time": "2023-06-10T22:09:15.574Z"
   },
   {
    "duration": 750,
    "start_time": "2023-06-10T22:09:16.847Z"
   },
   {
    "duration": 12,
    "start_time": "2023-06-10T22:09:17.599Z"
   },
   {
    "duration": 128,
    "start_time": "2023-06-10T22:09:17.616Z"
   },
   {
    "duration": 93,
    "start_time": "2023-06-10T22:09:17.746Z"
   },
   {
    "duration": 92,
    "start_time": "2023-06-10T22:09:17.840Z"
   },
   {
    "duration": 25,
    "start_time": "2023-06-10T22:09:17.934Z"
   },
   {
    "duration": 10,
    "start_time": "2023-06-10T22:09:17.961Z"
   },
   {
    "duration": 44,
    "start_time": "2023-06-10T22:09:17.972Z"
   },
   {
    "duration": 32,
    "start_time": "2023-06-10T22:09:18.018Z"
   },
   {
    "duration": 36,
    "start_time": "2023-06-10T22:09:18.051Z"
   },
   {
    "duration": 1116,
    "start_time": "2023-06-10T22:09:18.089Z"
   },
   {
    "duration": 405,
    "start_time": "2023-06-10T22:09:19.206Z"
   },
   {
    "duration": 47846,
    "start_time": "2023-06-10T22:09:19.615Z"
   },
   {
    "duration": 4,
    "start_time": "2023-06-10T22:10:07.463Z"
   },
   {
    "duration": 22,
    "start_time": "2023-06-10T22:10:07.468Z"
   },
   {
    "duration": 634,
    "start_time": "2023-06-10T22:10:07.492Z"
   },
   {
    "duration": 60,
    "start_time": "2023-06-10T22:10:08.128Z"
   },
   {
    "duration": 48,
    "start_time": "2023-06-10T22:10:08.190Z"
   },
   {
    "duration": 116,
    "start_time": "2023-06-10T22:10:08.239Z"
   },
   {
    "duration": 0,
    "start_time": "2023-06-10T22:10:08.357Z"
   },
   {
    "duration": 3,
    "start_time": "2023-06-10T22:10:49.567Z"
   },
   {
    "duration": 0,
    "start_time": "2023-06-10T22:11:26.284Z"
   },
   {
    "duration": 0,
    "start_time": "2023-06-10T22:11:26.285Z"
   },
   {
    "duration": 3,
    "start_time": "2023-06-10T22:11:28.083Z"
   },
   {
    "duration": 10065,
    "start_time": "2023-06-10T22:11:28.315Z"
   },
   {
    "duration": 0,
    "start_time": "2023-06-10T22:11:38.382Z"
   },
   {
    "duration": 24642,
    "start_time": "2023-06-10T22:11:45.256Z"
   },
   {
    "duration": 24051,
    "start_time": "2023-06-10T22:12:17.174Z"
   },
   {
    "duration": 14,
    "start_time": "2023-06-10T22:12:58.036Z"
   },
   {
    "duration": 49654,
    "start_time": "2023-06-10T22:13:26.230Z"
   },
   {
    "duration": 147165,
    "start_time": "2023-06-10T22:14:49.721Z"
   },
   {
    "duration": 63,
    "start_time": "2023-06-10T22:18:03.999Z"
   },
   {
    "duration": 145458,
    "start_time": "2023-06-10T22:18:12.097Z"
   },
   {
    "duration": 863,
    "start_time": "2023-06-10T22:23:29.860Z"
   },
   {
    "duration": 282,
    "start_time": "2023-06-10T22:24:06.216Z"
   },
   {
    "duration": 3,
    "start_time": "2023-06-10T22:33:37.458Z"
   },
   {
    "duration": 7,
    "start_time": "2023-06-10T22:34:24.882Z"
   },
   {
    "duration": 52,
    "start_time": "2023-06-10T22:34:36.192Z"
   },
   {
    "duration": 17,
    "start_time": "2023-06-10T22:34:40.632Z"
   },
   {
    "duration": 11,
    "start_time": "2023-06-10T22:35:04.499Z"
   },
   {
    "duration": 1419,
    "start_time": "2023-06-10T22:35:31.391Z"
   },
   {
    "duration": 733,
    "start_time": "2023-06-10T22:35:32.812Z"
   },
   {
    "duration": 11,
    "start_time": "2023-06-10T22:35:33.546Z"
   },
   {
    "duration": 129,
    "start_time": "2023-06-10T22:35:33.558Z"
   },
   {
    "duration": 90,
    "start_time": "2023-06-10T22:35:33.689Z"
   },
   {
    "duration": 88,
    "start_time": "2023-06-10T22:35:33.780Z"
   },
   {
    "duration": 30,
    "start_time": "2023-06-10T22:35:33.870Z"
   },
   {
    "duration": 17,
    "start_time": "2023-06-10T22:35:33.901Z"
   },
   {
    "duration": 29,
    "start_time": "2023-06-10T22:35:33.920Z"
   },
   {
    "duration": 33,
    "start_time": "2023-06-10T22:35:33.950Z"
   },
   {
    "duration": 46,
    "start_time": "2023-06-10T22:35:33.984Z"
   },
   {
    "duration": 1089,
    "start_time": "2023-06-10T22:35:34.032Z"
   },
   {
    "duration": 445,
    "start_time": "2023-06-10T22:35:35.122Z"
   },
   {
    "duration": 47137,
    "start_time": "2023-06-10T22:35:35.570Z"
   },
   {
    "duration": 9,
    "start_time": "2023-06-10T22:36:22.708Z"
   },
   {
    "duration": 14,
    "start_time": "2023-06-10T22:36:22.718Z"
   },
   {
    "duration": 544,
    "start_time": "2023-06-10T22:36:22.733Z"
   },
   {
    "duration": 58,
    "start_time": "2023-06-10T22:36:23.279Z"
   },
   {
    "duration": 33,
    "start_time": "2023-06-10T22:36:23.338Z"
   },
   {
    "duration": 3,
    "start_time": "2023-06-10T22:36:23.373Z"
   },
   {
    "duration": 143562,
    "start_time": "2023-06-10T22:36:23.377Z"
   },
   {
    "duration": 298,
    "start_time": "2023-06-10T22:38:46.941Z"
   },
   {
    "duration": 3,
    "start_time": "2023-06-10T22:38:47.241Z"
   },
   {
    "duration": 121,
    "start_time": "2023-06-10T22:38:47.246Z"
   },
   {
    "duration": 11,
    "start_time": "2023-06-10T22:42:19.425Z"
   },
   {
    "duration": 3,
    "start_time": "2023-06-10T22:43:42.309Z"
   },
   {
    "duration": 2,
    "start_time": "2023-06-10T22:43:42.494Z"
   },
   {
    "duration": 20,
    "start_time": "2023-06-10T22:43:42.721Z"
   },
   {
    "duration": 3,
    "start_time": "2023-06-10T22:48:53.390Z"
   },
   {
    "duration": 3,
    "start_time": "2023-06-10T22:49:06.732Z"
   },
   {
    "duration": 8,
    "start_time": "2023-06-10T22:49:22.938Z"
   },
   {
    "duration": 23,
    "start_time": "2023-06-10T22:49:48.140Z"
   },
   {
    "duration": 60,
    "start_time": "2023-06-10T23:04:09.412Z"
   },
   {
    "duration": 3,
    "start_time": "2023-06-10T23:04:20.806Z"
   },
   {
    "duration": 3,
    "start_time": "2023-06-10T23:04:21.883Z"
   },
   {
    "duration": 17,
    "start_time": "2023-06-10T23:04:23.153Z"
   },
   {
    "duration": 276,
    "start_time": "2023-06-10T23:12:18.280Z"
   },
   {
    "duration": 9,
    "start_time": "2023-06-10T23:12:18.557Z"
   },
   {
    "duration": 8,
    "start_time": "2023-06-10T23:12:35.824Z"
   },
   {
    "duration": 2,
    "start_time": "2023-06-10T23:12:54.191Z"
   },
   {
    "duration": 19,
    "start_time": "2023-06-10T23:12:59.283Z"
   },
   {
    "duration": 15,
    "start_time": "2023-06-10T23:14:49.893Z"
   },
   {
    "duration": 76,
    "start_time": "2023-06-10T23:27:37.858Z"
   },
   {
    "duration": 1245,
    "start_time": "2023-06-10T23:27:42.680Z"
   },
   {
    "duration": 699,
    "start_time": "2023-06-10T23:27:43.927Z"
   },
   {
    "duration": 10,
    "start_time": "2023-06-10T23:27:44.627Z"
   },
   {
    "duration": 115,
    "start_time": "2023-06-10T23:27:44.638Z"
   },
   {
    "duration": 88,
    "start_time": "2023-06-10T23:27:44.755Z"
   },
   {
    "duration": 81,
    "start_time": "2023-06-10T23:27:44.845Z"
   },
   {
    "duration": 24,
    "start_time": "2023-06-10T23:27:44.928Z"
   },
   {
    "duration": 8,
    "start_time": "2023-06-10T23:27:44.954Z"
   },
   {
    "duration": 25,
    "start_time": "2023-06-10T23:27:44.963Z"
   },
   {
    "duration": 54,
    "start_time": "2023-06-10T23:27:44.989Z"
   },
   {
    "duration": 33,
    "start_time": "2023-06-10T23:27:45.044Z"
   },
   {
    "duration": 1052,
    "start_time": "2023-06-10T23:27:45.079Z"
   },
   {
    "duration": 403,
    "start_time": "2023-06-10T23:27:46.132Z"
   },
   {
    "duration": 45376,
    "start_time": "2023-06-10T23:27:46.537Z"
   },
   {
    "duration": 4,
    "start_time": "2023-06-10T23:28:31.915Z"
   },
   {
    "duration": 22,
    "start_time": "2023-06-10T23:28:31.920Z"
   },
   {
    "duration": 580,
    "start_time": "2023-06-10T23:28:31.943Z"
   },
   {
    "duration": 170,
    "start_time": "2023-06-10T23:28:32.524Z"
   },
   {
    "duration": 27,
    "start_time": "2023-06-10T23:28:32.695Z"
   },
   {
    "duration": 5,
    "start_time": "2023-06-10T23:28:32.724Z"
   },
   {
    "duration": 147174,
    "start_time": "2023-06-10T23:28:32.730Z"
   },
   {
    "duration": 315,
    "start_time": "2023-06-10T23:30:59.906Z"
   },
   {
    "duration": 3,
    "start_time": "2023-06-10T23:31:00.222Z"
   },
   {
    "duration": 54,
    "start_time": "2023-06-10T23:31:00.227Z"
   },
   {
    "duration": 2,
    "start_time": "2023-06-10T23:31:41.616Z"
   },
   {
    "duration": 65,
    "start_time": "2023-06-10T23:31:42.413Z"
   },
   {
    "duration": 3,
    "start_time": "2023-06-10T23:33:41.791Z"
   },
   {
    "duration": 3,
    "start_time": "2023-06-10T23:34:32.192Z"
   },
   {
    "duration": 3639,
    "start_time": "2023-06-10T23:34:32.683Z"
   },
   {
    "duration": 2587,
    "start_time": "2023-06-10T23:35:08.538Z"
   },
   {
    "duration": 3,
    "start_time": "2023-06-10T23:35:25.036Z"
   },
   {
    "duration": 3,
    "start_time": "2023-06-10T23:35:25.230Z"
   },
   {
    "duration": 4455,
    "start_time": "2023-06-10T23:35:26.062Z"
   },
   {
    "duration": 2981,
    "start_time": "2023-06-10T23:35:54.143Z"
   },
   {
    "duration": 2,
    "start_time": "2023-06-10T23:36:04.289Z"
   },
   {
    "duration": 3,
    "start_time": "2023-06-10T23:36:04.729Z"
   },
   {
    "duration": 3498,
    "start_time": "2023-06-10T23:36:05.319Z"
   },
   {
    "duration": 3,
    "start_time": "2023-06-10T23:36:24.338Z"
   },
   {
    "duration": 3,
    "start_time": "2023-06-10T23:36:25.997Z"
   },
   {
    "duration": 4644,
    "start_time": "2023-06-10T23:36:26.172Z"
   },
   {
    "duration": 3,
    "start_time": "2023-06-10T23:41:53.881Z"
   },
   {
    "duration": 3,
    "start_time": "2023-06-10T23:41:54.080Z"
   },
   {
    "duration": 3269,
    "start_time": "2023-06-10T23:41:54.255Z"
   },
   {
    "duration": 3,
    "start_time": "2023-06-10T23:42:45.415Z"
   },
   {
    "duration": 3,
    "start_time": "2023-06-10T23:42:45.600Z"
   },
   {
    "duration": 2301,
    "start_time": "2023-06-10T23:42:45.823Z"
   },
   {
    "duration": 3,
    "start_time": "2023-06-10T23:42:56.662Z"
   },
   {
    "duration": 3,
    "start_time": "2023-06-10T23:42:56.843Z"
   },
   {
    "duration": 2803,
    "start_time": "2023-06-10T23:42:57.019Z"
   },
   {
    "duration": 3,
    "start_time": "2023-06-10T23:43:08.075Z"
   },
   {
    "duration": 2,
    "start_time": "2023-06-10T23:43:08.303Z"
   },
   {
    "duration": 3126,
    "start_time": "2023-06-10T23:43:08.897Z"
   },
   {
    "duration": 3,
    "start_time": "2023-06-10T23:43:21.644Z"
   },
   {
    "duration": 3,
    "start_time": "2023-06-10T23:43:21.898Z"
   },
   {
    "duration": 3247,
    "start_time": "2023-06-10T23:43:22.069Z"
   },
   {
    "duration": 2,
    "start_time": "2023-06-10T23:43:32.190Z"
   },
   {
    "duration": 3,
    "start_time": "2023-06-10T23:43:32.350Z"
   },
   {
    "duration": 3098,
    "start_time": "2023-06-10T23:43:32.526Z"
   },
   {
    "duration": 518,
    "start_time": "2023-06-10T23:44:07.707Z"
   },
   {
    "duration": 1273,
    "start_time": "2023-06-10T23:44:11.172Z"
   },
   {
    "duration": 724,
    "start_time": "2023-06-10T23:44:12.447Z"
   },
   {
    "duration": 11,
    "start_time": "2023-06-10T23:44:13.173Z"
   },
   {
    "duration": 120,
    "start_time": "2023-06-10T23:44:13.186Z"
   },
   {
    "duration": 84,
    "start_time": "2023-06-10T23:44:13.308Z"
   },
   {
    "duration": 85,
    "start_time": "2023-06-10T23:44:13.394Z"
   },
   {
    "duration": 24,
    "start_time": "2023-06-10T23:44:13.480Z"
   },
   {
    "duration": 13,
    "start_time": "2023-06-10T23:44:13.506Z"
   },
   {
    "duration": 46,
    "start_time": "2023-06-10T23:44:13.520Z"
   },
   {
    "duration": 47,
    "start_time": "2023-06-10T23:44:13.568Z"
   },
   {
    "duration": 30,
    "start_time": "2023-06-10T23:44:13.617Z"
   },
   {
    "duration": 1053,
    "start_time": "2023-06-10T23:44:13.649Z"
   },
   {
    "duration": 406,
    "start_time": "2023-06-10T23:44:14.703Z"
   },
   {
    "duration": 47956,
    "start_time": "2023-06-10T23:44:15.111Z"
   },
   {
    "duration": 4,
    "start_time": "2023-06-10T23:45:03.068Z"
   },
   {
    "duration": 27,
    "start_time": "2023-06-10T23:45:03.073Z"
   },
   {
    "duration": 601,
    "start_time": "2023-06-10T23:45:03.101Z"
   },
   {
    "duration": 59,
    "start_time": "2023-06-10T23:45:03.704Z"
   },
   {
    "duration": 27,
    "start_time": "2023-06-10T23:45:03.764Z"
   },
   {
    "duration": 29,
    "start_time": "2023-06-10T23:45:03.792Z"
   },
   {
    "duration": 151442,
    "start_time": "2023-06-10T23:45:03.822Z"
   },
   {
    "duration": 316,
    "start_time": "2023-06-10T23:47:35.265Z"
   },
   {
    "duration": 3,
    "start_time": "2023-06-10T23:47:35.582Z"
   },
   {
    "duration": 20,
    "start_time": "2023-06-10T23:47:35.586Z"
   },
   {
    "duration": 37,
    "start_time": "2023-06-10T23:47:35.608Z"
   },
   {
    "duration": 3272,
    "start_time": "2023-06-10T23:47:35.646Z"
   },
   {
    "duration": 1104,
    "start_time": "2023-06-10T23:55:38.768Z"
   },
   {
    "duration": 51504,
    "start_time": "2023-06-11T00:00:24.136Z"
   },
   {
    "duration": 605,
    "start_time": "2023-06-11T00:02:09.351Z"
   },
   {
    "duration": 599,
    "start_time": "2023-06-11T00:02:36.923Z"
   },
   {
    "duration": 3,
    "start_time": "2023-06-11T00:04:10.379Z"
   },
   {
    "duration": 3,
    "start_time": "2023-06-11T00:04:54.243Z"
   },
   {
    "duration": 301,
    "start_time": "2023-06-11T00:05:06.392Z"
   },
   {
    "duration": 152710,
    "start_time": "2023-06-11T00:05:20.289Z"
   },
   {
    "duration": 304,
    "start_time": "2023-06-11T00:07:53.000Z"
   },
   {
    "duration": 879,
    "start_time": "2023-06-11T00:11:08.890Z"
   },
   {
    "duration": 893,
    "start_time": "2023-06-11T00:20:28.154Z"
   },
   {
    "duration": 3200,
    "start_time": "2023-06-11T00:21:44.698Z"
   },
   {
    "duration": 3722,
    "start_time": "2023-06-11T00:22:06.817Z"
   },
   {
    "duration": 2672,
    "start_time": "2023-06-11T00:22:23.482Z"
   },
   {
    "duration": 1759,
    "start_time": "2023-06-14T07:30:56.359Z"
   },
   {
    "duration": 3239,
    "start_time": "2023-06-14T07:30:58.121Z"
   },
   {
    "duration": 15,
    "start_time": "2023-06-14T07:31:01.362Z"
   },
   {
    "duration": 403,
    "start_time": "2023-06-14T07:31:01.380Z"
   },
   {
    "duration": 685,
    "start_time": "2023-06-14T07:31:01.785Z"
   },
   {
    "duration": 105,
    "start_time": "2023-06-14T07:31:02.472Z"
   },
   {
    "duration": 57,
    "start_time": "2023-06-14T07:31:02.579Z"
   },
   {
    "duration": 220,
    "start_time": "2023-06-14T07:31:02.637Z"
   },
   {
    "duration": 83,
    "start_time": "2023-06-14T07:31:02.859Z"
   },
   {
    "duration": 48,
    "start_time": "2023-06-14T07:31:02.946Z"
   },
   {
    "duration": 62,
    "start_time": "2023-06-14T07:31:02.996Z"
   },
   {
    "duration": 2064,
    "start_time": "2023-06-14T07:31:03.059Z"
   },
   {
    "duration": 992,
    "start_time": "2023-06-14T07:31:05.126Z"
   },
   {
    "duration": 69193,
    "start_time": "2023-06-14T07:31:06.120Z"
   },
   {
    "duration": 12,
    "start_time": "2023-06-14T07:32:15.315Z"
   },
   {
    "duration": 23,
    "start_time": "2023-06-14T07:32:15.330Z"
   },
   {
    "duration": 899,
    "start_time": "2023-06-14T07:32:15.355Z"
   },
   {
    "duration": 78,
    "start_time": "2023-06-14T07:32:16.256Z"
   },
   {
    "duration": 41,
    "start_time": "2023-06-14T07:32:16.338Z"
   },
   {
    "duration": 4,
    "start_time": "2023-06-14T07:32:16.380Z"
   },
   {
    "duration": 268,
    "start_time": "2023-06-14T07:32:16.386Z"
   },
   {
    "duration": 111,
    "start_time": "2023-06-14T07:32:16.656Z"
   },
   {
    "duration": 4,
    "start_time": "2023-06-14T07:32:16.769Z"
   },
   {
    "duration": 8,
    "start_time": "2023-06-14T07:32:16.775Z"
   },
   {
    "duration": 10,
    "start_time": "2023-06-14T07:32:16.785Z"
   },
   {
    "duration": 93387,
    "start_time": "2023-06-14T07:32:16.797Z"
   },
   {
    "duration": 109,
    "start_time": "2023-06-14T07:33:50.186Z"
   },
   {
    "duration": 32099,
    "start_time": "2023-06-14T07:33:50.298Z"
   },
   {
    "duration": 1976,
    "start_time": "2023-06-14T07:43:39.313Z"
   },
   {
    "duration": 1080,
    "start_time": "2023-06-14T07:43:41.291Z"
   },
   {
    "duration": 16,
    "start_time": "2023-06-14T07:43:42.373Z"
   },
   {
    "duration": 224,
    "start_time": "2023-06-14T07:43:42.391Z"
   },
   {
    "duration": 130,
    "start_time": "2023-06-14T07:43:42.618Z"
   },
   {
    "duration": 100,
    "start_time": "2023-06-14T07:43:42.756Z"
   },
   {
    "duration": 34,
    "start_time": "2023-06-14T07:43:42.857Z"
   },
   {
    "duration": 14,
    "start_time": "2023-06-14T07:43:42.892Z"
   },
   {
    "duration": 88,
    "start_time": "2023-06-14T07:43:42.907Z"
   },
   {
    "duration": 43,
    "start_time": "2023-06-14T07:43:42.996Z"
   },
   {
    "duration": 53,
    "start_time": "2023-06-14T07:43:43.049Z"
   },
   {
    "duration": 135,
    "start_time": "2023-06-14T07:43:43.103Z"
   },
   {
    "duration": 0,
    "start_time": "2023-06-14T07:43:43.244Z"
   },
   {
    "duration": 0,
    "start_time": "2023-06-14T07:43:43.247Z"
   },
   {
    "duration": 0,
    "start_time": "2023-06-14T07:43:43.250Z"
   },
   {
    "duration": 0,
    "start_time": "2023-06-14T07:43:43.253Z"
   },
   {
    "duration": 0,
    "start_time": "2023-06-14T07:43:43.254Z"
   },
   {
    "duration": 0,
    "start_time": "2023-06-14T07:43:43.256Z"
   },
   {
    "duration": 0,
    "start_time": "2023-06-14T07:43:43.258Z"
   },
   {
    "duration": 0,
    "start_time": "2023-06-14T07:43:43.259Z"
   },
   {
    "duration": 0,
    "start_time": "2023-06-14T07:43:43.260Z"
   },
   {
    "duration": 0,
    "start_time": "2023-06-14T07:43:43.262Z"
   },
   {
    "duration": 0,
    "start_time": "2023-06-14T07:43:43.263Z"
   },
   {
    "duration": 0,
    "start_time": "2023-06-14T07:43:43.264Z"
   },
   {
    "duration": 0,
    "start_time": "2023-06-14T07:43:43.266Z"
   },
   {
    "duration": 0,
    "start_time": "2023-06-14T07:43:43.267Z"
   },
   {
    "duration": 0,
    "start_time": "2023-06-14T07:43:43.269Z"
   },
   {
    "duration": 2351,
    "start_time": "2023-06-14T07:44:20.330Z"
   },
   {
    "duration": 1018,
    "start_time": "2023-06-14T07:44:22.684Z"
   },
   {
    "duration": 25,
    "start_time": "2023-06-14T07:44:23.704Z"
   },
   {
    "duration": 236,
    "start_time": "2023-06-14T07:44:23.737Z"
   },
   {
    "duration": 139,
    "start_time": "2023-06-14T07:44:23.976Z"
   },
   {
    "duration": 106,
    "start_time": "2023-06-14T07:44:24.117Z"
   },
   {
    "duration": 47,
    "start_time": "2023-06-14T07:44:24.227Z"
   },
   {
    "duration": 25,
    "start_time": "2023-06-14T07:44:24.276Z"
   },
   {
    "duration": 62,
    "start_time": "2023-06-14T07:44:24.303Z"
   },
   {
    "duration": 43,
    "start_time": "2023-06-14T07:44:24.368Z"
   },
   {
    "duration": 77,
    "start_time": "2023-06-14T07:44:24.414Z"
   },
   {
    "duration": 160,
    "start_time": "2023-06-14T07:44:24.493Z"
   },
   {
    "duration": 0,
    "start_time": "2023-06-14T07:44:24.656Z"
   },
   {
    "duration": 0,
    "start_time": "2023-06-14T07:44:24.657Z"
   },
   {
    "duration": 0,
    "start_time": "2023-06-14T07:44:24.659Z"
   },
   {
    "duration": 0,
    "start_time": "2023-06-14T07:44:24.660Z"
   },
   {
    "duration": 0,
    "start_time": "2023-06-14T07:44:24.662Z"
   },
   {
    "duration": 0,
    "start_time": "2023-06-14T07:44:24.663Z"
   },
   {
    "duration": 0,
    "start_time": "2023-06-14T07:44:24.665Z"
   },
   {
    "duration": 0,
    "start_time": "2023-06-14T07:44:24.667Z"
   },
   {
    "duration": 0,
    "start_time": "2023-06-14T07:44:24.669Z"
   },
   {
    "duration": 0,
    "start_time": "2023-06-14T07:44:24.670Z"
   },
   {
    "duration": 0,
    "start_time": "2023-06-14T07:44:24.671Z"
   },
   {
    "duration": 0,
    "start_time": "2023-06-14T07:44:24.673Z"
   },
   {
    "duration": 0,
    "start_time": "2023-06-14T07:44:24.675Z"
   },
   {
    "duration": 0,
    "start_time": "2023-06-14T07:44:24.676Z"
   },
   {
    "duration": 0,
    "start_time": "2023-06-14T07:44:24.678Z"
   },
   {
    "duration": 2234,
    "start_time": "2023-06-14T07:45:09.943Z"
   },
   {
    "duration": 1108,
    "start_time": "2023-06-14T07:45:12.180Z"
   },
   {
    "duration": 35,
    "start_time": "2023-06-14T07:45:13.290Z"
   },
   {
    "duration": 233,
    "start_time": "2023-06-14T07:45:13.327Z"
   },
   {
    "duration": 116,
    "start_time": "2023-06-14T07:45:13.563Z"
   },
   {
    "duration": 107,
    "start_time": "2023-06-14T07:45:13.681Z"
   },
   {
    "duration": 69,
    "start_time": "2023-06-14T07:45:13.790Z"
   },
   {
    "duration": 15,
    "start_time": "2023-06-14T07:45:13.861Z"
   },
   {
    "duration": 55,
    "start_time": "2023-06-14T07:45:13.878Z"
   },
   {
    "duration": 52,
    "start_time": "2023-06-14T07:45:13.937Z"
   },
   {
    "duration": 67,
    "start_time": "2023-06-14T07:45:13.991Z"
   },
   {
    "duration": 177,
    "start_time": "2023-06-14T07:45:14.060Z"
   },
   {
    "duration": 0,
    "start_time": "2023-06-14T07:45:14.241Z"
   },
   {
    "duration": 0,
    "start_time": "2023-06-14T07:45:14.242Z"
   },
   {
    "duration": 0,
    "start_time": "2023-06-14T07:45:14.243Z"
   },
   {
    "duration": 0,
    "start_time": "2023-06-14T07:45:14.243Z"
   },
   {
    "duration": 0,
    "start_time": "2023-06-14T07:45:14.244Z"
   },
   {
    "duration": 0,
    "start_time": "2023-06-14T07:45:14.251Z"
   },
   {
    "duration": 0,
    "start_time": "2023-06-14T07:45:14.254Z"
   },
   {
    "duration": 0,
    "start_time": "2023-06-14T07:45:14.255Z"
   },
   {
    "duration": 0,
    "start_time": "2023-06-14T07:45:14.258Z"
   },
   {
    "duration": 0,
    "start_time": "2023-06-14T07:45:14.259Z"
   },
   {
    "duration": 0,
    "start_time": "2023-06-14T07:45:14.263Z"
   },
   {
    "duration": 0,
    "start_time": "2023-06-14T07:45:14.265Z"
   },
   {
    "duration": 0,
    "start_time": "2023-06-14T07:45:14.267Z"
   },
   {
    "duration": 0,
    "start_time": "2023-06-14T07:45:14.268Z"
   },
   {
    "duration": 0,
    "start_time": "2023-06-14T07:45:14.270Z"
   },
   {
    "duration": 183,
    "start_time": "2023-06-14T07:46:12.349Z"
   },
   {
    "duration": 864,
    "start_time": "2023-06-14T07:46:14.875Z"
   },
   {
    "duration": 35,
    "start_time": "2023-06-14T07:46:32.700Z"
   },
   {
    "duration": 106,
    "start_time": "2023-06-14T07:49:45.920Z"
   },
   {
    "duration": 72,
    "start_time": "2023-06-14T07:51:14.614Z"
   },
   {
    "duration": 109,
    "start_time": "2023-06-14T07:51:28.411Z"
   },
   {
    "duration": 881,
    "start_time": "2023-06-14T07:52:36.878Z"
   },
   {
    "duration": 1730,
    "start_time": "2023-06-14T07:53:06.921Z"
   },
   {
    "duration": 951,
    "start_time": "2023-06-14T07:53:08.653Z"
   },
   {
    "duration": 24,
    "start_time": "2023-06-14T07:53:09.606Z"
   },
   {
    "duration": 238,
    "start_time": "2023-06-14T07:53:09.638Z"
   },
   {
    "duration": 166,
    "start_time": "2023-06-14T07:53:09.879Z"
   },
   {
    "duration": 99,
    "start_time": "2023-06-14T07:53:10.051Z"
   },
   {
    "duration": 34,
    "start_time": "2023-06-14T07:53:10.152Z"
   },
   {
    "duration": 29,
    "start_time": "2023-06-14T07:53:10.188Z"
   },
   {
    "duration": 54,
    "start_time": "2023-06-14T07:53:10.219Z"
   },
   {
    "duration": 65,
    "start_time": "2023-06-14T07:53:10.276Z"
   },
   {
    "duration": 68,
    "start_time": "2023-06-14T07:53:10.344Z"
   },
   {
    "duration": 134,
    "start_time": "2023-06-14T07:53:10.413Z"
   },
   {
    "duration": 895,
    "start_time": "2023-06-14T07:53:10.549Z"
   },
   {
    "duration": 145,
    "start_time": "2023-06-14T07:53:11.448Z"
   },
   {
    "duration": 0,
    "start_time": "2023-06-14T07:53:11.595Z"
   },
   {
    "duration": 0,
    "start_time": "2023-06-14T07:53:11.596Z"
   },
   {
    "duration": 0,
    "start_time": "2023-06-14T07:53:11.597Z"
   },
   {
    "duration": 0,
    "start_time": "2023-06-14T07:53:11.598Z"
   },
   {
    "duration": 0,
    "start_time": "2023-06-14T07:53:11.599Z"
   },
   {
    "duration": 0,
    "start_time": "2023-06-14T07:53:11.600Z"
   },
   {
    "duration": 0,
    "start_time": "2023-06-14T07:53:11.601Z"
   },
   {
    "duration": 0,
    "start_time": "2023-06-14T07:53:11.602Z"
   },
   {
    "duration": 0,
    "start_time": "2023-06-14T07:53:11.603Z"
   },
   {
    "duration": 0,
    "start_time": "2023-06-14T07:53:11.604Z"
   },
   {
    "duration": 0,
    "start_time": "2023-06-14T07:53:11.629Z"
   },
   {
    "duration": 0,
    "start_time": "2023-06-14T07:53:11.630Z"
   },
   {
    "duration": 0,
    "start_time": "2023-06-14T07:53:11.630Z"
   },
   {
    "duration": 114,
    "start_time": "2023-06-14T07:57:36.004Z"
   },
   {
    "duration": 122,
    "start_time": "2023-06-14T07:57:46.613Z"
   },
   {
    "duration": 13,
    "start_time": "2023-06-14T07:59:20.705Z"
   },
   {
    "duration": 1130,
    "start_time": "2023-06-14T07:59:42.197Z"
   },
   {
    "duration": 20,
    "start_time": "2023-06-14T07:59:59.064Z"
   },
   {
    "duration": 1603,
    "start_time": "2023-06-14T08:00:28.373Z"
   },
   {
    "duration": 970,
    "start_time": "2023-06-14T08:00:29.978Z"
   },
   {
    "duration": 13,
    "start_time": "2023-06-14T08:00:30.950Z"
   },
   {
    "duration": 227,
    "start_time": "2023-06-14T08:00:30.966Z"
   },
   {
    "duration": 105,
    "start_time": "2023-06-14T08:00:31.196Z"
   },
   {
    "duration": 95,
    "start_time": "2023-06-14T08:00:31.302Z"
   },
   {
    "duration": 59,
    "start_time": "2023-06-14T08:00:31.399Z"
   },
   {
    "duration": 40,
    "start_time": "2023-06-14T08:00:31.460Z"
   },
   {
    "duration": 72,
    "start_time": "2023-06-14T08:00:31.503Z"
   },
   {
    "duration": 67,
    "start_time": "2023-06-14T08:00:31.577Z"
   },
   {
    "duration": 62,
    "start_time": "2023-06-14T08:00:31.646Z"
   },
   {
    "duration": 176,
    "start_time": "2023-06-14T08:00:31.710Z"
   },
   {
    "duration": 871,
    "start_time": "2023-06-14T08:00:31.889Z"
   },
   {
    "duration": 122,
    "start_time": "2023-06-14T08:00:32.763Z"
   },
   {
    "duration": 0,
    "start_time": "2023-06-14T08:00:32.887Z"
   },
   {
    "duration": 0,
    "start_time": "2023-06-14T08:00:32.888Z"
   },
   {
    "duration": 0,
    "start_time": "2023-06-14T08:00:32.889Z"
   },
   {
    "duration": 0,
    "start_time": "2023-06-14T08:00:32.891Z"
   },
   {
    "duration": 0,
    "start_time": "2023-06-14T08:00:32.892Z"
   },
   {
    "duration": 0,
    "start_time": "2023-06-14T08:00:32.893Z"
   },
   {
    "duration": 0,
    "start_time": "2023-06-14T08:00:32.894Z"
   },
   {
    "duration": 0,
    "start_time": "2023-06-14T08:00:32.895Z"
   },
   {
    "duration": 0,
    "start_time": "2023-06-14T08:00:32.896Z"
   },
   {
    "duration": 0,
    "start_time": "2023-06-14T08:00:32.897Z"
   },
   {
    "duration": 0,
    "start_time": "2023-06-14T08:00:32.899Z"
   },
   {
    "duration": 0,
    "start_time": "2023-06-14T08:00:32.900Z"
   },
   {
    "duration": 0,
    "start_time": "2023-06-14T08:00:32.926Z"
   },
   {
    "duration": 18,
    "start_time": "2023-06-14T08:00:52.575Z"
   },
   {
    "duration": 20,
    "start_time": "2023-06-14T08:01:56.315Z"
   },
   {
    "duration": 2594,
    "start_time": "2023-06-14T08:03:55.430Z"
   },
   {
    "duration": 12,
    "start_time": "2023-06-14T08:04:29.198Z"
   },
   {
    "duration": 10,
    "start_time": "2023-06-14T08:05:12.289Z"
   },
   {
    "duration": 736,
    "start_time": "2023-06-14T08:05:18.482Z"
   },
   {
    "duration": 2731,
    "start_time": "2023-06-14T08:06:13.278Z"
   },
   {
    "duration": 1620,
    "start_time": "2023-06-14T08:34:29.641Z"
   },
   {
    "duration": 995,
    "start_time": "2023-06-14T08:34:31.263Z"
   },
   {
    "duration": 14,
    "start_time": "2023-06-14T08:34:32.259Z"
   },
   {
    "duration": 152,
    "start_time": "2023-06-14T08:34:32.275Z"
   },
   {
    "duration": 129,
    "start_time": "2023-06-14T08:34:32.431Z"
   },
   {
    "duration": 110,
    "start_time": "2023-06-14T08:34:32.562Z"
   },
   {
    "duration": 29,
    "start_time": "2023-06-14T08:34:32.674Z"
   },
   {
    "duration": 28,
    "start_time": "2023-06-14T08:34:32.705Z"
   },
   {
    "duration": 36,
    "start_time": "2023-06-14T08:34:32.735Z"
   },
   {
    "duration": 56,
    "start_time": "2023-06-14T08:34:32.773Z"
   },
   {
    "duration": 41,
    "start_time": "2023-06-14T08:34:32.831Z"
   },
   {
    "duration": 134,
    "start_time": "2023-06-14T08:34:32.873Z"
   },
   {
    "duration": 313,
    "start_time": "2023-06-14T08:34:33.008Z"
   },
   {
    "duration": 147,
    "start_time": "2023-06-14T08:34:33.324Z"
   },
   {
    "duration": 0,
    "start_time": "2023-06-14T08:34:33.473Z"
   },
   {
    "duration": 0,
    "start_time": "2023-06-14T08:34:33.475Z"
   },
   {
    "duration": 0,
    "start_time": "2023-06-14T08:34:33.476Z"
   },
   {
    "duration": 0,
    "start_time": "2023-06-14T08:34:33.477Z"
   },
   {
    "duration": 0,
    "start_time": "2023-06-14T08:34:33.479Z"
   },
   {
    "duration": 0,
    "start_time": "2023-06-14T08:34:33.481Z"
   },
   {
    "duration": 0,
    "start_time": "2023-06-14T08:34:33.482Z"
   },
   {
    "duration": 1,
    "start_time": "2023-06-14T08:34:33.483Z"
   },
   {
    "duration": 0,
    "start_time": "2023-06-14T08:34:33.485Z"
   },
   {
    "duration": 0,
    "start_time": "2023-06-14T08:34:33.487Z"
   },
   {
    "duration": 0,
    "start_time": "2023-06-14T08:34:33.488Z"
   },
   {
    "duration": 0,
    "start_time": "2023-06-14T08:34:33.490Z"
   },
   {
    "duration": 223,
    "start_time": "2023-06-14T08:34:55.669Z"
   },
   {
    "duration": 1603,
    "start_time": "2023-06-14T08:35:09.493Z"
   },
   {
    "duration": 907,
    "start_time": "2023-06-14T08:35:11.098Z"
   },
   {
    "duration": 20,
    "start_time": "2023-06-14T08:35:12.007Z"
   },
   {
    "duration": 187,
    "start_time": "2023-06-14T08:35:12.029Z"
   },
   {
    "duration": 112,
    "start_time": "2023-06-14T08:35:12.219Z"
   },
   {
    "duration": 107,
    "start_time": "2023-06-14T08:35:12.333Z"
   },
   {
    "duration": 32,
    "start_time": "2023-06-14T08:35:12.443Z"
   },
   {
    "duration": 18,
    "start_time": "2023-06-14T08:35:12.477Z"
   },
   {
    "duration": 62,
    "start_time": "2023-06-14T08:35:12.497Z"
   },
   {
    "duration": 40,
    "start_time": "2023-06-14T08:35:12.560Z"
   },
   {
    "duration": 89,
    "start_time": "2023-06-14T08:35:12.601Z"
   },
   {
    "duration": 174,
    "start_time": "2023-06-14T08:35:12.692Z"
   },
   {
    "duration": 266,
    "start_time": "2023-06-14T08:35:12.867Z"
   },
   {
    "duration": 130,
    "start_time": "2023-06-14T08:35:13.136Z"
   },
   {
    "duration": 0,
    "start_time": "2023-06-14T08:35:13.268Z"
   },
   {
    "duration": 0,
    "start_time": "2023-06-14T08:35:13.271Z"
   },
   {
    "duration": 0,
    "start_time": "2023-06-14T08:35:13.272Z"
   },
   {
    "duration": 0,
    "start_time": "2023-06-14T08:35:13.274Z"
   },
   {
    "duration": 0,
    "start_time": "2023-06-14T08:35:13.276Z"
   },
   {
    "duration": 0,
    "start_time": "2023-06-14T08:35:13.277Z"
   },
   {
    "duration": 0,
    "start_time": "2023-06-14T08:35:13.279Z"
   },
   {
    "duration": 0,
    "start_time": "2023-06-14T08:35:13.280Z"
   },
   {
    "duration": 0,
    "start_time": "2023-06-14T08:35:13.282Z"
   },
   {
    "duration": 0,
    "start_time": "2023-06-14T08:35:13.283Z"
   },
   {
    "duration": 0,
    "start_time": "2023-06-14T08:35:13.285Z"
   },
   {
    "duration": 0,
    "start_time": "2023-06-14T08:35:13.287Z"
   },
   {
    "duration": 244,
    "start_time": "2023-06-14T08:35:33.810Z"
   },
   {
    "duration": 1751,
    "start_time": "2023-06-14T08:35:37.584Z"
   },
   {
    "duration": 910,
    "start_time": "2023-06-14T08:35:39.338Z"
   },
   {
    "duration": 14,
    "start_time": "2023-06-14T08:35:40.250Z"
   },
   {
    "duration": 167,
    "start_time": "2023-06-14T08:35:40.266Z"
   },
   {
    "duration": 111,
    "start_time": "2023-06-14T08:35:40.439Z"
   },
   {
    "duration": 104,
    "start_time": "2023-06-14T08:35:40.551Z"
   },
   {
    "duration": 30,
    "start_time": "2023-06-14T08:35:40.657Z"
   },
   {
    "duration": 48,
    "start_time": "2023-06-14T08:35:40.688Z"
   },
   {
    "duration": 33,
    "start_time": "2023-06-14T08:35:40.738Z"
   },
   {
    "duration": 42,
    "start_time": "2023-06-14T08:35:40.772Z"
   },
   {
    "duration": 55,
    "start_time": "2023-06-14T08:35:40.816Z"
   },
   {
    "duration": 124,
    "start_time": "2023-06-14T08:35:40.873Z"
   },
   {
    "duration": 252,
    "start_time": "2023-06-14T08:35:40.998Z"
   },
   {
    "duration": 124,
    "start_time": "2023-06-14T08:35:41.253Z"
   },
   {
    "duration": 0,
    "start_time": "2023-06-14T08:35:41.379Z"
   },
   {
    "duration": 0,
    "start_time": "2023-06-14T08:35:41.380Z"
   },
   {
    "duration": 0,
    "start_time": "2023-06-14T08:35:41.380Z"
   },
   {
    "duration": 0,
    "start_time": "2023-06-14T08:35:41.382Z"
   },
   {
    "duration": 0,
    "start_time": "2023-06-14T08:35:41.383Z"
   },
   {
    "duration": 0,
    "start_time": "2023-06-14T08:35:41.384Z"
   },
   {
    "duration": 0,
    "start_time": "2023-06-14T08:35:41.385Z"
   },
   {
    "duration": 0,
    "start_time": "2023-06-14T08:35:41.386Z"
   },
   {
    "duration": 0,
    "start_time": "2023-06-14T08:35:41.387Z"
   },
   {
    "duration": 0,
    "start_time": "2023-06-14T08:35:41.389Z"
   },
   {
    "duration": 0,
    "start_time": "2023-06-14T08:35:41.389Z"
   },
   {
    "duration": 0,
    "start_time": "2023-06-14T08:35:41.391Z"
   },
   {
    "duration": 222,
    "start_time": "2023-06-14T08:36:00.363Z"
   },
   {
    "duration": 11,
    "start_time": "2023-06-14T08:36:01.508Z"
   },
   {
    "duration": 220,
    "start_time": "2023-06-14T08:36:16.413Z"
   },
   {
    "duration": 1509,
    "start_time": "2023-06-14T08:36:21.341Z"
   },
   {
    "duration": 895,
    "start_time": "2023-06-14T08:36:22.852Z"
   },
   {
    "duration": 14,
    "start_time": "2023-06-14T08:36:23.749Z"
   },
   {
    "duration": 140,
    "start_time": "2023-06-14T08:36:23.764Z"
   },
   {
    "duration": 108,
    "start_time": "2023-06-14T08:36:23.908Z"
   },
   {
    "duration": 102,
    "start_time": "2023-06-14T08:36:24.024Z"
   },
   {
    "duration": 31,
    "start_time": "2023-06-14T08:36:24.128Z"
   },
   {
    "duration": 9,
    "start_time": "2023-06-14T08:36:24.161Z"
   },
   {
    "duration": 36,
    "start_time": "2023-06-14T08:36:24.172Z"
   },
   {
    "duration": 64,
    "start_time": "2023-06-14T08:36:24.209Z"
   },
   {
    "duration": 37,
    "start_time": "2023-06-14T08:36:24.275Z"
   },
   {
    "duration": 126,
    "start_time": "2023-06-14T08:36:24.314Z"
   },
   {
    "duration": 229,
    "start_time": "2023-06-14T08:36:24.442Z"
   },
   {
    "duration": 13601,
    "start_time": "2023-06-14T08:36:24.674Z"
   },
   {
    "duration": 3,
    "start_time": "2023-06-14T08:36:38.277Z"
   },
   {
    "duration": 13,
    "start_time": "2023-06-14T08:36:38.282Z"
   },
   {
    "duration": 251,
    "start_time": "2023-06-14T08:36:38.297Z"
   },
   {
    "duration": 11,
    "start_time": "2023-06-14T08:36:38.549Z"
   },
   {
    "duration": 5,
    "start_time": "2023-06-14T08:36:38.561Z"
   },
   {
    "duration": 32222,
    "start_time": "2023-06-14T08:36:38.568Z"
   },
   {
    "duration": 449,
    "start_time": "2023-06-14T08:37:10.792Z"
   },
   {
    "duration": 121,
    "start_time": "2023-06-14T08:37:11.242Z"
   },
   {
    "duration": 1,
    "start_time": "2023-06-14T08:37:11.365Z"
   },
   {
    "duration": 0,
    "start_time": "2023-06-14T08:37:11.366Z"
   },
   {
    "duration": 0,
    "start_time": "2023-06-14T08:37:11.367Z"
   },
   {
    "duration": 0,
    "start_time": "2023-06-14T08:37:11.368Z"
   },
   {
    "duration": 10,
    "start_time": "2023-06-14T08:37:50.134Z"
   },
   {
    "duration": 3,
    "start_time": "2023-06-14T08:37:55.931Z"
   },
   {
    "duration": 4,
    "start_time": "2023-06-14T08:37:56.875Z"
   },
   {
    "duration": 4,
    "start_time": "2023-06-14T08:37:57.633Z"
   },
   {
    "duration": 92205,
    "start_time": "2023-06-14T08:37:58.432Z"
   },
   {
    "duration": 3,
    "start_time": "2023-06-14T08:39:32.557Z"
   },
   {
    "duration": 3,
    "start_time": "2023-06-14T08:39:33.206Z"
   },
   {
    "duration": 4,
    "start_time": "2023-06-14T08:39:33.851Z"
   },
   {
    "duration": 133322,
    "start_time": "2023-06-14T08:39:34.613Z"
   },
   {
    "duration": 401,
    "start_time": "2023-06-14T08:41:47.937Z"
   },
   {
    "duration": 377,
    "start_time": "2023-06-14T08:41:48.340Z"
   },
   {
    "duration": 2393,
    "start_time": "2023-06-15T16:08:27.512Z"
   },
   {
    "duration": 1212,
    "start_time": "2023-06-15T16:08:29.907Z"
   },
   {
    "duration": 17,
    "start_time": "2023-06-15T16:08:31.121Z"
   },
   {
    "duration": 185,
    "start_time": "2023-06-15T16:08:31.141Z"
   },
   {
    "duration": 174,
    "start_time": "2023-06-15T16:08:31.329Z"
   },
   {
    "duration": 127,
    "start_time": "2023-06-15T16:08:31.505Z"
   },
   {
    "duration": 52,
    "start_time": "2023-06-15T16:08:31.634Z"
   },
   {
    "duration": 52,
    "start_time": "2023-06-15T16:08:31.689Z"
   },
   {
    "duration": 68,
    "start_time": "2023-06-15T16:08:31.743Z"
   },
   {
    "duration": 40,
    "start_time": "2023-06-15T16:08:31.814Z"
   },
   {
    "duration": 58,
    "start_time": "2023-06-15T16:08:31.862Z"
   },
   {
    "duration": 206,
    "start_time": "2023-06-15T16:08:31.922Z"
   },
   {
    "duration": 268,
    "start_time": "2023-06-15T16:08:32.130Z"
   },
   {
    "duration": 14038,
    "start_time": "2023-06-15T16:08:32.402Z"
   },
   {
    "duration": 11,
    "start_time": "2023-06-15T16:08:46.442Z"
   },
   {
    "duration": 19,
    "start_time": "2023-06-15T16:08:46.454Z"
   },
   {
    "duration": 239,
    "start_time": "2023-06-15T16:08:46.475Z"
   },
   {
    "duration": 10,
    "start_time": "2023-06-15T16:08:46.716Z"
   },
   {
    "duration": 2,
    "start_time": "2023-06-15T16:08:46.728Z"
   },
   {
    "duration": 32614,
    "start_time": "2023-06-15T16:08:46.732Z"
   },
   {
    "duration": 428,
    "start_time": "2023-06-15T16:09:19.348Z"
   },
   {
    "duration": 3,
    "start_time": "2023-06-15T16:09:19.778Z"
   },
   {
    "duration": 9,
    "start_time": "2023-06-15T16:09:19.782Z"
   },
   {
    "duration": 6,
    "start_time": "2023-06-15T16:09:19.793Z"
   },
   {
    "duration": 15968,
    "start_time": "2023-06-15T16:09:19.801Z"
   },
   {
    "duration": 386,
    "start_time": "2023-06-15T16:09:35.771Z"
   },
   {
    "duration": 105,
    "start_time": "2023-06-15T16:16:18.513Z"
   },
   {
    "duration": 4,
    "start_time": "2023-06-15T16:16:39.730Z"
   },
   {
    "duration": 3,
    "start_time": "2023-06-15T16:24:42.350Z"
   },
   {
    "duration": 3,
    "start_time": "2023-06-15T16:24:42.567Z"
   },
   {
    "duration": 5693,
    "start_time": "2023-06-15T16:24:43.269Z"
   },
   {
    "duration": 457,
    "start_time": "2023-06-15T16:24:59.713Z"
   },
   {
    "duration": 4,
    "start_time": "2023-06-15T16:25:14.311Z"
   },
   {
    "duration": 4,
    "start_time": "2023-06-15T16:25:14.445Z"
   },
   {
    "duration": 3631,
    "start_time": "2023-06-15T16:25:14.637Z"
   },
   {
    "duration": 597,
    "start_time": "2023-06-15T16:25:18.271Z"
   },
   {
    "duration": 3,
    "start_time": "2023-06-15T16:25:26.114Z"
   },
   {
    "duration": 4,
    "start_time": "2023-06-15T16:25:26.301Z"
   },
   {
    "duration": 6319,
    "start_time": "2023-06-15T16:25:26.441Z"
   },
   {
    "duration": 1020,
    "start_time": "2023-06-15T16:25:32.762Z"
   },
   {
    "duration": 3,
    "start_time": "2023-06-15T16:25:40.135Z"
   },
   {
    "duration": 4,
    "start_time": "2023-06-15T16:25:40.299Z"
   },
   {
    "duration": 7111,
    "start_time": "2023-06-15T16:25:40.446Z"
   },
   {
    "duration": 1013,
    "start_time": "2023-06-15T16:25:47.559Z"
   },
   {
    "duration": 4,
    "start_time": "2023-06-15T16:25:59.423Z"
   },
   {
    "duration": 4,
    "start_time": "2023-06-15T16:25:59.573Z"
   },
   {
    "duration": 15862,
    "start_time": "2023-06-15T16:25:59.700Z"
   },
   {
    "duration": 1703,
    "start_time": "2023-06-15T16:26:15.564Z"
   },
   {
    "duration": 3,
    "start_time": "2023-06-15T16:26:31.485Z"
   },
   {
    "duration": 4,
    "start_time": "2023-06-15T16:26:31.632Z"
   },
   {
    "duration": 18420,
    "start_time": "2023-06-15T16:26:31.750Z"
   },
   {
    "duration": 2508,
    "start_time": "2023-06-15T16:26:50.251Z"
   },
   {
    "duration": 320,
    "start_time": "2023-06-15T16:52:53.641Z"
   },
   {
    "duration": 3,
    "start_time": "2023-06-15T16:53:05.071Z"
   },
   {
    "duration": 4,
    "start_time": "2023-06-15T16:53:05.225Z"
   },
   {
    "duration": 1462,
    "start_time": "2023-06-15T16:53:05.373Z"
   },
   {
    "duration": 2748,
    "start_time": "2023-06-15T16:53:06.838Z"
   },
   {
    "duration": 29904,
    "start_time": "2023-06-15T16:53:20.762Z"
   },
   {
    "duration": 37318,
    "start_time": "2023-06-15T17:07:14.907Z"
   },
   {
    "duration": 3,
    "start_time": "2023-06-15T17:08:42.891Z"
   },
   {
    "duration": 3,
    "start_time": "2023-06-15T17:09:10.519Z"
   },
   {
    "duration": 3,
    "start_time": "2023-06-15T17:09:10.842Z"
   },
   {
    "duration": 65,
    "start_time": "2023-06-15T17:12:44.369Z"
   },
   {
    "duration": 0,
    "start_time": "2023-06-15T17:12:44.436Z"
   },
   {
    "duration": 0,
    "start_time": "2023-06-15T17:12:44.438Z"
   },
   {
    "duration": 1521,
    "start_time": "2023-06-15T17:12:53.372Z"
   },
   {
    "duration": 920,
    "start_time": "2023-06-15T17:12:54.895Z"
   },
   {
    "duration": 15,
    "start_time": "2023-06-15T17:12:55.817Z"
   },
   {
    "duration": 305,
    "start_time": "2023-06-15T17:12:55.834Z"
   },
   {
    "duration": 116,
    "start_time": "2023-06-15T17:12:56.142Z"
   },
   {
    "duration": 104,
    "start_time": "2023-06-15T17:12:56.260Z"
   },
   {
    "duration": 30,
    "start_time": "2023-06-15T17:12:56.366Z"
   },
   {
    "duration": 16,
    "start_time": "2023-06-15T17:12:56.397Z"
   },
   {
    "duration": 56,
    "start_time": "2023-06-15T17:12:56.415Z"
   },
   {
    "duration": 37,
    "start_time": "2023-06-15T17:12:56.473Z"
   },
   {
    "duration": 57,
    "start_time": "2023-06-15T17:12:56.512Z"
   },
   {
    "duration": 138,
    "start_time": "2023-06-15T17:12:56.571Z"
   },
   {
    "duration": 226,
    "start_time": "2023-06-15T17:12:56.711Z"
   },
   {
    "duration": 13993,
    "start_time": "2023-06-15T17:12:56.940Z"
   },
   {
    "duration": 5,
    "start_time": "2023-06-15T17:13:10.935Z"
   },
   {
    "duration": 27,
    "start_time": "2023-06-15T17:13:10.953Z"
   },
   {
    "duration": 279,
    "start_time": "2023-06-15T17:13:10.982Z"
   },
   {
    "duration": 11,
    "start_time": "2023-06-15T17:13:11.263Z"
   },
   {
    "duration": 29,
    "start_time": "2023-06-15T17:13:11.276Z"
   },
   {
    "duration": 33864,
    "start_time": "2023-06-15T17:13:11.307Z"
   },
   {
    "duration": 508,
    "start_time": "2023-06-15T17:13:45.173Z"
   },
   {
    "duration": 3,
    "start_time": "2023-06-15T17:13:45.682Z"
   },
   {
    "duration": 30,
    "start_time": "2023-06-15T17:13:45.687Z"
   },
   {
    "duration": 74,
    "start_time": "2023-06-15T17:13:45.718Z"
   },
   {
    "duration": 0,
    "start_time": "2023-06-15T17:13:45.794Z"
   },
   {
    "duration": 0,
    "start_time": "2023-06-15T17:13:45.795Z"
   },
   {
    "duration": 1928,
    "start_time": "2023-06-15T17:15:24.071Z"
   },
   {
    "duration": 925,
    "start_time": "2023-06-15T17:15:26.001Z"
   },
   {
    "duration": 13,
    "start_time": "2023-06-15T17:15:26.928Z"
   },
   {
    "duration": 149,
    "start_time": "2023-06-15T17:15:26.952Z"
   },
   {
    "duration": 115,
    "start_time": "2023-06-15T17:15:27.103Z"
   },
   {
    "duration": 111,
    "start_time": "2023-06-15T17:15:27.220Z"
   },
   {
    "duration": 46,
    "start_time": "2023-06-15T17:15:27.333Z"
   },
   {
    "duration": 17,
    "start_time": "2023-06-15T17:15:27.381Z"
   },
   {
    "duration": 35,
    "start_time": "2023-06-15T17:15:27.400Z"
   },
   {
    "duration": 59,
    "start_time": "2023-06-15T17:15:27.437Z"
   },
   {
    "duration": 36,
    "start_time": "2023-06-15T17:15:27.498Z"
   },
   {
    "duration": 169,
    "start_time": "2023-06-15T17:15:27.535Z"
   },
   {
    "duration": 262,
    "start_time": "2023-06-15T17:15:27.706Z"
   },
   {
    "duration": 14230,
    "start_time": "2023-06-15T17:15:27.971Z"
   },
   {
    "duration": 5,
    "start_time": "2023-06-15T17:15:42.203Z"
   },
   {
    "duration": 13,
    "start_time": "2023-06-15T17:15:42.210Z"
   },
   {
    "duration": 263,
    "start_time": "2023-06-15T17:15:42.225Z"
   },
   {
    "duration": 11,
    "start_time": "2023-06-15T17:15:42.490Z"
   },
   {
    "duration": 9,
    "start_time": "2023-06-15T17:15:42.502Z"
   },
   {
    "duration": 33677,
    "start_time": "2023-06-15T17:15:42.513Z"
   },
   {
    "duration": 478,
    "start_time": "2023-06-15T17:16:16.192Z"
   },
   {
    "duration": 7,
    "start_time": "2023-06-15T17:16:16.672Z"
   },
   {
    "duration": 8,
    "start_time": "2023-06-15T17:16:16.680Z"
   },
   {
    "duration": 344093,
    "start_time": "2023-06-15T17:16:16.690Z"
   },
   {
    "duration": 602,
    "start_time": "2023-06-15T17:22:00.785Z"
   },
   {
    "duration": 13,
    "start_time": "2023-06-15T17:22:01.390Z"
   },
   {
    "duration": 1611,
    "start_time": "2023-06-15T17:22:09.808Z"
   },
   {
    "duration": 984,
    "start_time": "2023-06-15T17:22:11.422Z"
   },
   {
    "duration": 16,
    "start_time": "2023-06-15T17:22:12.408Z"
   },
   {
    "duration": 183,
    "start_time": "2023-06-15T17:22:12.426Z"
   },
   {
    "duration": 126,
    "start_time": "2023-06-15T17:22:12.611Z"
   },
   {
    "duration": 112,
    "start_time": "2023-06-15T17:22:12.739Z"
   },
   {
    "duration": 40,
    "start_time": "2023-06-15T17:22:12.855Z"
   },
   {
    "duration": 15,
    "start_time": "2023-06-15T17:22:12.897Z"
   },
   {
    "duration": 61,
    "start_time": "2023-06-15T17:22:12.915Z"
   },
   {
    "duration": 43,
    "start_time": "2023-06-15T17:22:12.978Z"
   },
   {
    "duration": 54,
    "start_time": "2023-06-15T17:22:13.023Z"
   },
   {
    "duration": 152,
    "start_time": "2023-06-15T17:22:13.080Z"
   },
   {
    "duration": 275,
    "start_time": "2023-06-15T17:22:13.234Z"
   },
   {
    "duration": 15016,
    "start_time": "2023-06-15T17:22:13.512Z"
   },
   {
    "duration": 5,
    "start_time": "2023-06-15T17:22:28.530Z"
   },
   {
    "duration": 32,
    "start_time": "2023-06-15T17:22:28.536Z"
   },
   {
    "duration": 323,
    "start_time": "2023-06-15T17:22:28.572Z"
   },
   {
    "duration": 11,
    "start_time": "2023-06-15T17:22:28.897Z"
   },
   {
    "duration": 9,
    "start_time": "2023-06-15T17:22:28.910Z"
   },
   {
    "duration": 40766,
    "start_time": "2023-06-15T17:22:28.921Z"
   },
   {
    "duration": 580,
    "start_time": "2023-06-15T17:23:09.689Z"
   },
   {
    "duration": 5,
    "start_time": "2023-06-15T17:23:10.274Z"
   },
   {
    "duration": 12,
    "start_time": "2023-06-15T17:23:10.281Z"
   },
   {
    "duration": 1526,
    "start_time": "2023-06-15T17:27:03.307Z"
   },
   {
    "duration": 1048,
    "start_time": "2023-06-15T17:27:04.835Z"
   },
   {
    "duration": 13,
    "start_time": "2023-06-15T17:27:05.885Z"
   },
   {
    "duration": 200,
    "start_time": "2023-06-15T17:27:05.900Z"
   },
   {
    "duration": 128,
    "start_time": "2023-06-15T17:27:06.103Z"
   },
   {
    "duration": 118,
    "start_time": "2023-06-15T17:27:06.233Z"
   },
   {
    "duration": 47,
    "start_time": "2023-06-15T17:27:06.353Z"
   },
   {
    "duration": 27,
    "start_time": "2023-06-15T17:27:06.402Z"
   },
   {
    "duration": 52,
    "start_time": "2023-06-15T17:27:06.431Z"
   },
   {
    "duration": 37,
    "start_time": "2023-06-15T17:27:06.485Z"
   },
   {
    "duration": 63,
    "start_time": "2023-06-15T17:27:06.523Z"
   },
   {
    "duration": 142,
    "start_time": "2023-06-15T17:27:06.588Z"
   },
   {
    "duration": 262,
    "start_time": "2023-06-15T17:27:06.732Z"
   },
   {
    "duration": 15639,
    "start_time": "2023-06-15T17:27:06.997Z"
   },
   {
    "duration": 14,
    "start_time": "2023-06-15T17:27:22.638Z"
   },
   {
    "duration": 34,
    "start_time": "2023-06-15T17:27:22.656Z"
   },
   {
    "duration": 317,
    "start_time": "2023-06-15T17:27:22.692Z"
   },
   {
    "duration": 12,
    "start_time": "2023-06-15T17:27:23.011Z"
   },
   {
    "duration": 8,
    "start_time": "2023-06-15T17:27:23.025Z"
   },
   {
    "duration": 37845,
    "start_time": "2023-06-15T17:27:23.035Z"
   },
   {
    "duration": 511,
    "start_time": "2023-06-15T17:28:00.882Z"
   },
   {
    "duration": 4,
    "start_time": "2023-06-15T17:28:01.395Z"
   },
   {
    "duration": 97,
    "start_time": "2023-06-15T17:28:01.401Z"
   },
   {
    "duration": 435442,
    "start_time": "2023-06-15T17:28:01.500Z"
   },
   {
    "duration": 615,
    "start_time": "2023-06-15T17:35:16.944Z"
   },
   {
    "duration": 13,
    "start_time": "2023-06-15T17:35:17.561Z"
   },
   {
    "duration": 4,
    "start_time": "2023-06-15T17:35:18.340Z"
   },
   {
    "duration": 5,
    "start_time": "2023-06-15T17:35:18.711Z"
   },
   {
    "duration": 395321,
    "start_time": "2023-06-15T17:35:19.424Z"
   },
   {
    "duration": 3,
    "start_time": "2023-06-15T17:42:09.322Z"
   },
   {
    "duration": 3,
    "start_time": "2023-06-15T17:42:09.647Z"
   },
   {
    "duration": 88126,
    "start_time": "2023-06-15T17:42:09.952Z"
   },
   {
    "duration": 292,
    "start_time": "2023-06-15T17:43:38.081Z"
   },
   {
    "duration": 5,
    "start_time": "2023-06-15T17:43:57.247Z"
   },
   {
    "duration": 7,
    "start_time": "2023-06-15T17:43:57.563Z"
   },
   {
    "duration": 193710,
    "start_time": "2023-06-15T17:43:58.351Z"
   },
   {
    "duration": 621,
    "start_time": "2023-06-15T17:47:12.064Z"
   },
   {
    "duration": 3,
    "start_time": "2023-06-15T17:47:30.130Z"
   },
   {
    "duration": 6,
    "start_time": "2023-06-15T17:47:30.441Z"
   },
   {
    "duration": 83622,
    "start_time": "2023-06-15T17:47:30.746Z"
   },
   {
    "duration": 696,
    "start_time": "2023-06-15T17:48:54.370Z"
   },
   {
    "duration": 4,
    "start_time": "2023-06-15T17:49:57.268Z"
   },
   {
    "duration": 4,
    "start_time": "2023-06-15T17:49:57.572Z"
   },
   {
    "duration": 232539,
    "start_time": "2023-06-15T17:49:59.115Z"
   },
   {
    "duration": 22,
    "start_time": "2023-06-15T17:53:51.659Z"
   },
   {
    "duration": 11,
    "start_time": "2023-06-15T18:06:53.356Z"
   },
   {
    "duration": 3,
    "start_time": "2023-06-15T18:07:11.411Z"
   },
   {
    "duration": 4,
    "start_time": "2023-06-15T18:07:11.717Z"
   },
   {
    "duration": 5527,
    "start_time": "2023-06-15T18:07:12.031Z"
   },
   {
    "duration": 894,
    "start_time": "2023-06-15T18:07:22.060Z"
   },
   {
    "duration": 4,
    "start_time": "2023-06-15T18:07:33.411Z"
   },
   {
    "duration": 4,
    "start_time": "2023-06-15T18:07:33.678Z"
   },
   {
    "duration": 16545,
    "start_time": "2023-06-15T18:07:34.009Z"
   },
   {
    "duration": 1617,
    "start_time": "2023-06-15T18:07:50.557Z"
   },
   {
    "duration": 259534,
    "start_time": "2023-06-15T18:09:25.315Z"
   },
   {
    "duration": 4,
    "start_time": "2023-06-15T18:13:49.423Z"
   },
   {
    "duration": 5,
    "start_time": "2023-06-15T18:13:54.403Z"
   },
   {
    "duration": 227,
    "start_time": "2023-06-15T18:14:23.510Z"
   },
   {
    "duration": 10,
    "start_time": "2023-06-15T18:14:23.914Z"
   },
   {
    "duration": 272,
    "start_time": "2023-06-15T18:15:04.772Z"
   },
   {
    "duration": 13,
    "start_time": "2023-06-15T18:15:06.554Z"
   },
   {
    "duration": 1445,
    "start_time": "2023-06-15T18:15:47.909Z"
   },
   {
    "duration": 784,
    "start_time": "2023-06-15T18:15:49.356Z"
   },
   {
    "duration": 15,
    "start_time": "2023-06-15T18:15:50.142Z"
   },
   {
    "duration": 125,
    "start_time": "2023-06-15T18:15:50.159Z"
   },
   {
    "duration": 108,
    "start_time": "2023-06-15T18:15:50.286Z"
   },
   {
    "duration": 100,
    "start_time": "2023-06-15T18:15:50.396Z"
   },
   {
    "duration": 28,
    "start_time": "2023-06-15T18:15:50.497Z"
   },
   {
    "duration": 25,
    "start_time": "2023-06-15T18:15:50.527Z"
   },
   {
    "duration": 44,
    "start_time": "2023-06-15T18:15:50.554Z"
   },
   {
    "duration": 48,
    "start_time": "2023-06-15T18:15:50.599Z"
   },
   {
    "duration": 33,
    "start_time": "2023-06-15T18:15:50.649Z"
   },
   {
    "duration": 125,
    "start_time": "2023-06-15T18:15:50.684Z"
   },
   {
    "duration": 215,
    "start_time": "2023-06-15T18:15:50.810Z"
   },
   {
    "duration": 255882,
    "start_time": "2023-06-15T18:15:51.027Z"
   },
   {
    "duration": 3,
    "start_time": "2023-06-15T18:20:06.911Z"
   },
   {
    "duration": 66,
    "start_time": "2023-06-15T18:20:06.916Z"
   },
   {
    "duration": 285,
    "start_time": "2023-06-15T18:20:06.983Z"
   },
   {
    "duration": 12,
    "start_time": "2023-06-15T18:20:07.271Z"
   },
   {
    "duration": 22,
    "start_time": "2023-06-15T18:20:07.285Z"
   },
   {
    "duration": 32772,
    "start_time": "2023-06-15T18:20:07.309Z"
   },
   {
    "duration": 439,
    "start_time": "2023-06-15T18:20:40.082Z"
   },
   {
    "duration": 4,
    "start_time": "2023-06-15T18:20:40.522Z"
   },
   {
    "duration": 8,
    "start_time": "2023-06-15T18:20:40.528Z"
   },
   {
    "duration": 10320,
    "start_time": "2023-06-15T18:20:40.538Z"
   },
   {
    "duration": 1614,
    "start_time": "2023-06-15T18:20:50.860Z"
   },
   {
    "duration": 10,
    "start_time": "2023-06-15T18:20:52.475Z"
   },
   {
    "duration": 4,
    "start_time": "2023-06-15T19:29:06.140Z"
   },
   {
    "duration": 6,
    "start_time": "2023-06-15T19:29:09.792Z"
   },
   {
    "duration": 62972,
    "start_time": "2023-06-15T19:29:10.195Z"
   },
   {
    "duration": 2514,
    "start_time": "2023-06-15T19:30:13.170Z"
   },
   {
    "duration": 4,
    "start_time": "2023-06-15T19:32:10.100Z"
   },
   {
    "duration": 4,
    "start_time": "2023-06-15T19:32:10.435Z"
   },
   {
    "duration": 41475,
    "start_time": "2023-06-15T19:32:11.180Z"
   },
   {
    "duration": 3618,
    "start_time": "2023-06-15T19:32:52.657Z"
   },
   {
    "duration": 1663,
    "start_time": "2023-06-16T12:43:39.658Z"
   },
   {
    "duration": 1219,
    "start_time": "2023-06-16T12:43:41.323Z"
   },
   {
    "duration": 21,
    "start_time": "2023-06-16T12:43:42.544Z"
   },
   {
    "duration": 120,
    "start_time": "2023-06-16T12:43:42.567Z"
   },
   {
    "duration": 113,
    "start_time": "2023-06-16T12:43:42.689Z"
   },
   {
    "duration": 86,
    "start_time": "2023-06-16T12:43:42.803Z"
   },
   {
    "duration": 31,
    "start_time": "2023-06-16T12:43:42.903Z"
   },
   {
    "duration": 12,
    "start_time": "2023-06-16T12:43:42.935Z"
   },
   {
    "duration": 31,
    "start_time": "2023-06-16T12:43:42.949Z"
   },
   {
    "duration": 65,
    "start_time": "2023-06-16T12:43:42.982Z"
   },
   {
    "duration": 61,
    "start_time": "2023-06-16T12:43:43.049Z"
   },
   {
    "duration": 134,
    "start_time": "2023-06-16T12:43:43.113Z"
   },
   {
    "duration": 281,
    "start_time": "2023-06-16T12:43:43.249Z"
   },
   {
    "duration": 293098,
    "start_time": "2023-06-16T12:43:43.533Z"
   },
   {
    "duration": 5,
    "start_time": "2023-06-16T12:48:36.632Z"
   },
   {
    "duration": 13,
    "start_time": "2023-06-16T12:48:36.638Z"
   },
   {
    "duration": 297,
    "start_time": "2023-06-16T12:48:36.653Z"
   },
   {
    "duration": 11,
    "start_time": "2023-06-16T12:48:36.952Z"
   },
   {
    "duration": 20,
    "start_time": "2023-06-16T12:48:36.964Z"
   },
   {
    "duration": 787,
    "start_time": "2023-06-16T12:48:36.986Z"
   },
   {
    "duration": 62,
    "start_time": "2023-06-16T12:48:37.774Z"
   },
   {
    "duration": 3,
    "start_time": "2023-06-16T12:48:37.839Z"
   },
   {
    "duration": 6,
    "start_time": "2023-06-16T12:48:37.844Z"
   },
   {
    "duration": 111723,
    "start_time": "2023-06-16T12:48:37.852Z"
   },
   {
    "duration": 82,
    "start_time": "2023-06-16T12:50:29.577Z"
   },
   {
    "duration": 10,
    "start_time": "2023-06-16T12:50:29.661Z"
   },
   {
    "duration": 27130,
    "start_time": "2023-06-16T12:50:29.673Z"
   },
   {
    "duration": 99,
    "start_time": "2023-06-16T12:50:56.806Z"
   },
   {
    "duration": 9015,
    "start_time": "2023-06-16T12:51:05.715Z"
   },
   {
    "duration": 161,
    "start_time": "2023-06-16T12:51:21.862Z"
   },
   {
    "duration": 4,
    "start_time": "2023-06-16T12:51:23.096Z"
   },
   {
    "duration": 3,
    "start_time": "2023-06-16T12:51:23.437Z"
   },
   {
    "duration": 322547,
    "start_time": "2023-06-16T12:51:23.760Z"
   },
   {
    "duration": 275,
    "start_time": "2023-06-16T12:56:46.309Z"
   },
   {
    "duration": 27,
    "start_time": "2023-06-16T12:56:46.585Z"
   },
   {
    "duration": 12448,
    "start_time": "2023-06-16T12:58:40.495Z"
   },
   {
    "duration": 197,
    "start_time": "2023-06-16T12:59:00.134Z"
   },
   {
    "duration": 18490,
    "start_time": "2023-06-16T12:59:24.593Z"
   },
   {
    "duration": 243,
    "start_time": "2023-06-16T12:59:48.503Z"
   },
   {
    "duration": 19215,
    "start_time": "2023-06-16T13:00:04.133Z"
   },
   {
    "duration": 264,
    "start_time": "2023-06-16T13:00:29.434Z"
   },
   {
    "duration": 3,
    "start_time": "2023-06-16T13:00:38.172Z"
   },
   {
    "duration": 8,
    "start_time": "2023-06-16T13:00:39.217Z"
   },
   {
    "duration": 1957,
    "start_time": "2023-06-16T15:34:03.948Z"
   },
   {
    "duration": 3687,
    "start_time": "2023-06-16T15:34:05.908Z"
   },
   {
    "duration": 14,
    "start_time": "2023-06-16T15:34:09.597Z"
   },
   {
    "duration": 156,
    "start_time": "2023-06-16T15:34:09.612Z"
   },
   {
    "duration": 114,
    "start_time": "2023-06-16T15:34:09.771Z"
   },
   {
    "duration": 84,
    "start_time": "2023-06-16T15:34:09.890Z"
   },
   {
    "duration": 33,
    "start_time": "2023-06-16T15:34:09.983Z"
   },
   {
    "duration": 10,
    "start_time": "2023-06-16T15:34:10.018Z"
   },
   {
    "duration": 55,
    "start_time": "2023-06-16T15:34:10.029Z"
   },
   {
    "duration": 36,
    "start_time": "2023-06-16T15:34:10.090Z"
   },
   {
    "duration": 64,
    "start_time": "2023-06-16T15:34:10.127Z"
   },
   {
    "duration": 122,
    "start_time": "2023-06-16T15:34:10.193Z"
   },
   {
    "duration": 259,
    "start_time": "2023-06-16T15:34:10.317Z"
   },
   {
    "duration": 299758,
    "start_time": "2023-06-16T15:34:10.580Z"
   },
   {
    "duration": 3,
    "start_time": "2023-06-16T15:39:10.339Z"
   },
   {
    "duration": 30,
    "start_time": "2023-06-16T15:39:10.344Z"
   },
   {
    "duration": 298,
    "start_time": "2023-06-16T15:39:10.378Z"
   },
   {
    "duration": 13,
    "start_time": "2023-06-16T15:39:10.680Z"
   },
   {
    "duration": 4,
    "start_time": "2023-06-16T15:39:10.694Z"
   },
   {
    "duration": 18094,
    "start_time": "2023-06-16T15:39:10.699Z"
   },
   {
    "duration": 238,
    "start_time": "2023-06-16T15:39:28.795Z"
   },
   {
    "duration": 3,
    "start_time": "2023-06-16T15:39:29.035Z"
   },
   {
    "duration": 88,
    "start_time": "2023-06-16T15:39:29.039Z"
   },
   {
    "duration": 36658,
    "start_time": "2023-06-16T15:39:29.128Z"
   },
   {
    "duration": 212,
    "start_time": "2023-06-16T15:40:05.788Z"
   },
   {
    "duration": 9,
    "start_time": "2023-06-16T15:40:06.002Z"
   },
   {
    "duration": 7,
    "start_time": "2023-06-16T15:40:16.054Z"
   },
   {
    "duration": 3,
    "start_time": "2023-06-16T15:40:16.648Z"
   },
   {
    "duration": 479453,
    "start_time": "2023-06-16T15:40:17.006Z"
   },
   {
    "duration": 3,
    "start_time": "2023-06-16T15:48:19.345Z"
   },
   {
    "duration": 2,
    "start_time": "2023-06-16T15:48:23.091Z"
   },
   {
    "duration": 31070,
    "start_time": "2023-06-16T15:48:23.239Z"
   },
   {
    "duration": 3,
    "start_time": "2023-06-16T15:48:59.043Z"
   },
   {
    "duration": 2,
    "start_time": "2023-06-16T15:48:59.346Z"
   },
   {
    "duration": 242714,
    "start_time": "2023-06-16T15:49:00.451Z"
   },
   {
    "duration": 230,
    "start_time": "2023-06-16T15:53:03.171Z"
   },
   {
    "duration": 3,
    "start_time": "2023-06-16T15:53:11.744Z"
   },
   {
    "duration": 3,
    "start_time": "2023-06-16T15:53:12.169Z"
   },
   {
    "duration": 261208,
    "start_time": "2023-06-16T15:53:12.546Z"
   },
   {
    "duration": 811,
    "start_time": "2023-06-16T15:57:33.757Z"
   },
   {
    "duration": 10,
    "start_time": "2023-06-16T15:57:34.570Z"
   },
   {
    "duration": 885,
    "start_time": "2023-06-16T16:01:41.228Z"
   },
   {
    "duration": 55,
    "start_time": "2023-06-16T16:01:42.115Z"
   },
   {
    "duration": 2169,
    "start_time": "2023-06-16T16:01:50.729Z"
   },
   {
    "duration": 124,
    "start_time": "2023-06-16T16:01:56.872Z"
   },
   {
    "duration": 2598,
    "start_time": "2023-06-16T16:02:07.024Z"
   },
   {
    "duration": 19754,
    "start_time": "2023-06-16T16:02:27.687Z"
   },
   {
    "duration": 19793,
    "start_time": "2023-06-16T16:03:11.345Z"
   },
   {
    "duration": 3,
    "start_time": "2023-06-16T16:04:16.093Z"
   },
   {
    "duration": 23587,
    "start_time": "2023-06-16T16:04:17.951Z"
   },
   {
    "duration": 211,
    "start_time": "2023-06-16T16:07:14.360Z"
   },
   {
    "duration": 2,
    "start_time": "2023-06-16T16:12:19.149Z"
   },
   {
    "duration": 2063,
    "start_time": "2023-06-16T16:12:19.483Z"
   },
   {
    "duration": 94,
    "start_time": "2023-06-16T16:13:59.740Z"
   },
   {
    "duration": 129,
    "start_time": "2023-06-16T16:14:04.196Z"
   },
   {
    "duration": 3,
    "start_time": "2023-06-16T16:17:14.988Z"
   },
   {
    "duration": 3,
    "start_time": "2023-06-16T16:17:15.909Z"
   },
   {
    "duration": 2102,
    "start_time": "2023-06-16T16:17:16.470Z"
   },
   {
    "duration": 9,
    "start_time": "2023-06-16T16:25:04.458Z"
   },
   {
    "duration": 8,
    "start_time": "2023-06-16T16:25:08.328Z"
   },
   {
    "duration": 101,
    "start_time": "2023-06-16T16:25:12.719Z"
   },
   {
    "duration": 3,
    "start_time": "2023-06-16T16:25:21.449Z"
   },
   {
    "duration": 9,
    "start_time": "2023-06-16T16:25:33.345Z"
   },
   {
    "duration": 3,
    "start_time": "2023-06-16T16:25:33.807Z"
   },
   {
    "duration": 4,
    "start_time": "2023-06-16T16:25:38.659Z"
   },
   {
    "duration": 3,
    "start_time": "2023-06-16T16:25:40.125Z"
   },
   {
    "duration": 2402,
    "start_time": "2023-06-16T16:25:40.482Z"
   },
   {
    "duration": 229167,
    "start_time": "2023-06-16T16:27:36.003Z"
   },
   {
    "duration": 3,
    "start_time": "2023-06-16T16:34:24.628Z"
   },
   {
    "duration": 3,
    "start_time": "2023-06-16T16:34:24.941Z"
   },
   {
    "duration": 106429,
    "start_time": "2023-06-16T16:34:25.245Z"
   },
   {
    "duration": 6,
    "start_time": "2023-06-16T16:36:15.051Z"
   },
   {
    "duration": 3,
    "start_time": "2023-06-16T16:36:15.503Z"
   },
   {
    "duration": 601786,
    "start_time": "2023-06-16T16:36:15.999Z"
   },
   {
    "duration": 818,
    "start_time": "2023-06-16T16:46:17.855Z"
   },
   {
    "duration": 3,
    "start_time": "2023-06-16T17:21:53.073Z"
   },
   {
    "duration": 4,
    "start_time": "2023-06-16T17:21:53.407Z"
   },
   {
    "duration": 19173,
    "start_time": "2023-06-16T17:21:53.777Z"
   },
   {
    "duration": 3,
    "start_time": "2023-06-16T17:22:16.080Z"
   },
   {
    "duration": 3,
    "start_time": "2023-06-16T17:22:16.448Z"
   },
   {
    "duration": 12860,
    "start_time": "2023-06-16T17:22:17.217Z"
   },
   {
    "duration": 3,
    "start_time": "2023-06-16T17:22:36.423Z"
   },
   {
    "duration": 4,
    "start_time": "2023-06-16T17:22:36.792Z"
   },
   {
    "duration": 82724,
    "start_time": "2023-06-16T17:22:37.441Z"
   },
   {
    "duration": 356,
    "start_time": "2023-06-16T17:25:28.998Z"
   },
   {
    "duration": 22485,
    "start_time": "2023-06-16T17:25:50.482Z"
   },
   {
    "duration": 366,
    "start_time": "2023-06-16T17:26:23.202Z"
   },
   {
    "duration": 348,
    "start_time": "2023-06-16T17:26:30.907Z"
   },
   {
    "duration": 283,
    "start_time": "2023-06-16T17:26:37.690Z"
   },
   {
    "duration": 379,
    "start_time": "2023-06-16T17:26:46.378Z"
   },
   {
    "duration": 3,
    "start_time": "2023-06-16T17:28:19.026Z"
   },
   {
    "duration": 2,
    "start_time": "2023-06-16T17:28:19.332Z"
   },
   {
    "duration": 302296,
    "start_time": "2023-06-16T17:28:19.667Z"
   },
   {
    "duration": 2833,
    "start_time": "2023-06-16T17:33:21.965Z"
   },
   {
    "duration": 3,
    "start_time": "2023-06-16T17:33:32.588Z"
   },
   {
    "duration": 3,
    "start_time": "2023-06-16T17:33:33.069Z"
   },
   {
    "duration": 9661,
    "start_time": "2023-06-16T17:33:33.381Z"
   },
   {
    "duration": 3,
    "start_time": "2023-06-16T17:33:48.646Z"
   },
   {
    "duration": 3,
    "start_time": "2023-06-16T17:33:48.986Z"
   },
   {
    "duration": 266186,
    "start_time": "2023-06-16T17:33:49.901Z"
   },
   {
    "duration": 9,
    "start_time": "2023-06-16T17:38:16.089Z"
   },
   {
    "duration": 13,
    "start_time": "2023-06-16T17:41:01.554Z"
   },
   {
    "duration": 1433,
    "start_time": "2023-06-16T17:42:40.877Z"
   },
   {
    "duration": 780,
    "start_time": "2023-06-16T17:42:42.312Z"
   },
   {
    "duration": 20,
    "start_time": "2023-06-16T17:42:43.095Z"
   },
   {
    "duration": 159,
    "start_time": "2023-06-16T17:42:43.118Z"
   },
   {
    "duration": 93,
    "start_time": "2023-06-16T17:42:43.279Z"
   },
   {
    "duration": 82,
    "start_time": "2023-06-16T17:42:43.373Z"
   },
   {
    "duration": 33,
    "start_time": "2023-06-16T17:42:43.457Z"
   },
   {
    "duration": 10,
    "start_time": "2023-06-16T17:42:43.491Z"
   },
   {
    "duration": 53,
    "start_time": "2023-06-16T17:42:43.502Z"
   },
   {
    "duration": 33,
    "start_time": "2023-06-16T17:42:43.557Z"
   },
   {
    "duration": 37,
    "start_time": "2023-06-16T17:42:43.592Z"
   },
   {
    "duration": 200,
    "start_time": "2023-06-16T17:42:43.630Z"
   },
   {
    "duration": 0,
    "start_time": "2023-06-16T17:42:43.832Z"
   },
   {
    "duration": 0,
    "start_time": "2023-06-16T17:42:43.833Z"
   },
   {
    "duration": 0,
    "start_time": "2023-06-16T17:42:43.834Z"
   },
   {
    "duration": 0,
    "start_time": "2023-06-16T17:42:43.835Z"
   },
   {
    "duration": 0,
    "start_time": "2023-06-16T17:42:43.836Z"
   },
   {
    "duration": 0,
    "start_time": "2023-06-16T17:42:43.837Z"
   },
   {
    "duration": 0,
    "start_time": "2023-06-16T17:42:43.854Z"
   },
   {
    "duration": 0,
    "start_time": "2023-06-16T17:42:43.855Z"
   },
   {
    "duration": 0,
    "start_time": "2023-06-16T17:42:43.856Z"
   },
   {
    "duration": 0,
    "start_time": "2023-06-16T17:42:43.857Z"
   },
   {
    "duration": 0,
    "start_time": "2023-06-16T17:42:43.858Z"
   },
   {
    "duration": 0,
    "start_time": "2023-06-16T17:42:43.859Z"
   },
   {
    "duration": 1,
    "start_time": "2023-06-16T17:42:43.859Z"
   },
   {
    "duration": 0,
    "start_time": "2023-06-16T17:42:43.861Z"
   },
   {
    "duration": 1372,
    "start_time": "2023-06-16T17:47:58.642Z"
   },
   {
    "duration": 766,
    "start_time": "2023-06-16T17:48:00.015Z"
   },
   {
    "duration": 12,
    "start_time": "2023-06-16T17:48:00.782Z"
   },
   {
    "duration": 148,
    "start_time": "2023-06-16T17:48:00.796Z"
   },
   {
    "duration": 100,
    "start_time": "2023-06-16T17:48:00.945Z"
   },
   {
    "duration": 80,
    "start_time": "2023-06-16T17:48:01.047Z"
   },
   {
    "duration": 33,
    "start_time": "2023-06-16T17:48:01.129Z"
   },
   {
    "duration": 27,
    "start_time": "2023-06-16T17:48:01.164Z"
   },
   {
    "duration": 63,
    "start_time": "2023-06-16T17:48:01.193Z"
   },
   {
    "duration": 58,
    "start_time": "2023-06-16T17:48:01.259Z"
   },
   {
    "duration": 39,
    "start_time": "2023-06-16T17:48:01.319Z"
   },
   {
    "duration": 96,
    "start_time": "2023-06-16T17:48:01.360Z"
   },
   {
    "duration": 236,
    "start_time": "2023-06-16T17:48:01.458Z"
   },
   {
    "duration": 0,
    "start_time": "2023-06-16T17:48:01.696Z"
   },
   {
    "duration": 0,
    "start_time": "2023-06-16T17:48:01.697Z"
   },
   {
    "duration": 0,
    "start_time": "2023-06-16T17:48:01.699Z"
   },
   {
    "duration": 0,
    "start_time": "2023-06-16T17:48:01.701Z"
   },
   {
    "duration": 0,
    "start_time": "2023-06-16T17:48:01.702Z"
   },
   {
    "duration": 0,
    "start_time": "2023-06-16T17:48:01.704Z"
   },
   {
    "duration": 0,
    "start_time": "2023-06-16T17:48:01.705Z"
   },
   {
    "duration": 0,
    "start_time": "2023-06-16T17:48:01.706Z"
   },
   {
    "duration": 0,
    "start_time": "2023-06-16T17:48:01.708Z"
   },
   {
    "duration": 0,
    "start_time": "2023-06-16T17:48:01.709Z"
   },
   {
    "duration": 0,
    "start_time": "2023-06-16T17:48:01.710Z"
   },
   {
    "duration": 0,
    "start_time": "2023-06-16T17:48:01.711Z"
   },
   {
    "duration": 0,
    "start_time": "2023-06-16T17:48:01.713Z"
   },
   {
    "duration": 1332,
    "start_time": "2023-06-16T17:48:48.490Z"
   },
   {
    "duration": 746,
    "start_time": "2023-06-16T17:48:49.824Z"
   },
   {
    "duration": 11,
    "start_time": "2023-06-16T17:48:50.572Z"
   },
   {
    "duration": 154,
    "start_time": "2023-06-16T17:48:50.585Z"
   },
   {
    "duration": 91,
    "start_time": "2023-06-16T17:48:50.741Z"
   },
   {
    "duration": 89,
    "start_time": "2023-06-16T17:48:50.833Z"
   },
   {
    "duration": 40,
    "start_time": "2023-06-16T17:48:50.923Z"
   },
   {
    "duration": 33,
    "start_time": "2023-06-16T17:48:50.965Z"
   },
   {
    "duration": 57,
    "start_time": "2023-06-16T17:48:50.999Z"
   },
   {
    "duration": 62,
    "start_time": "2023-06-16T17:48:51.059Z"
   },
   {
    "duration": 35,
    "start_time": "2023-06-16T17:48:51.122Z"
   },
   {
    "duration": 112,
    "start_time": "2023-06-16T17:48:51.159Z"
   },
   {
    "duration": 206,
    "start_time": "2023-06-16T17:48:51.273Z"
   },
   {
    "duration": 253613,
    "start_time": "2023-06-16T17:48:51.480Z"
   },
   {
    "duration": 3,
    "start_time": "2023-06-16T17:53:05.094Z"
   },
   {
    "duration": 7,
    "start_time": "2023-06-16T17:53:05.099Z"
   },
   {
    "duration": 253,
    "start_time": "2023-06-16T17:53:05.107Z"
   },
   {
    "duration": 11,
    "start_time": "2023-06-16T17:53:05.362Z"
   },
   {
    "duration": 3,
    "start_time": "2023-06-16T17:53:05.374Z"
   },
   {
    "duration": 13912,
    "start_time": "2023-06-16T17:53:05.378Z"
   },
   {
    "duration": 181,
    "start_time": "2023-06-16T17:53:19.291Z"
   },
   {
    "duration": 3,
    "start_time": "2023-06-16T17:53:19.474Z"
   },
   {
    "duration": 7,
    "start_time": "2023-06-16T17:53:19.478Z"
   },
   {
    "duration": 7283,
    "start_time": "2023-06-16T17:53:19.486Z"
   },
   {
    "duration": 1610,
    "start_time": "2023-06-16T17:53:26.770Z"
   },
   {
    "duration": 15,
    "start_time": "2023-06-16T17:53:28.382Z"
   },
   {
    "duration": 19,
    "start_time": "2023-06-16T19:07:10.148Z"
   },
   {
    "duration": 10183,
    "start_time": "2023-06-16T19:08:32.230Z"
   },
   {
    "duration": 199,
    "start_time": "2023-06-16T19:08:56.542Z"
   },
   {
    "duration": 119,
    "start_time": "2023-06-16T19:09:09.324Z"
   },
   {
    "duration": 14240,
    "start_time": "2023-06-16T19:09:43.879Z"
   },
   {
    "duration": 123,
    "start_time": "2023-06-16T19:09:58.120Z"
   },
   {
    "duration": 135,
    "start_time": "2023-06-16T19:45:46.104Z"
   },
   {
    "duration": 1844,
    "start_time": "2023-06-17T17:19:33.440Z"
   },
   {
    "duration": 1412,
    "start_time": "2023-06-17T17:19:35.286Z"
   },
   {
    "duration": 13,
    "start_time": "2023-06-17T17:19:36.699Z"
   },
   {
    "duration": 212,
    "start_time": "2023-06-17T17:19:36.714Z"
   },
   {
    "duration": 96,
    "start_time": "2023-06-17T17:19:36.928Z"
   },
   {
    "duration": 82,
    "start_time": "2023-06-17T17:19:37.025Z"
   },
   {
    "duration": 42,
    "start_time": "2023-06-17T17:19:37.109Z"
   },
   {
    "duration": 21,
    "start_time": "2023-06-17T17:19:37.152Z"
   },
   {
    "duration": 30,
    "start_time": "2023-06-17T17:19:37.174Z"
   },
   {
    "duration": 49,
    "start_time": "2023-06-17T17:19:37.205Z"
   },
   {
    "duration": 34,
    "start_time": "2023-06-17T17:19:37.256Z"
   },
   {
    "duration": 108,
    "start_time": "2023-06-17T17:19:37.292Z"
   },
   {
    "duration": 233,
    "start_time": "2023-06-17T17:19:37.401Z"
   },
   {
    "duration": 280352,
    "start_time": "2023-06-17T17:19:37.637Z"
   },
   {
    "duration": 3,
    "start_time": "2023-06-17T17:24:17.990Z"
   },
   {
    "duration": 5,
    "start_time": "2023-06-17T17:24:17.995Z"
   },
   {
    "duration": 273,
    "start_time": "2023-06-17T17:24:18.002Z"
   },
   {
    "duration": 9,
    "start_time": "2023-06-17T17:24:18.277Z"
   },
   {
    "duration": 2,
    "start_time": "2023-06-17T17:24:18.287Z"
   },
   {
    "duration": 17607,
    "start_time": "2023-06-17T17:24:18.290Z"
   },
   {
    "duration": 224,
    "start_time": "2023-06-17T17:24:35.898Z"
   },
   {
    "duration": 10,
    "start_time": "2023-06-17T17:24:36.128Z"
   },
   {
    "duration": 29,
    "start_time": "2023-06-17T17:24:36.146Z"
   },
   {
    "duration": 1574749,
    "start_time": "2023-06-17T17:24:36.176Z"
   },
   {
    "duration": 1596,
    "start_time": "2023-06-17T17:50:50.927Z"
   },
   {
    "duration": 27,
    "start_time": "2023-06-17T17:50:52.524Z"
   },
   {
    "duration": 18235,
    "start_time": "2023-06-17T17:50:52.554Z"
   },
   {
    "duration": 151,
    "start_time": "2023-06-17T17:51:10.790Z"
   },
   {
    "duration": 4,
    "start_time": "2023-06-17T18:33:32.176Z"
   },
   {
    "duration": 1644,
    "start_time": "2023-06-18T08:35:56.536Z"
   },
   {
    "duration": 2810,
    "start_time": "2023-06-18T08:35:58.182Z"
   },
   {
    "duration": 14,
    "start_time": "2023-06-18T08:36:00.993Z"
   },
   {
    "duration": 184,
    "start_time": "2023-06-18T08:36:01.008Z"
   },
   {
    "duration": 101,
    "start_time": "2023-06-18T08:36:01.195Z"
   },
   {
    "duration": 91,
    "start_time": "2023-06-18T08:36:01.298Z"
   },
   {
    "duration": 33,
    "start_time": "2023-06-18T08:36:01.391Z"
   },
   {
    "duration": 128,
    "start_time": "2023-06-18T08:36:01.425Z"
   },
   {
    "duration": 127,
    "start_time": "2023-06-18T08:36:01.555Z"
   },
   {
    "duration": 174,
    "start_time": "2023-06-18T08:36:01.684Z"
   },
   {
    "duration": 38,
    "start_time": "2023-06-18T08:36:01.860Z"
   },
   {
    "duration": 136,
    "start_time": "2023-06-18T08:36:01.900Z"
   },
   {
    "duration": 238,
    "start_time": "2023-06-18T08:36:02.038Z"
   },
   {
    "duration": 259213,
    "start_time": "2023-06-18T08:36:02.279Z"
   },
   {
    "duration": 5,
    "start_time": "2023-06-18T08:40:21.494Z"
   },
   {
    "duration": 5,
    "start_time": "2023-06-18T08:40:21.500Z"
   },
   {
    "duration": 282,
    "start_time": "2023-06-18T08:40:21.506Z"
   },
   {
    "duration": 13,
    "start_time": "2023-06-18T08:40:21.790Z"
   },
   {
    "duration": 3,
    "start_time": "2023-06-18T08:40:21.804Z"
   },
   {
    "duration": 14267,
    "start_time": "2023-06-18T08:40:21.808Z"
   },
   {
    "duration": 225,
    "start_time": "2023-06-18T08:40:36.077Z"
   },
   {
    "duration": 3,
    "start_time": "2023-06-18T08:40:36.303Z"
   },
   {
    "duration": 13,
    "start_time": "2023-06-18T08:40:36.308Z"
   },
   {
    "duration": 12547,
    "start_time": "2023-06-18T08:40:36.323Z"
   },
   {
    "duration": 1520,
    "start_time": "2023-06-18T08:40:48.871Z"
   },
   {
    "duration": 83,
    "start_time": "2023-06-18T08:40:50.393Z"
   },
   {
    "duration": 14130,
    "start_time": "2023-06-18T08:40:50.477Z"
   },
   {
    "duration": 135,
    "start_time": "2023-06-18T08:41:04.609Z"
   },
   {
    "duration": 125,
    "start_time": "2023-06-18T08:44:52.371Z"
   },
   {
    "duration": 4,
    "start_time": "2023-06-18T08:45:15.384Z"
   },
   {
    "duration": 758,
    "start_time": "2023-06-18T08:45:16.017Z"
   },
   {
    "duration": 13,
    "start_time": "2023-06-18T08:45:16.776Z"
   },
   {
    "duration": 126,
    "start_time": "2023-06-18T08:45:17.773Z"
   },
   {
    "duration": 81,
    "start_time": "2023-06-18T08:45:19.425Z"
   },
   {
    "duration": 91,
    "start_time": "2023-06-18T08:45:20.750Z"
   },
   {
    "duration": 36,
    "start_time": "2023-06-18T08:45:30.326Z"
   },
   {
    "duration": 3,
    "start_time": "2023-06-18T08:45:38.173Z"
   },
   {
    "duration": 742,
    "start_time": "2023-06-18T08:45:38.831Z"
   },
   {
    "duration": 12,
    "start_time": "2023-06-18T08:45:39.575Z"
   },
   {
    "duration": 119,
    "start_time": "2023-06-18T08:45:40.023Z"
   },
   {
    "duration": 79,
    "start_time": "2023-06-18T08:45:41.346Z"
   },
   {
    "duration": 87,
    "start_time": "2023-06-18T08:45:42.272Z"
   },
   {
    "duration": 49,
    "start_time": "2023-06-18T08:45:56.923Z"
   },
   {
    "duration": 33,
    "start_time": "2023-06-18T08:46:17.899Z"
   },
   {
    "duration": 1398,
    "start_time": "2023-06-18T08:46:24.973Z"
   },
   {
    "duration": 766,
    "start_time": "2023-06-18T08:46:26.372Z"
   },
   {
    "duration": 13,
    "start_time": "2023-06-18T08:46:27.139Z"
   },
   {
    "duration": 159,
    "start_time": "2023-06-18T08:46:27.153Z"
   },
   {
    "duration": 91,
    "start_time": "2023-06-18T08:46:27.314Z"
   },
   {
    "duration": 106,
    "start_time": "2023-06-18T08:46:27.406Z"
   },
   {
    "duration": 45,
    "start_time": "2023-06-18T08:46:27.513Z"
   },
   {
    "duration": 13,
    "start_time": "2023-06-18T08:46:27.568Z"
   },
   {
    "duration": 46,
    "start_time": "2023-06-18T08:46:27.583Z"
   },
   {
    "duration": 73,
    "start_time": "2023-06-18T08:46:27.631Z"
   },
   {
    "duration": 48,
    "start_time": "2023-06-18T08:46:27.705Z"
   },
   {
    "duration": 133,
    "start_time": "2023-06-18T08:46:27.755Z"
   },
   {
    "duration": 305,
    "start_time": "2023-06-18T08:46:27.890Z"
   },
   {
    "duration": 94965,
    "start_time": "2023-06-18T08:46:28.197Z"
   },
   {
    "duration": 0,
    "start_time": "2023-06-18T08:48:03.163Z"
   },
   {
    "duration": 0,
    "start_time": "2023-06-18T08:48:03.168Z"
   },
   {
    "duration": 0,
    "start_time": "2023-06-18T08:48:03.169Z"
   },
   {
    "duration": 0,
    "start_time": "2023-06-18T08:48:03.171Z"
   },
   {
    "duration": 0,
    "start_time": "2023-06-18T08:48:03.172Z"
   },
   {
    "duration": 0,
    "start_time": "2023-06-18T08:48:03.173Z"
   },
   {
    "duration": 0,
    "start_time": "2023-06-18T08:48:03.175Z"
   },
   {
    "duration": 1,
    "start_time": "2023-06-18T08:48:03.176Z"
   },
   {
    "duration": 0,
    "start_time": "2023-06-18T08:48:03.178Z"
   },
   {
    "duration": 0,
    "start_time": "2023-06-18T08:48:03.179Z"
   },
   {
    "duration": 0,
    "start_time": "2023-06-18T08:48:03.181Z"
   },
   {
    "duration": 0,
    "start_time": "2023-06-18T08:48:03.182Z"
   },
   {
    "duration": 1,
    "start_time": "2023-06-18T08:48:03.183Z"
   },
   {
    "duration": 0,
    "start_time": "2023-06-18T08:48:03.185Z"
   },
   {
    "duration": 33,
    "start_time": "2023-06-18T08:48:51.529Z"
   },
   {
    "duration": 4,
    "start_time": "2023-06-18T08:49:02.073Z"
   },
   {
    "duration": 778,
    "start_time": "2023-06-18T08:49:02.799Z"
   },
   {
    "duration": 14,
    "start_time": "2023-06-18T08:49:04.344Z"
   },
   {
    "duration": 124,
    "start_time": "2023-06-18T08:49:05.099Z"
   },
   {
    "duration": 83,
    "start_time": "2023-06-18T08:49:06.697Z"
   },
   {
    "duration": 89,
    "start_time": "2023-06-18T08:49:08.016Z"
   },
   {
    "duration": 31,
    "start_time": "2023-06-18T08:49:18.195Z"
   },
   {
    "duration": 35,
    "start_time": "2023-06-18T08:49:26.273Z"
   },
   {
    "duration": 10,
    "start_time": "2023-06-18T08:49:31.773Z"
   },
   {
    "duration": 838,
    "start_time": "2023-06-18T08:49:32.472Z"
   },
   {
    "duration": 11,
    "start_time": "2023-06-18T08:49:33.312Z"
   },
   {
    "duration": 140,
    "start_time": "2023-06-18T08:49:33.340Z"
   },
   {
    "duration": 89,
    "start_time": "2023-06-18T08:49:33.669Z"
   },
   {
    "duration": 89,
    "start_time": "2023-06-18T08:49:35.138Z"
   },
   {
    "duration": 32,
    "start_time": "2023-06-18T08:49:47.047Z"
   },
   {
    "duration": 3,
    "start_time": "2023-06-18T08:49:55.547Z"
   },
   {
    "duration": 728,
    "start_time": "2023-06-18T08:49:56.245Z"
   },
   {
    "duration": 12,
    "start_time": "2023-06-18T08:49:56.974Z"
   },
   {
    "duration": 123,
    "start_time": "2023-06-18T08:49:57.108Z"
   },
   {
    "duration": 77,
    "start_time": "2023-06-18T08:49:57.999Z"
   },
   {
    "duration": 89,
    "start_time": "2023-06-18T08:49:59.374Z"
   },
   {
    "duration": 1393,
    "start_time": "2023-06-18T08:50:55.274Z"
   },
   {
    "duration": 770,
    "start_time": "2023-06-18T08:50:56.669Z"
   },
   {
    "duration": 12,
    "start_time": "2023-06-18T08:50:57.440Z"
   },
   {
    "duration": 146,
    "start_time": "2023-06-18T08:50:57.453Z"
   },
   {
    "duration": 91,
    "start_time": "2023-06-18T08:50:57.601Z"
   },
   {
    "duration": 104,
    "start_time": "2023-06-18T08:50:57.694Z"
   },
   {
    "duration": 45,
    "start_time": "2023-06-18T08:50:57.800Z"
   },
   {
    "duration": 26,
    "start_time": "2023-06-18T08:50:57.847Z"
   },
   {
    "duration": 53,
    "start_time": "2023-06-18T08:50:57.875Z"
   },
   {
    "duration": 61,
    "start_time": "2023-06-18T08:50:57.929Z"
   },
   {
    "duration": 49,
    "start_time": "2023-06-18T08:50:57.992Z"
   },
   {
    "duration": 156,
    "start_time": "2023-06-18T08:50:58.043Z"
   },
   {
    "duration": 308,
    "start_time": "2023-06-18T08:50:58.201Z"
   },
   {
    "duration": 0,
    "start_time": "2023-06-18T08:56:03.624Z"
   },
   {
    "duration": 0,
    "start_time": "2023-06-18T08:56:03.625Z"
   },
   {
    "duration": 0,
    "start_time": "2023-06-18T08:56:03.626Z"
   },
   {
    "duration": 0,
    "start_time": "2023-06-18T08:56:03.627Z"
   },
   {
    "duration": 0,
    "start_time": "2023-06-18T08:56:03.628Z"
   },
   {
    "duration": 0,
    "start_time": "2023-06-18T08:56:03.630Z"
   },
   {
    "duration": 0,
    "start_time": "2023-06-18T08:56:03.631Z"
   },
   {
    "duration": 0,
    "start_time": "2023-06-18T08:56:03.632Z"
   },
   {
    "duration": 0,
    "start_time": "2023-06-18T08:56:03.634Z"
   },
   {
    "duration": 0,
    "start_time": "2023-06-18T08:56:03.635Z"
   },
   {
    "duration": 0,
    "start_time": "2023-06-18T08:56:03.636Z"
   },
   {
    "duration": 0,
    "start_time": "2023-06-18T08:56:03.638Z"
   },
   {
    "duration": 0,
    "start_time": "2023-06-18T08:56:03.668Z"
   },
   {
    "duration": 0,
    "start_time": "2023-06-18T08:56:03.669Z"
   },
   {
    "duration": 0,
    "start_time": "2023-06-18T08:56:03.670Z"
   },
   {
    "duration": 314,
    "start_time": "2023-06-18T08:57:45.589Z"
   },
   {
    "duration": 439903,
    "start_time": "2023-06-18T08:57:46.873Z"
   },
   {
    "duration": 4,
    "start_time": "2023-06-18T09:05:12.453Z"
   },
   {
    "duration": 3,
    "start_time": "2023-06-18T09:05:15.192Z"
   },
   {
    "duration": 375,
    "start_time": "2023-06-18T09:05:36.346Z"
   },
   {
    "duration": 13,
    "start_time": "2023-06-18T09:05:38.401Z"
   },
   {
    "duration": 3,
    "start_time": "2023-06-18T09:43:53.867Z"
   },
   {
    "duration": 736,
    "start_time": "2023-06-18T09:43:54.564Z"
   },
   {
    "duration": 12,
    "start_time": "2023-06-18T09:43:55.302Z"
   },
   {
    "duration": 119,
    "start_time": "2023-06-18T09:43:55.652Z"
   },
   {
    "duration": 76,
    "start_time": "2023-06-18T09:43:56.041Z"
   },
   {
    "duration": 100,
    "start_time": "2023-06-18T09:43:58.012Z"
   },
   {
    "duration": 60,
    "start_time": "2023-06-18T09:44:09.693Z"
   },
   {
    "duration": 16,
    "start_time": "2023-06-18T09:44:10.611Z"
   },
   {
    "duration": 61,
    "start_time": "2023-06-18T09:44:11.425Z"
   },
   {
    "duration": 74,
    "start_time": "2023-06-18T09:44:12.932Z"
   },
   {
    "duration": 69,
    "start_time": "2023-06-18T09:44:13.172Z"
   },
   {
    "duration": 15,
    "start_time": "2023-06-18T10:12:54.808Z"
   },
   {
    "duration": 10,
    "start_time": "2023-06-18T10:21:00.291Z"
   },
   {
    "duration": 19,
    "start_time": "2023-06-18T10:21:07.901Z"
   },
   {
    "duration": 117,
    "start_time": "2023-06-18T10:21:13.263Z"
   },
   {
    "duration": 10,
    "start_time": "2023-06-18T11:06:35.119Z"
   },
   {
    "duration": 22,
    "start_time": "2023-06-18T11:07:29.286Z"
   },
   {
    "duration": 39,
    "start_time": "2023-06-18T11:07:41.594Z"
   },
   {
    "duration": 116,
    "start_time": "2023-06-18T11:24:05.201Z"
   },
   {
    "duration": 39,
    "start_time": "2023-06-18T11:24:13.395Z"
   },
   {
    "duration": 40,
    "start_time": "2023-06-18T11:24:21.829Z"
   },
   {
    "duration": 52,
    "start_time": "2023-06-18T11:24:29.566Z"
   },
   {
    "duration": 5,
    "start_time": "2023-06-18T11:25:23.732Z"
   },
   {
    "duration": 5,
    "start_time": "2023-06-18T11:25:52.657Z"
   },
   {
    "duration": 9,
    "start_time": "2023-06-18T11:26:04.390Z"
   },
   {
    "duration": 1126,
    "start_time": "2023-06-18T11:26:16.323Z"
   },
   {
    "duration": 3760,
    "start_time": "2023-06-18T11:26:37.020Z"
   },
   {
    "duration": 1162,
    "start_time": "2023-06-18T11:27:55.303Z"
   },
   {
    "duration": 2240,
    "start_time": "2023-06-18T11:28:01.849Z"
   },
   {
    "duration": 535,
    "start_time": "2023-06-18T11:30:35.230Z"
   },
   {
    "duration": 483,
    "start_time": "2023-06-18T11:30:50.684Z"
   },
   {
    "duration": 17,
    "start_time": "2023-06-18T11:31:11.573Z"
   },
   {
    "duration": 13,
    "start_time": "2023-06-18T11:31:38.028Z"
   },
   {
    "duration": 13,
    "start_time": "2023-06-18T12:13:42.940Z"
   },
   {
    "duration": 5,
    "start_time": "2023-06-18T12:13:47.687Z"
   },
   {
    "duration": 14,
    "start_time": "2023-06-18T12:13:50.698Z"
   },
   {
    "duration": 3,
    "start_time": "2023-06-18T12:16:46.040Z"
   },
   {
    "duration": 16,
    "start_time": "2023-06-18T12:17:20.359Z"
   },
   {
    "duration": 6300,
    "start_time": "2023-06-18T12:18:27.960Z"
   },
   {
    "duration": 6866,
    "start_time": "2023-06-18T12:18:42.195Z"
   },
   {
    "duration": 2400,
    "start_time": "2023-06-18T12:19:13.200Z"
   },
   {
    "duration": 3159,
    "start_time": "2023-06-18T12:19:15.603Z"
   },
   {
    "duration": 15,
    "start_time": "2023-06-18T12:19:18.764Z"
   },
   {
    "duration": 156,
    "start_time": "2023-06-18T12:19:18.781Z"
   },
   {
    "duration": 159,
    "start_time": "2023-06-18T12:19:18.942Z"
   },
   {
    "duration": 144,
    "start_time": "2023-06-18T12:19:19.102Z"
   },
   {
    "duration": 67,
    "start_time": "2023-06-18T12:19:19.247Z"
   },
   {
    "duration": 26,
    "start_time": "2023-06-18T12:19:19.316Z"
   },
   {
    "duration": 96,
    "start_time": "2023-06-18T12:19:19.343Z"
   },
   {
    "duration": 87,
    "start_time": "2023-06-18T12:19:19.441Z"
   },
   {
    "duration": 73,
    "start_time": "2023-06-18T12:19:19.530Z"
   },
   {
    "duration": 195,
    "start_time": "2023-06-18T12:19:19.605Z"
   },
   {
    "duration": 458,
    "start_time": "2023-06-18T12:19:19.803Z"
   },
   {
    "duration": 647370,
    "start_time": "2023-06-18T12:19:20.267Z"
   },
   {
    "duration": 4,
    "start_time": "2023-06-18T12:30:07.639Z"
   },
   {
    "duration": 19,
    "start_time": "2023-06-18T12:30:07.645Z"
   },
   {
    "duration": 542,
    "start_time": "2023-06-18T12:30:07.667Z"
   },
   {
    "duration": 18,
    "start_time": "2023-06-18T12:30:08.211Z"
   },
   {
    "duration": 3,
    "start_time": "2023-06-18T12:30:08.232Z"
   },
   {
    "duration": 37231,
    "start_time": "2023-06-18T12:30:08.237Z"
   },
   {
    "duration": 597,
    "start_time": "2023-06-18T12:30:45.470Z"
   },
   {
    "duration": 4,
    "start_time": "2023-06-18T12:30:46.069Z"
   },
   {
    "duration": 8,
    "start_time": "2023-06-18T12:30:46.075Z"
   },
   {
    "duration": 358236,
    "start_time": "2023-06-18T12:30:46.086Z"
   },
   {
    "duration": 504,
    "start_time": "2023-06-18T12:36:44.324Z"
   },
   {
    "duration": 12,
    "start_time": "2023-06-18T12:36:44.830Z"
   },
   {
    "duration": 30989,
    "start_time": "2023-06-18T12:36:44.844Z"
   },
   {
    "duration": 314,
    "start_time": "2023-06-18T12:37:15.836Z"
   },
   {
    "duration": 0,
    "start_time": "2023-06-18T12:37:16.176Z"
   },
   {
    "duration": 0,
    "start_time": "2023-06-18T12:37:16.177Z"
   },
   {
    "duration": 1802,
    "start_time": "2023-06-18T12:37:33.208Z"
   },
   {
    "duration": 953,
    "start_time": "2023-06-18T12:37:35.012Z"
   },
   {
    "duration": 22,
    "start_time": "2023-06-18T12:37:35.968Z"
   },
   {
    "duration": 209,
    "start_time": "2023-06-18T12:37:35.995Z"
   },
   {
    "duration": 120,
    "start_time": "2023-06-18T12:37:36.207Z"
   },
   {
    "duration": 159,
    "start_time": "2023-06-18T12:37:36.328Z"
   },
   {
    "duration": 84,
    "start_time": "2023-06-18T12:37:36.489Z"
   },
   {
    "duration": 23,
    "start_time": "2023-06-18T12:37:36.578Z"
   },
   {
    "duration": 92,
    "start_time": "2023-06-18T12:37:36.603Z"
   },
   {
    "duration": 105,
    "start_time": "2023-06-18T12:37:36.696Z"
   },
   {
    "duration": 88,
    "start_time": "2023-06-18T12:37:36.803Z"
   },
   {
    "duration": 251,
    "start_time": "2023-06-18T12:37:36.893Z"
   },
   {
    "duration": 151,
    "start_time": "2023-06-18T12:37:37.146Z"
   },
   {
    "duration": 140,
    "start_time": "2023-06-18T12:37:37.304Z"
   },
   {
    "duration": 0,
    "start_time": "2023-06-18T12:37:37.446Z"
   },
   {
    "duration": 0,
    "start_time": "2023-06-18T12:37:37.447Z"
   },
   {
    "duration": 0,
    "start_time": "2023-06-18T12:37:37.448Z"
   },
   {
    "duration": 0,
    "start_time": "2023-06-18T12:37:37.449Z"
   },
   {
    "duration": 0,
    "start_time": "2023-06-18T12:37:37.450Z"
   },
   {
    "duration": 0,
    "start_time": "2023-06-18T12:37:37.451Z"
   },
   {
    "duration": 0,
    "start_time": "2023-06-18T12:37:37.469Z"
   },
   {
    "duration": 0,
    "start_time": "2023-06-18T12:37:37.471Z"
   },
   {
    "duration": 0,
    "start_time": "2023-06-18T12:37:37.472Z"
   },
   {
    "duration": 0,
    "start_time": "2023-06-18T12:37:37.473Z"
   },
   {
    "duration": 0,
    "start_time": "2023-06-18T12:37:37.475Z"
   },
   {
    "duration": 0,
    "start_time": "2023-06-18T12:37:37.476Z"
   },
   {
    "duration": 0,
    "start_time": "2023-06-18T12:37:37.478Z"
   },
   {
    "duration": 0,
    "start_time": "2023-06-18T12:37:37.479Z"
   },
   {
    "duration": 0,
    "start_time": "2023-06-18T12:37:37.480Z"
   },
   {
    "duration": 11,
    "start_time": "2023-06-18T12:39:09.227Z"
   },
   {
    "duration": 1496,
    "start_time": "2023-06-18T12:39:13.901Z"
   },
   {
    "duration": 262,
    "start_time": "2023-06-18T12:39:30.784Z"
   },
   {
    "duration": 204,
    "start_time": "2023-06-18T12:39:41.255Z"
   },
   {
    "duration": 207,
    "start_time": "2023-06-18T12:39:52.140Z"
   },
   {
    "duration": 1647,
    "start_time": "2023-06-18T12:40:04.590Z"
   },
   {
    "duration": 1519,
    "start_time": "2023-06-18T12:41:41.010Z"
   },
   {
    "duration": 729,
    "start_time": "2023-06-18T12:42:04.037Z"
   },
   {
    "duration": 866,
    "start_time": "2023-06-18T12:42:21.109Z"
   },
   {
    "duration": 884,
    "start_time": "2023-06-18T12:42:46.547Z"
   },
   {
    "duration": 889,
    "start_time": "2023-06-18T12:42:55.877Z"
   },
   {
    "duration": 188,
    "start_time": "2023-06-18T12:58:48.438Z"
   },
   {
    "duration": 184,
    "start_time": "2023-06-18T12:58:56.681Z"
   },
   {
    "duration": 71,
    "start_time": "2023-06-18T12:59:38.795Z"
   },
   {
    "duration": 745,
    "start_time": "2023-06-18T12:59:39.496Z"
   },
   {
    "duration": 910,
    "start_time": "2023-06-18T12:59:46.387Z"
   },
   {
    "duration": 764,
    "start_time": "2023-06-18T13:02:30.728Z"
   },
   {
    "duration": 809,
    "start_time": "2023-06-18T13:02:35.651Z"
   },
   {
    "duration": 1006,
    "start_time": "2023-06-18T13:03:13.384Z"
   },
   {
    "duration": 789,
    "start_time": "2023-06-18T13:03:32.551Z"
   },
   {
    "duration": 218,
    "start_time": "2023-06-18T13:03:48.434Z"
   },
   {
    "duration": 112,
    "start_time": "2023-06-18T13:03:49.968Z"
   },
   {
    "duration": 804,
    "start_time": "2023-06-18T13:03:50.427Z"
   },
   {
    "duration": 1333,
    "start_time": "2023-06-18T13:04:14.600Z"
   },
   {
    "duration": 2016,
    "start_time": "2023-06-18T13:05:11.594Z"
   },
   {
    "duration": 1935,
    "start_time": "2023-06-18T13:06:20.504Z"
   },
   {
    "duration": 2528,
    "start_time": "2023-06-18T13:06:30.711Z"
   },
   {
    "duration": 3471,
    "start_time": "2023-06-18T13:07:20.324Z"
   },
   {
    "duration": 2775,
    "start_time": "2023-06-18T13:08:11.521Z"
   },
   {
    "duration": 216,
    "start_time": "2023-06-18T13:09:03.293Z"
   },
   {
    "duration": 232,
    "start_time": "2023-06-18T13:09:15.152Z"
   },
   {
    "duration": 240,
    "start_time": "2023-06-18T13:10:02.385Z"
   },
   {
    "duration": 2262,
    "start_time": "2023-06-18T13:10:36.088Z"
   },
   {
    "duration": 228,
    "start_time": "2023-06-18T13:22:02.183Z"
   },
   {
    "duration": 84,
    "start_time": "2023-06-18T13:22:07.233Z"
   },
   {
    "duration": 2168,
    "start_time": "2023-06-18T13:22:07.551Z"
   },
   {
    "duration": 1514,
    "start_time": "2023-06-18T13:22:42.781Z"
   },
   {
    "duration": 2979,
    "start_time": "2023-06-18T13:22:44.297Z"
   },
   {
    "duration": 16,
    "start_time": "2023-06-18T13:22:47.279Z"
   },
   {
    "duration": 151,
    "start_time": "2023-06-18T13:22:47.299Z"
   },
   {
    "duration": 94,
    "start_time": "2023-06-18T13:22:47.452Z"
   },
   {
    "duration": 138,
    "start_time": "2023-06-18T13:22:47.547Z"
   },
   {
    "duration": 82,
    "start_time": "2023-06-18T13:22:47.687Z"
   },
   {
    "duration": 23,
    "start_time": "2023-06-18T13:22:47.771Z"
   },
   {
    "duration": 63,
    "start_time": "2023-06-18T13:22:47.795Z"
   },
   {
    "duration": 70,
    "start_time": "2023-06-18T13:22:47.874Z"
   },
   {
    "duration": 74,
    "start_time": "2023-06-18T13:22:47.945Z"
   },
   {
    "duration": 230,
    "start_time": "2023-06-18T13:22:48.020Z"
   },
   {
    "duration": 91,
    "start_time": "2023-06-18T13:22:48.251Z"
   },
   {
    "duration": 2304,
    "start_time": "2023-06-18T13:22:48.345Z"
   },
   {
    "duration": 19238,
    "start_time": "2023-06-18T13:22:50.651Z"
   },
   {
    "duration": 0,
    "start_time": "2023-06-18T13:23:09.891Z"
   },
   {
    "duration": 0,
    "start_time": "2023-06-18T13:23:09.892Z"
   },
   {
    "duration": 0,
    "start_time": "2023-06-18T13:23:09.893Z"
   },
   {
    "duration": 0,
    "start_time": "2023-06-18T13:23:09.894Z"
   },
   {
    "duration": 0,
    "start_time": "2023-06-18T13:23:09.895Z"
   },
   {
    "duration": 0,
    "start_time": "2023-06-18T13:23:09.896Z"
   },
   {
    "duration": 0,
    "start_time": "2023-06-18T13:23:09.897Z"
   },
   {
    "duration": 0,
    "start_time": "2023-06-18T13:23:09.898Z"
   },
   {
    "duration": 0,
    "start_time": "2023-06-18T13:23:09.900Z"
   },
   {
    "duration": 0,
    "start_time": "2023-06-18T13:23:09.901Z"
   },
   {
    "duration": 0,
    "start_time": "2023-06-18T13:23:09.901Z"
   },
   {
    "duration": 0,
    "start_time": "2023-06-18T13:23:09.903Z"
   },
   {
    "duration": 0,
    "start_time": "2023-06-18T13:23:09.904Z"
   },
   {
    "duration": 0,
    "start_time": "2023-06-18T13:23:09.905Z"
   },
   {
    "duration": 966,
    "start_time": "2023-06-18T13:23:37.543Z"
   },
   {
    "duration": 3114,
    "start_time": "2023-06-18T13:23:50.828Z"
   },
   {
    "duration": 203,
    "start_time": "2023-06-18T13:26:36.484Z"
   },
   {
    "duration": 82,
    "start_time": "2023-06-18T13:26:42.032Z"
   },
   {
    "duration": 2378,
    "start_time": "2023-06-18T13:26:42.584Z"
   },
   {
    "duration": 2859,
    "start_time": "2023-06-18T13:27:03.309Z"
   },
   {
    "duration": 1950,
    "start_time": "2023-06-18T13:31:19.028Z"
   },
   {
    "duration": 3607,
    "start_time": "2023-06-18T13:31:20.981Z"
   },
   {
    "duration": 13,
    "start_time": "2023-06-18T13:31:24.590Z"
   },
   {
    "duration": 143,
    "start_time": "2023-06-18T13:31:24.605Z"
   },
   {
    "duration": 146,
    "start_time": "2023-06-18T13:31:24.750Z"
   },
   {
    "duration": 146,
    "start_time": "2023-06-18T13:31:24.897Z"
   },
   {
    "duration": 77,
    "start_time": "2023-06-18T13:31:25.044Z"
   },
   {
    "duration": 18,
    "start_time": "2023-06-18T13:31:25.123Z"
   },
   {
    "duration": 80,
    "start_time": "2023-06-18T13:31:25.143Z"
   },
   {
    "duration": 96,
    "start_time": "2023-06-18T13:31:25.225Z"
   },
   {
    "duration": 80,
    "start_time": "2023-06-18T13:31:25.323Z"
   },
   {
    "duration": 222,
    "start_time": "2023-06-18T13:31:25.404Z"
   },
   {
    "duration": 84,
    "start_time": "2023-06-18T13:31:25.628Z"
   },
   {
    "duration": 2886,
    "start_time": "2023-06-18T13:31:25.714Z"
   },
   {
    "duration": 125935,
    "start_time": "2023-06-18T13:31:28.601Z"
   },
   {
    "duration": 0,
    "start_time": "2023-06-18T13:33:34.537Z"
   },
   {
    "duration": 0,
    "start_time": "2023-06-18T13:33:34.539Z"
   },
   {
    "duration": 0,
    "start_time": "2023-06-18T13:33:34.540Z"
   },
   {
    "duration": 0,
    "start_time": "2023-06-18T13:33:34.541Z"
   },
   {
    "duration": 0,
    "start_time": "2023-06-18T13:33:34.542Z"
   },
   {
    "duration": 0,
    "start_time": "2023-06-18T13:33:34.544Z"
   },
   {
    "duration": 0,
    "start_time": "2023-06-18T13:33:34.545Z"
   },
   {
    "duration": 0,
    "start_time": "2023-06-18T13:33:34.546Z"
   },
   {
    "duration": 0,
    "start_time": "2023-06-18T13:33:34.546Z"
   },
   {
    "duration": 0,
    "start_time": "2023-06-18T13:33:34.568Z"
   },
   {
    "duration": 0,
    "start_time": "2023-06-18T13:33:34.569Z"
   },
   {
    "duration": 0,
    "start_time": "2023-06-18T13:33:34.570Z"
   },
   {
    "duration": 0,
    "start_time": "2023-06-18T13:33:34.571Z"
   },
   {
    "duration": 0,
    "start_time": "2023-06-18T13:33:34.572Z"
   },
   {
    "duration": 3589,
    "start_time": "2023-06-18T13:33:52.037Z"
   },
   {
    "duration": 2837,
    "start_time": "2023-06-18T13:34:19.889Z"
   },
   {
    "duration": 2688,
    "start_time": "2023-06-18T13:36:18.537Z"
   },
   {
    "duration": 195,
    "start_time": "2023-06-18T13:36:31.193Z"
   },
   {
    "duration": 202,
    "start_time": "2023-06-18T13:37:02.039Z"
   },
   {
    "duration": 214,
    "start_time": "2023-06-18T13:37:16.749Z"
   },
   {
    "duration": 232,
    "start_time": "2023-06-18T13:37:45.053Z"
   },
   {
    "duration": 207,
    "start_time": "2023-06-18T13:40:46.188Z"
   },
   {
    "duration": 66,
    "start_time": "2023-06-18T13:40:46.689Z"
   },
   {
    "duration": 2258,
    "start_time": "2023-06-18T13:40:46.827Z"
   },
   {
    "duration": 3535,
    "start_time": "2023-06-18T13:40:58.034Z"
   },
   {
    "duration": 273858,
    "start_time": "2023-06-18T13:41:14.790Z"
   },
   {
    "duration": 3,
    "start_time": "2023-06-18T14:05:19.024Z"
   },
   {
    "duration": 3097,
    "start_time": "2023-06-18T14:05:19.642Z"
   },
   {
    "duration": 12,
    "start_time": "2023-06-18T14:05:22.740Z"
   },
   {
    "duration": 124,
    "start_time": "2023-06-18T14:05:22.754Z"
   },
   {
    "duration": 78,
    "start_time": "2023-06-18T14:05:22.881Z"
   },
   {
    "duration": 123,
    "start_time": "2023-06-18T14:05:22.960Z"
   },
   {
    "duration": 59,
    "start_time": "2023-06-18T14:05:23.085Z"
   },
   {
    "duration": 32,
    "start_time": "2023-06-18T14:05:23.145Z"
   },
   {
    "duration": 70,
    "start_time": "2023-06-18T14:05:23.178Z"
   },
   {
    "duration": 70,
    "start_time": "2023-06-18T14:05:23.250Z"
   },
   {
    "duration": 61,
    "start_time": "2023-06-18T14:05:23.322Z"
   },
   {
    "duration": 217,
    "start_time": "2023-06-18T14:05:26.294Z"
   },
   {
    "duration": 70,
    "start_time": "2023-06-18T14:05:30.023Z"
   },
   {
    "duration": 3276,
    "start_time": "2023-06-18T14:05:30.417Z"
   },
   {
    "duration": 201,
    "start_time": "2023-06-18T14:05:53.533Z"
   },
   {
    "duration": 10,
    "start_time": "2023-06-18T14:10:08.441Z"
   },
   {
    "duration": 4,
    "start_time": "2023-06-18T14:10:26.952Z"
   },
   {
    "duration": 1425,
    "start_time": "2023-06-18T14:10:30.983Z"
   },
   {
    "duration": 831,
    "start_time": "2023-06-18T14:10:32.410Z"
   },
   {
    "duration": 15,
    "start_time": "2023-06-18T14:10:33.243Z"
   },
   {
    "duration": 139,
    "start_time": "2023-06-18T14:10:33.268Z"
   },
   {
    "duration": 134,
    "start_time": "2023-06-18T14:10:33.410Z"
   },
   {
    "duration": 144,
    "start_time": "2023-06-18T14:10:33.545Z"
   },
   {
    "duration": 79,
    "start_time": "2023-06-18T14:10:33.690Z"
   },
   {
    "duration": 22,
    "start_time": "2023-06-18T14:10:33.772Z"
   },
   {
    "duration": 81,
    "start_time": "2023-06-18T14:10:33.796Z"
   },
   {
    "duration": 81,
    "start_time": "2023-06-18T14:10:33.878Z"
   },
   {
    "duration": 121,
    "start_time": "2023-06-18T14:10:33.961Z"
   },
   {
    "duration": 309,
    "start_time": "2023-06-18T14:10:34.084Z"
   },
   {
    "duration": 76,
    "start_time": "2023-06-18T14:10:34.394Z"
   },
   {
    "duration": 3151,
    "start_time": "2023-06-18T14:10:34.479Z"
   },
   {
    "duration": 338878,
    "start_time": "2023-06-18T14:10:37.632Z"
   },
   {
    "duration": 0,
    "start_time": "2023-06-18T14:16:16.511Z"
   },
   {
    "duration": 0,
    "start_time": "2023-06-18T14:16:16.512Z"
   },
   {
    "duration": 0,
    "start_time": "2023-06-18T14:16:16.514Z"
   },
   {
    "duration": 0,
    "start_time": "2023-06-18T14:16:16.515Z"
   },
   {
    "duration": 0,
    "start_time": "2023-06-18T14:16:16.516Z"
   },
   {
    "duration": 1,
    "start_time": "2023-06-18T14:16:16.517Z"
   },
   {
    "duration": 0,
    "start_time": "2023-06-18T14:16:16.518Z"
   },
   {
    "duration": 0,
    "start_time": "2023-06-18T14:16:16.519Z"
   },
   {
    "duration": 0,
    "start_time": "2023-06-18T14:16:16.520Z"
   },
   {
    "duration": 0,
    "start_time": "2023-06-18T14:16:16.522Z"
   },
   {
    "duration": 0,
    "start_time": "2023-06-18T14:16:16.523Z"
   },
   {
    "duration": 0,
    "start_time": "2023-06-18T14:16:16.524Z"
   },
   {
    "duration": 0,
    "start_time": "2023-06-18T14:16:16.525Z"
   },
   {
    "duration": 0,
    "start_time": "2023-06-18T14:16:16.526Z"
   },
   {
    "duration": 0,
    "start_time": "2023-06-18T14:16:16.527Z"
   },
   {
    "duration": 0,
    "start_time": "2023-06-18T14:16:16.528Z"
   },
   {
    "duration": 11,
    "start_time": "2023-06-18T14:19:58.001Z"
   },
   {
    "duration": 1347,
    "start_time": "2023-06-18T14:20:08.911Z"
   },
   {
    "duration": 843,
    "start_time": "2023-06-18T14:20:10.260Z"
   },
   {
    "duration": 13,
    "start_time": "2023-06-18T14:20:11.105Z"
   },
   {
    "duration": 147,
    "start_time": "2023-06-18T14:20:11.120Z"
   },
   {
    "duration": 115,
    "start_time": "2023-06-18T14:20:11.270Z"
   },
   {
    "duration": 130,
    "start_time": "2023-06-18T14:20:11.387Z"
   },
   {
    "duration": 74,
    "start_time": "2023-06-18T14:20:11.519Z"
   },
   {
    "duration": 17,
    "start_time": "2023-06-18T14:20:11.595Z"
   },
   {
    "duration": 86,
    "start_time": "2023-06-18T14:20:11.613Z"
   },
   {
    "duration": 116,
    "start_time": "2023-06-18T14:20:11.701Z"
   },
   {
    "duration": 79,
    "start_time": "2023-06-18T14:20:11.819Z"
   },
   {
    "duration": 284,
    "start_time": "2023-06-18T14:20:11.900Z"
   },
   {
    "duration": 79,
    "start_time": "2023-06-18T14:20:12.186Z"
   },
   {
    "duration": 3754,
    "start_time": "2023-06-18T14:20:12.270Z"
   },
   {
    "duration": 1516,
    "start_time": "2023-06-29T18:05:22.485Z"
   },
   {
    "duration": 1007,
    "start_time": "2023-06-29T18:05:24.003Z"
   },
   {
    "duration": 17,
    "start_time": "2023-06-29T18:05:25.012Z"
   },
   {
    "duration": 166,
    "start_time": "2023-06-29T18:05:25.031Z"
   },
   {
    "duration": 96,
    "start_time": "2023-06-29T18:05:25.199Z"
   },
   {
    "duration": 120,
    "start_time": "2023-06-29T18:05:25.297Z"
   },
   {
    "duration": 68,
    "start_time": "2023-06-29T18:05:25.419Z"
   },
   {
    "duration": 16,
    "start_time": "2023-06-29T18:05:25.488Z"
   },
   {
    "duration": 76,
    "start_time": "2023-06-29T18:05:25.506Z"
   },
   {
    "duration": 81,
    "start_time": "2023-06-29T18:05:25.584Z"
   },
   {
    "duration": 70,
    "start_time": "2023-06-29T18:05:25.666Z"
   },
   {
    "duration": 214,
    "start_time": "2023-06-29T18:05:25.737Z"
   },
   {
    "duration": 65,
    "start_time": "2023-06-29T18:05:25.952Z"
   },
   {
    "duration": 3205,
    "start_time": "2023-06-29T18:05:26.019Z"
   },
   {
    "duration": 3058156,
    "start_time": "2023-06-29T18:05:29.231Z"
   },
   {
    "duration": 5,
    "start_time": "2023-06-29T18:56:27.388Z"
   },
   {
    "duration": 7,
    "start_time": "2023-06-29T18:56:27.395Z"
   },
   {
    "duration": 2160,
    "start_time": "2023-06-29T18:56:27.404Z"
   },
   {
    "duration": 140,
    "start_time": "2023-06-29T18:56:29.565Z"
   },
   {
    "duration": 251,
    "start_time": "2023-06-29T18:56:29.707Z"
   },
   {
    "duration": 4,
    "start_time": "2023-06-29T18:56:29.959Z"
   },
   {
    "duration": 97294,
    "start_time": "2023-06-29T18:56:29.964Z"
   },
   {
    "duration": 0,
    "start_time": "2023-06-29T18:58:07.261Z"
   },
   {
    "duration": 0,
    "start_time": "2023-06-29T18:58:07.262Z"
   },
   {
    "duration": 0,
    "start_time": "2023-06-29T18:58:07.263Z"
   },
   {
    "duration": 0,
    "start_time": "2023-06-29T18:58:07.264Z"
   },
   {
    "duration": 0,
    "start_time": "2023-06-29T18:58:07.265Z"
   },
   {
    "duration": 0,
    "start_time": "2023-06-29T18:58:07.266Z"
   },
   {
    "duration": 0,
    "start_time": "2023-06-29T18:58:07.267Z"
   },
   {
    "duration": 0,
    "start_time": "2023-06-29T18:58:07.271Z"
   },
   {
    "duration": 0,
    "start_time": "2023-06-29T18:58:07.272Z"
   },
   {
    "duration": 1488,
    "start_time": "2023-06-30T15:58:55.685Z"
   },
   {
    "duration": 1112,
    "start_time": "2023-06-30T15:58:57.175Z"
   },
   {
    "duration": 13,
    "start_time": "2023-06-30T15:58:58.290Z"
   },
   {
    "duration": 147,
    "start_time": "2023-06-30T15:58:58.305Z"
   },
   {
    "duration": 91,
    "start_time": "2023-06-30T15:58:58.453Z"
   },
   {
    "duration": 132,
    "start_time": "2023-06-30T15:58:58.546Z"
   },
   {
    "duration": 70,
    "start_time": "2023-06-30T15:58:58.680Z"
   },
   {
    "duration": 16,
    "start_time": "2023-06-30T15:58:58.752Z"
   },
   {
    "duration": 76,
    "start_time": "2023-06-30T15:58:58.769Z"
   },
   {
    "duration": 66,
    "start_time": "2023-06-30T15:58:58.847Z"
   },
   {
    "duration": 77,
    "start_time": "2023-06-30T15:58:58.915Z"
   },
   {
    "duration": 234,
    "start_time": "2023-06-30T15:58:58.993Z"
   },
   {
    "duration": 75,
    "start_time": "2023-06-30T15:58:59.233Z"
   },
   {
    "duration": 3239,
    "start_time": "2023-06-30T15:58:59.309Z"
   },
   {
    "duration": 2908704,
    "start_time": "2023-06-30T15:59:02.551Z"
   },
   {
    "duration": 3,
    "start_time": "2023-06-30T16:47:31.257Z"
   },
   {
    "duration": 33,
    "start_time": "2023-06-30T16:47:31.261Z"
   },
   {
    "duration": 1958,
    "start_time": "2023-06-30T16:47:31.295Z"
   },
   {
    "duration": 139,
    "start_time": "2023-06-30T16:47:33.255Z"
   },
   {
    "duration": 228,
    "start_time": "2023-06-30T16:47:33.396Z"
   },
   {
    "duration": 13,
    "start_time": "2023-06-30T16:47:33.632Z"
   },
   {
    "duration": 85023,
    "start_time": "2023-06-30T16:47:33.647Z"
   },
   {
    "duration": 0,
    "start_time": "2023-06-30T16:48:58.671Z"
   },
   {
    "duration": 0,
    "start_time": "2023-06-30T16:48:58.673Z"
   },
   {
    "duration": 0,
    "start_time": "2023-06-30T16:48:58.673Z"
   },
   {
    "duration": 0,
    "start_time": "2023-06-30T16:48:58.674Z"
   },
   {
    "duration": 0,
    "start_time": "2023-06-30T16:48:58.675Z"
   },
   {
    "duration": 0,
    "start_time": "2023-06-30T16:48:58.676Z"
   },
   {
    "duration": 0,
    "start_time": "2023-06-30T16:48:58.677Z"
   },
   {
    "duration": 0,
    "start_time": "2023-06-30T16:48:58.678Z"
   },
   {
    "duration": 0,
    "start_time": "2023-06-30T16:48:58.679Z"
   },
   {
    "duration": 196,
    "start_time": "2023-06-30T17:55:29.261Z"
   },
   {
    "duration": 3,
    "start_time": "2023-06-30T17:55:30.606Z"
   },
   {
    "duration": 79852,
    "start_time": "2023-06-30T17:57:51.343Z"
   },
   {
    "duration": 4,
    "start_time": "2023-06-30T17:59:38.447Z"
   },
   {
    "duration": 79840,
    "start_time": "2023-06-30T17:59:44.182Z"
   },
   {
    "duration": 80020,
    "start_time": "2023-06-30T18:01:41.336Z"
   },
   {
    "duration": 82056,
    "start_time": "2023-06-30T18:03:35.281Z"
   },
   {
    "duration": 81862,
    "start_time": "2023-06-30T18:05:34.850Z"
   },
   {
    "duration": 80417,
    "start_time": "2023-06-30T18:08:07.915Z"
   },
   {
    "duration": 79836,
    "start_time": "2023-06-30T18:10:25.124Z"
   },
   {
    "duration": 2343,
    "start_time": "2023-06-30T18:12:03.594Z"
   },
   {
    "duration": 793,
    "start_time": "2023-06-30T18:12:05.939Z"
   },
   {
    "duration": 79638,
    "start_time": "2023-06-30T18:12:30.774Z"
   },
   {
    "duration": 890,
    "start_time": "2023-06-30T18:14:31.349Z"
   },
   {
    "duration": 4,
    "start_time": "2023-06-30T18:14:40.992Z"
   },
   {
    "duration": 2,
    "start_time": "2023-06-30T18:14:42.397Z"
   },
   {
    "duration": 13350,
    "start_time": "2023-06-30T18:14:43.794Z"
   },
   {
    "duration": 3416,
    "start_time": "2023-06-30T18:14:57.145Z"
   },
   {
    "duration": 427,
    "start_time": "2023-06-30T18:15:09.518Z"
   },
   {
    "duration": 3,
    "start_time": "2023-06-30T18:15:25.421Z"
   },
   {
    "duration": 89,
    "start_time": "2023-06-30T18:15:25.725Z"
   },
   {
    "duration": 67,
    "start_time": "2023-06-30T18:15:27.230Z"
   },
   {
    "duration": 3,
    "start_time": "2023-06-30T18:15:36.040Z"
   },
   {
    "duration": 63,
    "start_time": "2023-06-30T18:15:37.109Z"
   },
   {
    "duration": 925,
    "start_time": "2023-06-30T18:16:43.646Z"
   },
   {
    "duration": 42,
    "start_time": "2023-06-30T18:16:49.135Z"
   },
   {
    "duration": 882,
    "start_time": "2023-06-30T18:22:53.337Z"
   },
   {
    "duration": 3,
    "start_time": "2023-06-30T18:22:56.497Z"
   },
   {
    "duration": 79703,
    "start_time": "2023-06-30T18:23:16.633Z"
   },
   {
    "duration": 80155,
    "start_time": "2023-06-30T20:15:37.480Z"
   },
   {
    "duration": 300,
    "start_time": "2023-06-30T22:16:01.513Z"
   },
   {
    "duration": 117,
    "start_time": "2023-06-30T23:26:28.626Z"
   },
   {
    "duration": 19,
    "start_time": "2023-06-30T23:26:28.797Z"
   },
   {
    "duration": 159,
    "start_time": "2023-06-30T23:26:39.817Z"
   },
   {
    "duration": 3,
    "start_time": "2023-06-30T23:26:42.305Z"
   },
   {
    "duration": 82796,
    "start_time": "2023-06-30T23:26:42.513Z"
   },
   {
    "duration": 78219,
    "start_time": "2023-06-30T23:28:05.310Z"
   },
   {
    "duration": 275,
    "start_time": "2023-06-30T23:29:23.531Z"
   },
   {
    "duration": 9,
    "start_time": "2023-06-30T23:42:50.174Z"
   },
   {
    "duration": 3,
    "start_time": "2023-06-30T23:42:50.312Z"
   },
   {
    "duration": 3,
    "start_time": "2023-06-30T23:43:32.365Z"
   },
   {
    "duration": 3,
    "start_time": "2023-06-30T23:43:34.084Z"
   },
   {
    "duration": 43,
    "start_time": "2023-06-30T23:43:49.656Z"
   },
   {
    "duration": 3,
    "start_time": "2023-06-30T23:44:40.982Z"
   },
   {
    "duration": 516,
    "start_time": "2023-06-30T23:44:41.128Z"
   },
   {
    "duration": 9,
    "start_time": "2023-06-30T23:45:15.928Z"
   },
   {
    "duration": 10,
    "start_time": "2023-06-30T23:45:22.736Z"
   },
   {
    "duration": 499,
    "start_time": "2023-06-30T23:56:08.749Z"
   },
   {
    "duration": 245,
    "start_time": "2023-06-30T23:56:23.893Z"
   },
   {
    "duration": 19,
    "start_time": "2023-06-30T23:56:34.348Z"
   },
   {
    "duration": 3,
    "start_time": "2023-06-30T23:57:00.037Z"
   },
   {
    "duration": 3,
    "start_time": "2023-06-30T23:57:00.501Z"
   },
   {
    "duration": 59,
    "start_time": "2023-06-30T23:57:01.054Z"
   },
   {
    "duration": 76,
    "start_time": "2023-06-30T23:57:02.589Z"
   },
   {
    "duration": 3,
    "start_time": "2023-07-01T00:03:38.320Z"
   },
   {
    "duration": 3,
    "start_time": "2023-07-01T00:03:38.494Z"
   },
   {
    "duration": 280,
    "start_time": "2023-07-01T00:03:38.625Z"
   },
   {
    "duration": 94,
    "start_time": "2023-07-01T00:03:38.907Z"
   },
   {
    "duration": 3,
    "start_time": "2023-07-01T00:03:52.678Z"
   },
   {
    "duration": 3,
    "start_time": "2023-07-01T00:03:54.190Z"
   },
   {
    "duration": 500,
    "start_time": "2023-07-01T00:03:54.753Z"
   },
   {
    "duration": 18,
    "start_time": "2023-07-01T00:03:55.736Z"
   },
   {
    "duration": 225,
    "start_time": "2023-07-01T00:04:19.401Z"
   },
   {
    "duration": 175,
    "start_time": "2023-07-01T00:04:59.537Z"
   },
   {
    "duration": 190,
    "start_time": "2023-07-01T00:05:17.440Z"
   },
   {
    "duration": 206,
    "start_time": "2023-07-01T00:05:48.586Z"
   },
   {
    "duration": 10,
    "start_time": "2023-07-01T00:06:32.087Z"
   },
   {
    "duration": 9,
    "start_time": "2023-07-01T00:06:40.297Z"
   },
   {
    "duration": 10,
    "start_time": "2023-07-01T00:06:48.983Z"
   },
   {
    "duration": 9,
    "start_time": "2023-07-01T00:06:55.937Z"
   },
   {
    "duration": 4,
    "start_time": "2023-07-01T00:07:01.154Z"
   },
   {
    "duration": 525,
    "start_time": "2023-07-01T00:07:03.113Z"
   },
   {
    "duration": 19,
    "start_time": "2023-07-01T00:07:05.225Z"
   },
   {
    "duration": 3,
    "start_time": "2023-07-01T00:17:38.429Z"
   },
   {
    "duration": 428,
    "start_time": "2023-07-01T00:17:38.918Z"
   },
   {
    "duration": 3,
    "start_time": "2023-07-01T00:19:15.605Z"
   },
   {
    "duration": 358,
    "start_time": "2023-07-01T00:19:17.282Z"
   },
   {
    "duration": 17,
    "start_time": "2023-07-01T00:19:22.791Z"
   },
   {
    "duration": 4,
    "start_time": "2023-07-01T00:28:12.897Z"
   },
   {
    "duration": 3,
    "start_time": "2023-07-01T00:28:13.884Z"
   },
   {
    "duration": 368,
    "start_time": "2023-07-01T00:28:14.071Z"
   },
   {
    "duration": 17,
    "start_time": "2023-07-01T00:28:14.441Z"
   },
   {
    "duration": 3,
    "start_time": "2023-07-01T00:28:17.321Z"
   },
   {
    "duration": 3,
    "start_time": "2023-07-01T00:28:19.441Z"
   },
   {
    "duration": 4248,
    "start_time": "2023-07-01T00:28:21.002Z"
   },
   {
    "duration": 3214,
    "start_time": "2023-07-01T00:28:25.252Z"
   },
   {
    "duration": 3,
    "start_time": "2023-07-01T00:29:09.967Z"
   },
   {
    "duration": 3,
    "start_time": "2023-07-01T00:29:10.267Z"
   },
   {
    "duration": 5632,
    "start_time": "2023-07-01T00:29:10.602Z"
   },
   {
    "duration": 3598,
    "start_time": "2023-07-01T00:29:16.236Z"
   },
   {
    "duration": 10,
    "start_time": "2023-07-01T00:40:44.072Z"
   },
   {
    "duration": 1440,
    "start_time": "2023-07-01T00:40:47.595Z"
   },
   {
    "duration": 770,
    "start_time": "2023-07-01T00:40:49.036Z"
   },
   {
    "duration": 11,
    "start_time": "2023-07-01T00:40:49.808Z"
   },
   {
    "duration": 118,
    "start_time": "2023-07-01T00:40:49.832Z"
   },
   {
    "duration": 89,
    "start_time": "2023-07-01T00:40:49.951Z"
   },
   {
    "duration": 117,
    "start_time": "2023-07-01T00:40:50.042Z"
   },
   {
    "duration": 71,
    "start_time": "2023-07-01T00:40:50.161Z"
   },
   {
    "duration": 22,
    "start_time": "2023-07-01T00:40:50.233Z"
   },
   {
    "duration": 85,
    "start_time": "2023-07-01T00:40:50.256Z"
   },
   {
    "duration": 69,
    "start_time": "2023-07-01T00:40:50.343Z"
   },
   {
    "duration": 66,
    "start_time": "2023-07-01T00:40:50.416Z"
   },
   {
    "duration": 228,
    "start_time": "2023-07-01T00:40:50.484Z"
   },
   {
    "duration": 74,
    "start_time": "2023-07-01T00:40:50.714Z"
   },
   {
    "duration": 3392,
    "start_time": "2023-07-01T00:40:50.790Z"
   },
   {
    "duration": 703062,
    "start_time": "2023-07-01T00:40:54.184Z"
   },
   {
    "duration": 0,
    "start_time": "2023-07-01T00:52:37.248Z"
   },
   {
    "duration": 0,
    "start_time": "2023-07-01T00:52:37.249Z"
   },
   {
    "duration": 0,
    "start_time": "2023-07-01T00:52:37.250Z"
   },
   {
    "duration": 0,
    "start_time": "2023-07-01T00:52:37.251Z"
   },
   {
    "duration": 0,
    "start_time": "2023-07-01T00:52:37.252Z"
   },
   {
    "duration": 0,
    "start_time": "2023-07-01T00:52:37.253Z"
   },
   {
    "duration": 0,
    "start_time": "2023-07-01T00:52:37.253Z"
   },
   {
    "duration": 0,
    "start_time": "2023-07-01T00:52:37.254Z"
   },
   {
    "duration": 0,
    "start_time": "2023-07-01T00:52:37.255Z"
   },
   {
    "duration": 0,
    "start_time": "2023-07-01T00:52:37.256Z"
   },
   {
    "duration": 0,
    "start_time": "2023-07-01T00:52:37.257Z"
   },
   {
    "duration": 0,
    "start_time": "2023-07-01T00:52:37.258Z"
   },
   {
    "duration": 0,
    "start_time": "2023-07-01T00:52:37.259Z"
   },
   {
    "duration": 0,
    "start_time": "2023-07-01T00:52:37.260Z"
   },
   {
    "duration": 0,
    "start_time": "2023-07-01T00:52:37.261Z"
   },
   {
    "duration": 0,
    "start_time": "2023-07-01T00:52:37.261Z"
   },
   {
    "duration": 0,
    "start_time": "2023-07-01T00:52:37.262Z"
   },
   {
    "duration": 0,
    "start_time": "2023-07-01T00:52:37.263Z"
   },
   {
    "duration": 1308,
    "start_time": "2023-07-01T00:53:22.896Z"
   },
   {
    "duration": 828,
    "start_time": "2023-07-01T00:53:24.206Z"
   },
   {
    "duration": 11,
    "start_time": "2023-07-01T00:53:25.036Z"
   },
   {
    "duration": 138,
    "start_time": "2023-07-01T00:53:25.049Z"
   },
   {
    "duration": 91,
    "start_time": "2023-07-01T00:53:25.188Z"
   },
   {
    "duration": 133,
    "start_time": "2023-07-01T00:53:25.280Z"
   },
   {
    "duration": 62,
    "start_time": "2023-07-01T00:53:25.414Z"
   },
   {
    "duration": 16,
    "start_time": "2023-07-01T00:53:25.477Z"
   },
   {
    "duration": 76,
    "start_time": "2023-07-01T00:53:25.495Z"
   },
   {
    "duration": 73,
    "start_time": "2023-07-01T00:53:25.573Z"
   },
   {
    "duration": 62,
    "start_time": "2023-07-01T00:53:25.648Z"
   },
   {
    "duration": 229,
    "start_time": "2023-07-01T00:53:25.711Z"
   },
   {
    "duration": 67,
    "start_time": "2023-07-01T00:53:25.942Z"
   },
   {
    "duration": 3321,
    "start_time": "2023-07-01T00:53:26.011Z"
   },
   {
    "duration": 306907,
    "start_time": "2023-07-01T00:53:29.334Z"
   },
   {
    "duration": 4,
    "start_time": "2023-07-01T00:58:36.242Z"
   },
   {
    "duration": 19,
    "start_time": "2023-07-01T00:58:36.247Z"
   },
   {
    "duration": 1803,
    "start_time": "2023-07-01T00:58:36.267Z"
   },
   {
    "duration": 136,
    "start_time": "2023-07-01T00:58:38.072Z"
   },
   {
    "duration": 3,
    "start_time": "2023-07-01T00:58:38.209Z"
   },
   {
    "duration": 80886,
    "start_time": "2023-07-01T00:58:38.214Z"
   },
   {
    "duration": 80066,
    "start_time": "2023-07-01T00:59:59.102Z"
   },
   {
    "duration": 278,
    "start_time": "2023-07-01T01:01:19.169Z"
   },
   {
    "duration": 3,
    "start_time": "2023-07-01T01:01:19.449Z"
   },
   {
    "duration": 8,
    "start_time": "2023-07-01T01:01:19.454Z"
   },
   {
    "duration": 10876,
    "start_time": "2023-07-01T01:01:19.464Z"
   },
   {
    "duration": 3804,
    "start_time": "2023-07-01T01:01:30.342Z"
   },
   {
    "duration": 9,
    "start_time": "2023-07-01T01:01:34.149Z"
   },
   {
    "duration": 27698,
    "start_time": "2023-07-01T01:01:34.159Z"
   },
   {
    "duration": 115,
    "start_time": "2023-07-01T01:02:01.859Z"
   },
   {
    "duration": 99,
    "start_time": "2023-07-01T01:04:55.818Z"
   },
   {
    "duration": 79838,
    "start_time": "2023-07-01T01:05:03.422Z"
   },
   {
    "duration": 283,
    "start_time": "2023-07-01T01:06:23.262Z"
   },
   {
    "duration": 297,
    "start_time": "2023-07-01T01:07:31.777Z"
   },
   {
    "duration": 4,
    "start_time": "2023-07-01T01:07:32.543Z"
   },
   {
    "duration": 3,
    "start_time": "2023-07-01T01:07:33.280Z"
   },
   {
    "duration": 10965,
    "start_time": "2023-07-01T01:07:34.568Z"
   },
   {
    "duration": 4018,
    "start_time": "2023-07-01T01:07:45.535Z"
   },
   {
    "duration": 11,
    "start_time": "2023-07-01T01:07:49.555Z"
   },
   {
    "duration": 10,
    "start_time": "2023-07-01T01:08:09.209Z"
   },
   {
    "duration": 10,
    "start_time": "2023-07-01T01:08:24.058Z"
   },
   {
    "duration": 3,
    "start_time": "2023-07-01T01:08:41.305Z"
   },
   {
    "duration": 4,
    "start_time": "2023-07-01T01:08:41.672Z"
   },
   {
    "duration": 11128,
    "start_time": "2023-07-01T01:08:42.010Z"
   },
   {
    "duration": 3803,
    "start_time": "2023-07-01T01:08:53.140Z"
   },
   {
    "duration": 9,
    "start_time": "2023-07-01T01:08:56.945Z"
   },
   {
    "duration": 3763,
    "start_time": "2023-07-01T01:09:27.793Z"
   },
   {
    "duration": 9,
    "start_time": "2023-07-01T01:09:31.558Z"
   },
   {
    "duration": 10,
    "start_time": "2023-07-01T01:10:03.362Z"
   },
   {
    "duration": 1395,
    "start_time": "2023-07-01T01:54:37.709Z"
   },
   {
    "duration": 773,
    "start_time": "2023-07-01T01:54:39.106Z"
   },
   {
    "duration": 12,
    "start_time": "2023-07-01T01:54:39.880Z"
   },
   {
    "duration": 138,
    "start_time": "2023-07-01T01:54:39.893Z"
   },
   {
    "duration": 100,
    "start_time": "2023-07-01T01:54:40.033Z"
   },
   {
    "duration": 134,
    "start_time": "2023-07-01T01:54:40.134Z"
   },
   {
    "duration": 66,
    "start_time": "2023-07-01T01:54:40.269Z"
   },
   {
    "duration": 18,
    "start_time": "2023-07-01T01:54:40.336Z"
   },
   {
    "duration": 62,
    "start_time": "2023-07-01T01:54:40.355Z"
   },
   {
    "duration": 67,
    "start_time": "2023-07-01T01:54:40.432Z"
   },
   {
    "duration": 71,
    "start_time": "2023-07-01T01:54:40.501Z"
   },
   {
    "duration": 226,
    "start_time": "2023-07-01T01:54:40.573Z"
   },
   {
    "duration": 73,
    "start_time": "2023-07-01T01:54:40.801Z"
   },
   {
    "duration": 3263,
    "start_time": "2023-07-01T01:54:40.875Z"
   },
   {
    "duration": 304839,
    "start_time": "2023-07-01T01:54:44.139Z"
   },
   {
    "duration": 4,
    "start_time": "2023-07-01T01:59:48.980Z"
   },
   {
    "duration": 9,
    "start_time": "2023-07-01T01:59:48.985Z"
   },
   {
    "duration": 1872,
    "start_time": "2023-07-01T01:59:48.996Z"
   },
   {
    "duration": 125,
    "start_time": "2023-07-01T01:59:50.869Z"
   },
   {
    "duration": 2,
    "start_time": "2023-07-01T01:59:50.995Z"
   },
   {
    "duration": 116,
    "start_time": "2023-07-01T01:59:50.999Z"
   },
   {
    "duration": 79037,
    "start_time": "2023-07-01T01:59:51.116Z"
   },
   {
    "duration": 433,
    "start_time": "2023-07-01T02:01:10.155Z"
   },
   {
    "duration": 3,
    "start_time": "2023-07-01T02:01:10.589Z"
   },
   {
    "duration": 18,
    "start_time": "2023-07-01T02:01:10.593Z"
   },
   {
    "duration": 14731,
    "start_time": "2023-07-01T02:01:10.612Z"
   },
   {
    "duration": 3805,
    "start_time": "2023-07-01T02:01:25.345Z"
   },
   {
    "duration": 9,
    "start_time": "2023-07-01T02:01:29.153Z"
   },
   {
    "duration": 27239,
    "start_time": "2023-07-01T02:01:29.163Z"
   },
   {
    "duration": 116,
    "start_time": "2023-07-01T02:01:56.404Z"
   },
   {
    "duration": 1246,
    "start_time": "2023-07-01T02:01:56.521Z"
   },
   {
    "duration": 123,
    "start_time": "2023-07-01T02:01:57.769Z"
   },
   {
    "duration": 4,
    "start_time": "2023-07-01T02:02:42.607Z"
   },
   {
    "duration": 4,
    "start_time": "2023-07-01T02:02:43.614Z"
   },
   {
    "duration": 1257,
    "start_time": "2023-07-01T02:02:45.183Z"
   },
   {
    "duration": 130,
    "start_time": "2023-07-01T02:02:46.442Z"
   },
   {
    "duration": 2,
    "start_time": "2023-07-01T02:02:49.198Z"
   },
   {
    "duration": 113,
    "start_time": "2023-07-01T02:02:49.351Z"
   },
   {
    "duration": 78837,
    "start_time": "2023-07-01T02:02:49.967Z"
   },
   {
    "duration": 277,
    "start_time": "2023-07-01T02:04:08.806Z"
   },
   {
    "duration": 3,
    "start_time": "2023-07-01T02:04:09.084Z"
   },
   {
    "duration": 6,
    "start_time": "2023-07-01T02:04:09.089Z"
   },
   {
    "duration": 11046,
    "start_time": "2023-07-01T02:04:09.096Z"
   },
   {
    "duration": 3815,
    "start_time": "2023-07-01T02:04:20.144Z"
   },
   {
    "duration": 10,
    "start_time": "2023-07-01T02:04:23.961Z"
   },
   {
    "duration": 27254,
    "start_time": "2023-07-01T02:04:23.973Z"
   },
   {
    "duration": 111,
    "start_time": "2023-07-01T02:04:51.229Z"
   },
   {
    "duration": 2991,
    "start_time": "2023-07-01T02:06:51.209Z"
   },
   {
    "duration": 2272,
    "start_time": "2023-07-01T02:06:56.857Z"
   },
   {
    "duration": 0,
    "start_time": "2023-07-01T02:06:59.131Z"
   },
   {
    "duration": 2542,
    "start_time": "2023-07-01T02:07:22.313Z"
   },
   {
    "duration": 78795,
    "start_time": "2023-07-01T02:08:13.914Z"
   },
   {
    "duration": 282,
    "start_time": "2023-07-01T02:09:32.711Z"
   },
   {
    "duration": 9,
    "start_time": "2023-07-01T02:11:12.603Z"
   },
   {
    "duration": 9,
    "start_time": "2023-07-01T02:11:57.260Z"
   },
   {
    "duration": 16,
    "start_time": "2023-07-01T02:14:02.340Z"
   },
   {
    "duration": 16,
    "start_time": "2023-07-01T02:14:13.532Z"
   },
   {
    "duration": 12,
    "start_time": "2023-07-01T02:14:25.405Z"
   },
   {
    "duration": 10764,
    "start_time": "2023-07-01T02:14:31.268Z"
   },
   {
    "duration": 15961,
    "start_time": "2023-07-01T02:15:01.580Z"
   },
   {
    "duration": 3893,
    "start_time": "2023-07-01T02:15:17.543Z"
   },
   {
    "duration": 13,
    "start_time": "2023-07-01T02:15:37.997Z"
   },
   {
    "duration": 289,
    "start_time": "2023-07-01T02:17:24.471Z"
   },
   {
    "duration": 3161,
    "start_time": "2023-07-01T02:17:26.277Z"
   },
   {
    "duration": 1368,
    "start_time": "2023-07-01T02:17:29.440Z"
   },
   {
    "duration": 0,
    "start_time": "2023-07-01T02:17:30.810Z"
   },
   {
    "duration": 0,
    "start_time": "2023-07-01T02:17:30.811Z"
   },
   {
    "duration": 0,
    "start_time": "2023-07-01T02:17:30.811Z"
   },
   {
    "duration": 0,
    "start_time": "2023-07-01T02:17:30.813Z"
   },
   {
    "duration": 1577,
    "start_time": "2023-07-01T02:17:36.354Z"
   },
   {
    "duration": 842,
    "start_time": "2023-07-01T02:17:37.933Z"
   },
   {
    "duration": 12,
    "start_time": "2023-07-01T02:17:38.776Z"
   },
   {
    "duration": 163,
    "start_time": "2023-07-01T02:17:38.790Z"
   },
   {
    "duration": 101,
    "start_time": "2023-07-01T02:17:38.954Z"
   },
   {
    "duration": 129,
    "start_time": "2023-07-01T02:17:39.057Z"
   },
   {
    "duration": 63,
    "start_time": "2023-07-01T02:17:39.188Z"
   },
   {
    "duration": 15,
    "start_time": "2023-07-01T02:17:39.252Z"
   },
   {
    "duration": 74,
    "start_time": "2023-07-01T02:17:39.269Z"
   },
   {
    "duration": 64,
    "start_time": "2023-07-01T02:17:39.346Z"
   },
   {
    "duration": 70,
    "start_time": "2023-07-01T02:17:39.412Z"
   },
   {
    "duration": 270,
    "start_time": "2023-07-01T02:17:39.484Z"
   },
   {
    "duration": 3400,
    "start_time": "2023-07-01T02:17:39.756Z"
   },
   {
    "duration": 306928,
    "start_time": "2023-07-01T02:17:43.158Z"
   },
   {
    "duration": 3,
    "start_time": "2023-07-01T02:22:50.088Z"
   },
   {
    "duration": 9,
    "start_time": "2023-07-01T02:22:50.093Z"
   },
   {
    "duration": 1242,
    "start_time": "2023-07-01T02:22:50.104Z"
   },
   {
    "duration": 130,
    "start_time": "2023-07-01T02:22:51.348Z"
   },
   {
    "duration": 3,
    "start_time": "2023-07-01T02:22:51.479Z"
   },
   {
    "duration": 94,
    "start_time": "2023-07-01T02:22:51.484Z"
   },
   {
    "duration": 79014,
    "start_time": "2023-07-01T02:22:51.580Z"
   },
   {
    "duration": 252,
    "start_time": "2023-07-01T02:24:10.596Z"
   },
   {
    "duration": 4,
    "start_time": "2023-07-01T02:24:10.849Z"
   },
   {
    "duration": 20,
    "start_time": "2023-07-01T02:24:10.855Z"
   },
   {
    "duration": 18460,
    "start_time": "2023-07-01T02:24:10.877Z"
   },
   {
    "duration": 3721,
    "start_time": "2023-07-01T02:24:29.339Z"
   },
   {
    "duration": 10,
    "start_time": "2023-07-01T02:24:33.062Z"
   },
   {
    "duration": 11471,
    "start_time": "2023-07-01T02:24:33.074Z"
   },
   {
    "duration": 1312,
    "start_time": "2023-07-01T02:24:44.547Z"
   },
   {
    "duration": 104,
    "start_time": "2023-07-01T02:26:37.241Z"
   },
   {
    "duration": 18484,
    "start_time": "2023-07-01T02:26:58.666Z"
   },
   {
    "duration": 98637,
    "start_time": "2023-07-01T02:27:19.505Z"
   },
   {
    "duration": 73158,
    "start_time": "2023-07-01T02:29:20.274Z"
   },
   {
    "duration": 10,
    "start_time": "2023-07-01T02:34:25.373Z"
   },
   {
    "duration": 1502,
    "start_time": "2023-07-01T08:02:18.433Z"
   },
   {
    "duration": 1567,
    "start_time": "2023-07-01T08:02:19.938Z"
   },
   {
    "duration": 21,
    "start_time": "2023-07-01T08:02:21.508Z"
   },
   {
    "duration": 191,
    "start_time": "2023-07-01T08:02:21.532Z"
   },
   {
    "duration": 116,
    "start_time": "2023-07-01T08:02:21.725Z"
   },
   {
    "duration": 164,
    "start_time": "2023-07-01T08:02:21.853Z"
   },
   {
    "duration": 82,
    "start_time": "2023-07-01T08:02:22.019Z"
   },
   {
    "duration": 26,
    "start_time": "2023-07-01T08:02:22.104Z"
   },
   {
    "duration": 90,
    "start_time": "2023-07-01T08:02:22.132Z"
   },
   {
    "duration": 100,
    "start_time": "2023-07-01T08:02:22.226Z"
   },
   {
    "duration": 86,
    "start_time": "2023-07-01T08:02:22.329Z"
   },
   {
    "duration": 378,
    "start_time": "2023-07-01T08:02:22.417Z"
   },
   {
    "duration": 5458,
    "start_time": "2023-07-01T08:02:22.797Z"
   },
   {
    "duration": 72665,
    "start_time": "2023-07-01T08:02:28.257Z"
   },
   {
    "duration": 0,
    "start_time": "2023-07-01T08:03:40.924Z"
   },
   {
    "duration": 0,
    "start_time": "2023-07-01T08:03:40.925Z"
   },
   {
    "duration": 0,
    "start_time": "2023-07-01T08:03:40.927Z"
   },
   {
    "duration": 0,
    "start_time": "2023-07-01T08:03:40.929Z"
   },
   {
    "duration": 0,
    "start_time": "2023-07-01T08:03:40.930Z"
   },
   {
    "duration": 0,
    "start_time": "2023-07-01T08:03:40.932Z"
   },
   {
    "duration": 0,
    "start_time": "2023-07-01T08:03:40.933Z"
   },
   {
    "duration": 0,
    "start_time": "2023-07-01T08:03:40.935Z"
   },
   {
    "duration": 0,
    "start_time": "2023-07-01T08:03:40.936Z"
   },
   {
    "duration": 0,
    "start_time": "2023-07-01T08:03:40.937Z"
   },
   {
    "duration": 0,
    "start_time": "2023-07-01T08:03:40.953Z"
   },
   {
    "duration": 0,
    "start_time": "2023-07-01T08:03:40.956Z"
   },
   {
    "duration": 0,
    "start_time": "2023-07-01T08:03:40.958Z"
   },
   {
    "duration": 0,
    "start_time": "2023-07-01T08:03:40.959Z"
   },
   {
    "duration": 0,
    "start_time": "2023-07-01T08:03:40.960Z"
   },
   {
    "duration": 1775,
    "start_time": "2023-07-01T12:22:35.853Z"
   },
   {
    "duration": 1254,
    "start_time": "2023-07-01T12:22:37.631Z"
   },
   {
    "duration": 18,
    "start_time": "2023-07-01T12:22:38.887Z"
   },
   {
    "duration": 149,
    "start_time": "2023-07-01T12:22:38.908Z"
   },
   {
    "duration": 119,
    "start_time": "2023-07-01T12:22:39.059Z"
   },
   {
    "duration": 163,
    "start_time": "2023-07-01T12:22:39.180Z"
   },
   {
    "duration": 94,
    "start_time": "2023-07-01T12:22:39.345Z"
   },
   {
    "duration": 22,
    "start_time": "2023-07-01T12:22:39.441Z"
   },
   {
    "duration": 86,
    "start_time": "2023-07-01T12:22:39.465Z"
   },
   {
    "duration": 98,
    "start_time": "2023-07-01T12:22:39.554Z"
   },
   {
    "duration": 91,
    "start_time": "2023-07-01T12:22:39.654Z"
   },
   {
    "duration": 348,
    "start_time": "2023-07-01T12:22:39.747Z"
   },
   {
    "duration": 3926,
    "start_time": "2023-07-01T12:22:40.097Z"
   },
   {
    "duration": 422471,
    "start_time": "2023-07-01T12:22:44.025Z"
   },
   {
    "duration": 8,
    "start_time": "2023-07-01T12:29:46.497Z"
   },
   {
    "duration": 16,
    "start_time": "2023-07-01T12:29:46.515Z"
   },
   {
    "duration": 1832,
    "start_time": "2023-07-01T12:29:46.533Z"
   },
   {
    "duration": 162,
    "start_time": "2023-07-01T12:29:48.367Z"
   },
   {
    "duration": 4,
    "start_time": "2023-07-01T12:29:48.531Z"
   },
   {
    "duration": 117,
    "start_time": "2023-07-01T12:29:48.537Z"
   },
   {
    "duration": 109102,
    "start_time": "2023-07-01T12:29:48.656Z"
   },
   {
    "duration": 321,
    "start_time": "2023-07-01T12:31:37.759Z"
   },
   {
    "duration": 3,
    "start_time": "2023-07-01T12:31:38.082Z"
   },
   {
    "duration": 25,
    "start_time": "2023-07-01T12:31:38.086Z"
   },
   {
    "duration": 857206,
    "start_time": "2023-07-01T12:31:38.121Z"
   },
   {
    "duration": 4512,
    "start_time": "2023-07-01T12:45:55.329Z"
   },
   {
    "duration": 76,
    "start_time": "2023-07-01T12:45:59.843Z"
   },
   {
    "duration": 73,
    "start_time": "2023-07-01T16:25:05.180Z"
   },
   {
    "duration": 1639,
    "start_time": "2023-07-01T16:25:11.905Z"
   },
   {
    "duration": 1166,
    "start_time": "2023-07-01T16:25:13.547Z"
   },
   {
    "duration": 15,
    "start_time": "2023-07-01T16:25:14.715Z"
   },
   {
    "duration": 137,
    "start_time": "2023-07-01T16:25:14.734Z"
   },
   {
    "duration": 122,
    "start_time": "2023-07-01T16:25:14.873Z"
   },
   {
    "duration": 156,
    "start_time": "2023-07-01T16:25:15.002Z"
   },
   {
    "duration": 69,
    "start_time": "2023-07-01T16:25:15.160Z"
   },
   {
    "duration": 49,
    "start_time": "2023-07-01T16:25:15.231Z"
   },
   {
    "duration": 113,
    "start_time": "2023-07-01T16:25:15.282Z"
   },
   {
    "duration": 21,
    "start_time": "2023-07-01T16:25:15.401Z"
   },
   {
    "duration": 94,
    "start_time": "2023-07-01T16:25:15.424Z"
   },
   {
    "duration": 61,
    "start_time": "2023-07-01T16:25:15.520Z"
   },
   {
    "duration": 322,
    "start_time": "2023-07-01T16:25:15.601Z"
   },
   {
    "duration": 4618,
    "start_time": "2023-07-01T16:25:15.925Z"
   },
   {
    "duration": 0,
    "start_time": "2023-07-01T16:25:20.546Z"
   },
   {
    "duration": 0,
    "start_time": "2023-07-01T16:25:20.548Z"
   },
   {
    "duration": 0,
    "start_time": "2023-07-01T16:25:20.550Z"
   },
   {
    "duration": 0,
    "start_time": "2023-07-01T16:25:20.551Z"
   },
   {
    "duration": 0,
    "start_time": "2023-07-01T16:25:20.552Z"
   },
   {
    "duration": 0,
    "start_time": "2023-07-01T16:25:20.553Z"
   },
   {
    "duration": 0,
    "start_time": "2023-07-01T16:25:20.554Z"
   },
   {
    "duration": 0,
    "start_time": "2023-07-01T16:25:20.556Z"
   },
   {
    "duration": 0,
    "start_time": "2023-07-01T16:25:20.557Z"
   },
   {
    "duration": 0,
    "start_time": "2023-07-01T16:25:20.558Z"
   },
   {
    "duration": 0,
    "start_time": "2023-07-01T16:25:20.560Z"
   },
   {
    "duration": 0,
    "start_time": "2023-07-01T16:25:20.562Z"
   },
   {
    "duration": 0,
    "start_time": "2023-07-01T16:25:20.564Z"
   },
   {
    "duration": 0,
    "start_time": "2023-07-01T16:25:20.566Z"
   },
   {
    "duration": 0,
    "start_time": "2023-07-01T16:25:20.570Z"
   },
   {
    "duration": 0,
    "start_time": "2023-07-01T16:25:20.572Z"
   },
   {
    "duration": 9,
    "start_time": "2023-07-01T18:42:40.762Z"
   },
   {
    "duration": 10,
    "start_time": "2023-07-01T18:42:44.599Z"
   },
   {
    "duration": 9,
    "start_time": "2023-07-01T18:42:45.394Z"
   },
   {
    "duration": 5,
    "start_time": "2023-07-01T18:42:51.033Z"
   },
   {
    "duration": 781,
    "start_time": "2023-07-01T18:42:51.714Z"
   },
   {
    "duration": 14,
    "start_time": "2023-07-01T18:42:52.501Z"
   },
   {
    "duration": 111,
    "start_time": "2023-07-01T18:42:52.577Z"
   },
   {
    "duration": 88,
    "start_time": "2023-07-01T18:42:53.000Z"
   },
   {
    "duration": 110,
    "start_time": "2023-07-01T18:42:54.291Z"
   },
   {
    "duration": 61,
    "start_time": "2023-07-01T18:42:56.313Z"
   },
   {
    "duration": 18,
    "start_time": "2023-07-01T18:42:57.842Z"
   },
   {
    "duration": 61,
    "start_time": "2023-07-01T18:42:58.026Z"
   },
   {
    "duration": 11,
    "start_time": "2023-07-01T18:42:58.178Z"
   },
   {
    "duration": 57,
    "start_time": "2023-07-01T18:42:59.681Z"
   },
   {
    "duration": 72,
    "start_time": "2023-07-01T18:43:10.189Z"
   },
   {
    "duration": 77,
    "start_time": "2023-07-01T18:43:10.329Z"
   },
   {
    "duration": 4,
    "start_time": "2023-07-01T18:47:34.542Z"
   },
   {
    "duration": 55,
    "start_time": "2023-07-01T18:47:38.412Z"
   },
   {
    "duration": 11,
    "start_time": "2023-07-01T18:47:38.660Z"
   },
   {
    "duration": 3,
    "start_time": "2023-07-01T18:47:38.838Z"
   },
   {
    "duration": 1716,
    "start_time": "2023-07-01T18:47:47.210Z"
   },
   {
    "duration": 820,
    "start_time": "2023-07-01T18:47:48.928Z"
   },
   {
    "duration": 21,
    "start_time": "2023-07-01T18:47:49.750Z"
   },
   {
    "duration": 138,
    "start_time": "2023-07-01T18:47:49.773Z"
   },
   {
    "duration": 117,
    "start_time": "2023-07-01T18:47:49.915Z"
   },
   {
    "duration": 146,
    "start_time": "2023-07-01T18:47:50.034Z"
   },
   {
    "duration": 66,
    "start_time": "2023-07-01T18:47:50.182Z"
   },
   {
    "duration": 24,
    "start_time": "2023-07-01T18:47:50.251Z"
   },
   {
    "duration": 79,
    "start_time": "2023-07-01T18:47:50.277Z"
   },
   {
    "duration": 26,
    "start_time": "2023-07-01T18:47:50.362Z"
   },
   {
    "duration": 31,
    "start_time": "2023-07-01T18:47:50.393Z"
   },
   {
    "duration": 99,
    "start_time": "2023-07-01T18:47:50.426Z"
   },
   {
    "duration": 123,
    "start_time": "2023-07-01T18:47:50.528Z"
   },
   {
    "duration": 69,
    "start_time": "2023-07-01T18:47:50.656Z"
   },
   {
    "duration": 316,
    "start_time": "2023-07-01T18:47:50.727Z"
   },
   {
    "duration": 3436,
    "start_time": "2023-07-01T18:47:51.045Z"
   },
   {
    "duration": 11520,
    "start_time": "2023-07-01T18:47:54.483Z"
   },
   {
    "duration": 0,
    "start_time": "2023-07-01T18:48:06.005Z"
   },
   {
    "duration": 0,
    "start_time": "2023-07-01T18:48:06.007Z"
   },
   {
    "duration": 0,
    "start_time": "2023-07-01T18:48:06.008Z"
   },
   {
    "duration": 0,
    "start_time": "2023-07-01T18:48:06.009Z"
   },
   {
    "duration": 0,
    "start_time": "2023-07-01T18:48:06.010Z"
   },
   {
    "duration": 0,
    "start_time": "2023-07-01T18:48:06.011Z"
   },
   {
    "duration": 1,
    "start_time": "2023-07-01T18:48:06.012Z"
   },
   {
    "duration": 0,
    "start_time": "2023-07-01T18:48:06.013Z"
   },
   {
    "duration": 0,
    "start_time": "2023-07-01T18:48:06.015Z"
   },
   {
    "duration": 0,
    "start_time": "2023-07-01T18:48:06.016Z"
   },
   {
    "duration": 0,
    "start_time": "2023-07-01T18:48:06.018Z"
   },
   {
    "duration": 0,
    "start_time": "2023-07-01T18:48:06.019Z"
   },
   {
    "duration": 0,
    "start_time": "2023-07-01T18:48:06.020Z"
   },
   {
    "duration": 0,
    "start_time": "2023-07-01T18:48:06.022Z"
   },
   {
    "duration": 0,
    "start_time": "2023-07-01T18:48:06.024Z"
   },
   {
    "duration": 2149,
    "start_time": "2023-07-02T09:13:50.139Z"
   },
   {
    "duration": 4150,
    "start_time": "2023-07-02T09:13:52.297Z"
   },
   {
    "duration": 15,
    "start_time": "2023-07-02T09:13:56.448Z"
   },
   {
    "duration": 179,
    "start_time": "2023-07-02T09:13:56.465Z"
   },
   {
    "duration": 114,
    "start_time": "2023-07-02T09:13:56.646Z"
   },
   {
    "duration": 168,
    "start_time": "2023-07-02T09:13:56.767Z"
   },
   {
    "duration": 90,
    "start_time": "2023-07-02T09:13:56.937Z"
   },
   {
    "duration": 19,
    "start_time": "2023-07-02T09:13:57.029Z"
   },
   {
    "duration": 104,
    "start_time": "2023-07-02T09:13:57.050Z"
   },
   {
    "duration": 34,
    "start_time": "2023-07-02T09:13:57.157Z"
   },
   {
    "duration": 4,
    "start_time": "2023-07-02T09:13:57.193Z"
   },
   {
    "duration": 108,
    "start_time": "2023-07-02T09:13:57.199Z"
   },
   {
    "duration": 98,
    "start_time": "2023-07-02T09:13:57.309Z"
   },
   {
    "duration": 63,
    "start_time": "2023-07-02T09:13:57.414Z"
   },
   {
    "duration": 375,
    "start_time": "2023-07-02T09:13:57.478Z"
   },
   {
    "duration": 4297,
    "start_time": "2023-07-02T09:13:57.854Z"
   },
   {
    "duration": 434958,
    "start_time": "2023-07-02T09:14:02.153Z"
   },
   {
    "duration": 4,
    "start_time": "2023-07-02T09:21:17.113Z"
   },
   {
    "duration": 7,
    "start_time": "2023-07-02T09:21:17.118Z"
   },
   {
    "duration": 1808,
    "start_time": "2023-07-02T09:21:17.126Z"
   },
   {
    "duration": 175,
    "start_time": "2023-07-02T09:21:18.936Z"
   },
   {
    "duration": 3,
    "start_time": "2023-07-02T09:21:19.113Z"
   },
   {
    "duration": 132,
    "start_time": "2023-07-02T09:21:19.118Z"
   },
   {
    "duration": 106764,
    "start_time": "2023-07-02T09:21:19.252Z"
   },
   {
    "duration": 337,
    "start_time": "2023-07-02T09:23:06.018Z"
   },
   {
    "duration": 3,
    "start_time": "2023-07-02T09:23:06.357Z"
   },
   {
    "duration": 18,
    "start_time": "2023-07-02T09:23:06.362Z"
   },
   {
    "duration": 445901,
    "start_time": "2023-07-02T09:23:06.386Z"
   },
   {
    "duration": 4507,
    "start_time": "2023-07-02T09:30:32.289Z"
   },
   {
    "duration": 12,
    "start_time": "2023-07-02T09:30:36.798Z"
   },
   {
    "duration": 508277,
    "start_time": "2023-07-02T09:30:36.811Z"
   },
   {
    "duration": 1610,
    "start_time": "2023-07-02T09:39:05.097Z"
   },
   {
    "duration": 1793,
    "start_time": "2023-07-02T12:20:09.948Z"
   },
   {
    "duration": 3374,
    "start_time": "2023-07-02T12:20:11.743Z"
   },
   {
    "duration": 15,
    "start_time": "2023-07-02T12:20:15.119Z"
   },
   {
    "duration": 138,
    "start_time": "2023-07-02T12:20:15.136Z"
   },
   {
    "duration": 127,
    "start_time": "2023-07-02T12:20:15.277Z"
   },
   {
    "duration": 150,
    "start_time": "2023-07-02T12:20:15.406Z"
   },
   {
    "duration": 60,
    "start_time": "2023-07-02T12:20:15.563Z"
   },
   {
    "duration": 16,
    "start_time": "2023-07-02T12:20:15.625Z"
   },
   {
    "duration": 70,
    "start_time": "2023-07-02T12:20:15.642Z"
   },
   {
    "duration": 15,
    "start_time": "2023-07-02T12:20:15.715Z"
   },
   {
    "duration": 3,
    "start_time": "2023-07-02T12:20:15.732Z"
   },
   {
    "duration": 83,
    "start_time": "2023-07-02T12:20:15.737Z"
   },
   {
    "duration": 97,
    "start_time": "2023-07-02T12:20:15.822Z"
   },
   {
    "duration": 68,
    "start_time": "2023-07-02T12:20:15.920Z"
   },
   {
    "duration": 337,
    "start_time": "2023-07-02T12:20:15.990Z"
   },
   {
    "duration": 3464,
    "start_time": "2023-07-02T12:20:16.328Z"
   },
   {
    "duration": 372924,
    "start_time": "2023-07-02T12:20:19.793Z"
   },
   {
    "duration": 3,
    "start_time": "2023-07-02T12:26:32.719Z"
   },
   {
    "duration": 5,
    "start_time": "2023-07-02T12:26:32.724Z"
   },
   {
    "duration": 1714,
    "start_time": "2023-07-02T12:26:32.730Z"
   },
   {
    "duration": 158,
    "start_time": "2023-07-02T12:26:34.446Z"
   },
   {
    "duration": 3,
    "start_time": "2023-07-02T12:26:34.606Z"
   },
   {
    "duration": 135,
    "start_time": "2023-07-02T12:26:34.610Z"
   },
   {
    "duration": 91027,
    "start_time": "2023-07-02T12:26:34.747Z"
   },
   {
    "duration": 265,
    "start_time": "2023-07-02T12:28:05.776Z"
   },
   {
    "duration": 3,
    "start_time": "2023-07-02T12:28:06.043Z"
   },
   {
    "duration": 22,
    "start_time": "2023-07-02T12:28:06.047Z"
   },
   {
    "duration": 159698,
    "start_time": "2023-07-02T12:28:06.072Z"
   },
   {
    "duration": 3910,
    "start_time": "2023-07-02T12:30:45.772Z"
   },
   {
    "duration": 84,
    "start_time": "2023-07-02T12:30:49.684Z"
   },
   {
    "duration": 91593,
    "start_time": "2023-07-02T12:30:49.770Z"
   },
   {
    "duration": 1305,
    "start_time": "2023-07-02T12:32:21.365Z"
   },
   {
    "duration": 1686,
    "start_time": "2023-07-02T12:37:31.598Z"
   },
   {
    "duration": 1718,
    "start_time": "2023-07-02T12:37:56.395Z"
   },
   {
    "duration": 1327,
    "start_time": "2023-07-02T12:46:06.009Z"
   },
   {
    "duration": 794,
    "start_time": "2023-07-02T12:46:07.338Z"
   },
   {
    "duration": 13,
    "start_time": "2023-07-02T12:46:08.133Z"
   },
   {
    "duration": 143,
    "start_time": "2023-07-02T12:46:08.148Z"
   },
   {
    "duration": 96,
    "start_time": "2023-07-02T12:46:08.294Z"
   },
   {
    "duration": 158,
    "start_time": "2023-07-02T12:46:08.392Z"
   },
   {
    "duration": 61,
    "start_time": "2023-07-02T12:46:08.552Z"
   },
   {
    "duration": 35,
    "start_time": "2023-07-02T12:46:08.615Z"
   },
   {
    "duration": 62,
    "start_time": "2023-07-02T12:46:08.651Z"
   },
   {
    "duration": 15,
    "start_time": "2023-07-02T12:46:08.714Z"
   },
   {
    "duration": 3,
    "start_time": "2023-07-02T12:46:08.730Z"
   },
   {
    "duration": 69,
    "start_time": "2023-07-02T12:46:08.734Z"
   },
   {
    "duration": 82,
    "start_time": "2023-07-02T12:46:08.805Z"
   },
   {
    "duration": 53,
    "start_time": "2023-07-02T12:46:08.890Z"
   },
   {
    "duration": 299,
    "start_time": "2023-07-02T12:46:08.945Z"
   },
   {
    "duration": 3502,
    "start_time": "2023-07-02T12:46:09.245Z"
   },
   {
    "duration": 390375,
    "start_time": "2023-07-02T12:46:12.749Z"
   },
   {
    "duration": 5,
    "start_time": "2023-07-02T12:52:43.127Z"
   },
   {
    "duration": 12,
    "start_time": "2023-07-02T12:52:43.134Z"
   },
   {
    "duration": 1846,
    "start_time": "2023-07-02T12:52:43.148Z"
   },
   {
    "duration": 165,
    "start_time": "2023-07-02T12:52:44.997Z"
   },
   {
    "duration": 8,
    "start_time": "2023-07-02T12:52:45.171Z"
   },
   {
    "duration": 113,
    "start_time": "2023-07-02T12:52:45.181Z"
   },
   {
    "duration": 95281,
    "start_time": "2023-07-02T12:52:45.296Z"
   },
   {
    "duration": 271,
    "start_time": "2023-07-02T12:54:20.580Z"
   },
   {
    "duration": 9,
    "start_time": "2023-07-02T12:54:20.853Z"
   },
   {
    "duration": 6,
    "start_time": "2023-07-02T12:54:20.868Z"
   },
   {
    "duration": 145104,
    "start_time": "2023-07-02T12:54:20.876Z"
   },
   {
    "duration": 4486,
    "start_time": "2023-07-02T12:56:45.982Z"
   },
   {
    "duration": 19,
    "start_time": "2023-07-02T12:56:50.472Z"
   },
   {
    "duration": 105886,
    "start_time": "2023-07-02T12:56:50.493Z"
   },
   {
    "duration": 1403,
    "start_time": "2023-07-02T12:58:36.381Z"
   },
   {
    "duration": 123034,
    "start_time": "2023-07-02T13:04:35.138Z"
   },
   {
    "duration": 139,
    "start_time": "2023-07-02T13:17:29.201Z"
   },
   {
    "duration": 0,
    "start_time": "2023-07-02T13:17:29.342Z"
   },
   {
    "duration": 11,
    "start_time": "2023-07-02T13:17:29.471Z"
   },
   {
    "duration": 3,
    "start_time": "2023-07-02T13:17:29.633Z"
   },
   {
    "duration": 12,
    "start_time": "2023-07-02T13:17:30.205Z"
   },
   {
    "duration": 3,
    "start_time": "2023-07-02T13:17:44.397Z"
   },
   {
    "duration": 758,
    "start_time": "2023-07-02T13:17:45.031Z"
   },
   {
    "duration": 13,
    "start_time": "2023-07-02T13:17:45.791Z"
   },
   {
    "duration": 112,
    "start_time": "2023-07-02T13:17:45.832Z"
   },
   {
    "duration": 84,
    "start_time": "2023-07-02T13:17:46.144Z"
   },
   {
    "duration": 103,
    "start_time": "2023-07-02T13:17:46.475Z"
   },
   {
    "duration": 55,
    "start_time": "2023-07-02T13:17:47.369Z"
   },
   {
    "duration": 28,
    "start_time": "2023-07-02T13:17:47.725Z"
   },
   {
    "duration": 56,
    "start_time": "2023-07-02T13:17:47.900Z"
   },
   {
    "duration": 11,
    "start_time": "2023-07-02T13:17:48.105Z"
   },
   {
    "duration": 3,
    "start_time": "2023-07-02T13:17:48.273Z"
   },
   {
    "duration": 217,
    "start_time": "2023-07-02T13:26:16.868Z"
   },
   {
    "duration": 56,
    "start_time": "2023-07-02T13:26:30.074Z"
   },
   {
    "duration": 4,
    "start_time": "2023-07-02T13:26:55.173Z"
   },
   {
    "duration": 752,
    "start_time": "2023-07-02T13:26:55.801Z"
   },
   {
    "duration": 17,
    "start_time": "2023-07-02T13:26:56.561Z"
   },
   {
    "duration": 116,
    "start_time": "2023-07-02T13:26:56.618Z"
   },
   {
    "duration": 86,
    "start_time": "2023-07-02T13:26:56.950Z"
   },
   {
    "duration": 114,
    "start_time": "2023-07-02T13:26:57.308Z"
   },
   {
    "duration": 61,
    "start_time": "2023-07-02T13:26:58.135Z"
   },
   {
    "duration": 28,
    "start_time": "2023-07-02T13:26:58.501Z"
   },
   {
    "duration": 59,
    "start_time": "2023-07-02T13:26:58.655Z"
   },
   {
    "duration": 11,
    "start_time": "2023-07-02T13:26:58.822Z"
   },
   {
    "duration": 4,
    "start_time": "2023-07-02T13:26:59.014Z"
   },
   {
    "duration": 259,
    "start_time": "2023-07-02T13:26:59.174Z"
   },
   {
    "duration": 62,
    "start_time": "2023-07-02T13:26:59.570Z"
   },
   {
    "duration": 218,
    "start_time": "2023-07-02T13:27:50.507Z"
   },
   {
    "duration": 57,
    "start_time": "2023-07-02T13:27:51.673Z"
   },
   {
    "duration": 727,
    "start_time": "2023-07-02T13:28:16.718Z"
   },
   {
    "duration": 61,
    "start_time": "2023-07-02T13:28:17.447Z"
   },
   {
    "duration": 55,
    "start_time": "2023-07-02T13:28:21.512Z"
   },
   {
    "duration": 3,
    "start_time": "2023-07-02T13:28:39.718Z"
   },
   {
    "duration": 71,
    "start_time": "2023-07-02T13:28:40.018Z"
   },
   {
    "duration": 1410,
    "start_time": "2023-07-02T13:28:52.269Z"
   },
   {
    "duration": 835,
    "start_time": "2023-07-02T13:28:53.682Z"
   },
   {
    "duration": 12,
    "start_time": "2023-07-02T13:28:54.519Z"
   },
   {
    "duration": 124,
    "start_time": "2023-07-02T13:28:54.532Z"
   },
   {
    "duration": 134,
    "start_time": "2023-07-02T13:28:54.658Z"
   },
   {
    "duration": 149,
    "start_time": "2023-07-02T13:28:54.793Z"
   },
   {
    "duration": 68,
    "start_time": "2023-07-02T13:28:54.944Z"
   },
   {
    "duration": 27,
    "start_time": "2023-07-02T13:28:55.013Z"
   },
   {
    "duration": 77,
    "start_time": "2023-07-02T13:28:55.042Z"
   },
   {
    "duration": 10,
    "start_time": "2023-07-02T13:28:55.121Z"
   },
   {
    "duration": 3,
    "start_time": "2023-07-02T13:28:55.133Z"
   },
   {
    "duration": 678,
    "start_time": "2023-07-02T13:28:55.138Z"
   },
   {
    "duration": 63,
    "start_time": "2023-07-02T13:28:55.818Z"
   },
   {
    "duration": 86,
    "start_time": "2023-07-02T13:28:55.883Z"
   },
   {
    "duration": 2,
    "start_time": "2023-07-02T13:28:55.973Z"
   },
   {
    "duration": 66,
    "start_time": "2023-07-02T13:28:55.977Z"
   },
   {
    "duration": 360,
    "start_time": "2023-07-02T13:28:56.045Z"
   },
   {
    "duration": 4807,
    "start_time": "2023-07-02T13:28:56.406Z"
   },
   {
    "duration": 487317,
    "start_time": "2023-07-02T13:29:01.214Z"
   },
   {
    "duration": 5,
    "start_time": "2023-07-02T13:37:08.534Z"
   },
   {
    "duration": 9,
    "start_time": "2023-07-02T13:37:08.541Z"
   },
   {
    "duration": 2119,
    "start_time": "2023-07-02T13:37:08.552Z"
   },
   {
    "duration": 168,
    "start_time": "2023-07-02T13:37:10.676Z"
   },
   {
    "duration": 2,
    "start_time": "2023-07-02T13:37:10.846Z"
   },
   {
    "duration": 140,
    "start_time": "2023-07-02T13:37:10.850Z"
   },
   {
    "duration": 113915,
    "start_time": "2023-07-02T13:37:10.992Z"
   },
   {
    "duration": 374,
    "start_time": "2023-07-02T13:39:04.908Z"
   },
   {
    "duration": 3,
    "start_time": "2023-07-02T13:39:05.283Z"
   },
   {
    "duration": 12,
    "start_time": "2023-07-02T13:39:05.288Z"
   },
   {
    "duration": 404976,
    "start_time": "2023-07-02T13:39:05.302Z"
   },
   {
    "duration": 4623,
    "start_time": "2023-07-02T13:45:50.280Z"
   },
   {
    "duration": 66,
    "start_time": "2023-07-02T13:45:54.905Z"
   },
   {
    "duration": 512109,
    "start_time": "2023-07-02T13:45:54.973Z"
   },
   {
    "duration": 1600,
    "start_time": "2023-07-02T13:54:27.084Z"
   },
   {
    "duration": 1866,
    "start_time": "2023-07-03T10:35:29.760Z"
   },
   {
    "duration": 3331,
    "start_time": "2023-07-03T10:35:31.628Z"
   },
   {
    "duration": 18,
    "start_time": "2023-07-03T10:35:34.964Z"
   },
   {
    "duration": 188,
    "start_time": "2023-07-03T10:35:34.985Z"
   },
   {
    "duration": 127,
    "start_time": "2023-07-03T10:35:35.175Z"
   },
   {
    "duration": 163,
    "start_time": "2023-07-03T10:35:35.304Z"
   },
   {
    "duration": 87,
    "start_time": "2023-07-03T10:35:35.470Z"
   },
   {
    "duration": 37,
    "start_time": "2023-07-03T10:35:35.563Z"
   },
   {
    "duration": 88,
    "start_time": "2023-07-03T10:35:35.602Z"
   },
   {
    "duration": 19,
    "start_time": "2023-07-03T10:35:35.693Z"
   },
   {
    "duration": 19,
    "start_time": "2023-07-03T10:35:35.714Z"
   },
   {
    "duration": 845,
    "start_time": "2023-07-03T10:35:35.734Z"
   },
   {
    "duration": 155,
    "start_time": "2023-07-03T10:35:36.582Z"
   },
   {
    "duration": 102,
    "start_time": "2023-07-03T10:35:36.739Z"
   },
   {
    "duration": 172,
    "start_time": "2023-07-03T10:35:36.843Z"
   },
   {
    "duration": 501,
    "start_time": "2023-07-03T10:35:37.017Z"
   },
   {
    "duration": 8116,
    "start_time": "2023-07-03T10:35:37.521Z"
   },
   {
    "duration": 654587,
    "start_time": "2023-07-03T10:35:45.639Z"
   },
   {
    "duration": 5,
    "start_time": "2023-07-03T10:46:40.228Z"
   },
   {
    "duration": 4,
    "start_time": "2023-07-03T10:46:40.235Z"
   },
   {
    "duration": 2061,
    "start_time": "2023-07-03T10:46:40.254Z"
   },
   {
    "duration": 184,
    "start_time": "2023-07-03T10:46:42.317Z"
   },
   {
    "duration": 2,
    "start_time": "2023-07-03T10:46:42.503Z"
   },
   {
    "duration": 190,
    "start_time": "2023-07-03T10:46:42.507Z"
   },
   {
    "duration": 131184,
    "start_time": "2023-07-03T10:46:42.699Z"
   },
   {
    "duration": 423,
    "start_time": "2023-07-03T10:48:53.885Z"
   },
   {
    "duration": 3,
    "start_time": "2023-07-03T10:48:54.309Z"
   },
   {
    "duration": 32,
    "start_time": "2023-07-03T10:48:54.315Z"
   },
   {
    "duration": 533033,
    "start_time": "2023-07-03T10:48:54.349Z"
   },
   {
    "duration": 1871,
    "start_time": "2023-07-03T10:57:47.386Z"
   },
   {
    "duration": 15,
    "start_time": "2023-07-03T10:57:49.261Z"
   },
   {
    "duration": 743277,
    "start_time": "2023-07-03T10:57:49.283Z"
   },
   {
    "duration": 1949,
    "start_time": "2023-07-03T11:10:12.562Z"
   },
   {
    "duration": 2626,
    "start_time": "2023-07-03T11:48:54.901Z"
   },
   {
    "duration": 5133,
    "start_time": "2023-07-03T11:48:57.532Z"
   },
   {
    "duration": 39,
    "start_time": "2023-07-03T11:49:02.667Z"
   },
   {
    "duration": 310,
    "start_time": "2023-07-03T11:49:02.709Z"
   },
   {
    "duration": 153,
    "start_time": "2023-07-03T11:49:03.022Z"
   },
   {
    "duration": 220,
    "start_time": "2023-07-03T11:49:03.177Z"
   },
   {
    "duration": 130,
    "start_time": "2023-07-03T11:49:03.399Z"
   },
   {
    "duration": 91,
    "start_time": "2023-07-03T11:49:03.531Z"
   },
   {
    "duration": 123,
    "start_time": "2023-07-03T11:49:03.624Z"
   },
   {
    "duration": 27,
    "start_time": "2023-07-03T11:49:03.749Z"
   },
   {
    "duration": 5,
    "start_time": "2023-07-03T11:49:03.778Z"
   },
   {
    "duration": 1304,
    "start_time": "2023-07-03T11:49:03.785Z"
   },
   {
    "duration": 141,
    "start_time": "2023-07-03T11:49:05.097Z"
   },
   {
    "duration": 178,
    "start_time": "2023-07-03T11:49:05.243Z"
   },
   {
    "duration": 130,
    "start_time": "2023-07-03T11:49:05.424Z"
   },
   {
    "duration": 643,
    "start_time": "2023-07-03T11:49:05.556Z"
   },
   {
    "duration": 11503,
    "start_time": "2023-07-03T11:49:06.201Z"
   },
   {
    "duration": 686718,
    "start_time": "2023-07-03T11:49:17.707Z"
   },
   {
    "duration": 5,
    "start_time": "2023-07-03T12:00:44.428Z"
   },
   {
    "duration": 49,
    "start_time": "2023-07-03T12:00:44.434Z"
   },
   {
    "duration": 2318,
    "start_time": "2023-07-03T12:00:44.489Z"
   },
   {
    "duration": 208,
    "start_time": "2023-07-03T12:00:46.811Z"
   },
   {
    "duration": 4,
    "start_time": "2023-07-03T12:00:47.028Z"
   },
   {
    "duration": 212,
    "start_time": "2023-07-03T12:00:47.034Z"
   },
   {
    "duration": 154203,
    "start_time": "2023-07-03T12:00:47.248Z"
   },
   {
    "duration": 555,
    "start_time": "2023-07-03T12:03:21.453Z"
   },
   {
    "duration": 3,
    "start_time": "2023-07-03T12:03:22.010Z"
   },
   {
    "duration": 5,
    "start_time": "2023-07-03T12:03:22.015Z"
   },
   {
    "duration": 754061,
    "start_time": "2023-07-03T12:03:22.022Z"
   },
   {
    "duration": 1983,
    "start_time": "2023-07-03T12:15:56.087Z"
   },
   {
    "duration": 30,
    "start_time": "2023-07-03T12:15:58.075Z"
   },
   {
    "duration": 768788,
    "start_time": "2023-07-03T12:15:58.107Z"
   },
   {
    "duration": 2009,
    "start_time": "2023-07-03T12:28:46.904Z"
   },
   {
    "duration": 2258,
    "start_time": "2023-07-04T10:10:49.688Z"
   },
   {
    "duration": 3089,
    "start_time": "2023-07-04T10:10:51.948Z"
   },
   {
    "duration": 18,
    "start_time": "2023-07-04T10:10:55.039Z"
   },
   {
    "duration": 134,
    "start_time": "2023-07-04T10:10:55.060Z"
   },
   {
    "duration": 114,
    "start_time": "2023-07-04T10:10:55.196Z"
   },
   {
    "duration": 143,
    "start_time": "2023-07-04T10:10:55.312Z"
   },
   {
    "duration": 64,
    "start_time": "2023-07-04T10:10:55.467Z"
   },
   {
    "duration": 49,
    "start_time": "2023-07-04T10:10:55.533Z"
   },
   {
    "duration": 66,
    "start_time": "2023-07-04T10:10:55.583Z"
   },
   {
    "duration": 13,
    "start_time": "2023-07-04T10:10:55.667Z"
   },
   {
    "duration": 4,
    "start_time": "2023-07-04T10:10:55.683Z"
   },
   {
    "duration": 741,
    "start_time": "2023-07-04T10:10:55.689Z"
   },
   {
    "duration": 66,
    "start_time": "2023-07-04T10:10:56.432Z"
   },
   {
    "duration": 73,
    "start_time": "2023-07-04T10:10:56.500Z"
   },
   {
    "duration": 71,
    "start_time": "2023-07-04T10:10:56.575Z"
   },
   {
    "duration": 402,
    "start_time": "2023-07-04T10:10:56.648Z"
   },
   {
    "duration": 4564,
    "start_time": "2023-07-04T10:10:57.052Z"
   },
   {
    "duration": 1812,
    "start_time": "2023-07-04T13:43:25.597Z"
   },
   {
    "duration": 3152,
    "start_time": "2023-07-04T13:43:27.412Z"
   },
   {
    "duration": 19,
    "start_time": "2023-07-04T13:43:30.566Z"
   },
   {
    "duration": 164,
    "start_time": "2023-07-04T13:43:30.588Z"
   },
   {
    "duration": 133,
    "start_time": "2023-07-04T13:43:30.755Z"
   },
   {
    "duration": 168,
    "start_time": "2023-07-04T13:43:30.891Z"
   },
   {
    "duration": 67,
    "start_time": "2023-07-04T13:43:31.068Z"
   },
   {
    "duration": 69,
    "start_time": "2023-07-04T13:43:31.137Z"
   },
   {
    "duration": 109,
    "start_time": "2023-07-04T13:43:31.208Z"
   },
   {
    "duration": 16,
    "start_time": "2023-07-04T13:43:31.319Z"
   },
   {
    "duration": 93,
    "start_time": "2023-07-04T13:43:31.338Z"
   },
   {
    "duration": 870,
    "start_time": "2023-07-04T13:43:31.434Z"
   },
   {
    "duration": 80,
    "start_time": "2023-07-04T13:43:32.307Z"
   },
   {
    "duration": 98,
    "start_time": "2023-07-04T13:43:32.390Z"
   },
   {
    "duration": 115,
    "start_time": "2023-07-04T13:43:32.490Z"
   },
   {
    "duration": 435,
    "start_time": "2023-07-04T13:43:32.607Z"
   },
   {
    "duration": 5931,
    "start_time": "2023-07-04T13:43:33.044Z"
   },
   {
    "duration": 513918,
    "start_time": "2023-07-04T13:43:38.977Z"
   },
   {
    "duration": 6,
    "start_time": "2023-07-04T13:52:12.897Z"
   },
   {
    "duration": 37,
    "start_time": "2023-07-04T13:52:12.905Z"
   },
   {
    "duration": 2407,
    "start_time": "2023-07-04T13:52:12.945Z"
   },
   {
    "duration": 203,
    "start_time": "2023-07-04T13:52:15.353Z"
   },
   {
    "duration": 11,
    "start_time": "2023-07-04T13:52:15.557Z"
   },
   {
    "duration": 136,
    "start_time": "2023-07-04T13:52:15.570Z"
   },
   {
    "duration": 132420,
    "start_time": "2023-07-04T13:52:15.708Z"
   },
   {
    "duration": 417,
    "start_time": "2023-07-04T13:54:28.130Z"
   },
   {
    "duration": 4,
    "start_time": "2023-07-04T13:54:28.549Z"
   },
   {
    "duration": 14,
    "start_time": "2023-07-04T13:54:28.554Z"
   },
   {
    "duration": 640011,
    "start_time": "2023-07-04T13:54:28.570Z"
   },
   {
    "duration": 1985,
    "start_time": "2023-07-04T14:05:08.583Z"
   },
   {
    "duration": 18,
    "start_time": "2023-07-04T14:05:10.571Z"
   },
   {
    "duration": 218075,
    "start_time": "2023-07-04T14:05:10.592Z"
   },
   {
    "duration": 1898,
    "start_time": "2023-07-04T14:08:48.670Z"
   },
   {
    "duration": 12,
    "start_time": "2023-07-04T14:13:22.136Z"
   },
   {
    "duration": 1635,
    "start_time": "2023-07-04T14:21:13.443Z"
   },
   {
    "duration": 968,
    "start_time": "2023-07-04T14:21:15.082Z"
   },
   {
    "duration": 27,
    "start_time": "2023-07-04T14:21:16.052Z"
   },
   {
    "duration": 143,
    "start_time": "2023-07-04T14:21:16.086Z"
   },
   {
    "duration": 174,
    "start_time": "2023-07-04T14:21:16.231Z"
   },
   {
    "duration": 162,
    "start_time": "2023-07-04T14:21:16.408Z"
   },
   {
    "duration": 65,
    "start_time": "2023-07-04T14:21:16.581Z"
   },
   {
    "duration": 45,
    "start_time": "2023-07-04T14:21:16.649Z"
   },
   {
    "duration": 81,
    "start_time": "2023-07-04T14:21:16.697Z"
   },
   {
    "duration": 20,
    "start_time": "2023-07-04T14:21:16.781Z"
   },
   {
    "duration": 12,
    "start_time": "2023-07-04T14:21:16.803Z"
   },
   {
    "duration": 4,
    "start_time": "2023-07-04T14:21:16.817Z"
   },
   {
    "duration": 815,
    "start_time": "2023-07-04T14:21:16.823Z"
   },
   {
    "duration": 75,
    "start_time": "2023-07-04T14:21:17.640Z"
   },
   {
    "duration": 77,
    "start_time": "2023-07-04T14:21:17.717Z"
   },
   {
    "duration": 94,
    "start_time": "2023-07-04T14:21:17.796Z"
   },
   {
    "duration": 423,
    "start_time": "2023-07-04T14:21:17.893Z"
   },
   {
    "duration": 5320,
    "start_time": "2023-07-04T14:21:18.319Z"
   },
   {
    "duration": 559947,
    "start_time": "2023-07-04T14:21:23.641Z"
   },
   {
    "duration": 8,
    "start_time": "2023-07-04T14:30:43.590Z"
   },
   {
    "duration": 16,
    "start_time": "2023-07-04T14:30:43.600Z"
   },
   {
    "duration": 2764,
    "start_time": "2023-07-04T14:30:43.618Z"
   },
   {
    "duration": 235,
    "start_time": "2023-07-04T14:30:46.389Z"
   },
   {
    "duration": 4,
    "start_time": "2023-07-04T14:30:46.630Z"
   },
   {
    "duration": 220,
    "start_time": "2023-07-04T14:30:46.638Z"
   },
   {
    "duration": 154810,
    "start_time": "2023-07-04T14:30:46.861Z"
   },
   {
    "duration": 562,
    "start_time": "2023-07-04T14:33:21.673Z"
   },
   {
    "duration": 3,
    "start_time": "2023-07-04T14:33:22.240Z"
   },
   {
    "duration": 10,
    "start_time": "2023-07-04T14:33:22.245Z"
   },
   {
    "duration": 713116,
    "start_time": "2023-07-04T14:33:22.257Z"
   },
   {
    "duration": 1929,
    "start_time": "2023-07-04T14:45:15.379Z"
   },
   {
    "duration": 25,
    "start_time": "2023-07-04T14:45:17.310Z"
   },
   {
    "duration": 519547,
    "start_time": "2023-07-04T14:45:17.337Z"
   },
   {
    "duration": 1806,
    "start_time": "2023-07-04T14:53:56.886Z"
   },
   {
    "duration": 14,
    "start_time": "2023-07-04T15:22:00.714Z"
   },
   {
    "duration": 12,
    "start_time": "2023-07-04T15:22:55.968Z"
   },
   {
    "duration": 10,
    "start_time": "2023-07-04T15:23:25.333Z"
   },
   {
    "duration": 19,
    "start_time": "2023-07-04T15:24:11.161Z"
   },
   {
    "duration": 7,
    "start_time": "2023-07-04T15:24:11.845Z"
   },
   {
    "duration": 12,
    "start_time": "2023-07-04T15:24:14.125Z"
   },
   {
    "duration": 13,
    "start_time": "2023-07-04T15:24:17.677Z"
   },
   {
    "duration": 12,
    "start_time": "2023-07-04T15:28:28.154Z"
   },
   {
    "duration": 4,
    "start_time": "2023-07-04T15:28:28.522Z"
   },
   {
    "duration": 1614,
    "start_time": "2023-07-04T15:28:47.854Z"
   },
   {
    "duration": 951,
    "start_time": "2023-07-04T15:28:49.470Z"
   },
   {
    "duration": 15,
    "start_time": "2023-07-04T15:28:50.423Z"
   },
   {
    "duration": 146,
    "start_time": "2023-07-04T15:28:50.440Z"
   },
   {
    "duration": 117,
    "start_time": "2023-07-04T15:28:50.588Z"
   },
   {
    "duration": 173,
    "start_time": "2023-07-04T15:28:50.707Z"
   },
   {
    "duration": 68,
    "start_time": "2023-07-04T15:28:50.882Z"
   },
   {
    "duration": 33,
    "start_time": "2023-07-04T15:28:50.967Z"
   },
   {
    "duration": 83,
    "start_time": "2023-07-04T15:28:51.002Z"
   },
   {
    "duration": 51,
    "start_time": "2023-07-04T15:28:51.087Z"
   },
   {
    "duration": 18,
    "start_time": "2023-07-04T15:28:51.139Z"
   },
   {
    "duration": 38,
    "start_time": "2023-07-04T15:28:51.159Z"
   },
   {
    "duration": 181,
    "start_time": "2023-07-04T15:28:51.199Z"
   },
   {
    "duration": 6,
    "start_time": "2023-07-04T15:28:51.383Z"
   },
   {
    "duration": 40,
    "start_time": "2023-07-04T15:28:51.390Z"
   },
   {
    "duration": 5,
    "start_time": "2023-07-04T15:28:51.432Z"
   },
   {
    "duration": 751,
    "start_time": "2023-07-04T15:28:51.439Z"
   },
   {
    "duration": 66,
    "start_time": "2023-07-04T15:28:52.192Z"
   },
   {
    "duration": 75,
    "start_time": "2023-07-04T15:28:52.267Z"
   },
   {
    "duration": 95,
    "start_time": "2023-07-04T15:28:52.344Z"
   },
   {
    "duration": 410,
    "start_time": "2023-07-04T15:28:52.440Z"
   },
   {
    "duration": 5735,
    "start_time": "2023-07-04T15:28:52.852Z"
   },
   {
    "duration": 502439,
    "start_time": "2023-07-04T15:28:58.589Z"
   },
   {
    "duration": 4,
    "start_time": "2023-07-04T15:37:21.030Z"
   },
   {
    "duration": 6,
    "start_time": "2023-07-04T15:37:21.036Z"
   },
   {
    "duration": 2116,
    "start_time": "2023-07-04T15:37:21.043Z"
   },
   {
    "duration": 197,
    "start_time": "2023-07-04T15:37:23.161Z"
   },
   {
    "duration": 8,
    "start_time": "2023-07-04T15:37:23.360Z"
   },
   {
    "duration": 134,
    "start_time": "2023-07-04T15:37:23.370Z"
   },
   {
    "duration": 128643,
    "start_time": "2023-07-04T15:37:23.506Z"
   },
   {
    "duration": 513,
    "start_time": "2023-07-04T15:39:32.152Z"
   },
   {
    "duration": 3,
    "start_time": "2023-07-04T15:39:32.667Z"
   },
   {
    "duration": 9,
    "start_time": "2023-07-04T15:39:32.672Z"
   },
   {
    "duration": 198186,
    "start_time": "2023-07-04T15:39:32.684Z"
   },
   {
    "duration": 1831,
    "start_time": "2023-07-04T15:42:50.872Z"
   },
   {
    "duration": 64,
    "start_time": "2023-07-04T15:42:52.705Z"
   },
   {
    "duration": 131498,
    "start_time": "2023-07-04T15:42:52.771Z"
   },
   {
    "duration": 1824,
    "start_time": "2023-07-04T15:45:04.271Z"
   },
   {
    "duration": 11,
    "start_time": "2023-07-04T15:52:11.765Z"
   },
   {
    "duration": 15,
    "start_time": "2023-07-04T15:53:23.553Z"
   },
   {
    "duration": 9,
    "start_time": "2023-07-04T15:53:23.942Z"
   },
   {
    "duration": 1606,
    "start_time": "2023-07-04T15:53:28.439Z"
   },
   {
    "duration": 1031,
    "start_time": "2023-07-04T15:53:30.047Z"
   },
   {
    "duration": 22,
    "start_time": "2023-07-04T15:53:31.081Z"
   },
   {
    "duration": 185,
    "start_time": "2023-07-04T15:53:31.106Z"
   },
   {
    "duration": 195,
    "start_time": "2023-07-04T15:53:31.293Z"
   },
   {
    "duration": 173,
    "start_time": "2023-07-04T15:53:31.489Z"
   },
   {
    "duration": 68,
    "start_time": "2023-07-04T15:53:31.668Z"
   },
   {
    "duration": 147,
    "start_time": "2023-07-04T15:53:31.737Z"
   },
   {
    "duration": 129,
    "start_time": "2023-07-04T15:53:31.886Z"
   },
   {
    "duration": 58,
    "start_time": "2023-07-04T15:53:32.018Z"
   },
   {
    "duration": 46,
    "start_time": "2023-07-04T15:53:32.078Z"
   },
   {
    "duration": 229,
    "start_time": "2023-07-04T15:53:32.127Z"
   },
   {
    "duration": 9,
    "start_time": "2023-07-04T15:53:32.359Z"
   },
   {
    "duration": 19,
    "start_time": "2023-07-04T15:53:32.370Z"
   },
   {
    "duration": 808,
    "start_time": "2023-07-04T15:53:32.391Z"
   },
   {
    "duration": 81,
    "start_time": "2023-07-04T15:53:33.202Z"
   },
   {
    "duration": 95,
    "start_time": "2023-07-04T15:53:33.285Z"
   },
   {
    "duration": 95,
    "start_time": "2023-07-04T15:53:33.383Z"
   },
   {
    "duration": 456,
    "start_time": "2023-07-04T15:53:33.480Z"
   },
   {
    "duration": 6052,
    "start_time": "2023-07-04T15:53:33.938Z"
   },
   {
    "duration": 523486,
    "start_time": "2023-07-04T15:53:39.992Z"
   },
   {
    "duration": 5,
    "start_time": "2023-07-04T16:02:23.479Z"
   },
   {
    "duration": 5,
    "start_time": "2023-07-04T16:02:23.486Z"
   },
   {
    "duration": 2288,
    "start_time": "2023-07-04T16:02:23.493Z"
   },
   {
    "duration": 226,
    "start_time": "2023-07-04T16:02:25.783Z"
   },
   {
    "duration": 3,
    "start_time": "2023-07-04T16:02:26.011Z"
   },
   {
    "duration": 157,
    "start_time": "2023-07-04T16:02:26.016Z"
   },
   {
    "duration": 128782,
    "start_time": "2023-07-04T16:02:26.177Z"
   },
   {
    "duration": 411,
    "start_time": "2023-07-04T16:04:34.961Z"
   },
   {
    "duration": 3,
    "start_time": "2023-07-04T16:04:35.375Z"
   },
   {
    "duration": 37,
    "start_time": "2023-07-04T16:04:35.380Z"
   },
   {
    "duration": 169059,
    "start_time": "2023-07-04T16:04:35.419Z"
   },
   {
    "duration": 1920,
    "start_time": "2023-07-04T16:07:24.480Z"
   },
   {
    "duration": 13,
    "start_time": "2023-07-04T16:07:26.402Z"
   },
   {
    "duration": 185954,
    "start_time": "2023-07-04T16:07:26.416Z"
   },
   {
    "duration": 1891,
    "start_time": "2023-07-04T16:10:32.376Z"
   }
  ],
  "kernelspec": {
   "display_name": "Python 3 (ipykernel)",
   "language": "python",
   "name": "python3"
  },
  "language_info": {
   "codemirror_mode": {
    "name": "ipython",
    "version": 3
   },
   "file_extension": ".py",
   "mimetype": "text/x-python",
   "name": "python",
   "nbconvert_exporter": "python",
   "pygments_lexer": "ipython3",
   "version": "3.9.16"
  },
  "toc": {
   "base_numbering": 1,
   "nav_menu": {},
   "number_sections": true,
   "sideBar": true,
   "skip_h1_title": true,
   "title_cell": "Table of Contents",
   "title_sidebar": "Contents",
   "toc_cell": false,
   "toc_position": {},
   "toc_section_display": true,
   "toc_window_display": false
  }
 },
 "nbformat": 4,
 "nbformat_minor": 4
}
