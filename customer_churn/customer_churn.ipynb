{
 "cells": [
  {
   "cell_type": "markdown",
   "metadata": {},
   "source": [
    "## Подготовка данных"
   ]
  },
  {
   "cell_type": "markdown",
   "metadata": {},
   "source": [
    "Загрузим и подготовим данные. \n",
    "Сперва просмотрим данные первые 5 строк данных, количество пропусков, а также размер датасета."
   ]
  },
  {
   "cell_type": "code",
   "execution_count": 1,
   "metadata": {},
   "outputs": [],
   "source": [
    "# импортируем библиотеку pandas, а также все необходимые библиотеки машинного обучения \n",
    "\n",
    "import pandas as pd\n",
    "import numpy as np\n",
    "from sklearn.model_selection import train_test_split\n",
    "from sklearn.preprocessing import OrdinalEncoder \n",
    "from sklearn.preprocessing import StandardScaler \n",
    "from sklearn.ensemble import RandomForestClassifier as RFC\n",
    "from sklearn.tree import DecisionTreeClassifier as DTC\n",
    "from sklearn.metrics import f1_score\n",
    "from sklearn.metrics import confusion_matrix\n",
    "from sklearn.utils import shuffle\n",
    "from sklearn.metrics import precision_score, recall_score\n",
    "import matplotlib.pyplot as plt\n",
    "from sklearn.metrics import roc_curve\n",
    "from sklearn.metrics import roc_auc_score"
   ]
  },
  {
   "cell_type": "code",
   "execution_count": 2,
   "metadata": {},
   "outputs": [
    {
     "name": "stdout",
     "output_type": "stream",
     "text": [
      "\u001b[1mПервые 5 строк.\u001b[0m\n"
     ]
    },
    {
     "data": {
      "text/html": [
       "<div>\n",
       "<style scoped>\n",
       "    .dataframe tbody tr th:only-of-type {\n",
       "        vertical-align: middle;\n",
       "    }\n",
       "\n",
       "    .dataframe tbody tr th {\n",
       "        vertical-align: top;\n",
       "    }\n",
       "\n",
       "    .dataframe thead th {\n",
       "        text-align: right;\n",
       "    }\n",
       "</style>\n",
       "<table border=\"1\" class=\"dataframe\">\n",
       "  <thead>\n",
       "    <tr style=\"text-align: right;\">\n",
       "      <th></th>\n",
       "      <th>RowNumber</th>\n",
       "      <th>CustomerId</th>\n",
       "      <th>Surname</th>\n",
       "      <th>CreditScore</th>\n",
       "      <th>Geography</th>\n",
       "      <th>Gender</th>\n",
       "      <th>Age</th>\n",
       "      <th>Tenure</th>\n",
       "      <th>Balance</th>\n",
       "      <th>NumOfProducts</th>\n",
       "      <th>HasCrCard</th>\n",
       "      <th>IsActiveMember</th>\n",
       "      <th>EstimatedSalary</th>\n",
       "      <th>Exited</th>\n",
       "    </tr>\n",
       "  </thead>\n",
       "  <tbody>\n",
       "    <tr>\n",
       "      <th>0</th>\n",
       "      <td>1</td>\n",
       "      <td>15634602</td>\n",
       "      <td>Hargrave</td>\n",
       "      <td>619</td>\n",
       "      <td>France</td>\n",
       "      <td>Female</td>\n",
       "      <td>42</td>\n",
       "      <td>2.0</td>\n",
       "      <td>0.00</td>\n",
       "      <td>1</td>\n",
       "      <td>1</td>\n",
       "      <td>1</td>\n",
       "      <td>101348.88</td>\n",
       "      <td>1</td>\n",
       "    </tr>\n",
       "    <tr>\n",
       "      <th>1</th>\n",
       "      <td>2</td>\n",
       "      <td>15647311</td>\n",
       "      <td>Hill</td>\n",
       "      <td>608</td>\n",
       "      <td>Spain</td>\n",
       "      <td>Female</td>\n",
       "      <td>41</td>\n",
       "      <td>1.0</td>\n",
       "      <td>83807.86</td>\n",
       "      <td>1</td>\n",
       "      <td>0</td>\n",
       "      <td>1</td>\n",
       "      <td>112542.58</td>\n",
       "      <td>0</td>\n",
       "    </tr>\n",
       "    <tr>\n",
       "      <th>2</th>\n",
       "      <td>3</td>\n",
       "      <td>15619304</td>\n",
       "      <td>Onio</td>\n",
       "      <td>502</td>\n",
       "      <td>France</td>\n",
       "      <td>Female</td>\n",
       "      <td>42</td>\n",
       "      <td>8.0</td>\n",
       "      <td>159660.80</td>\n",
       "      <td>3</td>\n",
       "      <td>1</td>\n",
       "      <td>0</td>\n",
       "      <td>113931.57</td>\n",
       "      <td>1</td>\n",
       "    </tr>\n",
       "    <tr>\n",
       "      <th>3</th>\n",
       "      <td>4</td>\n",
       "      <td>15701354</td>\n",
       "      <td>Boni</td>\n",
       "      <td>699</td>\n",
       "      <td>France</td>\n",
       "      <td>Female</td>\n",
       "      <td>39</td>\n",
       "      <td>1.0</td>\n",
       "      <td>0.00</td>\n",
       "      <td>2</td>\n",
       "      <td>0</td>\n",
       "      <td>0</td>\n",
       "      <td>93826.63</td>\n",
       "      <td>0</td>\n",
       "    </tr>\n",
       "    <tr>\n",
       "      <th>4</th>\n",
       "      <td>5</td>\n",
       "      <td>15737888</td>\n",
       "      <td>Mitchell</td>\n",
       "      <td>850</td>\n",
       "      <td>Spain</td>\n",
       "      <td>Female</td>\n",
       "      <td>43</td>\n",
       "      <td>2.0</td>\n",
       "      <td>125510.82</td>\n",
       "      <td>1</td>\n",
       "      <td>1</td>\n",
       "      <td>1</td>\n",
       "      <td>79084.10</td>\n",
       "      <td>0</td>\n",
       "    </tr>\n",
       "  </tbody>\n",
       "</table>\n",
       "</div>"
      ],
      "text/plain": [
       "   RowNumber  CustomerId   Surname  CreditScore Geography  Gender  Age  \\\n",
       "0          1    15634602  Hargrave          619    France  Female   42   \n",
       "1          2    15647311      Hill          608     Spain  Female   41   \n",
       "2          3    15619304      Onio          502    France  Female   42   \n",
       "3          4    15701354      Boni          699    France  Female   39   \n",
       "4          5    15737888  Mitchell          850     Spain  Female   43   \n",
       "\n",
       "   Tenure    Balance  NumOfProducts  HasCrCard  IsActiveMember  \\\n",
       "0     2.0       0.00              1          1               1   \n",
       "1     1.0   83807.86              1          0               1   \n",
       "2     8.0  159660.80              3          1               0   \n",
       "3     1.0       0.00              2          0               0   \n",
       "4     2.0  125510.82              1          1               1   \n",
       "\n",
       "   EstimatedSalary  Exited  \n",
       "0        101348.88       1  \n",
       "1        112542.58       0  \n",
       "2        113931.57       1  \n",
       "3         93826.63       0  \n",
       "4         79084.10       0  "
      ]
     },
     "metadata": {},
     "output_type": "display_data"
    },
    {
     "name": "stdout",
     "output_type": "stream",
     "text": [
      "\n",
      "\u001b[1mКоличество пропусков.\u001b[0m\n",
      "\n",
      "RowNumber            0\n",
      "CustomerId           0\n",
      "Surname              0\n",
      "CreditScore          0\n",
      "Geography            0\n",
      "Gender               0\n",
      "Age                  0\n",
      "Tenure             909\n",
      "Balance              0\n",
      "NumOfProducts        0\n",
      "HasCrCard            0\n",
      "IsActiveMember       0\n",
      "EstimatedSalary      0\n",
      "Exited               0\n",
      "dtype: int64\n",
      "\n",
      "\u001b[1mРазмер датасета.\u001b[0m\n",
      "\n",
      "(10000, 14)\n",
      "\n"
     ]
    }
   ],
   "source": [
    "data = pd.read_csv('/datasets/Churn.csv')\n",
    "\n",
    "print('\\033[1m' + 'Первые 5 строк.' + '\\033[0m')\n",
    "\n",
    "display(data.head())\n",
    "print('')\n",
    "print('\\033[1m' + 'Количество пропусков.' + '\\033[0m')\n",
    "print('')\n",
    "print(data.isna().sum())\n",
    "print('')\n",
    "print('\\033[1m' + 'Размер датасета.' + '\\033[0m')\n",
    "print('')\n",
    "print(data.shape)\n",
    "print('')"
   ]
  },
  {
   "cell_type": "markdown",
   "metadata": {},
   "source": [
    "Мы видим пропуск в признаке \"Tenure\" — сколько лет человек является клиентом банка. Так как человек может являться клиентом банке 0 лет (первый год), то заполним пропуски в данном признаке нулями и проверим их отсутствие."
   ]
  },
  {
   "cell_type": "code",
   "execution_count": 3,
   "metadata": {},
   "outputs": [
    {
     "name": "stdout",
     "output_type": "stream",
     "text": [
      "RowNumber          0\n",
      "CustomerId         0\n",
      "Surname            0\n",
      "CreditScore        0\n",
      "Geography          0\n",
      "Gender             0\n",
      "Age                0\n",
      "Tenure             0\n",
      "Balance            0\n",
      "NumOfProducts      0\n",
      "HasCrCard          0\n",
      "IsActiveMember     0\n",
      "EstimatedSalary    0\n",
      "Exited             0\n",
      "dtype: int64\n",
      "(10000, 14)\n"
     ]
    }
   ],
   "source": [
    "data.replace([np.nan], data['Tenure'].median(), inplace=True)\n",
    "print(data.isna().sum())\n",
    "print(data.shape)"
   ]
  },
  {
   "cell_type": "markdown",
   "metadata": {},
   "source": [
    "Для преобразования признаков в решающем дереве и случайном лесе воспользуемся техникой Ordinal Encoding. Она позволяет закодировать цифрами выраженные в тексте категории. "
   ]
  },
  {
   "cell_type": "code",
   "execution_count": 4,
   "metadata": {},
   "outputs": [
    {
     "data": {
      "text/html": [
       "<div>\n",
       "<style scoped>\n",
       "    .dataframe tbody tr th:only-of-type {\n",
       "        vertical-align: middle;\n",
       "    }\n",
       "\n",
       "    .dataframe tbody tr th {\n",
       "        vertical-align: top;\n",
       "    }\n",
       "\n",
       "    .dataframe thead th {\n",
       "        text-align: right;\n",
       "    }\n",
       "</style>\n",
       "<table border=\"1\" class=\"dataframe\">\n",
       "  <thead>\n",
       "    <tr style=\"text-align: right;\">\n",
       "      <th></th>\n",
       "      <th>CreditScore</th>\n",
       "      <th>Geography</th>\n",
       "      <th>Gender</th>\n",
       "      <th>Age</th>\n",
       "      <th>Tenure</th>\n",
       "      <th>Balance</th>\n",
       "      <th>NumOfProducts</th>\n",
       "      <th>HasCrCard</th>\n",
       "      <th>IsActiveMember</th>\n",
       "      <th>EstimatedSalary</th>\n",
       "      <th>Exited</th>\n",
       "    </tr>\n",
       "  </thead>\n",
       "  <tbody>\n",
       "    <tr>\n",
       "      <th>0</th>\n",
       "      <td>619</td>\n",
       "      <td>France</td>\n",
       "      <td>Female</td>\n",
       "      <td>42</td>\n",
       "      <td>2.0</td>\n",
       "      <td>0.00</td>\n",
       "      <td>1</td>\n",
       "      <td>1</td>\n",
       "      <td>1</td>\n",
       "      <td>101348.88</td>\n",
       "      <td>1</td>\n",
       "    </tr>\n",
       "    <tr>\n",
       "      <th>1</th>\n",
       "      <td>608</td>\n",
       "      <td>Spain</td>\n",
       "      <td>Female</td>\n",
       "      <td>41</td>\n",
       "      <td>1.0</td>\n",
       "      <td>83807.86</td>\n",
       "      <td>1</td>\n",
       "      <td>0</td>\n",
       "      <td>1</td>\n",
       "      <td>112542.58</td>\n",
       "      <td>0</td>\n",
       "    </tr>\n",
       "    <tr>\n",
       "      <th>2</th>\n",
       "      <td>502</td>\n",
       "      <td>France</td>\n",
       "      <td>Female</td>\n",
       "      <td>42</td>\n",
       "      <td>8.0</td>\n",
       "      <td>159660.80</td>\n",
       "      <td>3</td>\n",
       "      <td>1</td>\n",
       "      <td>0</td>\n",
       "      <td>113931.57</td>\n",
       "      <td>1</td>\n",
       "    </tr>\n",
       "    <tr>\n",
       "      <th>3</th>\n",
       "      <td>699</td>\n",
       "      <td>France</td>\n",
       "      <td>Female</td>\n",
       "      <td>39</td>\n",
       "      <td>1.0</td>\n",
       "      <td>0.00</td>\n",
       "      <td>2</td>\n",
       "      <td>0</td>\n",
       "      <td>0</td>\n",
       "      <td>93826.63</td>\n",
       "      <td>0</td>\n",
       "    </tr>\n",
       "    <tr>\n",
       "      <th>4</th>\n",
       "      <td>850</td>\n",
       "      <td>Spain</td>\n",
       "      <td>Female</td>\n",
       "      <td>43</td>\n",
       "      <td>2.0</td>\n",
       "      <td>125510.82</td>\n",
       "      <td>1</td>\n",
       "      <td>1</td>\n",
       "      <td>1</td>\n",
       "      <td>79084.10</td>\n",
       "      <td>0</td>\n",
       "    </tr>\n",
       "  </tbody>\n",
       "</table>\n",
       "</div>"
      ],
      "text/plain": [
       "   CreditScore Geography  Gender  Age  Tenure    Balance  NumOfProducts  \\\n",
       "0          619    France  Female   42     2.0       0.00              1   \n",
       "1          608     Spain  Female   41     1.0   83807.86              1   \n",
       "2          502    France  Female   42     8.0  159660.80              3   \n",
       "3          699    France  Female   39     1.0       0.00              2   \n",
       "4          850     Spain  Female   43     2.0  125510.82              1   \n",
       "\n",
       "   HasCrCard  IsActiveMember  EstimatedSalary  Exited  \n",
       "0          1               1        101348.88       1  \n",
       "1          0               1        112542.58       0  \n",
       "2          1               0        113931.57       1  \n",
       "3          0               0         93826.63       0  \n",
       "4          1               1         79084.10       0  "
      ]
     },
     "metadata": {},
     "output_type": "display_data"
    },
    {
     "data": {
      "text/html": [
       "<div>\n",
       "<style scoped>\n",
       "    .dataframe tbody tr th:only-of-type {\n",
       "        vertical-align: middle;\n",
       "    }\n",
       "\n",
       "    .dataframe tbody tr th {\n",
       "        vertical-align: top;\n",
       "    }\n",
       "\n",
       "    .dataframe thead th {\n",
       "        text-align: right;\n",
       "    }\n",
       "</style>\n",
       "<table border=\"1\" class=\"dataframe\">\n",
       "  <thead>\n",
       "    <tr style=\"text-align: right;\">\n",
       "      <th></th>\n",
       "      <th>CreditScore</th>\n",
       "      <th>Age</th>\n",
       "      <th>Tenure</th>\n",
       "      <th>Balance</th>\n",
       "      <th>NumOfProducts</th>\n",
       "      <th>HasCrCard</th>\n",
       "      <th>IsActiveMember</th>\n",
       "      <th>EstimatedSalary</th>\n",
       "      <th>Exited</th>\n",
       "      <th>Geography_Germany</th>\n",
       "      <th>Geography_Spain</th>\n",
       "      <th>Gender_Male</th>\n",
       "    </tr>\n",
       "  </thead>\n",
       "  <tbody>\n",
       "    <tr>\n",
       "      <th>0</th>\n",
       "      <td>619</td>\n",
       "      <td>42</td>\n",
       "      <td>2.0</td>\n",
       "      <td>0.00</td>\n",
       "      <td>1</td>\n",
       "      <td>1</td>\n",
       "      <td>1</td>\n",
       "      <td>101348.88</td>\n",
       "      <td>1</td>\n",
       "      <td>0</td>\n",
       "      <td>0</td>\n",
       "      <td>0</td>\n",
       "    </tr>\n",
       "    <tr>\n",
       "      <th>1</th>\n",
       "      <td>608</td>\n",
       "      <td>41</td>\n",
       "      <td>1.0</td>\n",
       "      <td>83807.86</td>\n",
       "      <td>1</td>\n",
       "      <td>0</td>\n",
       "      <td>1</td>\n",
       "      <td>112542.58</td>\n",
       "      <td>0</td>\n",
       "      <td>0</td>\n",
       "      <td>1</td>\n",
       "      <td>0</td>\n",
       "    </tr>\n",
       "    <tr>\n",
       "      <th>2</th>\n",
       "      <td>502</td>\n",
       "      <td>42</td>\n",
       "      <td>8.0</td>\n",
       "      <td>159660.80</td>\n",
       "      <td>3</td>\n",
       "      <td>1</td>\n",
       "      <td>0</td>\n",
       "      <td>113931.57</td>\n",
       "      <td>1</td>\n",
       "      <td>0</td>\n",
       "      <td>0</td>\n",
       "      <td>0</td>\n",
       "    </tr>\n",
       "    <tr>\n",
       "      <th>3</th>\n",
       "      <td>699</td>\n",
       "      <td>39</td>\n",
       "      <td>1.0</td>\n",
       "      <td>0.00</td>\n",
       "      <td>2</td>\n",
       "      <td>0</td>\n",
       "      <td>0</td>\n",
       "      <td>93826.63</td>\n",
       "      <td>0</td>\n",
       "      <td>0</td>\n",
       "      <td>0</td>\n",
       "      <td>0</td>\n",
       "    </tr>\n",
       "    <tr>\n",
       "      <th>4</th>\n",
       "      <td>850</td>\n",
       "      <td>43</td>\n",
       "      <td>2.0</td>\n",
       "      <td>125510.82</td>\n",
       "      <td>1</td>\n",
       "      <td>1</td>\n",
       "      <td>1</td>\n",
       "      <td>79084.10</td>\n",
       "      <td>0</td>\n",
       "      <td>0</td>\n",
       "      <td>1</td>\n",
       "      <td>0</td>\n",
       "    </tr>\n",
       "  </tbody>\n",
       "</table>\n",
       "</div>"
      ],
      "text/plain": [
       "   CreditScore  Age  Tenure    Balance  NumOfProducts  HasCrCard  \\\n",
       "0          619   42     2.0       0.00              1          1   \n",
       "1          608   41     1.0   83807.86              1          0   \n",
       "2          502   42     8.0  159660.80              3          1   \n",
       "3          699   39     1.0       0.00              2          0   \n",
       "4          850   43     2.0  125510.82              1          1   \n",
       "\n",
       "   IsActiveMember  EstimatedSalary  Exited  Geography_Germany  \\\n",
       "0               1        101348.88       1                  0   \n",
       "1               1        112542.58       0                  0   \n",
       "2               0        113931.57       1                  0   \n",
       "3               0         93826.63       0                  0   \n",
       "4               1         79084.10       0                  0   \n",
       "\n",
       "   Geography_Spain  Gender_Male  \n",
       "0                0            0  \n",
       "1                1            0  \n",
       "2                0            0  \n",
       "3                0            0  \n",
       "4                1            0  "
      ]
     },
     "metadata": {},
     "output_type": "display_data"
    },
    {
     "data": {
      "text/plain": [
       "(10000, 12)"
      ]
     },
     "metadata": {},
     "output_type": "display_data"
    }
   ],
   "source": [
    "data = data.drop('Surname', axis=1)\n",
    "data = data.drop('CustomerId', axis=1)\n",
    "data = data.drop('RowNumber', axis=1)\n",
    "display(data.head())\n",
    "data = pd.get_dummies(data, drop_first = True) \n",
    "display(data.head())\n",
    "display(data.shape)"
   ]
  },
  {
   "cell_type": "markdown",
   "metadata": {},
   "source": [
    "Масштабируем числовые признаки. Для этого воспользуемся отдельной структурой для стандартизации данных — StandardScaler."
   ]
  },
  {
   "cell_type": "code",
   "execution_count": 5,
   "metadata": {},
   "outputs": [
    {
     "name": "stdout",
     "output_type": "stream",
     "text": [
      "Размер \"features_train\": (6000, 11)\n",
      "Размер \"features_test\": (2000, 11)\n",
      "Размер \"features_valid\": (2000, 11)\n"
     ]
    }
   ],
   "source": [
    "pd.options.mode.chained_assignment = None\n",
    "\n",
    "target = data['Exited']\n",
    "features = data.drop('Exited', axis=1)\n",
    "features_train, features_test_valid, target_train, target_test_valid = train_test_split(\n",
    "    features, target, test_size=0.4, random_state=12345)\n",
    "\n",
    "features_test, features_valid, target_test, target_valid = train_test_split(\n",
    "    features_test_valid, target_test_valid, test_size=0.5, random_state=12345)\n",
    "\n",
    "numeric = ['CreditScore', 'Age', 'Tenure', 'Balance', 'EstimatedSalary']\n",
    "\n",
    "scaler = StandardScaler()\n",
    "scaler.fit(features_train[numeric]) \n",
    "scaler.fit(features_test[numeric]) \n",
    "scaler.fit(features_valid[numeric]) \n",
    "\n",
    "\n",
    "features_train[numeric] = scaler.transform(features_train[numeric])\n",
    "features_test[numeric] = scaler.transform(features_test[numeric])\n",
    "features_valid[numeric] = scaler.transform(features_valid[numeric])\n",
    "\n",
    "print('Размер \"features_train\":', features_train.shape)\n",
    "print('Размер \"features_test\":', features_test.shape)\n",
    "print('Размер \"features_valid\":', features_valid.shape)"
   ]
  },
  {
   "cell_type": "markdown",
   "metadata": {},
   "source": [
    "## Исследование задачи"
   ]
  },
  {
   "cell_type": "markdown",
   "metadata": {},
   "source": [
    "Для более точного понимания адекватиности модели применим агрегирующую метрику F1-меру. Это среднее гармоническое полноты и точности. Единица в F1 означает, что соотношение полноты и точности равно 1:1. Проверим значение F1-меры для модели алгоритма RandomForestClassifier с различным количеством параметра \"max_depth\" - глубина дерева."
   ]
  },
  {
   "cell_type": "code",
   "execution_count": 6,
   "metadata": {},
   "outputs": [
    {
     "name": "stdout",
     "output_type": "stream",
     "text": [
      "Наилучшая максимальная глубина дерева: 13\n",
      "Наилучшее количество деревьев: 9\n",
      "Наилучшее значение F1: 0.552437223042836\n",
      "Наилучшая функция измерения качества: entropy\n"
     ]
    }
   ],
   "source": [
    "best_result_rfc = 0\n",
    "for est in range(1, 16): # переберем количество деревьев в лесу\n",
    "    for crit in ['gini', 'entropy']: # переберем функцию измерения качества разделения\n",
    "        for depth in range(1, 16): # переберем максимальную глубину дерева\n",
    "            model_rfc = RFC(random_state=12345, \n",
    "                        n_estimators=est, \n",
    "                        criterion = crit,\n",
    "                        max_depth = depth) \n",
    "            model_rfc.fit(features_train, target_train) # обучим модель на тренировочной выборке\n",
    "            predicted_valid = model_rfc.predict(features_valid)\n",
    "            f1_best_score = f1_score(target_valid, predicted_valid)\n",
    "            if f1_best_score > best_result_rfc:\n",
    "                best_result_rfc = f1_best_score  # сохраним наилучшее значение F1-меры на валидационных данных\n",
    "                best_est_rfc = est # сохраним наилучшее количество деревьев в лесу\n",
    "                best_crit = crit # сохраним наилучшую функцию измерения качества разделения\n",
    "                best_depth_rfc = depth # сохраним наилучшую максимальную глубину дерева\n",
    "print('Наилучшая максимальная глубина дерева:', best_depth_rfc)\n",
    "print('Наилучшее количество деревьев:', best_est_rfc)\n",
    "print('Наилучшее значение F1:', best_result_rfc)\n",
    "print('Наилучшая функция измерения качества:', best_crit)"
   ]
  },
  {
   "cell_type": "code",
   "execution_count": 7,
   "metadata": {},
   "outputs": [
    {
     "name": "stdout",
     "output_type": "stream",
     "text": [
      "Наилучшее значение F1: 0.5527065527065527\n",
      "Наилучшее значение максимальной глубины дерева: 6\n",
      "Наилучшее значение функции измерения качества разделения: gini\n",
      "Наилучшая стратегия, используемая для выбора разделения в каждом узле: random\n"
     ]
    }
   ],
   "source": [
    "best_result_dtc = 0\n",
    "for depth in range(1, 20): # переберем максимальную глубину дерева\n",
    "    for crit in ['gini', 'entropy']: # переберем функцию измерения качества разделения\n",
    "        for split in ['best', 'random']: # переберем стратегию, используемую для выбора разделения в каждом узле\n",
    "                model_dtc = DTC(random_state=12345, \n",
    "                                max_depth = depth,\n",
    "                                criterion = crit,\n",
    "                                splitter = split) \n",
    "                model_dtc.fit(features_train, target_train) # обучим модель на тренировочной выборке\n",
    "                predicted_valid = model_dtc.predict(features_valid)\n",
    "                f1_best_score = f1_score(target_valid, predicted_valid)\n",
    "                if f1_best_score > best_result_dtc:\n",
    "                    best_result_dtc = f1_best_score # сохраним наилучшую модель\n",
    "                    best_depth_dtc = depth # сохраним наилучшее значение максимальной глубины дерева\n",
    "                    best_crit = crit # сохраним наилучшее значение функции измерения качества разделения\n",
    "                    best_splitter = split # сохраним наилучшую стратегию, используемую для выбора разделения в каждом узле\n",
    "print('Наилучшее значение F1:', best_result_dtc) \n",
    "print('Наилучшее значение максимальной глубины дерева:', best_depth_dtc)\n",
    "print('Наилучшее значение функции измерения качества разделения:', best_crit)\n",
    "print('Наилучшая стратегия, используемая для выбора разделения в каждом узле:',best_splitter )"
   ]
  },
  {
   "cell_type": "markdown",
   "metadata": {},
   "source": [
    "Рассмотрим баланс классов для понимания того, какие редкие классы существуют."
   ]
  },
  {
   "cell_type": "code",
   "execution_count": 8,
   "metadata": {},
   "outputs": [
    {
     "data": {
      "text/plain": [
       "<AxesSubplot:>"
      ]
     },
     "execution_count": 8,
     "metadata": {},
     "output_type": "execute_result"
    },
    {
     "data": {
      "image/png": "[encoded data removed]",
      "text/plain": [
       "<Figure size 432x288 with 1 Axes>"
      ]
     },
     "metadata": {
      "needs_background": "light"
     },
     "output_type": "display_data"
    }
   ],
   "source": [
    "target.value_counts(normalize=True).plot(kind='bar')"
   ]
  },
  {
   "cell_type": "code",
   "execution_count": 9,
   "metadata": {},
   "outputs": [
    {
     "name": "stdout",
     "output_type": "stream",
     "text": [
      "[[1539   38]\n",
      " [ 337   86]]\n"
     ]
    }
   ],
   "source": [
    "model = DTC(random_state=12345, \n",
    "            max_depth = 7,\n",
    "            criterion = 'entropy',\n",
    "            splitter = 'random')\n",
    "model.fit(features_train, target_train)\n",
    "predicted_valid = model.predict(features_valid)\n",
    "\n",
    "print(confusion_matrix(target_valid, predicted_valid))"
   ]
  },
  {
   "cell_type": "markdown",
   "metadata": {},
   "source": [
    "Как можно заметить имеется дисбаланс классов. Для борьбы с диспалансом применим методы \"увеличение выборки\", \"уменьшение выборки\", \"изменение порога\". "
   ]
  },
  {
   "cell_type": "markdown",
   "metadata": {},
   "source": [
    "## Борьба с дисбалансом"
   ]
  },
  {
   "cell_type": "markdown",
   "metadata": {},
   "source": [
    "Применим метод \"увеличение выборки\"."
   ]
  },
  {
   "cell_type": "code",
   "execution_count": 10,
   "metadata": {},
   "outputs": [
    {
     "name": "stdout",
     "output_type": "stream",
     "text": [
      "F1: 0.572\n"
     ]
    }
   ],
   "source": [
    "def upsample(features, target, repeat):\n",
    "    features_zeros = features[target == 0]\n",
    "    features_ones = features[target == 1]\n",
    "    target_zeros = target[target == 0]\n",
    "    target_ones = target[target == 1]\n",
    "\n",
    "    features_upsampled = pd.concat([features_zeros] + [features_ones] * repeat)\n",
    "    target_upsampled = pd.concat([target_zeros] + [target_ones] * repeat)\n",
    "    \n",
    "    features_upsampled, target_upsampled = shuffle(\n",
    "        features_upsampled, target_upsampled, random_state=12345)\n",
    "    \n",
    "    return features_upsampled, target_upsampled\n",
    "\n",
    "features_upsampled, target_upsampled = upsample(features_train, target_train, 4)\n",
    "\n",
    "model = DTC(random_state=12345, \n",
    "        max_depth = 7,\n",
    "        criterion = 'entropy',\n",
    "        splitter = 'random')\n",
    "model.fit(features_upsampled, target_upsampled) \n",
    "predicted_valid =  model.predict(features_valid)\n",
    "\n",
    "\n",
    "print(\"F1:\", f1_score(target_valid, predicted_valid))"
   ]
  },
  {
   "cell_type": "markdown",
   "metadata": {},
   "source": [
    "Как можно заметить значение F1-меры превысило 0,59."
   ]
  },
  {
   "cell_type": "markdown",
   "metadata": {},
   "source": [
    "Применим метод \"уменьшение выборки\"."
   ]
  },
  {
   "cell_type": "code",
   "execution_count": 11,
   "metadata": {},
   "outputs": [
    {
     "name": "stdout",
     "output_type": "stream",
     "text": [
      "F1: 0.5454545454545454\n"
     ]
    }
   ],
   "source": [
    "def downsample(features, target, fraction):\n",
    "    features_zeros = features[target == 0]\n",
    "    features_ones = features[target == 1]\n",
    "    target_zeros = target[target == 0]\n",
    "    target_ones = target[target == 1]\n",
    "\n",
    "    features_downsampled = pd.concat(\n",
    "        [features_zeros.sample(frac=fraction, random_state=12345)] + [features_ones])\n",
    "    target_downsampled = pd.concat(\n",
    "        [target_zeros.sample(frac=fraction, random_state=12345)] + [target_ones])\n",
    "    \n",
    "    features_downsampled, target_downsampled = shuffle(\n",
    "        features_downsampled, target_downsampled, random_state=12345)\n",
    "    \n",
    "    return features_downsampled, target_downsampled\n",
    "\n",
    "features_downsampled, target_downsampled = downsample(features_train, target_train, 0.25)\n",
    "\n",
    "model = DTC(random_state=12345, \n",
    "            max_depth = 7,\n",
    "            criterion = 'entropy',\n",
    "            splitter = 'random')\n",
    "model.fit(features_downsampled, target_downsampled) \n",
    "predicted_valid =  model.predict(features_valid)\n",
    "\n",
    "print(\"F1:\", f1_score(target_valid, predicted_valid))"
   ]
  },
  {
   "cell_type": "markdown",
   "metadata": {},
   "source": [
    "Как можно заметить значение F1-меры стало ниже 0,59."
   ]
  },
  {
   "cell_type": "markdown",
   "metadata": {},
   "source": [
    "Применим метод \"изменение порога\". "
   ]
  },
  {
   "cell_type": "code",
   "execution_count": 12,
   "metadata": {},
   "outputs": [
    {
     "name": "stdout",
     "output_type": "stream",
     "text": [
      "Порог = 0.00, F1 = 0.354\n",
      "Порог = 0.02, F1 = 0.381\n",
      "Порог = 0.04, F1 = 0.416\n",
      "Порог = 0.06, F1 = 0.453\n",
      "Порог = 0.08, F1 = 0.476\n",
      "Порог = 0.10, F1 = 0.493\n",
      "Порог = 0.12, F1 = 0.535\n",
      "Порог = 0.14, F1 = 0.541\n",
      "Порог = 0.16, F1 = 0.534\n",
      "Порог = 0.18, F1 = 0.540\n",
      "Порог = 0.20, F1 = 0.546\n",
      "Порог = 0.22, F1 = 0.534\n",
      "Порог = 0.24, F1 = 0.549\n",
      "Порог = 0.26, F1 = 0.537\n",
      "Порог = 0.28, F1 = 0.528\n"
     ]
    }
   ],
   "source": [
    "model = DTC(random_state=12345, \n",
    "            max_depth = 7,\n",
    "            criterion = 'entropy',\n",
    "            splitter = 'random')\n",
    "model.fit(features_train, target_train)\n",
    "\n",
    "for threshold in np.arange(0, 0.3, 0.02):\n",
    "    probabilities_valid = model.predict_proba(features_valid) \n",
    "    probabilities_one_valid = probabilities_valid[:, 1]\n",
    "    predicted_valid = probabilities_one_valid > threshold \n",
    "    f1_score1 = f1_score(target_valid, predicted_valid)\n",
    "    print(\"Порог = {:.2f}, F1 = {:.3f}\".format(\n",
    "        threshold, f1_score1))"
   ]
  },
  {
   "cell_type": "markdown",
   "metadata": {},
   "source": [
    "Как можно заметить в данном методе значение F1-меры достигает выше 0,59 с порога значения 0,2.\n",
    "В итоге можно сделать вывод, что для увеличения F1-меры помогли методы \"увеличение выборки\" и \"изменение порога\"."
   ]
  },
  {
   "cell_type": "markdown",
   "metadata": {},
   "source": [
    "## Тестирование модели"
   ]
  },
  {
   "cell_type": "markdown",
   "metadata": {},
   "source": [
    "Проведем тестирование на тестовой выборке."
   ]
  },
  {
   "cell_type": "code",
   "execution_count": 13,
   "metadata": {},
   "outputs": [
    {
     "name": "stdout",
     "output_type": "stream",
     "text": [
      "F1 = 0.540\n"
     ]
    }
   ],
   "source": [
    "model = DTC(random_state=12345, \n",
    "            max_depth = 7,\n",
    "            criterion = 'entropy',\n",
    "            splitter = 'random')\n",
    "model.fit(features_train, target_train)\n",
    "probabilities_test = model.predict_proba(features_test) \n",
    "probabilities_one_test = probabilities_test[:, 1]\n",
    "predicted_test = probabilities_one_test > 0.22\n",
    "f1_score1 = f1_score(target_test, predicted_test)\n",
    "print(\"F1 = {:.3f}\".format(f1_score1))"
   ]
  },
  {
   "cell_type": "code",
   "execution_count": 14,
   "metadata": {},
   "outputs": [
    {
     "name": "stdout",
     "output_type": "stream",
     "text": [
      "F1: 0.5573440643863179\n"
     ]
    }
   ],
   "source": [
    "def upsample(features, target, repeat):\n",
    "    features_zeros = features[target == 0]\n",
    "    features_ones = features[target == 1]\n",
    "    target_zeros = target[target == 0]\n",
    "    target_ones = target[target == 1]\n",
    "\n",
    "    features_upsampled = pd.concat([features_zeros] + [features_ones] * repeat)\n",
    "    target_upsampled = pd.concat([target_zeros] + [target_ones] * repeat)\n",
    "    \n",
    "    features_upsampled, target_upsampled = shuffle(\n",
    "        features_upsampled, target_upsampled, random_state=12345)\n",
    "    \n",
    "    return features_upsampled, target_upsampled\n",
    "\n",
    "features_upsampled, target_upsampled = upsample(features_train, target_train, 4)\n",
    "\n",
    "model = DTC(random_state=12345, \n",
    "        max_depth = 7,\n",
    "        criterion = 'entropy',\n",
    "        splitter = 'random')\n",
    "model.fit(features_upsampled, target_upsampled) \n",
    "predicted_test =  model.predict(features_test)\n",
    "\n",
    "\n",
    "print(\"F1:\", f1_score(target_test, predicted_test))"
   ]
  },
  {
   "cell_type": "code",
   "execution_count": 15,
   "metadata": {},
   "outputs": [
    {
     "name": "stdout",
     "output_type": "stream",
     "text": [
      "F1: 0.5997521685254027\n"
     ]
    }
   ],
   "source": [
    "def upsample(features, target, repeat):\n",
    "    features_zeros = features[target == 0]\n",
    "    features_ones = features[target == 1]\n",
    "    target_zeros = target[target == 0]\n",
    "    target_ones = target[target == 1]\n",
    "\n",
    "    features_upsampled = pd.concat([features_zeros] + [features_ones] * repeat)\n",
    "    target_upsampled = pd.concat([target_zeros] + [target_ones] * repeat)\n",
    "    \n",
    "    features_upsampled, target_upsampled = shuffle(\n",
    "        features_upsampled, target_upsampled, random_state=12345)\n",
    "    \n",
    "    return features_upsampled, target_upsampled\n",
    "\n",
    "features_upsampled, target_upsampled = upsample(features_train, target_train, 2)\n",
    "\n",
    "model = DTC(random_state=12345, \n",
    "        max_depth = 7,\n",
    "        criterion = 'entropy',\n",
    "        splitter = 'random')\n",
    "model.fit(features_upsampled, target_upsampled) \n",
    "predicted_test =  model.predict(features_test)\n",
    "\n",
    "\n",
    "print(\"F1:\", f1_score(target_test, predicted_test))"
   ]
  },
  {
   "cell_type": "markdown",
   "metadata": {},
   "source": [
    "Проверим качество модели. Для этого вычислим AUC-ROCK и построим ROC-кривую, или кривую ошибок. Чем график выше, тем больше значение TPR и лучше качество модели. "
   ]
  },
  {
   "cell_type": "code",
   "execution_count": 16,
   "metadata": {},
   "outputs": [
    {
     "name": "stdout",
     "output_type": "stream",
     "text": [
      "0.8023846037378329\n"
     ]
    }
   ],
   "source": [
    "model = DTC(random_state=12345, \n",
    "            max_depth = 7,\n",
    "            criterion = 'entropy',\n",
    "            splitter = 'random')\n",
    "model.fit(features_train, target_train)\n",
    "probabilities_valid = model.predict_proba(features_valid)\n",
    "probabilities_one_valid = probabilities_valid[:, 1]\n",
    "auc_roc = roc_auc_score(target_valid, probabilities_one_valid)\n",
    "\n",
    "print(auc_roc)"
   ]
  },
  {
   "cell_type": "code",
   "execution_count": 17,
   "metadata": {},
   "outputs": [
    {
     "data": {
      "image/png": "[encoded data removed]",
      "text/plain": [
       "<Figure size 432x432 with 1 Axes>"
      ]
     },
     "metadata": {
      "needs_background": "light"
     },
     "output_type": "display_data"
    }
   ],
   "source": [
    "fpr, tpr, thresholds = roc_curve(target_valid, probabilities_one_valid) \n",
    "\n",
    "plt.figure(figsize=(6,6))\n",
    "\n",
    "# < постройте график >\n",
    "plt.plot(fpr, tpr)\n",
    "# ROC-кривая случайной модели (выглядит как прямая)\n",
    "plt.plot([0, 1], [0, 1], linestyle='--')\n",
    "\n",
    "# < примените функции plt.xlim() и plt.ylim(), чтобы\n",
    "#   установить границы осей от 0 до 1 >\n",
    "plt.xlim([0.0, 1.0]) \n",
    "plt.ylim([0.0, 1.0])\n",
    "# < примените функции plt.xlabel() и plt.ylabel(), чтобы\n",
    "#   подписать оси \"False Positive Rate\" и \"True Positive Rate\" >\n",
    "plt.xlabel(\"False Positive Rate\") \n",
    "plt.ylabel(\"True Positive Rate\")\n",
    "# < добавьте к графику заголовок \"ROC-кривая\" функцией plt.title() >\n",
    "plt.title(\"ROC-кривая\")\n",
    "plt.show()"
   ]
  },
  {
   "cell_type": "markdown",
   "metadata": {},
   "source": [
    "По полученным данным, можно сделать вывод, что наша модель имеет высокое значение AUC-ROCK."
   ]
  },
  {
   "cell_type": "markdown",
   "metadata": {},
   "source": [
    "**Вывод:** \n",
    "\n",
    "В данном проекте необходимо было спрогнозировать, уйдет ли клиент из \"Бета\"-банка в ближайшее время. Сперва был обработан датасет в котором пропуски в признаке Tenure были заменены медианным значением в этого признака. Для преобразования категориальных признаков в количественные воспользовались техникой One Hot Encoding. В дальнейшем произвели масштабирование числовых признаков. Для понимание того, какая модель даст лучшее значение F1-меры исследовали две модели RandomForestClassifier и DecisionTreeClassifier. В результате модель DecisionTreeClassifier показала наилучшее значение F1-меры, равное 0.56. Определили, что в целевом признаке наблюдается дисбаланс классов с коэффициентом 4, в котором значения целевого признака 0 превышают значения целевого признака 1. Для борьбы с дисбалансом были применены методы \"увеличение выборки\", \"уменьшение выборки\", \"изменение порога\". В результате значение F1-меры более или равным 0,59 удалось достичь с помощью методов \"увеличение выборки\" (0,59),  \"изменение порога\" (0,61). В дальнейшем модель и метод борьбы с дисбалансои протестировали на тестовой выборке. В результате теста было получены несовсем удовлетворяющие значения F1-меры, а именно для метода \"увеличение выборки\" (0,57),  \"изменение порога\" (0,57). Стоит отметить, что при уменьшении коэффициента с 4 до 2 в методе \"увеличение выборки\", значение F1-меры становится равным 0,59. В конце для проверки качества модели вычислили значение AUC-ROC, а также построили ROC-кривую. Значение AUC-ROC получилось 0,84,что показывает хорошее качество классификации конкретной модели. Также на графике мы  видим геометрическую зависимость между долей верно классифицированных объектов положительного класса и долей ложноположительных объектов.  <div>"
   ]
  }
 ],
 "metadata": {
  "ExecuteTimeLog": [
   {
    "duration": 518,
    "start_time": "2023-04-14T06:00:36.750Z"
   },
   {
    "duration": 48,
    "start_time": "2023-04-14T06:10:09.145Z"
   },
   {
    "duration": 1075,
    "start_time": "2023-04-14T06:18:53.626Z"
   },
   {
    "duration": 47,
    "start_time": "2023-04-14T06:19:18.819Z"
   },
   {
    "duration": 39,
    "start_time": "2023-04-14T06:21:18.816Z"
   },
   {
    "duration": 39,
    "start_time": "2023-04-14T06:29:27.099Z"
   },
   {
    "duration": 1244,
    "start_time": "2023-04-14T06:36:26.340Z"
   },
   {
    "duration": 9,
    "start_time": "2023-04-14T06:36:35.365Z"
   },
   {
    "duration": 8,
    "start_time": "2023-04-14T06:36:43.853Z"
   },
   {
    "duration": 10,
    "start_time": "2023-04-14T06:37:28.718Z"
   },
   {
    "duration": 10,
    "start_time": "2023-04-14T06:37:35.452Z"
   },
   {
    "duration": 45,
    "start_time": "2023-04-14T06:46:09.917Z"
   },
   {
    "duration": 87,
    "start_time": "2023-04-14T06:49:38.041Z"
   },
   {
    "duration": 46,
    "start_time": "2023-04-14T06:49:47.531Z"
   },
   {
    "duration": 46,
    "start_time": "2023-04-14T06:50:11.053Z"
   },
   {
    "duration": 44,
    "start_time": "2023-04-14T06:50:16.202Z"
   },
   {
    "duration": 46,
    "start_time": "2023-04-14T06:50:29.766Z"
   },
   {
    "duration": 43,
    "start_time": "2023-04-14T06:51:55.962Z"
   },
   {
    "duration": 47,
    "start_time": "2023-04-14T06:52:09.770Z"
   },
   {
    "duration": 45,
    "start_time": "2023-04-14T06:52:22.023Z"
   },
   {
    "duration": 46,
    "start_time": "2023-04-14T06:52:36.006Z"
   },
   {
    "duration": 1016,
    "start_time": "2023-04-14T17:48:47.286Z"
   },
   {
    "duration": 389,
    "start_time": "2023-04-14T17:49:03.180Z"
   },
   {
    "duration": 16,
    "start_time": "2023-04-14T17:49:04.536Z"
   },
   {
    "duration": 63,
    "start_time": "2023-04-14T17:49:05.598Z"
   },
   {
    "duration": 68,
    "start_time": "2023-04-14T17:50:31.316Z"
   },
   {
    "duration": 186,
    "start_time": "2023-04-14T18:05:40.601Z"
   },
   {
    "duration": 191,
    "start_time": "2023-04-14T18:05:54.183Z"
   },
   {
    "duration": 39,
    "start_time": "2023-04-14T18:06:04.257Z"
   },
   {
    "duration": 39,
    "start_time": "2023-04-14T18:06:13.993Z"
   },
   {
    "duration": 45,
    "start_time": "2023-04-14T18:39:41.231Z"
   },
   {
    "duration": 28,
    "start_time": "2023-04-14T18:40:03.721Z"
   },
   {
    "duration": 18,
    "start_time": "2023-04-14T18:40:23.307Z"
   },
   {
    "duration": 24,
    "start_time": "2023-04-14T18:40:45.723Z"
   },
   {
    "duration": 29,
    "start_time": "2023-04-14T18:43:39.516Z"
   },
   {
    "duration": 21,
    "start_time": "2023-04-14T18:43:41.874Z"
   },
   {
    "duration": 1020,
    "start_time": "2023-04-14T18:43:44.682Z"
   },
   {
    "duration": 6,
    "start_time": "2023-04-14T18:43:45.703Z"
   },
   {
    "duration": 42,
    "start_time": "2023-04-14T18:43:45.711Z"
   },
   {
    "duration": 17,
    "start_time": "2023-04-14T18:43:45.755Z"
   },
   {
    "duration": 30,
    "start_time": "2023-04-14T18:44:53.934Z"
   },
   {
    "duration": 18,
    "start_time": "2023-04-14T18:46:40.862Z"
   },
   {
    "duration": 30,
    "start_time": "2023-04-14T18:46:52.376Z"
   },
   {
    "duration": 16,
    "start_time": "2023-04-14T18:47:04.245Z"
   },
   {
    "duration": 14,
    "start_time": "2023-04-14T18:48:50.869Z"
   },
   {
    "duration": 20,
    "start_time": "2023-04-14T18:49:23.629Z"
   },
   {
    "duration": 23,
    "start_time": "2023-04-14T18:50:23.372Z"
   },
   {
    "duration": 118,
    "start_time": "2023-04-14T18:51:20.404Z"
   },
   {
    "duration": 18,
    "start_time": "2023-04-14T18:51:34.195Z"
   },
   {
    "duration": 36,
    "start_time": "2023-04-14T18:52:14.025Z"
   },
   {
    "duration": 38,
    "start_time": "2023-04-14T18:52:19.054Z"
   },
   {
    "duration": 46,
    "start_time": "2023-04-14T18:52:31.545Z"
   },
   {
    "duration": 1020,
    "start_time": "2023-04-14T18:52:35.359Z"
   },
   {
    "duration": 6,
    "start_time": "2023-04-14T18:52:36.380Z"
   },
   {
    "duration": 134,
    "start_time": "2023-04-14T18:52:36.387Z"
   },
   {
    "duration": 0,
    "start_time": "2023-04-14T18:52:36.522Z"
   },
   {
    "duration": 37,
    "start_time": "2023-04-14T18:52:45.151Z"
   },
   {
    "duration": 23,
    "start_time": "2023-04-14T18:52:52.492Z"
   },
   {
    "duration": 19,
    "start_time": "2023-04-14T18:54:25.888Z"
   },
   {
    "duration": 25,
    "start_time": "2023-04-14T18:56:10.462Z"
   },
   {
    "duration": 22,
    "start_time": "2023-04-14T18:57:04.131Z"
   },
   {
    "duration": 18,
    "start_time": "2023-04-14T18:57:08.257Z"
   },
   {
    "duration": 21,
    "start_time": "2023-04-14T19:08:10.908Z"
   },
   {
    "duration": 25,
    "start_time": "2023-04-14T19:54:33.922Z"
   },
   {
    "duration": 29,
    "start_time": "2023-04-14T19:55:43.303Z"
   },
   {
    "duration": 45,
    "start_time": "2023-04-14T19:55:52.820Z"
   },
   {
    "duration": 98,
    "start_time": "2023-04-14T20:18:55.851Z"
   },
   {
    "duration": 12,
    "start_time": "2023-04-14T20:22:39.951Z"
   },
   {
    "duration": 5,
    "start_time": "2023-04-14T20:22:50.827Z"
   },
   {
    "duration": 1213,
    "start_time": "2023-04-15T06:00:15.845Z"
   },
   {
    "duration": 97,
    "start_time": "2023-04-15T06:00:54.123Z"
   },
   {
    "duration": 1306,
    "start_time": "2023-04-15T06:01:05.868Z"
   },
   {
    "duration": 16,
    "start_time": "2023-04-15T06:01:07.177Z"
   },
   {
    "duration": 77,
    "start_time": "2023-04-15T06:01:07.197Z"
   },
   {
    "duration": 56,
    "start_time": "2023-04-15T06:01:07.277Z"
   },
   {
    "duration": 141,
    "start_time": "2023-04-15T06:01:07.335Z"
   },
   {
    "duration": 7197,
    "start_time": "2023-04-15T06:01:07.478Z"
   },
   {
    "duration": 3926,
    "start_time": "2023-04-15T06:01:22.565Z"
   },
   {
    "duration": 903,
    "start_time": "2023-04-15T06:01:47.136Z"
   },
   {
    "duration": 13,
    "start_time": "2023-04-15T06:01:59.109Z"
   },
   {
    "duration": 827,
    "start_time": "2023-04-15T06:02:14.197Z"
   },
   {
    "duration": 871,
    "start_time": "2023-04-15T06:02:58.653Z"
   },
   {
    "duration": 940,
    "start_time": "2023-04-15T06:03:12.014Z"
   },
   {
    "duration": 91,
    "start_time": "2023-04-15T06:07:46.067Z"
   },
   {
    "duration": 3814,
    "start_time": "2023-04-15T06:07:51.611Z"
   },
   {
    "duration": 319,
    "start_time": "2023-04-15T06:10:58.331Z"
   },
   {
    "duration": 396,
    "start_time": "2023-04-15T06:13:14.753Z"
   },
   {
    "duration": 8738,
    "start_time": "2023-04-15T06:13:16.272Z"
   },
   {
    "duration": 859,
    "start_time": "2023-04-15T06:13:25.014Z"
   },
   {
    "duration": 37861,
    "start_time": "2023-04-15T06:13:36.425Z"
   },
   {
    "duration": 517,
    "start_time": "2023-04-15T06:15:04.037Z"
   },
   {
    "duration": 92,
    "start_time": "2023-04-15T06:16:47.936Z"
   },
   {
    "duration": 10,
    "start_time": "2023-04-15T06:17:06.957Z"
   },
   {
    "duration": 15,
    "start_time": "2023-04-15T06:17:44.080Z"
   },
   {
    "duration": 15,
    "start_time": "2023-04-15T06:20:46.011Z"
   },
   {
    "duration": 3419,
    "start_time": "2023-04-15T06:20:57.606Z"
   },
   {
    "duration": 3453,
    "start_time": "2023-04-15T06:21:18.344Z"
   },
   {
    "duration": 1357,
    "start_time": "2023-04-15T06:37:08.412Z"
   },
   {
    "duration": 1180,
    "start_time": "2023-04-15T06:37:27.203Z"
   },
   {
    "duration": 2454,
    "start_time": "2023-04-15T06:44:39.930Z"
   },
   {
    "duration": 2343,
    "start_time": "2023-04-15T06:45:21.571Z"
   },
   {
    "duration": 12337,
    "start_time": "2023-04-15T06:47:29.298Z"
   },
   {
    "duration": 1049,
    "start_time": "2023-04-15T06:49:20.505Z"
   },
   {
    "duration": 1091,
    "start_time": "2023-04-15T06:49:33.600Z"
   },
   {
    "duration": 1068,
    "start_time": "2023-04-15T06:49:57.793Z"
   },
   {
    "duration": 1256,
    "start_time": "2023-04-15T11:28:35.187Z"
   },
   {
    "duration": 7,
    "start_time": "2023-04-15T11:28:36.445Z"
   },
   {
    "duration": 43,
    "start_time": "2023-04-15T11:28:36.453Z"
   },
   {
    "duration": 29,
    "start_time": "2023-04-15T11:28:36.498Z"
   },
   {
    "duration": 309,
    "start_time": "2023-04-15T11:28:36.529Z"
   },
   {
    "duration": 0,
    "start_time": "2023-04-15T11:28:36.840Z"
   },
   {
    "duration": 7503,
    "start_time": "2023-04-15T11:29:04.897Z"
   },
   {
    "duration": 1153,
    "start_time": "2023-04-15T11:29:48.836Z"
   },
   {
    "duration": 6606,
    "start_time": "2023-04-15T11:40:42.371Z"
   },
   {
    "duration": 17038,
    "start_time": "2023-04-15T11:40:57.334Z"
   },
   {
    "duration": 6951,
    "start_time": "2023-04-15T11:41:23.396Z"
   },
   {
    "duration": 83,
    "start_time": "2023-04-15T12:00:12.006Z"
   },
   {
    "duration": 2024,
    "start_time": "2023-04-15T12:00:31.931Z"
   },
   {
    "duration": 1809,
    "start_time": "2023-04-15T12:01:20.024Z"
   },
   {
    "duration": 1196,
    "start_time": "2023-04-15T12:05:02.775Z"
   },
   {
    "duration": 1124,
    "start_time": "2023-04-15T12:05:14.473Z"
   },
   {
    "duration": 1843,
    "start_time": "2023-04-15T12:05:25.359Z"
   },
   {
    "duration": 2234,
    "start_time": "2023-04-15T12:06:19.163Z"
   },
   {
    "duration": 2232,
    "start_time": "2023-04-15T12:06:42.964Z"
   },
   {
    "duration": 2206,
    "start_time": "2023-04-15T12:06:49.226Z"
   },
   {
    "duration": 2305,
    "start_time": "2023-04-15T12:06:56.010Z"
   },
   {
    "duration": 1288,
    "start_time": "2023-04-15T12:08:10.008Z"
   },
   {
    "duration": 1120,
    "start_time": "2023-04-15T12:08:21.805Z"
   },
   {
    "duration": 1127,
    "start_time": "2023-04-15T12:08:31.654Z"
   },
   {
    "duration": 1100,
    "start_time": "2023-04-15T12:10:11.568Z"
   },
   {
    "duration": 1243,
    "start_time": "2023-04-15T13:07:59.483Z"
   },
   {
    "duration": 46,
    "start_time": "2023-04-15T13:09:23.436Z"
   },
   {
    "duration": 2298,
    "start_time": "2023-04-15T13:09:36.789Z"
   },
   {
    "duration": 1254,
    "start_time": "2023-04-15T13:09:55.168Z"
   },
   {
    "duration": 17,
    "start_time": "2023-04-15T13:25:26.644Z"
   },
   {
    "duration": 1917,
    "start_time": "2023-04-15T13:25:41.618Z"
   },
   {
    "duration": 0,
    "start_time": "2023-04-15T13:25:43.537Z"
   },
   {
    "duration": 2325,
    "start_time": "2023-04-15T13:26:30.030Z"
   },
   {
    "duration": 1839,
    "start_time": "2023-04-15T13:26:40.947Z"
   },
   {
    "duration": 0,
    "start_time": "2023-04-15T13:26:42.787Z"
   },
   {
    "duration": 1019,
    "start_time": "2023-04-15T13:26:47.608Z"
   },
   {
    "duration": 9,
    "start_time": "2023-04-15T13:26:48.630Z"
   },
   {
    "duration": 40,
    "start_time": "2023-04-15T13:26:48.641Z"
   },
   {
    "duration": 36,
    "start_time": "2023-04-15T13:26:48.683Z"
   },
   {
    "duration": 8161,
    "start_time": "2023-04-15T13:26:48.721Z"
   },
   {
    "duration": 1110,
    "start_time": "2023-04-15T13:26:56.885Z"
   },
   {
    "duration": 1977,
    "start_time": "2023-04-15T13:26:57.996Z"
   },
   {
    "duration": 2063,
    "start_time": "2023-04-15T13:26:59.974Z"
   },
   {
    "duration": 2360,
    "start_time": "2023-04-15T13:27:02.039Z"
   },
   {
    "duration": 2329,
    "start_time": "2023-04-15T13:27:57.232Z"
   },
   {
    "duration": 503,
    "start_time": "2023-04-15T13:29:10.290Z"
   },
   {
    "duration": 2095,
    "start_time": "2023-04-15T13:32:27.887Z"
   },
   {
    "duration": 2116,
    "start_time": "2023-04-15T13:32:35.338Z"
   },
   {
    "duration": 2178,
    "start_time": "2023-04-15T13:40:16.696Z"
   },
   {
    "duration": 2081,
    "start_time": "2023-04-15T13:40:23.320Z"
   },
   {
    "duration": 2224,
    "start_time": "2023-04-15T13:40:29.954Z"
   },
   {
    "duration": 452,
    "start_time": "2023-04-15T13:41:00.600Z"
   },
   {
    "duration": 2128,
    "start_time": "2023-04-15T13:46:20.948Z"
   },
   {
    "duration": 3547,
    "start_time": "2023-04-15T13:50:04.365Z"
   },
   {
    "duration": 7459,
    "start_time": "2023-04-15T14:01:30.214Z"
   },
   {
    "duration": 49,
    "start_time": "2023-04-15T14:06:48.076Z"
   },
   {
    "duration": 6817,
    "start_time": "2023-04-15T14:12:35.572Z"
   },
   {
    "duration": 6951,
    "start_time": "2023-04-15T14:13:34.143Z"
   },
   {
    "duration": 770,
    "start_time": "2023-04-15T14:34:31.015Z"
   },
   {
    "duration": 1933,
    "start_time": "2023-04-15T14:34:48.586Z"
   },
   {
    "duration": 683,
    "start_time": "2023-04-15T14:39:49.559Z"
   },
   {
    "duration": 1969,
    "start_time": "2023-04-15T14:47:57.147Z"
   },
   {
    "duration": 1769,
    "start_time": "2023-04-15T15:01:52.424Z"
   },
   {
    "duration": 5,
    "start_time": "2023-04-15T15:07:46.731Z"
   },
   {
    "duration": 121,
    "start_time": "2023-04-15T15:08:11.018Z"
   },
   {
    "duration": 10,
    "start_time": "2023-04-15T15:08:33.059Z"
   },
   {
    "duration": 437,
    "start_time": "2023-04-15T15:08:46.352Z"
   },
   {
    "duration": 1120,
    "start_time": "2023-04-15T16:27:23.888Z"
   },
   {
    "duration": 1871,
    "start_time": "2023-04-15T16:27:50.945Z"
   },
   {
    "duration": 123,
    "start_time": "2023-04-15T16:28:10.609Z"
   },
   {
    "duration": 1125,
    "start_time": "2023-04-16T11:27:08.137Z"
   },
   {
    "duration": 9,
    "start_time": "2023-04-16T11:27:09.264Z"
   },
   {
    "duration": 43,
    "start_time": "2023-04-16T11:27:09.275Z"
   },
   {
    "duration": 55,
    "start_time": "2023-04-16T11:27:09.321Z"
   },
   {
    "duration": 7623,
    "start_time": "2023-04-16T11:27:09.378Z"
   },
   {
    "duration": 1289,
    "start_time": "2023-04-16T11:27:17.003Z"
   },
   {
    "duration": 2210,
    "start_time": "2023-04-16T11:27:18.294Z"
   },
   {
    "duration": 432,
    "start_time": "2023-04-16T11:27:20.506Z"
   },
   {
    "duration": 1977,
    "start_time": "2023-04-16T11:27:20.940Z"
   },
   {
    "duration": 1268,
    "start_time": "2023-04-16T11:27:22.919Z"
   },
   {
    "duration": 420,
    "start_time": "2023-04-16T11:27:24.189Z"
   },
   {
    "duration": 1405,
    "start_time": "2023-04-18T17:51:09.622Z"
   },
   {
    "duration": 61,
    "start_time": "2023-04-18T17:51:25.472Z"
   },
   {
    "duration": 64,
    "start_time": "2023-04-18T18:07:48.930Z"
   },
   {
    "duration": 61,
    "start_time": "2023-04-18T18:09:42.134Z"
   },
   {
    "duration": 1137,
    "start_time": "2023-04-19T15:51:04.181Z"
   },
   {
    "duration": 2,
    "start_time": "2023-04-19T15:53:24.698Z"
   },
   {
    "duration": 109,
    "start_time": "2023-04-19T15:53:24.892Z"
   },
   {
    "duration": 106,
    "start_time": "2023-04-19T16:06:51.792Z"
   },
   {
    "duration": 1120,
    "start_time": "2023-04-19T16:07:12.430Z"
   },
   {
    "duration": 70,
    "start_time": "2023-04-19T16:07:13.552Z"
   },
   {
    "duration": 7,
    "start_time": "2023-04-19T16:07:13.624Z"
   },
   {
    "duration": 67,
    "start_time": "2023-04-19T16:07:13.633Z"
   },
   {
    "duration": 33,
    "start_time": "2023-04-19T16:07:13.701Z"
   },
   {
    "duration": 7518,
    "start_time": "2023-04-19T16:07:13.735Z"
   },
   {
    "duration": 1192,
    "start_time": "2023-04-19T16:07:21.255Z"
   },
   {
    "duration": 2067,
    "start_time": "2023-04-19T16:07:22.448Z"
   },
   {
    "duration": 437,
    "start_time": "2023-04-19T16:07:24.517Z"
   },
   {
    "duration": 2145,
    "start_time": "2023-04-19T16:07:24.956Z"
   },
   {
    "duration": 1155,
    "start_time": "2023-04-19T16:07:27.103Z"
   },
   {
    "duration": 669,
    "start_time": "2023-04-19T16:07:28.261Z"
   },
   {
    "duration": 56,
    "start_time": "2023-04-19T16:18:24.200Z"
   },
   {
    "duration": 50,
    "start_time": "2023-04-19T16:18:34.110Z"
   },
   {
    "duration": 9,
    "start_time": "2023-04-19T17:39:35.493Z"
   },
   {
    "duration": 114,
    "start_time": "2023-04-19T17:52:54.030Z"
   },
   {
    "duration": 10,
    "start_time": "2023-04-19T17:53:39.091Z"
   },
   {
    "duration": 9,
    "start_time": "2023-04-19T17:53:45.077Z"
   },
   {
    "duration": 26,
    "start_time": "2023-04-19T18:01:09.087Z"
   },
   {
    "duration": 52,
    "start_time": "2023-04-19T18:01:17.271Z"
   },
   {
    "duration": 76,
    "start_time": "2023-04-19T18:01:43.477Z"
   },
   {
    "duration": 34,
    "start_time": "2023-04-19T18:01:57.443Z"
   },
   {
    "duration": 66,
    "start_time": "2023-04-19T18:02:46.675Z"
   },
   {
    "duration": 68,
    "start_time": "2023-04-19T18:02:55.083Z"
   },
   {
    "duration": 80,
    "start_time": "2023-04-19T18:03:01.280Z"
   },
   {
    "duration": 9,
    "start_time": "2023-04-19T18:03:45.836Z"
   },
   {
    "duration": 72,
    "start_time": "2023-04-19T18:04:06.379Z"
   },
   {
    "duration": 11,
    "start_time": "2023-04-19T18:05:38.498Z"
   },
   {
    "duration": 37,
    "start_time": "2023-04-19T18:05:43.375Z"
   },
   {
    "duration": 75,
    "start_time": "2023-04-19T18:06:05.779Z"
   },
   {
    "duration": 37,
    "start_time": "2023-04-19T18:07:58.813Z"
   },
   {
    "duration": 82,
    "start_time": "2023-04-19T18:08:02.812Z"
   },
   {
    "duration": 47,
    "start_time": "2023-04-19T20:15:30.787Z"
   },
   {
    "duration": 1771,
    "start_time": "2023-04-19T20:15:40.405Z"
   },
   {
    "duration": 135,
    "start_time": "2023-04-19T20:15:42.179Z"
   },
   {
    "duration": 51,
    "start_time": "2023-04-19T20:15:42.315Z"
   },
   {
    "duration": 12,
    "start_time": "2023-04-19T20:15:42.368Z"
   },
   {
    "duration": 137,
    "start_time": "2023-04-19T20:15:42.381Z"
   },
   {
    "duration": 0,
    "start_time": "2023-04-19T20:15:42.521Z"
   },
   {
    "duration": 0,
    "start_time": "2023-04-19T20:15:42.523Z"
   },
   {
    "duration": 0,
    "start_time": "2023-04-19T20:15:42.524Z"
   },
   {
    "duration": 0,
    "start_time": "2023-04-19T20:15:42.526Z"
   },
   {
    "duration": 0,
    "start_time": "2023-04-19T20:15:42.534Z"
   },
   {
    "duration": 0,
    "start_time": "2023-04-19T20:15:42.535Z"
   },
   {
    "duration": 0,
    "start_time": "2023-04-19T20:15:42.536Z"
   },
   {
    "duration": 0,
    "start_time": "2023-04-19T20:15:42.538Z"
   },
   {
    "duration": 15,
    "start_time": "2023-04-19T20:16:00.618Z"
   },
   {
    "duration": 8,
    "start_time": "2023-04-19T20:18:51.079Z"
   },
   {
    "duration": 13,
    "start_time": "2023-04-19T20:18:55.477Z"
   },
   {
    "duration": 19,
    "start_time": "2023-04-19T20:19:38.812Z"
   },
   {
    "duration": 19,
    "start_time": "2023-04-19T20:19:46.097Z"
   },
   {
    "duration": 13,
    "start_time": "2023-04-19T20:20:03.221Z"
   },
   {
    "duration": 19,
    "start_time": "2023-04-19T20:20:37.129Z"
   },
   {
    "duration": 1374,
    "start_time": "2023-04-19T20:20:41.469Z"
   },
   {
    "duration": 110,
    "start_time": "2023-04-19T20:20:42.845Z"
   },
   {
    "duration": 41,
    "start_time": "2023-04-19T20:20:42.957Z"
   },
   {
    "duration": 13,
    "start_time": "2023-04-19T20:20:43.000Z"
   },
   {
    "duration": 143,
    "start_time": "2023-04-19T20:20:43.038Z"
   },
   {
    "duration": 0,
    "start_time": "2023-04-19T20:20:43.183Z"
   },
   {
    "duration": 0,
    "start_time": "2023-04-19T20:20:43.185Z"
   },
   {
    "duration": 0,
    "start_time": "2023-04-19T20:20:43.186Z"
   },
   {
    "duration": 0,
    "start_time": "2023-04-19T20:20:43.188Z"
   },
   {
    "duration": 1,
    "start_time": "2023-04-19T20:20:43.189Z"
   },
   {
    "duration": 0,
    "start_time": "2023-04-19T20:20:43.191Z"
   },
   {
    "duration": 0,
    "start_time": "2023-04-19T20:20:43.193Z"
   },
   {
    "duration": 0,
    "start_time": "2023-04-19T20:20:43.194Z"
   },
   {
    "duration": 1501,
    "start_time": "2023-04-19T20:21:06.908Z"
   },
   {
    "duration": 90,
    "start_time": "2023-04-19T20:21:08.412Z"
   },
   {
    "duration": 49,
    "start_time": "2023-04-19T20:21:08.504Z"
   },
   {
    "duration": 17,
    "start_time": "2023-04-19T20:21:08.556Z"
   },
   {
    "duration": 174,
    "start_time": "2023-04-19T20:21:08.578Z"
   },
   {
    "duration": 0,
    "start_time": "2023-04-19T20:21:08.759Z"
   },
   {
    "duration": 0,
    "start_time": "2023-04-19T20:21:08.760Z"
   },
   {
    "duration": 0,
    "start_time": "2023-04-19T20:21:08.760Z"
   },
   {
    "duration": 0,
    "start_time": "2023-04-19T20:21:08.762Z"
   },
   {
    "duration": 0,
    "start_time": "2023-04-19T20:21:08.763Z"
   },
   {
    "duration": 0,
    "start_time": "2023-04-19T20:21:08.764Z"
   },
   {
    "duration": 0,
    "start_time": "2023-04-19T20:21:08.765Z"
   },
   {
    "duration": 0,
    "start_time": "2023-04-19T20:21:08.771Z"
   },
   {
    "duration": 14,
    "start_time": "2023-04-19T20:21:36.365Z"
   },
   {
    "duration": 38,
    "start_time": "2023-04-19T20:22:04.867Z"
   },
   {
    "duration": 9,
    "start_time": "2023-04-19T20:22:31.685Z"
   },
   {
    "duration": 13,
    "start_time": "2023-04-19T20:22:45.551Z"
   },
   {
    "duration": 27,
    "start_time": "2023-04-19T20:24:45.254Z"
   },
   {
    "duration": 52,
    "start_time": "2023-04-19T20:24:50.009Z"
   },
   {
    "duration": 12,
    "start_time": "2023-04-19T20:24:53.988Z"
   },
   {
    "duration": 43,
    "start_time": "2023-04-19T20:25:16.327Z"
   },
   {
    "duration": 10,
    "start_time": "2023-04-19T20:25:18.380Z"
   },
   {
    "duration": 9,
    "start_time": "2023-04-19T20:25:25.895Z"
   },
   {
    "duration": 47,
    "start_time": "2023-04-19T20:25:29.123Z"
   },
   {
    "duration": 8,
    "start_time": "2023-04-19T20:25:30.804Z"
   },
   {
    "duration": 8,
    "start_time": "2023-04-19T20:36:07.489Z"
   },
   {
    "duration": 9,
    "start_time": "2023-04-19T20:36:28.606Z"
   },
   {
    "duration": 42,
    "start_time": "2023-04-19T20:37:46.812Z"
   },
   {
    "duration": 14,
    "start_time": "2023-04-19T20:38:39.127Z"
   },
   {
    "duration": 63,
    "start_time": "2023-04-19T20:38:43.923Z"
   },
   {
    "duration": 55,
    "start_time": "2023-04-19T20:38:49.288Z"
   },
   {
    "duration": 9,
    "start_time": "2023-04-19T20:39:08.790Z"
   },
   {
    "duration": 25,
    "start_time": "2023-04-19T20:42:19.506Z"
   },
   {
    "duration": 39,
    "start_time": "2023-04-19T21:02:22.956Z"
   },
   {
    "duration": 20,
    "start_time": "2023-04-19T21:05:31.598Z"
   },
   {
    "duration": 21,
    "start_time": "2023-04-19T21:05:46.170Z"
   },
   {
    "duration": 1254,
    "start_time": "2023-04-19T21:06:32.654Z"
   },
   {
    "duration": 75,
    "start_time": "2023-04-19T21:06:33.910Z"
   },
   {
    "duration": 19,
    "start_time": "2023-04-19T21:06:33.986Z"
   },
   {
    "duration": 241,
    "start_time": "2023-04-19T21:06:34.007Z"
   },
   {
    "duration": 175,
    "start_time": "2023-04-19T21:06:34.250Z"
   },
   {
    "duration": 11340,
    "start_time": "2023-04-19T21:06:34.426Z"
   },
   {
    "duration": 0,
    "start_time": "2023-04-19T21:06:45.768Z"
   },
   {
    "duration": 0,
    "start_time": "2023-04-19T21:06:45.769Z"
   },
   {
    "duration": 0,
    "start_time": "2023-04-19T21:06:45.771Z"
   },
   {
    "duration": 0,
    "start_time": "2023-04-19T21:06:45.771Z"
   },
   {
    "duration": 0,
    "start_time": "2023-04-19T21:06:45.774Z"
   },
   {
    "duration": 0,
    "start_time": "2023-04-19T21:06:45.775Z"
   },
   {
    "duration": 40,
    "start_time": "2023-04-19T21:07:15.192Z"
   },
   {
    "duration": 69,
    "start_time": "2023-04-19T21:07:19.532Z"
   },
   {
    "duration": 23,
    "start_time": "2023-04-19T21:08:18.738Z"
   },
   {
    "duration": 2089,
    "start_time": "2023-04-19T21:09:01.546Z"
   },
   {
    "duration": 1280,
    "start_time": "2023-04-19T21:09:12.558Z"
   },
   {
    "duration": 74,
    "start_time": "2023-04-19T21:09:13.840Z"
   },
   {
    "duration": 9,
    "start_time": "2023-04-19T21:09:13.915Z"
   },
   {
    "duration": 55,
    "start_time": "2023-04-19T21:09:13.926Z"
   },
   {
    "duration": 52,
    "start_time": "2023-04-19T21:09:13.983Z"
   },
   {
    "duration": 6297,
    "start_time": "2023-04-19T21:09:14.037Z"
   },
   {
    "duration": 1014,
    "start_time": "2023-04-19T21:09:20.336Z"
   },
   {
    "duration": 1748,
    "start_time": "2023-04-19T21:09:21.352Z"
   },
   {
    "duration": 373,
    "start_time": "2023-04-19T21:09:23.102Z"
   },
   {
    "duration": 1858,
    "start_time": "2023-04-19T21:09:23.477Z"
   },
   {
    "duration": 1019,
    "start_time": "2023-04-19T21:09:25.337Z"
   },
   {
    "duration": 130,
    "start_time": "2023-04-19T21:09:26.358Z"
   },
   {
    "duration": 59,
    "start_time": "2023-04-19T21:15:39.919Z"
   },
   {
    "duration": 40,
    "start_time": "2023-04-19T21:26:27.957Z"
   },
   {
    "duration": 7,
    "start_time": "2023-04-19T21:26:33.894Z"
   },
   {
    "duration": 57,
    "start_time": "2023-04-19T21:26:35.695Z"
   },
   {
    "duration": 1293,
    "start_time": "2023-04-19T21:26:41.200Z"
   },
   {
    "duration": 77,
    "start_time": "2023-04-19T21:26:42.495Z"
   },
   {
    "duration": 11,
    "start_time": "2023-04-19T21:26:42.573Z"
   },
   {
    "duration": 261,
    "start_time": "2023-04-19T21:26:42.586Z"
   },
   {
    "duration": 205,
    "start_time": "2023-04-19T21:26:42.849Z"
   },
   {
    "duration": 11066,
    "start_time": "2023-04-19T21:26:43.055Z"
   },
   {
    "duration": 0,
    "start_time": "2023-04-19T21:26:54.123Z"
   },
   {
    "duration": 0,
    "start_time": "2023-04-19T21:26:54.124Z"
   },
   {
    "duration": 1,
    "start_time": "2023-04-19T21:26:54.124Z"
   },
   {
    "duration": 0,
    "start_time": "2023-04-19T21:26:54.125Z"
   },
   {
    "duration": 0,
    "start_time": "2023-04-19T21:26:54.126Z"
   },
   {
    "duration": 0,
    "start_time": "2023-04-19T21:26:54.134Z"
   },
   {
    "duration": 50,
    "start_time": "2023-04-19T21:26:59.949Z"
   },
   {
    "duration": 46,
    "start_time": "2023-04-19T21:32:00.647Z"
   },
   {
    "duration": 45,
    "start_time": "2023-04-19T21:32:21.173Z"
   },
   {
    "duration": 200,
    "start_time": "2023-04-19T21:48:03.672Z"
   },
   {
    "duration": 501,
    "start_time": "2023-04-19T21:48:39.772Z"
   },
   {
    "duration": 758,
    "start_time": "2023-04-19T21:48:53.325Z"
   },
   {
    "duration": 748,
    "start_time": "2023-04-19T21:49:01.790Z"
   },
   {
    "duration": 1341,
    "start_time": "2023-04-19T21:49:21.008Z"
   },
   {
    "duration": 57,
    "start_time": "2023-04-19T21:49:22.351Z"
   },
   {
    "duration": 9,
    "start_time": "2023-04-19T21:49:22.410Z"
   },
   {
    "duration": 1084,
    "start_time": "2023-04-19T21:49:22.421Z"
   },
   {
    "duration": 0,
    "start_time": "2023-04-19T21:49:23.507Z"
   },
   {
    "duration": 0,
    "start_time": "2023-04-19T21:49:23.509Z"
   },
   {
    "duration": 0,
    "start_time": "2023-04-19T21:49:23.510Z"
   },
   {
    "duration": 0,
    "start_time": "2023-04-19T21:49:23.511Z"
   },
   {
    "duration": 0,
    "start_time": "2023-04-19T21:49:23.513Z"
   },
   {
    "duration": 0,
    "start_time": "2023-04-19T21:49:23.514Z"
   },
   {
    "duration": 0,
    "start_time": "2023-04-19T21:49:23.516Z"
   },
   {
    "duration": 0,
    "start_time": "2023-04-19T21:49:23.517Z"
   },
   {
    "duration": 119,
    "start_time": "2023-04-19T21:49:54.399Z"
   },
   {
    "duration": 93,
    "start_time": "2023-04-19T21:50:05.882Z"
   },
   {
    "duration": 67,
    "start_time": "2023-04-19T21:50:18.594Z"
   },
   {
    "duration": 75,
    "start_time": "2023-04-19T21:50:50.084Z"
   },
   {
    "duration": 76,
    "start_time": "2023-04-19T21:50:59.338Z"
   },
   {
    "duration": 728,
    "start_time": "2023-04-19T21:51:05.484Z"
   },
   {
    "duration": 81,
    "start_time": "2023-04-19T22:01:32.172Z"
   },
   {
    "duration": 1415,
    "start_time": "2023-04-19T22:01:43.600Z"
   },
   {
    "duration": 66,
    "start_time": "2023-04-19T22:01:45.018Z"
   },
   {
    "duration": 12,
    "start_time": "2023-04-19T22:01:45.085Z"
   },
   {
    "duration": 390,
    "start_time": "2023-04-19T22:01:45.099Z"
   },
   {
    "duration": 0,
    "start_time": "2023-04-19T22:01:45.492Z"
   },
   {
    "duration": 0,
    "start_time": "2023-04-19T22:01:45.493Z"
   },
   {
    "duration": 0,
    "start_time": "2023-04-19T22:01:45.494Z"
   },
   {
    "duration": 0,
    "start_time": "2023-04-19T22:01:45.496Z"
   },
   {
    "duration": 0,
    "start_time": "2023-04-19T22:01:45.498Z"
   },
   {
    "duration": 0,
    "start_time": "2023-04-19T22:01:45.499Z"
   },
   {
    "duration": 0,
    "start_time": "2023-04-19T22:01:45.501Z"
   },
   {
    "duration": 0,
    "start_time": "2023-04-19T22:01:45.503Z"
   },
   {
    "duration": 118,
    "start_time": "2023-04-19T22:01:58.925Z"
   },
   {
    "duration": 86,
    "start_time": "2023-04-19T22:02:44.694Z"
   },
   {
    "duration": 1296,
    "start_time": "2023-04-19T22:02:49.675Z"
   },
   {
    "duration": 65,
    "start_time": "2023-04-19T22:02:50.973Z"
   },
   {
    "duration": 11,
    "start_time": "2023-04-19T22:02:51.040Z"
   },
   {
    "duration": 337,
    "start_time": "2023-04-19T22:02:51.053Z"
   },
   {
    "duration": 0,
    "start_time": "2023-04-19T22:02:51.392Z"
   },
   {
    "duration": 0,
    "start_time": "2023-04-19T22:02:51.393Z"
   },
   {
    "duration": 0,
    "start_time": "2023-04-19T22:02:51.395Z"
   },
   {
    "duration": 0,
    "start_time": "2023-04-19T22:02:51.396Z"
   },
   {
    "duration": 0,
    "start_time": "2023-04-19T22:02:51.398Z"
   },
   {
    "duration": 0,
    "start_time": "2023-04-19T22:02:51.399Z"
   },
   {
    "duration": 0,
    "start_time": "2023-04-19T22:02:51.400Z"
   },
   {
    "duration": 0,
    "start_time": "2023-04-19T22:02:51.402Z"
   },
   {
    "duration": 108,
    "start_time": "2023-04-19T22:03:53.590Z"
   },
   {
    "duration": 78,
    "start_time": "2023-04-19T22:04:19.817Z"
   },
   {
    "duration": 81,
    "start_time": "2023-04-19T22:04:30.600Z"
   },
   {
    "duration": 81,
    "start_time": "2023-04-19T22:04:38.207Z"
   },
   {
    "duration": 76,
    "start_time": "2023-04-19T22:04:54.471Z"
   },
   {
    "duration": 811,
    "start_time": "2023-04-19T22:05:11.335Z"
   },
   {
    "duration": 842,
    "start_time": "2023-04-19T22:05:42.274Z"
   },
   {
    "duration": 73,
    "start_time": "2023-04-19T22:05:55.206Z"
   },
   {
    "duration": 6,
    "start_time": "2023-04-19T22:08:06.951Z"
   },
   {
    "duration": 10,
    "start_time": "2023-04-19T22:08:15.036Z"
   },
   {
    "duration": 13,
    "start_time": "2023-04-19T22:08:28.227Z"
   },
   {
    "duration": 13,
    "start_time": "2023-04-19T22:08:33.133Z"
   },
   {
    "duration": 13,
    "start_time": "2023-04-19T22:08:41.985Z"
   },
   {
    "duration": 86,
    "start_time": "2023-04-19T22:09:43.904Z"
   },
   {
    "duration": 1317,
    "start_time": "2023-04-19T22:09:48.098Z"
   },
   {
    "duration": 59,
    "start_time": "2023-04-19T22:09:49.417Z"
   },
   {
    "duration": 9,
    "start_time": "2023-04-19T22:09:49.478Z"
   },
   {
    "duration": 334,
    "start_time": "2023-04-19T22:09:49.489Z"
   },
   {
    "duration": 0,
    "start_time": "2023-04-19T22:09:49.824Z"
   },
   {
    "duration": 0,
    "start_time": "2023-04-19T22:09:49.826Z"
   },
   {
    "duration": 0,
    "start_time": "2023-04-19T22:09:49.827Z"
   },
   {
    "duration": 0,
    "start_time": "2023-04-19T22:09:49.834Z"
   },
   {
    "duration": 0,
    "start_time": "2023-04-19T22:09:49.835Z"
   },
   {
    "duration": 0,
    "start_time": "2023-04-19T22:09:49.836Z"
   },
   {
    "duration": 0,
    "start_time": "2023-04-19T22:09:49.837Z"
   },
   {
    "duration": 0,
    "start_time": "2023-04-19T22:09:49.838Z"
   },
   {
    "duration": 107,
    "start_time": "2023-04-19T22:10:09.381Z"
   },
   {
    "duration": 75,
    "start_time": "2023-04-19T22:10:16.114Z"
   },
   {
    "duration": 63,
    "start_time": "2023-04-19T22:10:18.296Z"
   },
   {
    "duration": 60,
    "start_time": "2023-04-19T22:10:20.071Z"
   },
   {
    "duration": 67,
    "start_time": "2023-04-19T22:10:46.025Z"
   },
   {
    "duration": 66,
    "start_time": "2023-04-19T22:10:48.725Z"
   },
   {
    "duration": 1302,
    "start_time": "2023-04-19T22:11:01.831Z"
   },
   {
    "duration": 65,
    "start_time": "2023-04-19T22:11:03.136Z"
   },
   {
    "duration": 12,
    "start_time": "2023-04-19T22:11:03.203Z"
   },
   {
    "duration": 321,
    "start_time": "2023-04-19T22:11:03.217Z"
   },
   {
    "duration": 44,
    "start_time": "2023-04-19T22:11:03.540Z"
   },
   {
    "duration": 134,
    "start_time": "2023-04-19T22:11:03.585Z"
   },
   {
    "duration": 0,
    "start_time": "2023-04-19T22:11:03.721Z"
   },
   {
    "duration": 0,
    "start_time": "2023-04-19T22:11:03.721Z"
   },
   {
    "duration": 0,
    "start_time": "2023-04-19T22:11:03.722Z"
   },
   {
    "duration": 0,
    "start_time": "2023-04-19T22:11:03.723Z"
   },
   {
    "duration": 0,
    "start_time": "2023-04-19T22:11:03.724Z"
   },
   {
    "duration": 0,
    "start_time": "2023-04-19T22:11:03.725Z"
   },
   {
    "duration": 765,
    "start_time": "2023-04-19T22:15:16.955Z"
   },
   {
    "duration": 18,
    "start_time": "2023-04-19T22:15:28.024Z"
   },
   {
    "duration": 238,
    "start_time": "2023-04-19T22:15:42.723Z"
   },
   {
    "duration": 1266,
    "start_time": "2023-04-19T22:22:19.569Z"
   },
   {
    "duration": 59,
    "start_time": "2023-04-19T22:22:20.836Z"
   },
   {
    "duration": 9,
    "start_time": "2023-04-19T22:22:20.896Z"
   },
   {
    "duration": 218,
    "start_time": "2023-04-19T22:22:20.907Z"
   },
   {
    "duration": 47,
    "start_time": "2023-04-19T22:22:21.126Z"
   },
   {
    "duration": 126,
    "start_time": "2023-04-19T22:22:21.175Z"
   },
   {
    "duration": 0,
    "start_time": "2023-04-19T22:22:21.302Z"
   },
   {
    "duration": 0,
    "start_time": "2023-04-19T22:22:21.303Z"
   },
   {
    "duration": 0,
    "start_time": "2023-04-19T22:22:21.304Z"
   },
   {
    "duration": 0,
    "start_time": "2023-04-19T22:22:21.305Z"
   },
   {
    "duration": 0,
    "start_time": "2023-04-19T22:22:21.306Z"
   },
   {
    "duration": 0,
    "start_time": "2023-04-19T22:22:21.307Z"
   },
   {
    "duration": 209,
    "start_time": "2023-04-19T22:22:47.356Z"
   },
   {
    "duration": 1236,
    "start_time": "2023-04-19T22:22:51.568Z"
   },
   {
    "duration": 56,
    "start_time": "2023-04-19T22:22:52.806Z"
   },
   {
    "duration": 9,
    "start_time": "2023-04-19T22:22:52.864Z"
   },
   {
    "duration": 226,
    "start_time": "2023-04-19T22:22:52.874Z"
   },
   {
    "duration": 216,
    "start_time": "2023-04-19T22:22:53.102Z"
   },
   {
    "duration": 5843,
    "start_time": "2023-04-19T22:22:53.319Z"
   },
   {
    "duration": 831,
    "start_time": "2023-04-19T22:22:59.163Z"
   },
   {
    "duration": 2061,
    "start_time": "2023-04-19T22:22:59.995Z"
   },
   {
    "duration": 384,
    "start_time": "2023-04-19T22:23:02.057Z"
   },
   {
    "duration": 2030,
    "start_time": "2023-04-19T22:23:02.443Z"
   },
   {
    "duration": 865,
    "start_time": "2023-04-19T22:23:04.474Z"
   },
   {
    "duration": 131,
    "start_time": "2023-04-19T22:23:05.340Z"
   },
   {
    "duration": 117,
    "start_time": "2023-04-19T22:35:53.181Z"
   },
   {
    "duration": 1334,
    "start_time": "2023-04-19T22:36:06.699Z"
   },
   {
    "duration": 61,
    "start_time": "2023-04-19T22:36:08.035Z"
   },
   {
    "duration": 9,
    "start_time": "2023-04-19T22:36:08.098Z"
   },
   {
    "duration": 30,
    "start_time": "2023-04-19T22:36:08.109Z"
   },
   {
    "duration": 42,
    "start_time": "2023-04-19T22:36:08.141Z"
   },
   {
    "duration": 3727,
    "start_time": "2023-04-19T22:36:08.185Z"
   },
   {
    "duration": 516,
    "start_time": "2023-04-19T22:36:11.914Z"
   },
   {
    "duration": 827,
    "start_time": "2023-04-19T22:36:12.431Z"
   },
   {
    "duration": 249,
    "start_time": "2023-04-19T22:36:13.259Z"
   },
   {
    "duration": 1315,
    "start_time": "2023-04-19T22:36:13.510Z"
   },
   {
    "duration": 512,
    "start_time": "2023-04-19T22:36:14.826Z"
   },
   {
    "duration": 136,
    "start_time": "2023-04-19T22:36:15.339Z"
   },
   {
    "duration": 107,
    "start_time": "2023-04-19T22:38:13.720Z"
   },
   {
    "duration": 13,
    "start_time": "2023-04-19T22:38:42.099Z"
   },
   {
    "duration": 12,
    "start_time": "2023-04-19T22:38:46.871Z"
   },
   {
    "duration": 93,
    "start_time": "2023-04-19T22:39:13.350Z"
   },
   {
    "duration": 8,
    "start_time": "2023-04-19T22:39:20.414Z"
   },
   {
    "duration": 9,
    "start_time": "2023-04-19T22:39:27.727Z"
   },
   {
    "duration": 1235,
    "start_time": "2023-04-19T23:21:25.950Z"
   },
   {
    "duration": 58,
    "start_time": "2023-04-19T23:21:27.187Z"
   },
   {
    "duration": 9,
    "start_time": "2023-04-19T23:21:27.247Z"
   },
   {
    "duration": 118,
    "start_time": "2023-04-19T23:21:27.257Z"
   },
   {
    "duration": 0,
    "start_time": "2023-04-19T23:21:27.377Z"
   },
   {
    "duration": 0,
    "start_time": "2023-04-19T23:21:27.378Z"
   },
   {
    "duration": 0,
    "start_time": "2023-04-19T23:21:27.379Z"
   },
   {
    "duration": 0,
    "start_time": "2023-04-19T23:21:27.380Z"
   },
   {
    "duration": 0,
    "start_time": "2023-04-19T23:21:27.381Z"
   },
   {
    "duration": 0,
    "start_time": "2023-04-19T23:21:27.382Z"
   },
   {
    "duration": 0,
    "start_time": "2023-04-19T23:21:27.382Z"
   },
   {
    "duration": 0,
    "start_time": "2023-04-19T23:21:27.383Z"
   },
   {
    "duration": 27,
    "start_time": "2023-04-19T23:22:59.548Z"
   },
   {
    "duration": 24,
    "start_time": "2023-04-19T23:23:31.978Z"
   },
   {
    "duration": 1546,
    "start_time": "2023-04-19T23:23:37.112Z"
   },
   {
    "duration": 69,
    "start_time": "2023-04-19T23:23:38.660Z"
   },
   {
    "duration": 11,
    "start_time": "2023-04-19T23:23:38.732Z"
   },
   {
    "duration": 236,
    "start_time": "2023-04-19T23:23:38.745Z"
   },
   {
    "duration": 205,
    "start_time": "2023-04-19T23:23:38.983Z"
   },
   {
    "duration": 6149,
    "start_time": "2023-04-19T23:23:39.190Z"
   },
   {
    "duration": 894,
    "start_time": "2023-04-19T23:23:45.341Z"
   },
   {
    "duration": 1986,
    "start_time": "2023-04-19T23:23:46.236Z"
   },
   {
    "duration": 381,
    "start_time": "2023-04-19T23:23:48.224Z"
   },
   {
    "duration": 2045,
    "start_time": "2023-04-19T23:23:48.607Z"
   },
   {
    "duration": 881,
    "start_time": "2023-04-19T23:23:50.653Z"
   },
   {
    "duration": 116,
    "start_time": "2023-04-19T23:23:51.536Z"
   },
   {
    "duration": 1360,
    "start_time": "2023-04-19T23:24:00.987Z"
   },
   {
    "duration": 58,
    "start_time": "2023-04-19T23:24:02.349Z"
   },
   {
    "duration": 9,
    "start_time": "2023-04-19T23:24:02.409Z"
   },
   {
    "duration": 222,
    "start_time": "2023-04-19T23:24:02.420Z"
   },
   {
    "duration": 213,
    "start_time": "2023-04-19T23:24:02.643Z"
   },
   {
    "duration": 6177,
    "start_time": "2023-04-19T23:24:02.857Z"
   },
   {
    "duration": 914,
    "start_time": "2023-04-19T23:24:09.036Z"
   },
   {
    "duration": 2033,
    "start_time": "2023-04-19T23:24:09.952Z"
   },
   {
    "duration": 369,
    "start_time": "2023-04-19T23:24:11.986Z"
   },
   {
    "duration": 2025,
    "start_time": "2023-04-19T23:24:12.357Z"
   },
   {
    "duration": 884,
    "start_time": "2023-04-19T23:24:14.384Z"
   },
   {
    "duration": 132,
    "start_time": "2023-04-19T23:24:15.269Z"
   },
   {
    "duration": 157,
    "start_time": "2023-04-19T23:31:23.121Z"
   },
   {
    "duration": 121,
    "start_time": "2023-04-19T23:35:17.390Z"
   },
   {
    "duration": 137,
    "start_time": "2023-04-19T23:35:43.211Z"
   },
   {
    "duration": 1250,
    "start_time": "2023-04-19T23:38:17.381Z"
   },
   {
    "duration": 8274,
    "start_time": "2023-04-19T23:38:18.633Z"
   },
   {
    "duration": 126,
    "start_time": "2023-04-19T23:46:20.827Z"
   },
   {
    "duration": 128,
    "start_time": "2023-04-19T23:47:00.695Z"
   },
   {
    "duration": 99,
    "start_time": "2023-04-19T23:50:25.805Z"
   },
   {
    "duration": 1216,
    "start_time": "2023-04-19T23:50:51.088Z"
   },
   {
    "duration": 56,
    "start_time": "2023-04-19T23:50:52.306Z"
   },
   {
    "duration": 9,
    "start_time": "2023-04-19T23:50:52.364Z"
   },
   {
    "duration": 228,
    "start_time": "2023-04-19T23:50:52.374Z"
   },
   {
    "duration": 177,
    "start_time": "2023-04-19T23:50:52.604Z"
   },
   {
    "duration": 107,
    "start_time": "2023-04-19T23:50:52.783Z"
   },
   {
    "duration": 0,
    "start_time": "2023-04-19T23:50:52.892Z"
   },
   {
    "duration": 0,
    "start_time": "2023-04-19T23:50:52.893Z"
   },
   {
    "duration": 0,
    "start_time": "2023-04-19T23:50:52.894Z"
   },
   {
    "duration": 0,
    "start_time": "2023-04-19T23:50:52.895Z"
   },
   {
    "duration": 0,
    "start_time": "2023-04-19T23:50:52.896Z"
   },
   {
    "duration": 0,
    "start_time": "2023-04-19T23:50:52.897Z"
   },
   {
    "duration": 1212,
    "start_time": "2023-04-19T23:51:11.979Z"
   },
   {
    "duration": 57,
    "start_time": "2023-04-19T23:51:13.193Z"
   },
   {
    "duration": 9,
    "start_time": "2023-04-19T23:51:13.251Z"
   },
   {
    "duration": 227,
    "start_time": "2023-04-19T23:51:13.262Z"
   },
   {
    "duration": 177,
    "start_time": "2023-04-19T23:51:13.490Z"
   },
   {
    "duration": 33267,
    "start_time": "2023-04-19T23:51:13.668Z"
   },
   {
    "duration": 0,
    "start_time": "2023-04-19T23:51:46.936Z"
   },
   {
    "duration": 0,
    "start_time": "2023-04-19T23:51:46.937Z"
   },
   {
    "duration": 0,
    "start_time": "2023-04-19T23:51:46.938Z"
   },
   {
    "duration": 0,
    "start_time": "2023-04-19T23:51:46.940Z"
   },
   {
    "duration": 0,
    "start_time": "2023-04-19T23:51:46.940Z"
   },
   {
    "duration": 0,
    "start_time": "2023-04-19T23:51:46.941Z"
   },
   {
    "duration": 117,
    "start_time": "2023-04-19T23:56:46.017Z"
   },
   {
    "duration": 33952,
    "start_time": "2023-04-19T23:57:05.368Z"
   },
   {
    "duration": 34005,
    "start_time": "2023-04-19T23:58:27.911Z"
   },
   {
    "duration": 1279,
    "start_time": "2023-04-20T00:04:15.360Z"
   },
   {
    "duration": 60,
    "start_time": "2023-04-20T00:04:16.641Z"
   },
   {
    "duration": 10,
    "start_time": "2023-04-20T00:04:16.703Z"
   },
   {
    "duration": 228,
    "start_time": "2023-04-20T00:04:16.715Z"
   },
   {
    "duration": 178,
    "start_time": "2023-04-20T00:04:16.945Z"
   },
   {
    "duration": 1353,
    "start_time": "2023-04-20T00:06:16.710Z"
   },
   {
    "duration": 56,
    "start_time": "2023-04-20T00:06:18.064Z"
   },
   {
    "duration": 9,
    "start_time": "2023-04-20T00:06:18.122Z"
   },
   {
    "duration": 217,
    "start_time": "2023-04-20T00:06:18.133Z"
   },
   {
    "duration": 174,
    "start_time": "2023-04-20T00:06:18.352Z"
   },
   {
    "duration": 1281,
    "start_time": "2023-04-20T00:07:59.160Z"
   },
   {
    "duration": 61,
    "start_time": "2023-04-20T00:08:00.443Z"
   },
   {
    "duration": 11,
    "start_time": "2023-04-20T00:08:00.506Z"
   },
   {
    "duration": 239,
    "start_time": "2023-04-20T00:08:00.519Z"
   },
   {
    "duration": 185,
    "start_time": "2023-04-20T00:08:00.762Z"
   },
   {
    "duration": 88995,
    "start_time": "2023-04-20T00:08:00.948Z"
   },
   {
    "duration": 103,
    "start_time": "2023-04-20T00:09:29.944Z"
   },
   {
    "duration": 0,
    "start_time": "2023-04-20T00:09:30.049Z"
   },
   {
    "duration": 0,
    "start_time": "2023-04-20T00:09:30.050Z"
   },
   {
    "duration": 0,
    "start_time": "2023-04-20T00:09:30.051Z"
   },
   {
    "duration": 0,
    "start_time": "2023-04-20T00:09:30.052Z"
   },
   {
    "duration": 0,
    "start_time": "2023-04-20T00:09:30.053Z"
   },
   {
    "duration": 88040,
    "start_time": "2023-04-20T00:11:04.128Z"
   },
   {
    "duration": 11,
    "start_time": "2023-04-20T00:13:42.774Z"
   },
   {
    "duration": 1286,
    "start_time": "2023-04-20T00:13:50.931Z"
   },
   {
    "duration": 57,
    "start_time": "2023-04-20T00:13:52.219Z"
   },
   {
    "duration": 10,
    "start_time": "2023-04-20T00:13:52.277Z"
   },
   {
    "duration": 215,
    "start_time": "2023-04-20T00:13:52.289Z"
   },
   {
    "duration": 178,
    "start_time": "2023-04-20T00:13:52.506Z"
   },
   {
    "duration": 89058,
    "start_time": "2023-04-20T00:13:52.685Z"
   },
   {
    "duration": 27680,
    "start_time": "2023-04-20T00:15:21.745Z"
   },
   {
    "duration": 0,
    "start_time": "2023-04-20T00:15:49.427Z"
   },
   {
    "duration": 0,
    "start_time": "2023-04-20T00:15:49.428Z"
   },
   {
    "duration": 0,
    "start_time": "2023-04-20T00:15:49.429Z"
   },
   {
    "duration": 0,
    "start_time": "2023-04-20T00:15:49.434Z"
   },
   {
    "duration": 0,
    "start_time": "2023-04-20T00:15:49.435Z"
   },
   {
    "duration": 0,
    "start_time": "2023-04-20T00:15:49.436Z"
   },
   {
    "duration": 26562,
    "start_time": "2023-04-20T00:17:10.988Z"
   },
   {
    "duration": 27091,
    "start_time": "2023-04-20T00:17:51.200Z"
   },
   {
    "duration": 26959,
    "start_time": "2023-04-20T00:19:15.426Z"
   },
   {
    "duration": 26850,
    "start_time": "2023-04-20T00:20:11.885Z"
   },
   {
    "duration": 4135,
    "start_time": "2023-04-20T00:21:57.958Z"
   },
   {
    "duration": 57,
    "start_time": "2023-04-20T00:22:02.095Z"
   },
   {
    "duration": 10,
    "start_time": "2023-04-20T00:22:02.153Z"
   },
   {
    "duration": 239,
    "start_time": "2023-04-20T00:22:02.165Z"
   },
   {
    "duration": 186,
    "start_time": "2023-04-20T00:22:02.406Z"
   },
   {
    "duration": 92349,
    "start_time": "2023-04-20T00:22:02.594Z"
   },
   {
    "duration": 28444,
    "start_time": "2023-04-20T00:23:34.945Z"
   },
   {
    "duration": 0,
    "start_time": "2023-04-20T00:24:03.390Z"
   },
   {
    "duration": 0,
    "start_time": "2023-04-20T00:24:03.392Z"
   },
   {
    "duration": 0,
    "start_time": "2023-04-20T00:24:03.393Z"
   },
   {
    "duration": 0,
    "start_time": "2023-04-20T00:24:03.394Z"
   },
   {
    "duration": 0,
    "start_time": "2023-04-20T00:24:03.395Z"
   },
   {
    "duration": 0,
    "start_time": "2023-04-20T00:24:03.396Z"
   },
   {
    "duration": 1477,
    "start_time": "2023-04-20T00:25:32.235Z"
   },
   {
    "duration": 56,
    "start_time": "2023-04-20T00:25:33.713Z"
   },
   {
    "duration": 9,
    "start_time": "2023-04-20T00:25:33.771Z"
   },
   {
    "duration": 248,
    "start_time": "2023-04-20T00:25:33.781Z"
   },
   {
    "duration": 174,
    "start_time": "2023-04-20T00:25:34.035Z"
   },
   {
    "duration": 90262,
    "start_time": "2023-04-20T00:25:34.210Z"
   },
   {
    "duration": 27999,
    "start_time": "2023-04-20T00:27:04.474Z"
   },
   {
    "duration": 0,
    "start_time": "2023-04-20T00:27:32.474Z"
   },
   {
    "duration": 0,
    "start_time": "2023-04-20T00:27:32.475Z"
   },
   {
    "duration": 0,
    "start_time": "2023-04-20T00:27:32.476Z"
   },
   {
    "duration": 0,
    "start_time": "2023-04-20T00:27:32.478Z"
   },
   {
    "duration": 0,
    "start_time": "2023-04-20T00:27:32.479Z"
   },
   {
    "duration": 0,
    "start_time": "2023-04-20T00:27:32.480Z"
   },
   {
    "duration": 26763,
    "start_time": "2023-04-20T00:28:13.948Z"
   },
   {
    "duration": 27508,
    "start_time": "2023-04-20T00:30:24.221Z"
   },
   {
    "duration": 27582,
    "start_time": "2023-04-20T00:32:26.669Z"
   },
   {
    "duration": 27224,
    "start_time": "2023-04-20T00:33:09.890Z"
   },
   {
    "duration": 27844,
    "start_time": "2023-04-20T00:33:46.052Z"
   },
   {
    "duration": 374,
    "start_time": "2023-04-20T00:34:25.695Z"
   },
   {
    "duration": 208,
    "start_time": "2023-04-20T00:35:00.120Z"
   },
   {
    "duration": 199,
    "start_time": "2023-04-20T00:35:24.290Z"
   },
   {
    "duration": 210,
    "start_time": "2023-04-20T00:35:29.602Z"
   },
   {
    "duration": 1615,
    "start_time": "2023-04-20T00:35:57.757Z"
   },
   {
    "duration": 57,
    "start_time": "2023-04-20T00:35:59.374Z"
   },
   {
    "duration": 10,
    "start_time": "2023-04-20T00:35:59.433Z"
   },
   {
    "duration": 226,
    "start_time": "2023-04-20T00:35:59.445Z"
   },
   {
    "duration": 179,
    "start_time": "2023-04-20T00:35:59.672Z"
   },
   {
    "duration": 89397,
    "start_time": "2023-04-20T00:35:59.854Z"
   },
   {
    "duration": 28676,
    "start_time": "2023-04-20T00:37:29.253Z"
   },
   {
    "duration": 117,
    "start_time": "2023-04-20T00:37:57.932Z"
   },
   {
    "duration": 0,
    "start_time": "2023-04-20T00:37:58.051Z"
   },
   {
    "duration": 0,
    "start_time": "2023-04-20T00:37:58.052Z"
   },
   {
    "duration": 0,
    "start_time": "2023-04-20T00:37:58.053Z"
   },
   {
    "duration": 0,
    "start_time": "2023-04-20T00:37:58.054Z"
   },
   {
    "duration": 0,
    "start_time": "2023-04-20T00:37:58.055Z"
   },
   {
    "duration": 27213,
    "start_time": "2023-04-20T00:38:23.955Z"
   },
   {
    "duration": 26763,
    "start_time": "2023-04-20T00:39:39.076Z"
   },
   {
    "duration": 26369,
    "start_time": "2023-04-20T00:40:13.507Z"
   },
   {
    "duration": 303,
    "start_time": "2023-04-20T00:41:04.337Z"
   },
   {
    "duration": 215,
    "start_time": "2023-04-20T00:41:11.987Z"
   },
   {
    "duration": 113,
    "start_time": "2023-04-20T00:41:24.021Z"
   },
   {
    "duration": 1804,
    "start_time": "2023-04-21T09:54:02.699Z"
   },
   {
    "duration": 233,
    "start_time": "2023-04-21T09:54:04.521Z"
   },
   {
    "duration": 11,
    "start_time": "2023-04-21T09:54:04.756Z"
   },
   {
    "duration": 283,
    "start_time": "2023-04-21T09:54:04.769Z"
   },
   {
    "duration": 218,
    "start_time": "2023-04-21T09:54:05.054Z"
   },
   {
    "duration": 108516,
    "start_time": "2023-04-21T09:54:05.274Z"
   },
   {
    "duration": 35178,
    "start_time": "2023-04-21T09:55:53.792Z"
   },
   {
    "duration": 164,
    "start_time": "2023-04-21T09:56:28.972Z"
   },
   {
    "duration": 161,
    "start_time": "2023-04-21T09:56:29.138Z"
   },
   {
    "duration": 0,
    "start_time": "2023-04-21T09:56:29.302Z"
   },
   {
    "duration": 0,
    "start_time": "2023-04-21T09:56:29.304Z"
   },
   {
    "duration": 0,
    "start_time": "2023-04-21T09:56:29.306Z"
   },
   {
    "duration": 0,
    "start_time": "2023-04-21T09:56:29.308Z"
   },
   {
    "duration": 0,
    "start_time": "2023-04-21T09:56:29.310Z"
   },
   {
    "duration": 71,
    "start_time": "2023-04-21T11:01:10.966Z"
   },
   {
    "duration": 1572,
    "start_time": "2023-04-21T11:01:16.032Z"
   },
   {
    "duration": 72,
    "start_time": "2023-04-21T11:01:17.606Z"
   },
   {
    "duration": 11,
    "start_time": "2023-04-21T11:01:17.680Z"
   },
   {
    "duration": 254,
    "start_time": "2023-04-21T11:01:17.693Z"
   },
   {
    "duration": 213,
    "start_time": "2023-04-21T11:01:17.949Z"
   },
   {
    "duration": 106241,
    "start_time": "2023-04-21T11:01:18.171Z"
   },
   {
    "duration": 34570,
    "start_time": "2023-04-21T11:03:04.415Z"
   },
   {
    "duration": 170,
    "start_time": "2023-04-21T11:03:38.988Z"
   },
   {
    "duration": 421,
    "start_time": "2023-04-21T11:03:39.160Z"
   },
   {
    "duration": 273,
    "start_time": "2023-04-21T11:03:39.582Z"
   },
   {
    "duration": 0,
    "start_time": "2023-04-21T11:03:39.857Z"
   },
   {
    "duration": 0,
    "start_time": "2023-04-21T11:03:39.859Z"
   },
   {
    "duration": 0,
    "start_time": "2023-04-21T11:03:39.860Z"
   },
   {
    "duration": 0,
    "start_time": "2023-04-21T11:03:39.862Z"
   },
   {
    "duration": 637,
    "start_time": "2023-04-21T11:48:22.073Z"
   },
   {
    "duration": 173,
    "start_time": "2023-04-21T11:48:39.024Z"
   },
   {
    "duration": 857,
    "start_time": "2023-04-21T11:48:52.805Z"
   },
   {
    "duration": 354,
    "start_time": "2023-04-21T13:54:49.373Z"
   },
   {
    "duration": 376,
    "start_time": "2023-04-21T13:55:01.318Z"
   },
   {
    "duration": 396,
    "start_time": "2023-04-21T13:55:14.970Z"
   },
   {
    "duration": 370,
    "start_time": "2023-04-21T13:55:19.210Z"
   },
   {
    "duration": 1401,
    "start_time": "2023-04-21T13:55:23.242Z"
   },
   {
    "duration": 62,
    "start_time": "2023-04-21T13:55:24.645Z"
   },
   {
    "duration": 10,
    "start_time": "2023-04-21T13:55:24.709Z"
   },
   {
    "duration": 280,
    "start_time": "2023-04-21T13:55:24.722Z"
   },
   {
    "duration": 205,
    "start_time": "2023-04-21T13:55:25.004Z"
   },
   {
    "duration": 106023,
    "start_time": "2023-04-21T13:55:25.211Z"
   },
   {
    "duration": 33668,
    "start_time": "2023-04-21T13:57:11.236Z"
   },
   {
    "duration": 150,
    "start_time": "2023-04-21T13:57:44.909Z"
   },
   {
    "duration": 424,
    "start_time": "2023-04-21T13:57:45.061Z"
   },
   {
    "duration": 699,
    "start_time": "2023-04-21T13:57:45.488Z"
   },
   {
    "duration": 223,
    "start_time": "2023-04-21T13:57:46.189Z"
   },
   {
    "duration": 1097,
    "start_time": "2023-04-21T13:57:46.414Z"
   },
   {
    "duration": 411,
    "start_time": "2023-04-21T13:57:47.513Z"
   },
   {
    "duration": 126,
    "start_time": "2023-04-21T13:57:47.926Z"
   },
   {
    "duration": 0,
    "start_time": "2023-04-21T13:57:48.054Z"
   },
   {
    "duration": 1122,
    "start_time": "2023-04-21T14:00:31.700Z"
   },
   {
    "duration": 414,
    "start_time": "2023-04-21T14:01:17.976Z"
   },
   {
    "duration": 387,
    "start_time": "2023-04-21T14:01:22.631Z"
   },
   {
    "duration": 378,
    "start_time": "2023-04-21T14:01:26.048Z"
   },
   {
    "duration": 416,
    "start_time": "2023-04-21T14:01:30.501Z"
   },
   {
    "duration": 11,
    "start_time": "2023-04-21T14:01:34.883Z"
   },
   {
    "duration": 390,
    "start_time": "2023-04-21T14:01:55.105Z"
   },
   {
    "duration": 198,
    "start_time": "2023-04-21T14:02:52.580Z"
   },
   {
    "duration": 638,
    "start_time": "2023-04-21T14:03:18.410Z"
   },
   {
    "duration": 693,
    "start_time": "2023-04-21T14:03:41.380Z"
   },
   {
    "duration": 357,
    "start_time": "2023-04-21T14:10:31.249Z"
   },
   {
    "duration": 813,
    "start_time": "2023-04-21T14:11:35.346Z"
   },
   {
    "duration": 725,
    "start_time": "2023-04-21T14:13:35.953Z"
   },
   {
    "duration": 568,
    "start_time": "2023-04-21T14:13:40.794Z"
   },
   {
    "duration": 555,
    "start_time": "2023-04-21T14:13:45.629Z"
   },
   {
    "duration": 450,
    "start_time": "2023-04-21T14:13:49.889Z"
   },
   {
    "duration": 514,
    "start_time": "2023-04-21T14:13:54.630Z"
   },
   {
    "duration": 626,
    "start_time": "2023-04-21T14:25:09.816Z"
   },
   {
    "duration": 632,
    "start_time": "2023-04-21T14:27:09.434Z"
   },
   {
    "duration": 491,
    "start_time": "2023-04-21T14:27:14.164Z"
   },
   {
    "duration": 439,
    "start_time": "2023-04-21T14:27:17.419Z"
   },
   {
    "duration": 45,
    "start_time": "2023-04-21T14:27:24.172Z"
   },
   {
    "duration": 592,
    "start_time": "2023-04-21T14:27:32.347Z"
   },
   {
    "duration": 387,
    "start_time": "2023-04-21T14:28:15.436Z"
   },
   {
    "duration": 150,
    "start_time": "2023-04-21T14:28:18.156Z"
   },
   {
    "duration": 1529,
    "start_time": "2023-04-21T17:13:36.622Z"
   },
   {
    "duration": 79,
    "start_time": "2023-04-21T17:13:38.153Z"
   },
   {
    "duration": 13,
    "start_time": "2023-04-21T17:13:38.234Z"
   },
   {
    "duration": 69,
    "start_time": "2023-04-21T17:13:38.249Z"
   },
   {
    "duration": 45,
    "start_time": "2023-04-21T17:13:38.322Z"
   },
   {
    "duration": 28458,
    "start_time": "2023-04-21T17:13:38.369Z"
   },
   {
    "duration": 2011,
    "start_time": "2023-04-21T17:14:06.829Z"
   },
   {
    "duration": 146,
    "start_time": "2023-04-21T17:14:08.841Z"
   },
   {
    "duration": 28,
    "start_time": "2023-04-21T17:14:08.992Z"
   },
   {
    "duration": 30,
    "start_time": "2023-04-21T17:14:09.022Z"
   },
   {
    "duration": 45,
    "start_time": "2023-04-21T17:14:09.054Z"
   },
   {
    "duration": 146,
    "start_time": "2023-04-21T17:14:09.104Z"
   },
   {
    "duration": 0,
    "start_time": "2023-04-21T17:14:09.253Z"
   },
   {
    "duration": 0,
    "start_time": "2023-04-21T17:14:09.255Z"
   },
   {
    "duration": 0,
    "start_time": "2023-04-21T17:14:09.256Z"
   },
   {
    "duration": 1,
    "start_time": "2023-04-21T17:14:09.257Z"
   },
   {
    "duration": 0,
    "start_time": "2023-04-21T17:14:09.259Z"
   },
   {
    "duration": 92,
    "start_time": "2023-04-21T17:15:19.178Z"
   },
   {
    "duration": 17,
    "start_time": "2023-04-21T17:15:25.119Z"
   },
   {
    "duration": 35,
    "start_time": "2023-04-21T17:15:27.228Z"
   },
   {
    "duration": 24,
    "start_time": "2023-04-21T17:15:28.642Z"
   },
   {
    "duration": 17,
    "start_time": "2023-04-21T17:15:30.466Z"
   },
   {
    "duration": 155,
    "start_time": "2023-04-21T17:15:31.590Z"
   },
   {
    "duration": 1492,
    "start_time": "2023-04-21T17:15:45.659Z"
   },
   {
    "duration": 74,
    "start_time": "2023-04-21T17:15:47.153Z"
   },
   {
    "duration": 11,
    "start_time": "2023-04-21T17:15:47.229Z"
   },
   {
    "duration": 278,
    "start_time": "2023-04-21T17:15:47.243Z"
   },
   {
    "duration": 206,
    "start_time": "2023-04-21T17:15:47.522Z"
   },
   {
    "duration": 106586,
    "start_time": "2023-04-21T17:15:47.730Z"
   },
   {
    "duration": 34293,
    "start_time": "2023-04-21T17:17:34.321Z"
   },
   {
    "duration": 157,
    "start_time": "2023-04-21T17:18:08.616Z"
   },
   {
    "duration": 412,
    "start_time": "2023-04-21T17:18:08.774Z"
   },
   {
    "duration": 734,
    "start_time": "2023-04-21T17:18:09.195Z"
   },
   {
    "duration": 219,
    "start_time": "2023-04-21T17:18:09.931Z"
   },
   {
    "duration": 1075,
    "start_time": "2023-04-21T17:18:10.152Z"
   },
   {
    "duration": 402,
    "start_time": "2023-04-21T17:18:11.229Z"
   },
   {
    "duration": 756,
    "start_time": "2023-04-21T17:18:11.634Z"
   },
   {
    "duration": 584,
    "start_time": "2023-04-21T17:18:12.393Z"
   },
   {
    "duration": 424,
    "start_time": "2023-04-21T17:18:12.979Z"
   },
   {
    "duration": 149,
    "start_time": "2023-04-21T17:18:13.408Z"
   },
   {
    "duration": 1101,
    "start_time": "2023-04-21T17:19:17.508Z"
   },
   {
    "duration": 1596,
    "start_time": "2023-04-21T17:19:36.535Z"
   },
   {
    "duration": 69,
    "start_time": "2023-04-21T17:19:38.133Z"
   },
   {
    "duration": 16,
    "start_time": "2023-04-21T17:19:38.205Z"
   },
   {
    "duration": 272,
    "start_time": "2023-04-21T17:19:38.224Z"
   },
   {
    "duration": 209,
    "start_time": "2023-04-21T17:19:38.498Z"
   },
   {
    "duration": 106300,
    "start_time": "2023-04-21T17:19:38.712Z"
   },
   {
    "duration": 32910,
    "start_time": "2023-04-21T17:21:25.017Z"
   },
   {
    "duration": 162,
    "start_time": "2023-04-21T17:21:57.931Z"
   },
   {
    "duration": 418,
    "start_time": "2023-04-21T17:21:58.095Z"
   },
   {
    "duration": 708,
    "start_time": "2023-04-21T17:21:58.517Z"
   },
   {
    "duration": 237,
    "start_time": "2023-04-21T17:21:59.227Z"
   },
   {
    "duration": 1099,
    "start_time": "2023-04-21T17:21:59.466Z"
   },
   {
    "duration": 445,
    "start_time": "2023-04-21T17:22:00.568Z"
   },
   {
    "duration": 700,
    "start_time": "2023-04-21T17:22:01.015Z"
   },
   {
    "duration": 605,
    "start_time": "2023-04-21T17:22:01.717Z"
   },
   {
    "duration": 413,
    "start_time": "2023-04-21T17:22:02.325Z"
   },
   {
    "duration": 147,
    "start_time": "2023-04-21T17:22:02.740Z"
   },
   {
    "duration": 1097,
    "start_time": "2023-04-21T17:25:55.807Z"
   },
   {
    "duration": 1082,
    "start_time": "2023-04-21T17:26:09.036Z"
   },
   {
    "duration": 1603,
    "start_time": "2023-04-21T17:49:49.557Z"
   },
   {
    "duration": 80,
    "start_time": "2023-04-21T17:49:51.163Z"
   },
   {
    "duration": 16,
    "start_time": "2023-04-21T17:49:51.244Z"
   },
   {
    "duration": 301,
    "start_time": "2023-04-21T17:49:51.262Z"
   },
   {
    "duration": 240,
    "start_time": "2023-04-21T17:49:51.565Z"
   },
   {
    "duration": 108105,
    "start_time": "2023-04-21T17:49:51.807Z"
   },
   {
    "duration": 34111,
    "start_time": "2023-04-21T17:51:39.923Z"
   },
   {
    "duration": 187,
    "start_time": "2023-04-21T17:52:14.041Z"
   },
   {
    "duration": 416,
    "start_time": "2023-04-21T17:52:14.235Z"
   },
   {
    "duration": 779,
    "start_time": "2023-04-21T17:52:14.654Z"
   },
   {
    "duration": 239,
    "start_time": "2023-04-21T17:52:15.435Z"
   },
   {
    "duration": 1102,
    "start_time": "2023-04-21T17:52:15.677Z"
   },
   {
    "duration": 421,
    "start_time": "2023-04-21T17:52:16.781Z"
   },
   {
    "duration": 718,
    "start_time": "2023-04-21T17:52:17.216Z"
   },
   {
    "duration": 595,
    "start_time": "2023-04-21T17:52:17.935Z"
   },
   {
    "duration": 405,
    "start_time": "2023-04-21T17:52:18.532Z"
   },
   {
    "duration": 153,
    "start_time": "2023-04-21T17:52:18.940Z"
   },
   {
    "duration": 239,
    "start_time": "2023-04-21T18:48:13.637Z"
   },
   {
    "duration": 109,
    "start_time": "2023-04-21T18:48:26.877Z"
   },
   {
    "duration": 1459,
    "start_time": "2023-04-21T18:50:46.424Z"
   },
   {
    "duration": 65,
    "start_time": "2023-04-21T18:50:47.885Z"
   },
   {
    "duration": 11,
    "start_time": "2023-04-21T18:50:47.952Z"
   },
   {
    "duration": 36,
    "start_time": "2023-04-21T18:50:47.965Z"
   },
   {
    "duration": 146,
    "start_time": "2023-04-21T18:50:48.003Z"
   },
   {
    "duration": 0,
    "start_time": "2023-04-21T18:50:48.150Z"
   },
   {
    "duration": 0,
    "start_time": "2023-04-21T18:50:48.152Z"
   },
   {
    "duration": 0,
    "start_time": "2023-04-21T18:50:48.153Z"
   },
   {
    "duration": 0,
    "start_time": "2023-04-21T18:50:48.154Z"
   },
   {
    "duration": 0,
    "start_time": "2023-04-21T18:50:48.156Z"
   },
   {
    "duration": 0,
    "start_time": "2023-04-21T18:50:48.157Z"
   },
   {
    "duration": 0,
    "start_time": "2023-04-21T18:50:48.159Z"
   },
   {
    "duration": 0,
    "start_time": "2023-04-21T18:50:48.160Z"
   },
   {
    "duration": 0,
    "start_time": "2023-04-21T18:50:48.161Z"
   },
   {
    "duration": 0,
    "start_time": "2023-04-21T18:50:48.163Z"
   },
   {
    "duration": 0,
    "start_time": "2023-04-21T18:50:48.165Z"
   },
   {
    "duration": 0,
    "start_time": "2023-04-21T18:50:48.199Z"
   },
   {
    "duration": 46,
    "start_time": "2023-04-21T18:59:37.017Z"
   },
   {
    "duration": 1636,
    "start_time": "2023-04-21T18:59:41.925Z"
   },
   {
    "duration": 82,
    "start_time": "2023-04-21T18:59:43.563Z"
   },
   {
    "duration": 11,
    "start_time": "2023-04-21T18:59:43.647Z"
   },
   {
    "duration": 48,
    "start_time": "2023-04-21T18:59:43.660Z"
   },
   {
    "duration": 41,
    "start_time": "2023-04-21T18:59:43.710Z"
   },
   {
    "duration": 25937,
    "start_time": "2023-04-21T18:59:43.753Z"
   },
   {
    "duration": 1521,
    "start_time": "2023-04-21T19:00:09.692Z"
   },
   {
    "duration": 155,
    "start_time": "2023-04-21T19:00:11.225Z"
   },
   {
    "duration": 37,
    "start_time": "2023-04-21T19:00:11.382Z"
   },
   {
    "duration": 28,
    "start_time": "2023-04-21T19:00:11.423Z"
   },
   {
    "duration": 20,
    "start_time": "2023-04-21T19:00:11.454Z"
   },
   {
    "duration": 90,
    "start_time": "2023-04-21T19:00:11.476Z"
   },
   {
    "duration": 14,
    "start_time": "2023-04-21T19:00:11.568Z"
   },
   {
    "duration": 49,
    "start_time": "2023-04-21T19:00:11.584Z"
   },
   {
    "duration": 22,
    "start_time": "2023-04-21T19:00:11.634Z"
   },
   {
    "duration": 14,
    "start_time": "2023-04-21T19:00:11.658Z"
   },
   {
    "duration": 202,
    "start_time": "2023-04-21T19:00:11.674Z"
   },
   {
    "duration": 78,
    "start_time": "2023-04-22T12:54:19.767Z"
   },
   {
    "duration": 2090,
    "start_time": "2023-04-22T12:54:39.347Z"
   },
   {
    "duration": 163,
    "start_time": "2023-04-22T12:54:41.439Z"
   },
   {
    "duration": 18,
    "start_time": "2023-04-22T12:54:41.604Z"
   },
   {
    "duration": 74,
    "start_time": "2023-04-22T12:54:41.625Z"
   },
   {
    "duration": 115,
    "start_time": "2023-04-22T12:54:41.701Z"
   },
   {
    "duration": 29167,
    "start_time": "2023-04-22T12:54:41.818Z"
   },
   {
    "duration": 1661,
    "start_time": "2023-04-22T12:55:10.988Z"
   },
   {
    "duration": 194,
    "start_time": "2023-04-22T12:55:12.650Z"
   },
   {
    "duration": 25,
    "start_time": "2023-04-22T12:55:12.845Z"
   },
   {
    "duration": 40,
    "start_time": "2023-04-22T12:55:12.873Z"
   },
   {
    "duration": 40,
    "start_time": "2023-04-22T12:55:12.915Z"
   },
   {
    "duration": 81,
    "start_time": "2023-04-22T12:55:12.956Z"
   },
   {
    "duration": 17,
    "start_time": "2023-04-22T12:55:13.039Z"
   },
   {
    "duration": 49,
    "start_time": "2023-04-22T12:55:13.057Z"
   },
   {
    "duration": 36,
    "start_time": "2023-04-22T12:55:13.108Z"
   },
   {
    "duration": 22,
    "start_time": "2023-04-22T12:55:13.146Z"
   },
   {
    "duration": 184,
    "start_time": "2023-04-22T12:55:13.170Z"
   },
   {
    "duration": 2203,
    "start_time": "2023-06-09T17:52:51.107Z"
   },
   {
    "duration": 117,
    "start_time": "2023-06-09T17:52:53.312Z"
   },
   {
    "duration": 9,
    "start_time": "2023-06-09T17:52:53.431Z"
   },
   {
    "duration": 29,
    "start_time": "2023-06-09T17:52:53.441Z"
   },
   {
    "duration": 44,
    "start_time": "2023-06-09T17:52:53.472Z"
   },
   {
    "duration": 21348,
    "start_time": "2023-06-09T17:52:53.518Z"
   },
   {
    "duration": 1301,
    "start_time": "2023-06-09T17:53:14.868Z"
   },
   {
    "duration": 136,
    "start_time": "2023-06-09T17:53:16.172Z"
   },
   {
    "duration": 20,
    "start_time": "2023-06-09T17:53:16.316Z"
   },
   {
    "duration": 32,
    "start_time": "2023-06-09T17:53:16.337Z"
   },
   {
    "duration": 38,
    "start_time": "2023-06-09T17:53:16.371Z"
   },
   {
    "duration": 68,
    "start_time": "2023-06-09T17:53:16.412Z"
   },
   {
    "duration": 26,
    "start_time": "2023-06-09T17:53:16.481Z"
   },
   {
    "duration": 52,
    "start_time": "2023-06-09T17:53:16.512Z"
   },
   {
    "duration": 36,
    "start_time": "2023-06-09T17:53:16.566Z"
   },
   {
    "duration": 52,
    "start_time": "2023-06-09T17:53:16.603Z"
   },
   {
    "duration": 182,
    "start_time": "2023-06-09T17:53:16.657Z"
   },
   {
    "duration": 59,
    "start_time": "2023-06-10T16:43:39.083Z"
   },
   {
    "duration": 1304,
    "start_time": "2023-12-04T07:36:07.195Z"
   },
   {
    "duration": 98,
    "start_time": "2023-12-04T07:36:08.500Z"
   },
   {
    "duration": 11,
    "start_time": "2023-12-04T07:36:08.599Z"
   },
   {
    "duration": 30,
    "start_time": "2023-12-04T07:36:08.612Z"
   },
   {
    "duration": 44,
    "start_time": "2023-12-04T07:36:08.644Z"
   },
   {
    "duration": 20169,
    "start_time": "2023-12-04T07:36:08.690Z"
   },
   {
    "duration": 1190,
    "start_time": "2023-12-04T07:36:28.860Z"
   },
   {
    "duration": 120,
    "start_time": "2023-12-04T07:36:30.059Z"
   },
   {
    "duration": 13,
    "start_time": "2023-12-04T07:36:30.180Z"
   },
   {
    "duration": 26,
    "start_time": "2023-12-04T07:36:30.195Z"
   },
   {
    "duration": 27,
    "start_time": "2023-12-04T07:36:30.223Z"
   },
   {
    "duration": 62,
    "start_time": "2023-12-04T07:36:30.258Z"
   },
   {
    "duration": 12,
    "start_time": "2023-12-04T07:36:30.322Z"
   },
   {
    "duration": 39,
    "start_time": "2023-12-04T07:36:30.336Z"
   },
   {
    "duration": 43,
    "start_time": "2023-12-04T07:36:30.377Z"
   },
   {
    "duration": 19,
    "start_time": "2023-12-04T07:36:30.422Z"
   },
   {
    "duration": 141,
    "start_time": "2023-12-04T07:36:30.443Z"
   }
  ],
  "kernelspec": {
   "display_name": "Python 3 (ipykernel)",
   "language": "python",
   "name": "python3"
  },
  "language_info": {
   "codemirror_mode": {
    "name": "ipython",
    "version": 3
   },
   "file_extension": ".py",
   "mimetype": "text/x-python",
   "name": "python",
   "nbconvert_exporter": "python",
   "pygments_lexer": "ipython3",
   "version": "3.9.16"
  },
  "toc": {
   "base_numbering": 1,
   "nav_menu": {},
   "number_sections": true,
   "sideBar": true,
   "skip_h1_title": true,
   "title_cell": "Содержание",
   "title_sidebar": "Contents",
   "toc_cell": true,
   "toc_position": {
    "height": "calc(100% - 180px)",
    "left": "10px",
    "top": "150px",
    "width": "286.075px"
   },
   "toc_section_display": true,
   "toc_window_display": true
  }
 },
 "nbformat": 4,
 "nbformat_minor": 4
}
