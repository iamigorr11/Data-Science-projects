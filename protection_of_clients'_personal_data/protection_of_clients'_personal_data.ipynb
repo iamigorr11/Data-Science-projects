{
 "cells": [
  {
   "cell_type": "markdown",
   "metadata": {},
   "source": [
    "## Загрузка данных"
   ]
  },
  {
   "cell_type": "markdown",
   "metadata": {},
   "source": [
    "Импортируем все необходимые библиотеки."
   ]
  },
  {
   "cell_type": "code",
   "execution_count": 1,
   "metadata": {},
   "outputs": [],
   "source": [
    "import pandas as pd\n",
    "import numpy as np\n",
    "import matplotlib.pyplot as plt \n",
    "from sklearn.metrics import r2_score"
   ]
  },
  {
   "cell_type": "markdown",
   "metadata": {},
   "source": [
    "Прочитаем и рассмотрим датасет."
   ]
  },
  {
   "cell_type": "code",
   "execution_count": 2,
   "metadata": {},
   "outputs": [],
   "source": [
    "data = pd.read_csv('/datasets/insurance.csv')"
   ]
  },
  {
   "cell_type": "code",
   "execution_count": 3,
   "metadata": {},
   "outputs": [
    {
     "data": {
      "text/html": [
       "<div>\n",
       "<style scoped>\n",
       "    .dataframe tbody tr th:only-of-type {\n",
       "        vertical-align: middle;\n",
       "    }\n",
       "\n",
       "    .dataframe tbody tr th {\n",
       "        vertical-align: top;\n",
       "    }\n",
       "\n",
       "    .dataframe thead th {\n",
       "        text-align: right;\n",
       "    }\n",
       "</style>\n",
       "<table border=\"1\" class=\"dataframe\">\n",
       "  <thead>\n",
       "    <tr style=\"text-align: right;\">\n",
       "      <th></th>\n",
       "      <th>Пол</th>\n",
       "      <th>Возраст</th>\n",
       "      <th>Зарплата</th>\n",
       "      <th>Члены семьи</th>\n",
       "      <th>Страховые выплаты</th>\n",
       "    </tr>\n",
       "  </thead>\n",
       "  <tbody>\n",
       "    <tr>\n",
       "      <th>0</th>\n",
       "      <td>1</td>\n",
       "      <td>41.0</td>\n",
       "      <td>49600.0</td>\n",
       "      <td>1</td>\n",
       "      <td>0</td>\n",
       "    </tr>\n",
       "    <tr>\n",
       "      <th>1</th>\n",
       "      <td>0</td>\n",
       "      <td>46.0</td>\n",
       "      <td>38000.0</td>\n",
       "      <td>1</td>\n",
       "      <td>1</td>\n",
       "    </tr>\n",
       "    <tr>\n",
       "      <th>2</th>\n",
       "      <td>0</td>\n",
       "      <td>29.0</td>\n",
       "      <td>21000.0</td>\n",
       "      <td>0</td>\n",
       "      <td>0</td>\n",
       "    </tr>\n",
       "    <tr>\n",
       "      <th>3</th>\n",
       "      <td>0</td>\n",
       "      <td>21.0</td>\n",
       "      <td>41700.0</td>\n",
       "      <td>2</td>\n",
       "      <td>0</td>\n",
       "    </tr>\n",
       "    <tr>\n",
       "      <th>4</th>\n",
       "      <td>1</td>\n",
       "      <td>28.0</td>\n",
       "      <td>26100.0</td>\n",
       "      <td>0</td>\n",
       "      <td>0</td>\n",
       "    </tr>\n",
       "    <tr>\n",
       "      <th>...</th>\n",
       "      <td>...</td>\n",
       "      <td>...</td>\n",
       "      <td>...</td>\n",
       "      <td>...</td>\n",
       "      <td>...</td>\n",
       "    </tr>\n",
       "    <tr>\n",
       "      <th>4995</th>\n",
       "      <td>0</td>\n",
       "      <td>28.0</td>\n",
       "      <td>35700.0</td>\n",
       "      <td>2</td>\n",
       "      <td>0</td>\n",
       "    </tr>\n",
       "    <tr>\n",
       "      <th>4996</th>\n",
       "      <td>0</td>\n",
       "      <td>34.0</td>\n",
       "      <td>52400.0</td>\n",
       "      <td>1</td>\n",
       "      <td>0</td>\n",
       "    </tr>\n",
       "    <tr>\n",
       "      <th>4997</th>\n",
       "      <td>0</td>\n",
       "      <td>20.0</td>\n",
       "      <td>33900.0</td>\n",
       "      <td>2</td>\n",
       "      <td>0</td>\n",
       "    </tr>\n",
       "    <tr>\n",
       "      <th>4998</th>\n",
       "      <td>1</td>\n",
       "      <td>22.0</td>\n",
       "      <td>32700.0</td>\n",
       "      <td>3</td>\n",
       "      <td>0</td>\n",
       "    </tr>\n",
       "    <tr>\n",
       "      <th>4999</th>\n",
       "      <td>1</td>\n",
       "      <td>28.0</td>\n",
       "      <td>40600.0</td>\n",
       "      <td>1</td>\n",
       "      <td>0</td>\n",
       "    </tr>\n",
       "  </tbody>\n",
       "</table>\n",
       "<p>5000 rows × 5 columns</p>\n",
       "</div>"
      ],
      "text/plain": [
       "      Пол  Возраст  Зарплата  Члены семьи  Страховые выплаты\n",
       "0       1     41.0   49600.0            1                  0\n",
       "1       0     46.0   38000.0            1                  1\n",
       "2       0     29.0   21000.0            0                  0\n",
       "3       0     21.0   41700.0            2                  0\n",
       "4       1     28.0   26100.0            0                  0\n",
       "...   ...      ...       ...          ...                ...\n",
       "4995    0     28.0   35700.0            2                  0\n",
       "4996    0     34.0   52400.0            1                  0\n",
       "4997    0     20.0   33900.0            2                  0\n",
       "4998    1     22.0   32700.0            3                  0\n",
       "4999    1     28.0   40600.0            1                  0\n",
       "\n",
       "[5000 rows x 5 columns]"
      ]
     },
     "metadata": {},
     "output_type": "display_data"
    }
   ],
   "source": [
    "display(data)"
   ]
  },
  {
   "cell_type": "markdown",
   "metadata": {},
   "source": [
    "Рассмотрим общую информацию о датасете."
   ]
  },
  {
   "cell_type": "code",
   "execution_count": 4,
   "metadata": {},
   "outputs": [
    {
     "name": "stdout",
     "output_type": "stream",
     "text": [
      "<class 'pandas.core.frame.DataFrame'>\n",
      "RangeIndex: 5000 entries, 0 to 4999\n",
      "Data columns (total 5 columns):\n",
      " #   Column             Non-Null Count  Dtype  \n",
      "---  ------             --------------  -----  \n",
      " 0   Пол                5000 non-null   int64  \n",
      " 1   Возраст            5000 non-null   float64\n",
      " 2   Зарплата           5000 non-null   float64\n",
      " 3   Члены семьи        5000 non-null   int64  \n",
      " 4   Страховые выплаты  5000 non-null   int64  \n",
      "dtypes: float64(2), int64(3)\n",
      "memory usage: 195.4 KB\n"
     ]
    }
   ],
   "source": [
    "data.info()"
   ]
  },
  {
   "cell_type": "markdown",
   "metadata": {},
   "source": [
    "Рассмотрим все основные статистические характеристики датасета по каждому числовому признаку."
   ]
  },
  {
   "cell_type": "code",
   "execution_count": 5,
   "metadata": {},
   "outputs": [
    {
     "data": {
      "text/html": [
       "<div>\n",
       "<style scoped>\n",
       "    .dataframe tbody tr th:only-of-type {\n",
       "        vertical-align: middle;\n",
       "    }\n",
       "\n",
       "    .dataframe tbody tr th {\n",
       "        vertical-align: top;\n",
       "    }\n",
       "\n",
       "    .dataframe thead th {\n",
       "        text-align: right;\n",
       "    }\n",
       "</style>\n",
       "<table border=\"1\" class=\"dataframe\">\n",
       "  <thead>\n",
       "    <tr style=\"text-align: right;\">\n",
       "      <th></th>\n",
       "      <th>Пол</th>\n",
       "      <th>Возраст</th>\n",
       "      <th>Зарплата</th>\n",
       "      <th>Члены семьи</th>\n",
       "      <th>Страховые выплаты</th>\n",
       "    </tr>\n",
       "  </thead>\n",
       "  <tbody>\n",
       "    <tr>\n",
       "      <th>count</th>\n",
       "      <td>5000.000000</td>\n",
       "      <td>5000.000000</td>\n",
       "      <td>5000.000000</td>\n",
       "      <td>5000.000000</td>\n",
       "      <td>5000.000000</td>\n",
       "    </tr>\n",
       "    <tr>\n",
       "      <th>mean</th>\n",
       "      <td>0.499000</td>\n",
       "      <td>30.952800</td>\n",
       "      <td>39916.360000</td>\n",
       "      <td>1.194200</td>\n",
       "      <td>0.148000</td>\n",
       "    </tr>\n",
       "    <tr>\n",
       "      <th>std</th>\n",
       "      <td>0.500049</td>\n",
       "      <td>8.440807</td>\n",
       "      <td>9900.083569</td>\n",
       "      <td>1.091387</td>\n",
       "      <td>0.463183</td>\n",
       "    </tr>\n",
       "    <tr>\n",
       "      <th>min</th>\n",
       "      <td>0.000000</td>\n",
       "      <td>18.000000</td>\n",
       "      <td>5300.000000</td>\n",
       "      <td>0.000000</td>\n",
       "      <td>0.000000</td>\n",
       "    </tr>\n",
       "    <tr>\n",
       "      <th>25%</th>\n",
       "      <td>0.000000</td>\n",
       "      <td>24.000000</td>\n",
       "      <td>33300.000000</td>\n",
       "      <td>0.000000</td>\n",
       "      <td>0.000000</td>\n",
       "    </tr>\n",
       "    <tr>\n",
       "      <th>50%</th>\n",
       "      <td>0.000000</td>\n",
       "      <td>30.000000</td>\n",
       "      <td>40200.000000</td>\n",
       "      <td>1.000000</td>\n",
       "      <td>0.000000</td>\n",
       "    </tr>\n",
       "    <tr>\n",
       "      <th>75%</th>\n",
       "      <td>1.000000</td>\n",
       "      <td>37.000000</td>\n",
       "      <td>46600.000000</td>\n",
       "      <td>2.000000</td>\n",
       "      <td>0.000000</td>\n",
       "    </tr>\n",
       "    <tr>\n",
       "      <th>max</th>\n",
       "      <td>1.000000</td>\n",
       "      <td>65.000000</td>\n",
       "      <td>79000.000000</td>\n",
       "      <td>6.000000</td>\n",
       "      <td>5.000000</td>\n",
       "    </tr>\n",
       "  </tbody>\n",
       "</table>\n",
       "</div>"
      ],
      "text/plain": [
       "               Пол      Возраст      Зарплата  Члены семьи  Страховые выплаты\n",
       "count  5000.000000  5000.000000   5000.000000  5000.000000        5000.000000\n",
       "mean      0.499000    30.952800  39916.360000     1.194200           0.148000\n",
       "std       0.500049     8.440807   9900.083569     1.091387           0.463183\n",
       "min       0.000000    18.000000   5300.000000     0.000000           0.000000\n",
       "25%       0.000000    24.000000  33300.000000     0.000000           0.000000\n",
       "50%       0.000000    30.000000  40200.000000     1.000000           0.000000\n",
       "75%       1.000000    37.000000  46600.000000     2.000000           0.000000\n",
       "max       1.000000    65.000000  79000.000000     6.000000           5.000000"
      ]
     },
     "execution_count": 5,
     "metadata": {},
     "output_type": "execute_result"
    }
   ],
   "source": [
    "data.describe()"
   ]
  },
  {
   "cell_type": "markdown",
   "metadata": {},
   "source": [
    "Рассмотрим количество пропусков в данных."
   ]
  },
  {
   "cell_type": "code",
   "execution_count": 6,
   "metadata": {},
   "outputs": [
    {
     "data": {
      "text/plain": [
       "Пол                  0\n",
       "Возраст              0\n",
       "Зарплата             0\n",
       "Члены семьи          0\n",
       "Страховые выплаты    0\n",
       "dtype: int64"
      ]
     },
     "execution_count": 6,
     "metadata": {},
     "output_type": "execute_result"
    }
   ],
   "source": [
    "data.isna().sum()"
   ]
  },
  {
   "cell_type": "markdown",
   "metadata": {},
   "source": [
    "Определим количество дубликатов."
   ]
  },
  {
   "cell_type": "code",
   "execution_count": 7,
   "metadata": {},
   "outputs": [
    {
     "data": {
      "text/plain": [
       "153"
      ]
     },
     "execution_count": 7,
     "metadata": {},
     "output_type": "execute_result"
    }
   ],
   "source": [
    "data.duplicated().sum()"
   ]
  },
  {
   "cell_type": "markdown",
   "metadata": {},
   "source": [
    "Удалим дубликаты из датасета."
   ]
  },
  {
   "cell_type": "code",
   "execution_count": 8,
   "metadata": {},
   "outputs": [
    {
     "data": {
      "text/plain": [
       "0"
      ]
     },
     "execution_count": 8,
     "metadata": {},
     "output_type": "execute_result"
    }
   ],
   "source": [
    "data = data.drop_duplicates()\n",
    "data.duplicated().sum()"
   ]
  },
  {
   "cell_type": "markdown",
   "metadata": {},
   "source": [
    "Сбросим индексы."
   ]
  },
  {
   "cell_type": "code",
   "execution_count": 9,
   "metadata": {},
   "outputs": [
    {
     "data": {
      "text/html": [
       "<div>\n",
       "<style scoped>\n",
       "    .dataframe tbody tr th:only-of-type {\n",
       "        vertical-align: middle;\n",
       "    }\n",
       "\n",
       "    .dataframe tbody tr th {\n",
       "        vertical-align: top;\n",
       "    }\n",
       "\n",
       "    .dataframe thead th {\n",
       "        text-align: right;\n",
       "    }\n",
       "</style>\n",
       "<table border=\"1\" class=\"dataframe\">\n",
       "  <thead>\n",
       "    <tr style=\"text-align: right;\">\n",
       "      <th></th>\n",
       "      <th>Пол</th>\n",
       "      <th>Возраст</th>\n",
       "      <th>Зарплата</th>\n",
       "      <th>Члены семьи</th>\n",
       "      <th>Страховые выплаты</th>\n",
       "    </tr>\n",
       "  </thead>\n",
       "  <tbody>\n",
       "    <tr>\n",
       "      <th>0</th>\n",
       "      <td>1</td>\n",
       "      <td>41.0</td>\n",
       "      <td>49600.0</td>\n",
       "      <td>1</td>\n",
       "      <td>0</td>\n",
       "    </tr>\n",
       "    <tr>\n",
       "      <th>1</th>\n",
       "      <td>0</td>\n",
       "      <td>46.0</td>\n",
       "      <td>38000.0</td>\n",
       "      <td>1</td>\n",
       "      <td>1</td>\n",
       "    </tr>\n",
       "    <tr>\n",
       "      <th>2</th>\n",
       "      <td>0</td>\n",
       "      <td>29.0</td>\n",
       "      <td>21000.0</td>\n",
       "      <td>0</td>\n",
       "      <td>0</td>\n",
       "    </tr>\n",
       "    <tr>\n",
       "      <th>3</th>\n",
       "      <td>0</td>\n",
       "      <td>21.0</td>\n",
       "      <td>41700.0</td>\n",
       "      <td>2</td>\n",
       "      <td>0</td>\n",
       "    </tr>\n",
       "    <tr>\n",
       "      <th>4</th>\n",
       "      <td>1</td>\n",
       "      <td>28.0</td>\n",
       "      <td>26100.0</td>\n",
       "      <td>0</td>\n",
       "      <td>0</td>\n",
       "    </tr>\n",
       "    <tr>\n",
       "      <th>...</th>\n",
       "      <td>...</td>\n",
       "      <td>...</td>\n",
       "      <td>...</td>\n",
       "      <td>...</td>\n",
       "      <td>...</td>\n",
       "    </tr>\n",
       "    <tr>\n",
       "      <th>4842</th>\n",
       "      <td>0</td>\n",
       "      <td>28.0</td>\n",
       "      <td>35700.0</td>\n",
       "      <td>2</td>\n",
       "      <td>0</td>\n",
       "    </tr>\n",
       "    <tr>\n",
       "      <th>4843</th>\n",
       "      <td>0</td>\n",
       "      <td>34.0</td>\n",
       "      <td>52400.0</td>\n",
       "      <td>1</td>\n",
       "      <td>0</td>\n",
       "    </tr>\n",
       "    <tr>\n",
       "      <th>4844</th>\n",
       "      <td>0</td>\n",
       "      <td>20.0</td>\n",
       "      <td>33900.0</td>\n",
       "      <td>2</td>\n",
       "      <td>0</td>\n",
       "    </tr>\n",
       "    <tr>\n",
       "      <th>4845</th>\n",
       "      <td>1</td>\n",
       "      <td>22.0</td>\n",
       "      <td>32700.0</td>\n",
       "      <td>3</td>\n",
       "      <td>0</td>\n",
       "    </tr>\n",
       "    <tr>\n",
       "      <th>4846</th>\n",
       "      <td>1</td>\n",
       "      <td>28.0</td>\n",
       "      <td>40600.0</td>\n",
       "      <td>1</td>\n",
       "      <td>0</td>\n",
       "    </tr>\n",
       "  </tbody>\n",
       "</table>\n",
       "<p>4847 rows × 5 columns</p>\n",
       "</div>"
      ],
      "text/plain": [
       "      Пол  Возраст  Зарплата  Члены семьи  Страховые выплаты\n",
       "0       1     41.0   49600.0            1                  0\n",
       "1       0     46.0   38000.0            1                  1\n",
       "2       0     29.0   21000.0            0                  0\n",
       "3       0     21.0   41700.0            2                  0\n",
       "4       1     28.0   26100.0            0                  0\n",
       "...   ...      ...       ...          ...                ...\n",
       "4842    0     28.0   35700.0            2                  0\n",
       "4843    0     34.0   52400.0            1                  0\n",
       "4844    0     20.0   33900.0            2                  0\n",
       "4845    1     22.0   32700.0            3                  0\n",
       "4846    1     28.0   40600.0            1                  0\n",
       "\n",
       "[4847 rows x 5 columns]"
      ]
     },
     "metadata": {},
     "output_type": "display_data"
    }
   ],
   "source": [
    "data.reset_index(drop= True , inplace= True )\n",
    "display(data)"
   ]
  },
  {
   "cell_type": "markdown",
   "metadata": {},
   "source": [
    "Также рассмотрим гистограммы данных."
   ]
  },
  {
   "cell_type": "code",
   "execution_count": 10,
   "metadata": {},
   "outputs": [
    {
     "data": {
      "image/png": "[encoded data removed]",
      "text/plain": [
       "<Figure size 1440x1440 with 6 Axes>"
      ]
     },
     "metadata": {
      "needs_background": "light"
     },
     "output_type": "display_data"
    }
   ],
   "source": [
    "data.hist(xlabelsize = 15, \n",
    "          ylabelsize = 15, \n",
    "          figsize = [20, 20])\n",
    "plt.show()"
   ]
  },
  {
   "cell_type": "markdown",
   "metadata": {},
   "source": [
    "<b>Вывод:</b>\n",
    "<br> Как можно заметить по гистограммам и статистическим характеристикам, в данным отсутствуют выбросы, аномальные значения, пропуски, а также были удалены дубликаты."
   ]
  },
  {
   "cell_type": "markdown",
   "metadata": {},
   "source": [
    "## Умножение матриц"
   ]
  },
  {
   "cell_type": "markdown",
   "metadata": {},
   "source": [
    "В этом задании вы можете записывать формулы в *Jupyter Notebook.*\n",
    "\n",
    "Чтобы записать формулу внутри текста, окружите её символами доллара \\\\$; если снаружи —  двойными символами \\\\$\\\\$. Эти формулы записываются на языке вёрстки *LaTeX.* \n",
    "\n",
    "Для примера мы записали формулы линейной регрессии. Можете их скопировать и отредактировать, чтобы решить задачу.\n",
    "\n",
    "Работать в *LaTeX* необязательно."
   ]
  },
  {
   "cell_type": "markdown",
   "metadata": {},
   "source": [
    "Обозначения:\n",
    "\n",
    "- $X$ — матрица признаков (нулевой столбец состоит из единиц)\n",
    "\n",
    "- $y$ — вектор целевого признака\n",
    "\n",
    "- $P$ — матрица, на которую умножаются признаки\n",
    "\n",
    "- $w$ — вектор весов линейной регрессии (нулевой элемент равен сдвигу)"
   ]
  },
  {
   "cell_type": "markdown",
   "metadata": {},
   "source": [
    "Предсказания:\n",
    "\n",
    "$$\n",
    "a = Xw\n",
    "$$\n",
    "\n",
    "Задача обучения:\n",
    "\n",
    "$$\n",
    "w = \\arg\\min_w MSE(Xw, y)\n",
    "$$\n",
    "\n",
    "Формула обучения:\n",
    "\n",
    "$$\n",
    "w = (X^T X)^{-1} X^T y\n",
    "$$"
   ]
  },
  {
   "cell_type": "markdown",
   "metadata": {},
   "source": [
    "**Ответ:**\n",
    "\n",
    "\n",
    "Умножим матрицу признаков на обратимую матрицу P:\n",
    "\n",
    "$$\n",
    "w' = ((XP)^T XP)^{-1} (XP)^T y \\tag 1\n",
    "$$\n",
    "\n",
    "Расскроем скобки в формуле обучения выше, используя свойство обратной матрицы: $ (AB)^T=B^T A^T $:\n",
    "\n",
    "$$\n",
    "w' = (P^T X^T XP)^{-1} P^T X^T y \\tag 2\n",
    "$$\n",
    "\n",
    "Пусть $A=P^T$, $B=(X^TXP)$, тогда $(P^T(X^TXP))^{-1} = (X^TXP)^{-1} P^{T^{-1}}$, применив свойства единичной матрицы Е: $ A^{-1}A = E $ и $ AE = EA = A $:\n",
    "\n",
    "$$\n",
    "w' = (X^TXP)^{-1} X^T y \\tag 3\n",
    "$$\n",
    "\n",
    "Пусть $A=X^TX$, $B=(P)$, тогда $(X^TXP)^{-1} = (P)^{-1}(X^TX)^{-1} $, тогда:\n",
    "\n",
    "$$\n",
    "w' = (P)^{-1}(X^TX)^{-1}X^T y \\tag 4\n",
    "$$\n",
    "\n",
    "С учетом выражения $ a = Xw $ получим:\n",
    "\n",
    "$$\n",
    "a = (XP)(P)^{-1}(X^TX)^{-1}X^T y \\tag 5\n",
    "$$\n",
    "\n",
    "С учетом свойств $ AA^{-1} = E $ и $ AE = EA = A $ и выражения $ w = (X^T X)^{-1} X^T y $: получим:\n",
    "\n",
    "$$\n",
    "a = Xw \\tag 6\n",
    "$$\n",
    "\n",
    "**Обоснование:** \n",
    "На основании приведенных выше преобразований можно сделать вывод, что предсказания до преобразования равны предсказаниям после предсказания. Соответственно при умножении вектора признаков на обратимую матрицу и дальнешем поиске вектора весов, вектор предсказаний остается неизменным."
   ]
  },
  {
   "cell_type": "markdown",
   "metadata": {},
   "source": [
    "## Алгоритм преобразования"
   ]
  },
  {
   "cell_type": "markdown",
   "metadata": {},
   "source": [
    "**Алгоритм**\n",
    "\n",
    "В качестве алгоритма предлагаю использовать умножение матрицы признаков (данных) на обратимую матрицу. Данное действие позволит \"зашифровать\" данные пользователей, а также в конечном этоге, на основании вывода в шаге, не повлияет на вектор предсказаний. Сначала мы создадим функцию, аргументом этой функции будут признаки, в функции из рандомной матрицы выберет ту, которая является обратимой (обратимая матрица является обратимой когда она квадратная и её определитель не равен нулю). В дальнейшем будет умножение входных признаков на созданую обратимую матрицу. На выходе функции будет преобразованная или \"зашифрованная\" матрица, а также обратимая матрица, которую можно использовать для дешифрования или восстановления данных."
   ]
  },
  {
   "cell_type": "markdown",
   "metadata": {},
   "source": [
    "**Обоснование**\n",
    "\n",
    "Обосноване для этого алгоритма служат обоснование в шаге 2."
   ]
  },
  {
   "cell_type": "markdown",
   "metadata": {},
   "source": [
    "## Проверка алгоритма"
   ]
  },
  {
   "cell_type": "markdown",
   "metadata": {},
   "source": [
    "Создадим из датасета признаки и целевой признак."
   ]
  },
  {
   "cell_type": "code",
   "execution_count": 11,
   "metadata": {},
   "outputs": [],
   "source": [
    "features = data.drop('Страховые выплаты', axis=1)\n",
    "target = data['Страховые выплаты']"
   ]
  },
  {
   "cell_type": "markdown",
   "metadata": {},
   "source": [
    "Создадим функцию для получения преобразованной и обратимой матриц."
   ]
  },
  {
   "cell_type": "code",
   "execution_count": 12,
   "metadata": {},
   "outputs": [],
   "source": [
    "def data_prot(features):\n",
    "    n = features.shape[1]\n",
    "    np.random.seed(seed = 12345)\n",
    "    P = np.random.randint(10, size=(n, n))\n",
    "    while np.linalg.det(P) == 0:\n",
    "        P = np.random.randint(10, size=(n, n))\n",
    "    protect_features = features.dot(P)\n",
    "    return protect_features, P"
   ]
  },
  {
   "cell_type": "markdown",
   "metadata": {},
   "source": [
    "Рассмотрим качество предсказания на непреобразованных признаках. "
   ]
  },
  {
   "cell_type": "code",
   "execution_count": 13,
   "metadata": {},
   "outputs": [
    {
     "name": "stdout",
     "output_type": "stream",
     "text": [
      "0.430\n"
     ]
    }
   ],
   "source": [
    "class LinearRegression:\n",
    "    def fit(self, train_features, train_target):\n",
    "        X = np.concatenate((np.ones((train_features.shape[0], 1)), train_features), axis=1)\n",
    "        y = train_target\n",
    "        w = np.linalg.inv(X.T.dot(X)).dot(X.T).dot(y)\n",
    "        self.w = w[1:]\n",
    "        self.w0 = w[0]\n",
    "\n",
    "    def predict(self, test_features):\n",
    "        return test_features.dot(self.w) + self.w0\n",
    "    \n",
    "model = LinearRegression()\n",
    "model.fit(features, target)\n",
    "predictions = model.predict(features)\n",
    "print('{:.3f}'.format(r2_score(target, predictions)))"
   ]
  },
  {
   "cell_type": "markdown",
   "metadata": {},
   "source": [
    "Рассмотрим качество предсказания на преобразованных признаках. "
   ]
  },
  {
   "cell_type": "code",
   "execution_count": 14,
   "metadata": {},
   "outputs": [
    {
     "name": "stdout",
     "output_type": "stream",
     "text": [
      "0.430\n"
     ]
    }
   ],
   "source": [
    "class LinearRegression:\n",
    "    def fit(self, train_features, train_target):\n",
    "        X = np.concatenate((np.ones((train_features.shape[0], 1)), train_features), axis=1)\n",
    "        y = train_target\n",
    "        w = np.linalg.inv(X.T.dot(X)).dot(X.T).dot(y)\n",
    "        self.w = w[1:]\n",
    "        self.w0 = w[0]\n",
    "\n",
    "    def predict(self, test_features):\n",
    "        return test_features.dot(self.w) + self.w0\n",
    "    \n",
    "model = LinearRegression()\n",
    "model.fit(data_prot(features)[0], target)\n",
    "predictions = model.predict(data_prot(features)[0])\n",
    "print('{:.3f}'.format(r2_score(target, predictions)))"
   ]
  },
  {
   "cell_type": "markdown",
   "metadata": {},
   "source": [
    "Как можно заметить, качество предсказаний признаков до и после преобразования одинаково."
   ]
  },
  {
   "cell_type": "markdown",
   "metadata": {},
   "source": [
    "**Вывод**\n",
    "\n",
    "В данном проекте было необходимо защитить данные клиентов страховой компании «Хоть потоп». Разработать такой метод преобразования данных, чтобы по ним было сложно восстановить персональную информацию. Обосновать корректность его работы.\n",
    "Необходимо было защитить данные, чтобы при преобразовании качество моделей машинного обучения не ухудшилось. \n",
    "\n",
    "Сперва были загружены и проверены данные. Было проверено отсутствие пропусков, наличие дубликатов, выбросов, аномалий. Были обнаружены дубликаты и удалены из датасета. С помощью линейный преобразований и свойста единичной, транспортируемой, обратной матриц был сделан вывод, что если признаки умножить на обратимую матрицу, то вектор предсказаний имеет такое же значение, что и без умножения. \n",
    "\n",
    "В дальнейшем был разработан алгоритм для создания преобразованной или \"зашифрованной\" матрицы с помощью которой будет создан и проверено качество предсказаний. Была создана функция, которая принимает в качестве аргумента признаки, а на возвращает преобразованную матрицу и обратимую матрицу. \n",
    "\n",
    "В результате качество предсказания непреобразованных и преобразованных признаков не отличаются."
   ]
  }
 ],
 "metadata": {
  "ExecuteTimeLog": [
   {
    "duration": 81,
    "start_time": "2023-05-15T13:43:24.299Z"
   },
   {
    "duration": 555,
    "start_time": "2023-05-15T13:43:27.439Z"
   },
   {
    "duration": 99,
    "start_time": "2023-05-15T13:43:27.996Z"
   },
   {
    "duration": 21,
    "start_time": "2023-05-15T13:43:28.097Z"
   },
   {
    "duration": 49,
    "start_time": "2023-05-15T13:43:48.004Z"
   },
   {
    "duration": 13,
    "start_time": "2023-05-15T13:43:57.889Z"
   },
   {
    "duration": 24,
    "start_time": "2023-05-15T13:44:14.959Z"
   },
   {
    "duration": 399,
    "start_time": "2023-05-18T15:09:27.597Z"
   },
   {
    "duration": 95,
    "start_time": "2023-05-18T15:09:27.997Z"
   },
   {
    "duration": 21,
    "start_time": "2023-05-18T15:09:28.098Z"
   },
   {
    "duration": 25,
    "start_time": "2023-05-18T15:09:28.120Z"
   },
   {
    "duration": 778,
    "start_time": "2023-05-18T15:09:42.320Z"
   },
   {
    "duration": 514,
    "start_time": "2023-05-18T15:09:53.185Z"
   },
   {
    "duration": 3,
    "start_time": "2023-05-18T15:55:30.291Z"
   },
   {
    "duration": 468,
    "start_time": "2023-05-18T15:55:33.956Z"
   },
   {
    "duration": 163,
    "start_time": "2023-05-18T15:56:06.788Z"
   },
   {
    "duration": 3,
    "start_time": "2023-05-18T15:57:31.637Z"
   },
   {
    "duration": 628,
    "start_time": "2023-05-18T15:57:33.648Z"
   },
   {
    "duration": 7,
    "start_time": "2023-05-18T15:59:47.431Z"
   },
   {
    "duration": 2,
    "start_time": "2023-05-18T16:00:10.980Z"
   },
   {
    "duration": 670,
    "start_time": "2023-05-18T16:00:13.133Z"
   },
   {
    "duration": 637,
    "start_time": "2023-05-18T16:05:01.696Z"
   },
   {
    "duration": 29,
    "start_time": "2023-05-18T16:05:02.335Z"
   },
   {
    "duration": 15,
    "start_time": "2023-05-18T16:05:02.365Z"
   },
   {
    "duration": 22,
    "start_time": "2023-05-18T16:05:02.382Z"
   },
   {
    "duration": 575,
    "start_time": "2023-05-18T16:05:02.406Z"
   },
   {
    "duration": 212,
    "start_time": "2023-05-18T16:05:02.983Z"
   },
   {
    "duration": 686,
    "start_time": "2023-05-18T16:07:23.839Z"
   },
   {
    "duration": 550,
    "start_time": "2023-05-18T16:07:32.940Z"
   },
   {
    "duration": 517,
    "start_time": "2023-05-18T16:13:12.156Z"
   },
   {
    "duration": 2,
    "start_time": "2023-05-18T16:13:27.108Z"
   },
   {
    "duration": 611,
    "start_time": "2023-05-18T16:13:29.334Z"
   },
   {
    "duration": 580,
    "start_time": "2023-05-18T16:14:24.014Z"
   },
   {
    "duration": 704,
    "start_time": "2023-05-18T16:14:30.994Z"
   },
   {
    "duration": 29,
    "start_time": "2023-05-18T16:14:31.700Z"
   },
   {
    "duration": 25,
    "start_time": "2023-05-18T16:14:31.731Z"
   },
   {
    "duration": 32,
    "start_time": "2023-05-18T16:14:31.759Z"
   },
   {
    "duration": 486,
    "start_time": "2023-05-18T16:14:31.793Z"
   },
   {
    "duration": 456,
    "start_time": "2023-05-18T16:14:37.842Z"
   },
   {
    "duration": 408,
    "start_time": "2023-05-18T16:14:41.442Z"
   },
   {
    "duration": 384,
    "start_time": "2023-05-18T16:14:49.006Z"
   },
   {
    "duration": 391,
    "start_time": "2023-05-18T16:14:54.950Z"
   },
   {
    "duration": 477,
    "start_time": "2023-05-18T16:15:03.004Z"
   },
   {
    "duration": 444,
    "start_time": "2023-05-18T16:26:35.053Z"
   },
   {
    "duration": 427,
    "start_time": "2023-05-18T16:26:42.241Z"
   },
   {
    "duration": 800,
    "start_time": "2023-05-18T16:26:47.402Z"
   },
   {
    "duration": 428,
    "start_time": "2023-05-18T16:26:57.196Z"
   },
   {
    "duration": 406,
    "start_time": "2023-05-18T16:27:06.854Z"
   },
   {
    "duration": 431,
    "start_time": "2023-05-18T16:27:11.851Z"
   },
   {
    "duration": 498,
    "start_time": "2023-05-18T16:27:16.802Z"
   },
   {
    "duration": 436,
    "start_time": "2023-05-18T16:27:20.270Z"
   },
   {
    "duration": 437,
    "start_time": "2023-05-18T16:27:22.858Z"
   },
   {
    "duration": 461,
    "start_time": "2023-05-18T16:27:27.404Z"
   },
   {
    "duration": 719,
    "start_time": "2023-05-18T16:27:31.618Z"
   },
   {
    "duration": 690,
    "start_time": "2023-05-18T16:27:38.622Z"
   },
   {
    "duration": 764,
    "start_time": "2023-05-18T16:27:44.499Z"
   },
   {
    "duration": 792,
    "start_time": "2023-05-18T16:27:51.993Z"
   },
   {
    "duration": 777,
    "start_time": "2023-05-18T16:27:59.700Z"
   },
   {
    "duration": 805,
    "start_time": "2023-05-18T16:28:09.021Z"
   },
   {
    "duration": 854,
    "start_time": "2023-05-18T16:28:14.885Z"
   },
   {
    "duration": 897,
    "start_time": "2023-05-18T16:29:19.653Z"
   },
   {
    "duration": 822,
    "start_time": "2023-05-18T16:29:24.802Z"
   },
   {
    "duration": 710,
    "start_time": "2023-05-18T16:29:42.106Z"
   },
   {
    "duration": 755,
    "start_time": "2023-05-18T16:29:46.394Z"
   },
   {
    "duration": 832,
    "start_time": "2023-05-18T16:29:51.427Z"
   },
   {
    "duration": 715,
    "start_time": "2023-05-18T16:29:56.387Z"
   },
   {
    "duration": 191,
    "start_time": "2023-05-18T16:31:43.740Z"
   },
   {
    "duration": 352,
    "start_time": "2023-05-18T16:37:54.935Z"
   },
   {
    "duration": 609,
    "start_time": "2023-05-18T16:38:01.600Z"
   },
   {
    "duration": 28,
    "start_time": "2023-05-18T16:38:02.211Z"
   },
   {
    "duration": 18,
    "start_time": "2023-05-18T16:38:02.241Z"
   },
   {
    "duration": 20,
    "start_time": "2023-05-18T16:38:02.261Z"
   },
   {
    "duration": 183,
    "start_time": "2023-05-18T16:38:02.282Z"
   },
   {
    "duration": 607,
    "start_time": "2023-05-18T16:38:12.188Z"
   },
   {
    "duration": 29,
    "start_time": "2023-05-18T16:38:12.797Z"
   },
   {
    "duration": 15,
    "start_time": "2023-05-18T16:38:12.827Z"
   },
   {
    "duration": 21,
    "start_time": "2023-05-18T16:38:12.844Z"
   },
   {
    "duration": 188,
    "start_time": "2023-05-18T16:38:12.866Z"
   },
   {
    "duration": 688,
    "start_time": "2023-05-18T16:39:30.177Z"
   },
   {
    "duration": 29,
    "start_time": "2023-05-18T16:39:30.867Z"
   },
   {
    "duration": 16,
    "start_time": "2023-05-18T16:39:30.898Z"
   },
   {
    "duration": 59,
    "start_time": "2023-05-18T16:39:30.916Z"
   },
   {
    "duration": 194,
    "start_time": "2023-05-18T16:39:30.977Z"
   },
   {
    "duration": 202,
    "start_time": "2023-05-18T16:44:37.917Z"
   },
   {
    "duration": 574,
    "start_time": "2023-05-18T16:45:48.324Z"
   },
   {
    "duration": 414,
    "start_time": "2023-05-18T16:48:59.073Z"
   },
   {
    "duration": 405,
    "start_time": "2023-05-18T16:49:06.829Z"
   },
   {
    "duration": 396,
    "start_time": "2023-05-18T16:49:17.825Z"
   },
   {
    "duration": 3,
    "start_time": "2023-05-18T16:49:27.039Z"
   },
   {
    "duration": 38,
    "start_time": "2023-05-18T16:49:27.043Z"
   },
   {
    "duration": 13,
    "start_time": "2023-05-18T16:49:27.129Z"
   },
   {
    "duration": 21,
    "start_time": "2023-05-18T16:49:27.313Z"
   },
   {
    "duration": 493,
    "start_time": "2023-05-18T16:49:27.869Z"
   },
   {
    "duration": 656,
    "start_time": "2023-05-18T16:49:59.190Z"
   },
   {
    "duration": 685,
    "start_time": "2023-05-18T16:50:29.094Z"
   },
   {
    "duration": 897,
    "start_time": "2023-05-18T16:50:33.669Z"
   },
   {
    "duration": 620,
    "start_time": "2023-05-18T16:50:40.243Z"
   },
   {
    "duration": 619,
    "start_time": "2023-05-18T16:50:47.437Z"
   },
   {
    "duration": 643,
    "start_time": "2023-05-18T16:50:52.597Z"
   },
   {
    "duration": 103,
    "start_time": "2023-05-18T16:51:26.705Z"
   },
   {
    "duration": 788,
    "start_time": "2023-05-18T16:51:33.258Z"
   },
   {
    "duration": 4,
    "start_time": "2023-05-18T17:22:18.210Z"
   },
   {
    "duration": 4,
    "start_time": "2023-05-18T17:22:23.105Z"
   },
   {
    "duration": 5,
    "start_time": "2023-05-18T17:22:34.324Z"
   },
   {
    "duration": 72,
    "start_time": "2023-05-18T17:22:50.006Z"
   },
   {
    "duration": 3,
    "start_time": "2023-05-18T17:23:01.407Z"
   },
   {
    "duration": 7,
    "start_time": "2023-05-18T17:23:05.006Z"
   },
   {
    "duration": 788,
    "start_time": "2023-05-28T17:33:23.862Z"
   },
   {
    "duration": 77,
    "start_time": "2023-05-28T17:33:24.652Z"
   },
   {
    "duration": 18,
    "start_time": "2023-05-28T17:33:24.730Z"
   },
   {
    "duration": 24,
    "start_time": "2023-05-28T17:33:24.749Z"
   },
   {
    "duration": 705,
    "start_time": "2023-05-28T17:33:24.775Z"
   },
   {
    "duration": 5,
    "start_time": "2023-05-28T17:33:25.482Z"
   },
   {
    "duration": 4,
    "start_time": "2023-05-28T18:20:48.789Z"
   },
   {
    "duration": 5,
    "start_time": "2023-05-28T18:21:36.956Z"
   },
   {
    "duration": 951,
    "start_time": "2023-06-01T14:09:53.719Z"
   },
   {
    "duration": 89,
    "start_time": "2023-06-01T14:09:54.672Z"
   },
   {
    "duration": 20,
    "start_time": "2023-06-01T14:09:54.763Z"
   },
   {
    "duration": 24,
    "start_time": "2023-06-01T14:09:54.786Z"
   },
   {
    "duration": 775,
    "start_time": "2023-06-01T14:09:54.812Z"
   },
   {
    "duration": 3,
    "start_time": "2023-06-01T14:09:55.590Z"
   },
   {
    "duration": 12,
    "start_time": "2023-06-01T14:09:55.595Z"
   },
   {
    "duration": 20,
    "start_time": "2023-06-01T14:09:55.609Z"
   },
   {
    "duration": 261,
    "start_time": "2023-06-01T14:11:05.644Z"
   },
   {
    "duration": 1402,
    "start_time": "2023-06-01T14:11:31.072Z"
   },
   {
    "duration": 36,
    "start_time": "2023-06-01T14:11:32.481Z"
   },
   {
    "duration": 26,
    "start_time": "2023-06-01T14:11:32.519Z"
   },
   {
    "duration": 36,
    "start_time": "2023-06-01T14:11:32.548Z"
   },
   {
    "duration": 821,
    "start_time": "2023-06-01T14:11:32.586Z"
   },
   {
    "duration": 5,
    "start_time": "2023-06-01T14:11:33.409Z"
   },
   {
    "duration": 141,
    "start_time": "2023-06-01T14:11:33.416Z"
   },
   {
    "duration": 75,
    "start_time": "2023-06-01T14:20:03.676Z"
   },
   {
    "duration": 11,
    "start_time": "2023-06-01T14:20:08.501Z"
   },
   {
    "duration": 5,
    "start_time": "2023-06-01T14:25:28.098Z"
   },
   {
    "duration": 976,
    "start_time": "2023-06-01T14:25:55.126Z"
   },
   {
    "duration": 5,
    "start_time": "2023-06-01T14:29:25.023Z"
   },
   {
    "duration": 75,
    "start_time": "2023-06-01T14:29:41.802Z"
   },
   {
    "duration": 413,
    "start_time": "2023-06-01T14:30:42.888Z"
   },
   {
    "duration": 97,
    "start_time": "2023-06-01T14:47:18.991Z"
   },
   {
    "duration": 137,
    "start_time": "2023-06-01T14:59:30.580Z"
   },
   {
    "duration": 1149,
    "start_time": "2023-06-01T15:01:26.291Z"
   },
   {
    "duration": 112,
    "start_time": "2023-06-01T15:01:30.978Z"
   },
   {
    "duration": 103,
    "start_time": "2023-06-01T15:01:34.620Z"
   },
   {
    "duration": 3835,
    "start_time": "2023-06-01T15:01:38.675Z"
   },
   {
    "duration": 34,
    "start_time": "2023-06-01T15:01:42.513Z"
   },
   {
    "duration": 39,
    "start_time": "2023-06-01T15:01:42.550Z"
   },
   {
    "duration": 41,
    "start_time": "2023-06-01T15:01:42.593Z"
   },
   {
    "duration": 964,
    "start_time": "2023-06-01T15:01:42.637Z"
   },
   {
    "duration": 6,
    "start_time": "2023-06-01T15:01:43.603Z"
   },
   {
    "duration": 67,
    "start_time": "2023-06-01T15:01:43.611Z"
   },
   {
    "duration": 130,
    "start_time": "2023-06-01T15:01:43.690Z"
   },
   {
    "duration": 0,
    "start_time": "2023-06-01T15:01:43.822Z"
   },
   {
    "duration": 103,
    "start_time": "2023-06-01T16:17:28.164Z"
   },
   {
    "duration": 11,
    "start_time": "2023-06-01T16:23:20.724Z"
   },
   {
    "duration": 89,
    "start_time": "2023-06-01T16:23:21.764Z"
   },
   {
    "duration": 79,
    "start_time": "2023-06-01T16:23:23.524Z"
   },
   {
    "duration": 102,
    "start_time": "2023-06-01T16:23:25.464Z"
   },
   {
    "duration": 4,
    "start_time": "2023-06-01T17:52:26.573Z"
   },
   {
    "duration": 8,
    "start_time": "2023-06-01T17:52:27.172Z"
   },
   {
    "duration": 98,
    "start_time": "2023-06-01T17:52:27.719Z"
   },
   {
    "duration": 3,
    "start_time": "2023-06-01T18:07:57.706Z"
   },
   {
    "duration": 135,
    "start_time": "2023-06-01T18:08:12.782Z"
   },
   {
    "duration": 4,
    "start_time": "2023-06-01T18:08:25.162Z"
   },
   {
    "duration": 11,
    "start_time": "2023-06-01T18:08:25.654Z"
   },
   {
    "duration": 23,
    "start_time": "2023-06-01T18:08:48.654Z"
   },
   {
    "duration": 78,
    "start_time": "2023-06-01T18:08:50.198Z"
   },
   {
    "duration": 70,
    "start_time": "2023-06-01T18:08:52.614Z"
   },
   {
    "duration": 6,
    "start_time": "2023-06-01T18:09:04.806Z"
   },
   {
    "duration": 13,
    "start_time": "2023-06-01T18:09:08.618Z"
   },
   {
    "duration": 5,
    "start_time": "2023-06-01T18:09:18.774Z"
   },
   {
    "duration": 3,
    "start_time": "2023-06-01T18:09:30.206Z"
   },
   {
    "duration": 22163,
    "start_time": "2023-06-01T18:09:30.805Z"
   },
   {
    "duration": 82,
    "start_time": "2023-06-01T18:10:22.497Z"
   },
   {
    "duration": 5,
    "start_time": "2023-06-01T18:12:09.342Z"
   },
   {
    "duration": 5,
    "start_time": "2023-06-01T18:12:10.163Z"
   },
   {
    "duration": 13,
    "start_time": "2023-06-01T18:12:17.191Z"
   },
   {
    "duration": 16,
    "start_time": "2023-06-01T18:12:27.722Z"
   },
   {
    "duration": 76,
    "start_time": "2023-06-01T18:12:44.362Z"
   },
   {
    "duration": 422,
    "start_time": "2023-06-01T18:13:54.027Z"
   },
   {
    "duration": 6,
    "start_time": "2023-06-01T18:14:22.767Z"
   },
   {
    "duration": 15,
    "start_time": "2023-06-01T18:14:27.413Z"
   },
   {
    "duration": 19,
    "start_time": "2023-06-01T18:14:29.693Z"
   },
   {
    "duration": 4,
    "start_time": "2023-06-01T18:14:32.216Z"
   },
   {
    "duration": 13,
    "start_time": "2023-06-01T18:14:32.875Z"
   },
   {
    "duration": 7,
    "start_time": "2023-06-01T18:14:34.200Z"
   },
   {
    "duration": 5,
    "start_time": "2023-06-01T18:14:44.423Z"
   },
   {
    "duration": 5,
    "start_time": "2023-06-01T18:14:44.815Z"
   },
   {
    "duration": 14,
    "start_time": "2023-06-01T18:14:45.984Z"
   },
   {
    "duration": 6,
    "start_time": "2023-06-01T18:14:47.271Z"
   },
   {
    "duration": 9,
    "start_time": "2023-06-01T18:15:45.559Z"
   },
   {
    "duration": 80,
    "start_time": "2023-06-01T18:18:10.968Z"
   },
   {
    "duration": 14,
    "start_time": "2023-06-01T18:20:24.206Z"
   },
   {
    "duration": 389,
    "start_time": "2023-06-01T18:20:25.250Z"
   },
   {
    "duration": 66,
    "start_time": "2023-06-01T18:23:01.592Z"
   },
   {
    "duration": 13,
    "start_time": "2023-06-01T18:24:39.145Z"
   },
   {
    "duration": 21,
    "start_time": "2023-06-01T18:24:51.036Z"
   },
   {
    "duration": 21,
    "start_time": "2023-06-01T18:39:05.067Z"
   },
   {
    "duration": 263,
    "start_time": "2023-06-01T18:41:09.192Z"
   },
   {
    "duration": 11,
    "start_time": "2023-06-01T18:41:13.998Z"
   },
   {
    "duration": 401,
    "start_time": "2023-06-01T18:43:15.067Z"
   },
   {
    "duration": 14,
    "start_time": "2023-06-01T19:39:40.422Z"
   },
   {
    "duration": 1253,
    "start_time": "2023-06-01T19:40:18.601Z"
   },
   {
    "duration": 83,
    "start_time": "2023-06-01T19:40:19.856Z"
   },
   {
    "duration": 18,
    "start_time": "2023-06-01T19:40:19.940Z"
   },
   {
    "duration": 27,
    "start_time": "2023-06-01T19:40:19.960Z"
   },
   {
    "duration": 757,
    "start_time": "2023-06-01T19:40:19.988Z"
   },
   {
    "duration": 5,
    "start_time": "2023-06-01T19:40:20.749Z"
   },
   {
    "duration": 6,
    "start_time": "2023-06-01T19:40:20.756Z"
   },
   {
    "duration": 19,
    "start_time": "2023-06-01T19:40:20.764Z"
   },
   {
    "duration": 5,
    "start_time": "2023-06-01T19:40:20.785Z"
   },
   {
    "duration": 61,
    "start_time": "2023-06-01T19:40:20.792Z"
   },
   {
    "duration": 107,
    "start_time": "2023-06-01T19:40:20.854Z"
   },
   {
    "duration": 11,
    "start_time": "2023-06-01T19:40:20.962Z"
   },
   {
    "duration": 558,
    "start_time": "2023-06-01T19:40:20.975Z"
   },
   {
    "duration": 22,
    "start_time": "2023-06-01T19:40:21.535Z"
   },
   {
    "duration": 19,
    "start_time": "2023-06-01T19:40:41.150Z"
   },
   {
    "duration": 28,
    "start_time": "2023-06-01T19:41:07.821Z"
   },
   {
    "duration": 54,
    "start_time": "2023-06-02T08:23:47.397Z"
   },
   {
    "duration": 9,
    "start_time": "2023-06-02T08:23:51.325Z"
   },
   {
    "duration": 11,
    "start_time": "2023-06-02T08:23:51.523Z"
   },
   {
    "duration": 7,
    "start_time": "2023-06-02T08:23:51.683Z"
   },
   {
    "duration": 1775,
    "start_time": "2023-06-02T08:24:00.315Z"
   },
   {
    "duration": 78,
    "start_time": "2023-06-02T08:24:02.092Z"
   },
   {
    "duration": 230,
    "start_time": "2023-06-02T08:24:02.172Z"
   },
   {
    "duration": 147,
    "start_time": "2023-06-02T08:24:02.511Z"
   },
   {
    "duration": 27,
    "start_time": "2023-06-02T08:24:23.500Z"
   },
   {
    "duration": 23,
    "start_time": "2023-06-02T08:24:53.975Z"
   },
   {
    "duration": 7,
    "start_time": "2023-06-02T08:34:15.347Z"
   },
   {
    "duration": 9,
    "start_time": "2023-06-02T08:34:44.959Z"
   },
   {
    "duration": 69,
    "start_time": "2023-06-02T08:36:59.551Z"
   },
   {
    "duration": 6,
    "start_time": "2023-06-02T08:38:56.851Z"
   },
   {
    "duration": 7,
    "start_time": "2023-06-02T08:55:36.985Z"
   },
   {
    "duration": 15,
    "start_time": "2023-06-02T08:55:37.101Z"
   },
   {
    "duration": 6,
    "start_time": "2023-06-02T08:55:37.254Z"
   },
   {
    "duration": 1361,
    "start_time": "2023-06-02T08:55:53.058Z"
   },
   {
    "duration": 29,
    "start_time": "2023-06-02T08:55:54.421Z"
   },
   {
    "duration": 18,
    "start_time": "2023-06-02T08:55:54.452Z"
   },
   {
    "duration": 34,
    "start_time": "2023-06-02T08:55:54.472Z"
   },
   {
    "duration": 30,
    "start_time": "2023-06-02T08:55:54.508Z"
   },
   {
    "duration": 6,
    "start_time": "2023-06-02T08:55:54.540Z"
   },
   {
    "duration": 740,
    "start_time": "2023-06-02T08:55:54.547Z"
   },
   {
    "duration": 6,
    "start_time": "2023-06-02T08:55:55.288Z"
   },
   {
    "duration": 26,
    "start_time": "2023-06-02T08:55:55.296Z"
   },
   {
    "duration": 6,
    "start_time": "2023-06-02T08:55:55.324Z"
   },
   {
    "duration": 10,
    "start_time": "2023-06-02T08:55:55.342Z"
   },
   {
    "duration": 11,
    "start_time": "2023-06-02T08:55:55.353Z"
   },
   {
    "duration": 17,
    "start_time": "2023-06-02T08:55:55.366Z"
   },
   {
    "duration": 5,
    "start_time": "2023-06-02T08:55:55.385Z"
   },
   {
    "duration": 53,
    "start_time": "2023-06-02T08:55:55.392Z"
   },
   {
    "duration": 107,
    "start_time": "2023-06-02T08:55:55.446Z"
   },
   {
    "duration": 89,
    "start_time": "2023-06-02T08:55:55.555Z"
   },
   {
    "duration": 483,
    "start_time": "2023-06-02T08:55:55.645Z"
   },
   {
    "duration": 29,
    "start_time": "2023-06-02T08:55:56.130Z"
   },
   {
    "duration": 6,
    "start_time": "2023-06-02T08:56:03.876Z"
   },
   {
    "duration": 5,
    "start_time": "2023-06-02T08:56:04.512Z"
   },
   {
    "duration": 6,
    "start_time": "2023-06-02T08:56:05.545Z"
   },
   {
    "duration": 10,
    "start_time": "2023-06-02T08:56:15.262Z"
   },
   {
    "duration": 4,
    "start_time": "2023-06-02T08:56:26.876Z"
   },
   {
    "duration": 6,
    "start_time": "2023-06-02T09:14:25.580Z"
   },
   {
    "duration": 10,
    "start_time": "2023-06-02T09:14:49.701Z"
   },
   {
    "duration": 8,
    "start_time": "2023-06-02T09:14:54.260Z"
   },
   {
    "duration": 1488,
    "start_time": "2023-06-02T09:15:04.756Z"
   },
   {
    "duration": 34,
    "start_time": "2023-06-02T09:15:06.247Z"
   },
   {
    "duration": 186,
    "start_time": "2023-06-02T09:15:06.283Z"
   },
   {
    "duration": 86,
    "start_time": "2023-06-02T09:15:06.471Z"
   },
   {
    "duration": 106,
    "start_time": "2023-06-02T09:15:06.559Z"
   },
   {
    "duration": 58,
    "start_time": "2023-06-02T09:15:06.667Z"
   },
   {
    "duration": 33,
    "start_time": "2023-06-02T09:15:06.727Z"
   },
   {
    "duration": 42,
    "start_time": "2023-06-02T09:15:06.762Z"
   },
   {
    "duration": 886,
    "start_time": "2023-06-02T09:15:06.806Z"
   },
   {
    "duration": 7,
    "start_time": "2023-06-02T09:15:07.694Z"
   },
   {
    "duration": 247,
    "start_time": "2023-06-02T09:15:07.703Z"
   },
   {
    "duration": 95,
    "start_time": "2023-06-02T09:15:07.952Z"
   },
   {
    "duration": 91,
    "start_time": "2023-06-02T09:15:08.048Z"
   },
   {
    "duration": 55,
    "start_time": "2023-06-02T09:15:08.143Z"
   },
   {
    "duration": 102,
    "start_time": "2023-06-02T09:15:08.201Z"
   },
   {
    "duration": 38,
    "start_time": "2023-06-02T09:15:08.306Z"
   },
   {
    "duration": 98,
    "start_time": "2023-06-02T09:15:08.347Z"
   },
   {
    "duration": 147,
    "start_time": "2023-06-02T09:15:08.447Z"
   },
   {
    "duration": 50,
    "start_time": "2023-06-02T09:15:08.595Z"
   },
   {
    "duration": 502,
    "start_time": "2023-06-02T09:15:08.647Z"
   },
   {
    "duration": 27,
    "start_time": "2023-06-02T09:15:09.150Z"
   },
   {
    "duration": 1442,
    "start_time": "2023-06-02T09:15:54.162Z"
   },
   {
    "duration": 29,
    "start_time": "2023-06-02T09:15:55.607Z"
   },
   {
    "duration": 70,
    "start_time": "2023-06-02T09:15:55.638Z"
   },
   {
    "duration": 67,
    "start_time": "2023-06-02T09:15:55.710Z"
   },
   {
    "duration": 68,
    "start_time": "2023-06-02T09:15:55.780Z"
   },
   {
    "duration": 54,
    "start_time": "2023-06-02T09:15:55.850Z"
   },
   {
    "duration": 81,
    "start_time": "2023-06-02T09:15:55.906Z"
   },
   {
    "duration": 140,
    "start_time": "2023-06-02T09:15:55.988Z"
   },
   {
    "duration": 1071,
    "start_time": "2023-06-02T09:15:56.131Z"
   },
   {
    "duration": 7,
    "start_time": "2023-06-02T09:15:57.205Z"
   },
   {
    "duration": 159,
    "start_time": "2023-06-02T09:15:57.214Z"
   },
   {
    "duration": 108,
    "start_time": "2023-06-02T09:15:57.375Z"
   },
   {
    "duration": 146,
    "start_time": "2023-06-02T09:15:57.485Z"
   },
   {
    "duration": 121,
    "start_time": "2023-06-02T09:15:57.634Z"
   },
   {
    "duration": 133,
    "start_time": "2023-06-02T09:15:57.757Z"
   },
   {
    "duration": 117,
    "start_time": "2023-06-02T09:15:57.892Z"
   },
   {
    "duration": 96,
    "start_time": "2023-06-02T09:15:58.011Z"
   },
   {
    "duration": 195,
    "start_time": "2023-06-02T09:15:58.112Z"
   },
   {
    "duration": 96,
    "start_time": "2023-06-02T09:15:58.310Z"
   },
   {
    "duration": 522,
    "start_time": "2023-06-02T09:15:58.408Z"
   },
   {
    "duration": 32,
    "start_time": "2023-06-02T09:15:58.932Z"
   },
   {
    "duration": 4,
    "start_time": "2023-06-02T10:13:40.849Z"
   },
   {
    "duration": 16,
    "start_time": "2023-06-02T10:15:57.888Z"
   },
   {
    "duration": 15,
    "start_time": "2023-06-02T10:19:00.766Z"
   },
   {
    "duration": 260,
    "start_time": "2023-06-02T10:19:55.864Z"
   },
   {
    "duration": 9,
    "start_time": "2023-06-02T10:22:57.481Z"
   },
   {
    "duration": 10,
    "start_time": "2023-06-02T10:23:12.613Z"
   },
   {
    "duration": 10,
    "start_time": "2023-06-02T10:23:21.552Z"
   },
   {
    "duration": 11,
    "start_time": "2023-06-02T10:23:21.752Z"
   },
   {
    "duration": 15,
    "start_time": "2023-06-02T10:23:51.589Z"
   },
   {
    "duration": 10,
    "start_time": "2023-06-02T10:23:52.753Z"
   },
   {
    "duration": 27,
    "start_time": "2023-06-02T10:24:51.710Z"
   },
   {
    "duration": 58,
    "start_time": "2023-06-02T10:25:02.790Z"
   },
   {
    "duration": 57,
    "start_time": "2023-06-02T10:50:37.432Z"
   },
   {
    "duration": 4,
    "start_time": "2023-06-02T10:55:09.683Z"
   },
   {
    "duration": 4,
    "start_time": "2023-06-02T10:55:57.849Z"
   },
   {
    "duration": 19,
    "start_time": "2023-06-02T10:56:09.124Z"
   },
   {
    "duration": 5,
    "start_time": "2023-06-02T10:56:14.461Z"
   },
   {
    "duration": 4,
    "start_time": "2023-06-02T10:56:15.900Z"
   },
   {
    "duration": 13,
    "start_time": "2023-06-02T10:56:22.592Z"
   },
   {
    "duration": 15,
    "start_time": "2023-06-02T10:56:24.741Z"
   },
   {
    "duration": 10,
    "start_time": "2023-06-02T10:56:26.865Z"
   },
   {
    "duration": 34,
    "start_time": "2023-06-02T10:56:28.565Z"
   },
   {
    "duration": 4,
    "start_time": "2023-06-02T10:56:28.742Z"
   },
   {
    "duration": 15,
    "start_time": "2023-06-02T10:56:30.170Z"
   },
   {
    "duration": 1368,
    "start_time": "2023-06-02T10:56:35.141Z"
   },
   {
    "duration": 29,
    "start_time": "2023-06-02T10:56:36.511Z"
   },
   {
    "duration": 19,
    "start_time": "2023-06-02T10:56:36.542Z"
   },
   {
    "duration": 12,
    "start_time": "2023-06-02T10:56:36.563Z"
   },
   {
    "duration": 28,
    "start_time": "2023-06-02T10:56:36.577Z"
   },
   {
    "duration": 7,
    "start_time": "2023-06-02T10:56:36.607Z"
   },
   {
    "duration": 31,
    "start_time": "2023-06-02T10:56:36.616Z"
   },
   {
    "duration": 10,
    "start_time": "2023-06-02T10:56:36.648Z"
   },
   {
    "duration": 768,
    "start_time": "2023-06-02T10:56:36.659Z"
   },
   {
    "duration": 13,
    "start_time": "2023-06-02T10:56:37.429Z"
   },
   {
    "duration": 12,
    "start_time": "2023-06-02T10:56:37.444Z"
   },
   {
    "duration": 18,
    "start_time": "2023-06-02T10:56:37.458Z"
   },
   {
    "duration": 105,
    "start_time": "2023-06-02T10:56:37.543Z"
   },
   {
    "duration": 290,
    "start_time": "2023-06-02T10:56:37.651Z"
   },
   {
    "duration": 6,
    "start_time": "2023-06-02T10:56:37.944Z"
   },
   {
    "duration": 99,
    "start_time": "2023-06-02T10:56:37.952Z"
   },
   {
    "duration": 120,
    "start_time": "2023-06-02T10:56:38.053Z"
   },
   {
    "duration": 10,
    "start_time": "2023-06-02T10:56:49.503Z"
   },
   {
    "duration": 5,
    "start_time": "2023-06-02T11:01:34.470Z"
   },
   {
    "duration": 4,
    "start_time": "2023-06-02T11:01:35.701Z"
   },
   {
    "duration": 12,
    "start_time": "2023-06-02T11:02:35.357Z"
   },
   {
    "duration": 1412,
    "start_time": "2023-06-02T11:02:53.970Z"
   },
   {
    "duration": 30,
    "start_time": "2023-06-02T11:02:55.384Z"
   },
   {
    "duration": 84,
    "start_time": "2023-06-02T11:02:55.417Z"
   },
   {
    "duration": 66,
    "start_time": "2023-06-02T11:02:55.503Z"
   },
   {
    "duration": 66,
    "start_time": "2023-06-02T11:02:55.572Z"
   },
   {
    "duration": 22,
    "start_time": "2023-06-02T11:02:55.640Z"
   },
   {
    "duration": 76,
    "start_time": "2023-06-02T11:02:55.664Z"
   },
   {
    "duration": 74,
    "start_time": "2023-06-02T11:02:55.743Z"
   },
   {
    "duration": 870,
    "start_time": "2023-06-02T11:02:55.819Z"
   },
   {
    "duration": 5,
    "start_time": "2023-06-02T11:02:56.692Z"
   },
   {
    "duration": 49,
    "start_time": "2023-06-02T11:02:56.699Z"
   },
   {
    "duration": 103,
    "start_time": "2023-06-02T11:02:56.750Z"
   },
   {
    "duration": 190,
    "start_time": "2023-06-02T11:02:56.856Z"
   },
   {
    "duration": 213,
    "start_time": "2023-06-02T11:02:57.049Z"
   },
   {
    "duration": 27,
    "start_time": "2023-06-02T11:02:57.343Z"
   },
   {
    "duration": 76,
    "start_time": "2023-06-02T11:02:57.373Z"
   },
   {
    "duration": 798,
    "start_time": "2023-06-02T11:02:57.451Z"
   },
   {
    "duration": 778,
    "start_time": "2023-06-02T11:03:15.069Z"
   },
   {
    "duration": 754,
    "start_time": "2023-06-02T11:04:46.713Z"
   },
   {
    "duration": 5,
    "start_time": "2023-06-02T11:04:53.865Z"
   },
   {
    "duration": 10,
    "start_time": "2023-06-02T11:04:54.215Z"
   },
   {
    "duration": 858,
    "start_time": "2023-06-02T11:04:56.417Z"
   },
   {
    "duration": 6,
    "start_time": "2023-06-02T11:08:59.262Z"
   },
   {
    "duration": 5,
    "start_time": "2023-06-02T11:09:13.318Z"
   },
   {
    "duration": 14,
    "start_time": "2023-06-02T11:09:20.893Z"
   },
   {
    "duration": 61,
    "start_time": "2023-06-02T11:12:27.366Z"
   },
   {
    "duration": 772,
    "start_time": "2023-06-02T11:12:31.957Z"
   },
   {
    "duration": 7,
    "start_time": "2023-06-02T11:12:41.798Z"
   },
   {
    "duration": 17,
    "start_time": "2023-06-02T11:13:46.459Z"
   },
   {
    "duration": 84,
    "start_time": "2023-06-02T11:14:37.761Z"
   },
   {
    "duration": 11,
    "start_time": "2023-06-02T11:15:40.726Z"
   },
   {
    "duration": 5,
    "start_time": "2023-06-02T11:15:48.215Z"
   },
   {
    "duration": 4,
    "start_time": "2023-06-02T11:18:15.553Z"
   },
   {
    "duration": 5,
    "start_time": "2023-06-02T11:18:22.910Z"
   },
   {
    "duration": 6,
    "start_time": "2023-06-02T11:18:25.410Z"
   },
   {
    "duration": 5,
    "start_time": "2023-06-02T11:18:25.582Z"
   },
   {
    "duration": 5,
    "start_time": "2023-06-02T11:18:25.723Z"
   },
   {
    "duration": 4,
    "start_time": "2023-06-02T11:18:40.865Z"
   },
   {
    "duration": 233,
    "start_time": "2023-06-02T11:18:51.659Z"
   },
   {
    "duration": 5,
    "start_time": "2023-06-02T11:18:52.070Z"
   },
   {
    "duration": 4,
    "start_time": "2023-06-02T11:19:03.887Z"
   },
   {
    "duration": 6,
    "start_time": "2023-06-02T11:19:04.619Z"
   },
   {
    "duration": 14,
    "start_time": "2023-06-02T11:19:17.971Z"
   },
   {
    "duration": 3,
    "start_time": "2023-06-02T11:20:21.749Z"
   },
   {
    "duration": 6,
    "start_time": "2023-06-02T11:20:21.903Z"
   },
   {
    "duration": 18,
    "start_time": "2023-06-02T11:20:22.111Z"
   },
   {
    "duration": 13,
    "start_time": "2023-06-02T11:21:41.163Z"
   },
   {
    "duration": 12,
    "start_time": "2023-06-02T11:21:44.547Z"
   },
   {
    "duration": 13,
    "start_time": "2023-06-02T11:21:45.139Z"
   },
   {
    "duration": 1399,
    "start_time": "2023-06-02T11:21:54.542Z"
   },
   {
    "duration": 28,
    "start_time": "2023-06-02T11:21:55.943Z"
   },
   {
    "duration": 16,
    "start_time": "2023-06-02T11:21:55.973Z"
   },
   {
    "duration": 12,
    "start_time": "2023-06-02T11:21:55.990Z"
   },
   {
    "duration": 11,
    "start_time": "2023-06-02T11:21:56.005Z"
   },
   {
    "duration": 30,
    "start_time": "2023-06-02T11:21:56.018Z"
   },
   {
    "duration": 6,
    "start_time": "2023-06-02T11:21:56.049Z"
   },
   {
    "duration": 13,
    "start_time": "2023-06-02T11:21:56.057Z"
   },
   {
    "duration": 11,
    "start_time": "2023-06-02T11:21:56.071Z"
   },
   {
    "duration": 773,
    "start_time": "2023-06-02T11:21:56.084Z"
   },
   {
    "duration": 4,
    "start_time": "2023-06-02T11:21:56.860Z"
   },
   {
    "duration": 6,
    "start_time": "2023-06-02T11:21:56.866Z"
   },
   {
    "duration": 11,
    "start_time": "2023-06-02T11:21:56.874Z"
   },
   {
    "duration": 101,
    "start_time": "2023-06-02T11:21:56.945Z"
   },
   {
    "duration": 210,
    "start_time": "2023-06-02T11:21:57.049Z"
   },
   {
    "duration": 108,
    "start_time": "2023-06-02T11:21:57.261Z"
   },
   {
    "duration": 13,
    "start_time": "2023-06-02T11:21:57.371Z"
   },
   {
    "duration": 52,
    "start_time": "2023-06-02T11:21:57.386Z"
   },
   {
    "duration": 0,
    "start_time": "2023-06-02T11:21:57.440Z"
   },
   {
    "duration": 7,
    "start_time": "2023-06-02T11:23:27.791Z"
   },
   {
    "duration": 7,
    "start_time": "2023-06-02T11:24:05.097Z"
   },
   {
    "duration": 24,
    "start_time": "2023-06-02T11:24:06.532Z"
   },
   {
    "duration": 1412,
    "start_time": "2023-06-02T11:24:51.955Z"
   },
   {
    "duration": 29,
    "start_time": "2023-06-02T11:24:53.369Z"
   },
   {
    "duration": 18,
    "start_time": "2023-06-02T11:24:53.400Z"
   },
   {
    "duration": 12,
    "start_time": "2023-06-02T11:24:53.420Z"
   },
   {
    "duration": 34,
    "start_time": "2023-06-02T11:24:53.434Z"
   },
   {
    "duration": 8,
    "start_time": "2023-06-02T11:24:53.470Z"
   },
   {
    "duration": 11,
    "start_time": "2023-06-02T11:24:53.480Z"
   },
   {
    "duration": 22,
    "start_time": "2023-06-02T11:24:53.493Z"
   },
   {
    "duration": 825,
    "start_time": "2023-06-02T11:24:53.517Z"
   },
   {
    "duration": 5,
    "start_time": "2023-06-02T11:24:54.346Z"
   },
   {
    "duration": 16,
    "start_time": "2023-06-02T11:24:54.353Z"
   },
   {
    "duration": 33,
    "start_time": "2023-06-02T11:24:54.371Z"
   },
   {
    "duration": 116,
    "start_time": "2023-06-02T11:24:54.442Z"
   },
   {
    "duration": 286,
    "start_time": "2023-06-02T11:24:54.560Z"
   },
   {
    "duration": 5,
    "start_time": "2023-06-02T11:24:54.849Z"
   },
   {
    "duration": 85,
    "start_time": "2023-06-02T11:24:54.857Z"
   },
   {
    "duration": 28,
    "start_time": "2023-06-02T11:24:54.944Z"
   },
   {
    "duration": 38,
    "start_time": "2023-06-02T11:24:54.974Z"
   },
   {
    "duration": 5,
    "start_time": "2023-06-02T11:27:11.800Z"
   },
   {
    "duration": 8,
    "start_time": "2023-06-02T11:27:12.504Z"
   },
   {
    "duration": 6,
    "start_time": "2023-06-02T11:27:23.154Z"
   },
   {
    "duration": 7,
    "start_time": "2023-06-02T11:27:23.546Z"
   },
   {
    "duration": 21,
    "start_time": "2023-06-02T11:27:25.361Z"
   },
   {
    "duration": 1554,
    "start_time": "2023-06-02T11:27:37.716Z"
   },
   {
    "duration": 32,
    "start_time": "2023-06-02T11:27:39.272Z"
   },
   {
    "duration": 34,
    "start_time": "2023-06-02T11:27:39.306Z"
   },
   {
    "duration": 29,
    "start_time": "2023-06-02T11:27:39.343Z"
   },
   {
    "duration": 25,
    "start_time": "2023-06-02T11:27:39.373Z"
   },
   {
    "duration": 6,
    "start_time": "2023-06-02T11:27:39.400Z"
   },
   {
    "duration": 17,
    "start_time": "2023-06-02T11:27:39.408Z"
   },
   {
    "duration": 10,
    "start_time": "2023-06-02T11:27:39.441Z"
   },
   {
    "duration": 790,
    "start_time": "2023-06-02T11:27:39.453Z"
   },
   {
    "duration": 4,
    "start_time": "2023-06-02T11:27:40.246Z"
   },
   {
    "duration": 8,
    "start_time": "2023-06-02T11:27:40.252Z"
   },
   {
    "duration": 85,
    "start_time": "2023-06-02T11:27:40.262Z"
   },
   {
    "duration": 122,
    "start_time": "2023-06-02T11:27:40.349Z"
   },
   {
    "duration": 271,
    "start_time": "2023-06-02T11:27:40.473Z"
   },
   {
    "duration": 6,
    "start_time": "2023-06-02T11:27:40.748Z"
   },
   {
    "duration": 93,
    "start_time": "2023-06-02T11:27:40.757Z"
   },
   {
    "duration": 11,
    "start_time": "2023-06-02T11:27:40.853Z"
   },
   {
    "duration": 26,
    "start_time": "2023-06-02T11:27:40.865Z"
   },
   {
    "duration": 23,
    "start_time": "2023-06-02T11:28:26.408Z"
   },
   {
    "duration": 16,
    "start_time": "2023-06-02T11:29:29.390Z"
   },
   {
    "duration": 1528,
    "start_time": "2023-06-02T11:29:49.346Z"
   },
   {
    "duration": 29,
    "start_time": "2023-06-02T11:29:50.876Z"
   },
   {
    "duration": 22,
    "start_time": "2023-06-02T11:29:50.907Z"
   },
   {
    "duration": 31,
    "start_time": "2023-06-02T11:29:50.930Z"
   },
   {
    "duration": 83,
    "start_time": "2023-06-02T11:29:50.963Z"
   },
   {
    "duration": 9,
    "start_time": "2023-06-02T11:29:51.047Z"
   },
   {
    "duration": 23,
    "start_time": "2023-06-02T11:29:51.059Z"
   },
   {
    "duration": 16,
    "start_time": "2023-06-02T11:29:51.084Z"
   },
   {
    "duration": 30,
    "start_time": "2023-06-02T11:29:51.102Z"
   },
   {
    "duration": 790,
    "start_time": "2023-06-02T11:29:51.134Z"
   },
   {
    "duration": 5,
    "start_time": "2023-06-02T11:29:51.926Z"
   },
   {
    "duration": 5,
    "start_time": "2023-06-02T11:29:51.941Z"
   },
   {
    "duration": 25,
    "start_time": "2023-06-02T11:29:51.947Z"
   },
   {
    "duration": 111,
    "start_time": "2023-06-02T11:29:52.042Z"
   },
   {
    "duration": 282,
    "start_time": "2023-06-02T11:29:52.161Z"
   },
   {
    "duration": 6,
    "start_time": "2023-06-02T11:29:52.445Z"
   },
   {
    "duration": 90,
    "start_time": "2023-06-02T11:29:52.453Z"
   },
   {
    "duration": 16,
    "start_time": "2023-06-02T11:29:52.546Z"
   },
   {
    "duration": 87,
    "start_time": "2023-06-02T11:29:52.565Z"
   },
   {
    "duration": 103,
    "start_time": "2023-06-02T11:30:15.103Z"
   },
   {
    "duration": 6,
    "start_time": "2023-06-02T11:30:39.591Z"
   },
   {
    "duration": 23,
    "start_time": "2023-06-02T11:30:43.543Z"
   },
   {
    "duration": 7,
    "start_time": "2023-06-02T11:30:56.263Z"
   },
   {
    "duration": 6,
    "start_time": "2023-06-02T11:32:11.269Z"
   },
   {
    "duration": 24,
    "start_time": "2023-06-02T11:32:12.083Z"
   },
   {
    "duration": 7,
    "start_time": "2023-06-02T11:32:27.695Z"
   },
   {
    "duration": 25,
    "start_time": "2023-06-02T11:32:30.684Z"
   },
   {
    "duration": 6,
    "start_time": "2023-06-02T11:32:39.868Z"
   },
   {
    "duration": 1342,
    "start_time": "2023-06-02T11:32:42.986Z"
   },
   {
    "duration": 29,
    "start_time": "2023-06-02T11:32:44.332Z"
   },
   {
    "duration": 19,
    "start_time": "2023-06-02T11:32:44.366Z"
   },
   {
    "duration": 13,
    "start_time": "2023-06-02T11:32:44.387Z"
   },
   {
    "duration": 27,
    "start_time": "2023-06-02T11:32:44.402Z"
   },
   {
    "duration": 15,
    "start_time": "2023-06-02T11:32:44.431Z"
   },
   {
    "duration": 16,
    "start_time": "2023-06-02T11:32:44.448Z"
   },
   {
    "duration": 9,
    "start_time": "2023-06-02T11:32:44.466Z"
   },
   {
    "duration": 16,
    "start_time": "2023-06-02T11:32:44.478Z"
   },
   {
    "duration": 841,
    "start_time": "2023-06-02T11:32:44.496Z"
   },
   {
    "duration": 4,
    "start_time": "2023-06-02T11:32:45.342Z"
   },
   {
    "duration": 11,
    "start_time": "2023-06-02T11:32:45.347Z"
   },
   {
    "duration": 86,
    "start_time": "2023-06-02T11:32:45.360Z"
   },
   {
    "duration": 108,
    "start_time": "2023-06-02T11:32:45.448Z"
   },
   {
    "duration": 289,
    "start_time": "2023-06-02T11:32:45.558Z"
   },
   {
    "duration": 7,
    "start_time": "2023-06-02T11:32:45.849Z"
   },
   {
    "duration": 87,
    "start_time": "2023-06-02T11:32:45.857Z"
   },
   {
    "duration": 9,
    "start_time": "2023-06-02T11:32:45.946Z"
   },
   {
    "duration": 24,
    "start_time": "2023-06-02T11:32:45.957Z"
   },
   {
    "duration": 127,
    "start_time": "2023-06-02T11:33:52.634Z"
   },
   {
    "duration": 10,
    "start_time": "2023-06-02T11:34:06.840Z"
   },
   {
    "duration": 24,
    "start_time": "2023-06-02T11:34:10.061Z"
   },
   {
    "duration": 6,
    "start_time": "2023-06-02T11:35:06.673Z"
   },
   {
    "duration": 21,
    "start_time": "2023-06-02T11:35:08.674Z"
   },
   {
    "duration": 12,
    "start_time": "2023-06-02T11:35:48.405Z"
   },
   {
    "duration": 11,
    "start_time": "2023-06-02T11:35:54.825Z"
   },
   {
    "duration": 104,
    "start_time": "2023-06-02T11:35:56.740Z"
   },
   {
    "duration": 45,
    "start_time": "2023-06-02T11:35:56.906Z"
   },
   {
    "duration": 1403,
    "start_time": "2023-06-02T11:36:00.801Z"
   },
   {
    "duration": 29,
    "start_time": "2023-06-02T11:36:02.207Z"
   },
   {
    "duration": 53,
    "start_time": "2023-06-02T11:36:02.238Z"
   },
   {
    "duration": 44,
    "start_time": "2023-06-02T11:36:02.294Z"
   },
   {
    "duration": 69,
    "start_time": "2023-06-02T11:36:02.340Z"
   },
   {
    "duration": 18,
    "start_time": "2023-06-02T11:36:02.410Z"
   },
   {
    "duration": 17,
    "start_time": "2023-06-02T11:36:02.430Z"
   },
   {
    "duration": 27,
    "start_time": "2023-06-02T11:36:02.449Z"
   },
   {
    "duration": 21,
    "start_time": "2023-06-02T11:36:02.478Z"
   },
   {
    "duration": 792,
    "start_time": "2023-06-02T11:36:02.501Z"
   },
   {
    "duration": 4,
    "start_time": "2023-06-02T11:36:03.295Z"
   },
   {
    "duration": 66,
    "start_time": "2023-06-02T11:36:03.301Z"
   },
   {
    "duration": 177,
    "start_time": "2023-06-02T11:36:03.369Z"
   },
   {
    "duration": 193,
    "start_time": "2023-06-02T11:36:03.549Z"
   },
   {
    "duration": 221,
    "start_time": "2023-06-02T11:36:03.744Z"
   },
   {
    "duration": 80,
    "start_time": "2023-06-02T11:36:03.967Z"
   },
   {
    "duration": 22,
    "start_time": "2023-06-02T11:36:04.049Z"
   },
   {
    "duration": 9,
    "start_time": "2023-06-02T11:36:04.073Z"
   },
   {
    "duration": 30,
    "start_time": "2023-06-02T11:36:04.084Z"
   },
   {
    "duration": 41,
    "start_time": "2023-06-02T11:36:04.116Z"
   },
   {
    "duration": 16,
    "start_time": "2023-06-02T11:36:46.486Z"
   },
   {
    "duration": 113,
    "start_time": "2023-06-02T11:39:39.643Z"
   },
   {
    "duration": 5,
    "start_time": "2023-06-02T11:40:41.259Z"
   },
   {
    "duration": 11,
    "start_time": "2023-06-02T11:40:43.759Z"
   },
   {
    "duration": 1386,
    "start_time": "2023-06-02T11:42:59.116Z"
   },
   {
    "duration": 29,
    "start_time": "2023-06-02T11:43:00.504Z"
   },
   {
    "duration": 86,
    "start_time": "2023-06-02T11:43:00.536Z"
   },
   {
    "duration": 57,
    "start_time": "2023-06-02T11:43:00.624Z"
   },
   {
    "duration": 66,
    "start_time": "2023-06-02T11:43:00.683Z"
   },
   {
    "duration": 25,
    "start_time": "2023-06-02T11:43:00.750Z"
   },
   {
    "duration": 43,
    "start_time": "2023-06-02T11:43:00.777Z"
   },
   {
    "duration": 26,
    "start_time": "2023-06-02T11:43:00.822Z"
   },
   {
    "duration": 42,
    "start_time": "2023-06-02T11:43:00.850Z"
   },
   {
    "duration": 813,
    "start_time": "2023-06-02T11:43:00.895Z"
   },
   {
    "duration": 5,
    "start_time": "2023-06-02T11:43:01.710Z"
   },
   {
    "duration": 31,
    "start_time": "2023-06-02T11:43:01.717Z"
   },
   {
    "duration": 48,
    "start_time": "2023-06-02T11:43:01.750Z"
   },
   {
    "duration": 187,
    "start_time": "2023-06-02T11:43:01.799Z"
   },
   {
    "duration": 171,
    "start_time": "2023-06-02T11:43:01.988Z"
   },
   {
    "duration": 89,
    "start_time": "2023-06-02T11:43:02.161Z"
   },
   {
    "duration": 15,
    "start_time": "2023-06-02T11:43:02.252Z"
   },
   {
    "duration": 10,
    "start_time": "2023-06-02T11:43:02.268Z"
   },
   {
    "duration": 29,
    "start_time": "2023-06-02T11:43:02.280Z"
   },
   {
    "duration": 32,
    "start_time": "2023-06-02T11:43:02.311Z"
   },
   {
    "duration": 4,
    "start_time": "2023-06-02T11:43:38.637Z"
   },
   {
    "duration": 11,
    "start_time": "2023-06-02T11:43:39.140Z"
   },
   {
    "duration": 25,
    "start_time": "2023-06-02T11:43:41.841Z"
   },
   {
    "duration": 1392,
    "start_time": "2023-06-02T11:43:49.545Z"
   },
   {
    "duration": 29,
    "start_time": "2023-06-02T11:43:50.938Z"
   },
   {
    "duration": 19,
    "start_time": "2023-06-02T11:43:50.969Z"
   },
   {
    "duration": 13,
    "start_time": "2023-06-02T11:43:50.990Z"
   },
   {
    "duration": 29,
    "start_time": "2023-06-02T11:43:51.005Z"
   },
   {
    "duration": 10,
    "start_time": "2023-06-02T11:43:51.036Z"
   },
   {
    "duration": 10,
    "start_time": "2023-06-02T11:43:51.048Z"
   },
   {
    "duration": 12,
    "start_time": "2023-06-02T11:43:51.061Z"
   },
   {
    "duration": 14,
    "start_time": "2023-06-02T11:43:51.075Z"
   },
   {
    "duration": 772,
    "start_time": "2023-06-02T11:43:51.091Z"
   },
   {
    "duration": 4,
    "start_time": "2023-06-02T11:43:51.865Z"
   },
   {
    "duration": 12,
    "start_time": "2023-06-02T11:43:51.871Z"
   },
   {
    "duration": 69,
    "start_time": "2023-06-02T11:43:51.884Z"
   },
   {
    "duration": 20,
    "start_time": "2023-06-02T11:43:52.041Z"
   },
   {
    "duration": 282,
    "start_time": "2023-06-02T11:43:52.062Z"
   },
   {
    "duration": 12,
    "start_time": "2023-06-02T11:43:52.347Z"
   },
   {
    "duration": 84,
    "start_time": "2023-06-02T11:43:52.361Z"
   },
   {
    "duration": 11,
    "start_time": "2023-06-02T11:43:52.446Z"
   },
   {
    "duration": 15,
    "start_time": "2023-06-02T11:43:52.459Z"
   },
   {
    "duration": 22,
    "start_time": "2023-06-02T11:43:52.476Z"
   },
   {
    "duration": 5,
    "start_time": "2023-06-02T11:50:17.700Z"
   },
   {
    "duration": 11,
    "start_time": "2023-06-02T11:50:18.954Z"
   },
   {
    "duration": 4,
    "start_time": "2023-06-02T11:51:15.664Z"
   },
   {
    "duration": 9,
    "start_time": "2023-06-02T11:51:58.655Z"
   },
   {
    "duration": 6,
    "start_time": "2023-06-02T11:58:18.590Z"
   },
   {
    "duration": 4,
    "start_time": "2023-06-02T11:58:19.353Z"
   },
   {
    "duration": 24,
    "start_time": "2023-06-02T11:58:20.294Z"
   },
   {
    "duration": 1471,
    "start_time": "2023-06-02T11:59:37.692Z"
   },
   {
    "duration": 30,
    "start_time": "2023-06-02T11:59:39.168Z"
   },
   {
    "duration": 25,
    "start_time": "2023-06-02T11:59:39.202Z"
   },
   {
    "duration": 12,
    "start_time": "2023-06-02T11:59:39.229Z"
   },
   {
    "duration": 43,
    "start_time": "2023-06-02T11:59:39.243Z"
   },
   {
    "duration": 8,
    "start_time": "2023-06-02T11:59:39.289Z"
   },
   {
    "duration": 8,
    "start_time": "2023-06-02T11:59:39.300Z"
   },
   {
    "duration": 16,
    "start_time": "2023-06-02T11:59:39.309Z"
   },
   {
    "duration": 26,
    "start_time": "2023-06-02T11:59:39.327Z"
   },
   {
    "duration": 846,
    "start_time": "2023-06-02T11:59:39.355Z"
   },
   {
    "duration": 5,
    "start_time": "2023-06-02T11:59:40.204Z"
   },
   {
    "duration": 13,
    "start_time": "2023-06-02T11:59:40.212Z"
   },
   {
    "duration": 128,
    "start_time": "2023-06-02T11:59:40.228Z"
   },
   {
    "duration": 114,
    "start_time": "2023-06-02T11:59:40.441Z"
   },
   {
    "duration": 105,
    "start_time": "2023-06-02T11:59:40.641Z"
   },
   {
    "duration": 6,
    "start_time": "2023-06-02T11:59:40.748Z"
   },
   {
    "duration": 96,
    "start_time": "2023-06-02T11:59:40.756Z"
   },
   {
    "duration": 31,
    "start_time": "2023-06-02T11:59:40.854Z"
   },
   {
    "duration": 7,
    "start_time": "2023-06-02T12:04:30.146Z"
   },
   {
    "duration": 23,
    "start_time": "2023-06-02T12:04:31.257Z"
   },
   {
    "duration": 5,
    "start_time": "2023-06-02T12:04:45.425Z"
   },
   {
    "duration": 7,
    "start_time": "2023-06-02T12:04:45.607Z"
   },
   {
    "duration": 24,
    "start_time": "2023-06-02T12:04:46.989Z"
   },
   {
    "duration": 1493,
    "start_time": "2023-06-02T12:08:20.503Z"
   },
   {
    "duration": 40,
    "start_time": "2023-06-02T12:08:21.998Z"
   },
   {
    "duration": 37,
    "start_time": "2023-06-02T12:08:22.040Z"
   },
   {
    "duration": 31,
    "start_time": "2023-06-02T12:08:22.080Z"
   },
   {
    "duration": 65,
    "start_time": "2023-06-02T12:08:22.114Z"
   },
   {
    "duration": 11,
    "start_time": "2023-06-02T12:08:22.182Z"
   },
   {
    "duration": 12,
    "start_time": "2023-06-02T12:08:22.195Z"
   },
   {
    "duration": 29,
    "start_time": "2023-06-02T12:08:22.209Z"
   },
   {
    "duration": 28,
    "start_time": "2023-06-02T12:08:22.241Z"
   },
   {
    "duration": 810,
    "start_time": "2023-06-02T12:08:22.272Z"
   },
   {
    "duration": 6,
    "start_time": "2023-06-02T12:08:23.084Z"
   },
   {
    "duration": 14,
    "start_time": "2023-06-02T12:08:23.091Z"
   },
   {
    "duration": 43,
    "start_time": "2023-06-02T12:08:23.107Z"
   },
   {
    "duration": 226,
    "start_time": "2023-06-02T12:08:23.156Z"
   },
   {
    "duration": 269,
    "start_time": "2023-06-02T12:08:23.385Z"
   },
   {
    "duration": 84,
    "start_time": "2023-06-02T12:08:23.659Z"
   },
   {
    "duration": 53,
    "start_time": "2023-06-02T12:08:23.745Z"
   },
   {
    "duration": 62,
    "start_time": "2023-06-02T12:08:23.800Z"
   },
   {
    "duration": 6,
    "start_time": "2023-06-02T12:08:48.179Z"
   },
   {
    "duration": 28,
    "start_time": "2023-06-02T12:08:50.054Z"
   },
   {
    "duration": 1406,
    "start_time": "2023-06-02T12:32:41.787Z"
   },
   {
    "duration": 29,
    "start_time": "2023-06-02T12:32:43.195Z"
   },
   {
    "duration": 22,
    "start_time": "2023-06-02T12:32:43.226Z"
   },
   {
    "duration": 13,
    "start_time": "2023-06-02T12:32:43.250Z"
   },
   {
    "duration": 24,
    "start_time": "2023-06-02T12:32:43.265Z"
   },
   {
    "duration": 7,
    "start_time": "2023-06-02T12:32:43.291Z"
   },
   {
    "duration": 21,
    "start_time": "2023-06-02T12:32:43.300Z"
   },
   {
    "duration": 10,
    "start_time": "2023-06-02T12:32:43.343Z"
   },
   {
    "duration": 19,
    "start_time": "2023-06-02T12:32:43.355Z"
   },
   {
    "duration": 887,
    "start_time": "2023-06-02T12:32:43.377Z"
   },
   {
    "duration": 4,
    "start_time": "2023-06-02T12:32:44.266Z"
   },
   {
    "duration": 9,
    "start_time": "2023-06-02T12:32:44.272Z"
   },
   {
    "duration": 59,
    "start_time": "2023-06-02T12:32:44.283Z"
   },
   {
    "duration": 10,
    "start_time": "2023-06-02T12:32:44.344Z"
   },
   {
    "duration": 5,
    "start_time": "2023-06-02T14:56:34.252Z"
   },
   {
    "duration": 16,
    "start_time": "2023-06-02T14:56:48.803Z"
   },
   {
    "duration": 5,
    "start_time": "2023-06-02T14:57:13.099Z"
   },
   {
    "duration": 124,
    "start_time": "2023-06-02T14:58:28.795Z"
   },
   {
    "duration": 4,
    "start_time": "2023-06-02T14:58:38.155Z"
   },
   {
    "duration": 4,
    "start_time": "2023-06-02T14:58:50.380Z"
   },
   {
    "duration": 5,
    "start_time": "2023-06-02T14:59:49.315Z"
   },
   {
    "duration": 14,
    "start_time": "2023-06-02T14:59:54.684Z"
   },
   {
    "duration": 22,
    "start_time": "2023-06-02T15:00:07.551Z"
   },
   {
    "duration": 5,
    "start_time": "2023-06-02T15:00:21.908Z"
   },
   {
    "duration": 31,
    "start_time": "2023-06-02T15:00:22.316Z"
   },
   {
    "duration": 87,
    "start_time": "2023-06-02T15:01:40.956Z"
   },
   {
    "duration": 1482,
    "start_time": "2023-06-02T15:03:04.896Z"
   },
   {
    "duration": 30,
    "start_time": "2023-06-02T15:03:06.380Z"
   },
   {
    "duration": 28,
    "start_time": "2023-06-02T15:03:06.412Z"
   },
   {
    "duration": 27,
    "start_time": "2023-06-02T15:03:06.442Z"
   },
   {
    "duration": 49,
    "start_time": "2023-06-02T15:03:06.471Z"
   },
   {
    "duration": 8,
    "start_time": "2023-06-02T15:03:06.522Z"
   },
   {
    "duration": 8,
    "start_time": "2023-06-02T15:03:06.544Z"
   },
   {
    "duration": 29,
    "start_time": "2023-06-02T15:03:06.554Z"
   },
   {
    "duration": 27,
    "start_time": "2023-06-02T15:03:06.585Z"
   },
   {
    "duration": 812,
    "start_time": "2023-06-02T15:03:06.615Z"
   },
   {
    "duration": 13,
    "start_time": "2023-06-02T15:03:07.429Z"
   },
   {
    "duration": 5,
    "start_time": "2023-06-02T15:03:07.444Z"
   },
   {
    "duration": 190,
    "start_time": "2023-06-02T15:03:07.451Z"
   },
   {
    "duration": 100,
    "start_time": "2023-06-02T15:03:07.645Z"
   },
   {
    "duration": 195,
    "start_time": "2023-06-02T15:03:07.748Z"
   },
   {
    "duration": 6,
    "start_time": "2023-06-02T15:03:07.945Z"
   },
   {
    "duration": 90,
    "start_time": "2023-06-02T15:03:07.955Z"
   },
   {
    "duration": 38,
    "start_time": "2023-06-02T15:03:08.047Z"
   },
   {
    "duration": 4045,
    "start_time": "2023-06-03T15:23:15.014Z"
   },
   {
    "duration": 33,
    "start_time": "2023-06-03T15:23:19.061Z"
   },
   {
    "duration": 17,
    "start_time": "2023-06-03T15:23:19.096Z"
   },
   {
    "duration": 13,
    "start_time": "2023-06-03T15:23:19.116Z"
   },
   {
    "duration": 32,
    "start_time": "2023-06-03T15:23:19.131Z"
   },
   {
    "duration": 16,
    "start_time": "2023-06-03T15:23:19.165Z"
   },
   {
    "duration": 9,
    "start_time": "2023-06-03T15:23:19.183Z"
   },
   {
    "duration": 9,
    "start_time": "2023-06-03T15:23:19.195Z"
   },
   {
    "duration": 15,
    "start_time": "2023-06-03T15:23:19.207Z"
   },
   {
    "duration": 794,
    "start_time": "2023-06-03T15:23:19.225Z"
   },
   {
    "duration": 5,
    "start_time": "2023-06-03T15:23:20.021Z"
   },
   {
    "duration": 19,
    "start_time": "2023-06-03T15:23:20.028Z"
   },
   {
    "duration": 43,
    "start_time": "2023-06-03T15:23:20.050Z"
   },
   {
    "duration": 115,
    "start_time": "2023-06-03T15:23:20.178Z"
   },
   {
    "duration": 287,
    "start_time": "2023-06-03T15:23:20.294Z"
   },
   {
    "duration": 5,
    "start_time": "2023-06-03T15:23:20.583Z"
   },
   {
    "duration": 87,
    "start_time": "2023-06-03T15:23:20.590Z"
   },
   {
    "duration": 26,
    "start_time": "2023-06-03T15:23:20.679Z"
   },
   {
    "duration": 10,
    "start_time": "2023-06-03T15:23:26.349Z"
   },
   {
    "duration": 60,
    "start_time": "2023-06-03T15:23:37.229Z"
   },
   {
    "duration": 13,
    "start_time": "2023-06-03T15:23:41.929Z"
   },
   {
    "duration": 4,
    "start_time": "2023-06-03T15:23:51.517Z"
   },
   {
    "duration": 13,
    "start_time": "2023-06-03T15:24:12.249Z"
   },
   {
    "duration": 7,
    "start_time": "2023-06-03T15:24:40.559Z"
   },
   {
    "duration": 6,
    "start_time": "2023-06-03T15:24:51.637Z"
   },
   {
    "duration": 8,
    "start_time": "2023-06-03T15:24:56.562Z"
   },
   {
    "duration": 7,
    "start_time": "2023-06-03T15:29:06.674Z"
   },
   {
    "duration": 98,
    "start_time": "2023-06-03T15:29:33.445Z"
   },
   {
    "duration": 7,
    "start_time": "2023-06-03T15:29:38.037Z"
   },
   {
    "duration": 14,
    "start_time": "2023-06-03T15:29:47.601Z"
   },
   {
    "duration": 8,
    "start_time": "2023-06-03T15:29:52.403Z"
   },
   {
    "duration": 6,
    "start_time": "2023-06-03T15:30:00.209Z"
   },
   {
    "duration": 2098,
    "start_time": "2023-06-03T15:31:08.966Z"
   },
   {
    "duration": 33,
    "start_time": "2023-06-03T15:31:11.067Z"
   },
   {
    "duration": 22,
    "start_time": "2023-06-03T15:31:11.102Z"
   },
   {
    "duration": 22,
    "start_time": "2023-06-03T15:31:11.126Z"
   },
   {
    "duration": 34,
    "start_time": "2023-06-03T15:31:11.151Z"
   },
   {
    "duration": 7,
    "start_time": "2023-06-03T15:31:11.187Z"
   },
   {
    "duration": 14,
    "start_time": "2023-06-03T15:31:11.195Z"
   },
   {
    "duration": 29,
    "start_time": "2023-06-03T15:31:11.212Z"
   },
   {
    "duration": 24,
    "start_time": "2023-06-03T15:31:11.243Z"
   },
   {
    "duration": 809,
    "start_time": "2023-06-03T15:31:11.269Z"
   },
   {
    "duration": 4,
    "start_time": "2023-06-03T15:31:12.080Z"
   },
   {
    "duration": 16,
    "start_time": "2023-06-03T15:31:12.086Z"
   },
   {
    "duration": 37,
    "start_time": "2023-06-03T15:31:12.104Z"
   },
   {
    "duration": 110,
    "start_time": "2023-06-03T15:31:12.179Z"
   },
   {
    "duration": 285,
    "start_time": "2023-06-03T15:31:12.293Z"
   },
   {
    "duration": 211,
    "start_time": "2023-06-03T15:31:12.580Z"
   },
   {
    "duration": 0,
    "start_time": "2023-06-03T15:31:12.793Z"
   },
   {
    "duration": 6,
    "start_time": "2023-06-03T15:31:46.485Z"
   },
   {
    "duration": 6,
    "start_time": "2023-06-03T15:31:46.645Z"
   },
   {
    "duration": 25,
    "start_time": "2023-06-03T15:31:47.397Z"
   },
   {
    "duration": 1416,
    "start_time": "2023-06-03T16:10:35.547Z"
   },
   {
    "duration": 93,
    "start_time": "2023-06-03T16:10:36.965Z"
   },
   {
    "duration": 14,
    "start_time": "2023-06-03T16:10:37.060Z"
   },
   {
    "duration": 35,
    "start_time": "2023-06-03T16:10:37.076Z"
   },
   {
    "duration": 20,
    "start_time": "2023-06-03T16:10:37.113Z"
   },
   {
    "duration": 4,
    "start_time": "2023-06-03T16:10:37.135Z"
   },
   {
    "duration": 12,
    "start_time": "2023-06-03T16:10:37.141Z"
   },
   {
    "duration": 13,
    "start_time": "2023-06-03T16:10:37.154Z"
   },
   {
    "duration": 25,
    "start_time": "2023-06-03T16:10:37.168Z"
   },
   {
    "duration": 660,
    "start_time": "2023-06-03T16:10:37.196Z"
   },
   {
    "duration": 5,
    "start_time": "2023-06-03T16:10:37.858Z"
   },
   {
    "duration": 7,
    "start_time": "2023-06-03T16:10:37.864Z"
   },
   {
    "duration": 57,
    "start_time": "2023-06-03T16:10:37.872Z"
   },
   {
    "duration": 192,
    "start_time": "2023-06-03T16:10:37.933Z"
   },
   {
    "duration": 203,
    "start_time": "2023-06-03T16:10:38.127Z"
   },
   {
    "duration": 5,
    "start_time": "2023-06-03T16:10:38.333Z"
   },
   {
    "duration": 87,
    "start_time": "2023-06-03T16:10:38.340Z"
   },
   {
    "duration": 47,
    "start_time": "2023-06-03T16:10:38.429Z"
   },
   {
    "duration": 1237,
    "start_time": "2023-06-03T16:10:59.522Z"
   },
   {
    "duration": 28,
    "start_time": "2023-06-03T16:11:00.760Z"
   },
   {
    "duration": 32,
    "start_time": "2023-06-03T16:11:00.789Z"
   },
   {
    "duration": 60,
    "start_time": "2023-06-03T16:11:00.823Z"
   },
   {
    "duration": 69,
    "start_time": "2023-06-03T16:11:00.885Z"
   },
   {
    "duration": 109,
    "start_time": "2023-06-03T16:11:00.955Z"
   },
   {
    "duration": 207,
    "start_time": "2023-06-03T16:11:01.065Z"
   },
   {
    "duration": 86,
    "start_time": "2023-06-03T16:11:01.273Z"
   },
   {
    "duration": 99,
    "start_time": "2023-06-03T16:11:01.361Z"
   },
   {
    "duration": 702,
    "start_time": "2023-06-03T16:11:01.463Z"
   },
   {
    "duration": 4,
    "start_time": "2023-06-03T16:11:02.166Z"
   },
   {
    "duration": 19,
    "start_time": "2023-06-03T16:11:02.172Z"
   },
   {
    "duration": 36,
    "start_time": "2023-06-03T16:11:02.193Z"
   },
   {
    "duration": 205,
    "start_time": "2023-06-03T16:11:02.230Z"
   },
   {
    "duration": 211,
    "start_time": "2023-06-03T16:11:02.437Z"
   },
   {
    "duration": 76,
    "start_time": "2023-06-03T16:11:02.650Z"
   },
   {
    "duration": 98,
    "start_time": "2023-06-03T16:11:02.728Z"
   },
   {
    "duration": 34,
    "start_time": "2023-06-03T16:11:02.827Z"
   },
   {
    "duration": 4,
    "start_time": "2023-06-03T16:11:27.014Z"
   },
   {
    "duration": 4,
    "start_time": "2023-06-03T16:11:27.195Z"
   },
   {
    "duration": 20,
    "start_time": "2023-06-03T16:11:27.363Z"
   },
   {
    "duration": 5,
    "start_time": "2023-06-03T16:18:00.616Z"
   },
   {
    "duration": 21,
    "start_time": "2023-06-03T16:18:02.260Z"
   },
   {
    "duration": 1368,
    "start_time": "2023-06-03T17:06:30.993Z"
   },
   {
    "duration": 28,
    "start_time": "2023-06-03T17:06:32.363Z"
   },
   {
    "duration": 16,
    "start_time": "2023-06-03T17:06:32.392Z"
   },
   {
    "duration": 37,
    "start_time": "2023-06-03T17:06:32.410Z"
   },
   {
    "duration": 43,
    "start_time": "2023-06-03T17:06:32.449Z"
   },
   {
    "duration": 7,
    "start_time": "2023-06-03T17:06:32.494Z"
   },
   {
    "duration": 18,
    "start_time": "2023-06-03T17:06:32.502Z"
   },
   {
    "duration": 20,
    "start_time": "2023-06-03T17:06:32.521Z"
   },
   {
    "duration": 20,
    "start_time": "2023-06-03T17:06:32.543Z"
   },
   {
    "duration": 721,
    "start_time": "2023-06-03T17:06:32.566Z"
   },
   {
    "duration": 4,
    "start_time": "2023-06-03T17:06:33.289Z"
   },
   {
    "duration": 17,
    "start_time": "2023-06-03T17:06:33.295Z"
   },
   {
    "duration": 23,
    "start_time": "2023-06-03T17:06:33.314Z"
   },
   {
    "duration": 107,
    "start_time": "2023-06-03T17:06:33.424Z"
   },
   {
    "duration": 292,
    "start_time": "2023-06-03T17:06:33.534Z"
   },
   {
    "duration": 5,
    "start_time": "2023-06-03T17:06:33.829Z"
   },
   {
    "duration": 90,
    "start_time": "2023-06-03T17:06:33.837Z"
   },
   {
    "duration": 31,
    "start_time": "2023-06-03T17:06:33.929Z"
   },
   {
    "duration": 1208,
    "start_time": "2023-06-03T17:07:04.682Z"
   },
   {
    "duration": 28,
    "start_time": "2023-06-03T17:07:05.892Z"
   },
   {
    "duration": 16,
    "start_time": "2023-06-03T17:07:05.922Z"
   },
   {
    "duration": 11,
    "start_time": "2023-06-03T17:07:05.940Z"
   },
   {
    "duration": 26,
    "start_time": "2023-06-03T17:07:05.953Z"
   },
   {
    "duration": 6,
    "start_time": "2023-06-03T17:07:05.980Z"
   },
   {
    "duration": 10,
    "start_time": "2023-06-03T17:07:05.987Z"
   },
   {
    "duration": 31,
    "start_time": "2023-06-03T17:07:05.999Z"
   },
   {
    "duration": 18,
    "start_time": "2023-06-03T17:07:06.031Z"
   },
   {
    "duration": 712,
    "start_time": "2023-06-03T17:07:06.050Z"
   },
   {
    "duration": 4,
    "start_time": "2023-06-03T17:07:06.764Z"
   },
   {
    "duration": 6,
    "start_time": "2023-06-03T17:07:06.769Z"
   },
   {
    "duration": 60,
    "start_time": "2023-06-03T17:07:06.777Z"
   },
   {
    "duration": 101,
    "start_time": "2023-06-03T17:07:06.839Z"
   },
   {
    "duration": 290,
    "start_time": "2023-06-03T17:07:06.942Z"
   },
   {
    "duration": 4,
    "start_time": "2023-06-03T17:07:07.234Z"
   },
   {
    "duration": 84,
    "start_time": "2023-06-03T17:07:07.241Z"
   },
   {
    "duration": 21,
    "start_time": "2023-06-03T17:07:07.326Z"
   }
  ],
  "kernelspec": {
   "display_name": "Python 3 (ipykernel)",
   "language": "python",
   "name": "python3"
  },
  "language_info": {
   "codemirror_mode": {
    "name": "ipython",
    "version": 3
   },
   "file_extension": ".py",
   "mimetype": "text/x-python",
   "name": "python",
   "nbconvert_exporter": "python",
   "pygments_lexer": "ipython3",
   "version": "3.9.16"
  },
  "toc": {
   "base_numbering": 1,
   "nav_menu": {},
   "number_sections": true,
   "sideBar": true,
   "skip_h1_title": true,
   "title_cell": "Содержание",
   "title_sidebar": "Contents",
   "toc_cell": true,
   "toc_position": {
    "height": "calc(100% - 180px)",
    "left": "10px",
    "top": "150px",
    "width": "290.875px"
   },
   "toc_section_display": true,
   "toc_window_display": true
  }
 },
 "nbformat": 4,
 "nbformat_minor": 4
}
