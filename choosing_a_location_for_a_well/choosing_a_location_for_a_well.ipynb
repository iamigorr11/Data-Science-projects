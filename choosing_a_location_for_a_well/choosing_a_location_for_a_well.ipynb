{
 "cells": [
  {
   "cell_type": "markdown",
   "metadata": {},
   "source": [
    "## Загрузка и подготовка данных"
   ]
  },
  {
   "cell_type": "markdown",
   "metadata": {},
   "source": [
    "Импортируем все необходимые для работы библиотеки и инструменты"
   ]
  },
  {
   "cell_type": "code",
   "execution_count": 1,
   "metadata": {},
   "outputs": [],
   "source": [
    "import pandas as pd\n",
    "import matplotlib.pyplot as plt\n",
    "import numpy as np\n",
    "from sklearn.model_selection import train_test_split\n",
    "from sklearn.preprocessing import StandardScaler\n",
    "from sklearn.linear_model import LinearRegression\n",
    "from sklearn.metrics import mean_squared_error"
   ]
  },
  {
   "cell_type": "code",
   "execution_count": 2,
   "metadata": {},
   "outputs": [],
   "source": [
    "geo_data_0 = pd.read_csv('/datasets/geo_data_0.csv')\n",
    "geo_data_1 = pd.read_csv('/datasets/geo_data_1.csv')\n",
    "geo_data_2 = pd.read_csv('/datasets/geo_data_2.csv')"
   ]
  },
  {
   "cell_type": "markdown",
   "metadata": {},
   "source": [
    "Рассмотрим первые 5 строк датасетов и информацию о них."
   ]
  },
  {
   "cell_type": "code",
   "execution_count": 3,
   "metadata": {},
   "outputs": [],
   "source": [
    "def first_view(data, number):\n",
    "    return (\n",
    "        print(\"\"),\n",
    "        print(\"\\033[1m\" + \"Первые 5 строк датасета geo_data_\", number, \".\" + \"\\033[0m\"),\n",
    "        display(data.head()),\n",
    "        print(\"\\033[1m\" + \"Информация о датасете geo_data_\", number, \".\" + \"\\033[0m\"),\n",
    "        print(\"\"),\n",
    "        print(data.info()),\n",
    "        print(\"\\033[1m\" + \"Пропуски в датасете geo_data_\", number, \".\" + \"\\033[0m\"),\n",
    "        print(\"\"),\n",
    "        print(data.isna().sum()),\n",
    "        print(\"\\033[1m\" + \"Статистика для датасета geo_data_\", number, \".\" + \"\\033[0m\"),\n",
    "        print(\"\"),\n",
    "        print(data.describe()),\n",
    "        print(\n",
    "            \"\\033[1m\" + \"Сумма уникальных значений признаков для датасета geo_data_\",\n",
    "            number,\n",
    "            \".\" + \"\\033[0m\",\n",
    "        ),\n",
    "        print(\"\"),\n",
    "        print(data.nunique()),\n",
    "    )"
   ]
  },
  {
   "cell_type": "code",
   "execution_count": 4,
   "metadata": {},
   "outputs": [
    {
     "name": "stdout",
     "output_type": "stream",
     "text": [
      "\n",
      "\u001b[1mПервые 5 строк датасета geo_data_ 0 .\u001b[0m\n"
     ]
    },
    {
     "data": {
      "text/html": [
       "<div>\n",
       "<style scoped>\n",
       "    .dataframe tbody tr th:only-of-type {\n",
       "        vertical-align: middle;\n",
       "    }\n",
       "\n",
       "    .dataframe tbody tr th {\n",
       "        vertical-align: top;\n",
       "    }\n",
       "\n",
       "    .dataframe thead th {\n",
       "        text-align: right;\n",
       "    }\n",
       "</style>\n",
       "<table border=\"1\" class=\"dataframe\">\n",
       "  <thead>\n",
       "    <tr style=\"text-align: right;\">\n",
       "      <th></th>\n",
       "      <th>id</th>\n",
       "      <th>f0</th>\n",
       "      <th>f1</th>\n",
       "      <th>f2</th>\n",
       "      <th>product</th>\n",
       "    </tr>\n",
       "  </thead>\n",
       "  <tbody>\n",
       "    <tr>\n",
       "      <th>0</th>\n",
       "      <td>txEyH</td>\n",
       "      <td>0.705745</td>\n",
       "      <td>-0.497823</td>\n",
       "      <td>1.221170</td>\n",
       "      <td>105.280062</td>\n",
       "    </tr>\n",
       "    <tr>\n",
       "      <th>1</th>\n",
       "      <td>2acmU</td>\n",
       "      <td>1.334711</td>\n",
       "      <td>-0.340164</td>\n",
       "      <td>4.365080</td>\n",
       "      <td>73.037750</td>\n",
       "    </tr>\n",
       "    <tr>\n",
       "      <th>2</th>\n",
       "      <td>409Wp</td>\n",
       "      <td>1.022732</td>\n",
       "      <td>0.151990</td>\n",
       "      <td>1.419926</td>\n",
       "      <td>85.265647</td>\n",
       "    </tr>\n",
       "    <tr>\n",
       "      <th>3</th>\n",
       "      <td>iJLyR</td>\n",
       "      <td>-0.032172</td>\n",
       "      <td>0.139033</td>\n",
       "      <td>2.978566</td>\n",
       "      <td>168.620776</td>\n",
       "    </tr>\n",
       "    <tr>\n",
       "      <th>4</th>\n",
       "      <td>Xdl7t</td>\n",
       "      <td>1.988431</td>\n",
       "      <td>0.155413</td>\n",
       "      <td>4.751769</td>\n",
       "      <td>154.036647</td>\n",
       "    </tr>\n",
       "  </tbody>\n",
       "</table>\n",
       "</div>"
      ],
      "text/plain": [
       "      id        f0        f1        f2     product\n",
       "0  txEyH  0.705745 -0.497823  1.221170  105.280062\n",
       "1  2acmU  1.334711 -0.340164  4.365080   73.037750\n",
       "2  409Wp  1.022732  0.151990  1.419926   85.265647\n",
       "3  iJLyR -0.032172  0.139033  2.978566  168.620776\n",
       "4  Xdl7t  1.988431  0.155413  4.751769  154.036647"
      ]
     },
     "metadata": {},
     "output_type": "display_data"
    },
    {
     "name": "stdout",
     "output_type": "stream",
     "text": [
      "\u001b[1mИнформация о датасете geo_data_ 0 .\u001b[0m\n",
      "\n",
      "<class 'pandas.core.frame.DataFrame'>\n",
      "RangeIndex: 100000 entries, 0 to 99999\n",
      "Data columns (total 5 columns):\n",
      " #   Column   Non-Null Count   Dtype  \n",
      "---  ------   --------------   -----  \n",
      " 0   id       100000 non-null  object \n",
      " 1   f0       100000 non-null  float64\n",
      " 2   f1       100000 non-null  float64\n",
      " 3   f2       100000 non-null  float64\n",
      " 4   product  100000 non-null  float64\n",
      "dtypes: float64(4), object(1)\n",
      "memory usage: 3.8+ MB\n",
      "None\n",
      "\u001b[1mПропуски в датасете geo_data_ 0 .\u001b[0m\n",
      "\n",
      "id         0\n",
      "f0         0\n",
      "f1         0\n",
      "f2         0\n",
      "product    0\n",
      "dtype: int64\n",
      "\u001b[1mСтатистика для датасета geo_data_ 0 .\u001b[0m\n",
      "\n",
      "                  f0             f1             f2        product\n",
      "count  100000.000000  100000.000000  100000.000000  100000.000000\n",
      "mean        0.500419       0.250143       2.502647      92.500000\n",
      "std         0.871832       0.504433       3.248248      44.288691\n",
      "min        -1.408605      -0.848218     -12.088328       0.000000\n",
      "25%        -0.072580      -0.200881       0.287748      56.497507\n",
      "50%         0.502360       0.250252       2.515969      91.849972\n",
      "75%         1.073581       0.700646       4.715088     128.564089\n",
      "max         2.362331       1.343769      16.003790     185.364347\n",
      "\u001b[1mСумма уникальных значений признаков для датасета geo_data_ 0 .\u001b[0m\n",
      "\n",
      "id          99990\n",
      "f0         100000\n",
      "f1         100000\n",
      "f2         100000\n",
      "product    100000\n",
      "dtype: int64\n",
      "\n",
      "\u001b[1mПервые 5 строк датасета geo_data_ 1 .\u001b[0m\n"
     ]
    },
    {
     "data": {
      "text/html": [
       "<div>\n",
       "<style scoped>\n",
       "    .dataframe tbody tr th:only-of-type {\n",
       "        vertical-align: middle;\n",
       "    }\n",
       "\n",
       "    .dataframe tbody tr th {\n",
       "        vertical-align: top;\n",
       "    }\n",
       "\n",
       "    .dataframe thead th {\n",
       "        text-align: right;\n",
       "    }\n",
       "</style>\n",
       "<table border=\"1\" class=\"dataframe\">\n",
       "  <thead>\n",
       "    <tr style=\"text-align: right;\">\n",
       "      <th></th>\n",
       "      <th>id</th>\n",
       "      <th>f0</th>\n",
       "      <th>f1</th>\n",
       "      <th>f2</th>\n",
       "      <th>product</th>\n",
       "    </tr>\n",
       "  </thead>\n",
       "  <tbody>\n",
       "    <tr>\n",
       "      <th>0</th>\n",
       "      <td>kBEdx</td>\n",
       "      <td>-15.001348</td>\n",
       "      <td>-8.276000</td>\n",
       "      <td>-0.005876</td>\n",
       "      <td>3.179103</td>\n",
       "    </tr>\n",
       "    <tr>\n",
       "      <th>1</th>\n",
       "      <td>62mP7</td>\n",
       "      <td>14.272088</td>\n",
       "      <td>-3.475083</td>\n",
       "      <td>0.999183</td>\n",
       "      <td>26.953261</td>\n",
       "    </tr>\n",
       "    <tr>\n",
       "      <th>2</th>\n",
       "      <td>vyE1P</td>\n",
       "      <td>6.263187</td>\n",
       "      <td>-5.948386</td>\n",
       "      <td>5.001160</td>\n",
       "      <td>134.766305</td>\n",
       "    </tr>\n",
       "    <tr>\n",
       "      <th>3</th>\n",
       "      <td>KcrkZ</td>\n",
       "      <td>-13.081196</td>\n",
       "      <td>-11.506057</td>\n",
       "      <td>4.999415</td>\n",
       "      <td>137.945408</td>\n",
       "    </tr>\n",
       "    <tr>\n",
       "      <th>4</th>\n",
       "      <td>AHL4O</td>\n",
       "      <td>12.702195</td>\n",
       "      <td>-8.147433</td>\n",
       "      <td>5.004363</td>\n",
       "      <td>134.766305</td>\n",
       "    </tr>\n",
       "  </tbody>\n",
       "</table>\n",
       "</div>"
      ],
      "text/plain": [
       "      id         f0         f1        f2     product\n",
       "0  kBEdx -15.001348  -8.276000 -0.005876    3.179103\n",
       "1  62mP7  14.272088  -3.475083  0.999183   26.953261\n",
       "2  vyE1P   6.263187  -5.948386  5.001160  134.766305\n",
       "3  KcrkZ -13.081196 -11.506057  4.999415  137.945408\n",
       "4  AHL4O  12.702195  -8.147433  5.004363  134.766305"
      ]
     },
     "metadata": {},
     "output_type": "display_data"
    },
    {
     "name": "stdout",
     "output_type": "stream",
     "text": [
      "\u001b[1mИнформация о датасете geo_data_ 1 .\u001b[0m\n",
      "\n",
      "<class 'pandas.core.frame.DataFrame'>\n",
      "RangeIndex: 100000 entries, 0 to 99999\n",
      "Data columns (total 5 columns):\n",
      " #   Column   Non-Null Count   Dtype  \n",
      "---  ------   --------------   -----  \n",
      " 0   id       100000 non-null  object \n",
      " 1   f0       100000 non-null  float64\n",
      " 2   f1       100000 non-null  float64\n",
      " 3   f2       100000 non-null  float64\n",
      " 4   product  100000 non-null  float64\n",
      "dtypes: float64(4), object(1)\n",
      "memory usage: 3.8+ MB\n",
      "None\n",
      "\u001b[1mПропуски в датасете geo_data_ 1 .\u001b[0m\n",
      "\n",
      "id         0\n",
      "f0         0\n",
      "f1         0\n",
      "f2         0\n",
      "product    0\n",
      "dtype: int64\n",
      "\u001b[1mСтатистика для датасета geo_data_ 1 .\u001b[0m\n",
      "\n",
      "                  f0             f1             f2        product\n",
      "count  100000.000000  100000.000000  100000.000000  100000.000000\n",
      "mean        1.141296      -4.796579       2.494541      68.825000\n",
      "std         8.965932       5.119872       1.703572      45.944423\n",
      "min       -31.609576     -26.358598      -0.018144       0.000000\n",
      "25%        -6.298551      -8.267985       1.000021      26.953261\n",
      "50%         1.153055      -4.813172       2.011479      57.085625\n",
      "75%         8.621015      -1.332816       3.999904     107.813044\n",
      "max        29.421755      18.734063       5.019721     137.945408\n",
      "\u001b[1mСумма уникальных значений признаков для датасета geo_data_ 1 .\u001b[0m\n",
      "\n",
      "id          99996\n",
      "f0         100000\n",
      "f1         100000\n",
      "f2         100000\n",
      "product        12\n",
      "dtype: int64\n",
      "\n",
      "\u001b[1mПервые 5 строк датасета geo_data_ 2 .\u001b[0m\n"
     ]
    },
    {
     "data": {
      "text/html": [
       "<div>\n",
       "<style scoped>\n",
       "    .dataframe tbody tr th:only-of-type {\n",
       "        vertical-align: middle;\n",
       "    }\n",
       "\n",
       "    .dataframe tbody tr th {\n",
       "        vertical-align: top;\n",
       "    }\n",
       "\n",
       "    .dataframe thead th {\n",
       "        text-align: right;\n",
       "    }\n",
       "</style>\n",
       "<table border=\"1\" class=\"dataframe\">\n",
       "  <thead>\n",
       "    <tr style=\"text-align: right;\">\n",
       "      <th></th>\n",
       "      <th>id</th>\n",
       "      <th>f0</th>\n",
       "      <th>f1</th>\n",
       "      <th>f2</th>\n",
       "      <th>product</th>\n",
       "    </tr>\n",
       "  </thead>\n",
       "  <tbody>\n",
       "    <tr>\n",
       "      <th>0</th>\n",
       "      <td>fwXo0</td>\n",
       "      <td>-1.146987</td>\n",
       "      <td>0.963328</td>\n",
       "      <td>-0.828965</td>\n",
       "      <td>27.758673</td>\n",
       "    </tr>\n",
       "    <tr>\n",
       "      <th>1</th>\n",
       "      <td>WJtFt</td>\n",
       "      <td>0.262778</td>\n",
       "      <td>0.269839</td>\n",
       "      <td>-2.530187</td>\n",
       "      <td>56.069697</td>\n",
       "    </tr>\n",
       "    <tr>\n",
       "      <th>2</th>\n",
       "      <td>ovLUW</td>\n",
       "      <td>0.194587</td>\n",
       "      <td>0.289035</td>\n",
       "      <td>-5.586433</td>\n",
       "      <td>62.871910</td>\n",
       "    </tr>\n",
       "    <tr>\n",
       "      <th>3</th>\n",
       "      <td>q6cA6</td>\n",
       "      <td>2.236060</td>\n",
       "      <td>-0.553760</td>\n",
       "      <td>0.930038</td>\n",
       "      <td>114.572842</td>\n",
       "    </tr>\n",
       "    <tr>\n",
       "      <th>4</th>\n",
       "      <td>WPMUX</td>\n",
       "      <td>-0.515993</td>\n",
       "      <td>1.716266</td>\n",
       "      <td>5.899011</td>\n",
       "      <td>149.600746</td>\n",
       "    </tr>\n",
       "  </tbody>\n",
       "</table>\n",
       "</div>"
      ],
      "text/plain": [
       "      id        f0        f1        f2     product\n",
       "0  fwXo0 -1.146987  0.963328 -0.828965   27.758673\n",
       "1  WJtFt  0.262778  0.269839 -2.530187   56.069697\n",
       "2  ovLUW  0.194587  0.289035 -5.586433   62.871910\n",
       "3  q6cA6  2.236060 -0.553760  0.930038  114.572842\n",
       "4  WPMUX -0.515993  1.716266  5.899011  149.600746"
      ]
     },
     "metadata": {},
     "output_type": "display_data"
    },
    {
     "name": "stdout",
     "output_type": "stream",
     "text": [
      "\u001b[1mИнформация о датасете geo_data_ 2 .\u001b[0m\n",
      "\n",
      "<class 'pandas.core.frame.DataFrame'>\n",
      "RangeIndex: 100000 entries, 0 to 99999\n",
      "Data columns (total 5 columns):\n",
      " #   Column   Non-Null Count   Dtype  \n",
      "---  ------   --------------   -----  \n",
      " 0   id       100000 non-null  object \n",
      " 1   f0       100000 non-null  float64\n",
      " 2   f1       100000 non-null  float64\n",
      " 3   f2       100000 non-null  float64\n",
      " 4   product  100000 non-null  float64\n",
      "dtypes: float64(4), object(1)\n",
      "memory usage: 3.8+ MB\n",
      "None\n",
      "\u001b[1mПропуски в датасете geo_data_ 2 .\u001b[0m\n",
      "\n",
      "id         0\n",
      "f0         0\n",
      "f1         0\n",
      "f2         0\n",
      "product    0\n",
      "dtype: int64\n",
      "\u001b[1mСтатистика для датасета geo_data_ 2 .\u001b[0m\n",
      "\n",
      "                  f0             f1             f2        product\n",
      "count  100000.000000  100000.000000  100000.000000  100000.000000\n",
      "mean        0.002023      -0.002081       2.495128      95.000000\n",
      "std         1.732045       1.730417       3.473445      44.749921\n",
      "min        -8.760004      -7.084020     -11.970335       0.000000\n",
      "25%        -1.162288      -1.174820       0.130359      59.450441\n",
      "50%         0.009424      -0.009482       2.484236      94.925613\n",
      "75%         1.158535       1.163678       4.858794     130.595027\n",
      "max         7.238262       7.844801      16.739402     190.029838\n",
      "\u001b[1mСумма уникальных значений признаков для датасета geo_data_ 2 .\u001b[0m\n",
      "\n",
      "id          99996\n",
      "f0         100000\n",
      "f1         100000\n",
      "f2         100000\n",
      "product    100000\n",
      "dtype: int64\n"
     ]
    },
    {
     "data": {
      "text/plain": [
       "(None,\n",
       " None,\n",
       " None,\n",
       " None,\n",
       " None,\n",
       " None,\n",
       " None,\n",
       " None,\n",
       " None,\n",
       " None,\n",
       " None,\n",
       " None,\n",
       " None,\n",
       " None,\n",
       " None)"
      ]
     },
     "execution_count": 4,
     "metadata": {},
     "output_type": "execute_result"
    }
   ],
   "source": [
    "first_view(geo_data_0, 0)\n",
    "first_view(geo_data_1, 1)\n",
    "first_view(geo_data_2, 2)"
   ]
  },
  {
   "cell_type": "markdown",
   "metadata": {},
   "source": [
    "Как можно заметить все признаки, за исключением признака \"id\" являются численными (количественными). К тому же признак \"id\" не несет полезной для предсказания информации, поэтому удалим его из датасетов.  "
   ]
  },
  {
   "cell_type": "code",
   "execution_count": 5,
   "metadata": {},
   "outputs": [],
   "source": [
    "geo_data_0 = geo_data_0.drop('id', axis = 1)\n",
    "geo_data_1 = geo_data_1.drop('id', axis = 1)\n",
    "geo_data_2 = geo_data_2.drop('id', axis = 1)"
   ]
  },
  {
   "cell_type": "markdown",
   "metadata": {},
   "source": [
    "## Обучение и проверка модели"
   ]
  },
  {
   "cell_type": "markdown",
   "metadata": {},
   "source": [
    "Разобьем данные на обучающую и валидационную выборки в соотношении 75:25."
   ]
  },
  {
   "cell_type": "code",
   "execution_count": 6,
   "metadata": {},
   "outputs": [
    {
     "name": "stdout",
     "output_type": "stream",
     "text": [
      "Размер features_train_0 (75000, 3)\n",
      "Размер features_valid_0 (25000, 3)\n"
     ]
    }
   ],
   "source": [
    "features_0 = geo_data_0.drop(\"product\", axis=1)\n",
    "target_0 = geo_data_0[\"product\"]\n",
    "features_1 = geo_data_1.drop(\"product\", axis=1)\n",
    "target_1 = geo_data_1[\"product\"]\n",
    "features_2 = geo_data_2.drop(\"product\", axis=1)\n",
    "target_2 = geo_data_2[\"product\"]\n",
    "\n",
    "features_train_0, features_valid_0, target_train_0, target_valid_0 = train_test_split(\n",
    "    features_0, target_0, test_size=0.25, random_state=12345\n",
    ")\n",
    "features_train_1, features_valid_1, target_train_1, target_valid_1 = train_test_split(\n",
    "    features_1, target_1, test_size=0.25, random_state=12345\n",
    ")\n",
    "features_train_2, features_valid_2, target_train_2, target_valid_2 = train_test_split(\n",
    "    features_2, target_2, test_size=0.25, random_state=12345\n",
    ")\n",
    "\n",
    "print(\"Размер features_train_0\", features_train_0.shape)\n",
    "print(\"Размер features_valid_0\", features_valid_0.shape)"
   ]
  },
  {
   "cell_type": "markdown",
   "metadata": {},
   "source": [
    "Проведем масштабирвоание численых признаков."
   ]
  },
  {
   "cell_type": "code",
   "execution_count": 7,
   "metadata": {},
   "outputs": [],
   "source": [
    "pd.options.mode.chained_assignment = None\n",
    "numeric = geo_data_0.columns.drop(\"product\")\n",
    "\n",
    "scaler = StandardScaler()\n",
    "scaler.fit(features_train_0[numeric])\n",
    "\n",
    "features_train_0[numeric] = scaler.transform(features_train_0[numeric])\n",
    "features_valid_0[numeric] = scaler.transform(features_valid_0[numeric])\n",
    "\n",
    "scaler = StandardScaler()\n",
    "scaler.fit(features_train_1[numeric])\n",
    "\n",
    "features_train_1[numeric] = scaler.transform(features_train_1[numeric])\n",
    "features_valid_1[numeric] = scaler.transform(features_valid_1[numeric])\n",
    "\n",
    "scaler = StandardScaler()\n",
    "scaler.fit(features_train_2[numeric])\n",
    "\n",
    "features_train_2[numeric] = scaler.transform(features_train_2[numeric])\n",
    "features_valid_2[numeric] = scaler.transform(features_valid_2[numeric])"
   ]
  },
  {
   "cell_type": "markdown",
   "metadata": {},
   "source": [
    "Напечатаем на экране средний запас предсказанного сырья и RMSE модели."
   ]
  },
  {
   "cell_type": "code",
   "execution_count": 8,
   "metadata": {},
   "outputs": [
    {
     "name": "stdout",
     "output_type": "stream",
     "text": [
      "Cредний запас предсказанного сырья источника № 0 = 92.59, RMSE = 37.579\n",
      "Cредний запас предсказанного сырья источника № 0 = 68.73, RMSE = 0.893\n",
      "Cредний запас предсказанного сырья источника № 0 = 94.97, RMSE = 40.030\n"
     ]
    }
   ],
   "source": [
    "def pred(features_train, target_train, features_valid, target_valid):\n",
    "    model = LinearRegression().fit(features_train, target_train)\n",
    "    prediction_valid = model.predict(features_valid)\n",
    "    return prediction_valid\n",
    "\n",
    "\n",
    "predictions_valid_0 = pred(\n",
    "    features_train_0, target_train_0, features_valid_0, target_valid_0\n",
    ")\n",
    "predictions_valid_1 = pred(\n",
    "    features_train_1, target_train_1, features_valid_1, target_valid_1\n",
    ")\n",
    "predictions_valid_2 = pred(\n",
    "    features_train_2, target_train_2, features_valid_2, target_valid_2\n",
    ")\n",
    "\n",
    "print(\n",
    "    \"Cредний запас предсказанного сырья источника № 0 = {:.2f}, RMSE = {:.3f}\".format(\n",
    "        predictions_valid_0.mean(),\n",
    "        mean_squared_error(target_valid_0, predictions_valid_0, squared=False),\n",
    "    )\n",
    ")\n",
    "print(\n",
    "    \"Cредний запас предсказанного сырья источника № 0 = {:.2f}, RMSE = {:.3f}\".format(\n",
    "        predictions_valid_1.mean(),\n",
    "        mean_squared_error(target_valid_1, predictions_valid_1, squared=False),\n",
    "    )\n",
    ")\n",
    "print(\n",
    "    \"Cредний запас предсказанного сырья источника № 0 = {:.2f}, RMSE = {:.3f}\".format(\n",
    "        predictions_valid_2.mean(),\n",
    "        mean_squared_error(target_valid_2, predictions_valid_2, squared=False),\n",
    "    )\n",
    ")"
   ]
  },
  {
   "cell_type": "markdown",
   "metadata": {},
   "source": [
    "Проанализируем результаты. Как мы видим, наибольшее средний запас предсказанного сырья имеет источники № 0 и 2, а также можно заметить, что RMSE у этих источников наименьший. Чем меньше значение RMSE тем меньше разница между спрогнозированными моделью  и фактическими значениями."
   ]
  },
  {
   "cell_type": "markdown",
   "metadata": {},
   "source": [
    "## Подготовка к расчёту прибыли"
   ]
  },
  {
   "cell_type": "markdown",
   "metadata": {},
   "source": [
    "Все ключевые значения для расчётов сохраним в отдельных переменных"
   ]
  },
  {
   "cell_type": "code",
   "execution_count": 9,
   "metadata": {},
   "outputs": [],
   "source": [
    "budget = 10e09 # бюджет на разработку скважин в регионе \n",
    "one_barrel = 450 # доход с одного бареля\n",
    "income_from_product = 450 * 1e03 # доход с каждой единицы продукта\n",
    "number_of_wells = 200 # количество скважин\n",
    "n_points = 500\n",
    "best_points = 200"
   ]
  },
  {
   "cell_type": "markdown",
   "metadata": {},
   "source": [
    "Рассчитаем достаточный объём сырья для безубыточной разработки новой скважины. Сравним полученный объём сырья со средним запасом в каждом регионе. "
   ]
  },
  {
   "cell_type": "code",
   "execution_count": 10,
   "metadata": {},
   "outputs": [
    {
     "name": "stdout",
     "output_type": "stream",
     "text": [
      "Достаточный объём сырья = 111\n"
     ]
    }
   ],
   "source": [
    "cost_one_well = budget / number_of_wells # определим стоимость одной скажины\n",
    "volume_products = cost_one_well / income_from_product # определим рассчитаем достаточный объём сырья\n",
    "print('Достаточный объём сырья = {:.0f}'.format(volume_products))"
   ]
  },
  {
   "cell_type": "markdown",
   "metadata": {},
   "source": [
    "Сравнив достаточный объем сырья с средними запасами предсказанного сырья источника 0 и 2, 77,86 и 80,78, можно сделать вывод, что средних запасов предсказанного сырья источника имеют недостаточно для безубыточной разработки. Необходимо продолжить исследование для того, чтобы определить регионы, которые принесут наибольшую прибыль."
   ]
  },
  {
   "cell_type": "markdown",
   "metadata": {},
   "source": [
    "## Расчёт прибыли и рисков "
   ]
  },
  {
   "cell_type": "markdown",
   "metadata": {},
   "source": [
    "Напишем функцию для расчёта прибыли по выбранным скважинам и предсказаниям модели.Сперва выберем скважины с максимальными значениями предсказаний (200 скажин). Затем просуммируем целевое значение объёма сырья, соответствующее этим предсказаниям. После рассчитаем прибыль для полученного объёма сырья."
   ]
  },
  {
   "cell_type": "code",
   "execution_count": 11,
   "metadata": {},
   "outputs": [
    {
     "name": "stdout",
     "output_type": "stream",
     "text": [
      "Прибыль c 200 лучших скажин с источника №:3320826043\n",
      "Прибыль c 200 лучших скажин с источника №:2415086697\n",
      "Прибыль c 200 лучших скажин с источника №:2710349964\n"
     ]
    }
   ],
   "source": [
    "def profit(predictions, target):\n",
    "    target_and_pred = (\n",
    "        pd.DataFrame({\"target\": target, \"preds\": predictions})\n",
    "        .sort_values(by=\"preds\", ascending=False)\n",
    "        .head(best_points)\n",
    "    )\n",
    "    target_sum = target_and_pred[\"target\"].sum()\n",
    "    total_income = target_sum * income_from_product - budget\n",
    "    return total_income\n",
    "\n",
    "\n",
    "print(\n",
    "    \"Прибыль c 200 лучших скажин с источника №:{:.0f}\".format(\n",
    "        profit(predictions_valid_0, target_valid_0)\n",
    "    )\n",
    ")\n",
    "print(\n",
    "    \"Прибыль c 200 лучших скажин с источника №:{:.0f}\".format(\n",
    "        profit(predictions_valid_1, target_valid_1)\n",
    "    )\n",
    ")\n",
    "print(\n",
    "    \"Прибыль c 200 лучших скажин с источника №:{:.0f}\".format(\n",
    "        profit(predictions_valid_2, target_valid_2)\n",
    "    )\n",
    ")"
   ]
  },
  {
   "cell_type": "markdown",
   "metadata": {},
   "source": [
    "Посчитаем риски и прибыль для каждого региона. Применим технику Bootstrap с 1000 выборок, чтобы найти распределение прибыли. Найдем среднюю прибыль, 95%-й доверительный интервал и риск убытков. "
   ]
  },
  {
   "cell_type": "code",
   "execution_count": 12,
   "metadata": {},
   "outputs": [],
   "source": [
    "state = np.random.RandomState(12345)\n",
    "\n",
    "\n",
    "def bootstrap_profit(predictions, target, number):\n",
    "    target_and_pred = pd.DataFrame(\n",
    "        {\"target\": target, \"preds\": predictions}\n",
    "    ).sort_values(by=\"preds\", ascending=False)\n",
    "    values = []\n",
    "    for i in range(1000):\n",
    "        target_and_pred_subsamples = (\n",
    "            target_and_pred.sample(n=n_points, replace=True, random_state=state)\n",
    "            .sort_values(by=\"preds\", ascending=False)\n",
    "            .reset_index()\n",
    "            .head(best_points)\n",
    "        )\n",
    "        target_subsample = target_and_pred_subsamples[\"target\"]\n",
    "        predictions_subsample = target_and_pred_subsamples[\"preds\"]\n",
    "        target_sum = target_subsample.sum()\n",
    "        total_income = target_sum * income_from_product - budget\n",
    "        values.append(profit(predictions_subsample, target_subsample))\n",
    "    values = pd.Series(values)\n",
    "    risk = (values < 0).mean()\n",
    "    lower = values.quantile(0.025)\n",
    "    upper = values.quantile(0.975)\n",
    "    mean = values.mean()\n",
    "    return (\n",
    "        print(\"Средняя прибыль источника №\", number, \": {:.0f}\".format(mean)),\n",
    "        print(\n",
    "            \"95%-й доверительный интервал источника №\",\n",
    "            number,\n",
    "            \"от {:.0f} до {:.0f}\".format(lower, upper),\n",
    "        ),\n",
    "        print(\"Убыток источника №\", number, \" {:.2%}\".format(risk)),\n",
    "        print(\"\"),\n",
    "    )"
   ]
  },
  {
   "cell_type": "code",
   "execution_count": 13,
   "metadata": {},
   "outputs": [
    {
     "name": "stdout",
     "output_type": "stream",
     "text": [
      "Средняя прибыль источника № 0 : 381774792\n",
      "95%-й доверительный интервал источника № 0 от -112683592 до 871816272\n",
      "Убыток источника № 0  7.30%\n",
      "\n",
      "Средняя прибыль источника № 1 : 438247743\n",
      "95%-й доверительный интервал источника № 1 от 21812832 до 832341967\n",
      "Убыток источника № 1  1.70%\n",
      "\n",
      "Средняя прибыль источника № 2 : 382588613\n",
      "95%-й доверительный интервал источника № 2 от -133252127 до 891051732\n",
      "Убыток источника № 2  6.50%\n",
      "\n"
     ]
    },
    {
     "data": {
      "text/plain": [
       "(None, None, None, None)"
      ]
     },
     "execution_count": 13,
     "metadata": {},
     "output_type": "execute_result"
    }
   ],
   "source": [
    "bootstrap_profit(predictions_valid_0, target_valid_0, 0)\n",
    "bootstrap_profit(predictions_valid_1, target_valid_1, 1)\n",
    "bootstrap_profit(predictions_valid_2, target_valid_2, 2)"
   ]
  },
  {
   "cell_type": "markdown",
   "metadata": {},
   "source": [
    "Вывод: в данном проекте необходимо было определить регион, где добыча нефти принесёт наибольшую прибыль. Сперва были обработаны данные, а именно было определено отсутствие пропусков, удален ненужный для обучения модели и прогнозирования признак \"id\". Также для понимания наличия или отсутствия выбросов была создадана описательная статистика для всех датафреймов (для каждого источника или региона). В дальнейшем были проанализированы средний запас предсказанного сырья и RMSE модели для каждого источника и было обнаружено, что наименьший средний запас предсказанного сырья имеет источник №1. Остальные источники показали примерно равное значение среднего запаса. Также значение RMSE в источнике №1 было наибольшим, по сравнению с источниками № 0 и 2. Это говорит о том, что разница между предсказанными данными и фактическими является наибольшей среди всех участков. В дальнейшем было определен достаточный объём сырья = 111.  По каждому источнику были определны 200 самых лучших по продукту скважины и подсчитана прибыль. Получилось, что источник № 0 принесет с 200 самых продуктивных 3377406248 рублей, что является наилучшим показателем. источник № 2 имеет значение 2710295047, а № 0 2413656101. Рассчитав же такие параметры \"средняя прибыль источника\", \"95%-й доверительный интервал\" и \"убыток источника\" с помощью Bootstrap можно сделать вывод о том, что источник №1 имеет наилучшие показатели, так \"средняя прибыль источника № 1\" : 435891551, \"95%-й доверительный интервал источника № 1\" от 15337829 до 830892711, \"убыток источника № 1\"  1.80%. На основании полученных цифр рекомендую для добычи нефти источник №1."
   ]
  }
 ],
 "metadata": {
  "ExecuteTimeLog": [
   {
    "duration": 56,
    "start_time": "2023-04-22T12:05:08.517Z"
   },
   {
    "duration": 529,
    "start_time": "2023-04-22T12:05:09.874Z"
   },
   {
    "duration": 620,
    "start_time": "2023-04-22T12:05:10.406Z"
   },
   {
    "duration": 637,
    "start_time": "2023-04-22T12:05:41.752Z"
   },
   {
    "duration": 458,
    "start_time": "2023-04-22T12:06:11.705Z"
   },
   {
    "duration": 480,
    "start_time": "2023-04-22T12:06:23.468Z"
   },
   {
    "duration": 491,
    "start_time": "2023-04-22T12:06:35.582Z"
   },
   {
    "duration": 513,
    "start_time": "2023-04-22T12:16:21.545Z"
   },
   {
    "duration": 586,
    "start_time": "2023-04-22T12:16:39.989Z"
   },
   {
    "duration": 532,
    "start_time": "2023-04-22T12:17:23.068Z"
   },
   {
    "duration": 519,
    "start_time": "2023-04-22T12:17:34.868Z"
   },
   {
    "duration": 504,
    "start_time": "2023-04-22T12:17:42.253Z"
   },
   {
    "duration": 10,
    "start_time": "2023-04-22T12:18:24.876Z"
   },
   {
    "duration": 24,
    "start_time": "2023-04-22T12:18:34.516Z"
   },
   {
    "duration": 24,
    "start_time": "2023-04-22T12:18:53.640Z"
   },
   {
    "duration": 25,
    "start_time": "2023-04-22T12:19:03.030Z"
   },
   {
    "duration": 42,
    "start_time": "2023-04-22T12:19:18.985Z"
   },
   {
    "duration": 27,
    "start_time": "2023-04-22T12:19:29.848Z"
   },
   {
    "duration": 18,
    "start_time": "2023-04-22T12:25:36.965Z"
   },
   {
    "duration": 45,
    "start_time": "2023-04-22T12:25:47.749Z"
   },
   {
    "duration": 39,
    "start_time": "2023-04-22T12:26:08.518Z"
   },
   {
    "duration": 53,
    "start_time": "2023-04-22T12:26:15.962Z"
   },
   {
    "duration": 62,
    "start_time": "2023-04-22T12:26:26.475Z"
   },
   {
    "duration": 63,
    "start_time": "2023-04-22T12:26:38.587Z"
   },
   {
    "duration": 441,
    "start_time": "2023-04-22T12:27:15.157Z"
   },
   {
    "duration": 558,
    "start_time": "2023-04-22T12:27:15.601Z"
   },
   {
    "duration": 75,
    "start_time": "2023-04-22T12:27:16.160Z"
   },
   {
    "duration": 48,
    "start_time": "2023-04-22T12:27:16.238Z"
   },
   {
    "duration": 622,
    "start_time": "2023-04-22T12:28:39.905Z"
   },
   {
    "duration": 510,
    "start_time": "2023-04-22T12:28:46.878Z"
   },
   {
    "duration": 493,
    "start_time": "2023-04-22T12:29:06.514Z"
   },
   {
    "duration": 511,
    "start_time": "2023-04-22T12:29:14.870Z"
   },
   {
    "duration": 108,
    "start_time": "2023-04-22T12:29:26.323Z"
   },
   {
    "duration": 572,
    "start_time": "2023-04-22T12:29:31.083Z"
   },
   {
    "duration": 882,
    "start_time": "2023-04-22T12:42:51.841Z"
   },
   {
    "duration": 76,
    "start_time": "2023-04-22T12:43:26.432Z"
   },
   {
    "duration": 6,
    "start_time": "2023-04-22T12:44:05.650Z"
   },
   {
    "duration": 21,
    "start_time": "2023-04-22T12:44:18.515Z"
   },
   {
    "duration": 22,
    "start_time": "2023-04-22T12:44:26.773Z"
   },
   {
    "duration": 16,
    "start_time": "2023-04-22T12:44:34.839Z"
   },
   {
    "duration": 21,
    "start_time": "2023-04-22T12:56:28.508Z"
   },
   {
    "duration": 1451,
    "start_time": "2023-04-22T12:57:05.402Z"
   },
   {
    "duration": 675,
    "start_time": "2023-04-22T12:57:06.855Z"
   },
   {
    "duration": 72,
    "start_time": "2023-04-22T12:57:07.532Z"
   },
   {
    "duration": 68,
    "start_time": "2023-04-22T12:57:07.607Z"
   },
   {
    "duration": 59,
    "start_time": "2023-04-22T12:57:07.677Z"
   },
   {
    "duration": 162,
    "start_time": "2023-04-22T12:57:15.813Z"
   },
   {
    "duration": 1335,
    "start_time": "2023-04-22T13:01:07.654Z"
   },
   {
    "duration": 602,
    "start_time": "2023-04-22T13:01:08.998Z"
   },
   {
    "duration": 59,
    "start_time": "2023-04-22T13:01:09.604Z"
   },
   {
    "duration": 73,
    "start_time": "2023-04-22T13:01:09.665Z"
   },
   {
    "duration": 10,
    "start_time": "2023-04-22T13:01:09.739Z"
   },
   {
    "duration": 1164,
    "start_time": "2023-04-22T13:01:42.315Z"
   },
   {
    "duration": 532,
    "start_time": "2023-04-22T13:01:43.481Z"
   },
   {
    "duration": 48,
    "start_time": "2023-04-22T13:01:44.019Z"
   },
   {
    "duration": 52,
    "start_time": "2023-04-22T13:01:44.069Z"
   },
   {
    "duration": 20,
    "start_time": "2023-04-22T13:01:44.125Z"
   },
   {
    "duration": 137,
    "start_time": "2023-04-22T13:03:03.260Z"
   },
   {
    "duration": 12,
    "start_time": "2023-04-22T13:03:29.706Z"
   },
   {
    "duration": 15,
    "start_time": "2023-04-22T13:25:50.320Z"
   },
   {
    "duration": 938,
    "start_time": "2023-04-22T13:26:05.536Z"
   },
   {
    "duration": 13,
    "start_time": "2023-04-22T13:26:10.102Z"
   },
   {
    "duration": 17,
    "start_time": "2023-04-22T13:26:25.161Z"
   },
   {
    "duration": 24,
    "start_time": "2023-04-22T13:26:49.885Z"
   },
   {
    "duration": 15,
    "start_time": "2023-04-22T13:26:53.530Z"
   },
   {
    "duration": 21,
    "start_time": "2023-04-22T14:40:05.880Z"
   },
   {
    "duration": 1361,
    "start_time": "2023-04-22T14:40:12.312Z"
   },
   {
    "duration": 1015,
    "start_time": "2023-04-22T14:40:13.676Z"
   },
   {
    "duration": 70,
    "start_time": "2023-04-22T14:40:14.694Z"
   },
   {
    "duration": 62,
    "start_time": "2023-04-22T14:40:14.767Z"
   },
   {
    "duration": 22,
    "start_time": "2023-04-22T14:40:14.831Z"
   },
   {
    "duration": 174,
    "start_time": "2023-04-22T14:40:14.855Z"
   },
   {
    "duration": 21,
    "start_time": "2023-04-22T14:47:24.499Z"
   },
   {
    "duration": 38,
    "start_time": "2023-04-22T14:48:14.005Z"
   },
   {
    "duration": 31,
    "start_time": "2023-04-22T15:00:29.051Z"
   },
   {
    "duration": 63,
    "start_time": "2023-04-22T15:01:10.647Z"
   },
   {
    "duration": 804,
    "start_time": "2023-04-22T15:01:59.759Z"
   },
   {
    "duration": 411,
    "start_time": "2023-04-22T15:02:20.212Z"
   },
   {
    "duration": 1312,
    "start_time": "2023-04-22T15:03:09.167Z"
   },
   {
    "duration": 1268,
    "start_time": "2023-04-22T15:12:00.004Z"
   },
   {
    "duration": 1156,
    "start_time": "2023-04-22T15:12:07.305Z"
   },
   {
    "duration": 93,
    "start_time": "2023-04-22T15:12:18.337Z"
   },
   {
    "duration": 1336,
    "start_time": "2023-04-22T15:12:26.133Z"
   },
   {
    "duration": 114,
    "start_time": "2023-04-22T15:12:43.305Z"
   },
   {
    "duration": 109,
    "start_time": "2023-04-22T15:13:20.277Z"
   },
   {
    "duration": 30,
    "start_time": "2023-04-22T15:32:06.035Z"
   },
   {
    "duration": 216,
    "start_time": "2023-04-22T15:32:12.460Z"
   },
   {
    "duration": 215,
    "start_time": "2023-04-22T15:32:34.488Z"
   },
   {
    "duration": 112,
    "start_time": "2023-04-22T15:50:52.019Z"
   },
   {
    "duration": 144,
    "start_time": "2023-04-22T15:51:01.253Z"
   },
   {
    "duration": 122,
    "start_time": "2023-04-22T15:51:19.757Z"
   },
   {
    "duration": 136,
    "start_time": "2023-04-22T15:51:35.319Z"
   },
   {
    "duration": 1706,
    "start_time": "2023-04-22T15:53:08.556Z"
   },
   {
    "duration": 1523,
    "start_time": "2023-04-22T15:53:10.265Z"
   },
   {
    "duration": 73,
    "start_time": "2023-04-22T15:53:11.795Z"
   },
   {
    "duration": 55,
    "start_time": "2023-04-22T15:53:11.870Z"
   },
   {
    "duration": 26,
    "start_time": "2023-04-22T15:53:11.927Z"
   },
   {
    "duration": 160,
    "start_time": "2023-04-22T15:53:11.957Z"
   },
   {
    "duration": 50,
    "start_time": "2023-04-22T15:53:12.129Z"
   },
   {
    "duration": 4,
    "start_time": "2023-04-22T16:44:31.355Z"
   },
   {
    "duration": 185,
    "start_time": "2023-04-22T16:44:46.285Z"
   },
   {
    "duration": 5,
    "start_time": "2023-04-22T16:44:54.643Z"
   },
   {
    "duration": 12,
    "start_time": "2023-04-22T16:47:26.051Z"
   },
   {
    "duration": 1702,
    "start_time": "2023-04-22T16:47:31.422Z"
   },
   {
    "duration": 1338,
    "start_time": "2023-04-22T16:47:33.126Z"
   },
   {
    "duration": 54,
    "start_time": "2023-04-22T16:47:34.466Z"
   },
   {
    "duration": 42,
    "start_time": "2023-04-22T16:47:34.522Z"
   },
   {
    "duration": 39,
    "start_time": "2023-04-22T16:47:34.566Z"
   },
   {
    "duration": 146,
    "start_time": "2023-04-22T16:47:34.610Z"
   },
   {
    "duration": 59,
    "start_time": "2023-04-22T16:47:34.757Z"
   },
   {
    "duration": 1334,
    "start_time": "2023-04-22T16:47:34.818Z"
   },
   {
    "duration": 1379,
    "start_time": "2023-04-22T16:47:46.153Z"
   },
   {
    "duration": 56,
    "start_time": "2023-04-22T16:48:21.862Z"
   },
   {
    "duration": 1175,
    "start_time": "2023-04-22T16:48:24.974Z"
   },
   {
    "duration": 14,
    "start_time": "2023-04-22T16:48:33.838Z"
   },
   {
    "duration": 43,
    "start_time": "2023-04-22T16:48:49.538Z"
   },
   {
    "duration": 51,
    "start_time": "2023-04-22T16:49:28.873Z"
   },
   {
    "duration": 4,
    "start_time": "2023-04-22T17:46:50.310Z"
   },
   {
    "duration": 17,
    "start_time": "2023-04-22T17:47:15.858Z"
   },
   {
    "duration": 1482,
    "start_time": "2023-04-22T17:47:23.255Z"
   },
   {
    "duration": 542,
    "start_time": "2023-04-22T17:47:24.739Z"
   },
   {
    "duration": 53,
    "start_time": "2023-04-22T17:47:25.293Z"
   },
   {
    "duration": 70,
    "start_time": "2023-04-22T17:47:25.349Z"
   },
   {
    "duration": 32,
    "start_time": "2023-04-22T17:47:25.421Z"
   },
   {
    "duration": 151,
    "start_time": "2023-04-22T17:47:25.455Z"
   },
   {
    "duration": 47,
    "start_time": "2023-04-22T17:47:25.608Z"
   },
   {
    "duration": 60,
    "start_time": "2023-04-22T17:47:25.657Z"
   },
   {
    "duration": 158,
    "start_time": "2023-04-22T17:47:25.719Z"
   },
   {
    "duration": 31,
    "start_time": "2023-04-22T17:49:12.854Z"
   },
   {
    "duration": 30,
    "start_time": "2023-04-22T17:50:58.447Z"
   },
   {
    "duration": 1516,
    "start_time": "2023-04-22T17:51:32.328Z"
   },
   {
    "duration": 511,
    "start_time": "2023-04-22T17:51:33.846Z"
   },
   {
    "duration": 90,
    "start_time": "2023-04-22T17:51:34.359Z"
   },
   {
    "duration": 53,
    "start_time": "2023-04-22T17:51:34.452Z"
   },
   {
    "duration": 27,
    "start_time": "2023-04-22T17:51:34.508Z"
   },
   {
    "duration": 172,
    "start_time": "2023-04-22T17:51:34.537Z"
   },
   {
    "duration": 49,
    "start_time": "2023-04-22T17:51:34.711Z"
   },
   {
    "duration": 53,
    "start_time": "2023-04-22T17:51:34.762Z"
   },
   {
    "duration": 175,
    "start_time": "2023-04-22T17:51:34.820Z"
   },
   {
    "duration": 23,
    "start_time": "2023-04-22T17:53:07.160Z"
   },
   {
    "duration": 197,
    "start_time": "2023-04-22T17:53:35.604Z"
   },
   {
    "duration": 36,
    "start_time": "2023-04-22T17:53:48.956Z"
   },
   {
    "duration": 26,
    "start_time": "2023-04-22T17:54:01.045Z"
   },
   {
    "duration": 379,
    "start_time": "2023-04-22T17:54:34.733Z"
   },
   {
    "duration": 282,
    "start_time": "2023-04-22T17:55:41.625Z"
   },
   {
    "duration": 418,
    "start_time": "2023-04-22T17:56:19.085Z"
   },
   {
    "duration": 55,
    "start_time": "2023-04-22T17:59:05.605Z"
   },
   {
    "duration": 319,
    "start_time": "2023-04-22T17:59:11.482Z"
   },
   {
    "duration": 205,
    "start_time": "2023-04-22T17:59:39.192Z"
   },
   {
    "duration": 377,
    "start_time": "2023-04-22T18:00:24.730Z"
   },
   {
    "duration": 547,
    "start_time": "2023-04-22T18:00:42.946Z"
   },
   {
    "duration": 6,
    "start_time": "2023-04-22T18:01:01.498Z"
   },
   {
    "duration": 4,
    "start_time": "2023-04-22T18:01:04.110Z"
   },
   {
    "duration": 172,
    "start_time": "2023-04-22T18:01:17.344Z"
   },
   {
    "duration": 180,
    "start_time": "2023-04-22T18:01:46.012Z"
   },
   {
    "duration": 71,
    "start_time": "2023-04-22T18:03:17.051Z"
   },
   {
    "duration": 331,
    "start_time": "2023-04-22T18:03:25.872Z"
   },
   {
    "duration": 6,
    "start_time": "2023-04-22T18:04:11.148Z"
   },
   {
    "duration": 77,
    "start_time": "2023-04-22T18:04:16.036Z"
   },
   {
    "duration": 140,
    "start_time": "2023-04-22T18:20:01.472Z"
   },
   {
    "duration": 198,
    "start_time": "2023-04-22T18:20:09.408Z"
   },
   {
    "duration": 275,
    "start_time": "2023-04-22T18:20:29.416Z"
   },
   {
    "duration": 217,
    "start_time": "2023-04-22T18:21:15.377Z"
   },
   {
    "duration": 159,
    "start_time": "2023-04-22T18:21:28.355Z"
   },
   {
    "duration": 105,
    "start_time": "2023-04-22T18:24:30.907Z"
   },
   {
    "duration": 213,
    "start_time": "2023-04-22T18:24:59.204Z"
   },
   {
    "duration": 212,
    "start_time": "2023-04-22T18:25:10.284Z"
   },
   {
    "duration": 264,
    "start_time": "2023-04-22T18:25:24.040Z"
   },
   {
    "duration": 82,
    "start_time": "2023-04-22T18:25:38.123Z"
   },
   {
    "duration": 47,
    "start_time": "2023-04-22T18:25:48.324Z"
   },
   {
    "duration": 61,
    "start_time": "2023-04-22T18:25:53.584Z"
   },
   {
    "duration": 61,
    "start_time": "2023-04-22T18:25:57.308Z"
   },
   {
    "duration": 175,
    "start_time": "2023-04-22T18:26:06.116Z"
   },
   {
    "duration": 287,
    "start_time": "2023-04-22T18:26:11.405Z"
   },
   {
    "duration": 169,
    "start_time": "2023-04-22T18:26:19.152Z"
   },
   {
    "duration": 55,
    "start_time": "2023-04-22T18:26:22.840Z"
   },
   {
    "duration": 70,
    "start_time": "2023-04-22T18:26:27.856Z"
   },
   {
    "duration": 274,
    "start_time": "2023-04-22T18:26:33.349Z"
   },
   {
    "duration": 257,
    "start_time": "2023-04-22T18:26:44.760Z"
   },
   {
    "duration": 243,
    "start_time": "2023-04-22T18:26:56.356Z"
   },
   {
    "duration": 10,
    "start_time": "2023-04-22T18:54:39.435Z"
   },
   {
    "duration": 11,
    "start_time": "2023-04-22T18:54:45.639Z"
   },
   {
    "duration": 4,
    "start_time": "2023-04-22T18:56:01.580Z"
   },
   {
    "duration": 3,
    "start_time": "2023-04-22T18:58:18.322Z"
   },
   {
    "duration": 4,
    "start_time": "2023-04-22T19:03:09.025Z"
   },
   {
    "duration": 6,
    "start_time": "2023-04-22T19:04:03.807Z"
   },
   {
    "duration": 5,
    "start_time": "2023-04-22T19:07:07.411Z"
   },
   {
    "duration": 1489,
    "start_time": "2023-04-22T19:31:44.018Z"
   },
   {
    "duration": 527,
    "start_time": "2023-04-22T19:31:45.512Z"
   },
   {
    "duration": 81,
    "start_time": "2023-04-22T19:31:46.041Z"
   },
   {
    "duration": 27,
    "start_time": "2023-04-22T19:31:46.125Z"
   },
   {
    "duration": 48,
    "start_time": "2023-04-22T19:31:46.154Z"
   },
   {
    "duration": 133,
    "start_time": "2023-04-22T19:31:46.204Z"
   },
   {
    "duration": 79,
    "start_time": "2023-04-22T19:31:46.339Z"
   },
   {
    "duration": 37,
    "start_time": "2023-04-22T19:31:46.420Z"
   },
   {
    "duration": 147,
    "start_time": "2023-04-22T19:31:46.460Z"
   },
   {
    "duration": 6,
    "start_time": "2023-04-22T19:31:46.694Z"
   },
   {
    "duration": 116,
    "start_time": "2023-04-22T19:31:46.708Z"
   },
   {
    "duration": 6,
    "start_time": "2023-04-22T19:53:33.425Z"
   },
   {
    "duration": 6,
    "start_time": "2023-04-22T19:53:38.925Z"
   },
   {
    "duration": 177,
    "start_time": "2023-04-22T20:07:50.938Z"
   },
   {
    "duration": 16,
    "start_time": "2023-04-22T20:08:54.654Z"
   },
   {
    "duration": 15,
    "start_time": "2023-04-22T20:09:11.742Z"
   },
   {
    "duration": 58,
    "start_time": "2023-04-22T20:09:35.972Z"
   },
   {
    "duration": 55,
    "start_time": "2023-04-22T20:10:29.954Z"
   },
   {
    "duration": 52,
    "start_time": "2023-04-22T20:10:43.746Z"
   },
   {
    "duration": 159,
    "start_time": "2023-04-22T20:10:49.374Z"
   },
   {
    "duration": 49,
    "start_time": "2023-04-22T20:10:58.854Z"
   },
   {
    "duration": 25,
    "start_time": "2023-04-22T20:18:47.921Z"
   },
   {
    "duration": 37,
    "start_time": "2023-04-22T20:34:33.665Z"
   },
   {
    "duration": 26,
    "start_time": "2023-04-22T20:37:30.744Z"
   },
   {
    "duration": 79,
    "start_time": "2023-04-22T20:37:36.851Z"
   },
   {
    "duration": 25,
    "start_time": "2023-04-22T20:37:47.752Z"
   },
   {
    "duration": 44,
    "start_time": "2023-04-22T20:37:53.743Z"
   },
   {
    "duration": 4,
    "start_time": "2023-04-22T20:47:11.332Z"
   },
   {
    "duration": 4,
    "start_time": "2023-04-22T20:47:29.665Z"
   },
   {
    "duration": 5,
    "start_time": "2023-04-22T20:54:10.058Z"
   },
   {
    "duration": 370,
    "start_time": "2023-04-22T20:54:23.840Z"
   },
   {
    "duration": 422,
    "start_time": "2023-04-22T20:57:14.945Z"
   },
   {
    "duration": 476,
    "start_time": "2023-04-22T20:57:28.528Z"
   },
   {
    "duration": 495,
    "start_time": "2023-04-22T20:57:43.223Z"
   },
   {
    "duration": 131,
    "start_time": "2023-04-22T20:58:44.824Z"
   },
   {
    "duration": 96,
    "start_time": "2023-04-22T20:59:00.832Z"
   },
   {
    "duration": 17,
    "start_time": "2023-04-22T20:59:18.004Z"
   },
   {
    "duration": 174,
    "start_time": "2023-04-22T20:59:26.543Z"
   },
   {
    "duration": 546,
    "start_time": "2023-04-22T20:59:38.843Z"
   },
   {
    "duration": 166,
    "start_time": "2023-04-22T20:59:53.644Z"
   },
   {
    "duration": 97,
    "start_time": "2023-04-22T21:00:29.160Z"
   },
   {
    "duration": 287,
    "start_time": "2023-04-22T21:00:44.414Z"
   },
   {
    "duration": 499,
    "start_time": "2023-04-22T21:00:50.826Z"
   },
   {
    "duration": 39,
    "start_time": "2023-04-22T21:36:18.255Z"
   },
   {
    "duration": 376,
    "start_time": "2023-04-22T21:43:18.115Z"
   },
   {
    "duration": 51,
    "start_time": "2023-04-22T21:53:19.408Z"
   },
   {
    "duration": 7,
    "start_time": "2023-04-22T22:08:18.100Z"
   },
   {
    "duration": 67,
    "start_time": "2023-04-22T22:15:53.847Z"
   },
   {
    "duration": 53,
    "start_time": "2023-04-22T22:16:03.571Z"
   },
   {
    "duration": 76,
    "start_time": "2023-04-22T22:16:09.167Z"
   },
   {
    "duration": 60,
    "start_time": "2023-04-22T22:16:27.647Z"
   },
   {
    "duration": 50,
    "start_time": "2023-04-22T22:16:37.043Z"
   },
   {
    "duration": 6,
    "start_time": "2023-04-22T22:16:59.919Z"
   },
   {
    "duration": 131,
    "start_time": "2023-04-22T22:17:15.655Z"
   },
   {
    "duration": 6,
    "start_time": "2023-04-22T22:17:56.367Z"
   },
   {
    "duration": 98,
    "start_time": "2023-04-22T22:17:56.900Z"
   },
   {
    "duration": 6,
    "start_time": "2023-04-22T22:18:36.111Z"
   },
   {
    "duration": 131,
    "start_time": "2023-04-22T22:18:37.479Z"
   },
   {
    "duration": 14,
    "start_time": "2023-04-22T22:18:52.488Z"
   },
   {
    "duration": 57,
    "start_time": "2023-04-22T22:18:52.651Z"
   },
   {
    "duration": 6,
    "start_time": "2023-04-22T22:19:25.823Z"
   },
   {
    "duration": 94,
    "start_time": "2023-04-22T22:19:25.999Z"
   },
   {
    "duration": 6,
    "start_time": "2023-04-22T22:20:17.480Z"
   },
   {
    "duration": 66,
    "start_time": "2023-04-22T22:20:17.635Z"
   },
   {
    "duration": 9,
    "start_time": "2023-04-22T22:22:46.800Z"
   },
   {
    "duration": 35,
    "start_time": "2023-04-22T22:22:47.475Z"
   },
   {
    "duration": 56,
    "start_time": "2023-04-22T22:25:28.048Z"
   },
   {
    "duration": 7,
    "start_time": "2023-04-22T22:25:52.619Z"
   },
   {
    "duration": 117,
    "start_time": "2023-04-22T22:25:54.272Z"
   },
   {
    "duration": 7,
    "start_time": "2023-04-22T22:28:04.752Z"
   },
   {
    "duration": 85,
    "start_time": "2023-04-22T22:28:05.809Z"
   },
   {
    "duration": 10,
    "start_time": "2023-04-22T22:29:27.003Z"
   },
   {
    "duration": 35,
    "start_time": "2023-04-22T22:29:58.757Z"
   },
   {
    "duration": 20,
    "start_time": "2023-04-22T22:30:24.884Z"
   },
   {
    "duration": 8,
    "start_time": "2023-04-22T22:30:28.469Z"
   },
   {
    "duration": 83,
    "start_time": "2023-04-22T22:30:38.312Z"
   },
   {
    "duration": 10,
    "start_time": "2023-04-22T22:30:42.257Z"
   },
   {
    "duration": 8,
    "start_time": "2023-04-22T22:30:52.308Z"
   },
   {
    "duration": 11,
    "start_time": "2023-04-22T22:31:04.601Z"
   },
   {
    "duration": 24,
    "start_time": "2023-04-22T22:32:12.073Z"
   },
   {
    "duration": 82,
    "start_time": "2023-04-22T22:32:19.117Z"
   },
   {
    "duration": 28,
    "start_time": "2023-04-22T22:33:00.365Z"
   },
   {
    "duration": 9,
    "start_time": "2023-04-22T22:33:06.577Z"
   },
   {
    "duration": 80,
    "start_time": "2023-04-22T22:33:12.417Z"
   },
   {
    "duration": 83,
    "start_time": "2023-04-22T22:33:26.408Z"
   },
   {
    "duration": 27,
    "start_time": "2023-04-22T22:34:08.385Z"
   },
   {
    "duration": 1447,
    "start_time": "2023-04-22T22:34:11.768Z"
   },
   {
    "duration": 451,
    "start_time": "2023-04-22T22:34:13.217Z"
   },
   {
    "duration": 52,
    "start_time": "2023-04-22T22:34:13.670Z"
   },
   {
    "duration": 24,
    "start_time": "2023-04-22T22:34:13.724Z"
   },
   {
    "duration": 43,
    "start_time": "2023-04-22T22:34:13.749Z"
   },
   {
    "duration": 117,
    "start_time": "2023-04-22T22:34:13.794Z"
   },
   {
    "duration": 46,
    "start_time": "2023-04-22T22:34:13.913Z"
   },
   {
    "duration": 50,
    "start_time": "2023-04-22T22:34:13.961Z"
   },
   {
    "duration": 191,
    "start_time": "2023-04-22T22:34:14.013Z"
   },
   {
    "duration": 6,
    "start_time": "2023-04-22T22:34:14.288Z"
   },
   {
    "duration": 115,
    "start_time": "2023-04-22T22:34:14.297Z"
   },
   {
    "duration": 282,
    "start_time": "2023-04-22T22:34:14.413Z"
   },
   {
    "duration": 97,
    "start_time": "2023-04-22T22:34:14.699Z"
   },
   {
    "duration": 305,
    "start_time": "2023-04-22T22:34:14.801Z"
   },
   {
    "duration": 0,
    "start_time": "2023-04-22T22:34:15.108Z"
   },
   {
    "duration": 6,
    "start_time": "2023-04-22T22:34:35.433Z"
   },
   {
    "duration": 70,
    "start_time": "2023-04-22T22:34:37.133Z"
   },
   {
    "duration": 1388,
    "start_time": "2023-04-22T22:34:43.129Z"
   },
   {
    "duration": 473,
    "start_time": "2023-04-22T22:34:44.519Z"
   },
   {
    "duration": 43,
    "start_time": "2023-04-22T22:34:45.000Z"
   },
   {
    "duration": 24,
    "start_time": "2023-04-22T22:34:45.046Z"
   },
   {
    "duration": 39,
    "start_time": "2023-04-22T22:34:45.071Z"
   },
   {
    "duration": 122,
    "start_time": "2023-04-22T22:34:45.111Z"
   },
   {
    "duration": 58,
    "start_time": "2023-04-22T22:34:45.234Z"
   },
   {
    "duration": 24,
    "start_time": "2023-04-22T22:34:45.293Z"
   },
   {
    "duration": 177,
    "start_time": "2023-04-22T22:34:45.318Z"
   },
   {
    "duration": 5,
    "start_time": "2023-04-22T22:34:45.502Z"
   },
   {
    "duration": 130,
    "start_time": "2023-04-22T22:34:45.587Z"
   },
   {
    "duration": 281,
    "start_time": "2023-04-22T22:34:45.719Z"
   },
   {
    "duration": 88,
    "start_time": "2023-04-22T22:34:46.002Z"
   },
   {
    "duration": 309,
    "start_time": "2023-04-22T22:34:46.092Z"
   },
   {
    "duration": 0,
    "start_time": "2023-04-22T22:34:46.403Z"
   },
   {
    "duration": 13,
    "start_time": "2023-04-22T22:35:10.553Z"
   },
   {
    "duration": 10,
    "start_time": "2023-04-22T22:35:34.024Z"
   },
   {
    "duration": 110,
    "start_time": "2023-04-22T22:35:51.791Z"
   },
   {
    "duration": 72,
    "start_time": "2023-04-22T22:35:59.229Z"
   },
   {
    "duration": 86,
    "start_time": "2023-04-22T22:38:02.305Z"
   },
   {
    "duration": 6,
    "start_time": "2023-04-22T22:39:22.862Z"
   },
   {
    "duration": 92,
    "start_time": "2023-04-22T22:39:23.009Z"
   },
   {
    "duration": 6,
    "start_time": "2023-04-22T22:39:57.546Z"
   },
   {
    "duration": 96,
    "start_time": "2023-04-22T22:39:57.700Z"
   },
   {
    "duration": 56,
    "start_time": "2023-04-22T22:40:08.138Z"
   },
   {
    "duration": 1396,
    "start_time": "2023-04-22T22:41:32.526Z"
   },
   {
    "duration": 458,
    "start_time": "2023-04-22T22:41:33.924Z"
   },
   {
    "duration": 43,
    "start_time": "2023-04-22T22:41:34.398Z"
   },
   {
    "duration": 24,
    "start_time": "2023-04-22T22:41:34.443Z"
   },
   {
    "duration": 40,
    "start_time": "2023-04-22T22:41:34.469Z"
   },
   {
    "duration": 118,
    "start_time": "2023-04-22T22:41:34.510Z"
   },
   {
    "duration": 63,
    "start_time": "2023-04-22T22:41:34.630Z"
   },
   {
    "duration": 27,
    "start_time": "2023-04-22T22:41:34.700Z"
   },
   {
    "duration": 175,
    "start_time": "2023-04-22T22:41:34.730Z"
   },
   {
    "duration": 80,
    "start_time": "2023-04-22T22:41:34.909Z"
   },
   {
    "duration": 113,
    "start_time": "2023-04-22T22:41:34.997Z"
   },
   {
    "duration": 385,
    "start_time": "2023-04-22T22:41:35.111Z"
   },
   {
    "duration": 87,
    "start_time": "2023-04-22T22:41:35.504Z"
   },
   {
    "duration": 296,
    "start_time": "2023-04-22T22:41:35.593Z"
   },
   {
    "duration": 0,
    "start_time": "2023-04-22T22:41:35.891Z"
   },
   {
    "duration": 12,
    "start_time": "2023-04-22T22:42:51.484Z"
   },
   {
    "duration": 104,
    "start_time": "2023-04-22T22:42:52.198Z"
   },
   {
    "duration": 7,
    "start_time": "2023-04-22T22:43:24.752Z"
   },
   {
    "duration": 99,
    "start_time": "2023-04-22T22:43:25.101Z"
   },
   {
    "duration": 12,
    "start_time": "2023-04-22T22:46:03.381Z"
   },
   {
    "duration": 34,
    "start_time": "2023-04-22T22:46:03.570Z"
   },
   {
    "duration": 6,
    "start_time": "2023-04-22T22:46:22.428Z"
   },
   {
    "duration": 42,
    "start_time": "2023-04-22T22:46:22.953Z"
   },
   {
    "duration": 21,
    "start_time": "2023-04-22T22:47:15.989Z"
   },
   {
    "duration": 16,
    "start_time": "2023-04-22T22:47:28.554Z"
   },
   {
    "duration": 14,
    "start_time": "2023-04-22T22:47:59.162Z"
   },
   {
    "duration": 1435,
    "start_time": "2023-04-22T22:49:55.601Z"
   },
   {
    "duration": 466,
    "start_time": "2023-04-22T22:49:57.038Z"
   },
   {
    "duration": 40,
    "start_time": "2023-04-22T22:49:57.506Z"
   },
   {
    "duration": 50,
    "start_time": "2023-04-22T22:49:57.548Z"
   },
   {
    "duration": 18,
    "start_time": "2023-04-22T22:49:57.601Z"
   },
   {
    "duration": 109,
    "start_time": "2023-04-22T22:49:57.621Z"
   },
   {
    "duration": 69,
    "start_time": "2023-04-22T22:49:57.732Z"
   },
   {
    "duration": 23,
    "start_time": "2023-04-22T22:49:57.803Z"
   },
   {
    "duration": 175,
    "start_time": "2023-04-22T22:49:57.828Z"
   },
   {
    "duration": 8,
    "start_time": "2023-04-22T22:49:58.087Z"
   },
   {
    "duration": 118,
    "start_time": "2023-04-22T22:49:58.102Z"
   },
   {
    "duration": 383,
    "start_time": "2023-04-22T22:49:58.222Z"
   },
   {
    "duration": 86,
    "start_time": "2023-04-22T22:49:58.607Z"
   },
   {
    "duration": 305,
    "start_time": "2023-04-22T22:49:58.696Z"
   },
   {
    "duration": 0,
    "start_time": "2023-04-22T22:49:59.003Z"
   },
   {
    "duration": 16,
    "start_time": "2023-04-22T22:51:01.333Z"
   },
   {
    "duration": 14,
    "start_time": "2023-04-22T22:51:14.057Z"
   },
   {
    "duration": 146,
    "start_time": "2023-04-22T22:51:32.745Z"
   },
   {
    "duration": 16,
    "start_time": "2023-04-22T22:51:53.669Z"
   },
   {
    "duration": 5,
    "start_time": "2023-04-22T22:55:15.830Z"
   },
   {
    "duration": 34,
    "start_time": "2023-04-22T22:55:16.578Z"
   },
   {
    "duration": 8,
    "start_time": "2023-04-22T22:55:36.530Z"
   },
   {
    "duration": 77,
    "start_time": "2023-04-22T22:55:37.027Z"
   },
   {
    "duration": 411,
    "start_time": "2023-04-22T22:58:41.586Z"
   },
   {
    "duration": 6,
    "start_time": "2023-04-22T22:59:49.547Z"
   },
   {
    "duration": 188,
    "start_time": "2023-04-22T22:59:50.505Z"
   },
   {
    "duration": 7,
    "start_time": "2023-04-22T23:00:05.278Z"
   },
   {
    "duration": 132,
    "start_time": "2023-04-22T23:00:05.963Z"
   },
   {
    "duration": 9,
    "start_time": "2023-04-22T23:00:20.363Z"
   },
   {
    "duration": 80,
    "start_time": "2023-04-22T23:00:20.527Z"
   },
   {
    "duration": 6,
    "start_time": "2023-04-22T23:00:38.071Z"
   },
   {
    "duration": 141,
    "start_time": "2023-04-22T23:00:38.247Z"
   },
   {
    "duration": 6,
    "start_time": "2023-04-22T23:01:06.167Z"
   },
   {
    "duration": 184,
    "start_time": "2023-04-22T23:01:06.311Z"
   },
   {
    "duration": 8,
    "start_time": "2023-04-22T23:02:55.062Z"
   },
   {
    "duration": 177,
    "start_time": "2023-04-22T23:02:55.727Z"
   },
   {
    "duration": 7,
    "start_time": "2023-04-22T23:03:04.999Z"
   },
   {
    "duration": 147,
    "start_time": "2023-04-22T23:03:05.152Z"
   },
   {
    "duration": 7,
    "start_time": "2023-04-22T23:03:18.807Z"
   },
   {
    "duration": 141,
    "start_time": "2023-04-22T23:03:19.567Z"
   },
   {
    "duration": 7,
    "start_time": "2023-04-22T23:03:34.103Z"
   },
   {
    "duration": 8,
    "start_time": "2023-04-22T23:05:53.099Z"
   },
   {
    "duration": 6244,
    "start_time": "2023-04-22T23:05:53.199Z"
   },
   {
    "duration": 1386,
    "start_time": "2023-04-22T23:06:05.342Z"
   },
   {
    "duration": 480,
    "start_time": "2023-04-22T23:06:06.730Z"
   },
   {
    "duration": 38,
    "start_time": "2023-04-22T23:06:07.212Z"
   },
   {
    "duration": 50,
    "start_time": "2023-04-22T23:06:07.252Z"
   },
   {
    "duration": 19,
    "start_time": "2023-04-22T23:06:07.304Z"
   },
   {
    "duration": 113,
    "start_time": "2023-04-22T23:06:07.325Z"
   },
   {
    "duration": 60,
    "start_time": "2023-04-22T23:06:07.440Z"
   },
   {
    "duration": 23,
    "start_time": "2023-04-22T23:06:07.503Z"
   },
   {
    "duration": 177,
    "start_time": "2023-04-22T23:06:07.527Z"
   },
   {
    "duration": 81,
    "start_time": "2023-04-22T23:06:07.709Z"
   },
   {
    "duration": 120,
    "start_time": "2023-04-22T23:06:07.792Z"
   },
   {
    "duration": 475,
    "start_time": "2023-04-22T23:06:07.914Z"
   },
   {
    "duration": 9,
    "start_time": "2023-04-22T23:06:08.392Z"
   },
   {
    "duration": 6479,
    "start_time": "2023-04-22T23:06:08.403Z"
   },
   {
    "duration": 107,
    "start_time": "2023-04-22T23:06:14.884Z"
   },
   {
    "duration": 6,
    "start_time": "2023-04-22T23:07:01.526Z"
   },
   {
    "duration": 6699,
    "start_time": "2023-04-22T23:07:01.699Z"
   },
   {
    "duration": 16,
    "start_time": "2023-04-22T23:07:08.401Z"
   },
   {
    "duration": 252,
    "start_time": "2023-04-22T23:07:18.223Z"
   },
   {
    "duration": 50,
    "start_time": "2023-04-22T23:07:24.051Z"
   },
   {
    "duration": 6,
    "start_time": "2023-04-22T23:08:00.718Z"
   },
   {
    "duration": 6400,
    "start_time": "2023-04-22T23:08:02.011Z"
   },
   {
    "duration": 6,
    "start_time": "2023-04-22T23:09:46.306Z"
   },
   {
    "duration": 150,
    "start_time": "2023-04-22T23:09:50.339Z"
   },
   {
    "duration": 6,
    "start_time": "2023-04-22T23:10:11.210Z"
   },
   {
    "duration": 138,
    "start_time": "2023-04-22T23:10:11.363Z"
   },
   {
    "duration": 8,
    "start_time": "2023-04-22T23:10:19.506Z"
   },
   {
    "duration": 191,
    "start_time": "2023-04-22T23:10:20.106Z"
   },
   {
    "duration": 6,
    "start_time": "2023-04-22T23:10:36.600Z"
   },
   {
    "duration": 188,
    "start_time": "2023-04-22T23:10:37.305Z"
   },
   {
    "duration": 6,
    "start_time": "2023-04-22T23:10:44.220Z"
   },
   {
    "duration": 142,
    "start_time": "2023-04-22T23:10:44.763Z"
   },
   {
    "duration": 7,
    "start_time": "2023-04-22T23:10:57.203Z"
   },
   {
    "duration": 6948,
    "start_time": "2023-04-22T23:10:58.754Z"
   },
   {
    "duration": 8,
    "start_time": "2023-04-22T23:11:48.011Z"
   },
   {
    "duration": 230,
    "start_time": "2023-04-22T23:11:48.175Z"
   },
   {
    "duration": 8,
    "start_time": "2023-04-22T23:12:23.326Z"
   },
   {
    "duration": 207,
    "start_time": "2023-04-22T23:12:23.503Z"
   },
   {
    "duration": 8,
    "start_time": "2023-04-22T23:14:42.410Z"
   },
   {
    "duration": 126,
    "start_time": "2023-04-22T23:14:43.384Z"
   },
   {
    "duration": 1457,
    "start_time": "2023-04-22T23:14:47.205Z"
   },
   {
    "duration": 470,
    "start_time": "2023-04-22T23:14:48.664Z"
   },
   {
    "duration": 63,
    "start_time": "2023-04-22T23:14:49.136Z"
   },
   {
    "duration": 24,
    "start_time": "2023-04-22T23:14:49.200Z"
   },
   {
    "duration": 24,
    "start_time": "2023-04-22T23:14:49.226Z"
   },
   {
    "duration": 122,
    "start_time": "2023-04-22T23:14:49.252Z"
   },
   {
    "duration": 58,
    "start_time": "2023-04-22T23:14:49.375Z"
   },
   {
    "duration": 23,
    "start_time": "2023-04-22T23:14:49.435Z"
   },
   {
    "duration": 239,
    "start_time": "2023-04-22T23:14:49.460Z"
   },
   {
    "duration": 89,
    "start_time": "2023-04-22T23:14:49.703Z"
   },
   {
    "duration": 13,
    "start_time": "2023-04-22T23:14:49.794Z"
   },
   {
    "duration": 389,
    "start_time": "2023-04-22T23:14:49.808Z"
   },
   {
    "duration": 87,
    "start_time": "2023-04-22T23:14:50.202Z"
   },
   {
    "duration": 326,
    "start_time": "2023-04-22T23:14:50.292Z"
   },
   {
    "duration": 0,
    "start_time": "2023-04-22T23:14:50.620Z"
   },
   {
    "duration": 7,
    "start_time": "2023-04-22T23:15:45.057Z"
   },
   {
    "duration": 170,
    "start_time": "2023-04-22T23:15:47.023Z"
   },
   {
    "duration": 23,
    "start_time": "2023-04-22T23:17:11.115Z"
   },
   {
    "duration": 161,
    "start_time": "2023-04-22T23:17:18.645Z"
   },
   {
    "duration": 11,
    "start_time": "2023-04-22T23:18:06.002Z"
   },
   {
    "duration": 177,
    "start_time": "2023-04-22T23:18:06.327Z"
   },
   {
    "duration": 6,
    "start_time": "2023-04-22T23:18:24.305Z"
   },
   {
    "duration": 228,
    "start_time": "2023-04-22T23:18:24.771Z"
   },
   {
    "duration": 7,
    "start_time": "2023-04-22T23:18:32.870Z"
   },
   {
    "duration": 6755,
    "start_time": "2023-04-22T23:18:33.806Z"
   },
   {
    "duration": 7,
    "start_time": "2023-04-22T23:18:48.931Z"
   },
   {
    "duration": 483,
    "start_time": "2023-04-22T23:18:49.105Z"
   },
   {
    "duration": 6,
    "start_time": "2023-04-22T23:18:57.346Z"
   },
   {
    "duration": 458,
    "start_time": "2023-04-22T23:18:58.131Z"
   },
   {
    "duration": 7,
    "start_time": "2023-04-22T23:19:15.504Z"
   },
   {
    "duration": 487,
    "start_time": "2023-04-22T23:19:16.105Z"
   },
   {
    "duration": 10,
    "start_time": "2023-04-22T23:20:29.328Z"
   },
   {
    "duration": 6694,
    "start_time": "2023-04-22T23:20:29.924Z"
   },
   {
    "duration": 7,
    "start_time": "2023-04-22T23:20:49.760Z"
   },
   {
    "duration": 6315,
    "start_time": "2023-04-22T23:20:50.539Z"
   },
   {
    "duration": 10,
    "start_time": "2023-04-22T23:21:55.294Z"
   },
   {
    "duration": 6390,
    "start_time": "2023-04-22T23:21:56.504Z"
   },
   {
    "duration": 7,
    "start_time": "2023-04-22T23:22:06.170Z"
   },
   {
    "duration": 6411,
    "start_time": "2023-04-22T23:22:06.320Z"
   },
   {
    "duration": 8,
    "start_time": "2023-04-22T23:24:02.204Z"
   },
   {
    "duration": 6180,
    "start_time": "2023-04-22T23:24:04.200Z"
   },
   {
    "duration": 56,
    "start_time": "2023-04-22T23:24:26.151Z"
   },
   {
    "duration": 7,
    "start_time": "2023-04-22T23:24:38.673Z"
   },
   {
    "duration": 6264,
    "start_time": "2023-04-22T23:24:40.001Z"
   },
   {
    "duration": 7,
    "start_time": "2023-04-22T23:25:37.125Z"
   },
   {
    "duration": 8,
    "start_time": "2023-04-22T23:26:06.117Z"
   },
   {
    "duration": 6420,
    "start_time": "2023-04-22T23:26:06.590Z"
   },
   {
    "duration": 8,
    "start_time": "2023-04-22T23:26:22.773Z"
   },
   {
    "duration": 6413,
    "start_time": "2023-04-22T23:26:24.858Z"
   },
   {
    "duration": 8,
    "start_time": "2023-04-22T23:27:41.473Z"
   },
   {
    "duration": 6326,
    "start_time": "2023-04-22T23:27:43.064Z"
   },
   {
    "duration": 9,
    "start_time": "2023-04-22T23:28:30.821Z"
   },
   {
    "duration": 373,
    "start_time": "2023-04-22T23:32:04.922Z"
   },
   {
    "duration": 495,
    "start_time": "2023-04-22T23:33:43.594Z"
   },
   {
    "duration": 435,
    "start_time": "2023-04-22T23:34:16.754Z"
   },
   {
    "duration": 9,
    "start_time": "2023-04-22T23:34:25.758Z"
   },
   {
    "duration": 6643,
    "start_time": "2023-04-22T23:34:26.499Z"
   },
   {
    "duration": 2106,
    "start_time": "2023-04-23T00:05:01.943Z"
   },
   {
    "duration": 452,
    "start_time": "2023-04-23T00:05:04.051Z"
   },
   {
    "duration": 43,
    "start_time": "2023-04-23T00:05:04.505Z"
   },
   {
    "duration": 50,
    "start_time": "2023-04-23T00:05:04.551Z"
   },
   {
    "duration": 19,
    "start_time": "2023-04-23T00:05:04.603Z"
   },
   {
    "duration": 123,
    "start_time": "2023-04-23T00:05:04.624Z"
   },
   {
    "duration": 60,
    "start_time": "2023-04-23T00:05:04.749Z"
   },
   {
    "duration": 23,
    "start_time": "2023-04-23T00:05:04.811Z"
   },
   {
    "duration": 255,
    "start_time": "2023-04-23T00:05:04.836Z"
   },
   {
    "duration": 95,
    "start_time": "2023-04-23T00:05:05.095Z"
   },
   {
    "duration": 106,
    "start_time": "2023-04-23T00:05:05.193Z"
   },
   {
    "duration": 388,
    "start_time": "2023-04-23T00:05:05.301Z"
   },
   {
    "duration": 95,
    "start_time": "2023-04-23T00:05:05.693Z"
   },
   {
    "duration": 6461,
    "start_time": "2023-04-23T00:05:05.790Z"
   },
   {
    "duration": 12,
    "start_time": "2023-04-23T00:12:52.003Z"
   },
   {
    "duration": 1936,
    "start_time": "2023-04-23T20:54:46.090Z"
   },
   {
    "duration": 423,
    "start_time": "2023-04-23T20:54:48.028Z"
   },
   {
    "duration": 43,
    "start_time": "2023-04-23T20:54:48.452Z"
   },
   {
    "duration": 51,
    "start_time": "2023-04-23T20:54:48.497Z"
   },
   {
    "duration": 17,
    "start_time": "2023-04-23T20:54:48.550Z"
   },
   {
    "duration": 99,
    "start_time": "2023-04-23T20:54:48.569Z"
   },
   {
    "duration": 36,
    "start_time": "2023-04-23T20:54:48.669Z"
   },
   {
    "duration": 43,
    "start_time": "2023-04-23T20:54:48.707Z"
   },
   {
    "duration": 194,
    "start_time": "2023-04-23T20:54:48.752Z"
   },
   {
    "duration": 88,
    "start_time": "2023-04-23T20:54:48.949Z"
   },
   {
    "duration": 102,
    "start_time": "2023-04-23T20:54:49.039Z"
   },
   {
    "duration": 393,
    "start_time": "2023-04-23T20:54:49.142Z"
   },
   {
    "duration": 100,
    "start_time": "2023-04-23T20:54:49.537Z"
   },
   {
    "duration": 6406,
    "start_time": "2023-04-23T20:54:49.638Z"
   },
   {
    "duration": 3,
    "start_time": "2023-04-23T20:55:43.619Z"
   },
   {
    "duration": 22,
    "start_time": "2023-04-23T20:55:46.278Z"
   },
   {
    "duration": 9,
    "start_time": "2023-04-23T20:55:47.153Z"
   },
   {
    "duration": 89,
    "start_time": "2023-04-23T20:55:50.231Z"
   },
   {
    "duration": 27,
    "start_time": "2023-04-23T20:55:51.969Z"
   },
   {
    "duration": 18,
    "start_time": "2023-04-23T20:55:52.847Z"
   },
   {
    "duration": 3,
    "start_time": "2023-04-23T20:55:58.158Z"
   },
   {
    "duration": 10,
    "start_time": "2023-04-23T20:56:01.675Z"
   },
   {
    "duration": 5674,
    "start_time": "2023-04-23T20:56:02.120Z"
   },
   {
    "duration": 99,
    "start_time": "2023-04-23T21:09:33.100Z"
   },
   {
    "duration": 2045,
    "start_time": "2023-04-23T21:09:42.333Z"
   },
   {
    "duration": 463,
    "start_time": "2023-04-23T21:09:44.380Z"
   },
   {
    "duration": 41,
    "start_time": "2023-04-23T21:09:44.845Z"
   },
   {
    "duration": 48,
    "start_time": "2023-04-23T21:09:44.888Z"
   },
   {
    "duration": 19,
    "start_time": "2023-04-23T21:09:44.939Z"
   },
   {
    "duration": 114,
    "start_time": "2023-04-23T21:09:44.960Z"
   },
   {
    "duration": 37,
    "start_time": "2023-04-23T21:09:45.075Z"
   },
   {
    "duration": 46,
    "start_time": "2023-04-23T21:09:45.114Z"
   },
   {
    "duration": 96,
    "start_time": "2023-04-23T21:09:45.161Z"
   },
   {
    "duration": 115,
    "start_time": "2023-04-23T21:09:45.338Z"
   },
   {
    "duration": 16,
    "start_time": "2023-04-23T21:09:45.455Z"
   },
   {
    "duration": 367,
    "start_time": "2023-04-23T21:09:45.473Z"
   },
   {
    "duration": 98,
    "start_time": "2023-04-23T21:09:45.842Z"
   },
   {
    "duration": 122,
    "start_time": "2023-04-23T21:09:45.942Z"
   },
   {
    "duration": 0,
    "start_time": "2023-04-23T21:09:46.066Z"
   },
   {
    "duration": 5819,
    "start_time": "2023-04-23T21:09:57.497Z"
   },
   {
    "duration": 47,
    "start_time": "2023-04-24T04:31:09.490Z"
   },
   {
    "duration": 1438,
    "start_time": "2023-04-24T04:31:15.141Z"
   },
   {
    "duration": 871,
    "start_time": "2023-04-24T04:31:16.581Z"
   },
   {
    "duration": 33,
    "start_time": "2023-04-24T04:31:17.454Z"
   },
   {
    "duration": 20,
    "start_time": "2023-04-24T04:31:17.490Z"
   },
   {
    "duration": 15,
    "start_time": "2023-04-24T04:31:17.511Z"
   },
   {
    "duration": 105,
    "start_time": "2023-04-24T04:31:17.528Z"
   },
   {
    "duration": 44,
    "start_time": "2023-04-24T04:31:17.635Z"
   },
   {
    "duration": 120,
    "start_time": "2023-04-24T04:31:17.681Z"
   },
   {
    "duration": 0,
    "start_time": "2023-04-24T04:31:17.803Z"
   },
   {
    "duration": 0,
    "start_time": "2023-04-24T04:31:17.804Z"
   },
   {
    "duration": 0,
    "start_time": "2023-04-24T04:31:17.805Z"
   },
   {
    "duration": 0,
    "start_time": "2023-04-24T04:31:17.806Z"
   },
   {
    "duration": 0,
    "start_time": "2023-04-24T04:31:17.807Z"
   },
   {
    "duration": 0,
    "start_time": "2023-04-24T04:31:17.808Z"
   },
   {
    "duration": 16,
    "start_time": "2023-04-24T04:31:51.805Z"
   },
   {
    "duration": 17,
    "start_time": "2023-04-24T04:32:03.521Z"
   },
   {
    "duration": 169,
    "start_time": "2023-04-24T07:23:29.565Z"
   },
   {
    "duration": 3,
    "start_time": "2023-04-24T07:23:47.174Z"
   },
   {
    "duration": 2,
    "start_time": "2023-04-24T07:24:20.590Z"
   },
   {
    "duration": 1658,
    "start_time": "2023-04-24T07:24:28.983Z"
   },
   {
    "duration": 972,
    "start_time": "2023-04-24T07:24:30.910Z"
   },
   {
    "duration": 3,
    "start_time": "2023-04-24T07:24:31.884Z"
   },
   {
    "duration": 2,
    "start_time": "2023-04-24T07:24:40.510Z"
   },
   {
    "duration": 7,
    "start_time": "2023-04-24T07:24:44.941Z"
   },
   {
    "duration": 122,
    "start_time": "2023-04-24T07:26:06.026Z"
   },
   {
    "duration": 7,
    "start_time": "2023-04-24T07:27:22.114Z"
   },
   {
    "duration": 21,
    "start_time": "2023-04-24T07:41:19.333Z"
   },
   {
    "duration": 8,
    "start_time": "2023-04-24T07:41:38.740Z"
   },
   {
    "duration": 9,
    "start_time": "2023-04-24T07:44:13.636Z"
   },
   {
    "duration": 8,
    "start_time": "2023-04-24T07:44:23.797Z"
   },
   {
    "duration": 15920,
    "start_time": "2023-04-24T07:51:40.237Z"
   },
   {
    "duration": 416,
    "start_time": "2023-04-24T07:51:56.159Z"
   },
   {
    "duration": 67,
    "start_time": "2023-04-24T07:51:56.582Z"
   },
   {
    "duration": 8378,
    "start_time": "2023-04-24T07:52:40.089Z"
   },
   {
    "duration": 8052,
    "start_time": "2023-04-24T08:27:47.391Z"
   },
   {
    "duration": 7062,
    "start_time": "2023-04-24T08:28:24.897Z"
   },
   {
    "duration": 42,
    "start_time": "2023-04-24T08:31:16.387Z"
   },
   {
    "duration": 57,
    "start_time": "2023-04-24T08:31:27.794Z"
   },
   {
    "duration": 78,
    "start_time": "2023-04-24T08:31:37.287Z"
   },
   {
    "duration": 3,
    "start_time": "2023-04-24T08:31:44.934Z"
   },
   {
    "duration": 4,
    "start_time": "2023-04-24T08:32:37.806Z"
   },
   {
    "duration": 27,
    "start_time": "2023-04-24T08:33:11.965Z"
   },
   {
    "duration": 21,
    "start_time": "2023-04-24T08:33:20.461Z"
   },
   {
    "duration": 432,
    "start_time": "2023-04-24T08:33:32.699Z"
   },
   {
    "duration": 27,
    "start_time": "2023-04-24T08:33:33.894Z"
   },
   {
    "duration": 397,
    "start_time": "2023-04-24T08:33:54.994Z"
   },
   {
    "duration": 35,
    "start_time": "2023-04-24T08:34:01.869Z"
   },
   {
    "duration": 69,
    "start_time": "2023-04-24T08:49:13.264Z"
   },
   {
    "duration": 354,
    "start_time": "2023-04-24T08:49:27.987Z"
   },
   {
    "duration": 380,
    "start_time": "2023-04-24T08:49:45.641Z"
   },
   {
    "duration": 78,
    "start_time": "2023-04-24T08:52:35.748Z"
   },
   {
    "duration": 367,
    "start_time": "2023-04-24T08:52:42.448Z"
   },
   {
    "duration": 80,
    "start_time": "2023-04-24T08:52:43.735Z"
   },
   {
    "duration": 367,
    "start_time": "2023-04-24T08:53:06.095Z"
   },
   {
    "duration": 77,
    "start_time": "2023-04-24T08:53:08.831Z"
   },
   {
    "duration": 23,
    "start_time": "2023-04-24T08:53:47.964Z"
   },
   {
    "duration": 2608,
    "start_time": "2023-04-24T08:53:56.790Z"
   },
   {
    "duration": 15,
    "start_time": "2023-04-24T08:54:01.328Z"
   },
   {
    "duration": 19,
    "start_time": "2023-04-24T08:54:09.128Z"
   },
   {
    "duration": 749,
    "start_time": "2023-04-24T08:54:13.376Z"
   },
   {
    "duration": 46,
    "start_time": "2023-04-24T08:54:58.769Z"
   },
   {
    "duration": 330,
    "start_time": "2023-04-24T08:58:57.992Z"
   },
   {
    "duration": 37,
    "start_time": "2023-04-24T08:58:59.625Z"
   },
   {
    "duration": 72,
    "start_time": "2023-04-24T08:59:03.556Z"
   },
   {
    "duration": 342,
    "start_time": "2023-04-24T09:06:02.450Z"
   },
   {
    "duration": 40,
    "start_time": "2023-04-24T09:06:02.793Z"
   },
   {
    "duration": 71,
    "start_time": "2023-04-24T09:06:04.558Z"
   },
   {
    "duration": 7,
    "start_time": "2023-04-24T09:10:47.930Z"
   },
   {
    "duration": 9,
    "start_time": "2023-04-24T09:10:52.100Z"
   },
   {
    "duration": 3858,
    "start_time": "2023-04-24T09:10:57.563Z"
   },
   {
    "duration": 326,
    "start_time": "2023-04-24T09:11:01.423Z"
   },
   {
    "duration": 39,
    "start_time": "2023-04-24T09:11:01.751Z"
   },
   {
    "duration": 80,
    "start_time": "2023-04-24T09:11:01.792Z"
   },
   {
    "duration": 18,
    "start_time": "2023-04-24T09:11:01.873Z"
   },
   {
    "duration": 54,
    "start_time": "2023-04-24T09:11:01.892Z"
   },
   {
    "duration": 152,
    "start_time": "2023-04-24T09:11:01.947Z"
   },
   {
    "duration": 31,
    "start_time": "2023-04-24T09:11:02.100Z"
   },
   {
    "duration": 22,
    "start_time": "2023-04-24T09:11:02.132Z"
   },
   {
    "duration": 123,
    "start_time": "2023-04-24T09:11:02.156Z"
   },
   {
    "duration": 96,
    "start_time": "2023-04-24T09:11:02.281Z"
   },
   {
    "duration": 97,
    "start_time": "2023-04-24T09:11:02.381Z"
   },
   {
    "duration": 394,
    "start_time": "2023-04-24T09:11:02.480Z"
   },
   {
    "duration": 96,
    "start_time": "2023-04-24T09:11:02.876Z"
   },
   {
    "duration": 1784,
    "start_time": "2023-04-24T09:11:02.974Z"
   },
   {
    "duration": 7,
    "start_time": "2023-04-24T09:11:16.004Z"
   },
   {
    "duration": 5049,
    "start_time": "2023-04-24T09:11:17.604Z"
   },
   {
    "duration": 312,
    "start_time": "2023-04-24T09:12:28.652Z"
   },
   {
    "duration": 37,
    "start_time": "2023-04-24T09:12:30.397Z"
   },
   {
    "duration": 69,
    "start_time": "2023-04-24T09:12:31.243Z"
   },
   {
    "duration": 4,
    "start_time": "2023-04-24T10:00:00.269Z"
   },
   {
    "duration": 320,
    "start_time": "2023-04-24T10:00:35.589Z"
   },
   {
    "duration": 35,
    "start_time": "2023-04-24T10:00:35.910Z"
   },
   {
    "duration": 77,
    "start_time": "2023-04-24T10:00:37.365Z"
   },
   {
    "duration": 317,
    "start_time": "2023-04-24T10:02:32.632Z"
   },
   {
    "duration": 34,
    "start_time": "2023-04-24T10:02:34.552Z"
   },
   {
    "duration": 98,
    "start_time": "2023-04-24T10:02:38.675Z"
   },
   {
    "duration": 107,
    "start_time": "2023-04-24T10:09:08.388Z"
   },
   {
    "duration": 76,
    "start_time": "2023-04-24T10:09:08.672Z"
   },
   {
    "duration": 345,
    "start_time": "2023-04-24T10:09:22.112Z"
   },
   {
    "duration": 146,
    "start_time": "2023-04-24T10:09:22.458Z"
   },
   {
    "duration": 91,
    "start_time": "2023-04-24T10:10:09.992Z"
   },
   {
    "duration": 118,
    "start_time": "2023-04-24T10:10:10.308Z"
   },
   {
    "duration": 83,
    "start_time": "2023-04-24T10:10:18.020Z"
   },
   {
    "duration": 333,
    "start_time": "2023-04-24T10:10:20.632Z"
   },
   {
    "duration": 56,
    "start_time": "2023-04-24T10:10:21.308Z"
   },
   {
    "duration": 121,
    "start_time": "2023-04-24T10:10:31.736Z"
   },
   {
    "duration": 214,
    "start_time": "2023-04-24T10:10:39.520Z"
   },
   {
    "duration": 99,
    "start_time": "2023-04-24T10:16:22.599Z"
   },
   {
    "duration": 125,
    "start_time": "2023-04-24T10:16:22.750Z"
   },
   {
    "duration": 62,
    "start_time": "2023-04-24T10:16:40.728Z"
   },
   {
    "duration": 86,
    "start_time": "2023-04-24T10:16:54.951Z"
   },
   {
    "duration": 4,
    "start_time": "2023-04-24T10:17:08.683Z"
   },
   {
    "duration": 238,
    "start_time": "2023-04-24T10:17:09.855Z"
   },
   {
    "duration": 15,
    "start_time": "2023-04-24T10:44:02.351Z"
   },
   {
    "duration": 11,
    "start_time": "2023-04-24T10:44:22.679Z"
   },
   {
    "duration": 28,
    "start_time": "2023-04-24T10:44:25.279Z"
   },
   {
    "duration": 18,
    "start_time": "2023-04-24T10:44:27.739Z"
   },
   {
    "duration": 30,
    "start_time": "2023-04-24T10:51:26.847Z"
   },
   {
    "duration": 283,
    "start_time": "2023-04-24T10:59:21.092Z"
   },
   {
    "duration": 62,
    "start_time": "2023-04-24T11:16:55.746Z"
   },
   {
    "duration": 76,
    "start_time": "2023-04-24T11:17:14.258Z"
   },
   {
    "duration": 25,
    "start_time": "2023-04-24T11:17:25.302Z"
   },
   {
    "duration": 12,
    "start_time": "2023-04-24T11:18:20.742Z"
   },
   {
    "duration": 14,
    "start_time": "2023-04-24T11:18:30.026Z"
   },
   {
    "duration": 12,
    "start_time": "2023-04-24T11:18:41.435Z"
   },
   {
    "duration": 76,
    "start_time": "2023-04-24T11:18:56.700Z"
   },
   {
    "duration": 303,
    "start_time": "2023-04-24T11:19:37.179Z"
   },
   {
    "duration": 209,
    "start_time": "2023-04-24T11:19:55.572Z"
   },
   {
    "duration": 390,
    "start_time": "2023-04-24T11:33:58.084Z"
   },
   {
    "duration": 398,
    "start_time": "2023-04-24T11:34:14.284Z"
   },
   {
    "duration": 334,
    "start_time": "2023-04-24T11:34:21.340Z"
   },
   {
    "duration": 636,
    "start_time": "2023-04-24T11:34:45.640Z"
   },
   {
    "duration": 458,
    "start_time": "2023-04-24T11:34:59.028Z"
   },
   {
    "duration": 530,
    "start_time": "2023-04-24T11:35:08.645Z"
   },
   {
    "duration": 609,
    "start_time": "2023-04-24T11:35:12.077Z"
   },
   {
    "duration": 109,
    "start_time": "2023-04-24T11:35:44.072Z"
   },
   {
    "duration": 11,
    "start_time": "2023-04-24T11:41:32.614Z"
   },
   {
    "duration": 11,
    "start_time": "2023-04-24T11:42:00.957Z"
   },
   {
    "duration": 12,
    "start_time": "2023-04-24T11:42:26.909Z"
   },
   {
    "duration": 1293,
    "start_time": "2023-04-24T11:42:34.735Z"
   },
   {
    "duration": 337,
    "start_time": "2023-04-24T11:42:36.032Z"
   },
   {
    "duration": 4,
    "start_time": "2023-04-24T11:42:36.373Z"
   },
   {
    "duration": 332,
    "start_time": "2023-04-24T11:42:36.379Z"
   },
   {
    "duration": 13,
    "start_time": "2023-04-24T11:42:36.713Z"
   },
   {
    "duration": 50,
    "start_time": "2023-04-24T11:42:36.728Z"
   },
   {
    "duration": 23,
    "start_time": "2023-04-24T11:42:36.780Z"
   },
   {
    "duration": 528,
    "start_time": "2023-04-24T11:42:36.805Z"
   },
   {
    "duration": 0,
    "start_time": "2023-04-24T11:42:37.335Z"
   },
   {
    "duration": 0,
    "start_time": "2023-04-24T11:42:37.336Z"
   },
   {
    "duration": 0,
    "start_time": "2023-04-24T11:42:37.337Z"
   },
   {
    "duration": 0,
    "start_time": "2023-04-24T11:42:37.339Z"
   },
   {
    "duration": 0,
    "start_time": "2023-04-24T11:42:37.340Z"
   },
   {
    "duration": 66,
    "start_time": "2023-04-24T11:42:57.419Z"
   },
   {
    "duration": 88,
    "start_time": "2023-04-24T11:43:06.107Z"
   },
   {
    "duration": 2,
    "start_time": "2023-04-24T11:43:07.911Z"
   },
   {
    "duration": 3,
    "start_time": "2023-04-24T11:43:08.851Z"
   },
   {
    "duration": 22,
    "start_time": "2023-04-24T11:43:10.571Z"
   },
   {
    "duration": 13,
    "start_time": "2023-04-24T11:43:20.915Z"
   },
   {
    "duration": 20,
    "start_time": "2023-04-24T11:43:35.675Z"
   },
   {
    "duration": 11,
    "start_time": "2023-04-24T11:44:06.272Z"
   },
   {
    "duration": 14,
    "start_time": "2023-04-24T11:49:14.188Z"
   },
   {
    "duration": 16,
    "start_time": "2023-04-24T11:50:12.931Z"
   },
   {
    "duration": 17,
    "start_time": "2023-04-24T11:50:25.392Z"
   },
   {
    "duration": 6,
    "start_time": "2023-04-24T11:54:16.161Z"
   },
   {
    "duration": 6,
    "start_time": "2023-04-24T12:03:07.462Z"
   },
   {
    "duration": 10,
    "start_time": "2023-04-24T12:03:16.554Z"
   },
   {
    "duration": 8,
    "start_time": "2023-04-24T12:07:20.575Z"
   },
   {
    "duration": 14,
    "start_time": "2023-04-24T12:07:21.864Z"
   },
   {
    "duration": 1321,
    "start_time": "2023-04-24T12:07:50.011Z"
   },
   {
    "duration": 7,
    "start_time": "2023-04-24T12:08:44.363Z"
   },
   {
    "duration": 24,
    "start_time": "2023-04-24T12:08:45.443Z"
   },
   {
    "duration": 19,
    "start_time": "2023-04-24T12:08:50.115Z"
   },
   {
    "duration": 5,
    "start_time": "2023-04-24T12:09:43.514Z"
   },
   {
    "duration": 18,
    "start_time": "2023-04-24T12:09:44.925Z"
   },
   {
    "duration": 8,
    "start_time": "2023-04-24T12:10:15.013Z"
   },
   {
    "duration": 1603,
    "start_time": "2023-04-24T12:10:16.392Z"
   },
   {
    "duration": 9,
    "start_time": "2023-04-24T12:10:40.287Z"
   },
   {
    "duration": 7,
    "start_time": "2023-04-24T12:11:03.703Z"
   },
   {
    "duration": 4636,
    "start_time": "2023-04-24T12:11:04.636Z"
   },
   {
    "duration": 1233,
    "start_time": "2023-04-24T12:28:33.086Z"
   },
   {
    "duration": 326,
    "start_time": "2023-04-24T12:28:34.321Z"
   },
   {
    "duration": 4,
    "start_time": "2023-04-24T12:28:34.649Z"
   },
   {
    "duration": 271,
    "start_time": "2023-04-24T12:28:34.655Z"
   },
   {
    "duration": 14,
    "start_time": "2023-04-24T12:28:34.927Z"
   },
   {
    "duration": 48,
    "start_time": "2023-04-24T12:28:34.943Z"
   },
   {
    "duration": 30,
    "start_time": "2023-04-24T12:28:34.993Z"
   },
   {
    "duration": 59,
    "start_time": "2023-04-24T12:28:35.025Z"
   },
   {
    "duration": 5,
    "start_time": "2023-04-24T12:28:35.086Z"
   },
   {
    "duration": 98,
    "start_time": "2023-04-24T12:28:35.174Z"
   },
   {
    "duration": 27,
    "start_time": "2023-04-24T12:28:35.274Z"
   },
   {
    "duration": 13,
    "start_time": "2023-04-24T12:28:35.302Z"
   },
   {
    "duration": 4775,
    "start_time": "2023-04-24T12:28:35.316Z"
   },
   {
    "duration": 657,
    "start_time": "2023-04-24T12:35:25.992Z"
   },
   {
    "duration": 1225,
    "start_time": "2023-04-24T12:37:33.862Z"
   },
   {
    "duration": 318,
    "start_time": "2023-04-24T12:37:35.089Z"
   },
   {
    "duration": 4,
    "start_time": "2023-04-24T12:37:35.409Z"
   },
   {
    "duration": 269,
    "start_time": "2023-04-24T12:37:35.414Z"
   },
   {
    "duration": 15,
    "start_time": "2023-04-24T12:37:35.684Z"
   },
   {
    "duration": 70,
    "start_time": "2023-04-24T12:37:35.701Z"
   },
   {
    "duration": 57,
    "start_time": "2023-04-24T12:37:35.773Z"
   },
   {
    "duration": 143,
    "start_time": "2023-04-24T12:37:35.832Z"
   },
   {
    "duration": 115,
    "start_time": "2023-04-24T12:37:35.977Z"
   },
   {
    "duration": 63,
    "start_time": "2023-04-24T12:37:36.094Z"
   },
   {
    "duration": 64,
    "start_time": "2023-04-24T12:37:36.159Z"
   },
   {
    "duration": 33,
    "start_time": "2023-04-24T12:37:36.225Z"
   },
   {
    "duration": 4645,
    "start_time": "2023-04-24T12:37:36.259Z"
   },
   {
    "duration": 1165,
    "start_time": "2023-04-24T22:14:37.462Z"
   },
   {
    "duration": 373,
    "start_time": "2023-04-24T22:14:38.629Z"
   },
   {
    "duration": 4,
    "start_time": "2023-04-24T22:14:39.004Z"
   },
   {
    "duration": 302,
    "start_time": "2023-04-24T22:14:39.011Z"
   },
   {
    "duration": 16,
    "start_time": "2023-04-24T22:14:39.314Z"
   },
   {
    "duration": 52,
    "start_time": "2023-04-24T22:14:39.332Z"
   },
   {
    "duration": 3,
    "start_time": "2023-04-24T22:14:39.385Z"
   },
   {
    "duration": 385,
    "start_time": "2023-04-24T22:14:39.390Z"
   },
   {
    "duration": 89,
    "start_time": "2023-04-24T22:14:39.778Z"
   },
   {
    "duration": 4,
    "start_time": "2023-04-24T22:14:39.871Z"
   },
   {
    "duration": 102,
    "start_time": "2023-04-24T22:14:39.876Z"
   },
   {
    "duration": 5,
    "start_time": "2023-04-24T22:14:39.980Z"
   },
   {
    "duration": 5877,
    "start_time": "2023-04-24T22:14:39.987Z"
   },
   {
    "duration": 9,
    "start_time": "2023-04-24T22:16:18.352Z"
   },
   {
    "duration": 5821,
    "start_time": "2023-04-24T22:16:20.802Z"
   },
   {
    "duration": 6,
    "start_time": "2023-04-24T22:18:25.204Z"
   },
   {
    "duration": 7,
    "start_time": "2023-04-24T22:18:32.728Z"
   },
   {
    "duration": 2095,
    "start_time": "2023-04-24T22:18:34.785Z"
   },
   {
    "duration": 6,
    "start_time": "2023-04-24T22:18:44.100Z"
   },
   {
    "duration": 5666,
    "start_time": "2023-04-24T22:18:45.909Z"
   },
   {
    "duration": 7,
    "start_time": "2023-04-24T22:20:08.202Z"
   },
   {
    "duration": 5680,
    "start_time": "2023-04-24T22:20:10.022Z"
   },
   {
    "duration": 6,
    "start_time": "2023-04-24T22:20:18.783Z"
   },
   {
    "duration": 5692,
    "start_time": "2023-04-24T22:20:20.576Z"
   },
   {
    "duration": 60,
    "start_time": "2023-04-25T09:57:32.774Z"
   },
   {
    "duration": 1632,
    "start_time": "2023-04-25T10:02:26.854Z"
   },
   {
    "duration": 1755,
    "start_time": "2023-04-25T10:02:28.489Z"
   },
   {
    "duration": 5,
    "start_time": "2023-04-25T10:02:30.246Z"
   },
   {
    "duration": 397,
    "start_time": "2023-04-25T10:02:30.253Z"
   },
   {
    "duration": 18,
    "start_time": "2023-04-25T10:02:30.653Z"
   },
   {
    "duration": 108,
    "start_time": "2023-04-25T10:02:30.673Z"
   },
   {
    "duration": 53,
    "start_time": "2023-04-25T10:02:30.783Z"
   },
   {
    "duration": 277,
    "start_time": "2023-04-25T10:02:30.838Z"
   },
   {
    "duration": 4,
    "start_time": "2023-04-25T10:02:31.117Z"
   },
   {
    "duration": 91,
    "start_time": "2023-04-25T10:02:31.124Z"
   },
   {
    "duration": 32,
    "start_time": "2023-04-25T10:02:31.217Z"
   },
   {
    "duration": 9,
    "start_time": "2023-04-25T10:02:31.251Z"
   },
   {
    "duration": 2258,
    "start_time": "2023-04-25T10:02:31.262Z"
   },
   {
    "duration": 6,
    "start_time": "2023-04-25T10:02:55.336Z"
   },
   {
    "duration": 6306,
    "start_time": "2023-04-25T10:03:24.509Z"
   },
   {
    "duration": 1494,
    "start_time": "2023-04-25T10:09:13.193Z"
   },
   {
    "duration": 397,
    "start_time": "2023-04-25T10:09:14.689Z"
   },
   {
    "duration": 5,
    "start_time": "2023-04-25T10:09:15.088Z"
   },
   {
    "duration": 446,
    "start_time": "2023-04-25T10:09:15.095Z"
   },
   {
    "duration": 21,
    "start_time": "2023-04-25T10:09:15.543Z"
   },
   {
    "duration": 54,
    "start_time": "2023-04-25T10:09:15.566Z"
   },
   {
    "duration": 47,
    "start_time": "2023-04-25T10:09:15.622Z"
   },
   {
    "duration": 341,
    "start_time": "2023-04-25T10:09:15.671Z"
   },
   {
    "duration": 7,
    "start_time": "2023-04-25T10:09:16.019Z"
   },
   {
    "duration": 5,
    "start_time": "2023-04-25T10:09:16.113Z"
   },
   {
    "duration": 21,
    "start_time": "2023-04-25T10:09:16.120Z"
   },
   {
    "duration": 8,
    "start_time": "2023-04-25T10:09:16.143Z"
   },
   {
    "duration": 6412,
    "start_time": "2023-04-25T10:09:16.153Z"
   },
   {
    "duration": 1938,
    "start_time": "2023-04-25T20:22:56.864Z"
   },
   {
    "duration": 400,
    "start_time": "2023-04-25T20:22:58.804Z"
   },
   {
    "duration": 4,
    "start_time": "2023-04-25T20:22:59.206Z"
   },
   {
    "duration": 306,
    "start_time": "2023-04-25T20:22:59.223Z"
   },
   {
    "duration": 12,
    "start_time": "2023-04-25T20:22:59.531Z"
   },
   {
    "duration": 34,
    "start_time": "2023-04-25T20:22:59.545Z"
   },
   {
    "duration": 57,
    "start_time": "2023-04-25T20:22:59.580Z"
   },
   {
    "duration": 101,
    "start_time": "2023-04-25T20:22:59.639Z"
   },
   {
    "duration": 81,
    "start_time": "2023-04-25T20:22:59.741Z"
   },
   {
    "duration": 7,
    "start_time": "2023-04-25T20:22:59.830Z"
   },
   {
    "duration": 92,
    "start_time": "2023-04-25T20:22:59.839Z"
   },
   {
    "duration": 7,
    "start_time": "2023-04-25T20:22:59.932Z"
   },
   {
    "duration": 5094,
    "start_time": "2023-04-25T20:22:59.941Z"
   },
   {
    "duration": 4,
    "start_time": "2023-04-25T20:23:29.158Z"
   },
   {
    "duration": 113,
    "start_time": "2023-04-25T20:23:38.286Z"
   },
   {
    "duration": 4,
    "start_time": "2023-04-25T20:23:48.532Z"
   },
   {
    "duration": 9,
    "start_time": "2023-04-25T20:23:59.583Z"
   },
   {
    "duration": 1466,
    "start_time": "2023-04-26T01:18:06.599Z"
   },
   {
    "duration": 1744,
    "start_time": "2023-04-26T01:18:08.067Z"
   },
   {
    "duration": 4,
    "start_time": "2023-04-26T01:18:09.813Z"
   },
   {
    "duration": 305,
    "start_time": "2023-04-26T01:18:09.819Z"
   },
   {
    "duration": 15,
    "start_time": "2023-04-26T01:18:10.126Z"
   },
   {
    "duration": 64,
    "start_time": "2023-04-26T01:18:10.142Z"
   },
   {
    "duration": 29,
    "start_time": "2023-04-26T01:18:10.208Z"
   },
   {
    "duration": 226,
    "start_time": "2023-04-26T01:18:10.239Z"
   },
   {
    "duration": 94,
    "start_time": "2023-04-26T01:18:10.467Z"
   },
   {
    "duration": 99,
    "start_time": "2023-04-26T01:18:10.564Z"
   },
   {
    "duration": 25,
    "start_time": "2023-04-26T01:18:10.665Z"
   },
   {
    "duration": 6,
    "start_time": "2023-04-26T01:18:10.691Z"
   },
   {
    "duration": 5808,
    "start_time": "2023-04-26T01:18:10.699Z"
   },
   {
    "duration": 114,
    "start_time": "2023-04-26T01:23:30.577Z"
   },
   {
    "duration": 1265,
    "start_time": "2023-04-26T01:23:36.915Z"
   },
   {
    "duration": 378,
    "start_time": "2023-04-26T01:23:38.182Z"
   },
   {
    "duration": 4,
    "start_time": "2023-04-26T01:23:38.562Z"
   },
   {
    "duration": 307,
    "start_time": "2023-04-26T01:23:38.568Z"
   },
   {
    "duration": 17,
    "start_time": "2023-04-26T01:23:38.877Z"
   },
   {
    "duration": 63,
    "start_time": "2023-04-26T01:23:38.896Z"
   },
   {
    "duration": 118,
    "start_time": "2023-04-26T01:23:38.961Z"
   },
   {
    "duration": 0,
    "start_time": "2023-04-26T01:23:39.082Z"
   },
   {
    "duration": 0,
    "start_time": "2023-04-26T01:23:39.083Z"
   },
   {
    "duration": 0,
    "start_time": "2023-04-26T01:23:39.085Z"
   },
   {
    "duration": 0,
    "start_time": "2023-04-26T01:23:39.086Z"
   },
   {
    "duration": 0,
    "start_time": "2023-04-26T01:23:39.087Z"
   },
   {
    "duration": 0,
    "start_time": "2023-04-26T01:23:39.088Z"
   },
   {
    "duration": 1270,
    "start_time": "2023-04-26T01:25:37.390Z"
   },
   {
    "duration": 381,
    "start_time": "2023-04-26T01:25:38.662Z"
   },
   {
    "duration": 6,
    "start_time": "2023-04-26T01:25:39.044Z"
   },
   {
    "duration": 297,
    "start_time": "2023-04-26T01:25:39.052Z"
   },
   {
    "duration": 25,
    "start_time": "2023-04-26T01:25:39.350Z"
   },
   {
    "duration": 43,
    "start_time": "2023-04-26T01:25:39.377Z"
   },
   {
    "duration": 55,
    "start_time": "2023-04-26T01:25:39.422Z"
   },
   {
    "duration": 189,
    "start_time": "2023-04-26T01:25:39.479Z"
   },
   {
    "duration": 3,
    "start_time": "2023-04-26T01:25:39.759Z"
   },
   {
    "duration": 9,
    "start_time": "2023-04-26T01:25:39.765Z"
   },
   {
    "duration": 24,
    "start_time": "2023-04-26T01:25:39.775Z"
   },
   {
    "duration": 8,
    "start_time": "2023-04-26T01:25:39.801Z"
   },
   {
    "duration": 5779,
    "start_time": "2023-04-26T01:25:39.860Z"
   },
   {
    "duration": 1298,
    "start_time": "2023-04-26T01:29:35.002Z"
   },
   {
    "duration": 394,
    "start_time": "2023-04-26T01:29:36.302Z"
   },
   {
    "duration": 6,
    "start_time": "2023-04-26T01:29:36.698Z"
   },
   {
    "duration": 302,
    "start_time": "2023-04-26T01:29:36.706Z"
   },
   {
    "duration": 16,
    "start_time": "2023-04-26T01:29:37.010Z"
   },
   {
    "duration": 53,
    "start_time": "2023-04-26T01:29:37.028Z"
   },
   {
    "duration": 39,
    "start_time": "2023-04-26T01:29:37.083Z"
   },
   {
    "duration": 142,
    "start_time": "2023-04-26T01:29:37.124Z"
   },
   {
    "duration": 91,
    "start_time": "2023-04-26T01:29:37.269Z"
   },
   {
    "duration": 5,
    "start_time": "2023-04-26T01:29:37.364Z"
   },
   {
    "duration": 100,
    "start_time": "2023-04-26T01:29:37.371Z"
   },
   {
    "duration": 6,
    "start_time": "2023-04-26T01:29:37.473Z"
   },
   {
    "duration": 5891,
    "start_time": "2023-04-26T01:29:37.480Z"
   },
   {
    "duration": 9,
    "start_time": "2023-04-27T06:28:58.828Z"
   },
   {
    "duration": 45,
    "start_time": "2023-04-27T06:29:01.952Z"
   },
   {
    "duration": 5,
    "start_time": "2023-04-27T06:29:05.068Z"
   },
   {
    "duration": 1388,
    "start_time": "2023-06-10T16:37:58.770Z"
   },
   {
    "duration": 874,
    "start_time": "2023-06-10T16:38:00.160Z"
   },
   {
    "duration": 6,
    "start_time": "2023-06-10T16:38:01.042Z"
   },
   {
    "duration": 323,
    "start_time": "2023-06-10T16:38:01.051Z"
   },
   {
    "duration": 12,
    "start_time": "2023-06-10T16:38:01.376Z"
   },
   {
    "duration": 95,
    "start_time": "2023-06-10T16:38:01.390Z"
   },
   {
    "duration": 56,
    "start_time": "2023-06-10T16:38:01.486Z"
   },
   {
    "duration": 295,
    "start_time": "2023-06-10T16:38:01.544Z"
   },
   {
    "duration": 67,
    "start_time": "2023-06-10T16:38:01.856Z"
   },
   {
    "duration": 146,
    "start_time": "2023-06-10T16:38:01.929Z"
   },
   {
    "duration": 112,
    "start_time": "2023-06-10T16:38:02.077Z"
   },
   {
    "duration": 257,
    "start_time": "2023-06-10T16:38:02.191Z"
   },
   {
    "duration": 4934,
    "start_time": "2023-06-10T16:38:02.449Z"
   },
   {
    "duration": 1391,
    "start_time": "2023-06-10T16:43:02.082Z"
   },
   {
    "duration": 372,
    "start_time": "2023-06-10T16:43:03.475Z"
   },
   {
    "duration": 4,
    "start_time": "2023-06-10T16:43:03.849Z"
   },
   {
    "duration": 307,
    "start_time": "2023-06-10T16:43:03.855Z"
   },
   {
    "duration": 12,
    "start_time": "2023-06-10T16:43:04.164Z"
   },
   {
    "duration": 52,
    "start_time": "2023-06-10T16:43:04.177Z"
   },
   {
    "duration": 42,
    "start_time": "2023-06-10T16:43:04.230Z"
   },
   {
    "duration": 151,
    "start_time": "2023-06-10T16:43:04.274Z"
   },
   {
    "duration": 5,
    "start_time": "2023-06-10T16:43:04.427Z"
   },
   {
    "duration": 120,
    "start_time": "2023-06-10T16:43:04.435Z"
   },
   {
    "duration": 41,
    "start_time": "2023-06-10T16:43:04.557Z"
   },
   {
    "duration": 30,
    "start_time": "2023-06-10T16:43:04.599Z"
   },
   {
    "duration": 5064,
    "start_time": "2023-06-10T16:43:04.631Z"
   },
   {
    "duration": 1321,
    "start_time": "2023-06-10T16:43:12.828Z"
   },
   {
    "duration": 362,
    "start_time": "2023-06-10T16:43:14.151Z"
   },
   {
    "duration": 7,
    "start_time": "2023-06-10T16:43:14.514Z"
   },
   {
    "duration": 298,
    "start_time": "2023-06-10T16:43:14.523Z"
   },
   {
    "duration": 19,
    "start_time": "2023-06-10T16:43:14.822Z"
   },
   {
    "duration": 34,
    "start_time": "2023-06-10T16:43:14.843Z"
   },
   {
    "duration": 50,
    "start_time": "2023-06-10T16:43:14.878Z"
   },
   {
    "duration": 100,
    "start_time": "2023-06-10T16:43:14.930Z"
   },
   {
    "duration": 185,
    "start_time": "2023-06-10T16:43:15.031Z"
   },
   {
    "duration": 14,
    "start_time": "2023-06-10T16:43:15.219Z"
   },
   {
    "duration": 38,
    "start_time": "2023-06-10T16:43:15.235Z"
   },
   {
    "duration": 6,
    "start_time": "2023-06-10T16:43:15.275Z"
   },
   {
    "duration": 5022,
    "start_time": "2023-06-10T16:43:15.283Z"
   },
   {
    "duration": 1521,
    "start_time": "2023-10-22T10:59:04.861Z"
   },
   {
    "duration": 710,
    "start_time": "2023-10-22T10:59:06.384Z"
   },
   {
    "duration": 4,
    "start_time": "2023-10-22T10:59:07.095Z"
   },
   {
    "duration": 287,
    "start_time": "2023-10-22T10:59:07.100Z"
   },
   {
    "duration": 12,
    "start_time": "2023-10-22T10:59:07.389Z"
   },
   {
    "duration": 40,
    "start_time": "2023-10-22T10:59:07.402Z"
   },
   {
    "duration": 33,
    "start_time": "2023-10-22T10:59:07.444Z"
   },
   {
    "duration": 166,
    "start_time": "2023-10-22T10:59:07.478Z"
   },
   {
    "duration": 3,
    "start_time": "2023-10-22T10:59:07.645Z"
   },
   {
    "duration": 7,
    "start_time": "2023-10-22T10:59:07.741Z"
   },
   {
    "duration": 16,
    "start_time": "2023-10-22T10:59:07.840Z"
   },
   {
    "duration": 6,
    "start_time": "2023-10-22T10:59:07.857Z"
   },
   {
    "duration": 4460,
    "start_time": "2023-10-22T10:59:07.864Z"
   },
   {
    "duration": 106,
    "start_time": "2023-10-22T10:59:46.797Z"
   },
   {
    "duration": 321,
    "start_time": "2023-10-22T11:00:04.079Z"
   },
   {
    "duration": 5,
    "start_time": "2023-10-22T11:00:21.156Z"
   },
   {
    "duration": 167,
    "start_time": "2023-10-22T11:00:25.215Z"
   },
   {
    "duration": 3,
    "start_time": "2023-10-22T11:14:18.379Z"
   },
   {
    "duration": 165,
    "start_time": "2023-10-22T11:14:19.149Z"
   },
   {
    "duration": 4,
    "start_time": "2023-10-22T11:14:35.988Z"
   },
   {
    "duration": 173,
    "start_time": "2023-10-22T11:14:37.048Z"
   },
   {
    "duration": 4,
    "start_time": "2023-10-22T11:14:49.515Z"
   },
   {
    "duration": 4,
    "start_time": "2023-10-22T11:48:56.943Z"
   },
   {
    "duration": 171,
    "start_time": "2023-10-22T11:48:57.151Z"
   },
   {
    "duration": 1245,
    "start_time": "2023-10-22T11:49:18.479Z"
   },
   {
    "duration": 325,
    "start_time": "2023-10-22T11:49:19.725Z"
   },
   {
    "duration": 4,
    "start_time": "2023-10-22T11:49:20.051Z"
   },
   {
    "duration": 270,
    "start_time": "2023-10-22T11:49:20.057Z"
   },
   {
    "duration": 14,
    "start_time": "2023-10-22T11:49:20.339Z"
   },
   {
    "duration": 77,
    "start_time": "2023-10-22T11:49:20.354Z"
   },
   {
    "duration": 41,
    "start_time": "2023-10-22T11:49:20.432Z"
   },
   {
    "duration": 170,
    "start_time": "2023-10-22T11:49:20.474Z"
   },
   {
    "duration": 3,
    "start_time": "2023-10-22T11:49:20.646Z"
   },
   {
    "duration": 91,
    "start_time": "2023-10-22T11:49:20.651Z"
   },
   {
    "duration": 106,
    "start_time": "2023-10-22T11:49:20.743Z"
   },
   {
    "duration": 8,
    "start_time": "2023-10-22T11:49:20.851Z"
   },
   {
    "duration": 4659,
    "start_time": "2023-10-22T11:49:20.861Z"
   }
  ],
  "kernelspec": {
   "display_name": "Python 3 (ipykernel)",
   "language": "python",
   "name": "python3"
  },
  "language_info": {
   "codemirror_mode": {
    "name": "ipython",
    "version": 3
   },
   "file_extension": ".py",
   "mimetype": "text/x-python",
   "name": "python",
   "nbconvert_exporter": "python",
   "pygments_lexer": "ipython3",
   "version": "3.9.16"
  },
  "toc": {
   "base_numbering": 1,
   "nav_menu": {},
   "number_sections": true,
   "sideBar": true,
   "skip_h1_title": true,
   "title_cell": "Table of Contents",
   "title_sidebar": "Contents",
   "toc_cell": false,
   "toc_position": {},
   "toc_section_display": true,
   "toc_window_display": false
  }
 },
 "nbformat": 4,
 "nbformat_minor": 4
}
