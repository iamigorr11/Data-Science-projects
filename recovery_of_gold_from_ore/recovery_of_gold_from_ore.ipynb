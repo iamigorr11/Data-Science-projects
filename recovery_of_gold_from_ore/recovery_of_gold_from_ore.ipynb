{
 "cells": [
  {
   "cell_type": "markdown",
   "metadata": {},
   "source": [
    "## Подготовка данных"
   ]
  },
  {
   "cell_type": "markdown",
   "metadata": {},
   "source": [
    "### Откроем файлы и изучим их."
   ]
  },
  {
   "cell_type": "markdown",
   "metadata": {},
   "source": [
    "Сперва импортируем все необходимые библиотеки и инструменты для выполнения задания."
   ]
  },
  {
   "cell_type": "code",
   "execution_count": 1,
   "metadata": {},
   "outputs": [],
   "source": [
    "import pandas as pd\n",
    "import numpy as np\n",
    "from sklearn.metrics import mean_absolute_error\n",
    "import matplotlib.pyplot as plt\n",
    "import seaborn as sns\n",
    "import warnings\n",
    "from sklearn.tree import DecisionTreeRegressor\n",
    "from sklearn.ensemble import RandomForestRegressor\n",
    "from sklearn.linear_model import LinearRegression\n",
    "from sklearn.model_selection import cross_val_score\n",
    "\n",
    "plt.rcParams[\"figure.figsize\"] = (15, 8)\n",
    "from sklearn.metrics import fbeta_score, make_scorer, fbeta_score\n",
    "from sklearn.model_selection import GridSearchCV\n",
    "from sklearn.dummy import DummyRegressor\n",
    "from sklearn.metrics import accuracy_score\n",
    "from sklearn.preprocessing import StandardScaler"
   ]
  },
  {
   "cell_type": "markdown",
   "metadata": {},
   "source": [
    "Откроем датасеты и привяжем их к именам."
   ]
  },
  {
   "cell_type": "code",
   "execution_count": 2,
   "metadata": {},
   "outputs": [],
   "source": [
    "gold_recovery_train_new= pd.read_csv('/datasets/gold_recovery_train_new.csv')\n",
    "gold_recovery_test_new = pd.read_csv('/datasets/gold_recovery_test_new.csv')\n",
    "gold_recovery_full_new = pd.read_csv('/datasets/gold_recovery_full_new.csv')"
   ]
  },
  {
   "cell_type": "code",
   "execution_count": 3,
   "metadata": {},
   "outputs": [
    {
     "data": {
      "text/html": [
       "<div>\n",
       "<style scoped>\n",
       "    .dataframe tbody tr th:only-of-type {\n",
       "        vertical-align: middle;\n",
       "    }\n",
       "\n",
       "    .dataframe tbody tr th {\n",
       "        vertical-align: top;\n",
       "    }\n",
       "\n",
       "    .dataframe thead th {\n",
       "        text-align: right;\n",
       "    }\n",
       "</style>\n",
       "<table border=\"1\" class=\"dataframe\">\n",
       "  <thead>\n",
       "    <tr style=\"text-align: right;\">\n",
       "      <th></th>\n",
       "      <th>date</th>\n",
       "      <th>final.output.concentrate_ag</th>\n",
       "      <th>final.output.concentrate_pb</th>\n",
       "      <th>final.output.concentrate_sol</th>\n",
       "      <th>final.output.concentrate_au</th>\n",
       "      <th>final.output.recovery</th>\n",
       "      <th>final.output.tail_ag</th>\n",
       "      <th>final.output.tail_pb</th>\n",
       "      <th>final.output.tail_sol</th>\n",
       "      <th>final.output.tail_au</th>\n",
       "      <th>...</th>\n",
       "      <th>secondary_cleaner.state.floatbank4_a_air</th>\n",
       "      <th>secondary_cleaner.state.floatbank4_a_level</th>\n",
       "      <th>secondary_cleaner.state.floatbank4_b_air</th>\n",
       "      <th>secondary_cleaner.state.floatbank4_b_level</th>\n",
       "      <th>secondary_cleaner.state.floatbank5_a_air</th>\n",
       "      <th>secondary_cleaner.state.floatbank5_a_level</th>\n",
       "      <th>secondary_cleaner.state.floatbank5_b_air</th>\n",
       "      <th>secondary_cleaner.state.floatbank5_b_level</th>\n",
       "      <th>secondary_cleaner.state.floatbank6_a_air</th>\n",
       "      <th>secondary_cleaner.state.floatbank6_a_level</th>\n",
       "    </tr>\n",
       "  </thead>\n",
       "  <tbody>\n",
       "    <tr>\n",
       "      <th>0</th>\n",
       "      <td>2016-01-15 00:00:00</td>\n",
       "      <td>6.055403</td>\n",
       "      <td>9.889648</td>\n",
       "      <td>5.507324</td>\n",
       "      <td>42.192020</td>\n",
       "      <td>70.541216</td>\n",
       "      <td>10.411962</td>\n",
       "      <td>0.895447</td>\n",
       "      <td>16.904297</td>\n",
       "      <td>2.143149</td>\n",
       "      <td>...</td>\n",
       "      <td>14.016835</td>\n",
       "      <td>-502.488007</td>\n",
       "      <td>12.099931</td>\n",
       "      <td>-504.715942</td>\n",
       "      <td>9.925633</td>\n",
       "      <td>-498.310211</td>\n",
       "      <td>8.079666</td>\n",
       "      <td>-500.470978</td>\n",
       "      <td>14.151341</td>\n",
       "      <td>-605.841980</td>\n",
       "    </tr>\n",
       "    <tr>\n",
       "      <th>1</th>\n",
       "      <td>2016-01-15 01:00:00</td>\n",
       "      <td>6.029369</td>\n",
       "      <td>9.968944</td>\n",
       "      <td>5.257781</td>\n",
       "      <td>42.701629</td>\n",
       "      <td>69.266198</td>\n",
       "      <td>10.462676</td>\n",
       "      <td>0.927452</td>\n",
       "      <td>16.634514</td>\n",
       "      <td>2.224930</td>\n",
       "      <td>...</td>\n",
       "      <td>13.992281</td>\n",
       "      <td>-505.503262</td>\n",
       "      <td>11.950531</td>\n",
       "      <td>-501.331529</td>\n",
       "      <td>10.039245</td>\n",
       "      <td>-500.169983</td>\n",
       "      <td>7.984757</td>\n",
       "      <td>-500.582168</td>\n",
       "      <td>13.998353</td>\n",
       "      <td>-599.787184</td>\n",
       "    </tr>\n",
       "    <tr>\n",
       "      <th>2</th>\n",
       "      <td>2016-01-15 02:00:00</td>\n",
       "      <td>6.055926</td>\n",
       "      <td>10.213995</td>\n",
       "      <td>5.383759</td>\n",
       "      <td>42.657501</td>\n",
       "      <td>68.116445</td>\n",
       "      <td>10.507046</td>\n",
       "      <td>0.953716</td>\n",
       "      <td>16.208849</td>\n",
       "      <td>2.257889</td>\n",
       "      <td>...</td>\n",
       "      <td>14.015015</td>\n",
       "      <td>-502.520901</td>\n",
       "      <td>11.912783</td>\n",
       "      <td>-501.133383</td>\n",
       "      <td>10.070913</td>\n",
       "      <td>-500.129135</td>\n",
       "      <td>8.013877</td>\n",
       "      <td>-500.517572</td>\n",
       "      <td>14.028663</td>\n",
       "      <td>-601.427363</td>\n",
       "    </tr>\n",
       "    <tr>\n",
       "      <th>3</th>\n",
       "      <td>2016-01-15 03:00:00</td>\n",
       "      <td>6.047977</td>\n",
       "      <td>9.977019</td>\n",
       "      <td>4.858634</td>\n",
       "      <td>42.689819</td>\n",
       "      <td>68.347543</td>\n",
       "      <td>10.422762</td>\n",
       "      <td>0.883763</td>\n",
       "      <td>16.532835</td>\n",
       "      <td>2.146849</td>\n",
       "      <td>...</td>\n",
       "      <td>14.036510</td>\n",
       "      <td>-500.857308</td>\n",
       "      <td>11.999550</td>\n",
       "      <td>-501.193686</td>\n",
       "      <td>9.970366</td>\n",
       "      <td>-499.201640</td>\n",
       "      <td>7.977324</td>\n",
       "      <td>-500.255908</td>\n",
       "      <td>14.005551</td>\n",
       "      <td>-599.996129</td>\n",
       "    </tr>\n",
       "    <tr>\n",
       "      <th>4</th>\n",
       "      <td>2016-01-15 04:00:00</td>\n",
       "      <td>6.148599</td>\n",
       "      <td>10.142511</td>\n",
       "      <td>4.939416</td>\n",
       "      <td>42.774141</td>\n",
       "      <td>66.927016</td>\n",
       "      <td>10.360302</td>\n",
       "      <td>0.792826</td>\n",
       "      <td>16.525686</td>\n",
       "      <td>2.055292</td>\n",
       "      <td>...</td>\n",
       "      <td>14.027298</td>\n",
       "      <td>-499.838632</td>\n",
       "      <td>11.953070</td>\n",
       "      <td>-501.053894</td>\n",
       "      <td>9.925709</td>\n",
       "      <td>-501.686727</td>\n",
       "      <td>7.894242</td>\n",
       "      <td>-500.356035</td>\n",
       "      <td>13.996647</td>\n",
       "      <td>-601.496691</td>\n",
       "    </tr>\n",
       "  </tbody>\n",
       "</table>\n",
       "<p>5 rows × 87 columns</p>\n",
       "</div>"
      ],
      "text/plain": [
       "                  date  final.output.concentrate_ag  \\\n",
       "0  2016-01-15 00:00:00                     6.055403   \n",
       "1  2016-01-15 01:00:00                     6.029369   \n",
       "2  2016-01-15 02:00:00                     6.055926   \n",
       "3  2016-01-15 03:00:00                     6.047977   \n",
       "4  2016-01-15 04:00:00                     6.148599   \n",
       "\n",
       "   final.output.concentrate_pb  final.output.concentrate_sol  \\\n",
       "0                     9.889648                      5.507324   \n",
       "1                     9.968944                      5.257781   \n",
       "2                    10.213995                      5.383759   \n",
       "3                     9.977019                      4.858634   \n",
       "4                    10.142511                      4.939416   \n",
       "\n",
       "   final.output.concentrate_au  final.output.recovery  final.output.tail_ag  \\\n",
       "0                    42.192020              70.541216             10.411962   \n",
       "1                    42.701629              69.266198             10.462676   \n",
       "2                    42.657501              68.116445             10.507046   \n",
       "3                    42.689819              68.347543             10.422762   \n",
       "4                    42.774141              66.927016             10.360302   \n",
       "\n",
       "   final.output.tail_pb  final.output.tail_sol  final.output.tail_au  ...  \\\n",
       "0              0.895447              16.904297              2.143149  ...   \n",
       "1              0.927452              16.634514              2.224930  ...   \n",
       "2              0.953716              16.208849              2.257889  ...   \n",
       "3              0.883763              16.532835              2.146849  ...   \n",
       "4              0.792826              16.525686              2.055292  ...   \n",
       "\n",
       "   secondary_cleaner.state.floatbank4_a_air  \\\n",
       "0                                 14.016835   \n",
       "1                                 13.992281   \n",
       "2                                 14.015015   \n",
       "3                                 14.036510   \n",
       "4                                 14.027298   \n",
       "\n",
       "   secondary_cleaner.state.floatbank4_a_level  \\\n",
       "0                                 -502.488007   \n",
       "1                                 -505.503262   \n",
       "2                                 -502.520901   \n",
       "3                                 -500.857308   \n",
       "4                                 -499.838632   \n",
       "\n",
       "   secondary_cleaner.state.floatbank4_b_air  \\\n",
       "0                                 12.099931   \n",
       "1                                 11.950531   \n",
       "2                                 11.912783   \n",
       "3                                 11.999550   \n",
       "4                                 11.953070   \n",
       "\n",
       "   secondary_cleaner.state.floatbank4_b_level  \\\n",
       "0                                 -504.715942   \n",
       "1                                 -501.331529   \n",
       "2                                 -501.133383   \n",
       "3                                 -501.193686   \n",
       "4                                 -501.053894   \n",
       "\n",
       "   secondary_cleaner.state.floatbank5_a_air  \\\n",
       "0                                  9.925633   \n",
       "1                                 10.039245   \n",
       "2                                 10.070913   \n",
       "3                                  9.970366   \n",
       "4                                  9.925709   \n",
       "\n",
       "   secondary_cleaner.state.floatbank5_a_level  \\\n",
       "0                                 -498.310211   \n",
       "1                                 -500.169983   \n",
       "2                                 -500.129135   \n",
       "3                                 -499.201640   \n",
       "4                                 -501.686727   \n",
       "\n",
       "   secondary_cleaner.state.floatbank5_b_air  \\\n",
       "0                                  8.079666   \n",
       "1                                  7.984757   \n",
       "2                                  8.013877   \n",
       "3                                  7.977324   \n",
       "4                                  7.894242   \n",
       "\n",
       "   secondary_cleaner.state.floatbank5_b_level  \\\n",
       "0                                 -500.470978   \n",
       "1                                 -500.582168   \n",
       "2                                 -500.517572   \n",
       "3                                 -500.255908   \n",
       "4                                 -500.356035   \n",
       "\n",
       "   secondary_cleaner.state.floatbank6_a_air  \\\n",
       "0                                 14.151341   \n",
       "1                                 13.998353   \n",
       "2                                 14.028663   \n",
       "3                                 14.005551   \n",
       "4                                 13.996647   \n",
       "\n",
       "   secondary_cleaner.state.floatbank6_a_level  \n",
       "0                                 -605.841980  \n",
       "1                                 -599.787184  \n",
       "2                                 -601.427363  \n",
       "3                                 -599.996129  \n",
       "4                                 -601.496691  \n",
       "\n",
       "[5 rows x 87 columns]"
      ]
     },
     "metadata": {},
     "output_type": "display_data"
    }
   ],
   "source": [
    "display(gold_recovery_train_new.head())"
   ]
  },
  {
   "cell_type": "markdown",
   "metadata": {},
   "source": [
    "Определим размер датафреймов"
   ]
  },
  {
   "cell_type": "code",
   "execution_count": 4,
   "metadata": {},
   "outputs": [
    {
     "name": "stdout",
     "output_type": "stream",
     "text": [
      "Размер датафрейма gold_recovery_train_new (14149, 87)\n",
      "Размер датафрейма gold_recovery_test_new (5290, 53)\n",
      "Размер датафрейма gold_recovery_full_new (19439, 87)\n"
     ]
    }
   ],
   "source": [
    "print(\"Размер датафрейма gold_recovery_train_new\", gold_recovery_train_new.shape)\n",
    "print(\"Размер датафрейма gold_recovery_test_new\", gold_recovery_test_new.shape)\n",
    "print(\"Размер датафрейма gold_recovery_full_new\", gold_recovery_full_new.shape)"
   ]
  },
  {
   "cell_type": "markdown",
   "metadata": {},
   "source": [
    "### Проверим, что эффективность обогащения рассчитана правильно. "
   ]
  },
  {
   "cell_type": "markdown",
   "metadata": {},
   "source": [
    "Вычислим эффективность обогащения на обучающей выборке для признака rougher.output.recovery. Найдем MAE между нашими расчётами и значением признака. Опишите выводы."
   ]
  },
  {
   "cell_type": "code",
   "execution_count": 5,
   "metadata": {},
   "outputs": [],
   "source": [
    "C = gold_recovery_train_new[\"rougher.output.concentrate_au\"]\n",
    "F = gold_recovery_train_new[\"rougher.input.feed_au\"]\n",
    "T = gold_recovery_train_new[\"rougher.output.tail_au\"]\n",
    "\n",
    "recovery_calculated_au = (C * (F - T)) / (F * (C - T)) * 100"
   ]
  },
  {
   "cell_type": "markdown",
   "metadata": {},
   "source": [
    "Сравним полученное значение с признаком \"rougher.output.recovery\"."
   ]
  },
  {
   "cell_type": "code",
   "execution_count": 6,
   "metadata": {},
   "outputs": [
    {
     "name": "stdout",
     "output_type": "stream",
     "text": [
      "Средняя абсолютная ошибка: 9.73512347450521e-15\n"
     ]
    }
   ],
   "source": [
    "print(\n",
    "    \"Средняя абсолютная ошибка:\",\n",
    "    mean_absolute_error(\n",
    "        gold_recovery_train_new[\"rougher.output.recovery\"], recovery_calculated_au\n",
    "    ),\n",
    ")"
   ]
  },
  {
   "cell_type": "markdown",
   "metadata": {},
   "source": [
    "<b>Вывод:</b>\n",
    "<br>Как можно заметить, значение MAE имеет очень маленькое значени, исходя из чего можно сделать вывод эффективность обогащения рассчитана правильно."
   ]
  },
  {
   "cell_type": "markdown",
   "metadata": {},
   "source": [
    "### Проанализируем признаки, недоступные в тестовой выборке. Определим, что это за параметры и к какому типу относятся."
   ]
  },
  {
   "cell_type": "markdown",
   "metadata": {},
   "source": [
    "Определим какие признаки есть в полном наборе данных, которые отсутствуют в тестовой."
   ]
  },
  {
   "cell_type": "code",
   "execution_count": 7,
   "metadata": {},
   "outputs": [],
   "source": [
    "# присвоим переменной difference_columns название признаков, которых нет в тестовом наборе данных\n",
    "\n",
    "difference_columns = (gold_recovery_full_new.columns).difference(\n",
    "    gold_recovery_test_new.columns\n",
    ")"
   ]
  },
  {
   "cell_type": "code",
   "execution_count": 8,
   "metadata": {},
   "outputs": [
    {
     "data": {
      "text/plain": [
       "['final.output.concentrate_ag',\n",
       " 'final.output.concentrate_au',\n",
       " 'final.output.concentrate_pb',\n",
       " 'final.output.concentrate_sol',\n",
       " 'final.output.recovery',\n",
       " 'final.output.tail_ag',\n",
       " 'final.output.tail_au',\n",
       " 'final.output.tail_pb',\n",
       " 'final.output.tail_sol',\n",
       " 'primary_cleaner.output.concentrate_ag',\n",
       " 'primary_cleaner.output.concentrate_au',\n",
       " 'primary_cleaner.output.concentrate_pb',\n",
       " 'primary_cleaner.output.concentrate_sol',\n",
       " 'primary_cleaner.output.tail_ag',\n",
       " 'primary_cleaner.output.tail_au',\n",
       " 'primary_cleaner.output.tail_pb',\n",
       " 'primary_cleaner.output.tail_sol',\n",
       " 'rougher.calculation.au_pb_ratio',\n",
       " 'rougher.calculation.floatbank10_sulfate_to_au_feed',\n",
       " 'rougher.calculation.floatbank11_sulfate_to_au_feed',\n",
       " 'rougher.calculation.sulfate_to_au_concentrate',\n",
       " 'rougher.output.concentrate_ag',\n",
       " 'rougher.output.concentrate_au',\n",
       " 'rougher.output.concentrate_pb',\n",
       " 'rougher.output.concentrate_sol',\n",
       " 'rougher.output.recovery',\n",
       " 'rougher.output.tail_ag',\n",
       " 'rougher.output.tail_au',\n",
       " 'rougher.output.tail_pb',\n",
       " 'rougher.output.tail_sol',\n",
       " 'secondary_cleaner.output.tail_ag',\n",
       " 'secondary_cleaner.output.tail_au',\n",
       " 'secondary_cleaner.output.tail_pb',\n",
       " 'secondary_cleaner.output.tail_sol']"
      ]
     },
     "execution_count": 8,
     "metadata": {},
     "output_type": "execute_result"
    }
   ],
   "source": [
    "difference_columns.to_list()"
   ]
  },
  {
   "cell_type": "markdown",
   "metadata": {},
   "source": [
    "Как можно заметить в основном это признаки связанные с концентрацией металлов на различных этапах обработки и в отвальных хвостах."
   ]
  },
  {
   "cell_type": "markdown",
   "metadata": {},
   "source": [
    "Из датасета \"gold_recovery_full_new\" для дальнейшего обучения и проверки модели возьмем целевые признаки \"target_rougher\" и \"target_final\"."
   ]
  },
  {
   "cell_type": "code",
   "execution_count": 9,
   "metadata": {},
   "outputs": [
    {
     "data": {
      "text/plain": [
       "(5290, 55)"
      ]
     },
     "execution_count": 9,
     "metadata": {},
     "output_type": "execute_result"
    }
   ],
   "source": [
    "gold_recovery_test_new = gold_recovery_test_new.merge(\n",
    "    gold_recovery_full_new[[\"date\", \"rougher.output.recovery\", \"final.output.recovery\"]]\n",
    ")\n",
    "gold_recovery_test_new.shape"
   ]
  },
  {
   "cell_type": "markdown",
   "metadata": {},
   "source": [
    "Убедимся, что целевые признаки перешли в тестовый набор данных. Рассмотрим первые 5 строк датасета."
   ]
  },
  {
   "cell_type": "code",
   "execution_count": 10,
   "metadata": {},
   "outputs": [
    {
     "data": {
      "text/html": [
       "<div>\n",
       "<style scoped>\n",
       "    .dataframe tbody tr th:only-of-type {\n",
       "        vertical-align: middle;\n",
       "    }\n",
       "\n",
       "    .dataframe tbody tr th {\n",
       "        vertical-align: top;\n",
       "    }\n",
       "\n",
       "    .dataframe thead th {\n",
       "        text-align: right;\n",
       "    }\n",
       "</style>\n",
       "<table border=\"1\" class=\"dataframe\">\n",
       "  <thead>\n",
       "    <tr style=\"text-align: right;\">\n",
       "      <th></th>\n",
       "      <th>date</th>\n",
       "      <th>primary_cleaner.input.sulfate</th>\n",
       "      <th>primary_cleaner.input.depressant</th>\n",
       "      <th>primary_cleaner.input.feed_size</th>\n",
       "      <th>primary_cleaner.input.xanthate</th>\n",
       "      <th>primary_cleaner.state.floatbank8_a_air</th>\n",
       "      <th>primary_cleaner.state.floatbank8_a_level</th>\n",
       "      <th>primary_cleaner.state.floatbank8_b_air</th>\n",
       "      <th>primary_cleaner.state.floatbank8_b_level</th>\n",
       "      <th>primary_cleaner.state.floatbank8_c_air</th>\n",
       "      <th>...</th>\n",
       "      <th>secondary_cleaner.state.floatbank4_b_air</th>\n",
       "      <th>secondary_cleaner.state.floatbank4_b_level</th>\n",
       "      <th>secondary_cleaner.state.floatbank5_a_air</th>\n",
       "      <th>secondary_cleaner.state.floatbank5_a_level</th>\n",
       "      <th>secondary_cleaner.state.floatbank5_b_air</th>\n",
       "      <th>secondary_cleaner.state.floatbank5_b_level</th>\n",
       "      <th>secondary_cleaner.state.floatbank6_a_air</th>\n",
       "      <th>secondary_cleaner.state.floatbank6_a_level</th>\n",
       "      <th>rougher.output.recovery</th>\n",
       "      <th>final.output.recovery</th>\n",
       "    </tr>\n",
       "  </thead>\n",
       "  <tbody>\n",
       "    <tr>\n",
       "      <th>0</th>\n",
       "      <td>2016-09-01 00:59:59</td>\n",
       "      <td>210.800909</td>\n",
       "      <td>14.993118</td>\n",
       "      <td>8.080000</td>\n",
       "      <td>1.005021</td>\n",
       "      <td>1398.981301</td>\n",
       "      <td>-500.225577</td>\n",
       "      <td>1399.144926</td>\n",
       "      <td>-499.919735</td>\n",
       "      <td>1400.102998</td>\n",
       "      <td>...</td>\n",
       "      <td>8.016656</td>\n",
       "      <td>-501.289139</td>\n",
       "      <td>7.946562</td>\n",
       "      <td>-432.317850</td>\n",
       "      <td>4.872511</td>\n",
       "      <td>-500.037437</td>\n",
       "      <td>26.705889</td>\n",
       "      <td>-499.709414</td>\n",
       "      <td>89.993421</td>\n",
       "      <td>70.273583</td>\n",
       "    </tr>\n",
       "    <tr>\n",
       "      <th>1</th>\n",
       "      <td>2016-09-01 01:59:59</td>\n",
       "      <td>215.392455</td>\n",
       "      <td>14.987471</td>\n",
       "      <td>8.080000</td>\n",
       "      <td>0.990469</td>\n",
       "      <td>1398.777912</td>\n",
       "      <td>-500.057435</td>\n",
       "      <td>1398.055362</td>\n",
       "      <td>-499.778182</td>\n",
       "      <td>1396.151033</td>\n",
       "      <td>...</td>\n",
       "      <td>8.130979</td>\n",
       "      <td>-499.634209</td>\n",
       "      <td>7.958270</td>\n",
       "      <td>-525.839648</td>\n",
       "      <td>4.878850</td>\n",
       "      <td>-500.162375</td>\n",
       "      <td>25.019940</td>\n",
       "      <td>-499.819438</td>\n",
       "      <td>88.089657</td>\n",
       "      <td>68.910432</td>\n",
       "    </tr>\n",
       "    <tr>\n",
       "      <th>2</th>\n",
       "      <td>2016-09-01 02:59:59</td>\n",
       "      <td>215.259946</td>\n",
       "      <td>12.884934</td>\n",
       "      <td>7.786667</td>\n",
       "      <td>0.996043</td>\n",
       "      <td>1398.493666</td>\n",
       "      <td>-500.868360</td>\n",
       "      <td>1398.860436</td>\n",
       "      <td>-499.764529</td>\n",
       "      <td>1398.075709</td>\n",
       "      <td>...</td>\n",
       "      <td>8.096893</td>\n",
       "      <td>-500.827423</td>\n",
       "      <td>8.071056</td>\n",
       "      <td>-500.801673</td>\n",
       "      <td>4.905125</td>\n",
       "      <td>-499.828510</td>\n",
       "      <td>24.994862</td>\n",
       "      <td>-500.622559</td>\n",
       "      <td>88.412756</td>\n",
       "      <td>68.143213</td>\n",
       "    </tr>\n",
       "    <tr>\n",
       "      <th>3</th>\n",
       "      <td>2016-09-01 03:59:59</td>\n",
       "      <td>215.336236</td>\n",
       "      <td>12.006805</td>\n",
       "      <td>7.640000</td>\n",
       "      <td>0.863514</td>\n",
       "      <td>1399.618111</td>\n",
       "      <td>-498.863574</td>\n",
       "      <td>1397.440120</td>\n",
       "      <td>-499.211024</td>\n",
       "      <td>1400.129303</td>\n",
       "      <td>...</td>\n",
       "      <td>8.074946</td>\n",
       "      <td>-499.474407</td>\n",
       "      <td>7.897085</td>\n",
       "      <td>-500.868509</td>\n",
       "      <td>4.931400</td>\n",
       "      <td>-499.963623</td>\n",
       "      <td>24.948919</td>\n",
       "      <td>-498.709987</td>\n",
       "      <td>87.360133</td>\n",
       "      <td>67.776393</td>\n",
       "    </tr>\n",
       "    <tr>\n",
       "      <th>4</th>\n",
       "      <td>2016-09-01 04:59:59</td>\n",
       "      <td>199.099327</td>\n",
       "      <td>10.682530</td>\n",
       "      <td>7.530000</td>\n",
       "      <td>0.805575</td>\n",
       "      <td>1401.268123</td>\n",
       "      <td>-500.808305</td>\n",
       "      <td>1398.128818</td>\n",
       "      <td>-499.504543</td>\n",
       "      <td>1402.172226</td>\n",
       "      <td>...</td>\n",
       "      <td>8.054678</td>\n",
       "      <td>-500.397500</td>\n",
       "      <td>8.107890</td>\n",
       "      <td>-509.526725</td>\n",
       "      <td>4.957674</td>\n",
       "      <td>-500.360026</td>\n",
       "      <td>25.003331</td>\n",
       "      <td>-500.856333</td>\n",
       "      <td>83.236367</td>\n",
       "      <td>61.467078</td>\n",
       "    </tr>\n",
       "  </tbody>\n",
       "</table>\n",
       "<p>5 rows × 55 columns</p>\n",
       "</div>"
      ],
      "text/plain": [
       "                  date  primary_cleaner.input.sulfate  \\\n",
       "0  2016-09-01 00:59:59                     210.800909   \n",
       "1  2016-09-01 01:59:59                     215.392455   \n",
       "2  2016-09-01 02:59:59                     215.259946   \n",
       "3  2016-09-01 03:59:59                     215.336236   \n",
       "4  2016-09-01 04:59:59                     199.099327   \n",
       "\n",
       "   primary_cleaner.input.depressant  primary_cleaner.input.feed_size  \\\n",
       "0                         14.993118                         8.080000   \n",
       "1                         14.987471                         8.080000   \n",
       "2                         12.884934                         7.786667   \n",
       "3                         12.006805                         7.640000   \n",
       "4                         10.682530                         7.530000   \n",
       "\n",
       "   primary_cleaner.input.xanthate  primary_cleaner.state.floatbank8_a_air  \\\n",
       "0                        1.005021                             1398.981301   \n",
       "1                        0.990469                             1398.777912   \n",
       "2                        0.996043                             1398.493666   \n",
       "3                        0.863514                             1399.618111   \n",
       "4                        0.805575                             1401.268123   \n",
       "\n",
       "   primary_cleaner.state.floatbank8_a_level  \\\n",
       "0                               -500.225577   \n",
       "1                               -500.057435   \n",
       "2                               -500.868360   \n",
       "3                               -498.863574   \n",
       "4                               -500.808305   \n",
       "\n",
       "   primary_cleaner.state.floatbank8_b_air  \\\n",
       "0                             1399.144926   \n",
       "1                             1398.055362   \n",
       "2                             1398.860436   \n",
       "3                             1397.440120   \n",
       "4                             1398.128818   \n",
       "\n",
       "   primary_cleaner.state.floatbank8_b_level  \\\n",
       "0                               -499.919735   \n",
       "1                               -499.778182   \n",
       "2                               -499.764529   \n",
       "3                               -499.211024   \n",
       "4                               -499.504543   \n",
       "\n",
       "   primary_cleaner.state.floatbank8_c_air  ...  \\\n",
       "0                             1400.102998  ...   \n",
       "1                             1396.151033  ...   \n",
       "2                             1398.075709  ...   \n",
       "3                             1400.129303  ...   \n",
       "4                             1402.172226  ...   \n",
       "\n",
       "   secondary_cleaner.state.floatbank4_b_air  \\\n",
       "0                                  8.016656   \n",
       "1                                  8.130979   \n",
       "2                                  8.096893   \n",
       "3                                  8.074946   \n",
       "4                                  8.054678   \n",
       "\n",
       "   secondary_cleaner.state.floatbank4_b_level  \\\n",
       "0                                 -501.289139   \n",
       "1                                 -499.634209   \n",
       "2                                 -500.827423   \n",
       "3                                 -499.474407   \n",
       "4                                 -500.397500   \n",
       "\n",
       "   secondary_cleaner.state.floatbank5_a_air  \\\n",
       "0                                  7.946562   \n",
       "1                                  7.958270   \n",
       "2                                  8.071056   \n",
       "3                                  7.897085   \n",
       "4                                  8.107890   \n",
       "\n",
       "   secondary_cleaner.state.floatbank5_a_level  \\\n",
       "0                                 -432.317850   \n",
       "1                                 -525.839648   \n",
       "2                                 -500.801673   \n",
       "3                                 -500.868509   \n",
       "4                                 -509.526725   \n",
       "\n",
       "   secondary_cleaner.state.floatbank5_b_air  \\\n",
       "0                                  4.872511   \n",
       "1                                  4.878850   \n",
       "2                                  4.905125   \n",
       "3                                  4.931400   \n",
       "4                                  4.957674   \n",
       "\n",
       "   secondary_cleaner.state.floatbank5_b_level  \\\n",
       "0                                 -500.037437   \n",
       "1                                 -500.162375   \n",
       "2                                 -499.828510   \n",
       "3                                 -499.963623   \n",
       "4                                 -500.360026   \n",
       "\n",
       "   secondary_cleaner.state.floatbank6_a_air  \\\n",
       "0                                 26.705889   \n",
       "1                                 25.019940   \n",
       "2                                 24.994862   \n",
       "3                                 24.948919   \n",
       "4                                 25.003331   \n",
       "\n",
       "   secondary_cleaner.state.floatbank6_a_level  rougher.output.recovery  \\\n",
       "0                                 -499.709414                89.993421   \n",
       "1                                 -499.819438                88.089657   \n",
       "2                                 -500.622559                88.412756   \n",
       "3                                 -498.709987                87.360133   \n",
       "4                                 -500.856333                83.236367   \n",
       "\n",
       "   final.output.recovery  \n",
       "0              70.273583  \n",
       "1              68.910432  \n",
       "2              68.143213  \n",
       "3              67.776393  \n",
       "4              61.467078  \n",
       "\n",
       "[5 rows x 55 columns]"
      ]
     },
     "execution_count": 10,
     "metadata": {},
     "output_type": "execute_result"
    }
   ],
   "source": [
    "gold_recovery_test_new.head()"
   ]
  },
  {
   "cell_type": "markdown",
   "metadata": {},
   "source": [
    "###  Проведем предобработку данных."
   ]
  },
  {
   "cell_type": "markdown",
   "metadata": {},
   "source": [
    "В данной преобработке выберем в обучающем наборе данных такие же признаки, что и в тестовом наборе."
   ]
  },
  {
   "cell_type": "code",
   "execution_count": 11,
   "metadata": {},
   "outputs": [],
   "source": [
    "# создадис переменную с названиями столбцов в тестовом наборе данных\n",
    "\n",
    "name_columns_test = gold_recovery_test_new.columns"
   ]
  },
  {
   "cell_type": "code",
   "execution_count": 12,
   "metadata": {},
   "outputs": [],
   "source": [
    "# с помошью loc создадим новый датафрейм из тренировочного датасета, с признаками из тренировочного датасета.\n",
    "\n",
    "gold_recovery_train_new = gold_recovery_train_new.loc[ : , name_columns_test]"
   ]
  },
  {
   "cell_type": "code",
   "execution_count": 13,
   "metadata": {},
   "outputs": [
    {
     "name": "stdout",
     "output_type": "stream",
     "text": [
      "Размер тренировочного набора данных (14149, 55)\n",
      "Размер тестового набора данных (5290, 55)\n"
     ]
    }
   ],
   "source": [
    "# проверим, что количетсво признаков тренировочного и тестового датафреймов одинаковые\n",
    "\n",
    "print(\"Размер тренировочного набора данных\", gold_recovery_train_new.shape)\n",
    "print(\"Размер тестового набора данных\", gold_recovery_test_new.shape)"
   ]
  },
  {
   "cell_type": "code",
   "execution_count": 14,
   "metadata": {
    "scrolled": true
   },
   "outputs": [
    {
     "data": {
      "text/html": [
       "<div>\n",
       "<style scoped>\n",
       "    .dataframe tbody tr th:only-of-type {\n",
       "        vertical-align: middle;\n",
       "    }\n",
       "\n",
       "    .dataframe tbody tr th {\n",
       "        vertical-align: top;\n",
       "    }\n",
       "\n",
       "    .dataframe thead th {\n",
       "        text-align: right;\n",
       "    }\n",
       "</style>\n",
       "<table border=\"1\" class=\"dataframe\">\n",
       "  <thead>\n",
       "    <tr style=\"text-align: right;\">\n",
       "      <th></th>\n",
       "      <th>date</th>\n",
       "      <th>primary_cleaner.input.sulfate</th>\n",
       "      <th>primary_cleaner.input.depressant</th>\n",
       "      <th>primary_cleaner.input.feed_size</th>\n",
       "      <th>primary_cleaner.input.xanthate</th>\n",
       "      <th>primary_cleaner.state.floatbank8_a_air</th>\n",
       "      <th>primary_cleaner.state.floatbank8_a_level</th>\n",
       "      <th>primary_cleaner.state.floatbank8_b_air</th>\n",
       "      <th>primary_cleaner.state.floatbank8_b_level</th>\n",
       "      <th>primary_cleaner.state.floatbank8_c_air</th>\n",
       "      <th>...</th>\n",
       "      <th>secondary_cleaner.state.floatbank4_b_air</th>\n",
       "      <th>secondary_cleaner.state.floatbank4_b_level</th>\n",
       "      <th>secondary_cleaner.state.floatbank5_a_air</th>\n",
       "      <th>secondary_cleaner.state.floatbank5_a_level</th>\n",
       "      <th>secondary_cleaner.state.floatbank5_b_air</th>\n",
       "      <th>secondary_cleaner.state.floatbank5_b_level</th>\n",
       "      <th>secondary_cleaner.state.floatbank6_a_air</th>\n",
       "      <th>secondary_cleaner.state.floatbank6_a_level</th>\n",
       "      <th>rougher.output.recovery</th>\n",
       "      <th>final.output.recovery</th>\n",
       "    </tr>\n",
       "  </thead>\n",
       "  <tbody>\n",
       "    <tr>\n",
       "      <th>0</th>\n",
       "      <td>2016-01-15 00:00:00</td>\n",
       "      <td>127.092003</td>\n",
       "      <td>10.128295</td>\n",
       "      <td>7.25</td>\n",
       "      <td>0.988759</td>\n",
       "      <td>1549.775757</td>\n",
       "      <td>-498.912140</td>\n",
       "      <td>1551.434204</td>\n",
       "      <td>-516.403442</td>\n",
       "      <td>1549.873901</td>\n",
       "      <td>...</td>\n",
       "      <td>12.099931</td>\n",
       "      <td>-504.715942</td>\n",
       "      <td>9.925633</td>\n",
       "      <td>-498.310211</td>\n",
       "      <td>8.079666</td>\n",
       "      <td>-500.470978</td>\n",
       "      <td>14.151341</td>\n",
       "      <td>-605.841980</td>\n",
       "      <td>87.107763</td>\n",
       "      <td>70.541216</td>\n",
       "    </tr>\n",
       "    <tr>\n",
       "      <th>1</th>\n",
       "      <td>2016-01-15 01:00:00</td>\n",
       "      <td>125.629232</td>\n",
       "      <td>10.296251</td>\n",
       "      <td>7.25</td>\n",
       "      <td>1.002663</td>\n",
       "      <td>1576.166671</td>\n",
       "      <td>-500.904965</td>\n",
       "      <td>1575.950626</td>\n",
       "      <td>-499.865889</td>\n",
       "      <td>1575.994189</td>\n",
       "      <td>...</td>\n",
       "      <td>11.950531</td>\n",
       "      <td>-501.331529</td>\n",
       "      <td>10.039245</td>\n",
       "      <td>-500.169983</td>\n",
       "      <td>7.984757</td>\n",
       "      <td>-500.582168</td>\n",
       "      <td>13.998353</td>\n",
       "      <td>-599.787184</td>\n",
       "      <td>86.843261</td>\n",
       "      <td>69.266198</td>\n",
       "    </tr>\n",
       "    <tr>\n",
       "      <th>2</th>\n",
       "      <td>2016-01-15 02:00:00</td>\n",
       "      <td>123.819808</td>\n",
       "      <td>11.316280</td>\n",
       "      <td>7.25</td>\n",
       "      <td>0.991265</td>\n",
       "      <td>1601.556163</td>\n",
       "      <td>-499.997791</td>\n",
       "      <td>1600.386685</td>\n",
       "      <td>-500.607762</td>\n",
       "      <td>1602.003542</td>\n",
       "      <td>...</td>\n",
       "      <td>11.912783</td>\n",
       "      <td>-501.133383</td>\n",
       "      <td>10.070913</td>\n",
       "      <td>-500.129135</td>\n",
       "      <td>8.013877</td>\n",
       "      <td>-500.517572</td>\n",
       "      <td>14.028663</td>\n",
       "      <td>-601.427363</td>\n",
       "      <td>86.842308</td>\n",
       "      <td>68.116445</td>\n",
       "    </tr>\n",
       "    <tr>\n",
       "      <th>3</th>\n",
       "      <td>2016-01-15 03:00:00</td>\n",
       "      <td>122.270188</td>\n",
       "      <td>11.322140</td>\n",
       "      <td>7.25</td>\n",
       "      <td>0.996739</td>\n",
       "      <td>1599.968720</td>\n",
       "      <td>-500.951778</td>\n",
       "      <td>1600.659236</td>\n",
       "      <td>-499.677094</td>\n",
       "      <td>1600.304144</td>\n",
       "      <td>...</td>\n",
       "      <td>11.999550</td>\n",
       "      <td>-501.193686</td>\n",
       "      <td>9.970366</td>\n",
       "      <td>-499.201640</td>\n",
       "      <td>7.977324</td>\n",
       "      <td>-500.255908</td>\n",
       "      <td>14.005551</td>\n",
       "      <td>-599.996129</td>\n",
       "      <td>87.226430</td>\n",
       "      <td>68.347543</td>\n",
       "    </tr>\n",
       "    <tr>\n",
       "      <th>4</th>\n",
       "      <td>2016-01-15 04:00:00</td>\n",
       "      <td>117.988169</td>\n",
       "      <td>11.913613</td>\n",
       "      <td>7.25</td>\n",
       "      <td>1.009869</td>\n",
       "      <td>1601.339707</td>\n",
       "      <td>-498.975456</td>\n",
       "      <td>1601.437854</td>\n",
       "      <td>-500.323246</td>\n",
       "      <td>1599.581894</td>\n",
       "      <td>...</td>\n",
       "      <td>11.953070</td>\n",
       "      <td>-501.053894</td>\n",
       "      <td>9.925709</td>\n",
       "      <td>-501.686727</td>\n",
       "      <td>7.894242</td>\n",
       "      <td>-500.356035</td>\n",
       "      <td>13.996647</td>\n",
       "      <td>-601.496691</td>\n",
       "      <td>86.688794</td>\n",
       "      <td>66.927016</td>\n",
       "    </tr>\n",
       "  </tbody>\n",
       "</table>\n",
       "<p>5 rows × 55 columns</p>\n",
       "</div>"
      ],
      "text/plain": [
       "                  date  primary_cleaner.input.sulfate  \\\n",
       "0  2016-01-15 00:00:00                     127.092003   \n",
       "1  2016-01-15 01:00:00                     125.629232   \n",
       "2  2016-01-15 02:00:00                     123.819808   \n",
       "3  2016-01-15 03:00:00                     122.270188   \n",
       "4  2016-01-15 04:00:00                     117.988169   \n",
       "\n",
       "   primary_cleaner.input.depressant  primary_cleaner.input.feed_size  \\\n",
       "0                         10.128295                             7.25   \n",
       "1                         10.296251                             7.25   \n",
       "2                         11.316280                             7.25   \n",
       "3                         11.322140                             7.25   \n",
       "4                         11.913613                             7.25   \n",
       "\n",
       "   primary_cleaner.input.xanthate  primary_cleaner.state.floatbank8_a_air  \\\n",
       "0                        0.988759                             1549.775757   \n",
       "1                        1.002663                             1576.166671   \n",
       "2                        0.991265                             1601.556163   \n",
       "3                        0.996739                             1599.968720   \n",
       "4                        1.009869                             1601.339707   \n",
       "\n",
       "   primary_cleaner.state.floatbank8_a_level  \\\n",
       "0                               -498.912140   \n",
       "1                               -500.904965   \n",
       "2                               -499.997791   \n",
       "3                               -500.951778   \n",
       "4                               -498.975456   \n",
       "\n",
       "   primary_cleaner.state.floatbank8_b_air  \\\n",
       "0                             1551.434204   \n",
       "1                             1575.950626   \n",
       "2                             1600.386685   \n",
       "3                             1600.659236   \n",
       "4                             1601.437854   \n",
       "\n",
       "   primary_cleaner.state.floatbank8_b_level  \\\n",
       "0                               -516.403442   \n",
       "1                               -499.865889   \n",
       "2                               -500.607762   \n",
       "3                               -499.677094   \n",
       "4                               -500.323246   \n",
       "\n",
       "   primary_cleaner.state.floatbank8_c_air  ...  \\\n",
       "0                             1549.873901  ...   \n",
       "1                             1575.994189  ...   \n",
       "2                             1602.003542  ...   \n",
       "3                             1600.304144  ...   \n",
       "4                             1599.581894  ...   \n",
       "\n",
       "   secondary_cleaner.state.floatbank4_b_air  \\\n",
       "0                                 12.099931   \n",
       "1                                 11.950531   \n",
       "2                                 11.912783   \n",
       "3                                 11.999550   \n",
       "4                                 11.953070   \n",
       "\n",
       "   secondary_cleaner.state.floatbank4_b_level  \\\n",
       "0                                 -504.715942   \n",
       "1                                 -501.331529   \n",
       "2                                 -501.133383   \n",
       "3                                 -501.193686   \n",
       "4                                 -501.053894   \n",
       "\n",
       "   secondary_cleaner.state.floatbank5_a_air  \\\n",
       "0                                  9.925633   \n",
       "1                                 10.039245   \n",
       "2                                 10.070913   \n",
       "3                                  9.970366   \n",
       "4                                  9.925709   \n",
       "\n",
       "   secondary_cleaner.state.floatbank5_a_level  \\\n",
       "0                                 -498.310211   \n",
       "1                                 -500.169983   \n",
       "2                                 -500.129135   \n",
       "3                                 -499.201640   \n",
       "4                                 -501.686727   \n",
       "\n",
       "   secondary_cleaner.state.floatbank5_b_air  \\\n",
       "0                                  8.079666   \n",
       "1                                  7.984757   \n",
       "2                                  8.013877   \n",
       "3                                  7.977324   \n",
       "4                                  7.894242   \n",
       "\n",
       "   secondary_cleaner.state.floatbank5_b_level  \\\n",
       "0                                 -500.470978   \n",
       "1                                 -500.582168   \n",
       "2                                 -500.517572   \n",
       "3                                 -500.255908   \n",
       "4                                 -500.356035   \n",
       "\n",
       "   secondary_cleaner.state.floatbank6_a_air  \\\n",
       "0                                 14.151341   \n",
       "1                                 13.998353   \n",
       "2                                 14.028663   \n",
       "3                                 14.005551   \n",
       "4                                 13.996647   \n",
       "\n",
       "   secondary_cleaner.state.floatbank6_a_level  rougher.output.recovery  \\\n",
       "0                                 -605.841980                87.107763   \n",
       "1                                 -599.787184                86.843261   \n",
       "2                                 -601.427363                86.842308   \n",
       "3                                 -599.996129                87.226430   \n",
       "4                                 -601.496691                86.688794   \n",
       "\n",
       "   final.output.recovery  \n",
       "0              70.541216  \n",
       "1              69.266198  \n",
       "2              68.116445  \n",
       "3              68.347543  \n",
       "4              66.927016  \n",
       "\n",
       "[5 rows x 55 columns]"
      ]
     },
     "execution_count": 14,
     "metadata": {},
     "output_type": "execute_result"
    }
   ],
   "source": [
    "# выведем 5 первых строк тренировочного датафрейма\n",
    "\n",
    "gold_recovery_train_new.head()"
   ]
  },
  {
   "cell_type": "code",
   "execution_count": 15,
   "metadata": {},
   "outputs": [
    {
     "data": {
      "text/plain": [
       "date                                            0\n",
       "primary_cleaner.input.sulfate                  20\n",
       "primary_cleaner.input.depressant               32\n",
       "primary_cleaner.input.feed_size                 0\n",
       "primary_cleaner.input.xanthate                100\n",
       "primary_cleaner.state.floatbank8_a_air          4\n",
       "primary_cleaner.state.floatbank8_a_level        1\n",
       "primary_cleaner.state.floatbank8_b_air          4\n",
       "primary_cleaner.state.floatbank8_b_level        1\n",
       "primary_cleaner.state.floatbank8_c_air          2\n",
       "primary_cleaner.state.floatbank8_c_level        1\n",
       "primary_cleaner.state.floatbank8_d_air          3\n",
       "primary_cleaner.state.floatbank8_d_level        1\n",
       "rougher.input.feed_ag                           0\n",
       "rougher.input.feed_pb                         100\n",
       "rougher.input.feed_rate                         8\n",
       "rougher.input.feed_size                       144\n",
       "rougher.input.feed_sol                         78\n",
       "rougher.input.feed_au                           0\n",
       "rougher.input.floatbank10_sulfate              29\n",
       "rougher.input.floatbank10_xanthate              8\n",
       "rougher.input.floatbank11_sulfate              36\n",
       "rougher.input.floatbank11_xanthate            428\n",
       "rougher.state.floatbank10_a_air                 1\n",
       "rougher.state.floatbank10_a_level               1\n",
       "rougher.state.floatbank10_b_air                 1\n",
       "rougher.state.floatbank10_b_level               1\n",
       "rougher.state.floatbank10_c_air                 1\n",
       "rougher.state.floatbank10_c_level               1\n",
       "rougher.state.floatbank10_d_air                 0\n",
       "rougher.state.floatbank10_d_level               0\n",
       "rougher.state.floatbank10_e_air               436\n",
       "rougher.state.floatbank10_e_level               0\n",
       "rougher.state.floatbank10_f_air                 0\n",
       "rougher.state.floatbank10_f_level               0\n",
       "secondary_cleaner.state.floatbank2_a_air      217\n",
       "secondary_cleaner.state.floatbank2_a_level      1\n",
       "secondary_cleaner.state.floatbank2_b_air       21\n",
       "secondary_cleaner.state.floatbank2_b_level      1\n",
       "secondary_cleaner.state.floatbank3_a_air        4\n",
       "secondary_cleaner.state.floatbank3_a_level      1\n",
       "secondary_cleaner.state.floatbank3_b_air        1\n",
       "secondary_cleaner.state.floatbank3_b_level      1\n",
       "secondary_cleaner.state.floatbank4_a_air        6\n",
       "secondary_cleaner.state.floatbank4_a_level      1\n",
       "secondary_cleaner.state.floatbank4_b_air        1\n",
       "secondary_cleaner.state.floatbank4_b_level      1\n",
       "secondary_cleaner.state.floatbank5_a_air        1\n",
       "secondary_cleaner.state.floatbank5_a_level      1\n",
       "secondary_cleaner.state.floatbank5_b_air        1\n",
       "secondary_cleaner.state.floatbank5_b_level      1\n",
       "secondary_cleaner.state.floatbank6_a_air        2\n",
       "secondary_cleaner.state.floatbank6_a_level      1\n",
       "rougher.output.recovery                         0\n",
       "final.output.recovery                           0\n",
       "dtype: int64"
      ]
     },
     "execution_count": 15,
     "metadata": {},
     "output_type": "execute_result"
    }
   ],
   "source": [
    "# проверим наличие пропусков\n",
    "\n",
    "gold_recovery_train_new.isna().sum()"
   ]
  },
  {
   "cell_type": "markdown",
   "metadata": {},
   "source": [
    "Заполним пропуски методом fillna()."
   ]
  },
  {
   "cell_type": "code",
   "execution_count": 16,
   "metadata": {},
   "outputs": [],
   "source": [
    "gold_recovery_train_new = gold_recovery_train_new.fillna(method=\"ffill\")\n",
    "gold_recovery_test_new = gold_recovery_test_new.fillna(method=\"ffill\")"
   ]
  },
  {
   "cell_type": "markdown",
   "metadata": {},
   "source": [
    "## Анализ данных"
   ]
  },
  {
   "cell_type": "markdown",
   "metadata": {},
   "source": [
    "### Рассмотрим изменение концентрации металлов (Au, Ag, Pb) на различных этапах очистки."
   ]
  },
  {
   "cell_type": "markdown",
   "metadata": {},
   "source": [
    "Рассмотрим изменение концентрации золота на различных этапах очистки, в порядке следования (до обработки, после флотации, после пер). Для оценки концентрации возьмем медианное значение признака."
   ]
  },
  {
   "cell_type": "code",
   "execution_count": 17,
   "metadata": {
    "scrolled": true
   },
   "outputs": [
    {
     "name": "stdout",
     "output_type": "stream",
     "text": [
      "Концентрация золота до обработки 8.125838836648287\n",
      "Концентрация золота после флотации 20.280214025891475\n",
      "Концентрация золота после первичной очистки 32.841295480233306\n",
      "Финальная концентрация золота 45.01124391455689\n"
     ]
    }
   ],
   "source": [
    "print(\n",
    "    \"Концентрация золота до обработки\",\n",
    "    gold_recovery_full_new[\"rougher.input.feed_au\"].median(),\n",
    ")\n",
    "print(\n",
    "    \"Концентрация золота после флотации\",\n",
    "    gold_recovery_full_new[\"rougher.output.concentrate_au\"].median(),\n",
    ")\n",
    "print(\n",
    "    \"Концентрация золота после первичной очистки\",\n",
    "    gold_recovery_full_new[\"primary_cleaner.output.concentrate_au\"].median(),\n",
    ")\n",
    "print(\n",
    "    \"Финальная концентрация золота\",\n",
    "    gold_recovery_full_new[\"final.output.concentrate_au\"].median(),\n",
    ")"
   ]
  },
  {
   "cell_type": "markdown",
   "metadata": {},
   "source": [
    "Рассмотрим изменение концентрации серебра на различных этапах очистки"
   ]
  },
  {
   "cell_type": "code",
   "execution_count": 18,
   "metadata": {},
   "outputs": [
    {
     "name": "stdout",
     "output_type": "stream",
     "text": [
      "Концентрация серебра до обработки 8.593574167368724\n",
      "Концентрация серебра после флотации 12.098114967346191\n",
      "Концентрация серебра после первичной очистки 8.507297972365805\n",
      "Финальная концентрация серебра 5.066093965863015\n"
     ]
    }
   ],
   "source": [
    "print(\n",
    "    \"Концентрация серебра до обработки\",\n",
    "    gold_recovery_full_new[\"rougher.input.feed_ag\"].median(),\n",
    ")\n",
    "print(\n",
    "    \"Концентрация серебра после флотации\",\n",
    "    gold_recovery_full_new[\"rougher.output.concentrate_ag\"].median(),\n",
    ")\n",
    "print(\n",
    "    \"Концентрация серебра после первичной очистки\",\n",
    "    gold_recovery_full_new[\"primary_cleaner.output.concentrate_ag\"].median(),\n",
    ")\n",
    "print(\n",
    "    \"Финальная концентрация серебра\",\n",
    "    gold_recovery_full_new[\"final.output.concentrate_ag\"].median(),\n",
    ")"
   ]
  },
  {
   "cell_type": "markdown",
   "metadata": {},
   "source": [
    "Рассмотрим изменение концентрации олова на различных этапах очистки"
   ]
  },
  {
   "cell_type": "code",
   "execution_count": 19,
   "metadata": {},
   "outputs": [
    {
     "name": "stdout",
     "output_type": "stream",
     "text": [
      "Концентрация олова до обработки 3.5348947581979964\n",
      "Концентрация олова после флотации 7.742580079502529\n",
      "Концентрация олова после первичной очистки 10.152432639333936\n",
      "Финальная концентрация олова 10.102432534297307\n"
     ]
    }
   ],
   "source": [
    "print(\n",
    "    \"Концентрация олова до обработки\",\n",
    "    gold_recovery_full_new[\"rougher.input.feed_pb\"].median(),\n",
    ")\n",
    "print(\n",
    "    \"Концентрация олова после флотации\",\n",
    "    gold_recovery_full_new[\"rougher.output.concentrate_pb\"].median(),\n",
    ")\n",
    "print(\n",
    "    \"Концентрация олова после первичной очистки\",\n",
    "    gold_recovery_full_new[\"primary_cleaner.output.concentrate_pb\"].median(),\n",
    ")\n",
    "print(\n",
    "    \"Финальная концентрация олова\",\n",
    "    gold_recovery_full_new[\"final.output.concentrate_pb\"].median(),\n",
    ")"
   ]
  },
  {
   "cell_type": "markdown",
   "metadata": {},
   "source": [
    "<b>Вывод:</b>\n",
    "<br>Как можно заметить, концентрация золота после каждого этапа возрастает, несмотря на то, что после каждого этапа образуются отвальные хвосты. Напротив, концентрация серебра снижается после первичной очистки вплоть до измерения финальной концентрации. Можно сделать вывод, что первичная очистка применяет неправильные методы обработки сырья. Также можно заметить, что финальная концентрация олова ниже, чем после первичной очистки, что также можно связать с применяемыми методами."
   ]
  },
  {
   "cell_type": "markdown",
   "metadata": {},
   "source": [
    "Построим графики распределения для концетраций на различных этапах обработки для веществ Au, Ag, Pb."
   ]
  },
  {
   "cell_type": "code",
   "execution_count": 20,
   "metadata": {},
   "outputs": [
    {
     "data": {
      "image/png": "[encoded data removed]",
      "text/plain": [
       "<Figure size 1080x576 with 1 Axes>"
      ]
     },
     "metadata": {
      "needs_background": "light"
     },
     "output_type": "display_data"
    }
   ],
   "source": [
    "# построим график распределения для концентраций золота на различных этапах обработки\n",
    "\n",
    "warnings.simplefilter(action=\"ignore\", category=FutureWarning)\n",
    "\n",
    "# лист этапов обработки\n",
    "steps = [\n",
    "    \"rougher.input.feed_au\",\n",
    "    \"rougher.output.concentrate_au\",\n",
    "    \"primary_cleaner.output.concentrate_au\",\n",
    "    \"final.output.concentrate_au\",\n",
    "]\n",
    "\n",
    "# итерации для различных этапов обработки\n",
    "for step in steps:\n",
    "    # Subset to the airline\n",
    "    subset = gold_recovery_full_new[step]\n",
    "\n",
    "    # Draw the density plot\n",
    "    sns.distplot(subset, hist=False, kde=True, kde_kws={\"linewidth\": 3}, label=step)\n",
    "\n",
    "# оформление графика\n",
    "plt.legend(prop={\"size\": 15}, title=\"Этапы обработки\")\n",
    "plt.title(\"Плотность распределения концентрации золота для различных этапов\")\n",
    "plt.xlabel(\"Концентрация\")\n",
    "plt.ylabel(\"Плотность распределения\")\n",
    "plt.show()"
   ]
  },
  {
   "cell_type": "code",
   "execution_count": 21,
   "metadata": {},
   "outputs": [
    {
     "data": {
      "image/png": "[encoded data removed]",
      "text/plain": [
       "<Figure size 1080x576 with 1 Axes>"
      ]
     },
     "metadata": {
      "needs_background": "light"
     },
     "output_type": "display_data"
    }
   ],
   "source": [
    "# построим график распределения для концентраций серебра на различных этапах обработки\n",
    "\n",
    "warnings.simplefilter(action=\"ignore\", category=FutureWarning)\n",
    "\n",
    "# лист этапов обработки\n",
    "steps = [\n",
    "    \"rougher.input.feed_ag\",\n",
    "    \"rougher.output.concentrate_ag\",\n",
    "    \"primary_cleaner.output.concentrate_ag\",\n",
    "    \"final.output.concentrate_ag\",\n",
    "]\n",
    "\n",
    "# итерации для различных этапов обработки\n",
    "for step in steps:\n",
    "    # Subset to the airline\n",
    "    subset = gold_recovery_full_new[step]\n",
    "\n",
    "    # Draw the density plot\n",
    "    sns.distplot(subset, hist=False, kde=True, kde_kws={\"linewidth\": 3}, label=step)\n",
    "\n",
    "# оформление графика\n",
    "plt.legend(prop={\"size\": 15}, title=\"Этапы обработки\")\n",
    "plt.title(\"Плотность распределения концентрации серебра для различных этапов\")\n",
    "plt.xlabel(\"Концентрация\")\n",
    "plt.ylabel(\"Плотность распределения\")\n",
    "plt.show()"
   ]
  },
  {
   "cell_type": "code",
   "execution_count": 22,
   "metadata": {},
   "outputs": [
    {
     "data": {
      "image/png": "[encoded data removed]",
      "text/plain": [
       "<Figure size 1080x576 with 1 Axes>"
      ]
     },
     "metadata": {
      "needs_background": "light"
     },
     "output_type": "display_data"
    }
   ],
   "source": [
    "# построим график распределения для концентраций золота на различных этапах обработки\n",
    "\n",
    "warnings.simplefilter(action=\"ignore\", category=FutureWarning)\n",
    "\n",
    "# лист этапов обработки\n",
    "steps = [\n",
    "    \"rougher.input.feed_pb\",\n",
    "    \"rougher.output.concentrate_pb\",\n",
    "    \"primary_cleaner.output.concentrate_pb\",\n",
    "    \"final.output.concentrate_pb\",\n",
    "]\n",
    "\n",
    "# итерации для различных этапов обработки\n",
    "for step in steps:\n",
    "    # Subset to the airline\n",
    "    subset = gold_recovery_full_new[step]\n",
    "\n",
    "    # Draw the density plot\n",
    "    sns.distplot(subset, hist=False, kde=True, kde_kws={\"linewidth\": 3}, label=step)\n",
    "\n",
    "# оформление графика\n",
    "plt.legend(prop={\"size\": 15}, title=\"Этапы обработки\")\n",
    "plt.title(\"Плотность распределения концентрации олова для различных этапов\")\n",
    "plt.xlabel(\"Концентрация\")\n",
    "plt.ylabel(\"Плотность распределения\")\n",
    "plt.show()"
   ]
  },
  {
   "cell_type": "markdown",
   "metadata": {},
   "source": [
    "<b>Вывод:</b>\n",
    "<br>Анализируя графики распределения для концетраций на различных этапах обработки для веществ Au, Ag и Pb можно сделать вывод, что наиболее нормальное распределение имеет вещество Au, его концентрация растет с каждым этапом. Вещество Ag имеет близкое к нормальному распределению плотность только после последнего этапа обработки, а также наименьшее значение концентрации после всех этапов обработки. Концентрация вещества Pb растет и его график распределение стремится к нормальному распределению. "
   ]
  },
  {
   "cell_type": "markdown",
   "metadata": {},
   "source": [
    "### Сравним распределения размеров гранул сырья на обучающей и тестовой выборках. "
   ]
  },
  {
   "cell_type": "markdown",
   "metadata": {},
   "source": [
    "Для сравнения распределения размеров гранул до флотации (признак \"rougher.input.feed_size\") и после первичной очистки (признак \"primary_cleaner.input.feed_size\") воспользуемся инструментов pandas.DataFrame.plot.kde. Данный инструмент  — это непараметрический способ оценки функции плотности вероятности случайной величины или нескольких величин. В данном случае мы оценим один признак для двух наборов данных, обучающей и тестовой."
   ]
  },
  {
   "cell_type": "markdown",
   "metadata": {},
   "source": [
    "Оценим плотности веростности признака \"rougher.input.feed_size\"."
   ]
  },
  {
   "cell_type": "code",
   "execution_count": 23,
   "metadata": {},
   "outputs": [],
   "source": [
    "train_test_rougher_input_feed_size = pd.DataFrame()\n",
    "train_test_rougher_input_feed_size[\"train_size\"] = gold_recovery_train_new[\n",
    "    \"rougher.input.feed_size\"\n",
    "]\n",
    "train_test_rougher_input_feed_size[\"test_size\"] = gold_recovery_test_new[\n",
    "    \"rougher.input.feed_size\"\n",
    "]"
   ]
  },
  {
   "cell_type": "code",
   "execution_count": 24,
   "metadata": {},
   "outputs": [
    {
     "data": {
      "image/png": "[encoded data removed]",
      "text/plain": [
       "<Figure size 1080x576 with 1 Axes>"
      ]
     },
     "metadata": {
      "needs_background": "light"
     },
     "output_type": "display_data"
    }
   ],
   "source": [
    "train_test_rougher_input_feed_size.plot.kde()\n",
    "plt.legend(prop={\"size\": 15}, title=\"Этапы обработки\")\n",
    "plt.title(\n",
    "    \"Плотность распределения размеров гранул в обучающем и тестовом наборе данных до флотации\"\n",
    ")\n",
    "plt.xlabel(\"Размер гранул до флотации\")\n",
    "plt.ylabel(\"Плотность распределения\")\n",
    "plt.show()"
   ]
  },
  {
   "cell_type": "markdown",
   "metadata": {},
   "source": [
    "Оценим плотности веростности признака \"primary_cleaner.input.feed_size\"."
   ]
  },
  {
   "cell_type": "code",
   "execution_count": 25,
   "metadata": {},
   "outputs": [],
   "source": [
    "train_test_primary_cleaner_input_feed_size = pd.DataFrame()\n",
    "train_test_primary_cleaner_input_feed_size[\"train_size\"] = gold_recovery_train_new[\n",
    "    \"primary_cleaner.input.feed_size\"\n",
    "]\n",
    "train_test_primary_cleaner_input_feed_size[\"test_size\"] = gold_recovery_test_new[\n",
    "    \"primary_cleaner.input.feed_size\"\n",
    "]"
   ]
  },
  {
   "cell_type": "code",
   "execution_count": 26,
   "metadata": {},
   "outputs": [
    {
     "data": {
      "image/png": "[encoded data removed]",
      "text/plain": [
       "<Figure size 1080x576 with 1 Axes>"
      ]
     },
     "metadata": {
      "needs_background": "light"
     },
     "output_type": "display_data"
    }
   ],
   "source": [
    "train_test_primary_cleaner_input_feed_size.plot.kde()\n",
    "plt.legend(prop={\"size\": 15}, title=\"Этапы обработки\")\n",
    "plt.title(\n",
    "    \"Плотность распределения размеров гранул в обучающем и тестовом наборе данных перед первичной обработкой\"\n",
    ")\n",
    "plt.xlabel(\"Размер гранул перед первичной обработкой\")\n",
    "plt.ylabel(\"Плотность распределения\")\n",
    "plt.show()"
   ]
  },
  {
   "cell_type": "markdown",
   "metadata": {},
   "source": [
    "<b>Вывод:</b>\n",
    "<br>Распределение плотности вероятности для двух признаков для двух наборов данных практически не отличаются друг от друга. "
   ]
  },
  {
   "cell_type": "markdown",
   "metadata": {},
   "source": [
    "### Исследуем суммарную концентрацию всех веществ на разных стадиях: в сырье, в черновом и финальном концентратах. "
   ]
  },
  {
   "cell_type": "markdown",
   "metadata": {},
   "source": [
    "Для исследования построим гистограммы распределения для суммарной концетранции веществ на стадии перед флотацией."
   ]
  },
  {
   "cell_type": "code",
   "execution_count": 27,
   "metadata": {},
   "outputs": [],
   "source": [
    "# просуммируем все значения концентраций для веществ в переменную rougher_input_feed_sum\n",
    "\n",
    "rougher_input_feed_sum = (\n",
    "    gold_recovery_full_new[\"rougher.input.feed_au\"]\n",
    "    + gold_recovery_full_new[\"rougher.input.feed_pb\"]\n",
    "    + gold_recovery_full_new[\"rougher.input.feed_sol\"]\n",
    "    + gold_recovery_full_new[\"rougher.input.feed_ag\"]\n",
    ")"
   ]
  },
  {
   "cell_type": "code",
   "execution_count": 28,
   "metadata": {},
   "outputs": [
    {
     "data": {
      "image/png": "[encoded data removed]",
      "text/plain": [
       "<Figure size 1080x576 with 1 Axes>"
      ]
     },
     "metadata": {
      "needs_background": "light"
     },
     "output_type": "display_data"
    }
   ],
   "source": [
    "# построим гистограмму для переменной rougher_input_feed_sum\n",
    "\n",
    "warnings.simplefilter(action=\"ignore\", category=FutureWarning)\n",
    "\n",
    "# построение гистограммы через seaborn\n",
    "sns.distplot(\n",
    "    rougher_input_feed_sum,\n",
    "    hist=True,\n",
    "    kde=True,\n",
    "    bins=200,\n",
    "    color=\"blue\",\n",
    "    hist_kws={\"edgecolor\": \"black\"},\n",
    ")\n",
    "\n",
    "# название осей\n",
    "plt.title(\"Гистограмма суммарной концентрации веществ до флотации\")\n",
    "plt.xlabel(\"Суммарная концентрации веществ до флотации\")\n",
    "plt.ylabel(\"Плотность распределения\")\n",
    "plt.show()"
   ]
  },
  {
   "cell_type": "markdown",
   "metadata": {},
   "source": [
    "Методом describe() рассмотрим, есть ли отрицательные значения в данной выборке."
   ]
  },
  {
   "cell_type": "code",
   "execution_count": 29,
   "metadata": {},
   "outputs": [
    {
     "data": {
      "text/plain": [
       "count    19245.000000\n",
       "mean        57.407926\n",
       "std          7.165219\n",
       "min          0.040000\n",
       "25%         53.660745\n",
       "50%         57.647093\n",
       "75%         62.012223\n",
       "max         76.978947\n",
       "dtype: float64"
      ]
     },
     "execution_count": 29,
     "metadata": {},
     "output_type": "execute_result"
    }
   ],
   "source": [
    "rougher_input_feed_sum.describe()"
   ]
  },
  {
   "cell_type": "markdown",
   "metadata": {},
   "source": [
    "Как можно заметить отрицательных значений нет."
   ]
  },
  {
   "cell_type": "markdown",
   "metadata": {},
   "source": [
    "Проведем исследования для других стадей. Например проверим концетрацию веществ после флотации."
   ]
  },
  {
   "cell_type": "code",
   "execution_count": 30,
   "metadata": {},
   "outputs": [],
   "source": [
    "rougher_output_concentrate_sum = (\n",
    "    gold_recovery_full_new[\"rougher.output.concentrate_au\"]\n",
    "    + gold_recovery_full_new[\"rougher.output.concentrate_pb\"]\n",
    "    + gold_recovery_full_new[\"rougher.output.concentrate_sol\"]\n",
    "    + gold_recovery_full_new[\"rougher.output.concentrate_ag\"]\n",
    ")"
   ]
  },
  {
   "cell_type": "code",
   "execution_count": 31,
   "metadata": {},
   "outputs": [
    {
     "data": {
      "image/png": "[encoded data removed]",
      "text/plain": [
       "<Figure size 1080x576 with 1 Axes>"
      ]
     },
     "metadata": {
      "needs_background": "light"
     },
     "output_type": "display_data"
    }
   ],
   "source": [
    "warnings.simplefilter(action=\"ignore\", category=FutureWarning)\n",
    "\n",
    "# seaborn histogram\n",
    "sns.distplot(\n",
    "    rougher_output_concentrate_sum,\n",
    "    hist=True,\n",
    "    kde=True,\n",
    "    bins=200,\n",
    "    color=\"blue\",\n",
    "    hist_kws={\"edgecolor\": \"black\"},\n",
    ")\n",
    "\n",
    "# Add labels\n",
    "plt.title(\"Гистограмма суммарной концентрации после флотации\")\n",
    "plt.xlabel(\"Суммарная концентрации веществ до флотации\")\n",
    "plt.ylabel(\"Плотность распределения\")\n",
    "plt.show()"
   ]
  },
  {
   "cell_type": "code",
   "execution_count": 32,
   "metadata": {},
   "outputs": [],
   "source": [
    "# уберем выбросы около 0 в полном наборе данных\n",
    "\n",
    "gold_recovery_full_new = gold_recovery_full_new.loc[rougher_output_concentrate_sum > 10]"
   ]
  },
  {
   "cell_type": "code",
   "execution_count": 33,
   "metadata": {},
   "outputs": [],
   "source": [
    "rougher_output_concentrate_sum = (\n",
    "    gold_recovery_full_new[\"rougher.output.concentrate_au\"]\n",
    "    + gold_recovery_full_new[\"rougher.output.concentrate_pb\"]\n",
    "    + gold_recovery_full_new[\"rougher.output.concentrate_sol\"]\n",
    "    + gold_recovery_full_new[\"rougher.output.concentrate_ag\"]\n",
    ")"
   ]
  },
  {
   "cell_type": "code",
   "execution_count": 34,
   "metadata": {},
   "outputs": [
    {
     "data": {
      "image/png": "[encoded data removed]",
      "text/plain": [
       "<Figure size 1080x576 with 1 Axes>"
      ]
     },
     "metadata": {
      "needs_background": "light"
     },
     "output_type": "display_data"
    }
   ],
   "source": [
    "warnings.simplefilter(action=\"ignore\", category=FutureWarning)\n",
    "\n",
    "# seaborn histogram\n",
    "sns.distplot(\n",
    "    rougher_output_concentrate_sum,\n",
    "    hist=True,\n",
    "    kde=True,\n",
    "    bins=200,\n",
    "    color=\"blue\",\n",
    "    hist_kws={\"edgecolor\": \"black\"},\n",
    ")\n",
    "\n",
    "# Add labels\n",
    "plt.title(\"Гистограмма суммарной концентрации после флотации\")\n",
    "plt.xlabel(\"Суммарная концентрации веществ до флотации\")\n",
    "plt.ylabel(\"Плотность распределения\")\n",
    "plt.show()"
   ]
  },
  {
   "cell_type": "markdown",
   "metadata": {},
   "source": [
    "Основные значения сосредоточены на значениях 60-80. Выбросов и аномальных значений не обнаружено."
   ]
  },
  {
   "cell_type": "markdown",
   "metadata": {},
   "source": [
    "Рассмотрим концентрацию веществ после всех этапов обработки."
   ]
  },
  {
   "cell_type": "code",
   "execution_count": 35,
   "metadata": {},
   "outputs": [],
   "source": [
    "final_output_concentrate_sum = (\n",
    "    gold_recovery_full_new[\"final.output.concentrate_au\"]\n",
    "    + gold_recovery_full_new[\"final.output.concentrate_pb\"]\n",
    "    + gold_recovery_full_new[\"final.output.concentrate_sol\"]\n",
    "    + gold_recovery_full_new[\"final.output.concentrate_ag\"]\n",
    ")"
   ]
  },
  {
   "cell_type": "code",
   "execution_count": 36,
   "metadata": {},
   "outputs": [
    {
     "data": {
      "image/png": "[encoded data removed]",
      "text/plain": [
       "<Figure size 1080x576 with 1 Axes>"
      ]
     },
     "metadata": {
      "needs_background": "light"
     },
     "output_type": "display_data"
    }
   ],
   "source": [
    "warnings.simplefilter(action=\"ignore\", category=FutureWarning)\n",
    "\n",
    "# seaborn histogram\n",
    "sns.distplot(\n",
    "    final_output_concentrate_sum,\n",
    "    hist=True,\n",
    "    kde=True,\n",
    "    bins=200,\n",
    "    color=\"blue\",\n",
    "    hist_kws={\"edgecolor\": \"black\"},\n",
    ")\n",
    "\n",
    "# Add labels\n",
    "plt.title(\"Гистограмма суммарной концентрации после всех этапов обработки\")\n",
    "plt.xlabel(\"Суммарная концентрации веществ до флотации\")\n",
    "plt.ylabel(\"Плотность распределения\")\n",
    "plt.show()"
   ]
  },
  {
   "cell_type": "code",
   "execution_count": 37,
   "metadata": {},
   "outputs": [],
   "source": [
    "# уберем выбросы около 0\n",
    "\n",
    "gold_recovery_full_new = gold_recovery_full_new.loc[final_output_concentrate_sum > 10]"
   ]
  },
  {
   "cell_type": "code",
   "execution_count": 38,
   "metadata": {},
   "outputs": [],
   "source": [
    "final_output_concentrate_sum = (\n",
    "    gold_recovery_full_new[\"final.output.concentrate_au\"]\n",
    "    + gold_recovery_full_new[\"final.output.concentrate_pb\"]\n",
    "    + gold_recovery_full_new[\"final.output.concentrate_sol\"]\n",
    "    + gold_recovery_full_new[\"final.output.concentrate_ag\"]\n",
    ")"
   ]
  },
  {
   "cell_type": "code",
   "execution_count": 39,
   "metadata": {},
   "outputs": [
    {
     "data": {
      "image/png": "[encoded data removed]",
      "text/plain": [
       "<Figure size 1080x576 with 1 Axes>"
      ]
     },
     "metadata": {
      "needs_background": "light"
     },
     "output_type": "display_data"
    }
   ],
   "source": [
    "warnings.simplefilter(action=\"ignore\", category=FutureWarning)\n",
    "\n",
    "# seaborn histogram\n",
    "sns.distplot(\n",
    "    final_output_concentrate_sum,\n",
    "    hist=True,\n",
    "    kde=True,\n",
    "    bins=200,\n",
    "    color=\"blue\",\n",
    "    hist_kws={\"edgecolor\": \"black\"},\n",
    ")\n",
    "\n",
    "# Add labels\n",
    "# Add labels\n",
    "plt.title(\"Гистограмма суммарной концентрации после всех этапов обработки\")\n",
    "plt.xlabel(\"Суммарная концентрации веществ до флотации\")\n",
    "plt.ylabel(\"Плотность распределения\")\n",
    "plt.show()"
   ]
  },
  {
   "cell_type": "code",
   "execution_count": 40,
   "metadata": {},
   "outputs": [
    {
     "name": "stdout",
     "output_type": "stream",
     "text": [
      "Размер обучающего датасета до обработки (14149, 55)\n",
      "Размер обучающего датасета после обработки (13554, 55)\n"
     ]
    }
   ],
   "source": [
    "print(\"Размер обучающего датасета до обработки\", gold_recovery_train_new.shape)\n",
    "gold_recovery_train_new = gold_recovery_train_new.merge(\n",
    "    gold_recovery_full_new[[\"date\"]]\n",
    ")\n",
    "print(\"Размер обучающего датасета после обработки\", gold_recovery_train_new.shape)"
   ]
  },
  {
   "cell_type": "markdown",
   "metadata": {},
   "source": [
    "Основные значения сосредоточены на значениях 65-75. Выбросов и аномальных значений не обнаружено."
   ]
  },
  {
   "cell_type": "markdown",
   "metadata": {},
   "source": [
    "## Модель"
   ]
  },
  {
   "cell_type": "markdown",
   "metadata": {},
   "source": [
    "### Напишем функцию для вычисления итоговой sMAPE."
   ]
  },
  {
   "cell_type": "code",
   "execution_count": 41,
   "metadata": {},
   "outputs": [],
   "source": [
    "def smape(a, f):\n",
    "    return 1 / len(a) * np.sum(2 * np.abs(f - a) / (np.abs(a) + np.abs(f)) * 100)"
   ]
  },
  {
   "cell_type": "code",
   "execution_count": 42,
   "metadata": {},
   "outputs": [],
   "source": [
    "def smape_final(smape_r, smape_f):\n",
    "\n",
    "    smape_final = 0.25 * smape_r + 0.75 * smape_f\n",
    "\n",
    "    return smape_final"
   ]
  },
  {
   "cell_type": "markdown",
   "metadata": {},
   "source": [
    "###  Обучим разные модели и оцени их качество кросс-валидацией. Выберем лучшую модель и проверим её на тестовой выборке. "
   ]
  },
  {
   "cell_type": "markdown",
   "metadata": {},
   "source": [
    "Оценим модель \"решающее дерево\" с помощью промежуточной оценки через кросс-валидацую для двух целевых признаков 'rougher.output.recovery', 'final.output.recovery'. "
   ]
  },
  {
   "cell_type": "code",
   "execution_count": 43,
   "metadata": {},
   "outputs": [],
   "source": [
    "# разделим набор данных на признаки и целевые признаки\n",
    "\n",
    "features_train_rougher = gold_recovery_train_new.drop(\n",
    "    [\"date\", \"rougher.output.recovery\", \"final.output.recovery\"], axis=1\n",
    ")\n",
    "target_train_rougher = gold_recovery_train_new[\"rougher.output.recovery\"]\n",
    "target_train_final = gold_recovery_train_new[\"final.output.recovery\"]\n",
    "\n",
    "features_test_rougher = gold_recovery_test_new.drop(\n",
    "    [\"date\", \"rougher.output.recovery\", \"final.output.recovery\"], axis=1\n",
    ")\n",
    "target_test_rougher = gold_recovery_test_new[\"rougher.output.recovery\"]\n",
    "target_test_final = gold_recovery_test_new[\"final.output.recovery\"]"
   ]
  },
  {
   "cell_type": "code",
   "execution_count": 44,
   "metadata": {},
   "outputs": [],
   "source": [
    "# создадим свой собственный scorer\n",
    "\n",
    "smape_scorer = make_scorer(smape, greater_is_better = False)"
   ]
  },
  {
   "cell_type": "code",
   "execution_count": 45,
   "metadata": {},
   "outputs": [
    {
     "name": "stdout",
     "output_type": "stream",
     "text": [
      "Fitting 5 folds for each of 28 candidates, totalling 140 fits\n",
      "[CV 1/5; 1/28] START max_depth=1, min_samples_split=2...........................\n",
      "[CV 1/5; 1/28] END .........max_depth=1, min_samples_split=2; total time=   0.1s\n",
      "[CV 2/5; 1/28] START max_depth=1, min_samples_split=2...........................\n",
      "[CV 2/5; 1/28] END .........max_depth=1, min_samples_split=2; total time=   0.1s\n",
      "[CV 3/5; 1/28] START max_depth=1, min_samples_split=2...........................\n",
      "[CV 3/5; 1/28] END .........max_depth=1, min_samples_split=2; total time=   0.1s\n",
      "[CV 4/5; 1/28] START max_depth=1, min_samples_split=2...........................\n",
      "[CV 4/5; 1/28] END .........max_depth=1, min_samples_split=2; total time=   0.1s\n",
      "[CV 5/5; 1/28] START max_depth=1, min_samples_split=2...........................\n",
      "[CV 5/5; 1/28] END .........max_depth=1, min_samples_split=2; total time=   0.1s\n",
      "[CV 1/5; 2/28] START max_depth=1, min_samples_split=4...........................\n",
      "[CV 1/5; 2/28] END .........max_depth=1, min_samples_split=4; total time=   0.1s\n",
      "[CV 2/5; 2/28] START max_depth=1, min_samples_split=4...........................\n",
      "[CV 2/5; 2/28] END .........max_depth=1, min_samples_split=4; total time=   0.1s\n",
      "[CV 3/5; 2/28] START max_depth=1, min_samples_split=4...........................\n",
      "[CV 3/5; 2/28] END .........max_depth=1, min_samples_split=4; total time=   0.1s\n",
      "[CV 4/5; 2/28] START max_depth=1, min_samples_split=4...........................\n",
      "[CV 4/5; 2/28] END .........max_depth=1, min_samples_split=4; total time=   0.1s\n",
      "[CV 5/5; 2/28] START max_depth=1, min_samples_split=4...........................\n",
      "[CV 5/5; 2/28] END .........max_depth=1, min_samples_split=4; total time=   0.1s\n",
      "[CV 1/5; 3/28] START max_depth=1, min_samples_split=6...........................\n",
      "[CV 1/5; 3/28] END .........max_depth=1, min_samples_split=6; total time=   0.1s\n",
      "[CV 2/5; 3/28] START max_depth=1, min_samples_split=6...........................\n",
      "[CV 2/5; 3/28] END .........max_depth=1, min_samples_split=6; total time=   0.1s\n",
      "[CV 3/5; 3/28] START max_depth=1, min_samples_split=6...........................\n",
      "[CV 3/5; 3/28] END .........max_depth=1, min_samples_split=6; total time=   0.1s\n",
      "[CV 4/5; 3/28] START max_depth=1, min_samples_split=6...........................\n",
      "[CV 4/5; 3/28] END .........max_depth=1, min_samples_split=6; total time=   0.1s\n",
      "[CV 5/5; 3/28] START max_depth=1, min_samples_split=6...........................\n",
      "[CV 5/5; 3/28] END .........max_depth=1, min_samples_split=6; total time=   0.1s\n",
      "[CV 1/5; 4/28] START max_depth=1, min_samples_split=8...........................\n",
      "[CV 1/5; 4/28] END .........max_depth=1, min_samples_split=8; total time=   0.1s\n",
      "[CV 2/5; 4/28] START max_depth=1, min_samples_split=8...........................\n",
      "[CV 2/5; 4/28] END .........max_depth=1, min_samples_split=8; total time=   0.1s\n",
      "[CV 3/5; 4/28] START max_depth=1, min_samples_split=8...........................\n",
      "[CV 3/5; 4/28] END .........max_depth=1, min_samples_split=8; total time=   0.1s\n",
      "[CV 4/5; 4/28] START max_depth=1, min_samples_split=8...........................\n",
      "[CV 4/5; 4/28] END .........max_depth=1, min_samples_split=8; total time=   0.1s\n",
      "[CV 5/5; 4/28] START max_depth=1, min_samples_split=8...........................\n",
      "[CV 5/5; 4/28] END .........max_depth=1, min_samples_split=8; total time=   0.1s\n",
      "[CV 1/5; 5/28] START max_depth=2, min_samples_split=2...........................\n",
      "[CV 1/5; 5/28] END .........max_depth=2, min_samples_split=2; total time=   0.1s\n",
      "[CV 2/5; 5/28] START max_depth=2, min_samples_split=2...........................\n",
      "[CV 2/5; 5/28] END .........max_depth=2, min_samples_split=2; total time=   0.1s\n",
      "[CV 3/5; 5/28] START max_depth=2, min_samples_split=2...........................\n",
      "[CV 3/5; 5/28] END .........max_depth=2, min_samples_split=2; total time=   0.1s\n",
      "[CV 4/5; 5/28] START max_depth=2, min_samples_split=2...........................\n",
      "[CV 4/5; 5/28] END .........max_depth=2, min_samples_split=2; total time=   0.1s\n",
      "[CV 5/5; 5/28] START max_depth=2, min_samples_split=2...........................\n",
      "[CV 5/5; 5/28] END .........max_depth=2, min_samples_split=2; total time=   0.1s\n",
      "[CV 1/5; 6/28] START max_depth=2, min_samples_split=4...........................\n",
      "[CV 1/5; 6/28] END .........max_depth=2, min_samples_split=4; total time=   0.1s\n",
      "[CV 2/5; 6/28] START max_depth=2, min_samples_split=4...........................\n",
      "[CV 2/5; 6/28] END .........max_depth=2, min_samples_split=4; total time=   0.1s\n",
      "[CV 3/5; 6/28] START max_depth=2, min_samples_split=4...........................\n",
      "[CV 3/5; 6/28] END .........max_depth=2, min_samples_split=4; total time=   0.1s\n",
      "[CV 4/5; 6/28] START max_depth=2, min_samples_split=4...........................\n",
      "[CV 4/5; 6/28] END .........max_depth=2, min_samples_split=4; total time=   0.1s\n",
      "[CV 5/5; 6/28] START max_depth=2, min_samples_split=4...........................\n",
      "[CV 5/5; 6/28] END .........max_depth=2, min_samples_split=4; total time=   0.1s\n",
      "[CV 1/5; 7/28] START max_depth=2, min_samples_split=6...........................\n",
      "[CV 1/5; 7/28] END .........max_depth=2, min_samples_split=6; total time=   0.1s\n",
      "[CV 2/5; 7/28] START max_depth=2, min_samples_split=6...........................\n",
      "[CV 2/5; 7/28] END .........max_depth=2, min_samples_split=6; total time=   0.1s\n",
      "[CV 3/5; 7/28] START max_depth=2, min_samples_split=6...........................\n",
      "[CV 3/5; 7/28] END .........max_depth=2, min_samples_split=6; total time=   0.1s\n",
      "[CV 4/5; 7/28] START max_depth=2, min_samples_split=6...........................\n",
      "[CV 4/5; 7/28] END .........max_depth=2, min_samples_split=6; total time=   0.1s\n",
      "[CV 5/5; 7/28] START max_depth=2, min_samples_split=6...........................\n",
      "[CV 5/5; 7/28] END .........max_depth=2, min_samples_split=6; total time=   0.1s\n",
      "[CV 1/5; 8/28] START max_depth=2, min_samples_split=8...........................\n",
      "[CV 1/5; 8/28] END .........max_depth=2, min_samples_split=8; total time=   0.1s\n",
      "[CV 2/5; 8/28] START max_depth=2, min_samples_split=8...........................\n",
      "[CV 2/5; 8/28] END .........max_depth=2, min_samples_split=8; total time=   0.1s\n",
      "[CV 3/5; 8/28] START max_depth=2, min_samples_split=8...........................\n",
      "[CV 3/5; 8/28] END .........max_depth=2, min_samples_split=8; total time=   0.1s\n",
      "[CV 4/5; 8/28] START max_depth=2, min_samples_split=8...........................\n",
      "[CV 4/5; 8/28] END .........max_depth=2, min_samples_split=8; total time=   0.1s\n",
      "[CV 5/5; 8/28] START max_depth=2, min_samples_split=8...........................\n",
      "[CV 5/5; 8/28] END .........max_depth=2, min_samples_split=8; total time=   0.1s\n",
      "[CV 1/5; 9/28] START max_depth=3, min_samples_split=2...........................\n",
      "[CV 1/5; 9/28] END .........max_depth=3, min_samples_split=2; total time=   0.2s\n",
      "[CV 2/5; 9/28] START max_depth=3, min_samples_split=2...........................\n",
      "[CV 2/5; 9/28] END .........max_depth=3, min_samples_split=2; total time=   0.2s\n",
      "[CV 3/5; 9/28] START max_depth=3, min_samples_split=2...........................\n",
      "[CV 3/5; 9/28] END .........max_depth=3, min_samples_split=2; total time=   0.2s\n",
      "[CV 4/5; 9/28] START max_depth=3, min_samples_split=2...........................\n",
      "[CV 4/5; 9/28] END .........max_depth=3, min_samples_split=2; total time=   0.2s\n",
      "[CV 5/5; 9/28] START max_depth=3, min_samples_split=2...........................\n",
      "[CV 5/5; 9/28] END .........max_depth=3, min_samples_split=2; total time=   0.2s\n",
      "[CV 1/5; 10/28] START max_depth=3, min_samples_split=4..........................\n",
      "[CV 1/5; 10/28] END ........max_depth=3, min_samples_split=4; total time=   0.2s\n",
      "[CV 2/5; 10/28] START max_depth=3, min_samples_split=4..........................\n",
      "[CV 2/5; 10/28] END ........max_depth=3, min_samples_split=4; total time=   0.2s\n",
      "[CV 3/5; 10/28] START max_depth=3, min_samples_split=4..........................\n",
      "[CV 3/5; 10/28] END ........max_depth=3, min_samples_split=4; total time=   0.2s\n",
      "[CV 4/5; 10/28] START max_depth=3, min_samples_split=4..........................\n",
      "[CV 4/5; 10/28] END ........max_depth=3, min_samples_split=4; total time=   0.2s\n",
      "[CV 5/5; 10/28] START max_depth=3, min_samples_split=4..........................\n",
      "[CV 5/5; 10/28] END ........max_depth=3, min_samples_split=4; total time=   0.2s\n",
      "[CV 1/5; 11/28] START max_depth=3, min_samples_split=6..........................\n",
      "[CV 1/5; 11/28] END ........max_depth=3, min_samples_split=6; total time=   0.2s\n",
      "[CV 2/5; 11/28] START max_depth=3, min_samples_split=6..........................\n",
      "[CV 2/5; 11/28] END ........max_depth=3, min_samples_split=6; total time=   0.2s\n",
      "[CV 3/5; 11/28] START max_depth=3, min_samples_split=6..........................\n",
      "[CV 3/5; 11/28] END ........max_depth=3, min_samples_split=6; total time=   0.2s\n",
      "[CV 4/5; 11/28] START max_depth=3, min_samples_split=6..........................\n",
      "[CV 4/5; 11/28] END ........max_depth=3, min_samples_split=6; total time=   0.2s\n",
      "[CV 5/5; 11/28] START max_depth=3, min_samples_split=6..........................\n",
      "[CV 5/5; 11/28] END ........max_depth=3, min_samples_split=6; total time=   0.2s\n",
      "[CV 1/5; 12/28] START max_depth=3, min_samples_split=8..........................\n",
      "[CV 1/5; 12/28] END ........max_depth=3, min_samples_split=8; total time=   0.2s\n",
      "[CV 2/5; 12/28] START max_depth=3, min_samples_split=8..........................\n",
      "[CV 2/5; 12/28] END ........max_depth=3, min_samples_split=8; total time=   0.2s\n",
      "[CV 3/5; 12/28] START max_depth=3, min_samples_split=8..........................\n",
      "[CV 3/5; 12/28] END ........max_depth=3, min_samples_split=8; total time=   0.2s\n",
      "[CV 4/5; 12/28] START max_depth=3, min_samples_split=8..........................\n",
      "[CV 4/5; 12/28] END ........max_depth=3, min_samples_split=8; total time=   0.2s\n",
      "[CV 5/5; 12/28] START max_depth=3, min_samples_split=8..........................\n",
      "[CV 5/5; 12/28] END ........max_depth=3, min_samples_split=8; total time=   0.2s\n",
      "[CV 1/5; 13/28] START max_depth=4, min_samples_split=2..........................\n",
      "[CV 1/5; 13/28] END ........max_depth=4, min_samples_split=2; total time=   0.2s\n",
      "[CV 2/5; 13/28] START max_depth=4, min_samples_split=2..........................\n",
      "[CV 2/5; 13/28] END ........max_depth=4, min_samples_split=2; total time=   0.2s\n",
      "[CV 3/5; 13/28] START max_depth=4, min_samples_split=2..........................\n",
      "[CV 3/5; 13/28] END ........max_depth=4, min_samples_split=2; total time=   0.3s\n",
      "[CV 4/5; 13/28] START max_depth=4, min_samples_split=2..........................\n",
      "[CV 4/5; 13/28] END ........max_depth=4, min_samples_split=2; total time=   0.3s\n",
      "[CV 5/5; 13/28] START max_depth=4, min_samples_split=2..........................\n",
      "[CV 5/5; 13/28] END ........max_depth=4, min_samples_split=2; total time=   0.2s\n",
      "[CV 1/5; 14/28] START max_depth=4, min_samples_split=4..........................\n",
      "[CV 1/5; 14/28] END ........max_depth=4, min_samples_split=4; total time=   0.3s\n",
      "[CV 2/5; 14/28] START max_depth=4, min_samples_split=4..........................\n",
      "[CV 2/5; 14/28] END ........max_depth=4, min_samples_split=4; total time=   0.2s\n",
      "[CV 3/5; 14/28] START max_depth=4, min_samples_split=4..........................\n",
      "[CV 3/5; 14/28] END ........max_depth=4, min_samples_split=4; total time=   0.3s\n",
      "[CV 4/5; 14/28] START max_depth=4, min_samples_split=4..........................\n",
      "[CV 4/5; 14/28] END ........max_depth=4, min_samples_split=4; total time=   0.3s\n",
      "[CV 5/5; 14/28] START max_depth=4, min_samples_split=4..........................\n",
      "[CV 5/5; 14/28] END ........max_depth=4, min_samples_split=4; total time=   0.2s\n",
      "[CV 1/5; 15/28] START max_depth=4, min_samples_split=6..........................\n",
      "[CV 1/5; 15/28] END ........max_depth=4, min_samples_split=6; total time=   0.2s\n",
      "[CV 2/5; 15/28] START max_depth=4, min_samples_split=6..........................\n",
      "[CV 2/5; 15/28] END ........max_depth=4, min_samples_split=6; total time=   0.2s\n",
      "[CV 3/5; 15/28] START max_depth=4, min_samples_split=6..........................\n",
      "[CV 3/5; 15/28] END ........max_depth=4, min_samples_split=6; total time=   0.2s\n",
      "[CV 4/5; 15/28] START max_depth=4, min_samples_split=6..........................\n",
      "[CV 4/5; 15/28] END ........max_depth=4, min_samples_split=6; total time=   0.2s\n",
      "[CV 5/5; 15/28] START max_depth=4, min_samples_split=6..........................\n",
      "[CV 5/5; 15/28] END ........max_depth=4, min_samples_split=6; total time=   0.2s\n",
      "[CV 1/5; 16/28] START max_depth=4, min_samples_split=8..........................\n",
      "[CV 1/5; 16/28] END ........max_depth=4, min_samples_split=8; total time=   0.2s\n",
      "[CV 2/5; 16/28] START max_depth=4, min_samples_split=8..........................\n",
      "[CV 2/5; 16/28] END ........max_depth=4, min_samples_split=8; total time=   0.2s\n",
      "[CV 3/5; 16/28] START max_depth=4, min_samples_split=8..........................\n",
      "[CV 3/5; 16/28] END ........max_depth=4, min_samples_split=8; total time=   0.3s\n",
      "[CV 4/5; 16/28] START max_depth=4, min_samples_split=8..........................\n",
      "[CV 4/5; 16/28] END ........max_depth=4, min_samples_split=8; total time=   0.2s\n",
      "[CV 5/5; 16/28] START max_depth=4, min_samples_split=8..........................\n",
      "[CV 5/5; 16/28] END ........max_depth=4, min_samples_split=8; total time=   0.3s\n",
      "[CV 1/5; 17/28] START max_depth=5, min_samples_split=2..........................\n",
      "[CV 1/5; 17/28] END ........max_depth=5, min_samples_split=2; total time=   0.3s\n",
      "[CV 2/5; 17/28] START max_depth=5, min_samples_split=2..........................\n",
      "[CV 2/5; 17/28] END ........max_depth=5, min_samples_split=2; total time=   0.3s\n",
      "[CV 3/5; 17/28] START max_depth=5, min_samples_split=2..........................\n",
      "[CV 3/5; 17/28] END ........max_depth=5, min_samples_split=2; total time=   0.3s\n",
      "[CV 4/5; 17/28] START max_depth=5, min_samples_split=2..........................\n",
      "[CV 4/5; 17/28] END ........max_depth=5, min_samples_split=2; total time=   0.3s\n",
      "[CV 5/5; 17/28] START max_depth=5, min_samples_split=2..........................\n",
      "[CV 5/5; 17/28] END ........max_depth=5, min_samples_split=2; total time=   0.3s\n",
      "[CV 1/5; 18/28] START max_depth=5, min_samples_split=4..........................\n",
      "[CV 1/5; 18/28] END ........max_depth=5, min_samples_split=4; total time=   0.3s\n",
      "[CV 2/5; 18/28] START max_depth=5, min_samples_split=4..........................\n",
      "[CV 2/5; 18/28] END ........max_depth=5, min_samples_split=4; total time=   0.3s\n",
      "[CV 3/5; 18/28] START max_depth=5, min_samples_split=4..........................\n",
      "[CV 3/5; 18/28] END ........max_depth=5, min_samples_split=4; total time=   0.3s\n",
      "[CV 4/5; 18/28] START max_depth=5, min_samples_split=4..........................\n",
      "[CV 4/5; 18/28] END ........max_depth=5, min_samples_split=4; total time=   0.3s\n",
      "[CV 5/5; 18/28] START max_depth=5, min_samples_split=4..........................\n",
      "[CV 5/5; 18/28] END ........max_depth=5, min_samples_split=4; total time=   0.3s\n",
      "[CV 1/5; 19/28] START max_depth=5, min_samples_split=6..........................\n",
      "[CV 1/5; 19/28] END ........max_depth=5, min_samples_split=6; total time=   0.3s\n",
      "[CV 2/5; 19/28] START max_depth=5, min_samples_split=6..........................\n",
      "[CV 2/5; 19/28] END ........max_depth=5, min_samples_split=6; total time=   0.3s\n",
      "[CV 3/5; 19/28] START max_depth=5, min_samples_split=6..........................\n",
      "[CV 3/5; 19/28] END ........max_depth=5, min_samples_split=6; total time=   0.3s\n",
      "[CV 4/5; 19/28] START max_depth=5, min_samples_split=6..........................\n",
      "[CV 4/5; 19/28] END ........max_depth=5, min_samples_split=6; total time=   0.3s\n",
      "[CV 5/5; 19/28] START max_depth=5, min_samples_split=6..........................\n",
      "[CV 5/5; 19/28] END ........max_depth=5, min_samples_split=6; total time=   0.3s\n",
      "[CV 1/5; 20/28] START max_depth=5, min_samples_split=8..........................\n",
      "[CV 1/5; 20/28] END ........max_depth=5, min_samples_split=8; total time=   0.3s\n",
      "[CV 2/5; 20/28] START max_depth=5, min_samples_split=8..........................\n",
      "[CV 2/5; 20/28] END ........max_depth=5, min_samples_split=8; total time=   0.3s\n",
      "[CV 3/5; 20/28] START max_depth=5, min_samples_split=8..........................\n",
      "[CV 3/5; 20/28] END ........max_depth=5, min_samples_split=8; total time=   0.3s\n",
      "[CV 4/5; 20/28] START max_depth=5, min_samples_split=8..........................\n",
      "[CV 4/5; 20/28] END ........max_depth=5, min_samples_split=8; total time=   0.3s\n",
      "[CV 5/5; 20/28] START max_depth=5, min_samples_split=8..........................\n",
      "[CV 5/5; 20/28] END ........max_depth=5, min_samples_split=8; total time=   0.3s\n",
      "[CV 1/5; 21/28] START max_depth=6, min_samples_split=2..........................\n",
      "[CV 1/5; 21/28] END ........max_depth=6, min_samples_split=2; total time=   0.3s\n",
      "[CV 2/5; 21/28] START max_depth=6, min_samples_split=2..........................\n",
      "[CV 2/5; 21/28] END ........max_depth=6, min_samples_split=2; total time=   0.3s\n",
      "[CV 3/5; 21/28] START max_depth=6, min_samples_split=2..........................\n",
      "[CV 3/5; 21/28] END ........max_depth=6, min_samples_split=2; total time=   0.3s\n",
      "[CV 4/5; 21/28] START max_depth=6, min_samples_split=2..........................\n",
      "[CV 4/5; 21/28] END ........max_depth=6, min_samples_split=2; total time=   0.3s\n",
      "[CV 5/5; 21/28] START max_depth=6, min_samples_split=2..........................\n",
      "[CV 5/5; 21/28] END ........max_depth=6, min_samples_split=2; total time=   0.4s\n",
      "[CV 1/5; 22/28] START max_depth=6, min_samples_split=4..........................\n",
      "[CV 1/5; 22/28] END ........max_depth=6, min_samples_split=4; total time=   0.3s\n",
      "[CV 2/5; 22/28] START max_depth=6, min_samples_split=4..........................\n",
      "[CV 2/5; 22/28] END ........max_depth=6, min_samples_split=4; total time=   0.3s\n",
      "[CV 3/5; 22/28] START max_depth=6, min_samples_split=4..........................\n",
      "[CV 3/5; 22/28] END ........max_depth=6, min_samples_split=4; total time=   0.3s\n",
      "[CV 4/5; 22/28] START max_depth=6, min_samples_split=4..........................\n",
      "[CV 4/5; 22/28] END ........max_depth=6, min_samples_split=4; total time=   0.3s\n",
      "[CV 5/5; 22/28] START max_depth=6, min_samples_split=4..........................\n",
      "[CV 5/5; 22/28] END ........max_depth=6, min_samples_split=4; total time=   0.4s\n",
      "[CV 1/5; 23/28] START max_depth=6, min_samples_split=6..........................\n",
      "[CV 1/5; 23/28] END ........max_depth=6, min_samples_split=6; total time=   0.4s\n",
      "[CV 2/5; 23/28] START max_depth=6, min_samples_split=6..........................\n",
      "[CV 2/5; 23/28] END ........max_depth=6, min_samples_split=6; total time=   0.4s\n",
      "[CV 3/5; 23/28] START max_depth=6, min_samples_split=6..........................\n",
      "[CV 3/5; 23/28] END ........max_depth=6, min_samples_split=6; total time=   0.4s\n",
      "[CV 4/5; 23/28] START max_depth=6, min_samples_split=6..........................\n",
      "[CV 4/5; 23/28] END ........max_depth=6, min_samples_split=6; total time=   0.4s\n",
      "[CV 5/5; 23/28] START max_depth=6, min_samples_split=6..........................\n",
      "[CV 5/5; 23/28] END ........max_depth=6, min_samples_split=6; total time=   0.5s\n",
      "[CV 1/5; 24/28] START max_depth=6, min_samples_split=8..........................\n",
      "[CV 1/5; 24/28] END ........max_depth=6, min_samples_split=8; total time=   0.4s\n",
      "[CV 2/5; 24/28] START max_depth=6, min_samples_split=8..........................\n",
      "[CV 2/5; 24/28] END ........max_depth=6, min_samples_split=8; total time=   0.4s\n",
      "[CV 3/5; 24/28] START max_depth=6, min_samples_split=8..........................\n",
      "[CV 3/5; 24/28] END ........max_depth=6, min_samples_split=8; total time=   0.4s\n",
      "[CV 4/5; 24/28] START max_depth=6, min_samples_split=8..........................\n",
      "[CV 4/5; 24/28] END ........max_depth=6, min_samples_split=8; total time=   0.4s\n",
      "[CV 5/5; 24/28] START max_depth=6, min_samples_split=8..........................\n",
      "[CV 5/5; 24/28] END ........max_depth=6, min_samples_split=8; total time=   0.4s\n",
      "[CV 1/5; 25/28] START max_depth=7, min_samples_split=2..........................\n",
      "[CV 1/5; 25/28] END ........max_depth=7, min_samples_split=2; total time=   0.4s\n",
      "[CV 2/5; 25/28] START max_depth=7, min_samples_split=2..........................\n",
      "[CV 2/5; 25/28] END ........max_depth=7, min_samples_split=2; total time=   0.4s\n",
      "[CV 3/5; 25/28] START max_depth=7, min_samples_split=2..........................\n",
      "[CV 3/5; 25/28] END ........max_depth=7, min_samples_split=2; total time=   0.4s\n",
      "[CV 4/5; 25/28] START max_depth=7, min_samples_split=2..........................\n",
      "[CV 4/5; 25/28] END ........max_depth=7, min_samples_split=2; total time=   0.4s\n",
      "[CV 5/5; 25/28] START max_depth=7, min_samples_split=2..........................\n",
      "[CV 5/5; 25/28] END ........max_depth=7, min_samples_split=2; total time=   0.4s\n",
      "[CV 1/5; 26/28] START max_depth=7, min_samples_split=4..........................\n",
      "[CV 1/5; 26/28] END ........max_depth=7, min_samples_split=4; total time=   0.4s\n",
      "[CV 2/5; 26/28] START max_depth=7, min_samples_split=4..........................\n",
      "[CV 2/5; 26/28] END ........max_depth=7, min_samples_split=4; total time=   0.4s\n",
      "[CV 3/5; 26/28] START max_depth=7, min_samples_split=4..........................\n",
      "[CV 3/5; 26/28] END ........max_depth=7, min_samples_split=4; total time=   0.4s\n",
      "[CV 4/5; 26/28] START max_depth=7, min_samples_split=4..........................\n",
      "[CV 4/5; 26/28] END ........max_depth=7, min_samples_split=4; total time=   0.4s\n",
      "[CV 5/5; 26/28] START max_depth=7, min_samples_split=4..........................\n",
      "[CV 5/5; 26/28] END ........max_depth=7, min_samples_split=4; total time=   0.4s\n",
      "[CV 1/5; 27/28] START max_depth=7, min_samples_split=6..........................\n",
      "[CV 1/5; 27/28] END ........max_depth=7, min_samples_split=6; total time=   0.4s\n",
      "[CV 2/5; 27/28] START max_depth=7, min_samples_split=6..........................\n",
      "[CV 2/5; 27/28] END ........max_depth=7, min_samples_split=6; total time=   0.4s\n",
      "[CV 3/5; 27/28] START max_depth=7, min_samples_split=6..........................\n",
      "[CV 3/5; 27/28] END ........max_depth=7, min_samples_split=6; total time=   0.4s\n",
      "[CV 4/5; 27/28] START max_depth=7, min_samples_split=6..........................\n",
      "[CV 4/5; 27/28] END ........max_depth=7, min_samples_split=6; total time=   0.4s\n",
      "[CV 5/5; 27/28] START max_depth=7, min_samples_split=6..........................\n",
      "[CV 5/5; 27/28] END ........max_depth=7, min_samples_split=6; total time=   0.4s\n",
      "[CV 1/5; 28/28] START max_depth=7, min_samples_split=8..........................\n",
      "[CV 1/5; 28/28] END ........max_depth=7, min_samples_split=8; total time=   0.4s\n",
      "[CV 2/5; 28/28] START max_depth=7, min_samples_split=8..........................\n",
      "[CV 2/5; 28/28] END ........max_depth=7, min_samples_split=8; total time=   0.4s\n",
      "[CV 3/5; 28/28] START max_depth=7, min_samples_split=8..........................\n",
      "[CV 3/5; 28/28] END ........max_depth=7, min_samples_split=8; total time=   0.4s\n",
      "[CV 4/5; 28/28] START max_depth=7, min_samples_split=8..........................\n",
      "[CV 4/5; 28/28] END ........max_depth=7, min_samples_split=8; total time=   0.4s\n",
      "[CV 5/5; 28/28] START max_depth=7, min_samples_split=8..........................\n",
      "[CV 5/5; 28/28] END ........max_depth=7, min_samples_split=8; total time=   0.4s\n"
     ]
    },
    {
     "data": {
      "text/plain": [
       "{'max_depth': 3, 'min_samples_split': 2}"
      ]
     },
     "execution_count": 45,
     "metadata": {},
     "output_type": "execute_result"
    }
   ],
   "source": [
    "# определим лучшие параметры модели DecisionTreeRegressor и оценим модель кросс-валидацией для таргета \"rougher.output.recovery\"\n",
    "\n",
    "dtr = DecisionTreeRegressor(random_state=12345)\n",
    "parametrs = {\"max_depth\": range(1, 8), \"min_samples_split\": range(2, 10, 2)}\n",
    "grid = GridSearchCV(dtr, parametrs, cv=5, n_jobs=-1, verbose=10, scoring=smape_scorer)\n",
    "grid.fit(features_train_rougher, target_train_rougher)\n",
    "grid.best_params_"
   ]
  },
  {
   "cell_type": "code",
   "execution_count": 46,
   "metadata": {},
   "outputs": [
    {
     "name": "stdout",
     "output_type": "stream",
     "text": [
      "Оценка на кросс-валидации для таргета \"rougher.output.recovery\" 7.3588443199216\n"
     ]
    }
   ],
   "source": [
    "# оценим модель через кросс-валидацию с таргетом \"rougher.output.recovery\" с лучшими параметрами модели\n",
    "\n",
    "score_rougher = - grid.best_score_\n",
    "print('Оценка на кросс-валидации для таргета \"rougher.output.recovery\"', score_rougher)"
   ]
  },
  {
   "cell_type": "code",
   "execution_count": 47,
   "metadata": {},
   "outputs": [
    {
     "name": "stdout",
     "output_type": "stream",
     "text": [
      "Fitting 5 folds for each of 28 candidates, totalling 140 fits\n",
      "[CV 1/5; 1/28] START max_depth=1, min_samples_split=2...........................\n",
      "[CV 1/5; 1/28] END .........max_depth=1, min_samples_split=2; total time=   0.1s\n",
      "[CV 2/5; 1/28] START max_depth=1, min_samples_split=2...........................\n",
      "[CV 2/5; 1/28] END .........max_depth=1, min_samples_split=2; total time=   0.1s\n",
      "[CV 3/5; 1/28] START max_depth=1, min_samples_split=2...........................\n",
      "[CV 3/5; 1/28] END .........max_depth=1, min_samples_split=2; total time=   0.1s\n",
      "[CV 4/5; 1/28] START max_depth=1, min_samples_split=2...........................\n",
      "[CV 4/5; 1/28] END .........max_depth=1, min_samples_split=2; total time=   0.1s\n",
      "[CV 5/5; 1/28] START max_depth=1, min_samples_split=2...........................\n",
      "[CV 5/5; 1/28] END .........max_depth=1, min_samples_split=2; total time=   0.1s\n",
      "[CV 1/5; 2/28] START max_depth=1, min_samples_split=4...........................\n",
      "[CV 1/5; 2/28] END .........max_depth=1, min_samples_split=4; total time=   0.1s\n",
      "[CV 2/5; 2/28] START max_depth=1, min_samples_split=4...........................\n",
      "[CV 2/5; 2/28] END .........max_depth=1, min_samples_split=4; total time=   0.1s\n",
      "[CV 3/5; 2/28] START max_depth=1, min_samples_split=4...........................\n",
      "[CV 3/5; 2/28] END .........max_depth=1, min_samples_split=4; total time=   0.1s\n",
      "[CV 4/5; 2/28] START max_depth=1, min_samples_split=4...........................\n",
      "[CV 4/5; 2/28] END .........max_depth=1, min_samples_split=4; total time=   0.1s\n",
      "[CV 5/5; 2/28] START max_depth=1, min_samples_split=4...........................\n",
      "[CV 5/5; 2/28] END .........max_depth=1, min_samples_split=4; total time=   0.1s\n",
      "[CV 1/5; 3/28] START max_depth=1, min_samples_split=6...........................\n",
      "[CV 1/5; 3/28] END .........max_depth=1, min_samples_split=6; total time=   0.1s\n",
      "[CV 2/5; 3/28] START max_depth=1, min_samples_split=6...........................\n",
      "[CV 2/5; 3/28] END .........max_depth=1, min_samples_split=6; total time=   0.1s\n",
      "[CV 3/5; 3/28] START max_depth=1, min_samples_split=6...........................\n",
      "[CV 3/5; 3/28] END .........max_depth=1, min_samples_split=6; total time=   0.1s\n",
      "[CV 4/5; 3/28] START max_depth=1, min_samples_split=6...........................\n",
      "[CV 4/5; 3/28] END .........max_depth=1, min_samples_split=6; total time=   0.1s\n",
      "[CV 5/5; 3/28] START max_depth=1, min_samples_split=6...........................\n",
      "[CV 5/5; 3/28] END .........max_depth=1, min_samples_split=6; total time=   0.1s\n",
      "[CV 1/5; 4/28] START max_depth=1, min_samples_split=8...........................\n",
      "[CV 1/5; 4/28] END .........max_depth=1, min_samples_split=8; total time=   0.1s\n",
      "[CV 2/5; 4/28] START max_depth=1, min_samples_split=8...........................\n",
      "[CV 2/5; 4/28] END .........max_depth=1, min_samples_split=8; total time=   0.1s\n",
      "[CV 3/5; 4/28] START max_depth=1, min_samples_split=8...........................\n",
      "[CV 3/5; 4/28] END .........max_depth=1, min_samples_split=8; total time=   0.1s\n",
      "[CV 4/5; 4/28] START max_depth=1, min_samples_split=8...........................\n",
      "[CV 4/5; 4/28] END .........max_depth=1, min_samples_split=8; total time=   0.1s\n",
      "[CV 5/5; 4/28] START max_depth=1, min_samples_split=8...........................\n",
      "[CV 5/5; 4/28] END .........max_depth=1, min_samples_split=8; total time=   0.1s\n",
      "[CV 1/5; 5/28] START max_depth=2, min_samples_split=2...........................\n",
      "[CV 1/5; 5/28] END .........max_depth=2, min_samples_split=2; total time=   0.1s\n",
      "[CV 2/5; 5/28] START max_depth=2, min_samples_split=2...........................\n",
      "[CV 2/5; 5/28] END .........max_depth=2, min_samples_split=2; total time=   0.1s\n",
      "[CV 3/5; 5/28] START max_depth=2, min_samples_split=2...........................\n",
      "[CV 3/5; 5/28] END .........max_depth=2, min_samples_split=2; total time=   0.1s\n",
      "[CV 4/5; 5/28] START max_depth=2, min_samples_split=2...........................\n",
      "[CV 4/5; 5/28] END .........max_depth=2, min_samples_split=2; total time=   0.1s\n",
      "[CV 5/5; 5/28] START max_depth=2, min_samples_split=2...........................\n",
      "[CV 5/5; 5/28] END .........max_depth=2, min_samples_split=2; total time=   0.1s\n",
      "[CV 1/5; 6/28] START max_depth=2, min_samples_split=4...........................\n",
      "[CV 1/5; 6/28] END .........max_depth=2, min_samples_split=4; total time=   0.1s\n",
      "[CV 2/5; 6/28] START max_depth=2, min_samples_split=4...........................\n",
      "[CV 2/5; 6/28] END .........max_depth=2, min_samples_split=4; total time=   0.1s\n",
      "[CV 3/5; 6/28] START max_depth=2, min_samples_split=4...........................\n",
      "[CV 3/5; 6/28] END .........max_depth=2, min_samples_split=4; total time=   0.1s\n",
      "[CV 4/5; 6/28] START max_depth=2, min_samples_split=4...........................\n",
      "[CV 4/5; 6/28] END .........max_depth=2, min_samples_split=4; total time=   0.1s\n",
      "[CV 5/5; 6/28] START max_depth=2, min_samples_split=4...........................\n",
      "[CV 5/5; 6/28] END .........max_depth=2, min_samples_split=4; total time=   0.1s\n",
      "[CV 1/5; 7/28] START max_depth=2, min_samples_split=6...........................\n",
      "[CV 1/5; 7/28] END .........max_depth=2, min_samples_split=6; total time=   0.1s\n",
      "[CV 2/5; 7/28] START max_depth=2, min_samples_split=6...........................\n",
      "[CV 2/5; 7/28] END .........max_depth=2, min_samples_split=6; total time=   0.1s\n",
      "[CV 3/5; 7/28] START max_depth=2, min_samples_split=6...........................\n",
      "[CV 3/5; 7/28] END .........max_depth=2, min_samples_split=6; total time=   0.1s\n",
      "[CV 4/5; 7/28] START max_depth=2, min_samples_split=6...........................\n",
      "[CV 4/5; 7/28] END .........max_depth=2, min_samples_split=6; total time=   0.1s\n",
      "[CV 5/5; 7/28] START max_depth=2, min_samples_split=6...........................\n",
      "[CV 5/5; 7/28] END .........max_depth=2, min_samples_split=6; total time=   0.1s\n",
      "[CV 1/5; 8/28] START max_depth=2, min_samples_split=8...........................\n",
      "[CV 1/5; 8/28] END .........max_depth=2, min_samples_split=8; total time=   0.1s\n",
      "[CV 2/5; 8/28] START max_depth=2, min_samples_split=8...........................\n",
      "[CV 2/5; 8/28] END .........max_depth=2, min_samples_split=8; total time=   0.1s\n",
      "[CV 3/5; 8/28] START max_depth=2, min_samples_split=8...........................\n",
      "[CV 3/5; 8/28] END .........max_depth=2, min_samples_split=8; total time=   0.1s\n",
      "[CV 4/5; 8/28] START max_depth=2, min_samples_split=8...........................\n",
      "[CV 4/5; 8/28] END .........max_depth=2, min_samples_split=8; total time=   0.1s\n",
      "[CV 5/5; 8/28] START max_depth=2, min_samples_split=8...........................\n",
      "[CV 5/5; 8/28] END .........max_depth=2, min_samples_split=8; total time=   0.1s\n",
      "[CV 1/5; 9/28] START max_depth=3, min_samples_split=2...........................\n",
      "[CV 1/5; 9/28] END .........max_depth=3, min_samples_split=2; total time=   0.2s\n",
      "[CV 2/5; 9/28] START max_depth=3, min_samples_split=2...........................\n",
      "[CV 2/5; 9/28] END .........max_depth=3, min_samples_split=2; total time=   0.2s\n",
      "[CV 3/5; 9/28] START max_depth=3, min_samples_split=2...........................\n",
      "[CV 3/5; 9/28] END .........max_depth=3, min_samples_split=2; total time=   0.2s\n",
      "[CV 4/5; 9/28] START max_depth=3, min_samples_split=2...........................\n",
      "[CV 4/5; 9/28] END .........max_depth=3, min_samples_split=2; total time=   0.2s\n",
      "[CV 5/5; 9/28] START max_depth=3, min_samples_split=2...........................\n",
      "[CV 5/5; 9/28] END .........max_depth=3, min_samples_split=2; total time=   0.2s\n",
      "[CV 1/5; 10/28] START max_depth=3, min_samples_split=4..........................\n",
      "[CV 1/5; 10/28] END ........max_depth=3, min_samples_split=4; total time=   0.2s\n",
      "[CV 2/5; 10/28] START max_depth=3, min_samples_split=4..........................\n",
      "[CV 2/5; 10/28] END ........max_depth=3, min_samples_split=4; total time=   0.2s\n",
      "[CV 3/5; 10/28] START max_depth=3, min_samples_split=4..........................\n",
      "[CV 3/5; 10/28] END ........max_depth=3, min_samples_split=4; total time=   0.2s\n",
      "[CV 4/5; 10/28] START max_depth=3, min_samples_split=4..........................\n",
      "[CV 4/5; 10/28] END ........max_depth=3, min_samples_split=4; total time=   0.2s\n",
      "[CV 5/5; 10/28] START max_depth=3, min_samples_split=4..........................\n",
      "[CV 5/5; 10/28] END ........max_depth=3, min_samples_split=4; total time=   0.2s\n",
      "[CV 1/5; 11/28] START max_depth=3, min_samples_split=6..........................\n",
      "[CV 1/5; 11/28] END ........max_depth=3, min_samples_split=6; total time=   0.2s\n",
      "[CV 2/5; 11/28] START max_depth=3, min_samples_split=6..........................\n",
      "[CV 2/5; 11/28] END ........max_depth=3, min_samples_split=6; total time=   0.2s\n",
      "[CV 3/5; 11/28] START max_depth=3, min_samples_split=6..........................\n",
      "[CV 3/5; 11/28] END ........max_depth=3, min_samples_split=6; total time=   0.2s\n",
      "[CV 4/5; 11/28] START max_depth=3, min_samples_split=6..........................\n",
      "[CV 4/5; 11/28] END ........max_depth=3, min_samples_split=6; total time=   0.2s\n",
      "[CV 5/5; 11/28] START max_depth=3, min_samples_split=6..........................\n",
      "[CV 5/5; 11/28] END ........max_depth=3, min_samples_split=6; total time=   0.2s\n",
      "[CV 1/5; 12/28] START max_depth=3, min_samples_split=8..........................\n",
      "[CV 1/5; 12/28] END ........max_depth=3, min_samples_split=8; total time=   0.2s\n",
      "[CV 2/5; 12/28] START max_depth=3, min_samples_split=8..........................\n",
      "[CV 2/5; 12/28] END ........max_depth=3, min_samples_split=8; total time=   0.2s\n",
      "[CV 3/5; 12/28] START max_depth=3, min_samples_split=8..........................\n",
      "[CV 3/5; 12/28] END ........max_depth=3, min_samples_split=8; total time=   0.2s\n",
      "[CV 4/5; 12/28] START max_depth=3, min_samples_split=8..........................\n",
      "[CV 4/5; 12/28] END ........max_depth=3, min_samples_split=8; total time=   0.2s\n",
      "[CV 5/5; 12/28] START max_depth=3, min_samples_split=8..........................\n",
      "[CV 5/5; 12/28] END ........max_depth=3, min_samples_split=8; total time=   0.2s\n",
      "[CV 1/5; 13/28] START max_depth=4, min_samples_split=2..........................\n",
      "[CV 1/5; 13/28] END ........max_depth=4, min_samples_split=2; total time=   0.3s\n",
      "[CV 2/5; 13/28] START max_depth=4, min_samples_split=2..........................\n",
      "[CV 2/5; 13/28] END ........max_depth=4, min_samples_split=2; total time=   0.3s\n",
      "[CV 3/5; 13/28] START max_depth=4, min_samples_split=2..........................\n",
      "[CV 3/5; 13/28] END ........max_depth=4, min_samples_split=2; total time=   0.2s\n",
      "[CV 4/5; 13/28] START max_depth=4, min_samples_split=2..........................\n",
      "[CV 4/5; 13/28] END ........max_depth=4, min_samples_split=2; total time=   0.3s\n",
      "[CV 5/5; 13/28] START max_depth=4, min_samples_split=2..........................\n",
      "[CV 5/5; 13/28] END ........max_depth=4, min_samples_split=2; total time=   0.2s\n",
      "[CV 1/5; 14/28] START max_depth=4, min_samples_split=4..........................\n",
      "[CV 1/5; 14/28] END ........max_depth=4, min_samples_split=4; total time=   0.3s\n",
      "[CV 2/5; 14/28] START max_depth=4, min_samples_split=4..........................\n",
      "[CV 2/5; 14/28] END ........max_depth=4, min_samples_split=4; total time=   0.3s\n",
      "[CV 3/5; 14/28] START max_depth=4, min_samples_split=4..........................\n",
      "[CV 3/5; 14/28] END ........max_depth=4, min_samples_split=4; total time=   0.3s\n",
      "[CV 4/5; 14/28] START max_depth=4, min_samples_split=4..........................\n",
      "[CV 4/5; 14/28] END ........max_depth=4, min_samples_split=4; total time=   0.3s\n",
      "[CV 5/5; 14/28] START max_depth=4, min_samples_split=4..........................\n",
      "[CV 5/5; 14/28] END ........max_depth=4, min_samples_split=4; total time=   0.3s\n",
      "[CV 1/5; 15/28] START max_depth=4, min_samples_split=6..........................\n",
      "[CV 1/5; 15/28] END ........max_depth=4, min_samples_split=6; total time=   0.2s\n",
      "[CV 2/5; 15/28] START max_depth=4, min_samples_split=6..........................\n",
      "[CV 2/5; 15/28] END ........max_depth=4, min_samples_split=6; total time=   0.2s\n",
      "[CV 3/5; 15/28] START max_depth=4, min_samples_split=6..........................\n",
      "[CV 3/5; 15/28] END ........max_depth=4, min_samples_split=6; total time=   0.2s\n",
      "[CV 4/5; 15/28] START max_depth=4, min_samples_split=6..........................\n",
      "[CV 4/5; 15/28] END ........max_depth=4, min_samples_split=6; total time=   0.3s\n",
      "[CV 5/5; 15/28] START max_depth=4, min_samples_split=6..........................\n",
      "[CV 5/5; 15/28] END ........max_depth=4, min_samples_split=6; total time=   0.3s\n",
      "[CV 1/5; 16/28] START max_depth=4, min_samples_split=8..........................\n",
      "[CV 1/5; 16/28] END ........max_depth=4, min_samples_split=8; total time=   0.3s\n",
      "[CV 2/5; 16/28] START max_depth=4, min_samples_split=8..........................\n",
      "[CV 2/5; 16/28] END ........max_depth=4, min_samples_split=8; total time=   0.3s\n",
      "[CV 3/5; 16/28] START max_depth=4, min_samples_split=8..........................\n",
      "[CV 3/5; 16/28] END ........max_depth=4, min_samples_split=8; total time=   0.3s\n",
      "[CV 4/5; 16/28] START max_depth=4, min_samples_split=8..........................\n",
      "[CV 4/5; 16/28] END ........max_depth=4, min_samples_split=8; total time=   0.3s\n",
      "[CV 5/5; 16/28] START max_depth=4, min_samples_split=8..........................\n",
      "[CV 5/5; 16/28] END ........max_depth=4, min_samples_split=8; total time=   0.2s\n",
      "[CV 1/5; 17/28] START max_depth=5, min_samples_split=2..........................\n",
      "[CV 1/5; 17/28] END ........max_depth=5, min_samples_split=2; total time=   0.3s\n",
      "[CV 2/5; 17/28] START max_depth=5, min_samples_split=2..........................\n",
      "[CV 2/5; 17/28] END ........max_depth=5, min_samples_split=2; total time=   0.3s\n",
      "[CV 3/5; 17/28] START max_depth=5, min_samples_split=2..........................\n",
      "[CV 3/5; 17/28] END ........max_depth=5, min_samples_split=2; total time=   0.3s\n",
      "[CV 4/5; 17/28] START max_depth=5, min_samples_split=2..........................\n",
      "[CV 4/5; 17/28] END ........max_depth=5, min_samples_split=2; total time=   0.3s\n",
      "[CV 5/5; 17/28] START max_depth=5, min_samples_split=2..........................\n",
      "[CV 5/5; 17/28] END ........max_depth=5, min_samples_split=2; total time=   0.3s\n",
      "[CV 1/5; 18/28] START max_depth=5, min_samples_split=4..........................\n",
      "[CV 1/5; 18/28] END ........max_depth=5, min_samples_split=4; total time=   0.3s\n",
      "[CV 2/5; 18/28] START max_depth=5, min_samples_split=4..........................\n",
      "[CV 2/5; 18/28] END ........max_depth=5, min_samples_split=4; total time=   0.3s\n",
      "[CV 3/5; 18/28] START max_depth=5, min_samples_split=4..........................\n",
      "[CV 3/5; 18/28] END ........max_depth=5, min_samples_split=4; total time=   0.3s\n",
      "[CV 4/5; 18/28] START max_depth=5, min_samples_split=4..........................\n",
      "[CV 4/5; 18/28] END ........max_depth=5, min_samples_split=4; total time=   0.3s\n",
      "[CV 5/5; 18/28] START max_depth=5, min_samples_split=4..........................\n",
      "[CV 5/5; 18/28] END ........max_depth=5, min_samples_split=4; total time=   0.3s\n",
      "[CV 1/5; 19/28] START max_depth=5, min_samples_split=6..........................\n",
      "[CV 1/5; 19/28] END ........max_depth=5, min_samples_split=6; total time=   0.3s\n",
      "[CV 2/5; 19/28] START max_depth=5, min_samples_split=6..........................\n",
      "[CV 2/5; 19/28] END ........max_depth=5, min_samples_split=6; total time=   0.3s\n",
      "[CV 3/5; 19/28] START max_depth=5, min_samples_split=6..........................\n",
      "[CV 3/5; 19/28] END ........max_depth=5, min_samples_split=6; total time=   0.3s\n",
      "[CV 4/5; 19/28] START max_depth=5, min_samples_split=6..........................\n",
      "[CV 4/5; 19/28] END ........max_depth=5, min_samples_split=6; total time=   0.3s\n",
      "[CV 5/5; 19/28] START max_depth=5, min_samples_split=6..........................\n",
      "[CV 5/5; 19/28] END ........max_depth=5, min_samples_split=6; total time=   0.3s\n",
      "[CV 1/5; 20/28] START max_depth=5, min_samples_split=8..........................\n",
      "[CV 1/5; 20/28] END ........max_depth=5, min_samples_split=8; total time=   0.3s\n",
      "[CV 2/5; 20/28] START max_depth=5, min_samples_split=8..........................\n",
      "[CV 2/5; 20/28] END ........max_depth=5, min_samples_split=8; total time=   0.3s\n",
      "[CV 3/5; 20/28] START max_depth=5, min_samples_split=8..........................\n",
      "[CV 3/5; 20/28] END ........max_depth=5, min_samples_split=8; total time=   0.3s\n",
      "[CV 4/5; 20/28] START max_depth=5, min_samples_split=8..........................\n",
      "[CV 4/5; 20/28] END ........max_depth=5, min_samples_split=8; total time=   0.3s\n",
      "[CV 5/5; 20/28] START max_depth=5, min_samples_split=8..........................\n",
      "[CV 5/5; 20/28] END ........max_depth=5, min_samples_split=8; total time=   0.3s\n",
      "[CV 1/5; 21/28] START max_depth=6, min_samples_split=2..........................\n",
      "[CV 1/5; 21/28] END ........max_depth=6, min_samples_split=2; total time=   0.4s\n",
      "[CV 2/5; 21/28] START max_depth=6, min_samples_split=2..........................\n",
      "[CV 2/5; 21/28] END ........max_depth=6, min_samples_split=2; total time=   0.4s\n",
      "[CV 3/5; 21/28] START max_depth=6, min_samples_split=2..........................\n",
      "[CV 3/5; 21/28] END ........max_depth=6, min_samples_split=2; total time=   0.3s\n",
      "[CV 4/5; 21/28] START max_depth=6, min_samples_split=2..........................\n",
      "[CV 4/5; 21/28] END ........max_depth=6, min_samples_split=2; total time=   0.4s\n",
      "[CV 5/5; 21/28] START max_depth=6, min_samples_split=2..........................\n",
      "[CV 5/5; 21/28] END ........max_depth=6, min_samples_split=2; total time=   0.3s\n",
      "[CV 1/5; 22/28] START max_depth=6, min_samples_split=4..........................\n",
      "[CV 1/5; 22/28] END ........max_depth=6, min_samples_split=4; total time=   0.4s\n",
      "[CV 2/5; 22/28] START max_depth=6, min_samples_split=4..........................\n",
      "[CV 2/5; 22/28] END ........max_depth=6, min_samples_split=4; total time=   0.3s\n",
      "[CV 3/5; 22/28] START max_depth=6, min_samples_split=4..........................\n",
      "[CV 3/5; 22/28] END ........max_depth=6, min_samples_split=4; total time=   0.4s\n",
      "[CV 4/5; 22/28] START max_depth=6, min_samples_split=4..........................\n",
      "[CV 4/5; 22/28] END ........max_depth=6, min_samples_split=4; total time=   0.4s\n",
      "[CV 5/5; 22/28] START max_depth=6, min_samples_split=4..........................\n",
      "[CV 5/5; 22/28] END ........max_depth=6, min_samples_split=4; total time=   0.4s\n",
      "[CV 1/5; 23/28] START max_depth=6, min_samples_split=6..........................\n",
      "[CV 1/5; 23/28] END ........max_depth=6, min_samples_split=6; total time=   0.4s\n",
      "[CV 2/5; 23/28] START max_depth=6, min_samples_split=6..........................\n",
      "[CV 2/5; 23/28] END ........max_depth=6, min_samples_split=6; total time=   0.3s\n",
      "[CV 3/5; 23/28] START max_depth=6, min_samples_split=6..........................\n",
      "[CV 3/5; 23/28] END ........max_depth=6, min_samples_split=6; total time=   0.4s\n",
      "[CV 4/5; 23/28] START max_depth=6, min_samples_split=6..........................\n",
      "[CV 4/5; 23/28] END ........max_depth=6, min_samples_split=6; total time=   0.4s\n",
      "[CV 5/5; 23/28] START max_depth=6, min_samples_split=6..........................\n",
      "[CV 5/5; 23/28] END ........max_depth=6, min_samples_split=6; total time=   0.4s\n",
      "[CV 1/5; 24/28] START max_depth=6, min_samples_split=8..........................\n",
      "[CV 1/5; 24/28] END ........max_depth=6, min_samples_split=8; total time=   0.4s\n",
      "[CV 2/5; 24/28] START max_depth=6, min_samples_split=8..........................\n",
      "[CV 2/5; 24/28] END ........max_depth=6, min_samples_split=8; total time=   0.4s\n",
      "[CV 3/5; 24/28] START max_depth=6, min_samples_split=8..........................\n",
      "[CV 3/5; 24/28] END ........max_depth=6, min_samples_split=8; total time=   0.4s\n",
      "[CV 4/5; 24/28] START max_depth=6, min_samples_split=8..........................\n",
      "[CV 4/5; 24/28] END ........max_depth=6, min_samples_split=8; total time=   0.3s\n",
      "[CV 5/5; 24/28] START max_depth=6, min_samples_split=8..........................\n",
      "[CV 5/5; 24/28] END ........max_depth=6, min_samples_split=8; total time=   0.3s\n",
      "[CV 1/5; 25/28] START max_depth=7, min_samples_split=2..........................\n",
      "[CV 1/5; 25/28] END ........max_depth=7, min_samples_split=2; total time=   0.4s\n",
      "[CV 2/5; 25/28] START max_depth=7, min_samples_split=2..........................\n",
      "[CV 2/5; 25/28] END ........max_depth=7, min_samples_split=2; total time=   0.4s\n",
      "[CV 3/5; 25/28] START max_depth=7, min_samples_split=2..........................\n",
      "[CV 3/5; 25/28] END ........max_depth=7, min_samples_split=2; total time=   0.4s\n",
      "[CV 4/5; 25/28] START max_depth=7, min_samples_split=2..........................\n",
      "[CV 4/5; 25/28] END ........max_depth=7, min_samples_split=2; total time=   0.4s\n",
      "[CV 5/5; 25/28] START max_depth=7, min_samples_split=2..........................\n",
      "[CV 5/5; 25/28] END ........max_depth=7, min_samples_split=2; total time=   0.4s\n",
      "[CV 1/5; 26/28] START max_depth=7, min_samples_split=4..........................\n",
      "[CV 1/5; 26/28] END ........max_depth=7, min_samples_split=4; total time=   0.4s\n",
      "[CV 2/5; 26/28] START max_depth=7, min_samples_split=4..........................\n",
      "[CV 2/5; 26/28] END ........max_depth=7, min_samples_split=4; total time=   0.4s\n",
      "[CV 3/5; 26/28] START max_depth=7, min_samples_split=4..........................\n",
      "[CV 3/5; 26/28] END ........max_depth=7, min_samples_split=4; total time=   0.4s\n",
      "[CV 4/5; 26/28] START max_depth=7, min_samples_split=4..........................\n",
      "[CV 4/5; 26/28] END ........max_depth=7, min_samples_split=4; total time=   0.4s\n",
      "[CV 5/5; 26/28] START max_depth=7, min_samples_split=4..........................\n",
      "[CV 5/5; 26/28] END ........max_depth=7, min_samples_split=4; total time=   0.4s\n",
      "[CV 1/5; 27/28] START max_depth=7, min_samples_split=6..........................\n",
      "[CV 1/5; 27/28] END ........max_depth=7, min_samples_split=6; total time=   0.4s\n",
      "[CV 2/5; 27/28] START max_depth=7, min_samples_split=6..........................\n",
      "[CV 2/5; 27/28] END ........max_depth=7, min_samples_split=6; total time=   0.4s\n",
      "[CV 3/5; 27/28] START max_depth=7, min_samples_split=6..........................\n",
      "[CV 3/5; 27/28] END ........max_depth=7, min_samples_split=6; total time=   0.4s\n",
      "[CV 4/5; 27/28] START max_depth=7, min_samples_split=6..........................\n",
      "[CV 4/5; 27/28] END ........max_depth=7, min_samples_split=6; total time=   0.4s\n",
      "[CV 5/5; 27/28] START max_depth=7, min_samples_split=6..........................\n",
      "[CV 5/5; 27/28] END ........max_depth=7, min_samples_split=6; total time=   0.4s\n",
      "[CV 1/5; 28/28] START max_depth=7, min_samples_split=8..........................\n",
      "[CV 1/5; 28/28] END ........max_depth=7, min_samples_split=8; total time=   0.4s\n",
      "[CV 2/5; 28/28] START max_depth=7, min_samples_split=8..........................\n",
      "[CV 2/5; 28/28] END ........max_depth=7, min_samples_split=8; total time=   0.4s\n",
      "[CV 3/5; 28/28] START max_depth=7, min_samples_split=8..........................\n",
      "[CV 3/5; 28/28] END ........max_depth=7, min_samples_split=8; total time=   0.4s\n",
      "[CV 4/5; 28/28] START max_depth=7, min_samples_split=8..........................\n",
      "[CV 4/5; 28/28] END ........max_depth=7, min_samples_split=8; total time=   0.4s\n",
      "[CV 5/5; 28/28] START max_depth=7, min_samples_split=8..........................\n",
      "[CV 5/5; 28/28] END ........max_depth=7, min_samples_split=8; total time=   0.4s\n"
     ]
    },
    {
     "data": {
      "text/plain": [
       "{'max_depth': 2, 'min_samples_split': 2}"
      ]
     },
     "execution_count": 47,
     "metadata": {},
     "output_type": "execute_result"
    }
   ],
   "source": [
    "# определим лучшие параметры модели DecisionTreeRegressor и оценим модель кросс-валидацией для таргета \"final.output.recovery\"\n",
    "\n",
    "grid.fit(features_train_rougher, target_train_final)\n",
    "grid.best_params_"
   ]
  },
  {
   "cell_type": "code",
   "execution_count": 48,
   "metadata": {},
   "outputs": [
    {
     "name": "stdout",
     "output_type": "stream",
     "text": [
      "Оценка на кросс-валидации для таргета \"rougher.output.recovery\" 9.06474993092323\n",
      "Итоговый SMAPE: 8.638273528172823\n"
     ]
    }
   ],
   "source": [
    "# рассчитаем метрике МАЕ и кросс-валидацию для для таргета \"final.output.recovery\" с лучшими параметрами модели\n",
    "# оценим модель через кросс-валидацию с таргетом \"final.output.recovery\" с лучшими параметрами модели,\n",
    "# а также определим итоговы SMAPE\n",
    "\n",
    "score_final = -grid.best_score_\n",
    "print('Оценка на кросс-валидации для таргета \"rougher.output.recovery\"', score_final)\n",
    "print(\"Итоговый SMAPE:\", smape_final(score_rougher, score_final))"
   ]
  },
  {
   "cell_type": "markdown",
   "metadata": {},
   "source": [
    "Оценим модель \"случайный лес\" с помощью метрики MAE и рассчитаем метрику кросс-валидацую для двух целевых признаков 'rougher.output.recovery', 'final.output.recovery'. "
   ]
  },
  {
   "cell_type": "code",
   "execution_count": 49,
   "metadata": {},
   "outputs": [
    {
     "name": "stdout",
     "output_type": "stream",
     "text": [
      "SMAPE для rougher.output.recovery: 8.567125602752458\n",
      "SMAPE для final.output.recovery: 9.041726451822445\n",
      "Итоговый SMAPE: 8.923076239554948\n"
     ]
    }
   ],
   "source": [
    "# оценим модель RandomForestRegressor через кросс-валидацию с таргетами  \"rougher.output.recovery\" и \"final.output.recovery\"\n",
    "\n",
    "model = RandomForestRegressor(random_state=12345, n_estimators=40, max_depth=10)\n",
    "scores = cross_val_score(\n",
    "    model, features_train_rougher, target_train_rougher, cv=5, scoring=smape_scorer\n",
    ")\n",
    "final_score_rougher = sum(scores) / len(scores)\n",
    "print(\"SMAPE для rougher.output.recovery:\", -final_score_rougher)\n",
    "scores = cross_val_score(\n",
    "    model, features_train_rougher, target_train_final, cv=5, scoring=smape_scorer\n",
    ")\n",
    "final_score_final = sum(scores) / len(scores)\n",
    "print(\"SMAPE для final.output.recovery:\", -final_score_final)\n",
    "print(\"Итоговый SMAPE:\", -smape_final(final_score_rougher, final_score_final))"
   ]
  },
  {
   "cell_type": "markdown",
   "metadata": {},
   "source": [
    "Оценим кросс-валидацией модель \"линейная регрессия\" для двух целевых признаков 'rougher.output.recovery', 'final.output.recovery'"
   ]
  },
  {
   "cell_type": "code",
   "execution_count": 50,
   "metadata": {},
   "outputs": [
    {
     "data": {
      "text/plain": [
       "StandardScaler()"
      ]
     },
     "execution_count": 50,
     "metadata": {},
     "output_type": "execute_result"
    }
   ],
   "source": [
    "# выполним стандартизацию данных\n",
    "\n",
    "scaler = StandardScaler()\n",
    "scaler.fit(features_train_rougher) \n",
    "\n",
    "# features_train_rougher = scaler.transform(features_train_rougher)"
   ]
  },
  {
   "cell_type": "code",
   "execution_count": 51,
   "metadata": {},
   "outputs": [
    {
     "name": "stdout",
     "output_type": "stream",
     "text": [
      "SMAPE для rougher.output.recovery: 7.256209498753769\n",
      "SMAPE для final.output.recovery: 10.322739521246977\n",
      "Итоговый SMAPE: 9.556107015623674\n"
     ]
    }
   ],
   "source": [
    "# оценим модель LinearRegression через кросс-валидацию с таргетами  \"rougher.output.recovery\" и \"final.output.recovery\"\n",
    "\n",
    "model = LinearRegression()\n",
    "scores = cross_val_score(\n",
    "    model, features_train_rougher, target_train_rougher, cv=5, scoring=smape_scorer\n",
    ")\n",
    "final_score_rougher = sum(scores) / len(scores)\n",
    "print(\"SMAPE для rougher.output.recovery:\", -final_score_rougher)\n",
    "scores = cross_val_score(\n",
    "    model, features_train_rougher, target_train_final, cv=5, scoring=smape_scorer\n",
    ")\n",
    "final_score_final = sum(scores) / len(scores)\n",
    "print(\"SMAPE для final.output.recovery:\", -final_score_final)\n",
    "print(\"Итоговый SMAPE:\", -smape_final(final_score_rougher, final_score_final))"
   ]
  },
  {
   "cell_type": "markdown",
   "metadata": {},
   "source": [
    "Наилучшая оценка модели через кросс-валидацию получила модель DecisionTreeRegressor."
   ]
  },
  {
   "cell_type": "markdown",
   "metadata": {},
   "source": [
    "Проверим нашу модель на тестовом наборе данных. Вычислим метрику SMAPE для нашей лучшей модели, а также сравним предсказания с DummyRegressor моделью."
   ]
  },
  {
   "cell_type": "code",
   "execution_count": 52,
   "metadata": {},
   "outputs": [
    {
     "name": "stdout",
     "output_type": "stream",
     "text": [
      "SMAPE для таргета \"rougher.output.recovery\": 8.830018080102239\n",
      "SMAPE для final.output.recovery: 9.506602882041175\n",
      "Итоговый SMAPE: 9.337456681556441\n"
     ]
    }
   ],
   "source": [
    "model = DecisionTreeRegressor(max_depth=3, min_samples_split=2, random_state=12345)\n",
    "\n",
    "model = model.fit(features_train_rougher, target_train_rougher)\n",
    "predictions_test_rougher = model.predict(features_test_rougher)\n",
    "final_score_rougher = smape(target_test_rougher, predictions_test_rougher)\n",
    "print('SMAPE для таргета \"rougher.output.recovery\":', final_score_rougher)\n",
    "\n",
    "model = DecisionTreeRegressor(max_depth=2, min_samples_split=2, random_state=12345)\n",
    "model = model.fit(features_train_rougher, target_train_final)\n",
    "predictions_test_final = model.predict(features_test_rougher)\n",
    "final_score_final = smape(target_test_final, predictions_test_final)\n",
    "print(\"SMAPE для final.output.recovery:\", final_score_final)\n",
    "print(\"Итоговый SMAPE:\", smape_final(final_score_rougher, final_score_final))"
   ]
  },
  {
   "cell_type": "markdown",
   "metadata": {},
   "source": [
    "Проверим нашу модель с DummyRegressor на тренировочном наборе данных."
   ]
  },
  {
   "cell_type": "code",
   "execution_count": 53,
   "metadata": {},
   "outputs": [
    {
     "name": "stdout",
     "output_type": "stream",
     "text": [
      "SMAPE для таргета \"rougher.output.recovery\": 8.959999123709764\n",
      "SMAPE для final.output.recovery: 9.948514371785349\n",
      "Итоговый SMAPE: 9.701385559766452\n"
     ]
    }
   ],
   "source": [
    "model = DummyRegressor(strategy=\"mean\")\n",
    "\n",
    "model = model.fit(features_train_rougher, target_train_rougher)\n",
    "predictions_test_rougher = model.predict(features_test_rougher)\n",
    "final_score_rougher = smape(target_test_rougher, predictions_test_rougher)\n",
    "print('SMAPE для таргета \"rougher.output.recovery\":', final_score_rougher)\n",
    "\n",
    "model = model.fit(features_train_rougher, target_train_final)\n",
    "predictions_test_final = model.predict(features_test_rougher)\n",
    "final_score_final = smape(target_test_final, predictions_test_final)\n",
    "print(\"SMAPE для final.output.recovery:\", final_score_final)\n",
    "print(\"Итоговый SMAPE:\", smape_final(final_score_rougher, final_score_final))"
   ]
  },
  {
   "cell_type": "markdown",
   "metadata": {},
   "source": [
    "Как можно заметить, значение МАЕ для двух таргетов лучше у модели DecisionTreeRegressor."
   ]
  },
  {
   "cell_type": "markdown",
   "metadata": {},
   "source": [
    "<b>Вывод:</b>\n",
    "<br>В данном проекте необходимо было подготовить прототип модели машинного обучения для «Цифры». Компания разрабатывает решения для эффективной работы промышленных предприятий. Модель должна была предсказать коэффициент восстановления золота из золотосодержащей руды. Модель поможет оптимизировать производство, чтобы не запускать предприятие с убыточными характеристиками.\n",
    "<br>Сперва были подготовлены данные, в которых проверена правильность расчета признака \"эффективность обогащения\". Правильность расчета подтвердилось очень маленьким значением метрики МАЕ, равной 9.73512347450521e-15. Далее убрали признаки из обучающего набора данных, которых нет в тестовой. Обработаны пропуски методом fillna().\n",
    "<br>Далее провели анализ данных, в котором определили, что концентрация золота растет по мере прохождения сырья ступеней очистки, а концентрация серебра падает. Далее сравнили распределение размер гранул до флотации и после первичной очистки для тестового и тренировочого набора данных. Распределения совпадают. При исследовании суммарной концентрации веществ на трех этапах очистки были обнаружены аномалии (отрицательные или близкие к нулю значения). Строки с данными аномалиями были удалены из полного набора данных.\n",
    "<br>Далее с помощью кросс-валидации были оценены три регрессионных моделей с помощью итогового значения SMAPE. Наилучшими показатели получила модель DecisionTreeRegressor c параметрами max_depth = 3, min_samples_split = 2 для целевого признака 'rougher.output.recovery' 5,32 и c параметрами max_depth = 2, min_samples_split = 2 для признака 'final.output.recovery'. Общий SMAPE данной модели равен 8.63. Далее мы провеили оценку нашей модели на тестовом наборе данных и сравнили качество её предсказаний с предсказаниями модели DummyRegressor с помощью метрики SMAPE. Модель DecisionTreeRegressor с соответствующими параметрами для каждого таргета показала лучшее значение SMAPE для целевого признака 'rougher.output.recovery', 8,83 против 8,95, и для признака 'final.output.recovery' 9,51 против 9,94, и итоговый SMAPE 9,33 против 9,70. "
   ]
  }
 ],
 "metadata": {
  "ExecuteTimeLog": [
   {
    "duration": 389,
    "start_time": "2023-04-27T06:11:04.909Z"
   },
   {
    "duration": 3,
    "start_time": "2023-04-27T06:11:07.367Z"
   },
   {
    "duration": 2,
    "start_time": "2023-04-27T06:14:06.372Z"
   },
   {
    "duration": 110,
    "start_time": "2023-04-27T06:18:13.144Z"
   },
   {
    "duration": 2,
    "start_time": "2023-04-27T06:18:15.211Z"
   },
   {
    "duration": 44,
    "start_time": "2023-04-27T06:18:15.608Z"
   },
   {
    "duration": 1307,
    "start_time": "2023-04-27T06:18:34.393Z"
   },
   {
    "duration": 952,
    "start_time": "2023-04-27T06:19:09.041Z"
   },
   {
    "duration": 678,
    "start_time": "2023-04-27T06:19:36.889Z"
   },
   {
    "duration": 655,
    "start_time": "2023-04-27T06:19:44.733Z"
   },
   {
    "duration": 658,
    "start_time": "2023-04-27T06:20:02.636Z"
   },
   {
    "duration": 641,
    "start_time": "2023-04-27T06:20:50.725Z"
   },
   {
    "duration": 657,
    "start_time": "2023-04-27T06:21:17.085Z"
   },
   {
    "duration": 681,
    "start_time": "2023-04-27T06:21:42.053Z"
   },
   {
    "duration": 4,
    "start_time": "2023-04-27T06:24:37.294Z"
   },
   {
    "duration": 12,
    "start_time": "2023-04-27T06:25:22.093Z"
   },
   {
    "duration": 4,
    "start_time": "2023-04-27T06:27:30.490Z"
   },
   {
    "duration": 11,
    "start_time": "2023-04-27T06:27:31.094Z"
   },
   {
    "duration": 10,
    "start_time": "2023-04-27T06:29:46.042Z"
   },
   {
    "duration": 5,
    "start_time": "2023-04-27T06:29:53.046Z"
   },
   {
    "duration": 44,
    "start_time": "2023-04-27T06:29:53.326Z"
   },
   {
    "duration": 4,
    "start_time": "2023-04-27T06:30:34.454Z"
   },
   {
    "duration": 368,
    "start_time": "2023-04-27T06:30:35.002Z"
   },
   {
    "duration": 3,
    "start_time": "2023-04-27T06:31:07.210Z"
   },
   {
    "duration": 710,
    "start_time": "2023-04-27T06:31:07.998Z"
   },
   {
    "duration": 4,
    "start_time": "2023-04-27T06:32:11.570Z"
   },
   {
    "duration": 7,
    "start_time": "2023-04-27T06:40:23.424Z"
   },
   {
    "duration": 748,
    "start_time": "2023-04-27T06:40:26.611Z"
   },
   {
    "duration": 668,
    "start_time": "2023-04-27T06:40:27.361Z"
   },
   {
    "duration": 4,
    "start_time": "2023-04-27T06:40:28.032Z"
   },
   {
    "duration": 7,
    "start_time": "2023-04-27T06:40:28.187Z"
   },
   {
    "duration": 672,
    "start_time": "2023-04-27T06:43:29.328Z"
   },
   {
    "duration": 29,
    "start_time": "2023-04-27T06:43:41.104Z"
   },
   {
    "duration": 23,
    "start_time": "2023-04-27T06:43:51.160Z"
   },
   {
    "duration": 24,
    "start_time": "2023-04-27T06:50:54.425Z"
   },
   {
    "duration": 1570,
    "start_time": "2023-04-27T06:50:57.477Z"
   },
   {
    "duration": 0,
    "start_time": "2023-04-27T06:50:59.049Z"
   },
   {
    "duration": 688,
    "start_time": "2023-04-27T06:54:30.205Z"
   },
   {
    "duration": 23,
    "start_time": "2023-04-27T06:54:32.445Z"
   },
   {
    "duration": 5,
    "start_time": "2023-04-27T06:54:33.601Z"
   },
   {
    "duration": 7,
    "start_time": "2023-04-27T06:54:34.893Z"
   },
   {
    "duration": 6,
    "start_time": "2023-04-27T06:55:14.447Z"
   },
   {
    "duration": 1270,
    "start_time": "2023-04-27T06:57:21.194Z"
   },
   {
    "duration": 8,
    "start_time": "2023-04-27T06:57:32.914Z"
   },
   {
    "duration": 74,
    "start_time": "2023-04-27T07:02:57.210Z"
   },
   {
    "duration": 4,
    "start_time": "2023-04-27T07:05:23.535Z"
   },
   {
    "duration": 8,
    "start_time": "2023-04-27T07:05:26.522Z"
   },
   {
    "duration": 5,
    "start_time": "2023-04-27T07:05:32.942Z"
   },
   {
    "duration": 5,
    "start_time": "2023-04-27T07:07:02.343Z"
   },
   {
    "duration": 20,
    "start_time": "2023-04-27T07:07:03.043Z"
   },
   {
    "duration": 4,
    "start_time": "2023-04-27T07:07:48.679Z"
   },
   {
    "duration": 5,
    "start_time": "2023-04-27T07:07:48.999Z"
   },
   {
    "duration": 7,
    "start_time": "2023-04-27T07:08:25.371Z"
   },
   {
    "duration": 6,
    "start_time": "2023-04-27T07:08:25.824Z"
   },
   {
    "duration": 7,
    "start_time": "2023-04-27T07:08:51.623Z"
   },
   {
    "duration": 6,
    "start_time": "2023-04-27T07:08:52.044Z"
   },
   {
    "duration": 7,
    "start_time": "2023-04-27T07:09:27.795Z"
   },
   {
    "duration": 4,
    "start_time": "2023-04-27T07:09:27.947Z"
   },
   {
    "duration": 5,
    "start_time": "2023-04-27T07:09:46.051Z"
   },
   {
    "duration": 5,
    "start_time": "2023-04-27T07:09:46.468Z"
   },
   {
    "duration": 5,
    "start_time": "2023-04-27T07:27:25.777Z"
   },
   {
    "duration": 5,
    "start_time": "2023-04-27T07:27:48.753Z"
   },
   {
    "duration": 4,
    "start_time": "2023-04-27T07:52:40.053Z"
   },
   {
    "duration": 7,
    "start_time": "2023-04-27T07:57:49.230Z"
   },
   {
    "duration": 6,
    "start_time": "2023-04-27T07:58:13.938Z"
   },
   {
    "duration": 8,
    "start_time": "2023-04-27T08:35:47.351Z"
   },
   {
    "duration": 43,
    "start_time": "2023-04-27T08:37:41.787Z"
   },
   {
    "duration": 21,
    "start_time": "2023-04-27T08:38:19.376Z"
   },
   {
    "duration": 6,
    "start_time": "2023-04-27T08:39:45.592Z"
   },
   {
    "duration": 22,
    "start_time": "2023-04-27T08:39:46.563Z"
   },
   {
    "duration": 22,
    "start_time": "2023-04-27T08:40:42.000Z"
   },
   {
    "duration": 4,
    "start_time": "2023-04-27T09:28:17.384Z"
   },
   {
    "duration": 3,
    "start_time": "2023-04-27T09:30:03.003Z"
   },
   {
    "duration": 85,
    "start_time": "2023-04-27T09:31:07.964Z"
   },
   {
    "duration": 70,
    "start_time": "2023-04-27T09:31:13.864Z"
   },
   {
    "duration": 126,
    "start_time": "2023-04-27T09:31:19.560Z"
   },
   {
    "duration": 9,
    "start_time": "2023-04-27T09:31:28.808Z"
   },
   {
    "duration": 2,
    "start_time": "2023-04-27T09:31:31.824Z"
   },
   {
    "duration": 9,
    "start_time": "2023-04-27T09:31:32.024Z"
   },
   {
    "duration": 4,
    "start_time": "2023-04-27T09:31:41.316Z"
   },
   {
    "duration": 27,
    "start_time": "2023-04-27T09:32:00.724Z"
   },
   {
    "duration": 3,
    "start_time": "2023-04-27T09:41:00.274Z"
   },
   {
    "duration": 4,
    "start_time": "2023-04-27T09:41:35.821Z"
   },
   {
    "duration": 26,
    "start_time": "2023-04-27T09:42:12.206Z"
   },
   {
    "duration": 49,
    "start_time": "2023-04-27T17:23:39.493Z"
   },
   {
    "duration": 1085,
    "start_time": "2023-04-27T17:23:42.850Z"
   },
   {
    "duration": 2113,
    "start_time": "2023-04-27T17:23:43.937Z"
   },
   {
    "duration": 30,
    "start_time": "2023-04-27T17:23:46.052Z"
   },
   {
    "duration": 5,
    "start_time": "2023-04-27T17:23:46.084Z"
   },
   {
    "duration": 10,
    "start_time": "2023-04-27T17:23:46.090Z"
   },
   {
    "duration": 8,
    "start_time": "2023-04-27T17:23:46.101Z"
   },
   {
    "duration": 13,
    "start_time": "2023-04-27T17:23:46.111Z"
   },
   {
    "duration": 43,
    "start_time": "2023-04-27T17:23:46.125Z"
   },
   {
    "duration": 3,
    "start_time": "2023-04-27T17:23:46.170Z"
   },
   {
    "duration": 118,
    "start_time": "2023-04-27T17:23:46.175Z"
   },
   {
    "duration": 0,
    "start_time": "2023-04-27T17:23:46.295Z"
   },
   {
    "duration": 0,
    "start_time": "2023-04-27T17:23:46.296Z"
   },
   {
    "duration": 0,
    "start_time": "2023-04-27T17:23:46.297Z"
   },
   {
    "duration": 1180,
    "start_time": "2023-04-27T17:24:00.933Z"
   },
   {
    "duration": 704,
    "start_time": "2023-04-27T17:24:02.116Z"
   },
   {
    "duration": 27,
    "start_time": "2023-04-27T17:24:02.822Z"
   },
   {
    "duration": 10,
    "start_time": "2023-04-27T17:24:02.851Z"
   },
   {
    "duration": 9,
    "start_time": "2023-04-27T17:24:02.863Z"
   },
   {
    "duration": 5,
    "start_time": "2023-04-27T17:24:02.874Z"
   },
   {
    "duration": 5,
    "start_time": "2023-04-27T17:24:02.880Z"
   },
   {
    "duration": 22,
    "start_time": "2023-04-27T17:24:02.887Z"
   },
   {
    "duration": 2,
    "start_time": "2023-04-27T17:24:02.911Z"
   },
   {
    "duration": 134,
    "start_time": "2023-04-27T17:24:02.915Z"
   },
   {
    "duration": 0,
    "start_time": "2023-04-27T17:24:03.050Z"
   },
   {
    "duration": 0,
    "start_time": "2023-04-27T17:24:03.051Z"
   },
   {
    "duration": 0,
    "start_time": "2023-04-27T17:24:03.052Z"
   },
   {
    "duration": 3,
    "start_time": "2023-04-27T17:24:14.266Z"
   },
   {
    "duration": 14,
    "start_time": "2023-04-27T17:24:14.467Z"
   },
   {
    "duration": 4,
    "start_time": "2023-04-27T17:24:21.427Z"
   },
   {
    "duration": 22,
    "start_time": "2023-04-27T17:24:21.618Z"
   },
   {
    "duration": 1082,
    "start_time": "2023-04-27T17:24:47.143Z"
   },
   {
    "duration": 660,
    "start_time": "2023-04-27T17:24:48.227Z"
   },
   {
    "duration": 27,
    "start_time": "2023-04-27T17:24:48.888Z"
   },
   {
    "duration": 3,
    "start_time": "2023-04-27T17:24:48.918Z"
   },
   {
    "duration": 8,
    "start_time": "2023-04-27T17:24:48.923Z"
   },
   {
    "duration": 28,
    "start_time": "2023-04-27T17:24:48.933Z"
   },
   {
    "duration": 6,
    "start_time": "2023-04-27T17:24:48.963Z"
   },
   {
    "duration": 23,
    "start_time": "2023-04-27T17:24:48.971Z"
   },
   {
    "duration": 3,
    "start_time": "2023-04-27T17:24:48.995Z"
   },
   {
    "duration": 133,
    "start_time": "2023-04-27T17:24:49.000Z"
   },
   {
    "duration": 0,
    "start_time": "2023-04-27T17:24:49.134Z"
   },
   {
    "duration": 0,
    "start_time": "2023-04-27T17:24:49.136Z"
   },
   {
    "duration": 0,
    "start_time": "2023-04-27T17:24:49.137Z"
   },
   {
    "duration": 16,
    "start_time": "2023-04-27T17:25:05.026Z"
   },
   {
    "duration": 17,
    "start_time": "2023-04-27T17:26:21.803Z"
   },
   {
    "duration": 4,
    "start_time": "2023-04-27T17:26:44.267Z"
   },
   {
    "duration": 3,
    "start_time": "2023-04-27T17:27:00.604Z"
   },
   {
    "duration": 5,
    "start_time": "2023-04-27T17:27:06.750Z"
   },
   {
    "duration": 23,
    "start_time": "2023-04-27T17:27:12.332Z"
   },
   {
    "duration": 16,
    "start_time": "2023-04-27T17:27:50.067Z"
   },
   {
    "duration": 1121,
    "start_time": "2023-04-27T17:27:53.723Z"
   },
   {
    "duration": 704,
    "start_time": "2023-04-27T17:27:54.846Z"
   },
   {
    "duration": 32,
    "start_time": "2023-04-27T17:27:55.552Z"
   },
   {
    "duration": 4,
    "start_time": "2023-04-27T17:27:55.586Z"
   },
   {
    "duration": 25,
    "start_time": "2023-04-27T17:27:55.592Z"
   },
   {
    "duration": 20,
    "start_time": "2023-04-27T17:27:55.618Z"
   },
   {
    "duration": 16,
    "start_time": "2023-04-27T17:27:55.640Z"
   },
   {
    "duration": 24,
    "start_time": "2023-04-27T17:27:55.657Z"
   },
   {
    "duration": 8,
    "start_time": "2023-04-27T17:27:55.682Z"
   },
   {
    "duration": 123,
    "start_time": "2023-04-27T17:27:55.693Z"
   },
   {
    "duration": 0,
    "start_time": "2023-04-27T17:27:55.818Z"
   },
   {
    "duration": 0,
    "start_time": "2023-04-27T17:27:55.820Z"
   },
   {
    "duration": 0,
    "start_time": "2023-04-27T17:27:55.821Z"
   },
   {
    "duration": 3,
    "start_time": "2023-04-27T17:28:19.386Z"
   },
   {
    "duration": 23,
    "start_time": "2023-04-27T17:28:25.386Z"
   },
   {
    "duration": 2,
    "start_time": "2023-04-27T17:30:31.232Z"
   },
   {
    "duration": 14,
    "start_time": "2023-04-27T17:30:31.933Z"
   },
   {
    "duration": 9,
    "start_time": "2023-04-27T17:30:51.300Z"
   },
   {
    "duration": 10,
    "start_time": "2023-04-27T17:31:06.812Z"
   },
   {
    "duration": 8,
    "start_time": "2023-04-27T17:31:20.092Z"
   },
   {
    "duration": 15,
    "start_time": "2023-04-27T17:31:20.263Z"
   },
   {
    "duration": 10,
    "start_time": "2023-04-27T17:31:31.412Z"
   },
   {
    "duration": 3,
    "start_time": "2023-04-27T17:31:37.056Z"
   },
   {
    "duration": 21,
    "start_time": "2023-04-27T17:31:37.805Z"
   },
   {
    "duration": 1157,
    "start_time": "2023-04-27T17:31:43.222Z"
   },
   {
    "duration": 1196,
    "start_time": "2023-04-27T17:31:57.617Z"
   },
   {
    "duration": 31,
    "start_time": "2023-04-27T17:32:08.617Z"
   },
   {
    "duration": 1084,
    "start_time": "2023-04-27T17:35:33.977Z"
   },
   {
    "duration": 833,
    "start_time": "2023-04-27T17:35:35.063Z"
   },
   {
    "duration": 93,
    "start_time": "2023-04-27T17:35:35.898Z"
   },
   {
    "duration": 4,
    "start_time": "2023-04-27T17:35:35.993Z"
   },
   {
    "duration": 64,
    "start_time": "2023-04-27T17:35:35.999Z"
   },
   {
    "duration": 13,
    "start_time": "2023-04-27T17:35:36.065Z"
   },
   {
    "duration": 49,
    "start_time": "2023-04-27T17:35:36.080Z"
   },
   {
    "duration": 49,
    "start_time": "2023-04-27T17:35:36.131Z"
   },
   {
    "duration": 19,
    "start_time": "2023-04-27T17:35:36.182Z"
   },
   {
    "duration": 97,
    "start_time": "2023-04-27T17:35:36.204Z"
   },
   {
    "duration": 57,
    "start_time": "2023-04-27T17:35:36.303Z"
   },
   {
    "duration": 42,
    "start_time": "2023-04-27T17:35:36.363Z"
   },
   {
    "duration": 6,
    "start_time": "2023-04-27T17:35:36.407Z"
   },
   {
    "duration": 115,
    "start_time": "2023-04-27T17:35:57.618Z"
   },
   {
    "duration": 5,
    "start_time": "2023-04-27T17:37:24.003Z"
   },
   {
    "duration": 5,
    "start_time": "2023-04-27T17:37:37.987Z"
   },
   {
    "duration": 5,
    "start_time": "2023-04-27T17:38:40.772Z"
   },
   {
    "duration": 9,
    "start_time": "2023-04-27T17:40:47.002Z"
   },
   {
    "duration": 9,
    "start_time": "2023-04-27T17:41:04.345Z"
   },
   {
    "duration": 5,
    "start_time": "2023-04-27T17:41:16.899Z"
   },
   {
    "duration": 18,
    "start_time": "2023-04-27T17:43:14.074Z"
   },
   {
    "duration": 21,
    "start_time": "2023-04-27T17:45:39.105Z"
   },
   {
    "duration": 3,
    "start_time": "2023-04-27T17:47:36.325Z"
   },
   {
    "duration": 14,
    "start_time": "2023-04-27T17:47:39.044Z"
   },
   {
    "duration": 15,
    "start_time": "2023-04-27T17:47:47.382Z"
   },
   {
    "duration": 4,
    "start_time": "2023-04-27T17:47:49.479Z"
   },
   {
    "duration": 21,
    "start_time": "2023-04-27T17:47:50.750Z"
   },
   {
    "duration": 23,
    "start_time": "2023-04-27T17:50:12.217Z"
   },
   {
    "duration": 3,
    "start_time": "2023-04-27T17:50:15.564Z"
   },
   {
    "duration": 14,
    "start_time": "2023-04-27T17:50:48.445Z"
   },
   {
    "duration": 35,
    "start_time": "2023-04-27T17:53:10.272Z"
   },
   {
    "duration": 16,
    "start_time": "2023-04-27T17:53:10.627Z"
   },
   {
    "duration": 42,
    "start_time": "2023-04-27T17:53:39.505Z"
   },
   {
    "duration": 14,
    "start_time": "2023-04-27T17:54:06.061Z"
   },
   {
    "duration": 4,
    "start_time": "2023-04-27T17:54:06.860Z"
   },
   {
    "duration": 21,
    "start_time": "2023-04-27T17:54:08.216Z"
   },
   {
    "duration": 76,
    "start_time": "2023-04-27T17:55:14.399Z"
   },
   {
    "duration": 22,
    "start_time": "2023-04-27T17:55:16.303Z"
   },
   {
    "duration": 3,
    "start_time": "2023-04-27T17:55:28.022Z"
   },
   {
    "duration": 19,
    "start_time": "2023-04-27T17:55:28.700Z"
   },
   {
    "duration": 12,
    "start_time": "2023-04-27T17:56:17.772Z"
   },
   {
    "duration": 12,
    "start_time": "2023-04-27T17:56:45.104Z"
   },
   {
    "duration": 6,
    "start_time": "2023-04-27T17:57:00.551Z"
   },
   {
    "duration": 37,
    "start_time": "2023-04-27T17:58:35.146Z"
   },
   {
    "duration": 16,
    "start_time": "2023-04-27T17:58:36.050Z"
   },
   {
    "duration": 10,
    "start_time": "2023-04-27T17:58:55.806Z"
   },
   {
    "duration": 5,
    "start_time": "2023-04-27T18:07:14.355Z"
   },
   {
    "duration": 9,
    "start_time": "2023-04-27T18:07:17.856Z"
   },
   {
    "duration": 9,
    "start_time": "2023-04-27T18:07:33.364Z"
   },
   {
    "duration": 7,
    "start_time": "2023-04-27T18:07:34.105Z"
   },
   {
    "duration": 5,
    "start_time": "2023-04-27T18:09:32.904Z"
   },
   {
    "duration": 9,
    "start_time": "2023-04-27T18:09:41.383Z"
   },
   {
    "duration": 1009,
    "start_time": "2023-04-28T16:09:37.478Z"
   },
   {
    "duration": 3505,
    "start_time": "2023-04-28T16:09:38.489Z"
   },
   {
    "duration": 26,
    "start_time": "2023-04-28T16:09:41.996Z"
   },
   {
    "duration": 4,
    "start_time": "2023-04-28T16:09:42.024Z"
   },
   {
    "duration": 13,
    "start_time": "2023-04-28T16:09:42.030Z"
   },
   {
    "duration": 6,
    "start_time": "2023-04-28T16:09:42.045Z"
   },
   {
    "duration": 7,
    "start_time": "2023-04-28T16:09:42.053Z"
   },
   {
    "duration": 25,
    "start_time": "2023-04-28T16:09:42.062Z"
   },
   {
    "duration": 6,
    "start_time": "2023-04-28T16:09:42.088Z"
   },
   {
    "duration": 88,
    "start_time": "2023-04-28T16:09:42.096Z"
   },
   {
    "duration": 0,
    "start_time": "2023-04-28T16:09:42.185Z"
   },
   {
    "duration": 0,
    "start_time": "2023-04-28T16:09:42.186Z"
   },
   {
    "duration": 0,
    "start_time": "2023-04-28T16:09:42.187Z"
   },
   {
    "duration": 0,
    "start_time": "2023-04-28T16:09:42.188Z"
   },
   {
    "duration": 2,
    "start_time": "2023-04-28T16:14:08.826Z"
   },
   {
    "duration": 8,
    "start_time": "2023-04-28T16:14:18.575Z"
   },
   {
    "duration": 3,
    "start_time": "2023-04-28T16:14:21.869Z"
   },
   {
    "duration": 4,
    "start_time": "2023-04-28T16:14:22.249Z"
   },
   {
    "duration": 4,
    "start_time": "2023-04-28T16:15:02.017Z"
   },
   {
    "duration": 41,
    "start_time": "2023-04-28T16:17:36.770Z"
   },
   {
    "duration": 10,
    "start_time": "2023-04-28T16:20:30.922Z"
   },
   {
    "duration": 10,
    "start_time": "2023-04-28T16:20:48.081Z"
   },
   {
    "duration": 5,
    "start_time": "2023-04-28T16:21:07.771Z"
   },
   {
    "duration": 8,
    "start_time": "2023-04-28T16:34:22.773Z"
   },
   {
    "duration": 7,
    "start_time": "2023-04-28T16:34:31.054Z"
   },
   {
    "duration": 3,
    "start_time": "2023-04-28T16:34:38.474Z"
   },
   {
    "duration": 5,
    "start_time": "2023-04-28T16:34:38.657Z"
   },
   {
    "duration": 6,
    "start_time": "2023-04-28T16:35:34.943Z"
   },
   {
    "duration": 3,
    "start_time": "2023-04-28T16:35:45.406Z"
   },
   {
    "duration": 23,
    "start_time": "2023-04-28T16:39:19.967Z"
   },
   {
    "duration": 4,
    "start_time": "2023-04-28T16:47:11.854Z"
   },
   {
    "duration": 3,
    "start_time": "2023-04-28T16:47:46.555Z"
   },
   {
    "duration": 3,
    "start_time": "2023-04-28T16:47:52.779Z"
   },
   {
    "duration": 3,
    "start_time": "2023-04-28T16:48:15.072Z"
   },
   {
    "duration": 18,
    "start_time": "2023-04-28T16:48:35.365Z"
   },
   {
    "duration": 5,
    "start_time": "2023-04-28T16:48:38.397Z"
   },
   {
    "duration": 5,
    "start_time": "2023-04-28T16:52:26.053Z"
   },
   {
    "duration": 5,
    "start_time": "2023-04-28T16:53:31.149Z"
   },
   {
    "duration": 5,
    "start_time": "2023-04-28T16:53:40.831Z"
   },
   {
    "duration": 2,
    "start_time": "2023-04-28T16:54:26.196Z"
   },
   {
    "duration": 5,
    "start_time": "2023-04-28T16:54:26.394Z"
   },
   {
    "duration": 6,
    "start_time": "2023-04-28T16:54:26.566Z"
   },
   {
    "duration": 5,
    "start_time": "2023-04-28T16:54:26.794Z"
   },
   {
    "duration": 24,
    "start_time": "2023-04-28T16:54:26.976Z"
   },
   {
    "duration": 4,
    "start_time": "2023-04-28T16:54:27.723Z"
   },
   {
    "duration": 6,
    "start_time": "2023-04-28T16:54:29.077Z"
   },
   {
    "duration": 4,
    "start_time": "2023-04-28T16:55:19.575Z"
   },
   {
    "duration": 5,
    "start_time": "2023-04-28T16:55:52.091Z"
   },
   {
    "duration": 4,
    "start_time": "2023-04-28T16:56:37.934Z"
   },
   {
    "duration": 44,
    "start_time": "2023-04-28T16:57:58.346Z"
   },
   {
    "duration": 5,
    "start_time": "2023-04-28T16:58:05.490Z"
   },
   {
    "duration": 5,
    "start_time": "2023-04-28T16:59:56.237Z"
   },
   {
    "duration": 11,
    "start_time": "2023-04-28T17:01:59.055Z"
   },
   {
    "duration": 13,
    "start_time": "2023-04-28T17:02:30.265Z"
   },
   {
    "duration": 377,
    "start_time": "2023-04-28T17:03:04.954Z"
   },
   {
    "duration": 112,
    "start_time": "2023-04-28T17:04:25.115Z"
   },
   {
    "duration": 88,
    "start_time": "2023-04-28T17:05:48.772Z"
   },
   {
    "duration": 99,
    "start_time": "2023-04-28T17:05:52.995Z"
   },
   {
    "duration": 6,
    "start_time": "2023-04-28T17:09:52.794Z"
   },
   {
    "duration": 8,
    "start_time": "2023-04-28T17:10:25.586Z"
   },
   {
    "duration": 7,
    "start_time": "2023-04-28T17:11:03.064Z"
   },
   {
    "duration": 8,
    "start_time": "2023-04-28T17:11:38.294Z"
   },
   {
    "duration": 10,
    "start_time": "2023-04-28T17:12:10.050Z"
   },
   {
    "duration": 1298,
    "start_time": "2023-04-28T17:15:59.457Z"
   },
   {
    "duration": 703,
    "start_time": "2023-04-28T17:16:00.757Z"
   },
   {
    "duration": 22,
    "start_time": "2023-04-28T17:16:01.462Z"
   },
   {
    "duration": 5,
    "start_time": "2023-04-28T17:16:01.486Z"
   },
   {
    "duration": 27,
    "start_time": "2023-04-28T17:16:01.492Z"
   },
   {
    "duration": 24,
    "start_time": "2023-04-28T17:16:01.521Z"
   },
   {
    "duration": 34,
    "start_time": "2023-04-28T17:16:01.547Z"
   },
   {
    "duration": 41,
    "start_time": "2023-04-28T17:16:01.582Z"
   },
   {
    "duration": 40,
    "start_time": "2023-04-28T17:16:01.625Z"
   },
   {
    "duration": 36,
    "start_time": "2023-04-28T17:16:01.667Z"
   },
   {
    "duration": 21,
    "start_time": "2023-04-28T17:16:01.705Z"
   },
   {
    "duration": 11,
    "start_time": "2023-04-28T17:16:01.728Z"
   },
   {
    "duration": 28,
    "start_time": "2023-04-28T17:16:01.740Z"
   },
   {
    "duration": 22,
    "start_time": "2023-04-28T17:16:01.770Z"
   },
   {
    "duration": 22,
    "start_time": "2023-04-28T17:16:01.794Z"
   },
   {
    "duration": 8,
    "start_time": "2023-04-28T17:16:01.819Z"
   },
   {
    "duration": 28,
    "start_time": "2023-04-28T17:16:01.829Z"
   },
   {
    "duration": 9,
    "start_time": "2023-04-28T17:18:16.171Z"
   },
   {
    "duration": 11,
    "start_time": "2023-04-28T17:18:35.242Z"
   },
   {
    "duration": 8,
    "start_time": "2023-04-28T18:00:41.822Z"
   },
   {
    "duration": 8,
    "start_time": "2023-04-28T18:00:56.082Z"
   },
   {
    "duration": 8,
    "start_time": "2023-04-28T18:01:18.608Z"
   },
   {
    "duration": 7,
    "start_time": "2023-04-28T18:02:40.849Z"
   },
   {
    "duration": 6,
    "start_time": "2023-04-28T18:07:14.061Z"
   },
   {
    "duration": 5,
    "start_time": "2023-04-28T18:07:49.560Z"
   },
   {
    "duration": 92,
    "start_time": "2023-04-28T18:12:22.589Z"
   },
   {
    "duration": 6,
    "start_time": "2023-04-28T18:13:12.423Z"
   },
   {
    "duration": 508,
    "start_time": "2023-04-28T18:13:40.873Z"
   },
   {
    "duration": 720,
    "start_time": "2023-04-28T18:14:28.981Z"
   },
   {
    "duration": 6,
    "start_time": "2023-04-28T18:14:50.654Z"
   },
   {
    "duration": 529,
    "start_time": "2023-04-28T18:14:55.659Z"
   },
   {
    "duration": 602,
    "start_time": "2023-04-28T18:15:38.747Z"
   },
   {
    "duration": 704,
    "start_time": "2023-04-28T18:15:46.903Z"
   },
   {
    "duration": 549,
    "start_time": "2023-04-28T18:16:40.482Z"
   },
   {
    "duration": 558,
    "start_time": "2023-04-28T18:20:07.858Z"
   },
   {
    "duration": 563,
    "start_time": "2023-04-28T18:36:27.774Z"
   },
   {
    "duration": 580,
    "start_time": "2023-04-28T18:36:45.819Z"
   },
   {
    "duration": 542,
    "start_time": "2023-04-28T18:36:54.046Z"
   },
   {
    "duration": 6,
    "start_time": "2023-04-28T18:36:57.130Z"
   },
   {
    "duration": 521,
    "start_time": "2023-04-28T18:36:57.775Z"
   },
   {
    "duration": 548,
    "start_time": "2023-04-28T18:43:10.433Z"
   },
   {
    "duration": 1429,
    "start_time": "2023-04-28T18:46:56.663Z"
   },
   {
    "duration": 776,
    "start_time": "2023-04-28T18:46:58.094Z"
   },
   {
    "duration": 23,
    "start_time": "2023-04-28T18:46:58.872Z"
   },
   {
    "duration": 7,
    "start_time": "2023-04-28T18:46:58.897Z"
   },
   {
    "duration": 66,
    "start_time": "2023-04-28T18:46:58.905Z"
   },
   {
    "duration": 20,
    "start_time": "2023-04-28T18:46:58.973Z"
   },
   {
    "duration": 13,
    "start_time": "2023-04-28T18:46:58.994Z"
   },
   {
    "duration": 43,
    "start_time": "2023-04-28T18:46:59.008Z"
   },
   {
    "duration": 6,
    "start_time": "2023-04-28T18:46:59.053Z"
   },
   {
    "duration": 9,
    "start_time": "2023-04-28T18:46:59.061Z"
   },
   {
    "duration": 6,
    "start_time": "2023-04-28T18:46:59.071Z"
   },
   {
    "duration": 9,
    "start_time": "2023-04-28T18:46:59.079Z"
   },
   {
    "duration": 31,
    "start_time": "2023-04-28T18:46:59.090Z"
   },
   {
    "duration": 21,
    "start_time": "2023-04-28T18:46:59.123Z"
   },
   {
    "duration": 14,
    "start_time": "2023-04-28T18:46:59.146Z"
   },
   {
    "duration": 8,
    "start_time": "2023-04-28T18:46:59.161Z"
   },
   {
    "duration": 8,
    "start_time": "2023-04-28T18:46:59.171Z"
   },
   {
    "duration": 621,
    "start_time": "2023-04-28T18:46:59.181Z"
   },
   {
    "duration": 7,
    "start_time": "2023-04-28T18:46:59.803Z"
   },
   {
    "duration": 643,
    "start_time": "2023-04-28T18:46:59.812Z"
   },
   {
    "duration": 5,
    "start_time": "2023-04-28T18:55:19.746Z"
   },
   {
    "duration": 1436,
    "start_time": "2023-04-28T20:09:29.656Z"
   },
   {
    "duration": 3439,
    "start_time": "2023-04-28T20:09:31.099Z"
   },
   {
    "duration": 21,
    "start_time": "2023-04-28T20:09:34.540Z"
   },
   {
    "duration": 4,
    "start_time": "2023-04-28T20:09:34.562Z"
   },
   {
    "duration": 6,
    "start_time": "2023-04-28T20:09:34.568Z"
   },
   {
    "duration": 32,
    "start_time": "2023-04-28T20:09:34.575Z"
   },
   {
    "duration": 6,
    "start_time": "2023-04-28T20:09:34.608Z"
   },
   {
    "duration": 20,
    "start_time": "2023-04-28T20:09:34.615Z"
   },
   {
    "duration": 4,
    "start_time": "2023-04-28T20:09:34.636Z"
   },
   {
    "duration": 9,
    "start_time": "2023-04-28T20:09:34.642Z"
   },
   {
    "duration": 5,
    "start_time": "2023-04-28T20:09:34.652Z"
   },
   {
    "duration": 8,
    "start_time": "2023-04-28T20:09:34.658Z"
   },
   {
    "duration": 32,
    "start_time": "2023-04-28T20:09:34.667Z"
   },
   {
    "duration": 4,
    "start_time": "2023-04-28T20:09:34.701Z"
   },
   {
    "duration": 8,
    "start_time": "2023-04-28T20:09:34.706Z"
   },
   {
    "duration": 7,
    "start_time": "2023-04-28T20:09:34.715Z"
   },
   {
    "duration": 6,
    "start_time": "2023-04-28T20:09:34.724Z"
   },
   {
    "duration": 5,
    "start_time": "2023-04-28T20:09:34.731Z"
   },
   {
    "duration": 631,
    "start_time": "2023-04-28T20:09:34.738Z"
   },
   {
    "duration": 9,
    "start_time": "2023-04-28T20:09:35.370Z"
   },
   {
    "duration": 637,
    "start_time": "2023-04-28T20:09:35.380Z"
   },
   {
    "duration": 1209,
    "start_time": "2023-04-28T20:39:18.516Z"
   },
   {
    "duration": 663,
    "start_time": "2023-04-28T20:39:19.727Z"
   },
   {
    "duration": 20,
    "start_time": "2023-04-28T20:39:20.392Z"
   },
   {
    "duration": 4,
    "start_time": "2023-04-28T20:39:20.413Z"
   },
   {
    "duration": 8,
    "start_time": "2023-04-28T20:39:20.419Z"
   },
   {
    "duration": 6,
    "start_time": "2023-04-28T20:39:20.429Z"
   },
   {
    "duration": 6,
    "start_time": "2023-04-28T20:39:20.436Z"
   },
   {
    "duration": 44,
    "start_time": "2023-04-28T20:39:20.443Z"
   },
   {
    "duration": 12,
    "start_time": "2023-04-28T20:39:20.489Z"
   },
   {
    "duration": 14,
    "start_time": "2023-04-28T20:39:20.503Z"
   },
   {
    "duration": 11,
    "start_time": "2023-04-28T20:39:20.518Z"
   },
   {
    "duration": 7,
    "start_time": "2023-04-28T20:39:20.530Z"
   },
   {
    "duration": 26,
    "start_time": "2023-04-28T20:39:20.538Z"
   },
   {
    "duration": 33,
    "start_time": "2023-04-28T20:39:20.566Z"
   },
   {
    "duration": 14,
    "start_time": "2023-04-28T20:39:20.601Z"
   },
   {
    "duration": 14,
    "start_time": "2023-04-28T20:39:20.617Z"
   },
   {
    "duration": 9,
    "start_time": "2023-04-28T20:39:20.633Z"
   },
   {
    "duration": 7,
    "start_time": "2023-04-28T20:39:20.644Z"
   },
   {
    "duration": 589,
    "start_time": "2023-04-28T20:39:20.652Z"
   },
   {
    "duration": 7,
    "start_time": "2023-04-28T20:39:21.242Z"
   },
   {
    "duration": 577,
    "start_time": "2023-04-28T20:39:21.251Z"
   },
   {
    "duration": 103,
    "start_time": "2023-04-28T20:39:21.830Z"
   },
   {
    "duration": 69,
    "start_time": "2023-04-28T20:41:53.562Z"
   },
   {
    "duration": 772,
    "start_time": "2023-04-28T20:42:02.287Z"
   },
   {
    "duration": 4,
    "start_time": "2023-04-28T20:42:19.919Z"
   },
   {
    "duration": 8,
    "start_time": "2023-04-28T20:42:21.025Z"
   },
   {
    "duration": 218,
    "start_time": "2023-04-28T20:43:05.752Z"
   },
   {
    "duration": 21324,
    "start_time": "2023-04-28T20:43:17.732Z"
   },
   {
    "duration": 207,
    "start_time": "2023-04-28T20:44:13.642Z"
   },
   {
    "duration": 208,
    "start_time": "2023-04-28T20:44:22.092Z"
   },
   {
    "duration": 204,
    "start_time": "2023-04-28T20:44:25.362Z"
   },
   {
    "duration": 24939,
    "start_time": "2023-04-28T20:44:29.589Z"
   },
   {
    "duration": 143,
    "start_time": "2023-04-28T20:45:39.772Z"
   },
   {
    "duration": 84,
    "start_time": "2023-04-28T20:46:03.031Z"
   },
   {
    "duration": 144,
    "start_time": "2023-04-28T20:46:24.319Z"
   },
   {
    "duration": 2383,
    "start_time": "2023-04-28T20:46:52.468Z"
   },
   {
    "duration": 301,
    "start_time": "2023-04-28T20:47:32.242Z"
   },
   {
    "duration": 535,
    "start_time": "2023-04-28T20:48:03.773Z"
   },
   {
    "duration": 215,
    "start_time": "2023-04-28T20:48:15.372Z"
   },
   {
    "duration": 424,
    "start_time": "2023-04-28T20:48:23.439Z"
   },
   {
    "duration": 645,
    "start_time": "2023-04-28T20:54:15.535Z"
   },
   {
    "duration": 533,
    "start_time": "2023-04-28T20:54:47.270Z"
   },
   {
    "duration": 6,
    "start_time": "2023-04-28T20:55:13.091Z"
   },
   {
    "duration": 462,
    "start_time": "2023-04-28T20:55:28.848Z"
   },
   {
    "duration": 418,
    "start_time": "2023-04-28T20:55:59.231Z"
   },
   {
    "duration": 9,
    "start_time": "2023-04-28T20:57:51.938Z"
   },
   {
    "duration": 5,
    "start_time": "2023-04-28T20:57:55.335Z"
   },
   {
    "duration": 469,
    "start_time": "2023-04-28T20:57:55.527Z"
   },
   {
    "duration": 445,
    "start_time": "2023-04-28T20:58:10.044Z"
   },
   {
    "duration": 520,
    "start_time": "2023-04-28T20:58:18.691Z"
   },
   {
    "duration": 4,
    "start_time": "2023-04-28T20:58:20.119Z"
   },
   {
    "duration": 4,
    "start_time": "2023-04-28T21:00:12.689Z"
   },
   {
    "duration": 14,
    "start_time": "2023-04-28T21:06:33.565Z"
   },
   {
    "duration": 3,
    "start_time": "2023-04-28T21:06:40.025Z"
   },
   {
    "duration": 471,
    "start_time": "2023-04-28T21:06:40.237Z"
   },
   {
    "duration": 567,
    "start_time": "2023-04-28T21:10:28.152Z"
   },
   {
    "duration": 540,
    "start_time": "2023-04-28T21:10:47.096Z"
   },
   {
    "duration": 532,
    "start_time": "2023-04-28T21:10:57.496Z"
   },
   {
    "duration": 9,
    "start_time": "2023-04-28T21:13:42.195Z"
   },
   {
    "duration": 1881,
    "start_time": "2023-04-28T21:13:43.234Z"
   },
   {
    "duration": 1583,
    "start_time": "2023-04-28T21:13:56.447Z"
   },
   {
    "duration": 0,
    "start_time": "2023-04-28T21:13:58.032Z"
   },
   {
    "duration": 3,
    "start_time": "2023-04-28T21:17:28.762Z"
   },
   {
    "duration": 4,
    "start_time": "2023-04-28T21:17:39.178Z"
   },
   {
    "duration": 1308,
    "start_time": "2023-04-28T21:23:16.030Z"
   },
   {
    "duration": 659,
    "start_time": "2023-04-28T21:23:17.340Z"
   },
   {
    "duration": 20,
    "start_time": "2023-04-28T21:23:18.000Z"
   },
   {
    "duration": 3,
    "start_time": "2023-04-28T21:23:18.021Z"
   },
   {
    "duration": 11,
    "start_time": "2023-04-28T21:23:18.026Z"
   },
   {
    "duration": 3,
    "start_time": "2023-04-28T21:23:18.038Z"
   },
   {
    "duration": 4,
    "start_time": "2023-04-28T21:23:18.042Z"
   },
   {
    "duration": 5,
    "start_time": "2023-04-28T21:23:18.047Z"
   },
   {
    "duration": 39,
    "start_time": "2023-04-28T21:23:18.054Z"
   },
   {
    "duration": 34,
    "start_time": "2023-04-28T21:23:18.094Z"
   },
   {
    "duration": 3,
    "start_time": "2023-04-28T21:23:18.130Z"
   },
   {
    "duration": 9,
    "start_time": "2023-04-28T21:23:18.135Z"
   },
   {
    "duration": 6,
    "start_time": "2023-04-28T21:23:18.145Z"
   },
   {
    "duration": 11,
    "start_time": "2023-04-28T21:23:18.154Z"
   },
   {
    "duration": 23,
    "start_time": "2023-04-28T21:23:18.166Z"
   },
   {
    "duration": 18,
    "start_time": "2023-04-28T21:23:18.190Z"
   },
   {
    "duration": 12,
    "start_time": "2023-04-28T21:23:18.209Z"
   },
   {
    "duration": 7,
    "start_time": "2023-04-28T21:23:18.222Z"
   },
   {
    "duration": 9,
    "start_time": "2023-04-28T21:23:18.230Z"
   },
   {
    "duration": 6,
    "start_time": "2023-04-28T21:23:18.240Z"
   },
   {
    "duration": 604,
    "start_time": "2023-04-28T21:23:18.247Z"
   },
   {
    "duration": 6,
    "start_time": "2023-04-28T21:23:18.852Z"
   },
   {
    "duration": 585,
    "start_time": "2023-04-28T21:23:18.859Z"
   },
   {
    "duration": 3,
    "start_time": "2023-04-28T21:23:19.445Z"
   },
   {
    "duration": 586,
    "start_time": "2023-04-28T21:23:19.449Z"
   },
   {
    "duration": 4,
    "start_time": "2023-04-28T21:23:20.037Z"
   },
   {
    "duration": 588,
    "start_time": "2023-04-28T21:23:20.042Z"
   },
   {
    "duration": 3,
    "start_time": "2023-04-28T21:23:20.632Z"
   },
   {
    "duration": 499,
    "start_time": "2023-04-28T21:23:20.636Z"
   },
   {
    "duration": 10,
    "start_time": "2023-04-28T21:26:17.837Z"
   },
   {
    "duration": 1506,
    "start_time": "2023-04-28T22:44:38.336Z"
   },
   {
    "duration": 2063,
    "start_time": "2023-04-28T22:44:39.846Z"
   },
   {
    "duration": 24,
    "start_time": "2023-04-28T22:44:41.911Z"
   },
   {
    "duration": 4,
    "start_time": "2023-04-28T22:44:41.938Z"
   },
   {
    "duration": 9,
    "start_time": "2023-04-28T22:44:41.944Z"
   },
   {
    "duration": 5,
    "start_time": "2023-04-28T22:44:41.955Z"
   },
   {
    "duration": 4,
    "start_time": "2023-04-28T22:44:41.962Z"
   },
   {
    "duration": 26,
    "start_time": "2023-04-28T22:44:41.967Z"
   },
   {
    "duration": 6,
    "start_time": "2023-04-28T22:44:41.995Z"
   },
   {
    "duration": 20,
    "start_time": "2023-04-28T22:44:42.004Z"
   },
   {
    "duration": 6,
    "start_time": "2023-04-28T22:44:42.025Z"
   },
   {
    "duration": 13,
    "start_time": "2023-04-28T22:44:42.033Z"
   },
   {
    "duration": 9,
    "start_time": "2023-04-28T22:44:42.048Z"
   },
   {
    "duration": 4,
    "start_time": "2023-04-28T22:44:42.059Z"
   },
   {
    "duration": 41,
    "start_time": "2023-04-28T22:44:42.065Z"
   },
   {
    "duration": 5,
    "start_time": "2023-04-28T22:44:42.108Z"
   },
   {
    "duration": 8,
    "start_time": "2023-04-28T22:44:42.114Z"
   },
   {
    "duration": 8,
    "start_time": "2023-04-28T22:44:42.124Z"
   },
   {
    "duration": 8,
    "start_time": "2023-04-28T22:44:42.134Z"
   },
   {
    "duration": 6,
    "start_time": "2023-04-28T22:44:42.144Z"
   },
   {
    "duration": 603,
    "start_time": "2023-04-28T22:44:42.152Z"
   },
   {
    "duration": 7,
    "start_time": "2023-04-28T22:44:42.756Z"
   },
   {
    "duration": 619,
    "start_time": "2023-04-28T22:44:42.765Z"
   },
   {
    "duration": 6,
    "start_time": "2023-04-28T22:44:43.386Z"
   },
   {
    "duration": 606,
    "start_time": "2023-04-28T22:44:43.394Z"
   },
   {
    "duration": 11,
    "start_time": "2023-04-28T22:44:44.002Z"
   },
   {
    "duration": 6,
    "start_time": "2023-04-28T22:44:44.014Z"
   },
   {
    "duration": 691,
    "start_time": "2023-04-28T22:44:44.022Z"
   },
   {
    "duration": 5,
    "start_time": "2023-04-28T22:44:44.715Z"
   },
   {
    "duration": 660,
    "start_time": "2023-04-28T22:44:44.722Z"
   },
   {
    "duration": 4,
    "start_time": "2023-04-28T22:44:45.392Z"
   },
   {
    "duration": 623,
    "start_time": "2023-04-28T22:44:45.397Z"
   },
   {
    "duration": 4,
    "start_time": "2023-04-28T22:48:05.326Z"
   },
   {
    "duration": 730,
    "start_time": "2023-04-28T22:48:05.547Z"
   },
   {
    "duration": 14,
    "start_time": "2023-04-28T22:48:06.279Z"
   },
   {
    "duration": 5,
    "start_time": "2023-04-28T22:48:06.646Z"
   },
   {
    "duration": 649,
    "start_time": "2023-04-28T22:48:07.455Z"
   },
   {
    "duration": 5,
    "start_time": "2023-04-28T22:48:08.105Z"
   },
   {
    "duration": 1303,
    "start_time": "2023-04-28T22:48:10.656Z"
   },
   {
    "duration": 679,
    "start_time": "2023-04-28T22:48:11.961Z"
   },
   {
    "duration": 24,
    "start_time": "2023-04-28T22:48:12.642Z"
   },
   {
    "duration": 4,
    "start_time": "2023-04-28T22:48:12.668Z"
   },
   {
    "duration": 24,
    "start_time": "2023-04-28T22:48:12.674Z"
   },
   {
    "duration": 5,
    "start_time": "2023-04-28T22:48:12.700Z"
   },
   {
    "duration": 4,
    "start_time": "2023-04-28T22:48:12.706Z"
   },
   {
    "duration": 5,
    "start_time": "2023-04-28T22:48:12.712Z"
   },
   {
    "duration": 9,
    "start_time": "2023-04-28T22:48:12.718Z"
   },
   {
    "duration": 23,
    "start_time": "2023-04-28T22:48:12.730Z"
   },
   {
    "duration": 36,
    "start_time": "2023-04-28T22:48:12.755Z"
   },
   {
    "duration": 8,
    "start_time": "2023-04-28T22:48:12.793Z"
   },
   {
    "duration": 11,
    "start_time": "2023-04-28T22:48:12.803Z"
   },
   {
    "duration": 8,
    "start_time": "2023-04-28T22:48:12.816Z"
   },
   {
    "duration": 22,
    "start_time": "2023-04-28T22:48:12.826Z"
   },
   {
    "duration": 4,
    "start_time": "2023-04-28T22:48:12.850Z"
   },
   {
    "duration": 11,
    "start_time": "2023-04-28T22:48:12.855Z"
   },
   {
    "duration": 9,
    "start_time": "2023-04-28T22:48:12.891Z"
   },
   {
    "duration": 8,
    "start_time": "2023-04-28T22:48:12.902Z"
   },
   {
    "duration": 14,
    "start_time": "2023-04-28T22:48:12.911Z"
   },
   {
    "duration": 614,
    "start_time": "2023-04-28T22:48:12.926Z"
   },
   {
    "duration": 7,
    "start_time": "2023-04-28T22:48:13.542Z"
   },
   {
    "duration": 604,
    "start_time": "2023-04-28T22:48:13.550Z"
   },
   {
    "duration": 3,
    "start_time": "2023-04-28T22:48:14.156Z"
   },
   {
    "duration": 622,
    "start_time": "2023-04-28T22:48:14.161Z"
   },
   {
    "duration": 17,
    "start_time": "2023-04-28T22:48:14.784Z"
   },
   {
    "duration": 5,
    "start_time": "2023-04-28T22:48:14.802Z"
   },
   {
    "duration": 663,
    "start_time": "2023-04-28T22:48:14.811Z"
   },
   {
    "duration": 4,
    "start_time": "2023-04-28T22:48:15.476Z"
   },
   {
    "duration": 621,
    "start_time": "2023-04-28T22:48:15.482Z"
   },
   {
    "duration": 4,
    "start_time": "2023-04-28T22:48:16.105Z"
   },
   {
    "duration": 619,
    "start_time": "2023-04-28T22:48:16.111Z"
   },
   {
    "duration": 11,
    "start_time": "2023-04-28T22:50:00.365Z"
   },
   {
    "duration": 4,
    "start_time": "2023-04-28T22:50:15.448Z"
   },
   {
    "duration": 758,
    "start_time": "2023-04-28T22:50:16.244Z"
   },
   {
    "duration": 4,
    "start_time": "2023-04-28T22:50:21.577Z"
   },
   {
    "duration": 664,
    "start_time": "2023-04-28T22:50:22.176Z"
   },
   {
    "duration": 1425,
    "start_time": "2023-04-28T22:51:00.467Z"
   },
   {
    "duration": 717,
    "start_time": "2023-04-28T22:51:01.894Z"
   },
   {
    "duration": 25,
    "start_time": "2023-04-28T22:51:02.613Z"
   },
   {
    "duration": 4,
    "start_time": "2023-04-28T22:51:02.639Z"
   },
   {
    "duration": 21,
    "start_time": "2023-04-28T22:51:02.646Z"
   },
   {
    "duration": 20,
    "start_time": "2023-04-28T22:51:02.668Z"
   },
   {
    "duration": 3,
    "start_time": "2023-04-28T22:51:02.691Z"
   },
   {
    "duration": 6,
    "start_time": "2023-04-28T22:51:02.696Z"
   },
   {
    "duration": 9,
    "start_time": "2023-04-28T22:51:02.704Z"
   },
   {
    "duration": 37,
    "start_time": "2023-04-28T22:51:02.714Z"
   },
   {
    "duration": 11,
    "start_time": "2023-04-28T22:51:02.752Z"
   },
   {
    "duration": 13,
    "start_time": "2023-04-28T22:51:02.765Z"
   },
   {
    "duration": 18,
    "start_time": "2023-04-28T22:51:02.779Z"
   },
   {
    "duration": 12,
    "start_time": "2023-04-28T22:51:02.801Z"
   },
   {
    "duration": 39,
    "start_time": "2023-04-28T22:51:02.815Z"
   },
   {
    "duration": 13,
    "start_time": "2023-04-28T22:51:02.857Z"
   },
   {
    "duration": 19,
    "start_time": "2023-04-28T22:51:02.871Z"
   },
   {
    "duration": 8,
    "start_time": "2023-04-28T22:51:02.892Z"
   },
   {
    "duration": 8,
    "start_time": "2023-04-28T22:51:02.902Z"
   },
   {
    "duration": 8,
    "start_time": "2023-04-28T22:51:02.912Z"
   },
   {
    "duration": 560,
    "start_time": "2023-04-28T22:51:02.922Z"
   },
   {
    "duration": 6,
    "start_time": "2023-04-28T22:51:03.491Z"
   },
   {
    "duration": 573,
    "start_time": "2023-04-28T22:51:03.498Z"
   },
   {
    "duration": 5,
    "start_time": "2023-04-28T22:51:04.073Z"
   },
   {
    "duration": 648,
    "start_time": "2023-04-28T22:51:04.079Z"
   },
   {
    "duration": 12,
    "start_time": "2023-04-28T22:51:04.729Z"
   },
   {
    "duration": 5,
    "start_time": "2023-04-28T22:51:04.743Z"
   },
   {
    "duration": 735,
    "start_time": "2023-04-28T22:51:04.750Z"
   },
   {
    "duration": 7,
    "start_time": "2023-04-28T22:51:05.486Z"
   },
   {
    "duration": 625,
    "start_time": "2023-04-28T22:51:05.495Z"
   },
   {
    "duration": 11,
    "start_time": "2023-04-28T22:51:06.122Z"
   },
   {
    "duration": 8,
    "start_time": "2023-04-28T22:51:06.134Z"
   },
   {
    "duration": 677,
    "start_time": "2023-04-28T22:51:06.143Z"
   },
   {
    "duration": 5,
    "start_time": "2023-04-28T22:51:06.822Z"
   },
   {
    "duration": 957,
    "start_time": "2023-04-28T22:51:06.830Z"
   },
   {
    "duration": 15,
    "start_time": "2023-04-28T22:51:07.793Z"
   },
   {
    "duration": 8,
    "start_time": "2023-04-28T22:51:07.810Z"
   },
   {
    "duration": 698,
    "start_time": "2023-04-28T22:51:07.819Z"
   },
   {
    "duration": 116,
    "start_time": "2023-04-28T22:53:03.557Z"
   },
   {
    "duration": 15,
    "start_time": "2023-04-28T22:53:47.647Z"
   },
   {
    "duration": 5,
    "start_time": "2023-04-28T22:56:00.147Z"
   },
   {
    "duration": 628,
    "start_time": "2023-04-28T22:56:00.687Z"
   },
   {
    "duration": 4,
    "start_time": "2023-04-28T22:56:56.935Z"
   },
   {
    "duration": 601,
    "start_time": "2023-04-28T22:56:57.502Z"
   },
   {
    "duration": 11,
    "start_time": "2023-04-28T22:57:05.126Z"
   },
   {
    "duration": 4,
    "start_time": "2023-04-28T22:57:05.778Z"
   },
   {
    "duration": 834,
    "start_time": "2023-04-28T22:57:06.960Z"
   },
   {
    "duration": 1442,
    "start_time": "2023-04-28T22:57:30.467Z"
   },
   {
    "duration": 744,
    "start_time": "2023-04-28T22:57:31.911Z"
   },
   {
    "duration": 35,
    "start_time": "2023-04-28T22:57:32.657Z"
   },
   {
    "duration": 8,
    "start_time": "2023-04-28T22:57:32.694Z"
   },
   {
    "duration": 8,
    "start_time": "2023-04-28T22:57:32.704Z"
   },
   {
    "duration": 6,
    "start_time": "2023-04-28T22:57:32.714Z"
   },
   {
    "duration": 6,
    "start_time": "2023-04-28T22:57:32.722Z"
   },
   {
    "duration": 7,
    "start_time": "2023-04-28T22:57:32.731Z"
   },
   {
    "duration": 9,
    "start_time": "2023-04-28T22:57:32.740Z"
   },
   {
    "duration": 68,
    "start_time": "2023-04-28T22:57:32.752Z"
   },
   {
    "duration": 4,
    "start_time": "2023-04-28T22:57:32.822Z"
   },
   {
    "duration": 11,
    "start_time": "2023-04-28T22:57:32.828Z"
   },
   {
    "duration": 9,
    "start_time": "2023-04-28T22:57:32.841Z"
   },
   {
    "duration": 5,
    "start_time": "2023-04-28T22:57:32.852Z"
   },
   {
    "duration": 66,
    "start_time": "2023-04-28T22:57:32.859Z"
   },
   {
    "duration": 6,
    "start_time": "2023-04-28T22:57:32.928Z"
   },
   {
    "duration": 10,
    "start_time": "2023-04-28T22:57:32.936Z"
   },
   {
    "duration": 9,
    "start_time": "2023-04-28T22:57:32.948Z"
   },
   {
    "duration": 11,
    "start_time": "2023-04-28T22:57:32.991Z"
   },
   {
    "duration": 8,
    "start_time": "2023-04-28T22:57:33.004Z"
   },
   {
    "duration": 648,
    "start_time": "2023-04-28T22:57:33.014Z"
   },
   {
    "duration": 7,
    "start_time": "2023-04-28T22:57:33.664Z"
   },
   {
    "duration": 601,
    "start_time": "2023-04-28T22:57:33.673Z"
   },
   {
    "duration": 5,
    "start_time": "2023-04-28T22:57:34.276Z"
   },
   {
    "duration": 623,
    "start_time": "2023-04-28T22:57:34.283Z"
   },
   {
    "duration": 11,
    "start_time": "2023-04-28T22:57:34.908Z"
   },
   {
    "duration": 14,
    "start_time": "2023-04-28T22:57:34.921Z"
   },
   {
    "duration": 656,
    "start_time": "2023-04-28T22:57:34.938Z"
   },
   {
    "duration": 5,
    "start_time": "2023-04-28T22:57:35.595Z"
   },
   {
    "duration": 598,
    "start_time": "2023-04-28T22:57:35.601Z"
   },
   {
    "duration": 11,
    "start_time": "2023-04-28T22:57:36.200Z"
   },
   {
    "duration": 8,
    "start_time": "2023-04-28T22:57:36.213Z"
   },
   {
    "duration": 669,
    "start_time": "2023-04-28T22:57:36.222Z"
   },
   {
    "duration": 4,
    "start_time": "2023-04-28T22:57:36.893Z"
   },
   {
    "duration": 860,
    "start_time": "2023-04-28T22:57:36.899Z"
   },
   {
    "duration": 11,
    "start_time": "2023-04-28T22:57:37.762Z"
   },
   {
    "duration": 19,
    "start_time": "2023-04-28T22:57:37.775Z"
   },
   {
    "duration": 621,
    "start_time": "2023-04-28T22:57:37.795Z"
   },
   {
    "duration": 13,
    "start_time": "2023-04-28T22:58:22.127Z"
   },
   {
    "duration": 5,
    "start_time": "2023-04-28T22:58:22.575Z"
   },
   {
    "duration": 674,
    "start_time": "2023-04-28T22:58:23.058Z"
   },
   {
    "duration": 8,
    "start_time": "2023-04-28T22:58:29.028Z"
   },
   {
    "duration": 5,
    "start_time": "2023-04-28T22:58:30.678Z"
   },
   {
    "duration": 665,
    "start_time": "2023-04-28T22:58:30.848Z"
   },
   {
    "duration": 8,
    "start_time": "2023-04-28T23:00:16.457Z"
   },
   {
    "duration": 5,
    "start_time": "2023-04-28T23:00:19.061Z"
   },
   {
    "duration": 794,
    "start_time": "2023-04-28T23:00:19.606Z"
   },
   {
    "duration": 641,
    "start_time": "2023-04-28T23:00:39.459Z"
   },
   {
    "duration": 5,
    "start_time": "2023-04-28T23:03:11.850Z"
   },
   {
    "duration": 611,
    "start_time": "2023-04-28T23:03:12.891Z"
   },
   {
    "duration": 4,
    "start_time": "2023-04-28T23:03:21.149Z"
   },
   {
    "duration": 683,
    "start_time": "2023-04-28T23:03:21.547Z"
   },
   {
    "duration": 8,
    "start_time": "2023-04-28T23:03:26.610Z"
   },
   {
    "duration": 6,
    "start_time": "2023-04-28T23:03:27.321Z"
   },
   {
    "duration": 857,
    "start_time": "2023-04-28T23:03:27.951Z"
   },
   {
    "duration": 5,
    "start_time": "2023-04-28T23:03:30.587Z"
   },
   {
    "duration": 591,
    "start_time": "2023-04-28T23:03:31.121Z"
   },
   {
    "duration": 8,
    "start_time": "2023-04-28T23:03:33.900Z"
   },
   {
    "duration": 5,
    "start_time": "2023-04-28T23:03:35.030Z"
   },
   {
    "duration": 596,
    "start_time": "2023-04-28T23:03:35.380Z"
   },
   {
    "duration": 4,
    "start_time": "2023-04-28T23:03:35.978Z"
   },
   {
    "duration": 678,
    "start_time": "2023-04-28T23:03:36.509Z"
   },
   {
    "duration": 11,
    "start_time": "2023-04-28T23:03:37.188Z"
   },
   {
    "duration": 6,
    "start_time": "2023-04-28T23:03:37.415Z"
   },
   {
    "duration": 898,
    "start_time": "2023-04-28T23:03:37.726Z"
   },
   {
    "duration": 8,
    "start_time": "2023-04-28T23:04:15.942Z"
   },
   {
    "duration": 6,
    "start_time": "2023-04-28T23:04:16.328Z"
   },
   {
    "duration": 654,
    "start_time": "2023-04-28T23:04:16.804Z"
   },
   {
    "duration": 5,
    "start_time": "2023-04-28T23:04:19.090Z"
   },
   {
    "duration": 612,
    "start_time": "2023-04-28T23:04:19.579Z"
   },
   {
    "duration": 4,
    "start_time": "2023-04-28T23:04:20.193Z"
   },
   {
    "duration": 588,
    "start_time": "2023-04-28T23:04:20.925Z"
   },
   {
    "duration": 5,
    "start_time": "2023-04-28T23:05:40.649Z"
   },
   {
    "duration": 594,
    "start_time": "2023-04-28T23:05:40.801Z"
   },
   {
    "duration": 3,
    "start_time": "2023-04-28T23:25:05.782Z"
   },
   {
    "duration": 4,
    "start_time": "2023-04-28T23:26:20.717Z"
   },
   {
    "duration": 4,
    "start_time": "2023-04-28T23:27:13.649Z"
   },
   {
    "duration": 330,
    "start_time": "2023-04-28T23:32:03.749Z"
   },
   {
    "duration": 111,
    "start_time": "2023-04-28T23:34:39.211Z"
   },
   {
    "duration": 6,
    "start_time": "2023-04-28T23:34:59.948Z"
   },
   {
    "duration": 15,
    "start_time": "2023-04-28T23:39:53.480Z"
   },
   {
    "duration": 4,
    "start_time": "2023-04-28T23:40:07.050Z"
   },
   {
    "duration": 216,
    "start_time": "2023-04-28T23:40:12.252Z"
   },
   {
    "duration": 188,
    "start_time": "2023-04-28T23:40:31.735Z"
   },
   {
    "duration": 177,
    "start_time": "2023-04-28T23:40:35.383Z"
   },
   {
    "duration": 58,
    "start_time": "2023-04-28T23:41:21.391Z"
   },
   {
    "duration": 21,
    "start_time": "2023-04-28T23:41:46.049Z"
   },
   {
    "duration": 28,
    "start_time": "2023-04-28T23:42:43.020Z"
   },
   {
    "duration": 43,
    "start_time": "2023-04-28T23:44:12.350Z"
   },
   {
    "duration": 30,
    "start_time": "2023-04-28T23:44:15.525Z"
   },
   {
    "duration": 38,
    "start_time": "2023-04-28T23:44:18.753Z"
   },
   {
    "duration": 1442,
    "start_time": "2023-04-28T23:44:23.789Z"
   },
   {
    "duration": 687,
    "start_time": "2023-04-28T23:44:25.233Z"
   },
   {
    "duration": 24,
    "start_time": "2023-04-28T23:44:25.922Z"
   },
   {
    "duration": 5,
    "start_time": "2023-04-28T23:44:25.948Z"
   },
   {
    "duration": 10,
    "start_time": "2023-04-28T23:44:25.955Z"
   },
   {
    "duration": 5,
    "start_time": "2023-04-28T23:44:25.966Z"
   },
   {
    "duration": 3,
    "start_time": "2023-04-28T23:44:25.993Z"
   },
   {
    "duration": 10,
    "start_time": "2023-04-28T23:44:25.998Z"
   },
   {
    "duration": 6,
    "start_time": "2023-04-28T23:44:26.009Z"
   },
   {
    "duration": 22,
    "start_time": "2023-04-28T23:44:26.018Z"
   },
   {
    "duration": 3,
    "start_time": "2023-04-28T23:44:26.041Z"
   },
   {
    "duration": 11,
    "start_time": "2023-04-28T23:44:26.046Z"
   },
   {
    "duration": 42,
    "start_time": "2023-04-28T23:44:26.058Z"
   },
   {
    "duration": 19,
    "start_time": "2023-04-28T23:44:26.102Z"
   },
   {
    "duration": 21,
    "start_time": "2023-04-28T23:44:26.122Z"
   },
   {
    "duration": 36,
    "start_time": "2023-04-28T23:44:26.145Z"
   },
   {
    "duration": 40,
    "start_time": "2023-04-28T23:44:26.183Z"
   },
   {
    "duration": 5,
    "start_time": "2023-04-28T23:44:26.225Z"
   },
   {
    "duration": 38,
    "start_time": "2023-04-28T23:44:26.232Z"
   },
   {
    "duration": 18,
    "start_time": "2023-04-28T23:44:26.272Z"
   },
   {
    "duration": 12,
    "start_time": "2023-04-28T23:44:26.292Z"
   },
   {
    "duration": 22,
    "start_time": "2023-04-28T23:44:26.306Z"
   },
   {
    "duration": 595,
    "start_time": "2023-04-28T23:44:26.330Z"
   },
   {
    "duration": 8,
    "start_time": "2023-04-28T23:44:26.927Z"
   },
   {
    "duration": 616,
    "start_time": "2023-04-28T23:44:26.936Z"
   },
   {
    "duration": 5,
    "start_time": "2023-04-28T23:44:27.554Z"
   },
   {
    "duration": 725,
    "start_time": "2023-04-28T23:44:27.561Z"
   },
   {
    "duration": 11,
    "start_time": "2023-04-28T23:44:28.291Z"
   },
   {
    "duration": 5,
    "start_time": "2023-04-28T23:44:28.303Z"
   },
   {
    "duration": 670,
    "start_time": "2023-04-28T23:44:28.309Z"
   },
   {
    "duration": 11,
    "start_time": "2023-04-28T23:44:28.981Z"
   },
   {
    "duration": 587,
    "start_time": "2023-04-28T23:44:28.993Z"
   },
   {
    "duration": 11,
    "start_time": "2023-04-28T23:44:29.582Z"
   },
   {
    "duration": 597,
    "start_time": "2023-04-28T23:44:29.595Z"
   },
   {
    "duration": 4,
    "start_time": "2023-04-28T23:44:30.193Z"
   },
   {
    "duration": 153,
    "start_time": "2023-04-28T23:44:30.199Z"
   },
   {
    "duration": 25,
    "start_time": "2023-04-28T23:45:28.489Z"
   },
   {
    "duration": 25,
    "start_time": "2023-04-28T23:48:11.324Z"
   },
   {
    "duration": 30,
    "start_time": "2023-04-28T23:48:48.411Z"
   },
   {
    "duration": 25,
    "start_time": "2023-04-28T23:48:59.357Z"
   },
   {
    "duration": 8,
    "start_time": "2023-04-28T23:49:33.626Z"
   },
   {
    "duration": 9,
    "start_time": "2023-04-28T23:50:02.025Z"
   },
   {
    "duration": 6,
    "start_time": "2023-04-28T23:50:15.626Z"
   },
   {
    "duration": 8,
    "start_time": "2023-04-28T23:50:16.566Z"
   },
   {
    "duration": 8,
    "start_time": "2023-04-28T23:50:21.204Z"
   },
   {
    "duration": 6,
    "start_time": "2023-04-28T23:50:22.742Z"
   },
   {
    "duration": 11,
    "start_time": "2023-04-28T23:50:23.971Z"
   },
   {
    "duration": 35,
    "start_time": "2023-04-28T23:50:25.073Z"
   },
   {
    "duration": 37,
    "start_time": "2023-04-28T23:52:02.803Z"
   },
   {
    "duration": 9,
    "start_time": "2023-04-28T23:52:03.624Z"
   },
   {
    "duration": 8,
    "start_time": "2023-04-28T23:52:09.771Z"
   },
   {
    "duration": 142,
    "start_time": "2023-04-28T23:52:11.602Z"
   },
   {
    "duration": 43,
    "start_time": "2023-04-28T23:52:24.214Z"
   },
   {
    "duration": 8,
    "start_time": "2023-04-28T23:52:39.336Z"
   },
   {
    "duration": 7,
    "start_time": "2023-04-28T23:52:55.287Z"
   },
   {
    "duration": 8,
    "start_time": "2023-04-28T23:52:55.297Z"
   },
   {
    "duration": 1539,
    "start_time": "2023-04-28T23:53:07.585Z"
   },
   {
    "duration": 9,
    "start_time": "2023-04-28T23:54:30.850Z"
   },
   {
    "duration": 1326,
    "start_time": "2023-04-28T23:54:40.656Z"
   },
   {
    "duration": 697,
    "start_time": "2023-04-28T23:54:41.984Z"
   },
   {
    "duration": 31,
    "start_time": "2023-04-28T23:54:42.682Z"
   },
   {
    "duration": 4,
    "start_time": "2023-04-28T23:54:42.714Z"
   },
   {
    "duration": 8,
    "start_time": "2023-04-28T23:54:42.720Z"
   },
   {
    "duration": 4,
    "start_time": "2023-04-28T23:54:42.730Z"
   },
   {
    "duration": 12,
    "start_time": "2023-04-28T23:54:42.736Z"
   },
   {
    "duration": 7,
    "start_time": "2023-04-28T23:54:42.749Z"
   },
   {
    "duration": 7,
    "start_time": "2023-04-28T23:54:42.758Z"
   },
   {
    "duration": 45,
    "start_time": "2023-04-28T23:54:42.767Z"
   },
   {
    "duration": 3,
    "start_time": "2023-04-28T23:54:42.813Z"
   },
   {
    "duration": 14,
    "start_time": "2023-04-28T23:54:42.817Z"
   },
   {
    "duration": 22,
    "start_time": "2023-04-28T23:54:42.833Z"
   },
   {
    "duration": 12,
    "start_time": "2023-04-28T23:54:42.858Z"
   },
   {
    "duration": 29,
    "start_time": "2023-04-28T23:54:42.871Z"
   },
   {
    "duration": 10,
    "start_time": "2023-04-28T23:54:42.901Z"
   },
   {
    "duration": 36,
    "start_time": "2023-04-28T23:54:42.912Z"
   },
   {
    "duration": 13,
    "start_time": "2023-04-28T23:54:42.950Z"
   },
   {
    "duration": 33,
    "start_time": "2023-04-28T23:54:42.965Z"
   },
   {
    "duration": 8,
    "start_time": "2023-04-28T23:54:42.999Z"
   },
   {
    "duration": 8,
    "start_time": "2023-04-28T23:54:43.009Z"
   },
   {
    "duration": 7,
    "start_time": "2023-04-28T23:54:43.018Z"
   },
   {
    "duration": 649,
    "start_time": "2023-04-28T23:54:43.027Z"
   },
   {
    "duration": 15,
    "start_time": "2023-04-28T23:54:43.677Z"
   },
   {
    "duration": 561,
    "start_time": "2023-04-28T23:54:43.693Z"
   },
   {
    "duration": 5,
    "start_time": "2023-04-28T23:54:44.255Z"
   },
   {
    "duration": 734,
    "start_time": "2023-04-28T23:54:44.261Z"
   },
   {
    "duration": 11,
    "start_time": "2023-04-28T23:54:44.996Z"
   },
   {
    "duration": 6,
    "start_time": "2023-04-28T23:54:45.009Z"
   },
   {
    "duration": 678,
    "start_time": "2023-04-28T23:54:45.016Z"
   },
   {
    "duration": 4,
    "start_time": "2023-04-28T23:54:45.696Z"
   },
   {
    "duration": 608,
    "start_time": "2023-04-28T23:54:45.702Z"
   },
   {
    "duration": 4,
    "start_time": "2023-04-28T23:54:46.312Z"
   },
   {
    "duration": 667,
    "start_time": "2023-04-28T23:54:46.318Z"
   },
   {
    "duration": 3,
    "start_time": "2023-04-28T23:54:46.991Z"
   },
   {
    "duration": 1402,
    "start_time": "2023-04-28T23:54:46.996Z"
   },
   {
    "duration": 1368,
    "start_time": "2023-04-28T23:57:11.313Z"
   },
   {
    "duration": 1432,
    "start_time": "2023-04-28T23:57:30.382Z"
   },
   {
    "duration": 1403,
    "start_time": "2023-04-28T23:57:52.893Z"
   },
   {
    "duration": 1438,
    "start_time": "2023-04-28T23:58:45.303Z"
   },
   {
    "duration": 1930,
    "start_time": "2023-04-28T23:58:58.214Z"
   },
   {
    "duration": 2014,
    "start_time": "2023-04-28T23:59:03.854Z"
   },
   {
    "duration": 5615,
    "start_time": "2023-04-28T23:59:16.823Z"
   },
   {
    "duration": 5468,
    "start_time": "2023-04-28T23:59:24.824Z"
   },
   {
    "duration": 5692,
    "start_time": "2023-04-28T23:59:30.294Z"
   },
   {
    "duration": 2026,
    "start_time": "2023-04-29T00:00:15.293Z"
   },
   {
    "duration": 1961,
    "start_time": "2023-04-29T00:00:17.322Z"
   },
   {
    "duration": 80,
    "start_time": "2023-04-29T00:03:10.371Z"
   },
   {
    "duration": 76,
    "start_time": "2023-04-29T00:03:10.528Z"
   },
   {
    "duration": 72,
    "start_time": "2023-04-29T00:03:17.953Z"
   },
   {
    "duration": 78218,
    "start_time": "2023-04-29T00:03:52.496Z"
   },
   {
    "duration": 74458,
    "start_time": "2023-04-29T00:05:10.715Z"
   },
   {
    "duration": 74071,
    "start_time": "2023-04-29T00:09:25.883Z"
   },
   {
    "duration": 74939,
    "start_time": "2023-04-29T00:11:19.502Z"
   },
   {
    "duration": 1610,
    "start_time": "2023-04-29T00:16:13.583Z"
   },
   {
    "duration": 74648,
    "start_time": "2023-04-29T00:16:15.195Z"
   },
   {
    "duration": 108,
    "start_time": "2023-04-29T00:19:47.037Z"
   },
   {
    "duration": 11,
    "start_time": "2023-04-29T00:20:15.026Z"
   },
   {
    "duration": 4,
    "start_time": "2023-04-29T00:20:34.814Z"
   },
   {
    "duration": 1967,
    "start_time": "2023-04-29T00:20:35.177Z"
   },
   {
    "duration": 2001,
    "start_time": "2023-04-29T00:20:37.145Z"
   },
   {
    "duration": 9,
    "start_time": "2023-04-29T00:20:43.746Z"
   },
   {
    "duration": 4,
    "start_time": "2023-04-29T00:23:38.774Z"
   },
   {
    "duration": 9,
    "start_time": "2023-04-29T00:23:42.926Z"
   },
   {
    "duration": 5,
    "start_time": "2023-04-29T00:24:01.803Z"
   },
   {
    "duration": 9,
    "start_time": "2023-04-29T00:24:05.501Z"
   },
   {
    "duration": 4,
    "start_time": "2023-04-29T00:25:52.555Z"
   },
   {
    "duration": 8,
    "start_time": "2023-04-29T00:25:55.822Z"
   },
   {
    "duration": 5,
    "start_time": "2023-04-29T00:32:03.758Z"
   },
   {
    "duration": 12,
    "start_time": "2023-04-29T00:32:24.840Z"
   },
   {
    "duration": 5,
    "start_time": "2023-04-29T00:32:54.903Z"
   },
   {
    "duration": 8,
    "start_time": "2023-04-29T00:32:58.462Z"
   },
   {
    "duration": 4,
    "start_time": "2023-04-29T00:33:39.685Z"
   },
   {
    "duration": 1979,
    "start_time": "2023-04-29T00:33:41.422Z"
   },
   {
    "duration": 1936,
    "start_time": "2023-04-29T00:33:43.403Z"
   },
   {
    "duration": 8,
    "start_time": "2023-04-29T00:33:46.542Z"
   },
   {
    "duration": 8,
    "start_time": "2023-04-29T00:33:55.179Z"
   },
   {
    "duration": 3,
    "start_time": "2023-04-29T00:34:36.703Z"
   },
   {
    "duration": 6,
    "start_time": "2023-04-29T00:34:39.541Z"
   },
   {
    "duration": 4,
    "start_time": "2023-04-29T00:35:07.945Z"
   },
   {
    "duration": 8,
    "start_time": "2023-04-29T00:35:11.890Z"
   },
   {
    "duration": 5,
    "start_time": "2023-04-29T00:37:12.310Z"
   },
   {
    "duration": 17,
    "start_time": "2023-04-29T00:37:15.656Z"
   },
   {
    "duration": 4,
    "start_time": "2023-04-29T00:37:25.682Z"
   },
   {
    "duration": 7,
    "start_time": "2023-04-29T00:37:30.050Z"
   },
   {
    "duration": 5,
    "start_time": "2023-04-29T00:38:12.953Z"
   },
   {
    "duration": 8,
    "start_time": "2023-04-29T00:38:15.522Z"
   },
   {
    "duration": 163,
    "start_time": "2023-04-29T00:42:02.044Z"
   },
   {
    "duration": 153,
    "start_time": "2023-04-29T00:42:41.091Z"
   },
   {
    "duration": 289,
    "start_time": "2023-04-29T00:43:15.850Z"
   },
   {
    "duration": 6,
    "start_time": "2023-04-29T00:43:35.018Z"
   },
   {
    "duration": 3,
    "start_time": "2023-04-29T00:44:11.830Z"
   },
   {
    "duration": 7,
    "start_time": "2023-04-29T00:44:16.029Z"
   },
   {
    "duration": 4,
    "start_time": "2023-04-29T00:44:25.046Z"
   },
   {
    "duration": 4,
    "start_time": "2023-04-29T00:44:30.961Z"
   },
   {
    "duration": 6,
    "start_time": "2023-04-29T00:44:33.889Z"
   },
   {
    "duration": 3,
    "start_time": "2023-04-29T00:44:42.222Z"
   },
   {
    "duration": 6,
    "start_time": "2023-04-29T00:44:44.890Z"
   },
   {
    "duration": 4,
    "start_time": "2023-04-29T00:45:22.361Z"
   },
   {
    "duration": 6,
    "start_time": "2023-04-29T00:45:25.121Z"
   },
   {
    "duration": 3,
    "start_time": "2023-04-29T00:45:41.021Z"
   },
   {
    "duration": 4,
    "start_time": "2023-04-29T00:45:43.930Z"
   },
   {
    "duration": 3,
    "start_time": "2023-04-29T00:45:51.968Z"
   },
   {
    "duration": 4,
    "start_time": "2023-04-29T00:45:55.001Z"
   },
   {
    "duration": 75,
    "start_time": "2023-04-29T00:46:08.349Z"
   },
   {
    "duration": 3,
    "start_time": "2023-04-29T00:46:24.789Z"
   },
   {
    "duration": 7,
    "start_time": "2023-04-29T00:46:27.857Z"
   },
   {
    "duration": 4,
    "start_time": "2023-04-29T00:46:52.408Z"
   },
   {
    "duration": 6,
    "start_time": "2023-04-29T00:46:55.004Z"
   },
   {
    "duration": 4,
    "start_time": "2023-04-29T00:47:04.549Z"
   },
   {
    "duration": 5,
    "start_time": "2023-04-29T00:47:07.452Z"
   },
   {
    "duration": 89,
    "start_time": "2023-04-29T00:47:31.060Z"
   },
   {
    "duration": 4,
    "start_time": "2023-04-29T00:48:10.160Z"
   },
   {
    "duration": 5,
    "start_time": "2023-04-29T00:48:14.240Z"
   },
   {
    "duration": 4,
    "start_time": "2023-04-29T00:49:03.943Z"
   },
   {
    "duration": 6,
    "start_time": "2023-04-29T00:49:07.401Z"
   },
   {
    "duration": 4,
    "start_time": "2023-04-29T00:49:15.410Z"
   },
   {
    "duration": 6,
    "start_time": "2023-04-29T00:49:18.750Z"
   },
   {
    "duration": 3,
    "start_time": "2023-04-29T00:49:37.601Z"
   },
   {
    "duration": 6,
    "start_time": "2023-04-29T00:49:41.049Z"
   },
   {
    "duration": 4,
    "start_time": "2023-04-29T00:50:34.579Z"
   },
   {
    "duration": 6,
    "start_time": "2023-04-29T00:50:37.845Z"
   },
   {
    "duration": 3,
    "start_time": "2023-04-29T00:51:14.377Z"
   },
   {
    "duration": 7,
    "start_time": "2023-04-29T00:51:18.149Z"
   },
   {
    "duration": 3,
    "start_time": "2023-04-29T00:51:26.290Z"
   },
   {
    "duration": 6,
    "start_time": "2023-04-29T00:51:29.141Z"
   },
   {
    "duration": 3,
    "start_time": "2023-04-29T00:53:34.724Z"
   },
   {
    "duration": 6,
    "start_time": "2023-04-29T00:53:40.993Z"
   },
   {
    "duration": 4,
    "start_time": "2023-04-29T00:53:48.404Z"
   },
   {
    "duration": 8,
    "start_time": "2023-04-29T00:53:51.269Z"
   },
   {
    "duration": 4,
    "start_time": "2023-04-29T00:54:18.744Z"
   },
   {
    "duration": 6,
    "start_time": "2023-04-29T00:54:21.974Z"
   },
   {
    "duration": 4,
    "start_time": "2023-04-29T00:54:37.856Z"
   },
   {
    "duration": 6,
    "start_time": "2023-04-29T00:54:41.255Z"
   },
   {
    "duration": 4,
    "start_time": "2023-04-29T00:55:58.787Z"
   },
   {
    "duration": 7,
    "start_time": "2023-04-29T00:55:59.204Z"
   },
   {
    "duration": 4,
    "start_time": "2023-04-29T00:56:24.264Z"
   },
   {
    "duration": 7,
    "start_time": "2023-04-29T00:56:28.572Z"
   },
   {
    "duration": 4,
    "start_time": "2023-04-29T00:56:44.741Z"
   },
   {
    "duration": 7,
    "start_time": "2023-04-29T00:56:49.291Z"
   },
   {
    "duration": 4,
    "start_time": "2023-04-29T00:57:08.565Z"
   },
   {
    "duration": 6,
    "start_time": "2023-04-29T00:57:11.814Z"
   },
   {
    "duration": 3,
    "start_time": "2023-04-29T00:57:22.669Z"
   },
   {
    "duration": 12,
    "start_time": "2023-04-29T00:57:26.077Z"
   },
   {
    "duration": 3,
    "start_time": "2023-04-29T00:57:39.062Z"
   },
   {
    "duration": 6,
    "start_time": "2023-04-29T00:57:42.816Z"
   },
   {
    "duration": 3,
    "start_time": "2023-04-29T00:57:48.020Z"
   },
   {
    "duration": 4,
    "start_time": "2023-04-29T00:58:10.161Z"
   },
   {
    "duration": 6,
    "start_time": "2023-04-29T00:58:12.472Z"
   },
   {
    "duration": 4,
    "start_time": "2023-04-29T00:59:16.987Z"
   },
   {
    "duration": 21,
    "start_time": "2023-04-29T00:59:19.514Z"
   },
   {
    "duration": 4,
    "start_time": "2023-04-29T01:00:17.194Z"
   },
   {
    "duration": 20,
    "start_time": "2023-04-29T01:00:21.947Z"
   },
   {
    "duration": 284,
    "start_time": "2023-04-29T01:01:13.858Z"
   },
   {
    "duration": 8,
    "start_time": "2023-04-29T01:01:16.616Z"
   },
   {
    "duration": 4,
    "start_time": "2023-04-29T01:01:25.328Z"
   },
   {
    "duration": 282,
    "start_time": "2023-04-29T01:01:28.943Z"
   },
   {
    "duration": 8,
    "start_time": "2023-04-29T01:01:29.391Z"
   },
   {
    "duration": 665,
    "start_time": "2023-04-29T02:09:57.857Z"
   },
   {
    "duration": 665,
    "start_time": "2023-04-29T02:09:58.524Z"
   },
   {
    "duration": 699,
    "start_time": "2023-04-29T02:10:49.930Z"
   },
   {
    "duration": 661,
    "start_time": "2023-04-29T02:10:50.631Z"
   },
   {
    "duration": 696,
    "start_time": "2023-04-29T02:11:23.328Z"
   },
   {
    "duration": 8,
    "start_time": "2023-04-29T02:12:22.988Z"
   },
   {
    "duration": 690,
    "start_time": "2023-04-29T02:12:33.675Z"
   },
   {
    "duration": 715,
    "start_time": "2023-04-29T02:12:37.700Z"
   },
   {
    "duration": 688,
    "start_time": "2023-04-29T02:14:13.979Z"
   },
   {
    "duration": 657,
    "start_time": "2023-04-29T02:14:14.669Z"
   },
   {
    "duration": 8,
    "start_time": "2023-04-29T02:14:36.674Z"
   },
   {
    "duration": 1423,
    "start_time": "2023-04-29T02:15:01.984Z"
   },
   {
    "duration": 688,
    "start_time": "2023-04-29T02:15:03.409Z"
   },
   {
    "duration": 24,
    "start_time": "2023-04-29T02:15:04.099Z"
   },
   {
    "duration": 4,
    "start_time": "2023-04-29T02:15:04.125Z"
   },
   {
    "duration": 7,
    "start_time": "2023-04-29T02:15:04.131Z"
   },
   {
    "duration": 10,
    "start_time": "2023-04-29T02:15:04.139Z"
   },
   {
    "duration": 3,
    "start_time": "2023-04-29T02:15:04.150Z"
   },
   {
    "duration": 6,
    "start_time": "2023-04-29T02:15:04.155Z"
   },
   {
    "duration": 30,
    "start_time": "2023-04-29T02:15:04.162Z"
   },
   {
    "duration": 23,
    "start_time": "2023-04-29T02:15:04.195Z"
   },
   {
    "duration": 3,
    "start_time": "2023-04-29T02:15:04.220Z"
   },
   {
    "duration": 9,
    "start_time": "2023-04-29T02:15:04.225Z"
   },
   {
    "duration": 7,
    "start_time": "2023-04-29T02:15:04.235Z"
   },
   {
    "duration": 7,
    "start_time": "2023-04-29T02:15:04.244Z"
   },
   {
    "duration": 49,
    "start_time": "2023-04-29T02:15:04.252Z"
   },
   {
    "duration": 7,
    "start_time": "2023-04-29T02:15:04.303Z"
   },
   {
    "duration": 32,
    "start_time": "2023-04-29T02:15:04.311Z"
   },
   {
    "duration": 11,
    "start_time": "2023-04-29T02:15:04.345Z"
   },
   {
    "duration": 7,
    "start_time": "2023-04-29T02:15:04.358Z"
   },
   {
    "duration": 33,
    "start_time": "2023-04-29T02:15:04.366Z"
   },
   {
    "duration": 7,
    "start_time": "2023-04-29T02:15:04.401Z"
   },
   {
    "duration": 7,
    "start_time": "2023-04-29T02:15:04.410Z"
   },
   {
    "duration": 565,
    "start_time": "2023-04-29T02:15:04.418Z"
   },
   {
    "duration": 11,
    "start_time": "2023-04-29T02:15:04.984Z"
   },
   {
    "duration": 567,
    "start_time": "2023-04-29T02:15:04.997Z"
   },
   {
    "duration": 5,
    "start_time": "2023-04-29T02:15:05.565Z"
   },
   {
    "duration": 711,
    "start_time": "2023-04-29T02:15:05.571Z"
   },
   {
    "duration": 12,
    "start_time": "2023-04-29T02:15:06.299Z"
   },
   {
    "duration": 10,
    "start_time": "2023-04-29T02:15:06.313Z"
   },
   {
    "duration": 575,
    "start_time": "2023-04-29T02:15:06.324Z"
   },
   {
    "duration": 5,
    "start_time": "2023-04-29T02:15:06.901Z"
   },
   {
    "duration": 637,
    "start_time": "2023-04-29T02:15:06.907Z"
   },
   {
    "duration": 5,
    "start_time": "2023-04-29T02:15:07.546Z"
   },
   {
    "duration": 641,
    "start_time": "2023-04-29T02:15:07.553Z"
   },
   {
    "duration": 4,
    "start_time": "2023-04-29T02:15:08.196Z"
   },
   {
    "duration": 1947,
    "start_time": "2023-04-29T02:15:08.202Z"
   },
   {
    "duration": 2967,
    "start_time": "2023-04-29T02:15:10.151Z"
   },
   {
    "duration": 73545,
    "start_time": "2023-04-29T02:15:13.120Z"
   },
   {
    "duration": 72263,
    "start_time": "2023-04-29T02:16:26.667Z"
   },
   {
    "duration": 1769,
    "start_time": "2023-04-29T02:17:38.932Z"
   },
   {
    "duration": 1802,
    "start_time": "2023-04-29T02:17:40.793Z"
   },
   {
    "duration": 860,
    "start_time": "2023-04-29T02:17:42.597Z"
   },
   {
    "duration": 694,
    "start_time": "2023-04-29T02:17:43.459Z"
   },
   {
    "duration": 7,
    "start_time": "2023-04-29T02:17:44.155Z"
   },
   {
    "duration": 1342,
    "start_time": "2023-04-29T02:18:01.652Z"
   },
   {
    "duration": 662,
    "start_time": "2023-04-29T02:18:05.501Z"
   },
   {
    "duration": 668,
    "start_time": "2023-04-29T02:18:06.165Z"
   },
   {
    "duration": 587,
    "start_time": "2023-04-29T02:18:18.429Z"
   },
   {
    "duration": 688,
    "start_time": "2023-04-29T02:18:22.545Z"
   },
   {
    "duration": 1375,
    "start_time": "2023-04-29T02:20:12.243Z"
   },
   {
    "duration": 677,
    "start_time": "2023-04-29T02:20:13.620Z"
   },
   {
    "duration": 23,
    "start_time": "2023-04-29T02:20:14.299Z"
   },
   {
    "duration": 4,
    "start_time": "2023-04-29T02:20:14.323Z"
   },
   {
    "duration": 14,
    "start_time": "2023-04-29T02:20:14.328Z"
   },
   {
    "duration": 8,
    "start_time": "2023-04-29T02:20:14.343Z"
   },
   {
    "duration": 3,
    "start_time": "2023-04-29T02:20:14.352Z"
   },
   {
    "duration": 13,
    "start_time": "2023-04-29T02:20:14.356Z"
   },
   {
    "duration": 22,
    "start_time": "2023-04-29T02:20:14.370Z"
   },
   {
    "duration": 19,
    "start_time": "2023-04-29T02:20:14.395Z"
   },
   {
    "duration": 3,
    "start_time": "2023-04-29T02:20:14.416Z"
   },
   {
    "duration": 16,
    "start_time": "2023-04-29T02:20:14.421Z"
   },
   {
    "duration": 16,
    "start_time": "2023-04-29T02:20:14.438Z"
   },
   {
    "duration": 5,
    "start_time": "2023-04-29T02:20:14.455Z"
   },
   {
    "duration": 34,
    "start_time": "2023-04-29T02:20:14.461Z"
   },
   {
    "duration": 7,
    "start_time": "2023-04-29T02:20:14.496Z"
   },
   {
    "duration": 37,
    "start_time": "2023-04-29T02:20:14.505Z"
   },
   {
    "duration": 11,
    "start_time": "2023-04-29T02:20:14.544Z"
   },
   {
    "duration": 7,
    "start_time": "2023-04-29T02:20:14.557Z"
   },
   {
    "duration": 7,
    "start_time": "2023-04-29T02:20:14.592Z"
   },
   {
    "duration": 11,
    "start_time": "2023-04-29T02:20:14.601Z"
   },
   {
    "duration": 13,
    "start_time": "2023-04-29T02:20:14.613Z"
   },
   {
    "duration": 537,
    "start_time": "2023-04-29T02:20:14.628Z"
   },
   {
    "duration": 6,
    "start_time": "2023-04-29T02:20:15.167Z"
   },
   {
    "duration": 584,
    "start_time": "2023-04-29T02:20:15.174Z"
   },
   {
    "duration": 4,
    "start_time": "2023-04-29T02:20:15.760Z"
   },
   {
    "duration": 745,
    "start_time": "2023-04-29T02:20:15.766Z"
   },
   {
    "duration": 12,
    "start_time": "2023-04-29T02:20:16.514Z"
   },
   {
    "duration": 4,
    "start_time": "2023-04-29T02:20:16.528Z"
   },
   {
    "duration": 644,
    "start_time": "2023-04-29T02:20:16.534Z"
   },
   {
    "duration": 12,
    "start_time": "2023-04-29T02:20:17.180Z"
   },
   {
    "duration": 606,
    "start_time": "2023-04-29T02:20:17.194Z"
   },
   {
    "duration": 5,
    "start_time": "2023-04-29T02:20:17.802Z"
   },
   {
    "duration": 591,
    "start_time": "2023-04-29T02:20:17.808Z"
   },
   {
    "duration": 4,
    "start_time": "2023-04-29T02:20:18.401Z"
   },
   {
    "duration": 1943,
    "start_time": "2023-04-29T02:20:18.407Z"
   },
   {
    "duration": 2066,
    "start_time": "2023-04-29T02:20:20.352Z"
   },
   {
    "duration": 71605,
    "start_time": "2023-04-29T02:20:22.420Z"
   },
   {
    "duration": 70653,
    "start_time": "2023-04-29T02:21:34.026Z"
   },
   {
    "duration": 1514,
    "start_time": "2023-04-29T02:22:44.681Z"
   },
   {
    "duration": 1495,
    "start_time": "2023-04-29T02:22:46.198Z"
   },
   {
    "duration": 783,
    "start_time": "2023-04-29T02:22:47.697Z"
   },
   {
    "duration": 686,
    "start_time": "2023-04-29T02:22:48.482Z"
   },
   {
    "duration": 8,
    "start_time": "2023-04-29T02:22:49.169Z"
   },
   {
    "duration": 567,
    "start_time": "2023-04-29T02:26:27.817Z"
   },
   {
    "duration": 7,
    "start_time": "2023-04-29T02:26:28.392Z"
   },
   {
    "duration": 5,
    "start_time": "2023-04-29T02:26:28.875Z"
   },
   {
    "duration": 622,
    "start_time": "2023-04-29T02:26:29.254Z"
   },
   {
    "duration": 5,
    "start_time": "2023-04-29T02:26:33.595Z"
   },
   {
    "duration": 648,
    "start_time": "2023-04-29T02:26:34.265Z"
   },
   {
    "duration": 12,
    "start_time": "2023-04-29T02:27:12.769Z"
   },
   {
    "duration": 5,
    "start_time": "2023-04-29T02:27:12.966Z"
   },
   {
    "duration": 810,
    "start_time": "2023-04-29T02:27:13.102Z"
   },
   {
    "duration": 1521,
    "start_time": "2023-04-29T05:04:09.037Z"
   },
   {
    "duration": 1753,
    "start_time": "2023-04-29T05:04:10.560Z"
   },
   {
    "duration": 23,
    "start_time": "2023-04-29T05:04:12.315Z"
   },
   {
    "duration": 4,
    "start_time": "2023-04-29T05:04:12.340Z"
   },
   {
    "duration": 11,
    "start_time": "2023-04-29T05:04:12.346Z"
   },
   {
    "duration": 12,
    "start_time": "2023-04-29T05:04:12.358Z"
   },
   {
    "duration": 4,
    "start_time": "2023-04-29T05:04:12.372Z"
   },
   {
    "duration": 14,
    "start_time": "2023-04-29T05:04:12.378Z"
   },
   {
    "duration": 5,
    "start_time": "2023-04-29T05:04:12.393Z"
   },
   {
    "duration": 20,
    "start_time": "2023-04-29T05:04:12.400Z"
   },
   {
    "duration": 3,
    "start_time": "2023-04-29T05:04:12.421Z"
   },
   {
    "duration": 14,
    "start_time": "2023-04-29T05:04:12.425Z"
   },
   {
    "duration": 12,
    "start_time": "2023-04-29T05:04:12.441Z"
   },
   {
    "duration": 4,
    "start_time": "2023-04-29T05:04:12.454Z"
   },
   {
    "duration": 23,
    "start_time": "2023-04-29T05:04:12.459Z"
   },
   {
    "duration": 6,
    "start_time": "2023-04-29T05:04:12.494Z"
   },
   {
    "duration": 13,
    "start_time": "2023-04-29T05:04:12.502Z"
   },
   {
    "duration": 11,
    "start_time": "2023-04-29T05:04:12.516Z"
   },
   {
    "duration": 10,
    "start_time": "2023-04-29T05:04:12.528Z"
   },
   {
    "duration": 7,
    "start_time": "2023-04-29T05:04:12.539Z"
   },
   {
    "duration": 6,
    "start_time": "2023-04-29T05:04:12.547Z"
   },
   {
    "duration": 586,
    "start_time": "2023-04-29T05:04:12.555Z"
   },
   {
    "duration": 6,
    "start_time": "2023-04-29T05:04:13.143Z"
   },
   {
    "duration": 546,
    "start_time": "2023-04-29T05:04:13.150Z"
   },
   {
    "duration": 4,
    "start_time": "2023-04-29T05:04:13.698Z"
   },
   {
    "duration": 742,
    "start_time": "2023-04-29T05:04:13.704Z"
   },
   {
    "duration": 10,
    "start_time": "2023-04-29T05:04:14.447Z"
   },
   {
    "duration": 12,
    "start_time": "2023-04-29T05:04:14.460Z"
   },
   {
    "duration": 623,
    "start_time": "2023-04-29T05:04:14.473Z"
   },
   {
    "duration": 4,
    "start_time": "2023-04-29T05:04:15.098Z"
   },
   {
    "duration": 569,
    "start_time": "2023-04-29T05:04:15.104Z"
   },
   {
    "duration": 10,
    "start_time": "2023-04-29T05:04:15.674Z"
   },
   {
    "duration": 11,
    "start_time": "2023-04-29T05:04:15.686Z"
   },
   {
    "duration": 656,
    "start_time": "2023-04-29T05:04:15.698Z"
   },
   {
    "duration": 4,
    "start_time": "2023-04-29T05:04:16.356Z"
   },
   {
    "duration": 603,
    "start_time": "2023-04-29T05:04:16.362Z"
   },
   {
    "duration": 10,
    "start_time": "2023-04-29T05:04:16.966Z"
   },
   {
    "duration": 13,
    "start_time": "2023-04-29T05:04:16.977Z"
   },
   {
    "duration": 577,
    "start_time": "2023-04-29T05:04:16.992Z"
   },
   {
    "duration": 4,
    "start_time": "2023-04-29T05:04:17.570Z"
   },
   {
    "duration": 1784,
    "start_time": "2023-04-29T05:04:17.575Z"
   },
   {
    "duration": 1784,
    "start_time": "2023-04-29T05:04:19.361Z"
   },
   {
    "duration": 68191,
    "start_time": "2023-04-29T05:04:21.146Z"
   },
   {
    "duration": 66390,
    "start_time": "2023-04-29T05:05:29.338Z"
   },
   {
    "duration": 1665,
    "start_time": "2023-04-29T05:06:35.730Z"
   },
   {
    "duration": 1699,
    "start_time": "2023-04-29T05:06:37.396Z"
   },
   {
    "duration": 722,
    "start_time": "2023-04-29T05:06:39.098Z"
   },
   {
    "duration": 630,
    "start_time": "2023-04-29T05:06:39.821Z"
   },
   {
    "duration": 7,
    "start_time": "2023-04-29T05:06:40.453Z"
   },
   {
    "duration": 1608,
    "start_time": "2023-04-29T05:06:53.490Z"
   },
   {
    "duration": 1600,
    "start_time": "2023-04-29T05:06:57.995Z"
   },
   {
    "duration": 1288,
    "start_time": "2023-04-29T05:07:11.410Z"
   },
   {
    "duration": 655,
    "start_time": "2023-04-29T05:07:16.650Z"
   },
   {
    "duration": 8,
    "start_time": "2023-04-29T05:09:16.011Z"
   },
   {
    "duration": 1872,
    "start_time": "2023-04-29T05:10:25.547Z"
   },
   {
    "duration": 1839,
    "start_time": "2023-04-29T05:10:27.422Z"
   },
   {
    "duration": 66850,
    "start_time": "2023-04-29T05:10:29.262Z"
   },
   {
    "duration": 65481,
    "start_time": "2023-04-29T05:11:36.115Z"
   },
   {
    "duration": 1500,
    "start_time": "2023-04-29T05:12:41.597Z"
   },
   {
    "duration": 1696,
    "start_time": "2023-04-29T05:12:43.100Z"
   },
   {
    "duration": 724,
    "start_time": "2023-04-29T05:12:44.798Z"
   },
   {
    "duration": 630,
    "start_time": "2023-04-29T05:12:45.524Z"
   },
   {
    "duration": 5,
    "start_time": "2023-04-29T05:12:46.156Z"
   },
   {
    "duration": 4203,
    "start_time": "2023-04-29T05:40:36.499Z"
   },
   {
    "duration": 667,
    "start_time": "2023-04-29T05:40:46.971Z"
   },
   {
    "duration": 1398,
    "start_time": "2023-04-29T05:47:12.581Z"
   },
   {
    "duration": 714,
    "start_time": "2023-04-29T05:47:13.981Z"
   },
   {
    "duration": 38,
    "start_time": "2023-04-29T05:47:14.699Z"
   },
   {
    "duration": 4,
    "start_time": "2023-04-29T05:47:14.739Z"
   },
   {
    "duration": 12,
    "start_time": "2023-04-29T05:47:14.745Z"
   },
   {
    "duration": 8,
    "start_time": "2023-04-29T05:47:14.758Z"
   },
   {
    "duration": 15,
    "start_time": "2023-04-29T05:47:14.767Z"
   },
   {
    "duration": 6,
    "start_time": "2023-04-29T05:47:14.795Z"
   },
   {
    "duration": 9,
    "start_time": "2023-04-29T05:47:14.803Z"
   },
   {
    "duration": 24,
    "start_time": "2023-04-29T05:47:14.814Z"
   },
   {
    "duration": 8,
    "start_time": "2023-04-29T05:47:14.839Z"
   },
   {
    "duration": 38,
    "start_time": "2023-04-29T05:47:14.848Z"
   },
   {
    "duration": 11,
    "start_time": "2023-04-29T05:47:14.888Z"
   },
   {
    "duration": 7,
    "start_time": "2023-04-29T05:47:14.900Z"
   },
   {
    "duration": 23,
    "start_time": "2023-04-29T05:47:14.909Z"
   },
   {
    "duration": 11,
    "start_time": "2023-04-29T05:47:14.934Z"
   },
   {
    "duration": 13,
    "start_time": "2023-04-29T05:47:14.947Z"
   },
   {
    "duration": 35,
    "start_time": "2023-04-29T05:47:14.962Z"
   },
   {
    "duration": 46,
    "start_time": "2023-04-29T05:47:14.999Z"
   },
   {
    "duration": 30,
    "start_time": "2023-04-29T05:47:15.048Z"
   },
   {
    "duration": 16,
    "start_time": "2023-04-29T05:47:15.080Z"
   },
   {
    "duration": 619,
    "start_time": "2023-04-29T05:47:15.098Z"
   },
   {
    "duration": 6,
    "start_time": "2023-04-29T05:47:15.719Z"
   },
   {
    "duration": 627,
    "start_time": "2023-04-29T05:47:15.727Z"
   },
   {
    "duration": 4,
    "start_time": "2023-04-29T05:47:16.356Z"
   },
   {
    "duration": 726,
    "start_time": "2023-04-29T05:47:16.362Z"
   },
   {
    "duration": 11,
    "start_time": "2023-04-29T05:47:17.093Z"
   },
   {
    "duration": 5,
    "start_time": "2023-04-29T05:47:17.108Z"
   },
   {
    "duration": 571,
    "start_time": "2023-04-29T05:47:17.114Z"
   },
   {
    "duration": 9,
    "start_time": "2023-04-29T05:47:17.688Z"
   },
   {
    "duration": 607,
    "start_time": "2023-04-29T05:47:17.699Z"
   },
   {
    "duration": 15,
    "start_time": "2023-04-29T05:47:18.308Z"
   },
   {
    "duration": 6,
    "start_time": "2023-04-29T05:47:18.325Z"
   },
   {
    "duration": 641,
    "start_time": "2023-04-29T05:47:18.332Z"
   },
   {
    "duration": 4,
    "start_time": "2023-04-29T05:47:18.975Z"
   },
   {
    "duration": 704,
    "start_time": "2023-04-29T05:47:18.981Z"
   },
   {
    "duration": 11,
    "start_time": "2023-04-29T05:47:19.694Z"
   },
   {
    "duration": 5,
    "start_time": "2023-04-29T05:47:19.707Z"
   },
   {
    "duration": 685,
    "start_time": "2023-04-29T05:47:19.714Z"
   },
   {
    "duration": 4,
    "start_time": "2023-04-29T05:47:20.400Z"
   },
   {
    "duration": 1869,
    "start_time": "2023-04-29T05:47:20.406Z"
   },
   {
    "duration": 1850,
    "start_time": "2023-04-29T05:47:22.278Z"
   },
   {
    "duration": 67715,
    "start_time": "2023-04-29T05:47:24.130Z"
   },
   {
    "duration": 66375,
    "start_time": "2023-04-29T05:48:31.847Z"
   },
   {
    "duration": 1972,
    "start_time": "2023-04-29T05:49:38.224Z"
   },
   {
    "duration": 1698,
    "start_time": "2023-04-29T05:49:40.198Z"
   },
   {
    "duration": 731,
    "start_time": "2023-04-29T05:49:41.899Z"
   },
   {
    "duration": 627,
    "start_time": "2023-04-29T05:49:42.631Z"
   },
   {
    "duration": 6,
    "start_time": "2023-04-29T05:49:43.260Z"
   },
   {
    "duration": 133,
    "start_time": "2023-04-30T08:17:41.124Z"
   },
   {
    "duration": 23,
    "start_time": "2023-04-30T08:18:20.713Z"
   },
   {
    "duration": 18,
    "start_time": "2023-04-30T08:18:38.740Z"
   },
   {
    "duration": 18,
    "start_time": "2023-04-30T08:19:17.137Z"
   },
   {
    "duration": 17,
    "start_time": "2023-04-30T08:19:31.414Z"
   },
   {
    "duration": 1604,
    "start_time": "2023-04-30T08:19:56.234Z"
   },
   {
    "duration": 750,
    "start_time": "2023-04-30T08:19:57.840Z"
   },
   {
    "duration": 29,
    "start_time": "2023-04-30T08:19:58.591Z"
   },
   {
    "duration": 20,
    "start_time": "2023-04-30T08:19:58.622Z"
   },
   {
    "duration": 17,
    "start_time": "2023-04-30T08:19:58.645Z"
   },
   {
    "duration": 9,
    "start_time": "2023-04-30T08:19:58.664Z"
   },
   {
    "duration": 9,
    "start_time": "2023-04-30T08:19:58.675Z"
   },
   {
    "duration": 8,
    "start_time": "2023-04-30T08:19:58.687Z"
   },
   {
    "duration": 16,
    "start_time": "2023-04-30T08:19:58.697Z"
   },
   {
    "duration": 41,
    "start_time": "2023-04-30T08:19:58.716Z"
   },
   {
    "duration": 3,
    "start_time": "2023-04-30T08:19:58.759Z"
   },
   {
    "duration": 12,
    "start_time": "2023-04-30T08:19:58.764Z"
   },
   {
    "duration": 8,
    "start_time": "2023-04-30T08:19:58.778Z"
   },
   {
    "duration": 20,
    "start_time": "2023-04-30T08:19:58.789Z"
   },
   {
    "duration": 44,
    "start_time": "2023-04-30T08:19:58.811Z"
   },
   {
    "duration": 13,
    "start_time": "2023-04-30T08:19:58.857Z"
   },
   {
    "duration": 14,
    "start_time": "2023-04-30T08:19:58.872Z"
   },
   {
    "duration": 10,
    "start_time": "2023-04-30T08:19:58.889Z"
   },
   {
    "duration": 40,
    "start_time": "2023-04-30T08:19:58.901Z"
   },
   {
    "duration": 10,
    "start_time": "2023-04-30T08:19:58.943Z"
   },
   {
    "duration": 15,
    "start_time": "2023-04-30T08:19:58.954Z"
   },
   {
    "duration": 652,
    "start_time": "2023-04-30T08:19:58.971Z"
   },
   {
    "duration": 8,
    "start_time": "2023-04-30T08:19:59.625Z"
   },
   {
    "duration": 615,
    "start_time": "2023-04-30T08:19:59.642Z"
   },
   {
    "duration": 5,
    "start_time": "2023-04-30T08:20:00.259Z"
   },
   {
    "duration": 847,
    "start_time": "2023-04-30T08:20:00.265Z"
   },
   {
    "duration": 14,
    "start_time": "2023-04-30T08:20:01.115Z"
   },
   {
    "duration": 105,
    "start_time": "2023-04-30T08:20:01.132Z"
   },
   {
    "duration": 772,
    "start_time": "2023-04-30T08:20:01.239Z"
   },
   {
    "duration": 5,
    "start_time": "2023-04-30T08:20:02.013Z"
   },
   {
    "duration": 773,
    "start_time": "2023-04-30T08:20:02.021Z"
   },
   {
    "duration": 13,
    "start_time": "2023-04-30T08:20:02.797Z"
   },
   {
    "duration": 42,
    "start_time": "2023-04-30T08:20:02.812Z"
   },
   {
    "duration": 721,
    "start_time": "2023-04-30T08:20:02.856Z"
   },
   {
    "duration": 6,
    "start_time": "2023-04-30T08:20:03.579Z"
   },
   {
    "duration": 901,
    "start_time": "2023-04-30T08:20:03.589Z"
   },
   {
    "duration": 13,
    "start_time": "2023-04-30T08:20:04.492Z"
   },
   {
    "duration": 5,
    "start_time": "2023-04-30T08:20:04.507Z"
   },
   {
    "duration": 687,
    "start_time": "2023-04-30T08:20:04.514Z"
   },
   {
    "duration": 5,
    "start_time": "2023-04-30T08:20:05.203Z"
   },
   {
    "duration": 2248,
    "start_time": "2023-04-30T08:20:05.213Z"
   },
   {
    "duration": 2200,
    "start_time": "2023-04-30T08:20:07.464Z"
   },
   {
    "duration": 81736,
    "start_time": "2023-04-30T08:20:09.666Z"
   },
   {
    "duration": 82888,
    "start_time": "2023-04-30T08:21:31.405Z"
   },
   {
    "duration": 1747,
    "start_time": "2023-04-30T08:22:54.295Z"
   },
   {
    "duration": 2098,
    "start_time": "2023-04-30T08:22:56.044Z"
   },
   {
    "duration": 1413,
    "start_time": "2023-04-30T08:22:58.145Z"
   },
   {
    "duration": 1242,
    "start_time": "2023-04-30T08:22:59.560Z"
   },
   {
    "duration": 8,
    "start_time": "2023-04-30T08:23:00.805Z"
   },
   {
    "duration": 1648,
    "start_time": "2023-04-30T08:23:00.816Z"
   },
   {
    "duration": 18,
    "start_time": "2023-04-30T08:23:45.583Z"
   },
   {
    "duration": 25,
    "start_time": "2023-04-30T08:24:00.869Z"
   },
   {
    "duration": 18,
    "start_time": "2023-04-30T08:24:18.819Z"
   },
   {
    "duration": 16,
    "start_time": "2023-04-30T08:24:27.819Z"
   },
   {
    "duration": 4,
    "start_time": "2023-04-30T08:24:37.848Z"
   },
   {
    "duration": 719,
    "start_time": "2023-04-30T08:24:38.324Z"
   },
   {
    "duration": 26,
    "start_time": "2023-04-30T08:24:39.045Z"
   },
   {
    "duration": 5,
    "start_time": "2023-04-30T08:24:39.136Z"
   },
   {
    "duration": 6,
    "start_time": "2023-04-30T08:24:40.317Z"
   },
   {
    "duration": 5,
    "start_time": "2023-04-30T08:24:40.654Z"
   },
   {
    "duration": 4,
    "start_time": "2023-04-30T08:24:47.947Z"
   },
   {
    "duration": 763,
    "start_time": "2023-04-30T08:24:48.435Z"
   },
   {
    "duration": 29,
    "start_time": "2023-04-30T08:24:49.200Z"
   },
   {
    "duration": 12,
    "start_time": "2023-04-30T08:24:49.286Z"
   },
   {
    "duration": 7,
    "start_time": "2023-04-30T08:24:50.261Z"
   },
   {
    "duration": 6,
    "start_time": "2023-04-30T08:24:50.721Z"
   },
   {
    "duration": 5,
    "start_time": "2023-04-30T08:24:51.952Z"
   },
   {
    "duration": 5,
    "start_time": "2023-04-30T08:24:52.382Z"
   },
   {
    "duration": 8,
    "start_time": "2023-04-30T08:24:54.533Z"
   },
   {
    "duration": 31,
    "start_time": "2023-04-30T08:24:56.659Z"
   },
   {
    "duration": 3,
    "start_time": "2023-04-30T08:24:58.915Z"
   },
   {
    "duration": 6,
    "start_time": "2023-04-30T08:24:59.119Z"
   },
   {
    "duration": 6,
    "start_time": "2023-04-30T08:24:59.568Z"
   },
   {
    "duration": 4,
    "start_time": "2023-04-30T08:24:59.975Z"
   },
   {
    "duration": 35,
    "start_time": "2023-04-30T08:25:00.575Z"
   },
   {
    "duration": 10,
    "start_time": "2023-04-30T08:25:01.727Z"
   },
   {
    "duration": 12,
    "start_time": "2023-04-30T08:25:03.622Z"
   },
   {
    "duration": 7,
    "start_time": "2023-04-30T08:25:24.324Z"
   },
   {
    "duration": 5,
    "start_time": "2023-04-30T08:25:34.547Z"
   },
   {
    "duration": 11,
    "start_time": "2023-04-30T08:44:38.475Z"
   },
   {
    "duration": 31,
    "start_time": "2023-04-30T08:45:03.414Z"
   },
   {
    "duration": 16,
    "start_time": "2023-04-30T08:46:14.218Z"
   },
   {
    "duration": 26,
    "start_time": "2023-04-30T08:46:31.949Z"
   },
   {
    "duration": 29,
    "start_time": "2023-04-30T08:46:37.215Z"
   },
   {
    "duration": 44,
    "start_time": "2023-04-30T08:46:39.314Z"
   },
   {
    "duration": 17,
    "start_time": "2023-04-30T08:46:44.011Z"
   },
   {
    "duration": 34,
    "start_time": "2023-04-30T08:46:44.413Z"
   },
   {
    "duration": 1672,
    "start_time": "2023-04-30T08:46:53.343Z"
   },
   {
    "duration": 765,
    "start_time": "2023-04-30T08:46:55.017Z"
   },
   {
    "duration": 28,
    "start_time": "2023-04-30T08:46:55.784Z"
   },
   {
    "duration": 24,
    "start_time": "2023-04-30T08:46:55.815Z"
   },
   {
    "duration": 29,
    "start_time": "2023-04-30T08:46:55.842Z"
   },
   {
    "duration": 31,
    "start_time": "2023-04-30T08:46:55.873Z"
   },
   {
    "duration": 11,
    "start_time": "2023-04-30T08:46:55.906Z"
   },
   {
    "duration": 20,
    "start_time": "2023-04-30T08:46:55.919Z"
   },
   {
    "duration": 21,
    "start_time": "2023-04-30T08:46:55.941Z"
   },
   {
    "duration": 49,
    "start_time": "2023-04-30T08:46:55.966Z"
   },
   {
    "duration": 28,
    "start_time": "2023-04-30T08:46:56.018Z"
   },
   {
    "duration": 12,
    "start_time": "2023-04-30T08:46:56.049Z"
   },
   {
    "duration": 15,
    "start_time": "2023-04-30T08:46:56.063Z"
   },
   {
    "duration": 140,
    "start_time": "2023-04-30T08:46:56.081Z"
   },
   {
    "duration": 0,
    "start_time": "2023-04-30T08:46:56.224Z"
   },
   {
    "duration": 0,
    "start_time": "2023-04-30T08:46:56.226Z"
   },
   {
    "duration": 0,
    "start_time": "2023-04-30T08:46:56.227Z"
   },
   {
    "duration": 0,
    "start_time": "2023-04-30T08:46:56.243Z"
   },
   {
    "duration": 1,
    "start_time": "2023-04-30T08:46:56.244Z"
   },
   {
    "duration": 0,
    "start_time": "2023-04-30T08:46:56.246Z"
   },
   {
    "duration": 0,
    "start_time": "2023-04-30T08:46:56.247Z"
   },
   {
    "duration": 0,
    "start_time": "2023-04-30T08:46:56.248Z"
   },
   {
    "duration": 0,
    "start_time": "2023-04-30T08:46:56.249Z"
   },
   {
    "duration": 0,
    "start_time": "2023-04-30T08:46:56.251Z"
   },
   {
    "duration": 0,
    "start_time": "2023-04-30T08:46:56.253Z"
   },
   {
    "duration": 0,
    "start_time": "2023-04-30T08:46:56.254Z"
   },
   {
    "duration": 0,
    "start_time": "2023-04-30T08:46:56.255Z"
   },
   {
    "duration": 0,
    "start_time": "2023-04-30T08:46:56.257Z"
   },
   {
    "duration": 0,
    "start_time": "2023-04-30T08:46:56.259Z"
   },
   {
    "duration": 0,
    "start_time": "2023-04-30T08:46:56.260Z"
   },
   {
    "duration": 0,
    "start_time": "2023-04-30T08:46:56.262Z"
   },
   {
    "duration": 0,
    "start_time": "2023-04-30T08:46:56.265Z"
   },
   {
    "duration": 0,
    "start_time": "2023-04-30T08:46:56.266Z"
   },
   {
    "duration": 0,
    "start_time": "2023-04-30T08:46:56.268Z"
   },
   {
    "duration": 0,
    "start_time": "2023-04-30T08:46:56.269Z"
   },
   {
    "duration": 0,
    "start_time": "2023-04-30T08:46:56.271Z"
   },
   {
    "duration": 0,
    "start_time": "2023-04-30T08:46:56.272Z"
   },
   {
    "duration": 0,
    "start_time": "2023-04-30T08:46:56.274Z"
   },
   {
    "duration": 0,
    "start_time": "2023-04-30T08:46:56.275Z"
   },
   {
    "duration": 0,
    "start_time": "2023-04-30T08:46:56.277Z"
   },
   {
    "duration": 0,
    "start_time": "2023-04-30T08:46:56.278Z"
   },
   {
    "duration": 1,
    "start_time": "2023-04-30T08:46:56.279Z"
   },
   {
    "duration": 0,
    "start_time": "2023-04-30T08:46:56.281Z"
   },
   {
    "duration": 0,
    "start_time": "2023-04-30T08:46:56.341Z"
   },
   {
    "duration": 0,
    "start_time": "2023-04-30T08:46:56.343Z"
   },
   {
    "duration": 0,
    "start_time": "2023-04-30T08:46:56.345Z"
   },
   {
    "duration": 0,
    "start_time": "2023-04-30T08:46:56.347Z"
   },
   {
    "duration": 0,
    "start_time": "2023-04-30T08:46:56.348Z"
   },
   {
    "duration": 0,
    "start_time": "2023-04-30T08:46:56.349Z"
   },
   {
    "duration": 0,
    "start_time": "2023-04-30T08:46:56.351Z"
   },
   {
    "duration": 14,
    "start_time": "2023-04-30T08:50:29.818Z"
   },
   {
    "duration": 22,
    "start_time": "2023-04-30T08:50:48.126Z"
   },
   {
    "duration": 28,
    "start_time": "2023-04-30T08:50:50.659Z"
   },
   {
    "duration": 19,
    "start_time": "2023-04-30T08:50:53.032Z"
   },
   {
    "duration": 1629,
    "start_time": "2023-04-30T08:50:58.346Z"
   },
   {
    "duration": 823,
    "start_time": "2023-04-30T08:50:59.977Z"
   },
   {
    "duration": 41,
    "start_time": "2023-04-30T08:51:00.802Z"
   },
   {
    "duration": 6,
    "start_time": "2023-04-30T08:51:00.845Z"
   },
   {
    "duration": 58,
    "start_time": "2023-04-30T08:51:00.853Z"
   },
   {
    "duration": 27,
    "start_time": "2023-04-30T08:51:00.914Z"
   },
   {
    "duration": 28,
    "start_time": "2023-04-30T08:51:00.942Z"
   },
   {
    "duration": 37,
    "start_time": "2023-04-30T08:51:00.972Z"
   },
   {
    "duration": 29,
    "start_time": "2023-04-30T08:51:01.010Z"
   },
   {
    "duration": 117,
    "start_time": "2023-04-30T08:51:01.041Z"
   },
   {
    "duration": 57,
    "start_time": "2023-04-30T08:51:01.160Z"
   },
   {
    "duration": 41,
    "start_time": "2023-04-30T08:51:01.219Z"
   },
   {
    "duration": 63,
    "start_time": "2023-04-30T08:51:01.263Z"
   },
   {
    "duration": 164,
    "start_time": "2023-04-30T08:51:01.330Z"
   },
   {
    "duration": 0,
    "start_time": "2023-04-30T08:51:01.496Z"
   },
   {
    "duration": 0,
    "start_time": "2023-04-30T08:51:01.497Z"
   },
   {
    "duration": 0,
    "start_time": "2023-04-30T08:51:01.500Z"
   },
   {
    "duration": 0,
    "start_time": "2023-04-30T08:51:01.501Z"
   },
   {
    "duration": 0,
    "start_time": "2023-04-30T08:51:01.502Z"
   },
   {
    "duration": 0,
    "start_time": "2023-04-30T08:51:01.504Z"
   },
   {
    "duration": 0,
    "start_time": "2023-04-30T08:51:01.505Z"
   },
   {
    "duration": 0,
    "start_time": "2023-04-30T08:51:01.506Z"
   },
   {
    "duration": 0,
    "start_time": "2023-04-30T08:51:01.507Z"
   },
   {
    "duration": 0,
    "start_time": "2023-04-30T08:51:01.508Z"
   },
   {
    "duration": 0,
    "start_time": "2023-04-30T08:51:01.509Z"
   },
   {
    "duration": 0,
    "start_time": "2023-04-30T08:51:01.510Z"
   },
   {
    "duration": 0,
    "start_time": "2023-04-30T08:51:01.511Z"
   },
   {
    "duration": 0,
    "start_time": "2023-04-30T08:51:01.512Z"
   },
   {
    "duration": 0,
    "start_time": "2023-04-30T08:51:01.541Z"
   },
   {
    "duration": 0,
    "start_time": "2023-04-30T08:51:01.543Z"
   },
   {
    "duration": 0,
    "start_time": "2023-04-30T08:51:01.545Z"
   },
   {
    "duration": 0,
    "start_time": "2023-04-30T08:51:01.547Z"
   },
   {
    "duration": 0,
    "start_time": "2023-04-30T08:51:01.549Z"
   },
   {
    "duration": 0,
    "start_time": "2023-04-30T08:51:01.550Z"
   },
   {
    "duration": 0,
    "start_time": "2023-04-30T08:51:01.552Z"
   },
   {
    "duration": 0,
    "start_time": "2023-04-30T08:51:01.553Z"
   },
   {
    "duration": 0,
    "start_time": "2023-04-30T08:51:01.555Z"
   },
   {
    "duration": 0,
    "start_time": "2023-04-30T08:51:01.557Z"
   },
   {
    "duration": 0,
    "start_time": "2023-04-30T08:51:01.558Z"
   },
   {
    "duration": 0,
    "start_time": "2023-04-30T08:51:01.559Z"
   },
   {
    "duration": 0,
    "start_time": "2023-04-30T08:51:01.560Z"
   },
   {
    "duration": 0,
    "start_time": "2023-04-30T08:51:01.562Z"
   },
   {
    "duration": 0,
    "start_time": "2023-04-30T08:51:01.563Z"
   },
   {
    "duration": 0,
    "start_time": "2023-04-30T08:51:01.564Z"
   },
   {
    "duration": 0,
    "start_time": "2023-04-30T08:51:01.565Z"
   },
   {
    "duration": 0,
    "start_time": "2023-04-30T08:51:01.566Z"
   },
   {
    "duration": 0,
    "start_time": "2023-04-30T08:51:01.567Z"
   },
   {
    "duration": 0,
    "start_time": "2023-04-30T08:51:01.569Z"
   },
   {
    "duration": 0,
    "start_time": "2023-04-30T08:51:01.570Z"
   },
   {
    "duration": 0,
    "start_time": "2023-04-30T08:51:01.571Z"
   },
   {
    "duration": 19,
    "start_time": "2023-04-30T08:51:19.948Z"
   },
   {
    "duration": 7,
    "start_time": "2023-04-30T08:51:25.318Z"
   },
   {
    "duration": 20,
    "start_time": "2023-04-30T08:51:25.471Z"
   },
   {
    "duration": 1566,
    "start_time": "2023-04-30T08:51:50.141Z"
   },
   {
    "duration": 803,
    "start_time": "2023-04-30T08:51:51.710Z"
   },
   {
    "duration": 37,
    "start_time": "2023-04-30T08:51:52.515Z"
   },
   {
    "duration": 6,
    "start_time": "2023-04-30T08:51:52.555Z"
   },
   {
    "duration": 19,
    "start_time": "2023-04-30T08:51:52.564Z"
   },
   {
    "duration": 15,
    "start_time": "2023-04-30T08:51:52.585Z"
   },
   {
    "duration": 5,
    "start_time": "2023-04-30T08:51:52.603Z"
   },
   {
    "duration": 10,
    "start_time": "2023-04-30T08:51:52.610Z"
   },
   {
    "duration": 9,
    "start_time": "2023-04-30T08:51:52.640Z"
   },
   {
    "duration": 146,
    "start_time": "2023-04-30T08:51:52.651Z"
   },
   {
    "duration": 0,
    "start_time": "2023-04-30T08:51:52.801Z"
   },
   {
    "duration": 0,
    "start_time": "2023-04-30T08:51:52.802Z"
   },
   {
    "duration": 0,
    "start_time": "2023-04-30T08:51:52.804Z"
   },
   {
    "duration": 0,
    "start_time": "2023-04-30T08:51:52.805Z"
   },
   {
    "duration": 0,
    "start_time": "2023-04-30T08:51:52.806Z"
   },
   {
    "duration": 0,
    "start_time": "2023-04-30T08:51:52.807Z"
   },
   {
    "duration": 0,
    "start_time": "2023-04-30T08:51:52.808Z"
   },
   {
    "duration": 0,
    "start_time": "2023-04-30T08:51:52.809Z"
   },
   {
    "duration": 0,
    "start_time": "2023-04-30T08:51:52.810Z"
   },
   {
    "duration": 0,
    "start_time": "2023-04-30T08:51:52.812Z"
   },
   {
    "duration": 0,
    "start_time": "2023-04-30T08:51:52.813Z"
   },
   {
    "duration": 0,
    "start_time": "2023-04-30T08:51:52.841Z"
   },
   {
    "duration": 0,
    "start_time": "2023-04-30T08:51:52.842Z"
   },
   {
    "duration": 0,
    "start_time": "2023-04-30T08:51:52.844Z"
   },
   {
    "duration": 0,
    "start_time": "2023-04-30T08:51:52.845Z"
   },
   {
    "duration": 0,
    "start_time": "2023-04-30T08:51:52.846Z"
   },
   {
    "duration": 0,
    "start_time": "2023-04-30T08:51:52.848Z"
   },
   {
    "duration": 0,
    "start_time": "2023-04-30T08:51:52.849Z"
   },
   {
    "duration": 0,
    "start_time": "2023-04-30T08:51:52.850Z"
   },
   {
    "duration": 0,
    "start_time": "2023-04-30T08:51:52.851Z"
   },
   {
    "duration": 0,
    "start_time": "2023-04-30T08:51:52.852Z"
   },
   {
    "duration": 0,
    "start_time": "2023-04-30T08:51:52.854Z"
   },
   {
    "duration": 0,
    "start_time": "2023-04-30T08:51:52.854Z"
   },
   {
    "duration": 0,
    "start_time": "2023-04-30T08:51:52.855Z"
   },
   {
    "duration": 0,
    "start_time": "2023-04-30T08:51:52.857Z"
   },
   {
    "duration": 0,
    "start_time": "2023-04-30T08:51:52.858Z"
   },
   {
    "duration": 0,
    "start_time": "2023-04-30T08:51:52.859Z"
   },
   {
    "duration": 0,
    "start_time": "2023-04-30T08:51:52.860Z"
   },
   {
    "duration": 0,
    "start_time": "2023-04-30T08:51:52.861Z"
   },
   {
    "duration": 0,
    "start_time": "2023-04-30T08:51:52.862Z"
   },
   {
    "duration": 0,
    "start_time": "2023-04-30T08:51:52.863Z"
   },
   {
    "duration": 0,
    "start_time": "2023-04-30T08:51:52.865Z"
   },
   {
    "duration": 0,
    "start_time": "2023-04-30T08:51:52.866Z"
   },
   {
    "duration": 0,
    "start_time": "2023-04-30T08:51:52.867Z"
   },
   {
    "duration": 0,
    "start_time": "2023-04-30T08:51:52.868Z"
   },
   {
    "duration": 0,
    "start_time": "2023-04-30T08:51:52.869Z"
   },
   {
    "duration": 0,
    "start_time": "2023-04-30T08:51:52.870Z"
   },
   {
    "duration": 0,
    "start_time": "2023-04-30T08:51:52.871Z"
   },
   {
    "duration": 0,
    "start_time": "2023-04-30T08:51:52.872Z"
   },
   {
    "duration": 0,
    "start_time": "2023-04-30T08:51:52.873Z"
   },
   {
    "duration": 918,
    "start_time": "2023-04-30T08:55:21.464Z"
   },
   {
    "duration": 22,
    "start_time": "2023-04-30T08:55:43.750Z"
   },
   {
    "duration": 26,
    "start_time": "2023-04-30T08:55:47.015Z"
   },
   {
    "duration": 25,
    "start_time": "2023-04-30T08:55:48.764Z"
   },
   {
    "duration": 40,
    "start_time": "2023-04-30T08:55:56.029Z"
   },
   {
    "duration": 39,
    "start_time": "2023-04-30T08:57:47.022Z"
   },
   {
    "duration": 1654,
    "start_time": "2023-04-30T08:57:51.062Z"
   },
   {
    "duration": 852,
    "start_time": "2023-04-30T08:57:52.719Z"
   },
   {
    "duration": 27,
    "start_time": "2023-04-30T08:57:53.574Z"
   },
   {
    "duration": 5,
    "start_time": "2023-04-30T08:57:53.603Z"
   },
   {
    "duration": 39,
    "start_time": "2023-04-30T08:57:53.610Z"
   },
   {
    "duration": 7,
    "start_time": "2023-04-30T08:57:53.656Z"
   },
   {
    "duration": 5,
    "start_time": "2023-04-30T08:57:53.665Z"
   },
   {
    "duration": 8,
    "start_time": "2023-04-30T08:57:53.672Z"
   },
   {
    "duration": 30,
    "start_time": "2023-04-30T08:57:53.682Z"
   },
   {
    "duration": 43,
    "start_time": "2023-04-30T08:57:53.715Z"
   },
   {
    "duration": 13,
    "start_time": "2023-04-30T08:57:53.760Z"
   },
   {
    "duration": 56,
    "start_time": "2023-04-30T08:57:53.775Z"
   },
   {
    "duration": 157,
    "start_time": "2023-04-30T08:57:53.833Z"
   },
   {
    "duration": 0,
    "start_time": "2023-04-30T08:57:53.993Z"
   },
   {
    "duration": 0,
    "start_time": "2023-04-30T08:57:53.995Z"
   },
   {
    "duration": 0,
    "start_time": "2023-04-30T08:57:53.997Z"
   },
   {
    "duration": 0,
    "start_time": "2023-04-30T08:57:53.999Z"
   },
   {
    "duration": 0,
    "start_time": "2023-04-30T08:57:54.000Z"
   },
   {
    "duration": 0,
    "start_time": "2023-04-30T08:57:54.001Z"
   },
   {
    "duration": 0,
    "start_time": "2023-04-30T08:57:54.002Z"
   },
   {
    "duration": 0,
    "start_time": "2023-04-30T08:57:54.004Z"
   },
   {
    "duration": 0,
    "start_time": "2023-04-30T08:57:54.005Z"
   },
   {
    "duration": 0,
    "start_time": "2023-04-30T08:57:54.006Z"
   },
   {
    "duration": 0,
    "start_time": "2023-04-30T08:57:54.006Z"
   },
   {
    "duration": 0,
    "start_time": "2023-04-30T08:57:54.008Z"
   },
   {
    "duration": 0,
    "start_time": "2023-04-30T08:57:54.009Z"
   },
   {
    "duration": 0,
    "start_time": "2023-04-30T08:57:54.009Z"
   },
   {
    "duration": 0,
    "start_time": "2023-04-30T08:57:54.010Z"
   },
   {
    "duration": 0,
    "start_time": "2023-04-30T08:57:54.011Z"
   },
   {
    "duration": 0,
    "start_time": "2023-04-30T08:57:54.014Z"
   },
   {
    "duration": 0,
    "start_time": "2023-04-30T08:57:54.041Z"
   },
   {
    "duration": 0,
    "start_time": "2023-04-30T08:57:54.042Z"
   },
   {
    "duration": 0,
    "start_time": "2023-04-30T08:57:54.043Z"
   },
   {
    "duration": 0,
    "start_time": "2023-04-30T08:57:54.044Z"
   },
   {
    "duration": 0,
    "start_time": "2023-04-30T08:57:54.044Z"
   },
   {
    "duration": 0,
    "start_time": "2023-04-30T08:57:54.045Z"
   },
   {
    "duration": 0,
    "start_time": "2023-04-30T08:57:54.050Z"
   },
   {
    "duration": 0,
    "start_time": "2023-04-30T08:57:54.051Z"
   },
   {
    "duration": 0,
    "start_time": "2023-04-30T08:57:54.051Z"
   },
   {
    "duration": 0,
    "start_time": "2023-04-30T08:57:54.052Z"
   },
   {
    "duration": 0,
    "start_time": "2023-04-30T08:57:54.053Z"
   },
   {
    "duration": 0,
    "start_time": "2023-04-30T08:57:54.059Z"
   },
   {
    "duration": 0,
    "start_time": "2023-04-30T08:57:54.061Z"
   },
   {
    "duration": 0,
    "start_time": "2023-04-30T08:57:54.062Z"
   },
   {
    "duration": 0,
    "start_time": "2023-04-30T08:57:54.064Z"
   },
   {
    "duration": 0,
    "start_time": "2023-04-30T08:57:54.065Z"
   },
   {
    "duration": 0,
    "start_time": "2023-04-30T08:57:54.067Z"
   },
   {
    "duration": 0,
    "start_time": "2023-04-30T08:57:54.068Z"
   },
   {
    "duration": 0,
    "start_time": "2023-04-30T08:57:54.069Z"
   },
   {
    "duration": 217,
    "start_time": "2023-04-30T08:59:26.989Z"
   },
   {
    "duration": 14,
    "start_time": "2023-04-30T08:59:41.111Z"
   },
   {
    "duration": 60,
    "start_time": "2023-04-30T09:00:12.711Z"
   },
   {
    "duration": 1781,
    "start_time": "2023-04-30T09:00:56.008Z"
   },
   {
    "duration": 812,
    "start_time": "2023-04-30T09:00:57.791Z"
   },
   {
    "duration": 41,
    "start_time": "2023-04-30T09:00:58.605Z"
   },
   {
    "duration": 8,
    "start_time": "2023-04-30T09:00:58.648Z"
   },
   {
    "duration": 13,
    "start_time": "2023-04-30T09:00:58.659Z"
   },
   {
    "duration": 8,
    "start_time": "2023-04-30T09:00:58.674Z"
   },
   {
    "duration": 10,
    "start_time": "2023-04-30T09:00:58.685Z"
   },
   {
    "duration": 18,
    "start_time": "2023-04-30T09:00:58.697Z"
   },
   {
    "duration": 45,
    "start_time": "2023-04-30T09:00:58.717Z"
   },
   {
    "duration": 26,
    "start_time": "2023-04-30T09:00:58.764Z"
   },
   {
    "duration": 188,
    "start_time": "2023-04-30T09:00:58.791Z"
   },
   {
    "duration": 0,
    "start_time": "2023-04-30T09:00:58.982Z"
   },
   {
    "duration": 0,
    "start_time": "2023-04-30T09:00:58.984Z"
   },
   {
    "duration": 0,
    "start_time": "2023-04-30T09:00:58.985Z"
   },
   {
    "duration": 0,
    "start_time": "2023-04-30T09:00:58.986Z"
   },
   {
    "duration": 0,
    "start_time": "2023-04-30T09:00:58.988Z"
   },
   {
    "duration": 0,
    "start_time": "2023-04-30T09:00:58.989Z"
   },
   {
    "duration": 0,
    "start_time": "2023-04-30T09:00:58.990Z"
   },
   {
    "duration": 0,
    "start_time": "2023-04-30T09:00:58.992Z"
   },
   {
    "duration": 0,
    "start_time": "2023-04-30T09:00:58.993Z"
   },
   {
    "duration": 0,
    "start_time": "2023-04-30T09:00:58.994Z"
   },
   {
    "duration": 0,
    "start_time": "2023-04-30T09:00:58.995Z"
   },
   {
    "duration": 0,
    "start_time": "2023-04-30T09:00:58.996Z"
   },
   {
    "duration": 0,
    "start_time": "2023-04-30T09:00:58.997Z"
   },
   {
    "duration": 0,
    "start_time": "2023-04-30T09:00:58.999Z"
   },
   {
    "duration": 0,
    "start_time": "2023-04-30T09:00:59.001Z"
   },
   {
    "duration": 0,
    "start_time": "2023-04-30T09:00:59.003Z"
   },
   {
    "duration": 0,
    "start_time": "2023-04-30T09:00:59.042Z"
   },
   {
    "duration": 0,
    "start_time": "2023-04-30T09:00:59.055Z"
   },
   {
    "duration": 0,
    "start_time": "2023-04-30T09:00:59.057Z"
   },
   {
    "duration": 0,
    "start_time": "2023-04-30T09:00:59.058Z"
   },
   {
    "duration": 0,
    "start_time": "2023-04-30T09:00:59.060Z"
   },
   {
    "duration": 0,
    "start_time": "2023-04-30T09:00:59.061Z"
   },
   {
    "duration": 0,
    "start_time": "2023-04-30T09:00:59.063Z"
   },
   {
    "duration": 0,
    "start_time": "2023-04-30T09:00:59.064Z"
   },
   {
    "duration": 0,
    "start_time": "2023-04-30T09:00:59.065Z"
   },
   {
    "duration": 0,
    "start_time": "2023-04-30T09:00:59.066Z"
   },
   {
    "duration": 0,
    "start_time": "2023-04-30T09:00:59.068Z"
   },
   {
    "duration": 0,
    "start_time": "2023-04-30T09:00:59.069Z"
   },
   {
    "duration": 0,
    "start_time": "2023-04-30T09:00:59.070Z"
   },
   {
    "duration": 0,
    "start_time": "2023-04-30T09:00:59.071Z"
   },
   {
    "duration": 0,
    "start_time": "2023-04-30T09:00:59.073Z"
   },
   {
    "duration": 0,
    "start_time": "2023-04-30T09:00:59.075Z"
   },
   {
    "duration": 0,
    "start_time": "2023-04-30T09:00:59.076Z"
   },
   {
    "duration": 0,
    "start_time": "2023-04-30T09:00:59.077Z"
   },
   {
    "duration": 0,
    "start_time": "2023-04-30T09:00:59.078Z"
   },
   {
    "duration": 0,
    "start_time": "2023-04-30T09:00:59.079Z"
   },
   {
    "duration": 0,
    "start_time": "2023-04-30T09:00:59.080Z"
   },
   {
    "duration": 0,
    "start_time": "2023-04-30T09:00:59.081Z"
   },
   {
    "duration": 0,
    "start_time": "2023-04-30T09:00:59.083Z"
   },
   {
    "duration": 48,
    "start_time": "2023-04-30T09:02:18.858Z"
   },
   {
    "duration": 25,
    "start_time": "2023-04-30T09:02:29.340Z"
   },
   {
    "duration": 17,
    "start_time": "2023-04-30T09:05:41.103Z"
   },
   {
    "duration": 15,
    "start_time": "2023-04-30T09:06:58.600Z"
   },
   {
    "duration": 4,
    "start_time": "2023-04-30T09:22:24.395Z"
   },
   {
    "duration": 4,
    "start_time": "2023-04-30T09:22:26.824Z"
   },
   {
    "duration": 6,
    "start_time": "2023-04-30T09:22:34.290Z"
   },
   {
    "duration": 35,
    "start_time": "2023-04-30T09:23:52.687Z"
   },
   {
    "duration": 25,
    "start_time": "2023-04-30T09:24:04.790Z"
   },
   {
    "duration": 15,
    "start_time": "2023-04-30T09:24:18.053Z"
   },
   {
    "duration": 12,
    "start_time": "2023-04-30T09:24:44.602Z"
   },
   {
    "duration": 5,
    "start_time": "2023-04-30T09:24:44.912Z"
   },
   {
    "duration": 3,
    "start_time": "2023-04-30T09:24:47.292Z"
   },
   {
    "duration": 9,
    "start_time": "2023-04-30T09:24:47.814Z"
   },
   {
    "duration": 4,
    "start_time": "2023-04-30T09:24:48.826Z"
   },
   {
    "duration": 27,
    "start_time": "2023-04-30T09:24:49.364Z"
   },
   {
    "duration": 17,
    "start_time": "2023-04-30T09:24:56.141Z"
   },
   {
    "duration": 17,
    "start_time": "2023-04-30T09:24:57.954Z"
   },
   {
    "duration": 10,
    "start_time": "2023-04-30T09:25:02.656Z"
   },
   {
    "duration": 11,
    "start_time": "2023-04-30T09:25:05.343Z"
   },
   {
    "duration": 9,
    "start_time": "2023-04-30T09:25:06.230Z"
   },
   {
    "duration": 9,
    "start_time": "2023-04-30T09:25:09.155Z"
   },
   {
    "duration": 637,
    "start_time": "2023-04-30T09:25:12.491Z"
   },
   {
    "duration": 58,
    "start_time": "2023-04-30T09:45:03.570Z"
   },
   {
    "duration": 28,
    "start_time": "2023-04-30T09:45:10.496Z"
   },
   {
    "duration": 29,
    "start_time": "2023-04-30T09:45:36.311Z"
   },
   {
    "duration": 1836,
    "start_time": "2023-04-30T09:46:49.531Z"
   },
   {
    "duration": 851,
    "start_time": "2023-04-30T09:46:51.369Z"
   },
   {
    "duration": 50,
    "start_time": "2023-04-30T09:46:52.221Z"
   },
   {
    "duration": 23,
    "start_time": "2023-04-30T09:46:52.273Z"
   },
   {
    "duration": 38,
    "start_time": "2023-04-30T09:46:52.299Z"
   },
   {
    "duration": 45,
    "start_time": "2023-04-30T09:46:52.339Z"
   },
   {
    "duration": 14,
    "start_time": "2023-04-30T09:46:52.387Z"
   },
   {
    "duration": 29,
    "start_time": "2023-04-30T09:46:52.403Z"
   },
   {
    "duration": 58,
    "start_time": "2023-04-30T09:46:52.435Z"
   },
   {
    "duration": 26,
    "start_time": "2023-04-30T09:46:52.496Z"
   },
   {
    "duration": 39,
    "start_time": "2023-04-30T09:46:52.524Z"
   },
   {
    "duration": 19,
    "start_time": "2023-04-30T09:46:52.566Z"
   },
   {
    "duration": 16,
    "start_time": "2023-04-30T09:46:52.587Z"
   },
   {
    "duration": 25,
    "start_time": "2023-04-30T09:46:52.606Z"
   },
   {
    "duration": 39,
    "start_time": "2023-04-30T09:46:52.633Z"
   },
   {
    "duration": 29,
    "start_time": "2023-04-30T09:46:52.675Z"
   },
   {
    "duration": 9,
    "start_time": "2023-04-30T09:46:52.708Z"
   },
   {
    "duration": 9,
    "start_time": "2023-04-30T09:46:52.719Z"
   },
   {
    "duration": 14,
    "start_time": "2023-04-30T09:46:52.730Z"
   },
   {
    "duration": 34,
    "start_time": "2023-04-30T09:46:52.746Z"
   },
   {
    "duration": 663,
    "start_time": "2023-04-30T09:46:52.782Z"
   },
   {
    "duration": 19,
    "start_time": "2023-04-30T09:46:53.447Z"
   },
   {
    "duration": 677,
    "start_time": "2023-04-30T09:46:53.469Z"
   },
   {
    "duration": 12,
    "start_time": "2023-04-30T09:46:54.148Z"
   },
   {
    "duration": 863,
    "start_time": "2023-04-30T09:46:54.163Z"
   },
   {
    "duration": 24,
    "start_time": "2023-04-30T09:46:55.028Z"
   },
   {
    "duration": 32,
    "start_time": "2023-04-30T09:46:55.055Z"
   },
   {
    "duration": 732,
    "start_time": "2023-04-30T09:46:55.088Z"
   },
   {
    "duration": 5,
    "start_time": "2023-04-30T09:46:55.822Z"
   },
   {
    "duration": 839,
    "start_time": "2023-04-30T09:46:55.828Z"
   },
   {
    "duration": 14,
    "start_time": "2023-04-30T09:46:56.671Z"
   },
   {
    "duration": 140,
    "start_time": "2023-04-30T09:46:56.688Z"
   },
   {
    "duration": 1184,
    "start_time": "2023-04-30T09:46:56.830Z"
   },
   {
    "duration": 5,
    "start_time": "2023-04-30T09:46:58.016Z"
   },
   {
    "duration": 876,
    "start_time": "2023-04-30T09:46:58.023Z"
   },
   {
    "duration": 12,
    "start_time": "2023-04-30T09:46:58.901Z"
   },
   {
    "duration": 200,
    "start_time": "2023-04-30T09:46:58.916Z"
   },
   {
    "duration": 730,
    "start_time": "2023-04-30T09:46:59.118Z"
   },
   {
    "duration": 10,
    "start_time": "2023-04-30T09:46:59.851Z"
   },
   {
    "duration": 204,
    "start_time": "2023-04-30T09:46:59.864Z"
   },
   {
    "duration": 0,
    "start_time": "2023-04-30T09:47:00.071Z"
   },
   {
    "duration": 0,
    "start_time": "2023-04-30T09:47:00.073Z"
   },
   {
    "duration": 0,
    "start_time": "2023-04-30T09:47:00.074Z"
   },
   {
    "duration": 0,
    "start_time": "2023-04-30T09:47:00.076Z"
   },
   {
    "duration": 0,
    "start_time": "2023-04-30T09:47:00.077Z"
   },
   {
    "duration": 0,
    "start_time": "2023-04-30T09:47:00.078Z"
   },
   {
    "duration": 0,
    "start_time": "2023-04-30T09:47:00.080Z"
   },
   {
    "duration": 0,
    "start_time": "2023-04-30T09:47:00.081Z"
   },
   {
    "duration": 31,
    "start_time": "2023-04-30T09:57:04.501Z"
   },
   {
    "duration": 36,
    "start_time": "2023-04-30T09:57:08.021Z"
   },
   {
    "duration": 36,
    "start_time": "2023-04-30T09:57:09.523Z"
   },
   {
    "duration": 28,
    "start_time": "2023-04-30T09:58:02.466Z"
   },
   {
    "duration": 4,
    "start_time": "2023-04-30T09:58:06.224Z"
   },
   {
    "duration": 8,
    "start_time": "2023-04-30T09:58:06.572Z"
   },
   {
    "duration": 4,
    "start_time": "2023-04-30T09:58:07.667Z"
   },
   {
    "duration": 26,
    "start_time": "2023-04-30T09:58:11.708Z"
   },
   {
    "duration": 14,
    "start_time": "2023-04-30T09:58:16.033Z"
   },
   {
    "duration": 1840,
    "start_time": "2023-04-30T10:00:48.075Z"
   },
   {
    "duration": 930,
    "start_time": "2023-04-30T10:00:49.918Z"
   },
   {
    "duration": 45,
    "start_time": "2023-04-30T10:00:50.850Z"
   },
   {
    "duration": 19,
    "start_time": "2023-04-30T10:00:50.898Z"
   },
   {
    "duration": 20,
    "start_time": "2023-04-30T10:00:50.920Z"
   },
   {
    "duration": 56,
    "start_time": "2023-04-30T10:00:50.951Z"
   },
   {
    "duration": 28,
    "start_time": "2023-04-30T10:00:51.009Z"
   },
   {
    "duration": 51,
    "start_time": "2023-04-30T10:00:51.039Z"
   },
   {
    "duration": 21,
    "start_time": "2023-04-30T10:00:51.092Z"
   },
   {
    "duration": 27,
    "start_time": "2023-04-30T10:00:51.115Z"
   },
   {
    "duration": 4,
    "start_time": "2023-04-30T10:00:51.144Z"
   },
   {
    "duration": 59,
    "start_time": "2023-04-30T10:00:51.149Z"
   },
   {
    "duration": 14,
    "start_time": "2023-04-30T10:00:51.210Z"
   },
   {
    "duration": 42,
    "start_time": "2023-04-30T10:00:51.230Z"
   },
   {
    "duration": 34,
    "start_time": "2023-04-30T10:00:51.274Z"
   },
   {
    "duration": 14,
    "start_time": "2023-04-30T10:00:51.310Z"
   },
   {
    "duration": 9,
    "start_time": "2023-04-30T10:00:51.326Z"
   },
   {
    "duration": 9,
    "start_time": "2023-04-30T10:00:51.337Z"
   },
   {
    "duration": 52,
    "start_time": "2023-04-30T10:00:51.348Z"
   },
   {
    "duration": 7,
    "start_time": "2023-04-30T10:00:51.404Z"
   },
   {
    "duration": 790,
    "start_time": "2023-04-30T10:00:51.413Z"
   },
   {
    "duration": 9,
    "start_time": "2023-04-30T10:00:52.204Z"
   },
   {
    "duration": 795,
    "start_time": "2023-04-30T10:00:52.214Z"
   },
   {
    "duration": 5,
    "start_time": "2023-04-30T10:00:53.011Z"
   },
   {
    "duration": 1475,
    "start_time": "2023-04-30T10:00:53.018Z"
   },
   {
    "duration": 71,
    "start_time": "2023-04-30T10:00:54.495Z"
   },
   {
    "duration": 81,
    "start_time": "2023-04-30T10:00:54.570Z"
   },
   {
    "duration": 1754,
    "start_time": "2023-04-30T10:00:54.657Z"
   },
   {
    "duration": 7,
    "start_time": "2023-04-30T10:00:56.414Z"
   },
   {
    "duration": 752,
    "start_time": "2023-04-30T10:00:56.423Z"
   },
   {
    "duration": 15,
    "start_time": "2023-04-30T10:00:57.182Z"
   },
   {
    "duration": 5,
    "start_time": "2023-04-30T10:00:57.199Z"
   },
   {
    "duration": 770,
    "start_time": "2023-04-30T10:00:57.206Z"
   },
   {
    "duration": 9,
    "start_time": "2023-04-30T10:00:57.979Z"
   },
   {
    "duration": 923,
    "start_time": "2023-04-30T10:00:57.990Z"
   },
   {
    "duration": 13,
    "start_time": "2023-04-30T10:00:58.915Z"
   },
   {
    "duration": 21,
    "start_time": "2023-04-30T10:00:58.931Z"
   },
   {
    "duration": 803,
    "start_time": "2023-04-30T10:00:58.973Z"
   },
   {
    "duration": 10,
    "start_time": "2023-04-30T10:00:59.779Z"
   },
   {
    "duration": 174,
    "start_time": "2023-04-30T10:00:59.791Z"
   },
   {
    "duration": 0,
    "start_time": "2023-04-30T10:00:59.971Z"
   },
   {
    "duration": 0,
    "start_time": "2023-04-30T10:00:59.975Z"
   },
   {
    "duration": 0,
    "start_time": "2023-04-30T10:00:59.981Z"
   },
   {
    "duration": 0,
    "start_time": "2023-04-30T10:00:59.983Z"
   },
   {
    "duration": 0,
    "start_time": "2023-04-30T10:00:59.984Z"
   },
   {
    "duration": 0,
    "start_time": "2023-04-30T10:00:59.985Z"
   },
   {
    "duration": 0,
    "start_time": "2023-04-30T10:00:59.986Z"
   },
   {
    "duration": 0,
    "start_time": "2023-04-30T10:00:59.987Z"
   },
   {
    "duration": 23,
    "start_time": "2023-04-30T10:05:00.825Z"
   },
   {
    "duration": 16,
    "start_time": "2023-04-30T10:05:20.600Z"
   },
   {
    "duration": 9,
    "start_time": "2023-04-30T10:05:35.927Z"
   },
   {
    "duration": 16,
    "start_time": "2023-04-30T10:18:52.451Z"
   },
   {
    "duration": 808,
    "start_time": "2023-04-30T10:19:07.806Z"
   },
   {
    "duration": 15,
    "start_time": "2023-04-30T10:20:47.131Z"
   },
   {
    "duration": 13,
    "start_time": "2023-04-30T10:20:52.918Z"
   },
   {
    "duration": 13,
    "start_time": "2023-04-30T10:21:08.653Z"
   },
   {
    "duration": 618,
    "start_time": "2023-04-30T10:21:17.261Z"
   },
   {
    "duration": 10,
    "start_time": "2023-04-30T10:34:15.411Z"
   },
   {
    "duration": 906,
    "start_time": "2023-04-30T10:34:18.861Z"
   },
   {
    "duration": 1284,
    "start_time": "2023-04-30T10:41:55.795Z"
   },
   {
    "duration": 661,
    "start_time": "2023-04-30T10:42:24.732Z"
   },
   {
    "duration": 1315,
    "start_time": "2023-04-30T10:42:35.572Z"
   },
   {
    "duration": 1145,
    "start_time": "2023-04-30T10:43:32.098Z"
   },
   {
    "duration": 1108,
    "start_time": "2023-04-30T10:43:37.268Z"
   },
   {
    "duration": 1035,
    "start_time": "2023-04-30T10:43:58.170Z"
   },
   {
    "duration": 1199,
    "start_time": "2023-04-30T10:44:05.693Z"
   },
   {
    "duration": 1146,
    "start_time": "2023-04-30T10:45:35.543Z"
   },
   {
    "duration": 15,
    "start_time": "2023-04-30T10:46:18.560Z"
   },
   {
    "duration": 6,
    "start_time": "2023-04-30T10:46:26.683Z"
   },
   {
    "duration": 1227,
    "start_time": "2023-04-30T10:46:32.119Z"
   },
   {
    "duration": 4,
    "start_time": "2023-04-30T10:52:11.322Z"
   },
   {
    "duration": 1312,
    "start_time": "2023-04-30T10:52:21.952Z"
   },
   {
    "duration": 1605,
    "start_time": "2023-04-30T10:52:28.806Z"
   },
   {
    "duration": 820,
    "start_time": "2023-04-30T10:52:30.413Z"
   },
   {
    "duration": 32,
    "start_time": "2023-04-30T10:52:31.235Z"
   },
   {
    "duration": 9,
    "start_time": "2023-04-30T10:52:31.270Z"
   },
   {
    "duration": 28,
    "start_time": "2023-04-30T10:52:31.281Z"
   },
   {
    "duration": 23,
    "start_time": "2023-04-30T10:52:31.311Z"
   },
   {
    "duration": 9,
    "start_time": "2023-04-30T10:52:31.337Z"
   },
   {
    "duration": 23,
    "start_time": "2023-04-30T10:52:31.348Z"
   },
   {
    "duration": 46,
    "start_time": "2023-04-30T10:52:31.373Z"
   },
   {
    "duration": 36,
    "start_time": "2023-04-30T10:52:31.422Z"
   },
   {
    "duration": 11,
    "start_time": "2023-04-30T10:52:31.460Z"
   },
   {
    "duration": 23,
    "start_time": "2023-04-30T10:52:31.474Z"
   },
   {
    "duration": 20,
    "start_time": "2023-04-30T10:52:31.499Z"
   },
   {
    "duration": 50,
    "start_time": "2023-04-30T10:52:31.522Z"
   },
   {
    "duration": 10,
    "start_time": "2023-04-30T10:52:31.574Z"
   },
   {
    "duration": 22,
    "start_time": "2023-04-30T10:52:31.586Z"
   },
   {
    "duration": 24,
    "start_time": "2023-04-30T10:52:31.611Z"
   },
   {
    "duration": 12,
    "start_time": "2023-04-30T10:52:31.642Z"
   },
   {
    "duration": 20,
    "start_time": "2023-04-30T10:52:31.657Z"
   },
   {
    "duration": 1235,
    "start_time": "2023-04-30T10:52:31.684Z"
   },
   {
    "duration": 8,
    "start_time": "2023-04-30T10:52:32.922Z"
   },
   {
    "duration": 710,
    "start_time": "2023-04-30T10:52:32.931Z"
   },
   {
    "duration": 8,
    "start_time": "2023-04-30T10:52:33.643Z"
   },
   {
    "duration": 755,
    "start_time": "2023-04-30T10:52:33.653Z"
   },
   {
    "duration": 6,
    "start_time": "2023-04-30T10:52:34.410Z"
   },
   {
    "duration": 889,
    "start_time": "2023-04-30T10:52:34.418Z"
   },
   {
    "duration": 12,
    "start_time": "2023-04-30T10:52:35.309Z"
   },
   {
    "duration": 18,
    "start_time": "2023-04-30T10:52:35.326Z"
   },
   {
    "duration": 859,
    "start_time": "2023-04-30T10:52:35.346Z"
   },
   {
    "duration": 5,
    "start_time": "2023-04-30T10:52:36.207Z"
   },
   {
    "duration": 792,
    "start_time": "2023-04-30T10:52:36.215Z"
   },
   {
    "duration": 13,
    "start_time": "2023-04-30T10:52:37.009Z"
   },
   {
    "duration": 17,
    "start_time": "2023-04-30T10:52:37.024Z"
   },
   {
    "duration": 922,
    "start_time": "2023-04-30T10:52:37.043Z"
   },
   {
    "duration": 6,
    "start_time": "2023-04-30T10:52:37.967Z"
   },
   {
    "duration": 802,
    "start_time": "2023-04-30T10:52:37.975Z"
   },
   {
    "duration": 14,
    "start_time": "2023-04-30T10:52:38.779Z"
   },
   {
    "duration": 6,
    "start_time": "2023-04-30T10:52:38.796Z"
   },
   {
    "duration": 817,
    "start_time": "2023-04-30T10:52:38.804Z"
   },
   {
    "duration": 6,
    "start_time": "2023-04-30T10:52:39.623Z"
   },
   {
    "duration": 138,
    "start_time": "2023-04-30T10:52:39.642Z"
   },
   {
    "duration": 0,
    "start_time": "2023-04-30T10:52:39.782Z"
   },
   {
    "duration": 0,
    "start_time": "2023-04-30T10:52:39.784Z"
   },
   {
    "duration": 0,
    "start_time": "2023-04-30T10:52:39.785Z"
   },
   {
    "duration": 0,
    "start_time": "2023-04-30T10:52:39.787Z"
   },
   {
    "duration": 0,
    "start_time": "2023-04-30T10:52:39.788Z"
   },
   {
    "duration": 0,
    "start_time": "2023-04-30T10:52:39.789Z"
   },
   {
    "duration": 0,
    "start_time": "2023-04-30T10:52:39.791Z"
   },
   {
    "duration": 0,
    "start_time": "2023-04-30T10:52:39.792Z"
   },
   {
    "duration": 5,
    "start_time": "2023-04-30T10:53:10.630Z"
   },
   {
    "duration": 1698,
    "start_time": "2023-04-30T10:53:15.719Z"
   },
   {
    "duration": 784,
    "start_time": "2023-04-30T10:53:17.419Z"
   },
   {
    "duration": 39,
    "start_time": "2023-04-30T10:53:18.205Z"
   },
   {
    "duration": 5,
    "start_time": "2023-04-30T10:53:18.245Z"
   },
   {
    "duration": 16,
    "start_time": "2023-04-30T10:53:18.254Z"
   },
   {
    "duration": 7,
    "start_time": "2023-04-30T10:53:18.272Z"
   },
   {
    "duration": 10,
    "start_time": "2023-04-30T10:53:18.281Z"
   },
   {
    "duration": 15,
    "start_time": "2023-04-30T10:53:18.293Z"
   },
   {
    "duration": 38,
    "start_time": "2023-04-30T10:53:18.309Z"
   },
   {
    "duration": 27,
    "start_time": "2023-04-30T10:53:18.349Z"
   },
   {
    "duration": 3,
    "start_time": "2023-04-30T10:53:18.378Z"
   },
   {
    "duration": 15,
    "start_time": "2023-04-30T10:53:18.383Z"
   },
   {
    "duration": 11,
    "start_time": "2023-04-30T10:53:18.400Z"
   },
   {
    "duration": 56,
    "start_time": "2023-04-30T10:53:18.415Z"
   },
   {
    "duration": 13,
    "start_time": "2023-04-30T10:53:18.473Z"
   },
   {
    "duration": 20,
    "start_time": "2023-04-30T10:53:18.488Z"
   },
   {
    "duration": 33,
    "start_time": "2023-04-30T10:53:18.510Z"
   },
   {
    "duration": 10,
    "start_time": "2023-04-30T10:53:18.545Z"
   },
   {
    "duration": 9,
    "start_time": "2023-04-30T10:53:18.557Z"
   },
   {
    "duration": 1215,
    "start_time": "2023-04-30T10:53:18.568Z"
   },
   {
    "duration": 9,
    "start_time": "2023-04-30T10:53:19.785Z"
   },
   {
    "duration": 715,
    "start_time": "2023-04-30T10:53:19.796Z"
   },
   {
    "duration": 10,
    "start_time": "2023-04-30T10:53:20.513Z"
   },
   {
    "duration": 677,
    "start_time": "2023-04-30T10:53:20.525Z"
   },
   {
    "duration": 6,
    "start_time": "2023-04-30T10:53:21.204Z"
   },
   {
    "duration": 829,
    "start_time": "2023-04-30T10:53:21.212Z"
   },
   {
    "duration": 13,
    "start_time": "2023-04-30T10:53:22.043Z"
   },
   {
    "duration": 17,
    "start_time": "2023-04-30T10:53:22.058Z"
   },
   {
    "duration": 775,
    "start_time": "2023-04-30T10:53:22.077Z"
   },
   {
    "duration": 5,
    "start_time": "2023-04-30T10:53:22.855Z"
   },
   {
    "duration": 798,
    "start_time": "2023-04-30T10:53:22.862Z"
   },
   {
    "duration": 13,
    "start_time": "2023-04-30T10:53:23.662Z"
   },
   {
    "duration": 6,
    "start_time": "2023-04-30T10:53:23.677Z"
   },
   {
    "duration": 957,
    "start_time": "2023-04-30T10:53:23.685Z"
   },
   {
    "duration": 6,
    "start_time": "2023-04-30T10:53:24.644Z"
   },
   {
    "duration": 778,
    "start_time": "2023-04-30T10:53:24.652Z"
   },
   {
    "duration": 18,
    "start_time": "2023-04-30T10:53:25.433Z"
   },
   {
    "duration": 13,
    "start_time": "2023-04-30T10:53:25.452Z"
   },
   {
    "duration": 866,
    "start_time": "2023-04-30T10:53:25.467Z"
   },
   {
    "duration": 5,
    "start_time": "2023-04-30T10:53:26.341Z"
   },
   {
    "duration": 143,
    "start_time": "2023-04-30T10:53:26.350Z"
   },
   {
    "duration": 0,
    "start_time": "2023-04-30T10:53:26.495Z"
   },
   {
    "duration": 0,
    "start_time": "2023-04-30T10:53:26.497Z"
   },
   {
    "duration": 0,
    "start_time": "2023-04-30T10:53:26.498Z"
   },
   {
    "duration": 0,
    "start_time": "2023-04-30T10:53:26.500Z"
   },
   {
    "duration": 0,
    "start_time": "2023-04-30T10:53:26.502Z"
   },
   {
    "duration": 0,
    "start_time": "2023-04-30T10:53:26.504Z"
   },
   {
    "duration": 1,
    "start_time": "2023-04-30T10:53:26.505Z"
   },
   {
    "duration": 0,
    "start_time": "2023-04-30T10:53:26.507Z"
   },
   {
    "duration": 1217,
    "start_time": "2023-04-30T10:56:03.828Z"
   },
   {
    "duration": 1106,
    "start_time": "2023-04-30T10:57:12.619Z"
   },
   {
    "duration": 1150,
    "start_time": "2023-04-30T10:57:50.781Z"
   },
   {
    "duration": 1576,
    "start_time": "2023-04-30T11:17:38.757Z"
   },
   {
    "duration": 795,
    "start_time": "2023-04-30T11:17:40.335Z"
   },
   {
    "duration": 32,
    "start_time": "2023-04-30T11:17:41.132Z"
   },
   {
    "duration": 4,
    "start_time": "2023-04-30T11:17:41.166Z"
   },
   {
    "duration": 28,
    "start_time": "2023-04-30T11:17:41.173Z"
   },
   {
    "duration": 23,
    "start_time": "2023-04-30T11:17:41.203Z"
   },
   {
    "duration": 25,
    "start_time": "2023-04-30T11:17:41.229Z"
   },
   {
    "duration": 36,
    "start_time": "2023-04-30T11:17:41.256Z"
   },
   {
    "duration": 35,
    "start_time": "2023-04-30T11:17:41.294Z"
   },
   {
    "duration": 31,
    "start_time": "2023-04-30T11:17:41.331Z"
   },
   {
    "duration": 17,
    "start_time": "2023-04-30T11:17:41.364Z"
   },
   {
    "duration": 23,
    "start_time": "2023-04-30T11:17:41.383Z"
   },
   {
    "duration": 49,
    "start_time": "2023-04-30T11:17:41.409Z"
   },
   {
    "duration": 37,
    "start_time": "2023-04-30T11:17:41.463Z"
   },
   {
    "duration": 22,
    "start_time": "2023-04-30T11:17:41.502Z"
   },
   {
    "duration": 28,
    "start_time": "2023-04-30T11:17:41.526Z"
   },
   {
    "duration": 10,
    "start_time": "2023-04-30T11:17:41.556Z"
   },
   {
    "duration": 27,
    "start_time": "2023-04-30T11:17:41.568Z"
   },
   {
    "duration": 22,
    "start_time": "2023-04-30T11:17:41.597Z"
   },
   {
    "duration": 1377,
    "start_time": "2023-04-30T11:17:41.622Z"
   },
   {
    "duration": 1746,
    "start_time": "2023-04-30T11:17:43.042Z"
   },
   {
    "duration": 1641,
    "start_time": "2023-04-30T11:17:44.840Z"
   },
   {
    "duration": 9,
    "start_time": "2023-04-30T11:17:46.483Z"
   },
   {
    "duration": 818,
    "start_time": "2023-04-30T11:17:46.494Z"
   },
   {
    "duration": 9,
    "start_time": "2023-04-30T11:17:47.315Z"
   },
   {
    "duration": 688,
    "start_time": "2023-04-30T11:17:47.326Z"
   },
   {
    "duration": 5,
    "start_time": "2023-04-30T11:17:48.017Z"
   },
   {
    "duration": 714,
    "start_time": "2023-04-30T11:17:48.024Z"
   },
   {
    "duration": 14,
    "start_time": "2023-04-30T11:17:48.741Z"
   },
   {
    "duration": 17,
    "start_time": "2023-04-30T11:17:48.757Z"
   },
   {
    "duration": 770,
    "start_time": "2023-04-30T11:17:48.776Z"
   },
   {
    "duration": 5,
    "start_time": "2023-04-30T11:17:49.548Z"
   },
   {
    "duration": 691,
    "start_time": "2023-04-30T11:17:49.555Z"
   },
   {
    "duration": 13,
    "start_time": "2023-04-30T11:17:50.248Z"
   },
   {
    "duration": 74,
    "start_time": "2023-04-30T11:17:50.263Z"
   },
   {
    "duration": 907,
    "start_time": "2023-04-30T11:17:50.339Z"
   },
   {
    "duration": 6,
    "start_time": "2023-04-30T11:17:51.248Z"
   },
   {
    "duration": 778,
    "start_time": "2023-04-30T11:17:51.256Z"
   },
   {
    "duration": 15,
    "start_time": "2023-04-30T11:17:52.036Z"
   },
   {
    "duration": 14,
    "start_time": "2023-04-30T11:17:52.053Z"
   },
   {
    "duration": 823,
    "start_time": "2023-04-30T11:17:52.071Z"
   },
   {
    "duration": 5,
    "start_time": "2023-04-30T11:17:52.896Z"
   },
   {
    "duration": 141,
    "start_time": "2023-04-30T11:17:52.903Z"
   },
   {
    "duration": 0,
    "start_time": "2023-04-30T11:17:53.046Z"
   },
   {
    "duration": 0,
    "start_time": "2023-04-30T11:17:53.048Z"
   },
   {
    "duration": 0,
    "start_time": "2023-04-30T11:17:53.050Z"
   },
   {
    "duration": 0,
    "start_time": "2023-04-30T11:17:53.051Z"
   },
   {
    "duration": 0,
    "start_time": "2023-04-30T11:17:53.053Z"
   },
   {
    "duration": 0,
    "start_time": "2023-04-30T11:17:53.054Z"
   },
   {
    "duration": 0,
    "start_time": "2023-04-30T11:17:53.056Z"
   },
   {
    "duration": 1,
    "start_time": "2023-04-30T11:17:53.057Z"
   },
   {
    "duration": 1578,
    "start_time": "2023-04-30T11:18:28.622Z"
   },
   {
    "duration": 887,
    "start_time": "2023-04-30T11:18:30.202Z"
   },
   {
    "duration": 31,
    "start_time": "2023-04-30T11:18:31.091Z"
   },
   {
    "duration": 61,
    "start_time": "2023-04-30T11:18:31.123Z"
   },
   {
    "duration": 39,
    "start_time": "2023-04-30T11:18:31.186Z"
   },
   {
    "duration": 40,
    "start_time": "2023-04-30T11:18:31.227Z"
   },
   {
    "duration": 28,
    "start_time": "2023-04-30T11:18:31.270Z"
   },
   {
    "duration": 44,
    "start_time": "2023-04-30T11:18:31.300Z"
   },
   {
    "duration": 49,
    "start_time": "2023-04-30T11:18:31.347Z"
   },
   {
    "duration": 46,
    "start_time": "2023-04-30T11:18:31.399Z"
   },
   {
    "duration": 21,
    "start_time": "2023-04-30T11:18:31.448Z"
   },
   {
    "duration": 31,
    "start_time": "2023-04-30T11:18:31.471Z"
   },
   {
    "duration": 29,
    "start_time": "2023-04-30T11:18:31.505Z"
   },
   {
    "duration": 44,
    "start_time": "2023-04-30T11:18:31.539Z"
   },
   {
    "duration": 34,
    "start_time": "2023-04-30T11:18:31.586Z"
   },
   {
    "duration": 27,
    "start_time": "2023-04-30T11:18:31.623Z"
   },
   {
    "duration": 11,
    "start_time": "2023-04-30T11:18:31.653Z"
   },
   {
    "duration": 34,
    "start_time": "2023-04-30T11:18:31.666Z"
   },
   {
    "duration": 14,
    "start_time": "2023-04-30T11:18:31.702Z"
   },
   {
    "duration": 1353,
    "start_time": "2023-04-30T11:18:31.718Z"
   },
   {
    "duration": 1151,
    "start_time": "2023-04-30T11:18:33.073Z"
   },
   {
    "duration": 1298,
    "start_time": "2023-04-30T11:18:34.227Z"
   },
   {
    "duration": 17,
    "start_time": "2023-04-30T11:18:35.528Z"
   },
   {
    "duration": 1403,
    "start_time": "2023-04-30T11:18:35.547Z"
   },
   {
    "duration": 9,
    "start_time": "2023-04-30T11:18:36.953Z"
   },
   {
    "duration": 1207,
    "start_time": "2023-04-30T11:18:36.964Z"
   },
   {
    "duration": 5,
    "start_time": "2023-04-30T11:18:38.173Z"
   },
   {
    "duration": 1264,
    "start_time": "2023-04-30T11:18:38.179Z"
   },
   {
    "duration": 14,
    "start_time": "2023-04-30T11:18:39.446Z"
   },
   {
    "duration": 7,
    "start_time": "2023-04-30T11:18:39.462Z"
   },
   {
    "duration": 1238,
    "start_time": "2023-04-30T11:18:39.471Z"
   },
   {
    "duration": 6,
    "start_time": "2023-04-30T11:18:40.711Z"
   },
   {
    "duration": 717,
    "start_time": "2023-04-30T11:18:40.719Z"
   },
   {
    "duration": 14,
    "start_time": "2023-04-30T11:18:41.440Z"
   },
   {
    "duration": 7,
    "start_time": "2023-04-30T11:18:41.456Z"
   },
   {
    "duration": 857,
    "start_time": "2023-04-30T11:18:41.465Z"
   },
   {
    "duration": 15,
    "start_time": "2023-04-30T11:18:42.325Z"
   },
   {
    "duration": 688,
    "start_time": "2023-04-30T11:18:42.343Z"
   },
   {
    "duration": 18,
    "start_time": "2023-04-30T11:18:43.033Z"
   },
   {
    "duration": 6,
    "start_time": "2023-04-30T11:18:43.053Z"
   },
   {
    "duration": 772,
    "start_time": "2023-04-30T11:18:43.063Z"
   },
   {
    "duration": 5,
    "start_time": "2023-04-30T11:18:43.837Z"
   },
   {
    "duration": 146,
    "start_time": "2023-04-30T11:18:43.844Z"
   },
   {
    "duration": 0,
    "start_time": "2023-04-30T11:18:43.992Z"
   },
   {
    "duration": 0,
    "start_time": "2023-04-30T11:18:43.993Z"
   },
   {
    "duration": 0,
    "start_time": "2023-04-30T11:18:43.994Z"
   },
   {
    "duration": 0,
    "start_time": "2023-04-30T11:18:43.995Z"
   },
   {
    "duration": 0,
    "start_time": "2023-04-30T11:18:43.996Z"
   },
   {
    "duration": 0,
    "start_time": "2023-04-30T11:18:43.997Z"
   },
   {
    "duration": 0,
    "start_time": "2023-04-30T11:18:43.997Z"
   },
   {
    "duration": 0,
    "start_time": "2023-04-30T11:18:43.998Z"
   },
   {
    "duration": 7,
    "start_time": "2023-04-30T12:57:27.516Z"
   },
   {
    "duration": 794,
    "start_time": "2023-04-30T12:57:27.671Z"
   },
   {
    "duration": 984,
    "start_time": "2023-04-30T13:03:34.710Z"
   },
   {
    "duration": 11,
    "start_time": "2023-04-30T13:06:50.100Z"
   },
   {
    "duration": 105,
    "start_time": "2023-04-30T13:12:24.427Z"
   },
   {
    "duration": 6,
    "start_time": "2023-04-30T13:23:18.930Z"
   },
   {
    "duration": 710,
    "start_time": "2023-04-30T13:23:19.116Z"
   },
   {
    "duration": 698,
    "start_time": "2023-04-30T13:23:31.524Z"
   },
   {
    "duration": 26,
    "start_time": "2023-04-30T13:25:10.745Z"
   },
   {
    "duration": 6,
    "start_time": "2023-04-30T13:28:21.439Z"
   },
   {
    "duration": 752,
    "start_time": "2023-04-30T13:28:21.778Z"
   },
   {
    "duration": 20,
    "start_time": "2023-04-30T13:28:26.960Z"
   },
   {
    "duration": 20,
    "start_time": "2023-04-30T13:28:29.578Z"
   },
   {
    "duration": 25,
    "start_time": "2023-04-30T13:29:43.060Z"
   },
   {
    "duration": 20,
    "start_time": "2023-04-30T13:36:51.891Z"
   },
   {
    "duration": 23,
    "start_time": "2023-04-30T13:37:02.454Z"
   },
   {
    "duration": 11,
    "start_time": "2023-04-30T13:41:20.497Z"
   },
   {
    "duration": 14,
    "start_time": "2023-04-30T13:41:36.605Z"
   },
   {
    "duration": 11,
    "start_time": "2023-04-30T13:42:11.070Z"
   },
   {
    "duration": 11,
    "start_time": "2023-04-30T13:42:19.575Z"
   },
   {
    "duration": 13,
    "start_time": "2023-04-30T13:42:26.252Z"
   },
   {
    "duration": 6,
    "start_time": "2023-04-30T13:42:33.509Z"
   },
   {
    "duration": 18,
    "start_time": "2023-04-30T13:43:18.016Z"
   },
   {
    "duration": 8,
    "start_time": "2023-04-30T13:44:06.667Z"
   },
   {
    "duration": 1660,
    "start_time": "2023-04-30T13:44:40.866Z"
   },
   {
    "duration": 861,
    "start_time": "2023-04-30T13:44:42.528Z"
   },
   {
    "duration": 30,
    "start_time": "2023-04-30T13:44:43.391Z"
   },
   {
    "duration": 32,
    "start_time": "2023-04-30T13:44:43.424Z"
   },
   {
    "duration": 19,
    "start_time": "2023-04-30T13:44:43.461Z"
   },
   {
    "duration": 11,
    "start_time": "2023-04-30T13:44:43.483Z"
   },
   {
    "duration": 5,
    "start_time": "2023-04-30T13:44:43.495Z"
   },
   {
    "duration": 8,
    "start_time": "2023-04-30T13:44:43.502Z"
   },
   {
    "duration": 21,
    "start_time": "2023-04-30T13:44:43.513Z"
   },
   {
    "duration": 28,
    "start_time": "2023-04-30T13:44:43.546Z"
   },
   {
    "duration": 4,
    "start_time": "2023-04-30T13:44:43.576Z"
   },
   {
    "duration": 26,
    "start_time": "2023-04-30T13:44:43.582Z"
   },
   {
    "duration": 7,
    "start_time": "2023-04-30T13:44:43.610Z"
   },
   {
    "duration": 40,
    "start_time": "2023-04-30T13:44:43.619Z"
   },
   {
    "duration": 23,
    "start_time": "2023-04-30T13:44:43.661Z"
   },
   {
    "duration": 16,
    "start_time": "2023-04-30T13:44:43.685Z"
   },
   {
    "duration": 9,
    "start_time": "2023-04-30T13:44:43.703Z"
   },
   {
    "duration": 9,
    "start_time": "2023-04-30T13:44:43.714Z"
   },
   {
    "duration": 23,
    "start_time": "2023-04-30T13:44:43.741Z"
   },
   {
    "duration": 1296,
    "start_time": "2023-04-30T13:44:43.771Z"
   },
   {
    "duration": 1224,
    "start_time": "2023-04-30T13:44:45.070Z"
   },
   {
    "duration": 1453,
    "start_time": "2023-04-30T13:44:46.296Z"
   },
   {
    "duration": 15,
    "start_time": "2023-04-30T13:44:47.754Z"
   },
   {
    "duration": 814,
    "start_time": "2023-04-30T13:44:47.772Z"
   },
   {
    "duration": 8,
    "start_time": "2023-04-30T13:44:48.587Z"
   },
   {
    "duration": 962,
    "start_time": "2023-04-30T13:44:48.597Z"
   },
   {
    "duration": 7,
    "start_time": "2023-04-30T13:44:49.561Z"
   },
   {
    "duration": 1578,
    "start_time": "2023-04-30T13:44:49.572Z"
   },
   {
    "duration": 19,
    "start_time": "2023-04-30T13:44:51.157Z"
   },
   {
    "duration": 69,
    "start_time": "2023-04-30T13:44:51.178Z"
   },
   {
    "duration": 1001,
    "start_time": "2023-04-30T13:44:51.250Z"
   },
   {
    "duration": 17,
    "start_time": "2023-04-30T13:44:52.254Z"
   },
   {
    "duration": 23,
    "start_time": "2023-04-30T13:44:52.273Z"
   },
   {
    "duration": 748,
    "start_time": "2023-04-30T13:44:52.298Z"
   },
   {
    "duration": 6,
    "start_time": "2023-04-30T13:44:53.057Z"
   },
   {
    "duration": 875,
    "start_time": "2023-04-30T13:44:53.069Z"
   },
   {
    "duration": 16,
    "start_time": "2023-04-30T13:44:53.948Z"
   },
   {
    "duration": 15,
    "start_time": "2023-04-30T13:44:53.968Z"
   },
   {
    "duration": 772,
    "start_time": "2023-04-30T13:44:53.985Z"
   },
   {
    "duration": 6,
    "start_time": "2023-04-30T13:44:54.767Z"
   },
   {
    "duration": 189,
    "start_time": "2023-04-30T13:44:54.775Z"
   },
   {
    "duration": 0,
    "start_time": "2023-04-30T13:44:54.969Z"
   },
   {
    "duration": 0,
    "start_time": "2023-04-30T13:44:54.970Z"
   },
   {
    "duration": 0,
    "start_time": "2023-04-30T13:44:54.970Z"
   },
   {
    "duration": 0,
    "start_time": "2023-04-30T13:44:54.971Z"
   },
   {
    "duration": 0,
    "start_time": "2023-04-30T13:44:54.972Z"
   },
   {
    "duration": 0,
    "start_time": "2023-04-30T13:44:54.973Z"
   },
   {
    "duration": 0,
    "start_time": "2023-04-30T13:44:54.979Z"
   },
   {
    "duration": 0,
    "start_time": "2023-04-30T13:44:54.981Z"
   },
   {
    "duration": 23,
    "start_time": "2023-04-30T13:45:52.013Z"
   },
   {
    "duration": 26,
    "start_time": "2023-04-30T13:45:59.109Z"
   },
   {
    "duration": 25,
    "start_time": "2023-04-30T13:46:08.908Z"
   },
   {
    "duration": 27,
    "start_time": "2023-04-30T13:48:55.141Z"
   },
   {
    "duration": 16,
    "start_time": "2023-04-30T13:49:19.309Z"
   },
   {
    "duration": 21,
    "start_time": "2023-04-30T13:50:34.756Z"
   },
   {
    "duration": 20,
    "start_time": "2023-04-30T13:50:47.014Z"
   },
   {
    "duration": 15,
    "start_time": "2023-04-30T13:51:15.280Z"
   },
   {
    "duration": 1623,
    "start_time": "2023-04-30T13:51:20.359Z"
   },
   {
    "duration": 790,
    "start_time": "2023-04-30T13:51:21.985Z"
   },
   {
    "duration": 28,
    "start_time": "2023-04-30T13:51:22.777Z"
   },
   {
    "duration": 10,
    "start_time": "2023-04-30T13:51:22.807Z"
   },
   {
    "duration": 31,
    "start_time": "2023-04-30T13:51:22.820Z"
   },
   {
    "duration": 30,
    "start_time": "2023-04-30T13:51:22.852Z"
   },
   {
    "duration": 6,
    "start_time": "2023-04-30T13:51:22.884Z"
   },
   {
    "duration": 10,
    "start_time": "2023-04-30T13:51:22.892Z"
   },
   {
    "duration": 28,
    "start_time": "2023-04-30T13:51:22.904Z"
   },
   {
    "duration": 31,
    "start_time": "2023-04-30T13:51:22.934Z"
   },
   {
    "duration": 3,
    "start_time": "2023-04-30T13:51:22.966Z"
   },
   {
    "duration": 17,
    "start_time": "2023-04-30T13:51:22.971Z"
   },
   {
    "duration": 10,
    "start_time": "2023-04-30T13:51:22.990Z"
   },
   {
    "duration": 24,
    "start_time": "2023-04-30T13:51:23.003Z"
   },
   {
    "duration": 39,
    "start_time": "2023-04-30T13:51:23.029Z"
   },
   {
    "duration": 16,
    "start_time": "2023-04-30T13:51:23.070Z"
   },
   {
    "duration": 11,
    "start_time": "2023-04-30T13:51:23.088Z"
   },
   {
    "duration": 17,
    "start_time": "2023-04-30T13:51:23.101Z"
   },
   {
    "duration": 32,
    "start_time": "2023-04-30T13:51:23.120Z"
   },
   {
    "duration": 1373,
    "start_time": "2023-04-30T13:51:23.154Z"
   },
   {
    "duration": 1193,
    "start_time": "2023-04-30T13:51:24.529Z"
   },
   {
    "duration": 1226,
    "start_time": "2023-04-30T13:51:25.725Z"
   },
   {
    "duration": 9,
    "start_time": "2023-04-30T13:51:26.954Z"
   },
   {
    "duration": 742,
    "start_time": "2023-04-30T13:51:26.965Z"
   },
   {
    "duration": 7,
    "start_time": "2023-04-30T13:51:27.710Z"
   },
   {
    "duration": 687,
    "start_time": "2023-04-30T13:51:27.719Z"
   },
   {
    "duration": 5,
    "start_time": "2023-04-30T13:51:28.408Z"
   },
   {
    "duration": 713,
    "start_time": "2023-04-30T13:51:28.415Z"
   },
   {
    "duration": 22,
    "start_time": "2023-04-30T13:51:29.131Z"
   },
   {
    "duration": 5,
    "start_time": "2023-04-30T13:51:29.155Z"
   },
   {
    "duration": 788,
    "start_time": "2023-04-30T13:51:29.162Z"
   },
   {
    "duration": 15,
    "start_time": "2023-04-30T13:51:29.952Z"
   },
   {
    "duration": 15,
    "start_time": "2023-04-30T13:51:29.969Z"
   },
   {
    "duration": 779,
    "start_time": "2023-04-30T13:51:29.986Z"
   },
   {
    "duration": 6,
    "start_time": "2023-04-30T13:51:30.767Z"
   },
   {
    "duration": 963,
    "start_time": "2023-04-30T13:51:30.775Z"
   },
   {
    "duration": 19,
    "start_time": "2023-04-30T13:51:31.741Z"
   },
   {
    "duration": 21,
    "start_time": "2023-04-30T13:51:31.762Z"
   },
   {
    "duration": 765,
    "start_time": "2023-04-30T13:51:31.785Z"
   },
   {
    "duration": 6,
    "start_time": "2023-04-30T13:51:32.552Z"
   },
   {
    "duration": 142,
    "start_time": "2023-04-30T13:51:32.562Z"
   },
   {
    "duration": 0,
    "start_time": "2023-04-30T13:51:32.706Z"
   },
   {
    "duration": 0,
    "start_time": "2023-04-30T13:51:32.707Z"
   },
   {
    "duration": 0,
    "start_time": "2023-04-30T13:51:32.708Z"
   },
   {
    "duration": 0,
    "start_time": "2023-04-30T13:51:32.709Z"
   },
   {
    "duration": 0,
    "start_time": "2023-04-30T13:51:32.711Z"
   },
   {
    "duration": 0,
    "start_time": "2023-04-30T13:51:32.713Z"
   },
   {
    "duration": 0,
    "start_time": "2023-04-30T13:51:32.714Z"
   },
   {
    "duration": 0,
    "start_time": "2023-04-30T13:51:32.716Z"
   },
   {
    "duration": 17,
    "start_time": "2023-04-30T14:00:33.756Z"
   },
   {
    "duration": 54,
    "start_time": "2023-04-30T14:00:48.249Z"
   },
   {
    "duration": 30,
    "start_time": "2023-04-30T14:00:55.960Z"
   },
   {
    "duration": 33,
    "start_time": "2023-04-30T14:12:59.443Z"
   },
   {
    "duration": 27,
    "start_time": "2023-04-30T14:13:09.270Z"
   },
   {
    "duration": 96,
    "start_time": "2023-04-30T14:13:15.829Z"
   },
   {
    "duration": 53,
    "start_time": "2023-04-30T14:14:48.583Z"
   },
   {
    "duration": 27,
    "start_time": "2023-04-30T14:14:54.254Z"
   },
   {
    "duration": 29,
    "start_time": "2023-04-30T14:15:12.929Z"
   },
   {
    "duration": 1611,
    "start_time": "2023-04-30T14:15:27.682Z"
   },
   {
    "duration": 781,
    "start_time": "2023-04-30T14:15:29.295Z"
   },
   {
    "duration": 31,
    "start_time": "2023-04-30T14:15:30.079Z"
   },
   {
    "duration": 39,
    "start_time": "2023-04-30T14:15:30.111Z"
   },
   {
    "duration": 43,
    "start_time": "2023-04-30T14:15:30.152Z"
   },
   {
    "duration": 47,
    "start_time": "2023-04-30T14:15:30.198Z"
   },
   {
    "duration": 54,
    "start_time": "2023-04-30T14:15:30.250Z"
   },
   {
    "duration": 56,
    "start_time": "2023-04-30T14:15:30.306Z"
   },
   {
    "duration": 94,
    "start_time": "2023-04-30T14:15:30.365Z"
   },
   {
    "duration": 144,
    "start_time": "2023-04-30T14:15:30.460Z"
   },
   {
    "duration": 82,
    "start_time": "2023-04-30T14:15:30.608Z"
   },
   {
    "duration": 93,
    "start_time": "2023-04-30T14:15:30.693Z"
   },
   {
    "duration": 48,
    "start_time": "2023-04-30T14:15:30.788Z"
   },
   {
    "duration": 78,
    "start_time": "2023-04-30T14:15:30.838Z"
   },
   {
    "duration": 94,
    "start_time": "2023-04-30T14:15:30.919Z"
   },
   {
    "duration": 88,
    "start_time": "2023-04-30T14:15:31.015Z"
   },
   {
    "duration": 10,
    "start_time": "2023-04-30T14:15:31.106Z"
   },
   {
    "duration": 63,
    "start_time": "2023-04-30T14:15:31.117Z"
   },
   {
    "duration": 195,
    "start_time": "2023-04-30T14:15:31.182Z"
   },
   {
    "duration": 1601,
    "start_time": "2023-04-30T14:15:31.378Z"
   },
   {
    "duration": 1141,
    "start_time": "2023-04-30T14:15:32.981Z"
   },
   {
    "duration": 1212,
    "start_time": "2023-04-30T14:15:34.124Z"
   },
   {
    "duration": 17,
    "start_time": "2023-04-30T14:15:35.338Z"
   },
   {
    "duration": 832,
    "start_time": "2023-04-30T14:15:35.357Z"
   },
   {
    "duration": 10,
    "start_time": "2023-04-30T14:15:36.192Z"
   },
   {
    "duration": 731,
    "start_time": "2023-04-30T14:15:36.205Z"
   },
   {
    "duration": 11,
    "start_time": "2023-04-30T14:15:36.943Z"
   },
   {
    "duration": 798,
    "start_time": "2023-04-30T14:15:36.956Z"
   },
   {
    "duration": 12,
    "start_time": "2023-04-30T14:15:37.756Z"
   },
   {
    "duration": 6,
    "start_time": "2023-04-30T14:15:37.770Z"
   },
   {
    "duration": 792,
    "start_time": "2023-04-30T14:15:37.778Z"
   },
   {
    "duration": 31,
    "start_time": "2023-04-30T14:15:38.572Z"
   },
   {
    "duration": 5,
    "start_time": "2023-04-30T14:15:38.605Z"
   },
   {
    "duration": 743,
    "start_time": "2023-04-30T14:15:38.611Z"
   },
   {
    "duration": 6,
    "start_time": "2023-04-30T14:15:39.356Z"
   },
   {
    "duration": 965,
    "start_time": "2023-04-30T14:15:39.364Z"
   },
   {
    "duration": 28,
    "start_time": "2023-04-30T14:15:40.332Z"
   },
   {
    "duration": 11,
    "start_time": "2023-04-30T14:15:40.362Z"
   },
   {
    "duration": 761,
    "start_time": "2023-04-30T14:15:40.375Z"
   },
   {
    "duration": 8,
    "start_time": "2023-04-30T14:15:41.141Z"
   },
   {
    "duration": 165,
    "start_time": "2023-04-30T14:15:41.151Z"
   },
   {
    "duration": 0,
    "start_time": "2023-04-30T14:15:41.317Z"
   },
   {
    "duration": 0,
    "start_time": "2023-04-30T14:15:41.319Z"
   },
   {
    "duration": 0,
    "start_time": "2023-04-30T14:15:41.320Z"
   },
   {
    "duration": 0,
    "start_time": "2023-04-30T14:15:41.321Z"
   },
   {
    "duration": 0,
    "start_time": "2023-04-30T14:15:41.322Z"
   },
   {
    "duration": 0,
    "start_time": "2023-04-30T14:15:41.323Z"
   },
   {
    "duration": 0,
    "start_time": "2023-04-30T14:15:41.323Z"
   },
   {
    "duration": 0,
    "start_time": "2023-04-30T14:15:41.324Z"
   },
   {
    "duration": 20,
    "start_time": "2023-04-30T14:17:37.965Z"
   },
   {
    "duration": 30,
    "start_time": "2023-04-30T14:17:59.768Z"
   },
   {
    "duration": 14,
    "start_time": "2023-04-30T14:18:11.018Z"
   },
   {
    "duration": 25,
    "start_time": "2023-04-30T14:18:18.940Z"
   },
   {
    "duration": 1853,
    "start_time": "2023-04-30T14:18:25.516Z"
   },
   {
    "duration": 850,
    "start_time": "2023-04-30T14:18:27.373Z"
   },
   {
    "duration": 46,
    "start_time": "2023-04-30T14:18:28.225Z"
   },
   {
    "duration": 6,
    "start_time": "2023-04-30T14:18:28.274Z"
   },
   {
    "duration": 19,
    "start_time": "2023-04-30T14:18:28.283Z"
   },
   {
    "duration": 7,
    "start_time": "2023-04-30T14:18:28.304Z"
   },
   {
    "duration": 5,
    "start_time": "2023-04-30T14:18:28.314Z"
   },
   {
    "duration": 35,
    "start_time": "2023-04-30T14:18:28.322Z"
   },
   {
    "duration": 53,
    "start_time": "2023-04-30T14:18:28.365Z"
   },
   {
    "duration": 31,
    "start_time": "2023-04-30T14:18:28.420Z"
   },
   {
    "duration": 36,
    "start_time": "2023-04-30T14:18:28.453Z"
   },
   {
    "duration": 42,
    "start_time": "2023-04-30T14:18:28.491Z"
   },
   {
    "duration": 55,
    "start_time": "2023-04-30T14:18:28.535Z"
   },
   {
    "duration": 94,
    "start_time": "2023-04-30T14:18:28.594Z"
   },
   {
    "duration": 33,
    "start_time": "2023-04-30T14:18:28.691Z"
   },
   {
    "duration": 30,
    "start_time": "2023-04-30T14:18:28.726Z"
   },
   {
    "duration": 25,
    "start_time": "2023-04-30T14:18:28.762Z"
   },
   {
    "duration": 10,
    "start_time": "2023-04-30T14:18:28.790Z"
   },
   {
    "duration": 14,
    "start_time": "2023-04-30T14:18:28.803Z"
   },
   {
    "duration": 1368,
    "start_time": "2023-04-30T14:18:28.820Z"
   },
   {
    "duration": 2092,
    "start_time": "2023-04-30T14:18:30.190Z"
   },
   {
    "duration": 1988,
    "start_time": "2023-04-30T14:18:32.284Z"
   },
   {
    "duration": 9,
    "start_time": "2023-04-30T14:18:34.275Z"
   },
   {
    "duration": 829,
    "start_time": "2023-04-30T14:18:34.286Z"
   },
   {
    "duration": 7,
    "start_time": "2023-04-30T14:18:35.117Z"
   },
   {
    "duration": 774,
    "start_time": "2023-04-30T14:18:35.127Z"
   },
   {
    "duration": 6,
    "start_time": "2023-04-30T14:18:35.903Z"
   },
   {
    "duration": 1136,
    "start_time": "2023-04-30T14:18:35.911Z"
   },
   {
    "duration": 24,
    "start_time": "2023-04-30T14:18:37.051Z"
   },
   {
    "duration": 74,
    "start_time": "2023-04-30T14:18:37.078Z"
   },
   {
    "duration": 1796,
    "start_time": "2023-04-30T14:18:37.155Z"
   },
   {
    "duration": 21,
    "start_time": "2023-04-30T14:18:38.953Z"
   },
   {
    "duration": 162,
    "start_time": "2023-04-30T14:18:38.977Z"
   },
   {
    "duration": 1434,
    "start_time": "2023-04-30T14:18:39.141Z"
   },
   {
    "duration": 6,
    "start_time": "2023-04-30T14:18:40.578Z"
   },
   {
    "duration": 1964,
    "start_time": "2023-04-30T14:18:40.585Z"
   },
   {
    "duration": 15,
    "start_time": "2023-04-30T14:18:42.559Z"
   },
   {
    "duration": 8,
    "start_time": "2023-04-30T14:18:42.579Z"
   },
   {
    "duration": 1759,
    "start_time": "2023-04-30T14:18:42.590Z"
   },
   {
    "duration": 12,
    "start_time": "2023-04-30T14:18:44.351Z"
   },
   {
    "duration": 301,
    "start_time": "2023-04-30T14:18:44.369Z"
   },
   {
    "duration": 0,
    "start_time": "2023-04-30T14:18:44.673Z"
   },
   {
    "duration": 0,
    "start_time": "2023-04-30T14:18:44.675Z"
   },
   {
    "duration": 1,
    "start_time": "2023-04-30T14:18:44.676Z"
   },
   {
    "duration": 0,
    "start_time": "2023-04-30T14:18:44.678Z"
   },
   {
    "duration": 0,
    "start_time": "2023-04-30T14:18:44.680Z"
   },
   {
    "duration": 0,
    "start_time": "2023-04-30T14:18:44.682Z"
   },
   {
    "duration": 0,
    "start_time": "2023-04-30T14:18:44.683Z"
   },
   {
    "duration": 0,
    "start_time": "2023-04-30T14:18:44.685Z"
   },
   {
    "duration": 41,
    "start_time": "2023-04-30T14:20:28.825Z"
   },
   {
    "duration": 38,
    "start_time": "2023-04-30T14:31:46.464Z"
   },
   {
    "duration": 22,
    "start_time": "2023-04-30T14:33:40.556Z"
   },
   {
    "duration": 18,
    "start_time": "2023-04-30T14:36:09.936Z"
   },
   {
    "duration": 37,
    "start_time": "2023-04-30T14:55:44.388Z"
   },
   {
    "duration": 23,
    "start_time": "2023-04-30T14:58:24.280Z"
   },
   {
    "duration": 1939,
    "start_time": "2023-04-30T14:58:30.430Z"
   },
   {
    "duration": 877,
    "start_time": "2023-04-30T14:58:32.381Z"
   },
   {
    "duration": 32,
    "start_time": "2023-04-30T14:58:33.265Z"
   },
   {
    "duration": 5,
    "start_time": "2023-04-30T14:58:33.299Z"
   },
   {
    "duration": 23,
    "start_time": "2023-04-30T14:58:33.307Z"
   },
   {
    "duration": 51,
    "start_time": "2023-04-30T14:58:33.333Z"
   },
   {
    "duration": 11,
    "start_time": "2023-04-30T14:58:33.387Z"
   },
   {
    "duration": 14,
    "start_time": "2023-04-30T14:58:33.400Z"
   },
   {
    "duration": 36,
    "start_time": "2023-04-30T14:58:33.416Z"
   },
   {
    "duration": 34,
    "start_time": "2023-04-30T14:58:33.456Z"
   },
   {
    "duration": 12,
    "start_time": "2023-04-30T14:58:33.492Z"
   },
   {
    "duration": 15,
    "start_time": "2023-04-30T14:58:33.506Z"
   },
   {
    "duration": 60,
    "start_time": "2023-04-30T14:58:33.523Z"
   },
   {
    "duration": 50,
    "start_time": "2023-04-30T14:58:33.588Z"
   },
   {
    "duration": 40,
    "start_time": "2023-04-30T14:58:33.640Z"
   },
   {
    "duration": 18,
    "start_time": "2023-04-30T14:58:33.682Z"
   },
   {
    "duration": 9,
    "start_time": "2023-04-30T14:58:33.703Z"
   },
   {
    "duration": 17,
    "start_time": "2023-04-30T14:58:33.714Z"
   },
   {
    "duration": 59,
    "start_time": "2023-04-30T14:58:33.733Z"
   },
   {
    "duration": 1591,
    "start_time": "2023-04-30T14:58:33.795Z"
   },
   {
    "duration": 1319,
    "start_time": "2023-04-30T14:58:35.389Z"
   },
   {
    "duration": 1272,
    "start_time": "2023-04-30T14:58:36.712Z"
   },
   {
    "duration": 9,
    "start_time": "2023-04-30T14:58:37.986Z"
   },
   {
    "duration": 928,
    "start_time": "2023-04-30T14:58:37.997Z"
   },
   {
    "duration": 19,
    "start_time": "2023-04-30T14:58:38.927Z"
   },
   {
    "duration": 772,
    "start_time": "2023-04-30T14:58:38.948Z"
   },
   {
    "duration": 6,
    "start_time": "2023-04-30T14:58:39.722Z"
   },
   {
    "duration": 880,
    "start_time": "2023-04-30T14:58:39.730Z"
   },
   {
    "duration": 12,
    "start_time": "2023-04-30T14:58:40.612Z"
   },
   {
    "duration": 23,
    "start_time": "2023-04-30T14:58:40.644Z"
   },
   {
    "duration": 825,
    "start_time": "2023-04-30T14:58:40.675Z"
   },
   {
    "duration": 43,
    "start_time": "2023-04-30T14:58:41.502Z"
   },
   {
    "duration": 10,
    "start_time": "2023-04-30T14:58:41.552Z"
   },
   {
    "duration": 1099,
    "start_time": "2023-04-30T14:58:41.564Z"
   },
   {
    "duration": 19,
    "start_time": "2023-04-30T14:58:42.669Z"
   },
   {
    "duration": 2172,
    "start_time": "2023-04-30T14:58:42.690Z"
   },
   {
    "duration": 17,
    "start_time": "2023-04-30T14:58:44.864Z"
   },
   {
    "duration": 15,
    "start_time": "2023-04-30T14:58:44.884Z"
   },
   {
    "duration": 1122,
    "start_time": "2023-04-30T14:58:44.900Z"
   },
   {
    "duration": 7,
    "start_time": "2023-04-30T14:58:46.024Z"
   },
   {
    "duration": 235,
    "start_time": "2023-04-30T14:58:46.055Z"
   },
   {
    "duration": 0,
    "start_time": "2023-04-30T14:58:46.293Z"
   },
   {
    "duration": 0,
    "start_time": "2023-04-30T14:58:46.295Z"
   },
   {
    "duration": 0,
    "start_time": "2023-04-30T14:58:46.297Z"
   },
   {
    "duration": 0,
    "start_time": "2023-04-30T14:58:46.299Z"
   },
   {
    "duration": 0,
    "start_time": "2023-04-30T14:58:46.300Z"
   },
   {
    "duration": 0,
    "start_time": "2023-04-30T14:58:46.302Z"
   },
   {
    "duration": 0,
    "start_time": "2023-04-30T14:58:46.303Z"
   },
   {
    "duration": 0,
    "start_time": "2023-04-30T14:58:46.304Z"
   },
   {
    "duration": 59,
    "start_time": "2023-04-30T15:00:56.214Z"
   },
   {
    "duration": 16,
    "start_time": "2023-04-30T15:24:30.322Z"
   },
   {
    "duration": 6,
    "start_time": "2023-04-30T15:24:30.818Z"
   },
   {
    "duration": 734,
    "start_time": "2023-04-30T15:24:31.345Z"
   },
   {
    "duration": 941,
    "start_time": "2023-04-30T15:25:14.158Z"
   },
   {
    "duration": 881,
    "start_time": "2023-04-30T15:25:24.225Z"
   },
   {
    "duration": 818,
    "start_time": "2023-04-30T15:25:29.531Z"
   },
   {
    "duration": 874,
    "start_time": "2023-04-30T15:25:59.226Z"
   },
   {
    "duration": 24,
    "start_time": "2023-04-30T15:26:19.134Z"
   },
   {
    "duration": 4,
    "start_time": "2023-04-30T15:26:29.526Z"
   },
   {
    "duration": 22,
    "start_time": "2023-04-30T15:26:30.831Z"
   },
   {
    "duration": 4,
    "start_time": "2023-04-30T15:26:49.055Z"
   },
   {
    "duration": 4,
    "start_time": "2023-04-30T15:27:08.560Z"
   },
   {
    "duration": 14,
    "start_time": "2023-04-30T15:27:35.130Z"
   },
   {
    "duration": 12,
    "start_time": "2023-04-30T15:28:01.490Z"
   },
   {
    "duration": 11,
    "start_time": "2023-04-30T15:28:29.170Z"
   },
   {
    "duration": 1737,
    "start_time": "2023-04-30T15:28:43.922Z"
   },
   {
    "duration": 1285,
    "start_time": "2023-04-30T15:28:45.662Z"
   },
   {
    "duration": 44,
    "start_time": "2023-04-30T15:28:46.949Z"
   },
   {
    "duration": 6,
    "start_time": "2023-04-30T15:28:46.996Z"
   },
   {
    "duration": 36,
    "start_time": "2023-04-30T15:28:47.006Z"
   },
   {
    "duration": 9,
    "start_time": "2023-04-30T15:28:47.044Z"
   },
   {
    "duration": 6,
    "start_time": "2023-04-30T15:28:47.055Z"
   },
   {
    "duration": 7,
    "start_time": "2023-04-30T15:28:47.064Z"
   },
   {
    "duration": 29,
    "start_time": "2023-04-30T15:28:47.074Z"
   },
   {
    "duration": 68,
    "start_time": "2023-04-30T15:28:47.106Z"
   },
   {
    "duration": 5,
    "start_time": "2023-04-30T15:28:47.177Z"
   },
   {
    "duration": 20,
    "start_time": "2023-04-30T15:28:47.185Z"
   },
   {
    "duration": 10,
    "start_time": "2023-04-30T15:28:47.207Z"
   },
   {
    "duration": 54,
    "start_time": "2023-04-30T15:28:47.221Z"
   },
   {
    "duration": 12,
    "start_time": "2023-04-30T15:28:47.277Z"
   },
   {
    "duration": 54,
    "start_time": "2023-04-30T15:28:47.291Z"
   },
   {
    "duration": 12,
    "start_time": "2023-04-30T15:28:47.348Z"
   },
   {
    "duration": 13,
    "start_time": "2023-04-30T15:28:47.362Z"
   },
   {
    "duration": 11,
    "start_time": "2023-04-30T15:28:47.378Z"
   },
   {
    "duration": 1716,
    "start_time": "2023-04-30T15:28:47.391Z"
   },
   {
    "duration": 1408,
    "start_time": "2023-04-30T15:28:49.110Z"
   },
   {
    "duration": 1420,
    "start_time": "2023-04-30T15:28:50.521Z"
   },
   {
    "duration": 10,
    "start_time": "2023-04-30T15:28:51.943Z"
   },
   {
    "duration": 844,
    "start_time": "2023-04-30T15:28:51.956Z"
   },
   {
    "duration": 10,
    "start_time": "2023-04-30T15:28:52.803Z"
   },
   {
    "duration": 737,
    "start_time": "2023-04-30T15:28:52.815Z"
   },
   {
    "duration": 5,
    "start_time": "2023-04-30T15:28:53.554Z"
   },
   {
    "duration": 871,
    "start_time": "2023-04-30T15:28:53.561Z"
   },
   {
    "duration": 14,
    "start_time": "2023-04-30T15:28:54.434Z"
   },
   {
    "duration": 4,
    "start_time": "2023-04-30T15:28:54.451Z"
   },
   {
    "duration": 794,
    "start_time": "2023-04-30T15:28:54.457Z"
   },
   {
    "duration": 12,
    "start_time": "2023-04-30T15:28:55.253Z"
   },
   {
    "duration": 11,
    "start_time": "2023-04-30T15:28:55.267Z"
   },
   {
    "duration": 806,
    "start_time": "2023-04-30T15:28:55.280Z"
   },
   {
    "duration": 7,
    "start_time": "2023-04-30T15:28:56.088Z"
   },
   {
    "duration": 1017,
    "start_time": "2023-04-30T15:28:56.097Z"
   },
   {
    "duration": 24,
    "start_time": "2023-04-30T15:28:57.117Z"
   },
   {
    "duration": 8,
    "start_time": "2023-04-30T15:28:57.143Z"
   },
   {
    "duration": 831,
    "start_time": "2023-04-30T15:28:57.153Z"
   },
   {
    "duration": 5,
    "start_time": "2023-04-30T15:28:57.987Z"
   },
   {
    "duration": 10,
    "start_time": "2023-04-30T15:28:57.997Z"
   },
   {
    "duration": 177,
    "start_time": "2023-04-30T15:28:58.010Z"
   },
   {
    "duration": 0,
    "start_time": "2023-04-30T15:28:58.190Z"
   },
   {
    "duration": 0,
    "start_time": "2023-04-30T15:28:58.192Z"
   },
   {
    "duration": 0,
    "start_time": "2023-04-30T15:28:58.193Z"
   },
   {
    "duration": 0,
    "start_time": "2023-04-30T15:28:58.195Z"
   },
   {
    "duration": 0,
    "start_time": "2023-04-30T15:28:58.196Z"
   },
   {
    "duration": 0,
    "start_time": "2023-04-30T15:28:58.197Z"
   },
   {
    "duration": 0,
    "start_time": "2023-04-30T15:28:58.199Z"
   },
   {
    "duration": 0,
    "start_time": "2023-04-30T15:28:58.200Z"
   },
   {
    "duration": 16,
    "start_time": "2023-04-30T15:30:50.234Z"
   },
   {
    "duration": 6,
    "start_time": "2023-04-30T15:30:50.533Z"
   },
   {
    "duration": 940,
    "start_time": "2023-04-30T15:30:51.482Z"
   },
   {
    "duration": 5,
    "start_time": "2023-04-30T15:30:58.779Z"
   },
   {
    "duration": 1119,
    "start_time": "2023-04-30T15:30:59.883Z"
   },
   {
    "duration": 14,
    "start_time": "2023-04-30T15:31:01.004Z"
   },
   {
    "duration": 6,
    "start_time": "2023-04-30T15:31:05.481Z"
   },
   {
    "duration": 923,
    "start_time": "2023-04-30T15:31:06.108Z"
   },
   {
    "duration": 4,
    "start_time": "2023-04-30T15:31:07.033Z"
   },
   {
    "duration": 23,
    "start_time": "2023-04-30T15:31:53.163Z"
   },
   {
    "duration": 21,
    "start_time": "2023-04-30T15:31:58.789Z"
   },
   {
    "duration": 9,
    "start_time": "2023-04-30T15:32:10.139Z"
   },
   {
    "duration": 31,
    "start_time": "2023-04-30T15:33:52.618Z"
   },
   {
    "duration": 1725,
    "start_time": "2023-04-30T15:35:41.319Z"
   },
   {
    "duration": 854,
    "start_time": "2023-04-30T15:35:43.047Z"
   },
   {
    "duration": 44,
    "start_time": "2023-04-30T15:35:43.903Z"
   },
   {
    "duration": 6,
    "start_time": "2023-04-30T15:35:43.950Z"
   },
   {
    "duration": 15,
    "start_time": "2023-04-30T15:35:43.960Z"
   },
   {
    "duration": 7,
    "start_time": "2023-04-30T15:35:43.978Z"
   },
   {
    "duration": 11,
    "start_time": "2023-04-30T15:35:43.989Z"
   },
   {
    "duration": 38,
    "start_time": "2023-04-30T15:35:44.003Z"
   },
   {
    "duration": 25,
    "start_time": "2023-04-30T15:35:44.044Z"
   },
   {
    "duration": 33,
    "start_time": "2023-04-30T15:35:44.071Z"
   },
   {
    "duration": 4,
    "start_time": "2023-04-30T15:35:44.107Z"
   },
   {
    "duration": 40,
    "start_time": "2023-04-30T15:35:44.113Z"
   },
   {
    "duration": 11,
    "start_time": "2023-04-30T15:35:44.156Z"
   },
   {
    "duration": 30,
    "start_time": "2023-04-30T15:35:44.172Z"
   },
   {
    "duration": 37,
    "start_time": "2023-04-30T15:35:44.204Z"
   },
   {
    "duration": 17,
    "start_time": "2023-04-30T15:35:44.244Z"
   },
   {
    "duration": 15,
    "start_time": "2023-04-30T15:35:44.264Z"
   },
   {
    "duration": 12,
    "start_time": "2023-04-30T15:35:44.282Z"
   },
   {
    "duration": 51,
    "start_time": "2023-04-30T15:35:44.298Z"
   },
   {
    "duration": 1467,
    "start_time": "2023-04-30T15:35:44.352Z"
   },
   {
    "duration": 1205,
    "start_time": "2023-04-30T15:35:45.824Z"
   },
   {
    "duration": 2309,
    "start_time": "2023-04-30T15:35:47.032Z"
   },
   {
    "duration": 11,
    "start_time": "2023-04-30T15:35:49.344Z"
   },
   {
    "duration": 1864,
    "start_time": "2023-04-30T15:35:49.358Z"
   },
   {
    "duration": 21,
    "start_time": "2023-04-30T15:35:51.226Z"
   },
   {
    "duration": 1068,
    "start_time": "2023-04-30T15:35:51.251Z"
   },
   {
    "duration": 6,
    "start_time": "2023-04-30T15:35:52.322Z"
   },
   {
    "duration": 1248,
    "start_time": "2023-04-30T15:35:52.330Z"
   },
   {
    "duration": 15,
    "start_time": "2023-04-30T15:35:53.580Z"
   },
   {
    "duration": 6,
    "start_time": "2023-04-30T15:35:53.598Z"
   },
   {
    "duration": 865,
    "start_time": "2023-04-30T15:35:53.607Z"
   },
   {
    "duration": 14,
    "start_time": "2023-04-30T15:35:54.475Z"
   },
   {
    "duration": 7,
    "start_time": "2023-04-30T15:35:54.492Z"
   },
   {
    "duration": 752,
    "start_time": "2023-04-30T15:35:54.502Z"
   },
   {
    "duration": 7,
    "start_time": "2023-04-30T15:35:55.257Z"
   },
   {
    "duration": 1113,
    "start_time": "2023-04-30T15:35:55.266Z"
   },
   {
    "duration": 16,
    "start_time": "2023-04-30T15:35:56.382Z"
   },
   {
    "duration": 39,
    "start_time": "2023-04-30T15:35:56.401Z"
   },
   {
    "duration": 927,
    "start_time": "2023-04-30T15:35:56.442Z"
   },
   {
    "duration": 27,
    "start_time": "2023-04-30T15:35:57.371Z"
   },
   {
    "duration": 7,
    "start_time": "2023-04-30T15:35:57.405Z"
   },
   {
    "duration": 148,
    "start_time": "2023-04-30T15:35:57.441Z"
   },
   {
    "duration": 0,
    "start_time": "2023-04-30T15:35:57.592Z"
   },
   {
    "duration": 0,
    "start_time": "2023-04-30T15:35:57.597Z"
   },
   {
    "duration": 0,
    "start_time": "2023-04-30T15:35:57.599Z"
   },
   {
    "duration": 0,
    "start_time": "2023-04-30T15:35:57.600Z"
   },
   {
    "duration": 0,
    "start_time": "2023-04-30T15:35:57.602Z"
   },
   {
    "duration": 0,
    "start_time": "2023-04-30T15:35:57.603Z"
   },
   {
    "duration": 0,
    "start_time": "2023-04-30T15:35:57.605Z"
   },
   {
    "duration": 0,
    "start_time": "2023-04-30T15:35:57.606Z"
   },
   {
    "duration": 10,
    "start_time": "2023-04-30T16:00:25.239Z"
   },
   {
    "duration": 5,
    "start_time": "2023-04-30T16:00:25.429Z"
   },
   {
    "duration": 6,
    "start_time": "2023-04-30T16:00:29.257Z"
   },
   {
    "duration": 948,
    "start_time": "2023-04-30T16:15:24.260Z"
   },
   {
    "duration": 1671,
    "start_time": "2023-04-30T16:56:30.781Z"
   },
   {
    "duration": 955,
    "start_time": "2023-04-30T16:56:32.463Z"
   },
   {
    "duration": 48,
    "start_time": "2023-04-30T16:56:33.420Z"
   },
   {
    "duration": 5,
    "start_time": "2023-04-30T16:56:33.470Z"
   },
   {
    "duration": 44,
    "start_time": "2023-04-30T16:56:33.478Z"
   },
   {
    "duration": 22,
    "start_time": "2023-04-30T16:56:33.524Z"
   },
   {
    "duration": 39,
    "start_time": "2023-04-30T16:56:33.548Z"
   },
   {
    "duration": 23,
    "start_time": "2023-04-30T16:56:33.589Z"
   },
   {
    "duration": 74,
    "start_time": "2023-04-30T16:56:33.614Z"
   },
   {
    "duration": 27,
    "start_time": "2023-04-30T16:56:33.690Z"
   },
   {
    "duration": 66,
    "start_time": "2023-04-30T16:56:33.719Z"
   },
   {
    "duration": 65,
    "start_time": "2023-04-30T16:56:33.788Z"
   },
   {
    "duration": 40,
    "start_time": "2023-04-30T16:56:33.855Z"
   },
   {
    "duration": 44,
    "start_time": "2023-04-30T16:56:33.899Z"
   },
   {
    "duration": 22,
    "start_time": "2023-04-30T16:56:33.950Z"
   },
   {
    "duration": 41,
    "start_time": "2023-04-30T16:56:33.974Z"
   },
   {
    "duration": 33,
    "start_time": "2023-04-30T16:56:34.017Z"
   },
   {
    "duration": 42,
    "start_time": "2023-04-30T16:56:34.052Z"
   },
   {
    "duration": 12,
    "start_time": "2023-04-30T16:56:34.096Z"
   },
   {
    "duration": 1420,
    "start_time": "2023-04-30T16:56:34.111Z"
   },
   {
    "duration": 1384,
    "start_time": "2023-04-30T16:56:35.533Z"
   },
   {
    "duration": 1254,
    "start_time": "2023-04-30T16:56:36.919Z"
   },
   {
    "duration": 12,
    "start_time": "2023-04-30T16:56:38.175Z"
   },
   {
    "duration": 843,
    "start_time": "2023-04-30T16:56:38.189Z"
   },
   {
    "duration": 24,
    "start_time": "2023-04-30T16:56:39.034Z"
   },
   {
    "duration": 863,
    "start_time": "2023-04-30T16:56:39.061Z"
   },
   {
    "duration": 18,
    "start_time": "2023-04-30T16:56:39.927Z"
   },
   {
    "duration": 953,
    "start_time": "2023-04-30T16:56:39.947Z"
   },
   {
    "duration": 13,
    "start_time": "2023-04-30T16:56:40.903Z"
   },
   {
    "duration": 28,
    "start_time": "2023-04-30T16:56:40.919Z"
   },
   {
    "duration": 807,
    "start_time": "2023-04-30T16:56:40.949Z"
   },
   {
    "duration": 15,
    "start_time": "2023-04-30T16:56:41.764Z"
   },
   {
    "duration": 14,
    "start_time": "2023-04-30T16:56:41.781Z"
   },
   {
    "duration": 1467,
    "start_time": "2023-04-30T16:56:41.798Z"
   },
   {
    "duration": 18,
    "start_time": "2023-04-30T16:56:43.277Z"
   },
   {
    "duration": 2179,
    "start_time": "2023-04-30T16:56:43.305Z"
   },
   {
    "duration": 14,
    "start_time": "2023-04-30T16:56:45.487Z"
   },
   {
    "duration": 6,
    "start_time": "2023-04-30T16:56:45.503Z"
   },
   {
    "duration": 1066,
    "start_time": "2023-04-30T16:56:45.511Z"
   },
   {
    "duration": 27,
    "start_time": "2023-04-30T16:56:46.586Z"
   },
   {
    "duration": 76,
    "start_time": "2023-04-30T16:56:46.617Z"
   },
   {
    "duration": 0,
    "start_time": "2023-04-30T16:56:46.695Z"
   },
   {
    "duration": 0,
    "start_time": "2023-04-30T16:56:46.697Z"
   },
   {
    "duration": 0,
    "start_time": "2023-04-30T16:56:46.699Z"
   },
   {
    "duration": 0,
    "start_time": "2023-04-30T16:56:46.701Z"
   },
   {
    "duration": 0,
    "start_time": "2023-04-30T16:56:46.703Z"
   },
   {
    "duration": 0,
    "start_time": "2023-04-30T16:56:46.705Z"
   },
   {
    "duration": 0,
    "start_time": "2023-04-30T16:56:46.707Z"
   },
   {
    "duration": 0,
    "start_time": "2023-04-30T16:56:46.709Z"
   },
   {
    "duration": 0,
    "start_time": "2023-04-30T16:56:46.711Z"
   },
   {
    "duration": 0,
    "start_time": "2023-04-30T16:56:46.712Z"
   },
   {
    "duration": 72,
    "start_time": "2023-04-30T16:57:45.224Z"
   },
   {
    "duration": 68,
    "start_time": "2023-04-30T16:58:29.397Z"
   },
   {
    "duration": 59,
    "start_time": "2023-04-30T16:58:59.569Z"
   },
   {
    "duration": 6,
    "start_time": "2023-04-30T16:59:06.202Z"
   },
   {
    "duration": 1380,
    "start_time": "2023-04-30T16:59:12.142Z"
   },
   {
    "duration": 2238,
    "start_time": "2023-04-30T16:59:54.302Z"
   },
   {
    "duration": 53,
    "start_time": "2023-04-30T17:24:47.082Z"
   },
   {
    "duration": 4,
    "start_time": "2023-04-30T17:24:47.487Z"
   },
   {
    "duration": 55,
    "start_time": "2023-04-30T17:24:56.470Z"
   },
   {
    "duration": 102,
    "start_time": "2023-04-30T17:25:11.462Z"
   },
   {
    "duration": 3,
    "start_time": "2023-04-30T17:25:40.919Z"
   },
   {
    "duration": 3,
    "start_time": "2023-04-30T17:25:59.824Z"
   },
   {
    "duration": 3,
    "start_time": "2023-04-30T17:26:00.011Z"
   },
   {
    "duration": 4,
    "start_time": "2023-04-30T19:06:09.927Z"
   },
   {
    "duration": 4,
    "start_time": "2023-04-30T19:26:10.858Z"
   },
   {
    "duration": 43,
    "start_time": "2023-04-30T19:29:10.860Z"
   },
   {
    "duration": 49,
    "start_time": "2023-04-30T19:29:43.570Z"
   },
   {
    "duration": 854,
    "start_time": "2023-04-30T19:29:56.963Z"
   },
   {
    "duration": 449,
    "start_time": "2023-04-30T19:30:17.459Z"
   },
   {
    "duration": 439,
    "start_time": "2023-04-30T19:30:41.554Z"
   },
   {
    "duration": 474,
    "start_time": "2023-04-30T19:30:58.932Z"
   },
   {
    "duration": 453,
    "start_time": "2023-04-30T19:31:02.679Z"
   },
   {
    "duration": 600,
    "start_time": "2023-04-30T19:32:14.476Z"
   },
   {
    "duration": 458,
    "start_time": "2023-04-30T19:32:22.295Z"
   },
   {
    "duration": 475,
    "start_time": "2023-04-30T19:32:35.997Z"
   },
   {
    "duration": 446,
    "start_time": "2023-04-30T19:32:42.391Z"
   },
   {
    "duration": 426,
    "start_time": "2023-04-30T19:37:37.764Z"
   },
   {
    "duration": 6,
    "start_time": "2023-04-30T19:38:06.200Z"
   },
   {
    "duration": 21,
    "start_time": "2023-04-30T19:38:13.703Z"
   },
   {
    "duration": 18,
    "start_time": "2023-04-30T19:38:14.684Z"
   },
   {
    "duration": 422,
    "start_time": "2023-04-30T19:38:32.457Z"
   },
   {
    "duration": 445,
    "start_time": "2023-04-30T19:43:24.592Z"
   },
   {
    "duration": 450,
    "start_time": "2023-04-30T19:43:39.515Z"
   },
   {
    "duration": 480,
    "start_time": "2023-04-30T19:44:01.162Z"
   },
   {
    "duration": 4,
    "start_time": "2023-04-30T19:44:19.914Z"
   },
   {
    "duration": 4,
    "start_time": "2023-04-30T19:44:20.811Z"
   },
   {
    "duration": 530,
    "start_time": "2023-04-30T19:44:56.194Z"
   },
   {
    "duration": 466,
    "start_time": "2023-04-30T19:45:02.307Z"
   },
   {
    "duration": 506,
    "start_time": "2023-04-30T19:45:25.777Z"
   },
   {
    "duration": 89,
    "start_time": "2023-04-30T19:45:40.709Z"
   },
   {
    "duration": 451,
    "start_time": "2023-04-30T19:45:48.482Z"
   },
   {
    "duration": 458,
    "start_time": "2023-04-30T19:46:12.354Z"
   },
   {
    "duration": 456,
    "start_time": "2023-04-30T19:46:20.167Z"
   },
   {
    "duration": 430,
    "start_time": "2023-04-30T19:46:33.765Z"
   },
   {
    "duration": 1073,
    "start_time": "2023-04-30T19:48:35.889Z"
   },
   {
    "duration": 463,
    "start_time": "2023-04-30T19:48:56.759Z"
   },
   {
    "duration": 2149,
    "start_time": "2023-04-30T19:49:13.682Z"
   },
   {
    "duration": 15,
    "start_time": "2023-04-30T20:16:42.829Z"
   },
   {
    "duration": 2057,
    "start_time": "2023-04-30T20:16:53.424Z"
   },
   {
    "duration": 426,
    "start_time": "2023-04-30T20:17:12.351Z"
   },
   {
    "duration": 430,
    "start_time": "2023-04-30T20:18:43.642Z"
   },
   {
    "duration": 1666,
    "start_time": "2023-04-30T20:19:49.778Z"
   },
   {
    "duration": 768,
    "start_time": "2023-04-30T20:19:51.446Z"
   },
   {
    "duration": 49,
    "start_time": "2023-04-30T20:19:52.217Z"
   },
   {
    "duration": 15,
    "start_time": "2023-04-30T20:19:52.270Z"
   },
   {
    "duration": 18,
    "start_time": "2023-04-30T20:19:52.287Z"
   },
   {
    "duration": 10,
    "start_time": "2023-04-30T20:19:52.307Z"
   },
   {
    "duration": 28,
    "start_time": "2023-04-30T20:19:52.319Z"
   },
   {
    "duration": 21,
    "start_time": "2023-04-30T20:19:52.349Z"
   },
   {
    "duration": 38,
    "start_time": "2023-04-30T20:19:52.373Z"
   },
   {
    "duration": 29,
    "start_time": "2023-04-30T20:19:52.415Z"
   },
   {
    "duration": 16,
    "start_time": "2023-04-30T20:19:52.446Z"
   },
   {
    "duration": 17,
    "start_time": "2023-04-30T20:19:52.464Z"
   },
   {
    "duration": 20,
    "start_time": "2023-04-30T20:19:52.483Z"
   },
   {
    "duration": 44,
    "start_time": "2023-04-30T20:19:52.506Z"
   },
   {
    "duration": 16,
    "start_time": "2023-04-30T20:19:52.553Z"
   },
   {
    "duration": 27,
    "start_time": "2023-04-30T20:19:52.571Z"
   },
   {
    "duration": 41,
    "start_time": "2023-04-30T20:19:52.601Z"
   },
   {
    "duration": 24,
    "start_time": "2023-04-30T20:19:52.645Z"
   },
   {
    "duration": 17,
    "start_time": "2023-04-30T20:19:52.672Z"
   },
   {
    "duration": 1432,
    "start_time": "2023-04-30T20:19:52.691Z"
   },
   {
    "duration": 1206,
    "start_time": "2023-04-30T20:19:54.125Z"
   },
   {
    "duration": 1293,
    "start_time": "2023-04-30T20:19:55.340Z"
   },
   {
    "duration": 13,
    "start_time": "2023-04-30T20:19:56.635Z"
   },
   {
    "duration": 809,
    "start_time": "2023-04-30T20:19:56.650Z"
   },
   {
    "duration": 8,
    "start_time": "2023-04-30T20:19:57.461Z"
   },
   {
    "duration": 743,
    "start_time": "2023-04-30T20:19:57.472Z"
   },
   {
    "duration": 7,
    "start_time": "2023-04-30T20:19:58.217Z"
   },
   {
    "duration": 782,
    "start_time": "2023-04-30T20:19:58.240Z"
   },
   {
    "duration": 22,
    "start_time": "2023-04-30T20:19:59.024Z"
   },
   {
    "duration": 12,
    "start_time": "2023-04-30T20:19:59.049Z"
   },
   {
    "duration": 894,
    "start_time": "2023-04-30T20:19:59.065Z"
   },
   {
    "duration": 14,
    "start_time": "2023-04-30T20:19:59.964Z"
   },
   {
    "duration": 5,
    "start_time": "2023-04-30T20:19:59.980Z"
   },
   {
    "duration": 820,
    "start_time": "2023-04-30T20:19:59.987Z"
   },
   {
    "duration": 7,
    "start_time": "2023-04-30T20:20:00.809Z"
   },
   {
    "duration": 1031,
    "start_time": "2023-04-30T20:20:00.818Z"
   },
   {
    "duration": 14,
    "start_time": "2023-04-30T20:20:01.851Z"
   },
   {
    "duration": 201,
    "start_time": "2023-04-30T20:20:01.868Z"
   },
   {
    "duration": 889,
    "start_time": "2023-04-30T20:20:02.073Z"
   },
   {
    "duration": 27,
    "start_time": "2023-04-30T20:20:02.964Z"
   },
   {
    "duration": 5,
    "start_time": "2023-04-30T20:20:02.994Z"
   },
   {
    "duration": 68,
    "start_time": "2023-04-30T20:20:03.002Z"
   },
   {
    "duration": 2152,
    "start_time": "2023-04-30T20:20:03.073Z"
   },
   {
    "duration": 2887,
    "start_time": "2023-04-30T20:20:05.228Z"
   },
   {
    "duration": 0,
    "start_time": "2023-04-30T20:20:08.118Z"
   },
   {
    "duration": 0,
    "start_time": "2023-04-30T20:20:08.120Z"
   },
   {
    "duration": 0,
    "start_time": "2023-04-30T20:20:08.122Z"
   },
   {
    "duration": 0,
    "start_time": "2023-04-30T20:20:08.123Z"
   },
   {
    "duration": 0,
    "start_time": "2023-04-30T20:20:08.125Z"
   },
   {
    "duration": 0,
    "start_time": "2023-04-30T20:20:08.127Z"
   },
   {
    "duration": 0,
    "start_time": "2023-04-30T20:20:08.129Z"
   },
   {
    "duration": 2267,
    "start_time": "2023-04-30T20:21:40.260Z"
   },
   {
    "duration": 2256,
    "start_time": "2023-04-30T20:22:20.913Z"
   },
   {
    "duration": 2244,
    "start_time": "2023-04-30T20:23:03.782Z"
   },
   {
    "duration": 2212,
    "start_time": "2023-04-30T20:23:50.860Z"
   },
   {
    "duration": 2017,
    "start_time": "2023-04-30T20:31:47.553Z"
   },
   {
    "duration": 2013,
    "start_time": "2023-04-30T20:31:51.925Z"
   },
   {
    "duration": 2026,
    "start_time": "2023-04-30T20:31:56.392Z"
   },
   {
    "duration": 1991,
    "start_time": "2023-04-30T20:32:06.993Z"
   },
   {
    "duration": 2068,
    "start_time": "2023-04-30T20:32:08.986Z"
   },
   {
    "duration": 74459,
    "start_time": "2023-04-30T20:33:01.603Z"
   },
   {
    "duration": 75778,
    "start_time": "2023-04-30T20:34:16.065Z"
   },
   {
    "duration": 73231,
    "start_time": "2023-04-30T20:36:02.572Z"
   },
   {
    "duration": 74539,
    "start_time": "2023-04-30T20:37:15.805Z"
   },
   {
    "duration": 73724,
    "start_time": "2023-04-30T20:39:26.458Z"
   },
   {
    "duration": 1771,
    "start_time": "2023-04-30T20:41:55.758Z"
   },
   {
    "duration": 778,
    "start_time": "2023-04-30T20:41:57.532Z"
   },
   {
    "duration": 36,
    "start_time": "2023-04-30T20:41:58.313Z"
   },
   {
    "duration": 4,
    "start_time": "2023-04-30T20:41:58.351Z"
   },
   {
    "duration": 13,
    "start_time": "2023-04-30T20:41:58.358Z"
   },
   {
    "duration": 11,
    "start_time": "2023-04-30T20:41:58.373Z"
   },
   {
    "duration": 10,
    "start_time": "2023-04-30T20:41:58.386Z"
   },
   {
    "duration": 15,
    "start_time": "2023-04-30T20:41:58.399Z"
   },
   {
    "duration": 40,
    "start_time": "2023-04-30T20:41:58.416Z"
   },
   {
    "duration": 25,
    "start_time": "2023-04-30T20:41:58.459Z"
   },
   {
    "duration": 8,
    "start_time": "2023-04-30T20:41:58.487Z"
   },
   {
    "duration": 12,
    "start_time": "2023-04-30T20:41:58.498Z"
   },
   {
    "duration": 6,
    "start_time": "2023-04-30T20:41:58.542Z"
   },
   {
    "duration": 25,
    "start_time": "2023-04-30T20:41:58.554Z"
   },
   {
    "duration": 14,
    "start_time": "2023-04-30T20:41:58.582Z"
   },
   {
    "duration": 55,
    "start_time": "2023-04-30T20:41:58.599Z"
   },
   {
    "duration": 12,
    "start_time": "2023-04-30T20:41:58.656Z"
   },
   {
    "duration": 15,
    "start_time": "2023-04-30T20:41:58.670Z"
   },
   {
    "duration": 11,
    "start_time": "2023-04-30T20:41:58.687Z"
   },
   {
    "duration": 1267,
    "start_time": "2023-04-30T20:41:58.700Z"
   },
   {
    "duration": 1261,
    "start_time": "2023-04-30T20:41:59.969Z"
   },
   {
    "duration": 1206,
    "start_time": "2023-04-30T20:42:01.233Z"
   },
   {
    "duration": 9,
    "start_time": "2023-04-30T20:42:02.442Z"
   },
   {
    "duration": 753,
    "start_time": "2023-04-30T20:42:02.453Z"
   },
   {
    "duration": 12,
    "start_time": "2023-04-30T20:42:03.209Z"
   },
   {
    "duration": 696,
    "start_time": "2023-04-30T20:42:03.225Z"
   },
   {
    "duration": 6,
    "start_time": "2023-04-30T20:42:03.923Z"
   },
   {
    "duration": 819,
    "start_time": "2023-04-30T20:42:03.940Z"
   },
   {
    "duration": 11,
    "start_time": "2023-04-30T20:42:04.761Z"
   },
   {
    "duration": 18,
    "start_time": "2023-04-30T20:42:04.775Z"
   },
   {
    "duration": 880,
    "start_time": "2023-04-30T20:42:04.795Z"
   },
   {
    "duration": 15,
    "start_time": "2023-04-30T20:42:05.677Z"
   },
   {
    "duration": 35,
    "start_time": "2023-04-30T20:42:05.694Z"
   },
   {
    "duration": 803,
    "start_time": "2023-04-30T20:42:05.731Z"
   },
   {
    "duration": 7,
    "start_time": "2023-04-30T20:42:06.541Z"
   },
   {
    "duration": 898,
    "start_time": "2023-04-30T20:42:06.552Z"
   },
   {
    "duration": 13,
    "start_time": "2023-04-30T20:42:07.453Z"
   },
   {
    "duration": 15,
    "start_time": "2023-04-30T20:42:07.468Z"
   },
   {
    "duration": 750,
    "start_time": "2023-04-30T20:42:07.485Z"
   },
   {
    "duration": 24,
    "start_time": "2023-04-30T20:42:08.237Z"
   },
   {
    "duration": 5,
    "start_time": "2023-04-30T20:42:08.266Z"
   },
   {
    "duration": 43,
    "start_time": "2023-04-30T20:42:08.273Z"
   },
   {
    "duration": 2075,
    "start_time": "2023-04-30T20:42:08.318Z"
   },
   {
    "duration": 2094,
    "start_time": "2023-04-30T20:42:10.395Z"
   },
   {
    "duration": 76069,
    "start_time": "2023-04-30T20:42:12.492Z"
   },
   {
    "duration": 75944,
    "start_time": "2023-04-30T20:43:28.563Z"
   },
   {
    "duration": 1841,
    "start_time": "2023-04-30T20:44:44.509Z"
   },
   {
    "duration": 2004,
    "start_time": "2023-04-30T20:44:46.440Z"
   },
   {
    "duration": 320,
    "start_time": "2023-04-30T20:44:48.447Z"
   },
   {
    "duration": 0,
    "start_time": "2023-04-30T20:44:48.769Z"
   },
   {
    "duration": 0,
    "start_time": "2023-04-30T20:44:48.771Z"
   },
   {
    "duration": 2070,
    "start_time": "2023-04-30T20:45:45.672Z"
   },
   {
    "duration": 1998,
    "start_time": "2023-04-30T20:45:47.745Z"
   },
   {
    "duration": 5,
    "start_time": "2023-04-30T20:54:43.534Z"
   },
   {
    "duration": 26,
    "start_time": "2023-04-30T20:54:51.522Z"
   },
   {
    "duration": 16,
    "start_time": "2023-04-30T20:58:46.380Z"
   },
   {
    "duration": 20,
    "start_time": "2023-04-30T20:59:13.448Z"
   },
   {
    "duration": 1625,
    "start_time": "2023-04-30T20:59:40.212Z"
   },
   {
    "duration": 8,
    "start_time": "2023-04-30T21:00:31.925Z"
   },
   {
    "duration": 9,
    "start_time": "2023-04-30T21:00:34.790Z"
   },
   {
    "duration": 26,
    "start_time": "2023-04-30T21:00:42.300Z"
   },
   {
    "duration": 1653,
    "start_time": "2023-04-30T21:28:32.328Z"
   },
   {
    "duration": 764,
    "start_time": "2023-04-30T21:28:33.984Z"
   },
   {
    "duration": 30,
    "start_time": "2023-04-30T21:28:34.751Z"
   },
   {
    "duration": 5,
    "start_time": "2023-04-30T21:28:34.783Z"
   },
   {
    "duration": 19,
    "start_time": "2023-04-30T21:28:34.791Z"
   },
   {
    "duration": 12,
    "start_time": "2023-04-30T21:28:34.812Z"
   },
   {
    "duration": 11,
    "start_time": "2023-04-30T21:28:34.841Z"
   },
   {
    "duration": 14,
    "start_time": "2023-04-30T21:28:34.854Z"
   },
   {
    "duration": 21,
    "start_time": "2023-04-30T21:28:34.870Z"
   },
   {
    "duration": 35,
    "start_time": "2023-04-30T21:28:34.893Z"
   },
   {
    "duration": 4,
    "start_time": "2023-04-30T21:28:34.930Z"
   },
   {
    "duration": 10,
    "start_time": "2023-04-30T21:28:34.941Z"
   },
   {
    "duration": 13,
    "start_time": "2023-04-30T21:28:34.953Z"
   },
   {
    "duration": 30,
    "start_time": "2023-04-30T21:28:34.969Z"
   },
   {
    "duration": 14,
    "start_time": "2023-04-30T21:28:35.001Z"
   },
   {
    "duration": 36,
    "start_time": "2023-04-30T21:28:35.017Z"
   },
   {
    "duration": 10,
    "start_time": "2023-04-30T21:28:35.055Z"
   },
   {
    "duration": 18,
    "start_time": "2023-04-30T21:28:35.067Z"
   },
   {
    "duration": 11,
    "start_time": "2023-04-30T21:28:35.088Z"
   },
   {
    "duration": 1375,
    "start_time": "2023-04-30T21:28:35.101Z"
   },
   {
    "duration": 1304,
    "start_time": "2023-04-30T21:28:36.479Z"
   },
   {
    "duration": 1462,
    "start_time": "2023-04-30T21:28:37.785Z"
   },
   {
    "duration": 11,
    "start_time": "2023-04-30T21:28:39.253Z"
   },
   {
    "duration": 830,
    "start_time": "2023-04-30T21:28:39.266Z"
   },
   {
    "duration": 10,
    "start_time": "2023-04-30T21:28:40.099Z"
   },
   {
    "duration": 697,
    "start_time": "2023-04-30T21:28:40.111Z"
   },
   {
    "duration": 5,
    "start_time": "2023-04-30T21:28:40.810Z"
   },
   {
    "duration": 920,
    "start_time": "2023-04-30T21:28:40.818Z"
   },
   {
    "duration": 12,
    "start_time": "2023-04-30T21:28:41.739Z"
   },
   {
    "duration": 12,
    "start_time": "2023-04-30T21:28:41.754Z"
   },
   {
    "duration": 799,
    "start_time": "2023-04-30T21:28:41.768Z"
   },
   {
    "duration": 16,
    "start_time": "2023-04-30T21:28:42.570Z"
   },
   {
    "duration": 33,
    "start_time": "2023-04-30T21:28:42.589Z"
   },
   {
    "duration": 773,
    "start_time": "2023-04-30T21:28:42.624Z"
   },
   {
    "duration": 6,
    "start_time": "2023-04-30T21:28:43.399Z"
   },
   {
    "duration": 995,
    "start_time": "2023-04-30T21:28:43.407Z"
   },
   {
    "duration": 14,
    "start_time": "2023-04-30T21:28:44.404Z"
   },
   {
    "duration": 20,
    "start_time": "2023-04-30T21:28:44.421Z"
   },
   {
    "duration": 938,
    "start_time": "2023-04-30T21:28:44.444Z"
   },
   {
    "duration": 78,
    "start_time": "2023-04-30T21:28:45.384Z"
   },
   {
    "duration": 4,
    "start_time": "2023-04-30T21:28:45.466Z"
   },
   {
    "duration": 22,
    "start_time": "2023-04-30T21:28:45.472Z"
   },
   {
    "duration": 12,
    "start_time": "2023-04-30T21:28:45.542Z"
   },
   {
    "duration": 7,
    "start_time": "2023-04-30T21:28:45.556Z"
   },
   {
    "duration": 3578,
    "start_time": "2023-04-30T21:28:45.565Z"
   },
   {
    "duration": 3106,
    "start_time": "2023-04-30T21:28:49.145Z"
   },
   {
    "duration": 63325,
    "start_time": "2023-04-30T21:28:52.254Z"
   },
   {
    "duration": 62621,
    "start_time": "2023-04-30T21:29:55.582Z"
   },
   {
    "duration": 1645,
    "start_time": "2023-04-30T21:30:58.205Z"
   },
   {
    "duration": 2198,
    "start_time": "2023-04-30T21:30:59.851Z"
   },
   {
    "duration": 277,
    "start_time": "2023-04-30T21:31:02.056Z"
   },
   {
    "duration": 0,
    "start_time": "2023-04-30T21:31:02.343Z"
   },
   {
    "duration": 0,
    "start_time": "2023-04-30T21:31:02.346Z"
   },
   {
    "duration": 33055,
    "start_time": "2023-04-30T21:31:26.703Z"
   },
   {
    "duration": 976,
    "start_time": "2023-04-30T21:33:56.320Z"
   },
   {
    "duration": 1847,
    "start_time": "2023-04-30T21:34:31.540Z"
   },
   {
    "duration": 982,
    "start_time": "2023-04-30T21:34:36.144Z"
   },
   {
    "duration": 134347,
    "start_time": "2023-04-30T21:34:55.335Z"
   },
   {
    "duration": 3162,
    "start_time": "2023-04-30T21:37:09.684Z"
   },
   {
    "duration": 1793,
    "start_time": "2023-04-30T21:41:47.116Z"
   },
   {
    "duration": 1823,
    "start_time": "2023-04-30T21:43:27.605Z"
   },
   {
    "duration": 1814,
    "start_time": "2023-04-30T21:44:23.712Z"
   },
   {
    "duration": 1646,
    "start_time": "2023-04-30T21:44:32.863Z"
   },
   {
    "duration": 735,
    "start_time": "2023-04-30T21:44:34.512Z"
   },
   {
    "duration": 34,
    "start_time": "2023-04-30T21:44:35.249Z"
   },
   {
    "duration": 5,
    "start_time": "2023-04-30T21:44:35.285Z"
   },
   {
    "duration": 36,
    "start_time": "2023-04-30T21:44:35.293Z"
   },
   {
    "duration": 11,
    "start_time": "2023-04-30T21:44:35.332Z"
   },
   {
    "duration": 8,
    "start_time": "2023-04-30T21:44:35.346Z"
   },
   {
    "duration": 21,
    "start_time": "2023-04-30T21:44:35.357Z"
   },
   {
    "duration": 76,
    "start_time": "2023-04-30T21:44:35.380Z"
   },
   {
    "duration": 34,
    "start_time": "2023-04-30T21:44:35.459Z"
   },
   {
    "duration": 21,
    "start_time": "2023-04-30T21:44:35.495Z"
   },
   {
    "duration": 43,
    "start_time": "2023-04-30T21:44:35.518Z"
   },
   {
    "duration": 41,
    "start_time": "2023-04-30T21:44:35.564Z"
   },
   {
    "duration": 52,
    "start_time": "2023-04-30T21:44:35.610Z"
   },
   {
    "duration": 16,
    "start_time": "2023-04-30T21:44:35.665Z"
   },
   {
    "duration": 64,
    "start_time": "2023-04-30T21:44:35.683Z"
   },
   {
    "duration": 12,
    "start_time": "2023-04-30T21:44:35.750Z"
   },
   {
    "duration": 30,
    "start_time": "2023-04-30T21:44:35.764Z"
   },
   {
    "duration": 46,
    "start_time": "2023-04-30T21:44:35.796Z"
   },
   {
    "duration": 1455,
    "start_time": "2023-04-30T21:44:35.844Z"
   },
   {
    "duration": 1207,
    "start_time": "2023-04-30T21:44:37.302Z"
   },
   {
    "duration": 1514,
    "start_time": "2023-04-30T21:44:38.512Z"
   },
   {
    "duration": 15,
    "start_time": "2023-04-30T21:44:40.028Z"
   },
   {
    "duration": 862,
    "start_time": "2023-04-30T21:44:40.046Z"
   },
   {
    "duration": 8,
    "start_time": "2023-04-30T21:44:40.910Z"
   },
   {
    "duration": 743,
    "start_time": "2023-04-30T21:44:40.920Z"
   },
   {
    "duration": 6,
    "start_time": "2023-04-30T21:44:41.666Z"
   },
   {
    "duration": 771,
    "start_time": "2023-04-30T21:44:41.674Z"
   },
   {
    "duration": 13,
    "start_time": "2023-04-30T21:44:42.447Z"
   },
   {
    "duration": 8,
    "start_time": "2023-04-30T21:44:42.463Z"
   },
   {
    "duration": 760,
    "start_time": "2023-04-30T21:44:42.473Z"
   },
   {
    "duration": 22,
    "start_time": "2023-04-30T21:44:43.241Z"
   },
   {
    "duration": 6,
    "start_time": "2023-04-30T21:44:43.266Z"
   },
   {
    "duration": 777,
    "start_time": "2023-04-30T21:44:43.275Z"
   },
   {
    "duration": 6,
    "start_time": "2023-04-30T21:44:44.054Z"
   },
   {
    "duration": 857,
    "start_time": "2023-04-30T21:44:44.062Z"
   },
   {
    "duration": 20,
    "start_time": "2023-04-30T21:44:44.922Z"
   },
   {
    "duration": 5,
    "start_time": "2023-04-30T21:44:44.944Z"
   },
   {
    "duration": 713,
    "start_time": "2023-04-30T21:44:44.951Z"
   },
   {
    "duration": 23,
    "start_time": "2023-04-30T21:44:45.667Z"
   },
   {
    "duration": 88,
    "start_time": "2023-04-30T21:44:45.695Z"
   },
   {
    "duration": 63,
    "start_time": "2023-04-30T21:44:45.785Z"
   },
   {
    "duration": 27,
    "start_time": "2023-04-30T21:44:45.850Z"
   },
   {
    "duration": 32,
    "start_time": "2023-04-30T21:44:45.880Z"
   },
   {
    "duration": 33570,
    "start_time": "2023-04-30T21:44:45.916Z"
   },
   {
    "duration": 1101,
    "start_time": "2023-04-30T21:45:19.488Z"
   },
   {
    "duration": 0,
    "start_time": "2023-04-30T21:45:20.591Z"
   },
   {
    "duration": 0,
    "start_time": "2023-04-30T21:45:20.593Z"
   },
   {
    "duration": 0,
    "start_time": "2023-04-30T21:45:20.595Z"
   },
   {
    "duration": 0,
    "start_time": "2023-04-30T21:45:20.597Z"
   },
   {
    "duration": 1587,
    "start_time": "2023-04-30T21:46:33.803Z"
   },
   {
    "duration": 873,
    "start_time": "2023-04-30T21:46:35.392Z"
   },
   {
    "duration": 32,
    "start_time": "2023-04-30T21:46:36.267Z"
   },
   {
    "duration": 6,
    "start_time": "2023-04-30T21:46:36.302Z"
   },
   {
    "duration": 31,
    "start_time": "2023-04-30T21:46:36.310Z"
   },
   {
    "duration": 7,
    "start_time": "2023-04-30T21:46:36.343Z"
   },
   {
    "duration": 18,
    "start_time": "2023-04-30T21:46:36.352Z"
   },
   {
    "duration": 9,
    "start_time": "2023-04-30T21:46:36.372Z"
   },
   {
    "duration": 23,
    "start_time": "2023-04-30T21:46:36.382Z"
   },
   {
    "duration": 43,
    "start_time": "2023-04-30T21:46:36.408Z"
   },
   {
    "duration": 19,
    "start_time": "2023-04-30T21:46:36.453Z"
   },
   {
    "duration": 23,
    "start_time": "2023-04-30T21:46:36.474Z"
   },
   {
    "duration": 7,
    "start_time": "2023-04-30T21:46:36.499Z"
   },
   {
    "duration": 32,
    "start_time": "2023-04-30T21:46:36.508Z"
   },
   {
    "duration": 16,
    "start_time": "2023-04-30T21:46:36.542Z"
   },
   {
    "duration": 25,
    "start_time": "2023-04-30T21:46:36.560Z"
   },
   {
    "duration": 20,
    "start_time": "2023-04-30T21:46:36.589Z"
   },
   {
    "duration": 10,
    "start_time": "2023-04-30T21:46:36.611Z"
   },
   {
    "duration": 13,
    "start_time": "2023-04-30T21:46:36.642Z"
   },
   {
    "duration": 1325,
    "start_time": "2023-04-30T21:46:36.658Z"
   },
   {
    "duration": 1251,
    "start_time": "2023-04-30T21:46:37.986Z"
   },
   {
    "duration": 1188,
    "start_time": "2023-04-30T21:46:39.248Z"
   },
   {
    "duration": 9,
    "start_time": "2023-04-30T21:46:40.437Z"
   },
   {
    "duration": 862,
    "start_time": "2023-04-30T21:46:40.448Z"
   },
   {
    "duration": 8,
    "start_time": "2023-04-30T21:46:41.312Z"
   },
   {
    "duration": 671,
    "start_time": "2023-04-30T21:46:41.323Z"
   },
   {
    "duration": 6,
    "start_time": "2023-04-30T21:46:41.996Z"
   },
   {
    "duration": 734,
    "start_time": "2023-04-30T21:46:42.007Z"
   },
   {
    "duration": 13,
    "start_time": "2023-04-30T21:46:42.743Z"
   },
   {
    "duration": 7,
    "start_time": "2023-04-30T21:46:42.758Z"
   },
   {
    "duration": 812,
    "start_time": "2023-04-30T21:46:42.767Z"
   },
   {
    "duration": 19,
    "start_time": "2023-04-30T21:46:43.581Z"
   },
   {
    "duration": 7,
    "start_time": "2023-04-30T21:46:43.602Z"
   },
   {
    "duration": 709,
    "start_time": "2023-04-30T21:46:43.611Z"
   },
   {
    "duration": 7,
    "start_time": "2023-04-30T21:46:44.322Z"
   },
   {
    "duration": 995,
    "start_time": "2023-04-30T21:46:44.342Z"
   },
   {
    "duration": 13,
    "start_time": "2023-04-30T21:46:45.341Z"
   },
   {
    "duration": 56,
    "start_time": "2023-04-30T21:46:45.356Z"
   },
   {
    "duration": 870,
    "start_time": "2023-04-30T21:46:45.414Z"
   },
   {
    "duration": 63,
    "start_time": "2023-04-30T21:46:46.286Z"
   },
   {
    "duration": 4,
    "start_time": "2023-04-30T21:46:46.351Z"
   },
   {
    "duration": 79,
    "start_time": "2023-04-30T21:46:46.357Z"
   },
   {
    "duration": 47,
    "start_time": "2023-04-30T21:46:46.438Z"
   },
   {
    "duration": 17,
    "start_time": "2023-04-30T21:46:46.488Z"
   },
   {
    "duration": 32222,
    "start_time": "2023-04-30T21:46:46.507Z"
   },
   {
    "duration": 1852,
    "start_time": "2023-04-30T21:47:18.731Z"
   },
   {
    "duration": 118445,
    "start_time": "2023-04-30T21:47:20.585Z"
   },
   {
    "duration": 3518,
    "start_time": "2023-04-30T21:49:19.032Z"
   },
   {
    "duration": 1992,
    "start_time": "2023-04-30T21:49:22.555Z"
   },
   {
    "duration": 134,
    "start_time": "2023-04-30T21:49:24.549Z"
   },
   {
    "duration": 5,
    "start_time": "2023-04-30T21:51:05.449Z"
   },
   {
    "duration": 76,
    "start_time": "2023-04-30T21:51:22.681Z"
   },
   {
    "duration": 1631,
    "start_time": "2023-04-30T21:55:51.563Z"
   },
   {
    "duration": 786,
    "start_time": "2023-04-30T21:55:53.196Z"
   },
   {
    "duration": 30,
    "start_time": "2023-04-30T21:55:53.984Z"
   },
   {
    "duration": 5,
    "start_time": "2023-04-30T21:55:54.016Z"
   },
   {
    "duration": 10,
    "start_time": "2023-04-30T21:55:54.043Z"
   },
   {
    "duration": 7,
    "start_time": "2023-04-30T21:55:54.056Z"
   },
   {
    "duration": 31,
    "start_time": "2023-04-30T21:55:54.066Z"
   },
   {
    "duration": 17,
    "start_time": "2023-04-30T21:55:54.099Z"
   },
   {
    "duration": 31,
    "start_time": "2023-04-30T21:55:54.118Z"
   },
   {
    "duration": 28,
    "start_time": "2023-04-30T21:55:54.151Z"
   },
   {
    "duration": 14,
    "start_time": "2023-04-30T21:55:54.181Z"
   },
   {
    "duration": 19,
    "start_time": "2023-04-30T21:55:54.197Z"
   },
   {
    "duration": 18,
    "start_time": "2023-04-30T21:55:54.218Z"
   },
   {
    "duration": 46,
    "start_time": "2023-04-30T21:55:54.242Z"
   },
   {
    "duration": 39,
    "start_time": "2023-04-30T21:55:54.304Z"
   },
   {
    "duration": 20,
    "start_time": "2023-04-30T21:55:54.345Z"
   },
   {
    "duration": 21,
    "start_time": "2023-04-30T21:55:54.367Z"
   },
   {
    "duration": 22,
    "start_time": "2023-04-30T21:55:54.390Z"
   },
   {
    "duration": 42,
    "start_time": "2023-04-30T21:55:54.414Z"
   },
   {
    "duration": 1581,
    "start_time": "2023-04-30T21:55:54.458Z"
   },
   {
    "duration": 1205,
    "start_time": "2023-04-30T21:55:56.043Z"
   },
   {
    "duration": 1077,
    "start_time": "2023-04-30T21:55:57.251Z"
   },
   {
    "duration": 17,
    "start_time": "2023-04-30T21:55:58.331Z"
   },
   {
    "duration": 742,
    "start_time": "2023-04-30T21:55:58.350Z"
   },
   {
    "duration": 8,
    "start_time": "2023-04-30T21:55:59.094Z"
   },
   {
    "duration": 685,
    "start_time": "2023-04-30T21:55:59.105Z"
   },
   {
    "duration": 5,
    "start_time": "2023-04-30T21:55:59.792Z"
   },
   {
    "duration": 754,
    "start_time": "2023-04-30T21:55:59.799Z"
   },
   {
    "duration": 12,
    "start_time": "2023-04-30T21:56:00.556Z"
   },
   {
    "duration": 63,
    "start_time": "2023-04-30T21:56:00.570Z"
   },
   {
    "duration": 853,
    "start_time": "2023-04-30T21:56:00.636Z"
   },
   {
    "duration": 13,
    "start_time": "2023-04-30T21:56:01.492Z"
   },
   {
    "duration": 55,
    "start_time": "2023-04-30T21:56:01.507Z"
   },
   {
    "duration": 756,
    "start_time": "2023-04-30T21:56:01.564Z"
   },
   {
    "duration": 5,
    "start_time": "2023-04-30T21:56:02.322Z"
   },
   {
    "duration": 933,
    "start_time": "2023-04-30T21:56:02.329Z"
   },
   {
    "duration": 14,
    "start_time": "2023-04-30T21:56:03.264Z"
   },
   {
    "duration": 8,
    "start_time": "2023-04-30T21:56:03.280Z"
   },
   {
    "duration": 778,
    "start_time": "2023-04-30T21:56:03.290Z"
   },
   {
    "duration": 30,
    "start_time": "2023-04-30T21:56:04.070Z"
   },
   {
    "duration": 4,
    "start_time": "2023-04-30T21:56:04.104Z"
   },
   {
    "duration": 31,
    "start_time": "2023-04-30T21:56:04.110Z"
   },
   {
    "duration": 14,
    "start_time": "2023-04-30T21:56:04.143Z"
   },
   {
    "duration": 9,
    "start_time": "2023-04-30T21:56:04.159Z"
   },
   {
    "duration": 32371,
    "start_time": "2023-04-30T21:56:04.170Z"
   },
   {
    "duration": 1800,
    "start_time": "2023-04-30T21:56:36.543Z"
   },
   {
    "duration": 119637,
    "start_time": "2023-04-30T21:56:38.346Z"
   },
   {
    "duration": 4269,
    "start_time": "2023-04-30T21:58:37.986Z"
   },
   {
    "duration": 1995,
    "start_time": "2023-04-30T21:58:42.261Z"
   },
   {
    "duration": 65,
    "start_time": "2023-04-30T21:58:44.258Z"
   },
   {
    "duration": 1634,
    "start_time": "2023-05-02T12:39:30.147Z"
   },
   {
    "duration": 2560,
    "start_time": "2023-05-02T12:40:46.115Z"
   },
   {
    "duration": 825,
    "start_time": "2023-05-02T12:41:15.423Z"
   },
   {
    "duration": 784,
    "start_time": "2023-05-02T12:41:53.127Z"
   },
   {
    "duration": 753,
    "start_time": "2023-05-02T12:42:15.227Z"
   },
   {
    "duration": 779,
    "start_time": "2023-05-02T12:42:24.817Z"
   },
   {
    "duration": 1876,
    "start_time": "2023-05-02T12:42:29.457Z"
   },
   {
    "duration": 759,
    "start_time": "2023-05-02T12:42:31.335Z"
   },
   {
    "duration": 38,
    "start_time": "2023-05-02T12:42:32.096Z"
   },
   {
    "duration": 4,
    "start_time": "2023-05-02T12:42:32.136Z"
   },
   {
    "duration": 9,
    "start_time": "2023-05-02T12:42:32.142Z"
   },
   {
    "duration": 6,
    "start_time": "2023-05-02T12:42:32.153Z"
   },
   {
    "duration": 6,
    "start_time": "2023-05-02T12:42:32.160Z"
   },
   {
    "duration": 11,
    "start_time": "2023-05-02T12:42:32.167Z"
   },
   {
    "duration": 44,
    "start_time": "2023-05-02T12:42:32.179Z"
   },
   {
    "duration": 20,
    "start_time": "2023-05-02T12:42:32.226Z"
   },
   {
    "duration": 4,
    "start_time": "2023-05-02T12:42:32.248Z"
   },
   {
    "duration": 10,
    "start_time": "2023-05-02T12:42:32.253Z"
   },
   {
    "duration": 8,
    "start_time": "2023-05-02T12:42:32.264Z"
   },
   {
    "duration": 47,
    "start_time": "2023-05-02T12:42:32.273Z"
   },
   {
    "duration": 46,
    "start_time": "2023-05-02T12:42:32.325Z"
   },
   {
    "duration": 85,
    "start_time": "2023-05-02T12:42:32.373Z"
   },
   {
    "duration": 21,
    "start_time": "2023-05-02T12:42:32.460Z"
   },
   {
    "duration": 52,
    "start_time": "2023-05-02T12:42:32.482Z"
   },
   {
    "duration": 12,
    "start_time": "2023-05-02T12:42:32.536Z"
   },
   {
    "duration": 1170,
    "start_time": "2023-05-02T12:42:32.550Z"
   },
   {
    "duration": 1137,
    "start_time": "2023-05-02T12:42:33.722Z"
   },
   {
    "duration": 1303,
    "start_time": "2023-05-02T12:42:34.861Z"
   },
   {
    "duration": 6,
    "start_time": "2023-05-02T12:42:36.165Z"
   },
   {
    "duration": 1062,
    "start_time": "2023-05-02T12:42:36.172Z"
   },
   {
    "duration": 8,
    "start_time": "2023-05-02T12:42:37.236Z"
   },
   {
    "duration": 684,
    "start_time": "2023-05-02T12:42:37.246Z"
   },
   {
    "duration": 4,
    "start_time": "2023-05-02T12:42:37.932Z"
   },
   {
    "duration": 731,
    "start_time": "2023-05-02T12:42:37.940Z"
   },
   {
    "duration": 8,
    "start_time": "2023-05-02T12:42:38.672Z"
   },
   {
    "duration": 18,
    "start_time": "2023-05-02T12:42:38.681Z"
   },
   {
    "duration": 762,
    "start_time": "2023-05-02T12:42:38.701Z"
   },
   {
    "duration": 11,
    "start_time": "2023-05-02T12:42:39.465Z"
   },
   {
    "duration": 25,
    "start_time": "2023-05-02T12:42:39.478Z"
   },
   {
    "duration": 731,
    "start_time": "2023-05-02T12:42:39.514Z"
   },
   {
    "duration": 4,
    "start_time": "2023-05-02T12:42:40.247Z"
   },
   {
    "duration": 834,
    "start_time": "2023-05-02T12:42:40.252Z"
   },
   {
    "duration": 20,
    "start_time": "2023-05-02T12:42:41.098Z"
   },
   {
    "duration": 8,
    "start_time": "2023-05-02T12:42:41.124Z"
   },
   {
    "duration": 686,
    "start_time": "2023-05-02T12:42:41.134Z"
   },
   {
    "duration": 18,
    "start_time": "2023-05-02T12:42:41.824Z"
   },
   {
    "duration": 6,
    "start_time": "2023-05-02T12:42:41.843Z"
   },
   {
    "duration": 29,
    "start_time": "2023-05-02T12:42:41.851Z"
   },
   {
    "duration": 46,
    "start_time": "2023-05-02T12:42:41.881Z"
   },
   {
    "duration": 13,
    "start_time": "2023-05-02T12:42:41.929Z"
   },
   {
    "duration": 930,
    "start_time": "2023-05-02T12:42:41.943Z"
   },
   {
    "duration": 0,
    "start_time": "2023-05-02T12:42:42.875Z"
   },
   {
    "duration": 0,
    "start_time": "2023-05-02T12:42:42.876Z"
   },
   {
    "duration": 0,
    "start_time": "2023-05-02T12:42:42.877Z"
   },
   {
    "duration": 0,
    "start_time": "2023-05-02T12:42:42.878Z"
   },
   {
    "duration": 0,
    "start_time": "2023-05-02T12:42:42.879Z"
   },
   {
    "duration": 734,
    "start_time": "2023-05-02T12:46:43.790Z"
   },
   {
    "duration": 56,
    "start_time": "2023-05-02T12:46:45.041Z"
   },
   {
    "duration": 1454,
    "start_time": "2023-05-02T12:57:38.542Z"
   },
   {
    "duration": 785,
    "start_time": "2023-05-02T12:57:39.999Z"
   },
   {
    "duration": 36,
    "start_time": "2023-05-02T12:57:40.786Z"
   },
   {
    "duration": 139,
    "start_time": "2023-05-02T12:57:40.825Z"
   },
   {
    "duration": 8,
    "start_time": "2023-05-02T12:57:40.965Z"
   },
   {
    "duration": 5,
    "start_time": "2023-05-02T12:57:40.975Z"
   },
   {
    "duration": 12,
    "start_time": "2023-05-02T12:57:40.981Z"
   },
   {
    "duration": 37,
    "start_time": "2023-05-02T12:57:40.997Z"
   },
   {
    "duration": 28,
    "start_time": "2023-05-02T12:57:41.035Z"
   },
   {
    "duration": 19,
    "start_time": "2023-05-02T12:57:41.066Z"
   },
   {
    "duration": 28,
    "start_time": "2023-05-02T12:57:41.086Z"
   },
   {
    "duration": 10,
    "start_time": "2023-05-02T12:57:41.116Z"
   },
   {
    "duration": 5,
    "start_time": "2023-05-02T12:57:41.128Z"
   },
   {
    "duration": 26,
    "start_time": "2023-05-02T12:57:41.135Z"
   },
   {
    "duration": 10,
    "start_time": "2023-05-02T12:57:41.162Z"
   },
   {
    "duration": 15,
    "start_time": "2023-05-02T12:57:41.173Z"
   },
   {
    "duration": 19,
    "start_time": "2023-05-02T12:57:41.189Z"
   },
   {
    "duration": 18,
    "start_time": "2023-05-02T12:57:41.213Z"
   },
   {
    "duration": 7,
    "start_time": "2023-05-02T12:57:41.232Z"
   },
   {
    "duration": 1244,
    "start_time": "2023-05-02T12:57:41.240Z"
   },
   {
    "duration": 1147,
    "start_time": "2023-05-02T12:57:42.485Z"
   },
   {
    "duration": 1201,
    "start_time": "2023-05-02T12:57:43.633Z"
   },
   {
    "duration": 8,
    "start_time": "2023-05-02T12:57:44.835Z"
   },
   {
    "duration": 785,
    "start_time": "2023-05-02T12:57:44.845Z"
   },
   {
    "duration": 6,
    "start_time": "2023-05-02T12:57:45.632Z"
   },
   {
    "duration": 655,
    "start_time": "2023-05-02T12:57:45.640Z"
   },
   {
    "duration": 7,
    "start_time": "2023-05-02T12:57:46.298Z"
   },
   {
    "duration": 738,
    "start_time": "2023-05-02T12:57:46.309Z"
   },
   {
    "duration": 8,
    "start_time": "2023-05-02T12:57:47.048Z"
   },
   {
    "duration": 13,
    "start_time": "2023-05-02T12:57:47.057Z"
   },
   {
    "duration": 676,
    "start_time": "2023-05-02T12:57:47.071Z"
   },
   {
    "duration": 10,
    "start_time": "2023-05-02T12:57:47.749Z"
   },
   {
    "duration": 16,
    "start_time": "2023-05-02T12:57:47.761Z"
   },
   {
    "duration": 695,
    "start_time": "2023-05-02T12:57:47.779Z"
   },
   {
    "duration": 4,
    "start_time": "2023-05-02T12:57:48.477Z"
   },
   {
    "duration": 789,
    "start_time": "2023-05-02T12:57:48.492Z"
   },
   {
    "duration": 17,
    "start_time": "2023-05-02T12:57:49.283Z"
   },
   {
    "duration": 18,
    "start_time": "2023-05-02T12:57:49.310Z"
   },
   {
    "duration": 628,
    "start_time": "2023-05-02T12:57:49.330Z"
   },
   {
    "duration": 18,
    "start_time": "2023-05-02T12:57:49.960Z"
   },
   {
    "duration": 31,
    "start_time": "2023-05-02T12:57:49.996Z"
   },
   {
    "duration": 36,
    "start_time": "2023-05-02T12:57:50.029Z"
   },
   {
    "duration": 24,
    "start_time": "2023-05-02T12:57:50.066Z"
   },
   {
    "duration": 35,
    "start_time": "2023-05-02T12:57:50.092Z"
   },
   {
    "duration": 947,
    "start_time": "2023-05-02T12:57:50.129Z"
   },
   {
    "duration": 0,
    "start_time": "2023-05-02T12:57:51.078Z"
   },
   {
    "duration": 0,
    "start_time": "2023-05-02T12:57:51.079Z"
   },
   {
    "duration": 0,
    "start_time": "2023-05-02T12:57:51.080Z"
   },
   {
    "duration": 0,
    "start_time": "2023-05-02T12:57:51.081Z"
   },
   {
    "duration": 0,
    "start_time": "2023-05-02T12:57:51.082Z"
   },
   {
    "duration": 32684,
    "start_time": "2023-05-02T12:58:34.917Z"
   },
   {
    "duration": 33197,
    "start_time": "2023-05-02T12:59:25.442Z"
   },
   {
    "duration": 67613,
    "start_time": "2023-05-02T13:00:09.543Z"
   },
   {
    "duration": 69888,
    "start_time": "2023-05-02T13:03:19.260Z"
   },
   {
    "duration": 5,
    "start_time": "2023-05-02T13:04:29.150Z"
   },
   {
    "duration": 1966,
    "start_time": "2023-05-02T13:05:07.819Z"
   },
   {
    "duration": 33586,
    "start_time": "2023-05-02T13:05:29.325Z"
   },
   {
    "duration": 32949,
    "start_time": "2023-05-02T13:06:02.913Z"
   },
   {
    "duration": 3,
    "start_time": "2023-05-02T13:06:35.864Z"
   },
   {
    "duration": 4,
    "start_time": "2023-05-02T13:07:09.652Z"
   },
   {
    "duration": 7,
    "start_time": "2023-05-02T13:18:59.617Z"
   },
   {
    "duration": 702,
    "start_time": "2023-05-02T13:19:00.138Z"
   },
   {
    "duration": 8,
    "start_time": "2023-05-02T13:19:01.417Z"
   },
   {
    "duration": 671,
    "start_time": "2023-05-02T13:19:01.556Z"
   },
   {
    "duration": 7,
    "start_time": "2023-05-02T13:19:30.867Z"
   },
   {
    "duration": 682,
    "start_time": "2023-05-02T13:19:31.036Z"
   },
   {
    "duration": 3,
    "start_time": "2023-05-02T13:21:45.620Z"
   },
   {
    "duration": 3,
    "start_time": "2023-05-02T13:22:32.656Z"
   },
   {
    "duration": 34189,
    "start_time": "2023-05-02T13:23:27.364Z"
   },
   {
    "duration": 5,
    "start_time": "2023-05-02T13:24:01.555Z"
   },
   {
    "duration": 8,
    "start_time": "2023-05-02T13:39:41.819Z"
   },
   {
    "duration": 10,
    "start_time": "2023-05-02T13:52:49.790Z"
   },
   {
    "duration": 202,
    "start_time": "2023-05-02T13:53:06.713Z"
   },
   {
    "duration": 247,
    "start_time": "2023-05-02T13:53:16.413Z"
   },
   {
    "duration": 199,
    "start_time": "2023-05-02T13:59:03.513Z"
   },
   {
    "duration": 14,
    "start_time": "2023-05-02T14:03:02.755Z"
   },
   {
    "duration": 4,
    "start_time": "2023-05-02T14:03:33.341Z"
   },
   {
    "duration": 1314,
    "start_time": "2023-05-02T14:03:38.433Z"
   },
   {
    "duration": 638,
    "start_time": "2023-05-02T14:03:39.749Z"
   },
   {
    "duration": 26,
    "start_time": "2023-05-02T14:03:40.391Z"
   },
   {
    "duration": 4,
    "start_time": "2023-05-02T14:03:40.420Z"
   },
   {
    "duration": 29,
    "start_time": "2023-05-02T14:03:40.427Z"
   },
   {
    "duration": 16,
    "start_time": "2023-05-02T14:03:40.457Z"
   },
   {
    "duration": 18,
    "start_time": "2023-05-02T14:03:40.476Z"
   },
   {
    "duration": 45,
    "start_time": "2023-05-02T14:03:40.495Z"
   },
   {
    "duration": 131,
    "start_time": "2023-05-02T14:03:40.541Z"
   },
   {
    "duration": 41,
    "start_time": "2023-05-02T14:03:40.674Z"
   },
   {
    "duration": 29,
    "start_time": "2023-05-02T14:03:40.717Z"
   },
   {
    "duration": 39,
    "start_time": "2023-05-02T14:03:40.748Z"
   },
   {
    "duration": 10,
    "start_time": "2023-05-02T14:03:40.789Z"
   },
   {
    "duration": 37,
    "start_time": "2023-05-02T14:03:40.801Z"
   },
   {
    "duration": 32,
    "start_time": "2023-05-02T14:03:40.839Z"
   },
   {
    "duration": 14,
    "start_time": "2023-05-02T14:03:40.873Z"
   },
   {
    "duration": 14,
    "start_time": "2023-05-02T14:03:40.889Z"
   },
   {
    "duration": 24,
    "start_time": "2023-05-02T14:03:40.904Z"
   },
   {
    "duration": 40,
    "start_time": "2023-05-02T14:03:40.929Z"
   },
   {
    "duration": 1209,
    "start_time": "2023-05-02T14:03:40.971Z"
   },
   {
    "duration": 1143,
    "start_time": "2023-05-02T14:03:42.182Z"
   },
   {
    "duration": 1218,
    "start_time": "2023-05-02T14:03:43.327Z"
   },
   {
    "duration": 6,
    "start_time": "2023-05-02T14:03:44.547Z"
   },
   {
    "duration": 703,
    "start_time": "2023-05-02T14:03:44.554Z"
   },
   {
    "duration": 5,
    "start_time": "2023-05-02T14:03:45.259Z"
   },
   {
    "duration": 647,
    "start_time": "2023-05-02T14:03:45.266Z"
   },
   {
    "duration": 5,
    "start_time": "2023-05-02T14:03:45.915Z"
   },
   {
    "duration": 606,
    "start_time": "2023-05-02T14:03:45.921Z"
   },
   {
    "duration": 8,
    "start_time": "2023-05-02T14:03:46.529Z"
   },
   {
    "duration": 4,
    "start_time": "2023-05-02T14:03:46.538Z"
   },
   {
    "duration": 678,
    "start_time": "2023-05-02T14:03:46.543Z"
   },
   {
    "duration": 10,
    "start_time": "2023-05-02T14:03:47.223Z"
   },
   {
    "duration": 4,
    "start_time": "2023-05-02T14:03:47.235Z"
   },
   {
    "duration": 681,
    "start_time": "2023-05-02T14:03:47.240Z"
   },
   {
    "duration": 5,
    "start_time": "2023-05-02T14:03:47.922Z"
   },
   {
    "duration": 784,
    "start_time": "2023-05-02T14:03:47.929Z"
   },
   {
    "duration": 11,
    "start_time": "2023-05-02T14:03:48.715Z"
   },
   {
    "duration": 5,
    "start_time": "2023-05-02T14:03:48.727Z"
   },
   {
    "duration": 787,
    "start_time": "2023-05-02T14:03:48.734Z"
   },
   {
    "duration": 19,
    "start_time": "2023-05-02T14:03:49.524Z"
   },
   {
    "duration": 4,
    "start_time": "2023-05-02T14:03:49.547Z"
   },
   {
    "duration": 6,
    "start_time": "2023-05-02T14:03:49.552Z"
   },
   {
    "duration": 35,
    "start_time": "2023-05-02T14:03:49.560Z"
   },
   {
    "duration": 21,
    "start_time": "2023-05-02T14:03:49.597Z"
   },
   {
    "duration": 128,
    "start_time": "2023-05-02T14:03:49.621Z"
   },
   {
    "duration": 0,
    "start_time": "2023-05-02T14:03:49.751Z"
   },
   {
    "duration": 0,
    "start_time": "2023-05-02T14:03:49.752Z"
   },
   {
    "duration": 0,
    "start_time": "2023-05-02T14:03:49.754Z"
   },
   {
    "duration": 0,
    "start_time": "2023-05-02T14:03:49.755Z"
   },
   {
    "duration": 0,
    "start_time": "2023-05-02T14:03:49.756Z"
   },
   {
    "duration": 0,
    "start_time": "2023-05-02T14:03:49.757Z"
   },
   {
    "duration": 0,
    "start_time": "2023-05-02T14:03:49.758Z"
   },
   {
    "duration": 29272,
    "start_time": "2023-05-02T14:04:11.652Z"
   },
   {
    "duration": 16,
    "start_time": "2023-05-02T14:04:40.927Z"
   },
   {
    "duration": 208,
    "start_time": "2023-05-02T14:04:53.768Z"
   },
   {
    "duration": 219,
    "start_time": "2023-05-02T14:05:06.209Z"
   },
   {
    "duration": 209,
    "start_time": "2023-05-02T14:05:54.952Z"
   },
   {
    "duration": 217,
    "start_time": "2023-05-02T14:06:07.366Z"
   },
   {
    "duration": 230,
    "start_time": "2023-05-02T14:07:26.875Z"
   },
   {
    "duration": 203,
    "start_time": "2023-05-02T14:08:26.939Z"
   },
   {
    "duration": 204,
    "start_time": "2023-05-02T14:09:44.326Z"
   },
   {
    "duration": 200,
    "start_time": "2023-05-02T14:12:30.052Z"
   },
   {
    "duration": 201,
    "start_time": "2023-05-02T14:12:56.033Z"
   },
   {
    "duration": 196,
    "start_time": "2023-05-02T14:13:28.519Z"
   },
   {
    "duration": 9,
    "start_time": "2023-05-02T14:13:40.012Z"
   },
   {
    "duration": 29303,
    "start_time": "2023-05-02T14:13:47.637Z"
   },
   {
    "duration": 147,
    "start_time": "2023-05-02T14:15:13.391Z"
   },
   {
    "duration": 140,
    "start_time": "2023-05-02T14:15:54.126Z"
   },
   {
    "duration": 144,
    "start_time": "2023-05-02T14:16:00.772Z"
   },
   {
    "duration": 27197,
    "start_time": "2023-05-02T14:33:36.621Z"
   },
   {
    "duration": 13641,
    "start_time": "2023-05-02T14:38:22.666Z"
   },
   {
    "duration": 13224,
    "start_time": "2023-05-02T14:38:57.341Z"
   },
   {
    "duration": 136527,
    "start_time": "2023-05-02T14:39:25.788Z"
   },
   {
    "duration": 144944,
    "start_time": "2023-05-02T14:49:17.524Z"
   },
   {
    "duration": 4223,
    "start_time": "2023-05-02T14:51:42.470Z"
   },
   {
    "duration": 705,
    "start_time": "2023-05-02T14:55:23.674Z"
   },
   {
    "duration": 10,
    "start_time": "2023-05-02T14:55:26.785Z"
   },
   {
    "duration": 53,
    "start_time": "2023-05-02T14:55:46.519Z"
   },
   {
    "duration": 46,
    "start_time": "2023-05-02T15:07:45.224Z"
   },
   {
    "duration": 2053,
    "start_time": "2023-05-02T15:07:56.197Z"
   },
   {
    "duration": 672,
    "start_time": "2023-05-02T15:08:15.725Z"
   },
   {
    "duration": 452,
    "start_time": "2023-05-02T15:08:28.415Z"
   },
   {
    "duration": 222,
    "start_time": "2023-05-02T15:15:23.660Z"
   },
   {
    "duration": 151,
    "start_time": "2023-05-02T15:15:48.322Z"
   },
   {
    "duration": 538,
    "start_time": "2023-05-02T15:19:42.527Z"
   },
   {
    "duration": 1284,
    "start_time": "2023-05-02T15:20:31.522Z"
   },
   {
    "duration": 643,
    "start_time": "2023-05-02T15:20:32.808Z"
   },
   {
    "duration": 23,
    "start_time": "2023-05-02T15:20:33.453Z"
   },
   {
    "duration": 15,
    "start_time": "2023-05-02T15:20:33.477Z"
   },
   {
    "duration": 20,
    "start_time": "2023-05-02T15:20:33.494Z"
   },
   {
    "duration": 175,
    "start_time": "2023-05-02T15:20:33.516Z"
   },
   {
    "duration": 36,
    "start_time": "2023-05-02T15:20:33.692Z"
   },
   {
    "duration": 8,
    "start_time": "2023-05-02T15:20:33.730Z"
   },
   {
    "duration": 18,
    "start_time": "2023-05-02T15:20:33.740Z"
   },
   {
    "duration": 20,
    "start_time": "2023-05-02T15:20:33.759Z"
   },
   {
    "duration": 2,
    "start_time": "2023-05-02T15:20:33.780Z"
   },
   {
    "duration": 32,
    "start_time": "2023-05-02T15:20:33.784Z"
   },
   {
    "duration": 22,
    "start_time": "2023-05-02T15:20:33.818Z"
   },
   {
    "duration": 21,
    "start_time": "2023-05-02T15:20:33.844Z"
   },
   {
    "duration": 12,
    "start_time": "2023-05-02T15:20:33.867Z"
   },
   {
    "duration": 19,
    "start_time": "2023-05-02T15:20:33.880Z"
   },
   {
    "duration": 8,
    "start_time": "2023-05-02T15:20:33.900Z"
   },
   {
    "duration": 7,
    "start_time": "2023-05-02T15:20:33.909Z"
   },
   {
    "duration": 8,
    "start_time": "2023-05-02T15:20:33.917Z"
   },
   {
    "duration": 1138,
    "start_time": "2023-05-02T15:20:33.926Z"
   },
   {
    "duration": 1149,
    "start_time": "2023-05-02T15:20:35.066Z"
   },
   {
    "duration": 1010,
    "start_time": "2023-05-02T15:20:36.216Z"
   },
   {
    "duration": 7,
    "start_time": "2023-05-02T15:20:37.227Z"
   },
   {
    "duration": 658,
    "start_time": "2023-05-02T15:20:37.236Z"
   },
   {
    "duration": 6,
    "start_time": "2023-05-02T15:20:37.895Z"
   },
   {
    "duration": 598,
    "start_time": "2023-05-02T15:20:37.903Z"
   },
   {
    "duration": 5,
    "start_time": "2023-05-02T15:20:38.503Z"
   },
   {
    "duration": 608,
    "start_time": "2023-05-02T15:20:38.509Z"
   },
   {
    "duration": 9,
    "start_time": "2023-05-02T15:20:39.119Z"
   },
   {
    "duration": 4,
    "start_time": "2023-05-02T15:20:39.129Z"
   },
   {
    "duration": 663,
    "start_time": "2023-05-02T15:20:39.134Z"
   },
   {
    "duration": 11,
    "start_time": "2023-05-02T15:20:39.799Z"
   },
   {
    "duration": 5,
    "start_time": "2023-05-02T15:20:39.811Z"
   },
   {
    "duration": 599,
    "start_time": "2023-05-02T15:20:39.817Z"
   },
   {
    "duration": 5,
    "start_time": "2023-05-02T15:20:40.417Z"
   },
   {
    "duration": 782,
    "start_time": "2023-05-02T15:20:40.424Z"
   },
   {
    "duration": 11,
    "start_time": "2023-05-02T15:20:41.207Z"
   },
   {
    "duration": 11,
    "start_time": "2023-05-02T15:20:41.219Z"
   },
   {
    "duration": 592,
    "start_time": "2023-05-02T15:20:41.231Z"
   },
   {
    "duration": 17,
    "start_time": "2023-05-02T15:20:41.824Z"
   },
   {
    "duration": 3,
    "start_time": "2023-05-02T15:20:41.845Z"
   },
   {
    "duration": 6,
    "start_time": "2023-05-02T15:20:41.849Z"
   },
   {
    "duration": 10,
    "start_time": "2023-05-02T15:20:41.856Z"
   },
   {
    "duration": 10,
    "start_time": "2023-05-02T15:20:41.867Z"
   },
   {
    "duration": 29267,
    "start_time": "2023-05-02T15:20:41.879Z"
   },
   {
    "duration": 211,
    "start_time": "2023-05-02T15:21:11.147Z"
   },
   {
    "duration": 29078,
    "start_time": "2023-05-02T15:21:11.360Z"
   },
   {
    "duration": 155,
    "start_time": "2023-05-02T15:21:40.439Z"
   },
   {
    "duration": 135273,
    "start_time": "2023-05-02T15:21:40.595Z"
   },
   {
    "duration": 3727,
    "start_time": "2023-05-02T15:23:55.869Z"
   },
   {
    "duration": 730,
    "start_time": "2023-05-02T15:23:59.601Z"
   },
   {
    "duration": 59,
    "start_time": "2023-05-02T15:24:00.333Z"
   },
   {
    "duration": 20708,
    "start_time": "2023-05-02T15:25:54.210Z"
   },
   {
    "duration": 41,
    "start_time": "2023-05-02T15:26:14.920Z"
   },
   {
    "duration": 39,
    "start_time": "2023-05-02T15:27:51.345Z"
   },
   {
    "duration": 590,
    "start_time": "2023-05-02T15:28:16.330Z"
   },
   {
    "duration": 20879,
    "start_time": "2023-05-02T15:28:24.326Z"
   },
   {
    "duration": 531,
    "start_time": "2023-05-02T15:28:57.877Z"
   },
   {
    "duration": 21205,
    "start_time": "2023-05-02T15:29:04.579Z"
   },
   {
    "duration": 1463,
    "start_time": "2023-05-02T15:35:24.925Z"
   },
   {
    "duration": 783,
    "start_time": "2023-05-02T15:35:26.393Z"
   },
   {
    "duration": 38,
    "start_time": "2023-05-02T15:35:27.178Z"
   },
   {
    "duration": 4,
    "start_time": "2023-05-02T15:35:27.219Z"
   },
   {
    "duration": 11,
    "start_time": "2023-05-02T15:35:27.225Z"
   },
   {
    "duration": 9,
    "start_time": "2023-05-02T15:35:27.238Z"
   },
   {
    "duration": 13,
    "start_time": "2023-05-02T15:35:27.249Z"
   },
   {
    "duration": 10,
    "start_time": "2023-05-02T15:35:27.265Z"
   },
   {
    "duration": 36,
    "start_time": "2023-05-02T15:35:27.277Z"
   },
   {
    "duration": 24,
    "start_time": "2023-05-02T15:35:27.316Z"
   },
   {
    "duration": 14,
    "start_time": "2023-05-02T15:35:27.342Z"
   },
   {
    "duration": 11,
    "start_time": "2023-05-02T15:35:27.358Z"
   },
   {
    "duration": 8,
    "start_time": "2023-05-02T15:35:27.371Z"
   },
   {
    "duration": 47,
    "start_time": "2023-05-02T15:35:27.381Z"
   },
   {
    "duration": 11,
    "start_time": "2023-05-02T15:35:27.430Z"
   },
   {
    "duration": 16,
    "start_time": "2023-05-02T15:35:27.443Z"
   },
   {
    "duration": 9,
    "start_time": "2023-05-02T15:35:27.461Z"
   },
   {
    "duration": 23,
    "start_time": "2023-05-02T15:35:27.472Z"
   },
   {
    "duration": 10,
    "start_time": "2023-05-02T15:35:27.497Z"
   },
   {
    "duration": 1399,
    "start_time": "2023-05-02T15:35:27.509Z"
   },
   {
    "duration": 1138,
    "start_time": "2023-05-02T15:35:28.910Z"
   },
   {
    "duration": 1108,
    "start_time": "2023-05-02T15:35:30.050Z"
   },
   {
    "duration": 6,
    "start_time": "2023-05-02T15:35:31.160Z"
   },
   {
    "duration": 787,
    "start_time": "2023-05-02T15:35:31.168Z"
   },
   {
    "duration": 6,
    "start_time": "2023-05-02T15:35:31.956Z"
   },
   {
    "duration": 684,
    "start_time": "2023-05-02T15:35:31.964Z"
   },
   {
    "duration": 4,
    "start_time": "2023-05-02T15:35:32.649Z"
   },
   {
    "duration": 667,
    "start_time": "2023-05-02T15:35:32.656Z"
   },
   {
    "duration": 7,
    "start_time": "2023-05-02T15:35:33.325Z"
   },
   {
    "duration": 7,
    "start_time": "2023-05-02T15:35:33.334Z"
   },
   {
    "duration": 691,
    "start_time": "2023-05-02T15:35:33.343Z"
   },
   {
    "duration": 10,
    "start_time": "2023-05-02T15:35:34.036Z"
   },
   {
    "duration": 17,
    "start_time": "2023-05-02T15:35:34.048Z"
   },
   {
    "duration": 658,
    "start_time": "2023-05-02T15:35:34.066Z"
   },
   {
    "duration": 4,
    "start_time": "2023-05-02T15:35:34.725Z"
   },
   {
    "duration": 799,
    "start_time": "2023-05-02T15:35:34.730Z"
   },
   {
    "duration": 14,
    "start_time": "2023-05-02T15:35:35.531Z"
   },
   {
    "duration": 7,
    "start_time": "2023-05-02T15:35:35.546Z"
   },
   {
    "duration": 689,
    "start_time": "2023-05-02T15:35:35.554Z"
   },
   {
    "duration": 17,
    "start_time": "2023-05-02T15:35:36.245Z"
   },
   {
    "duration": 22,
    "start_time": "2023-05-02T15:35:36.263Z"
   },
   {
    "duration": 14,
    "start_time": "2023-05-02T15:35:36.287Z"
   },
   {
    "duration": 17,
    "start_time": "2023-05-02T15:35:36.303Z"
   },
   {
    "duration": 8,
    "start_time": "2023-05-02T15:35:36.321Z"
   },
   {
    "duration": 29817,
    "start_time": "2023-05-02T15:35:36.330Z"
   },
   {
    "duration": 208,
    "start_time": "2023-05-02T15:36:06.149Z"
   },
   {
    "duration": 28789,
    "start_time": "2023-05-02T15:36:06.359Z"
   },
   {
    "duration": 150,
    "start_time": "2023-05-02T15:36:35.150Z"
   },
   {
    "duration": 135294,
    "start_time": "2023-05-02T15:36:35.302Z"
   },
   {
    "duration": 3405,
    "start_time": "2023-05-02T15:38:50.597Z"
   },
   {
    "duration": 20803,
    "start_time": "2023-05-02T15:38:54.007Z"
   },
   {
    "duration": 42,
    "start_time": "2023-05-02T15:39:14.812Z"
   },
   {
    "duration": 1624,
    "start_time": "2023-05-03T15:46:52.360Z"
   },
   {
    "duration": 1736,
    "start_time": "2023-05-03T15:46:53.986Z"
   },
   {
    "duration": 26,
    "start_time": "2023-05-03T15:46:55.724Z"
   },
   {
    "duration": 4,
    "start_time": "2023-05-03T15:46:55.752Z"
   },
   {
    "duration": 14,
    "start_time": "2023-05-03T15:46:55.758Z"
   },
   {
    "duration": 11,
    "start_time": "2023-05-03T15:46:55.773Z"
   },
   {
    "duration": 15,
    "start_time": "2023-05-03T15:46:55.785Z"
   },
   {
    "duration": 26,
    "start_time": "2023-05-03T15:46:55.801Z"
   },
   {
    "duration": 19,
    "start_time": "2023-05-03T15:46:55.828Z"
   },
   {
    "duration": 21,
    "start_time": "2023-05-03T15:46:55.850Z"
   },
   {
    "duration": 4,
    "start_time": "2023-05-03T15:46:55.873Z"
   },
   {
    "duration": 11,
    "start_time": "2023-05-03T15:46:55.879Z"
   },
   {
    "duration": 12,
    "start_time": "2023-05-03T15:46:55.892Z"
   },
   {
    "duration": 32,
    "start_time": "2023-05-03T15:46:55.906Z"
   },
   {
    "duration": 15,
    "start_time": "2023-05-03T15:46:55.940Z"
   },
   {
    "duration": 15,
    "start_time": "2023-05-03T15:46:55.957Z"
   },
   {
    "duration": 9,
    "start_time": "2023-05-03T15:46:55.974Z"
   },
   {
    "duration": 9,
    "start_time": "2023-05-03T15:46:55.985Z"
   },
   {
    "duration": 13,
    "start_time": "2023-05-03T15:46:55.996Z"
   },
   {
    "duration": 1495,
    "start_time": "2023-05-03T15:46:56.011Z"
   },
   {
    "duration": 1122,
    "start_time": "2023-05-03T15:46:57.508Z"
   },
   {
    "duration": 1494,
    "start_time": "2023-05-03T15:46:58.632Z"
   },
   {
    "duration": 11,
    "start_time": "2023-05-03T15:47:00.128Z"
   },
   {
    "duration": 803,
    "start_time": "2023-05-03T15:47:00.141Z"
   },
   {
    "duration": 12,
    "start_time": "2023-05-03T15:47:00.946Z"
   },
   {
    "duration": 761,
    "start_time": "2023-05-03T15:47:00.960Z"
   },
   {
    "duration": 5,
    "start_time": "2023-05-03T15:47:01.723Z"
   },
   {
    "duration": 711,
    "start_time": "2023-05-03T15:47:01.732Z"
   },
   {
    "duration": 16,
    "start_time": "2023-05-03T15:47:02.444Z"
   },
   {
    "duration": 18,
    "start_time": "2023-05-03T15:47:02.462Z"
   },
   {
    "duration": 704,
    "start_time": "2023-05-03T15:47:02.481Z"
   },
   {
    "duration": 12,
    "start_time": "2023-05-03T15:47:03.187Z"
   },
   {
    "duration": 10,
    "start_time": "2023-05-03T15:47:03.200Z"
   },
   {
    "duration": 701,
    "start_time": "2023-05-03T15:47:03.211Z"
   },
   {
    "duration": 6,
    "start_time": "2023-05-03T15:47:03.914Z"
   },
   {
    "duration": 775,
    "start_time": "2023-05-03T15:47:03.922Z"
   },
   {
    "duration": 12,
    "start_time": "2023-05-03T15:47:04.698Z"
   },
   {
    "duration": 5,
    "start_time": "2023-05-03T15:47:04.712Z"
   },
   {
    "duration": 700,
    "start_time": "2023-05-03T15:47:04.718Z"
   },
   {
    "duration": 20,
    "start_time": "2023-05-03T15:47:05.420Z"
   },
   {
    "duration": 43,
    "start_time": "2023-05-03T15:47:05.442Z"
   },
   {
    "duration": 8,
    "start_time": "2023-05-03T15:47:05.487Z"
   },
   {
    "duration": 14,
    "start_time": "2023-05-03T15:47:05.497Z"
   },
   {
    "duration": 6,
    "start_time": "2023-05-03T15:47:05.513Z"
   },
   {
    "duration": 1668,
    "start_time": "2023-05-03T17:04:36.148Z"
   },
   {
    "duration": 3453,
    "start_time": "2023-05-03T17:04:37.818Z"
   },
   {
    "duration": 27,
    "start_time": "2023-05-03T17:04:41.273Z"
   },
   {
    "duration": 5,
    "start_time": "2023-05-03T17:04:41.303Z"
   },
   {
    "duration": 26,
    "start_time": "2023-05-03T17:04:41.310Z"
   },
   {
    "duration": 10,
    "start_time": "2023-05-03T17:04:41.337Z"
   },
   {
    "duration": 7,
    "start_time": "2023-05-03T17:04:41.348Z"
   },
   {
    "duration": 14,
    "start_time": "2023-05-03T17:04:41.357Z"
   },
   {
    "duration": 34,
    "start_time": "2023-05-03T17:04:41.373Z"
   },
   {
    "duration": 27,
    "start_time": "2023-05-03T17:04:41.411Z"
   },
   {
    "duration": 6,
    "start_time": "2023-05-03T17:04:41.439Z"
   },
   {
    "duration": 16,
    "start_time": "2023-05-03T17:04:41.447Z"
   },
   {
    "duration": 18,
    "start_time": "2023-05-03T17:04:41.465Z"
   },
   {
    "duration": 36,
    "start_time": "2023-05-03T17:04:41.486Z"
   },
   {
    "duration": 22,
    "start_time": "2023-05-03T17:04:41.524Z"
   },
   {
    "duration": 21,
    "start_time": "2023-05-03T17:04:41.548Z"
   },
   {
    "duration": 15,
    "start_time": "2023-05-03T17:04:41.583Z"
   },
   {
    "duration": 17,
    "start_time": "2023-05-03T17:04:41.601Z"
   },
   {
    "duration": 30,
    "start_time": "2023-05-03T17:04:41.621Z"
   },
   {
    "duration": 1507,
    "start_time": "2023-05-03T17:04:41.653Z"
   },
   {
    "duration": 1209,
    "start_time": "2023-05-03T17:04:43.163Z"
   },
   {
    "duration": 1518,
    "start_time": "2023-05-03T17:04:44.374Z"
   },
   {
    "duration": 9,
    "start_time": "2023-05-03T17:04:45.894Z"
   },
   {
    "duration": 829,
    "start_time": "2023-05-03T17:04:45.906Z"
   },
   {
    "duration": 7,
    "start_time": "2023-05-03T17:04:46.736Z"
   },
   {
    "duration": 706,
    "start_time": "2023-05-03T17:04:46.745Z"
   },
   {
    "duration": 5,
    "start_time": "2023-05-03T17:04:47.453Z"
   },
   {
    "duration": 844,
    "start_time": "2023-05-03T17:04:47.462Z"
   },
   {
    "duration": 12,
    "start_time": "2023-05-03T17:04:48.308Z"
   },
   {
    "duration": 10,
    "start_time": "2023-05-03T17:04:48.323Z"
   },
   {
    "duration": 808,
    "start_time": "2023-05-03T17:04:48.335Z"
   },
   {
    "duration": 11,
    "start_time": "2023-05-03T17:04:49.145Z"
   },
   {
    "duration": 8,
    "start_time": "2023-05-03T17:04:49.158Z"
   },
   {
    "duration": 690,
    "start_time": "2023-05-03T17:04:49.168Z"
   },
   {
    "duration": 6,
    "start_time": "2023-05-03T17:04:49.860Z"
   },
   {
    "duration": 877,
    "start_time": "2023-05-03T17:04:49.867Z"
   },
   {
    "duration": 16,
    "start_time": "2023-05-03T17:04:50.746Z"
   },
   {
    "duration": 31,
    "start_time": "2023-05-03T17:04:50.764Z"
   },
   {
    "duration": 674,
    "start_time": "2023-05-03T17:04:50.797Z"
   },
   {
    "duration": 27,
    "start_time": "2023-05-03T17:04:51.473Z"
   },
   {
    "duration": 32,
    "start_time": "2023-05-03T17:04:51.502Z"
   },
   {
    "duration": 24,
    "start_time": "2023-05-03T17:04:51.535Z"
   },
   {
    "duration": 21,
    "start_time": "2023-05-03T17:04:51.561Z"
   },
   {
    "duration": 27,
    "start_time": "2023-05-03T17:04:51.583Z"
   },
   {
    "duration": 33491,
    "start_time": "2023-05-03T17:04:51.612Z"
   },
   {
    "duration": 216,
    "start_time": "2023-05-03T17:05:25.105Z"
   },
   {
    "duration": 32511,
    "start_time": "2023-05-03T17:05:25.323Z"
   },
   {
    "duration": 158,
    "start_time": "2023-05-03T17:05:57.836Z"
   },
   {
    "duration": 146221,
    "start_time": "2023-05-03T17:05:57.995Z"
   },
   {
    "duration": 4164,
    "start_time": "2023-05-03T17:08:24.218Z"
   },
   {
    "duration": 22202,
    "start_time": "2023-05-03T17:08:28.384Z"
   },
   {
    "duration": 38,
    "start_time": "2023-05-03T17:08:50.588Z"
   },
   {
    "duration": 5,
    "start_time": "2023-05-03T17:31:05.641Z"
   },
   {
    "duration": 3,
    "start_time": "2023-05-03T17:31:22.157Z"
   },
   {
    "duration": 157,
    "start_time": "2023-05-03T17:31:33.824Z"
   },
   {
    "duration": 256,
    "start_time": "2023-05-03T17:31:59.288Z"
   },
   {
    "duration": 34928,
    "start_time": "2023-05-03T17:31:59.809Z"
   },
   {
    "duration": 175,
    "start_time": "2023-05-03T17:32:34.739Z"
   },
   {
    "duration": 4,
    "start_time": "2023-05-03T17:37:29.821Z"
   },
   {
    "duration": 4,
    "start_time": "2023-05-03T17:37:54.232Z"
   },
   {
    "duration": 4,
    "start_time": "2023-05-03T17:39:15.229Z"
   },
   {
    "duration": 4,
    "start_time": "2023-05-03T17:39:22.849Z"
   },
   {
    "duration": 5,
    "start_time": "2023-05-03T17:39:25.685Z"
   },
   {
    "duration": 4,
    "start_time": "2023-05-03T17:39:30.965Z"
   },
   {
    "duration": 7,
    "start_time": "2023-05-03T17:39:42.805Z"
   },
   {
    "duration": 124,
    "start_time": "2023-05-03T17:40:03.889Z"
   },
   {
    "duration": 3,
    "start_time": "2023-05-03T17:40:08.369Z"
   },
   {
    "duration": 32459,
    "start_time": "2023-05-03T17:40:09.076Z"
   },
   {
    "duration": 5,
    "start_time": "2023-05-03T17:40:41.537Z"
   },
   {
    "duration": 58326,
    "start_time": "2023-05-03T17:43:55.289Z"
   },
   {
    "duration": 56607,
    "start_time": "2023-05-03T17:46:50.333Z"
   },
   {
    "duration": 113234,
    "start_time": "2023-05-03T17:49:35.582Z"
   },
   {
    "duration": 4066,
    "start_time": "2023-05-03T17:51:28.819Z"
   },
   {
    "duration": 31936,
    "start_time": "2023-05-03T17:52:24.552Z"
   },
   {
    "duration": 4,
    "start_time": "2023-05-03T17:52:56.490Z"
   },
   {
    "duration": 1448,
    "start_time": "2023-05-03T17:54:22.995Z"
   },
   {
    "duration": 717,
    "start_time": "2023-05-03T17:54:24.445Z"
   },
   {
    "duration": 34,
    "start_time": "2023-05-03T17:54:25.163Z"
   },
   {
    "duration": 3,
    "start_time": "2023-05-03T17:54:25.199Z"
   },
   {
    "duration": 16,
    "start_time": "2023-05-03T17:54:25.204Z"
   },
   {
    "duration": 11,
    "start_time": "2023-05-03T17:54:25.221Z"
   },
   {
    "duration": 13,
    "start_time": "2023-05-03T17:54:25.234Z"
   },
   {
    "duration": 35,
    "start_time": "2023-05-03T17:54:25.248Z"
   },
   {
    "duration": 24,
    "start_time": "2023-05-03T17:54:25.284Z"
   },
   {
    "duration": 20,
    "start_time": "2023-05-03T17:54:25.310Z"
   },
   {
    "duration": 3,
    "start_time": "2023-05-03T17:54:25.331Z"
   },
   {
    "duration": 29,
    "start_time": "2023-05-03T17:54:25.335Z"
   },
   {
    "duration": 22,
    "start_time": "2023-05-03T17:54:25.366Z"
   },
   {
    "duration": 34,
    "start_time": "2023-05-03T17:54:25.389Z"
   },
   {
    "duration": 28,
    "start_time": "2023-05-03T17:54:25.424Z"
   },
   {
    "duration": 30,
    "start_time": "2023-05-03T17:54:25.454Z"
   },
   {
    "duration": 13,
    "start_time": "2023-05-03T17:54:25.486Z"
   },
   {
    "duration": 18,
    "start_time": "2023-05-03T17:54:25.500Z"
   },
   {
    "duration": 12,
    "start_time": "2023-05-03T17:54:25.520Z"
   },
   {
    "duration": 1250,
    "start_time": "2023-05-03T17:54:25.534Z"
   },
   {
    "duration": 1036,
    "start_time": "2023-05-03T17:54:26.786Z"
   },
   {
    "duration": 1228,
    "start_time": "2023-05-03T17:54:27.824Z"
   },
   {
    "duration": 7,
    "start_time": "2023-05-03T17:54:29.053Z"
   },
   {
    "duration": 752,
    "start_time": "2023-05-03T17:54:29.061Z"
   },
   {
    "duration": 9,
    "start_time": "2023-05-03T17:54:29.816Z"
   },
   {
    "duration": 702,
    "start_time": "2023-05-03T17:54:29.827Z"
   },
   {
    "duration": 4,
    "start_time": "2023-05-03T17:54:30.531Z"
   },
   {
    "duration": 781,
    "start_time": "2023-05-03T17:54:30.538Z"
   },
   {
    "duration": 8,
    "start_time": "2023-05-03T17:54:31.320Z"
   },
   {
    "duration": 35,
    "start_time": "2023-05-03T17:54:31.330Z"
   },
   {
    "duration": 649,
    "start_time": "2023-05-03T17:54:31.367Z"
   },
   {
    "duration": 11,
    "start_time": "2023-05-03T17:54:32.018Z"
   },
   {
    "duration": 40,
    "start_time": "2023-05-03T17:54:32.031Z"
   },
   {
    "duration": 649,
    "start_time": "2023-05-03T17:54:32.073Z"
   },
   {
    "duration": 5,
    "start_time": "2023-05-03T17:54:32.724Z"
   },
   {
    "duration": 793,
    "start_time": "2023-05-03T17:54:32.730Z"
   },
   {
    "duration": 11,
    "start_time": "2023-05-03T17:54:33.525Z"
   },
   {
    "duration": 21,
    "start_time": "2023-05-03T17:54:33.537Z"
   },
   {
    "duration": 678,
    "start_time": "2023-05-03T17:54:33.560Z"
   },
   {
    "duration": 19,
    "start_time": "2023-05-03T17:54:34.240Z"
   },
   {
    "duration": 19,
    "start_time": "2023-05-03T17:54:34.261Z"
   },
   {
    "duration": 5,
    "start_time": "2023-05-03T17:54:34.282Z"
   },
   {
    "duration": 14,
    "start_time": "2023-05-03T17:54:34.289Z"
   },
   {
    "duration": 7,
    "start_time": "2023-05-03T17:54:34.305Z"
   },
   {
    "duration": 30297,
    "start_time": "2023-05-03T17:54:34.314Z"
   },
   {
    "duration": 133,
    "start_time": "2023-05-03T17:55:04.613Z"
   },
   {
    "duration": 0,
    "start_time": "2023-05-03T17:55:04.748Z"
   },
   {
    "duration": 0,
    "start_time": "2023-05-03T17:55:04.749Z"
   },
   {
    "duration": 0,
    "start_time": "2023-05-03T17:55:04.750Z"
   },
   {
    "duration": 0,
    "start_time": "2023-05-03T17:55:04.752Z"
   },
   {
    "duration": 0,
    "start_time": "2023-05-03T17:55:04.753Z"
   },
   {
    "duration": 0,
    "start_time": "2023-05-03T17:55:04.754Z"
   },
   {
    "duration": 10,
    "start_time": "2023-05-03T17:56:57.355Z"
   },
   {
    "duration": 3,
    "start_time": "2023-05-03T17:57:02.531Z"
   },
   {
    "duration": 33088,
    "start_time": "2023-05-03T17:57:05.679Z"
   },
   {
    "duration": 5,
    "start_time": "2023-05-03T17:57:38.769Z"
   },
   {
    "duration": 4,
    "start_time": "2023-05-03T17:59:46.344Z"
   },
   {
    "duration": 126809,
    "start_time": "2023-05-03T18:00:37.868Z"
   },
   {
    "duration": 8216,
    "start_time": "2023-05-03T18:02:44.683Z"
   },
   {
    "duration": 9,
    "start_time": "2023-05-03T18:04:52.469Z"
   },
   {
    "duration": 33338,
    "start_time": "2023-05-03T18:05:02.506Z"
   },
   {
    "duration": 419,
    "start_time": "2023-05-03T18:07:51.595Z"
   },
   {
    "duration": 431,
    "start_time": "2023-05-03T18:08:50.829Z"
   },
   {
    "duration": 234,
    "start_time": "2023-05-03T18:09:04.083Z"
   },
   {
    "duration": 8,
    "start_time": "2023-05-03T18:09:17.750Z"
   },
   {
    "duration": 417,
    "start_time": "2023-05-03T18:09:37.130Z"
   },
   {
    "duration": 8,
    "start_time": "2023-05-03T18:09:42.453Z"
   },
   {
    "duration": 1705,
    "start_time": "2023-05-03T18:21:44.356Z"
   },
   {
    "duration": 776,
    "start_time": "2023-05-03T18:21:46.063Z"
   },
   {
    "duration": 25,
    "start_time": "2023-05-03T18:21:46.841Z"
   },
   {
    "duration": 30,
    "start_time": "2023-05-03T18:21:46.869Z"
   },
   {
    "duration": 15,
    "start_time": "2023-05-03T18:21:46.901Z"
   },
   {
    "duration": 11,
    "start_time": "2023-05-03T18:21:46.918Z"
   },
   {
    "duration": 13,
    "start_time": "2023-05-03T18:21:46.931Z"
   },
   {
    "duration": 18,
    "start_time": "2023-05-03T18:21:46.946Z"
   },
   {
    "duration": 29,
    "start_time": "2023-05-03T18:21:46.965Z"
   },
   {
    "duration": 43,
    "start_time": "2023-05-03T18:21:46.998Z"
   },
   {
    "duration": 14,
    "start_time": "2023-05-03T18:21:47.043Z"
   },
   {
    "duration": 13,
    "start_time": "2023-05-03T18:21:47.059Z"
   },
   {
    "duration": 7,
    "start_time": "2023-05-03T18:21:47.074Z"
   },
   {
    "duration": 40,
    "start_time": "2023-05-03T18:21:47.083Z"
   },
   {
    "duration": 13,
    "start_time": "2023-05-03T18:21:47.126Z"
   },
   {
    "duration": 18,
    "start_time": "2023-05-03T18:21:47.141Z"
   },
   {
    "duration": 8,
    "start_time": "2023-05-03T18:21:47.161Z"
   },
   {
    "duration": 24,
    "start_time": "2023-05-03T18:21:47.170Z"
   },
   {
    "duration": 30,
    "start_time": "2023-05-03T18:21:47.196Z"
   },
   {
    "duration": 1371,
    "start_time": "2023-05-03T18:21:47.228Z"
   },
   {
    "duration": 1156,
    "start_time": "2023-05-03T18:21:48.601Z"
   },
   {
    "duration": 1212,
    "start_time": "2023-05-03T18:21:49.759Z"
   },
   {
    "duration": 18,
    "start_time": "2023-05-03T18:21:50.973Z"
   },
   {
    "duration": 772,
    "start_time": "2023-05-03T18:21:50.996Z"
   },
   {
    "duration": 21,
    "start_time": "2023-05-03T18:21:51.769Z"
   },
   {
    "duration": 704,
    "start_time": "2023-05-03T18:21:51.791Z"
   },
   {
    "duration": 7,
    "start_time": "2023-05-03T18:21:52.500Z"
   },
   {
    "duration": 741,
    "start_time": "2023-05-03T18:21:52.510Z"
   },
   {
    "duration": 8,
    "start_time": "2023-05-03T18:21:53.253Z"
   },
   {
    "duration": 29,
    "start_time": "2023-05-03T18:21:53.263Z"
   },
   {
    "duration": 799,
    "start_time": "2023-05-03T18:21:53.300Z"
   },
   {
    "duration": 11,
    "start_time": "2023-05-03T18:21:54.101Z"
   },
   {
    "duration": 13,
    "start_time": "2023-05-03T18:21:54.113Z"
   },
   {
    "duration": 745,
    "start_time": "2023-05-03T18:21:54.128Z"
   },
   {
    "duration": 15,
    "start_time": "2023-05-03T18:21:54.875Z"
   },
   {
    "duration": 869,
    "start_time": "2023-05-03T18:21:54.892Z"
   },
   {
    "duration": 33,
    "start_time": "2023-05-03T18:21:55.763Z"
   },
   {
    "duration": 12,
    "start_time": "2023-05-03T18:21:55.800Z"
   },
   {
    "duration": 661,
    "start_time": "2023-05-03T18:21:55.813Z"
   },
   {
    "duration": 27,
    "start_time": "2023-05-03T18:21:56.485Z"
   },
   {
    "duration": 18,
    "start_time": "2023-05-03T18:21:56.514Z"
   },
   {
    "duration": 22,
    "start_time": "2023-05-03T18:21:56.534Z"
   },
   {
    "duration": 34,
    "start_time": "2023-05-03T18:21:56.559Z"
   },
   {
    "duration": 15,
    "start_time": "2023-05-03T18:21:56.595Z"
   },
   {
    "duration": 33356,
    "start_time": "2023-05-03T18:21:56.611Z"
   },
   {
    "duration": 22,
    "start_time": "2023-05-03T18:22:29.969Z"
   },
   {
    "duration": 32923,
    "start_time": "2023-05-03T18:22:29.994Z"
   },
   {
    "duration": 3,
    "start_time": "2023-05-03T18:23:02.919Z"
   },
   {
    "duration": 119684,
    "start_time": "2023-05-03T18:23:02.924Z"
   },
   {
    "duration": 4083,
    "start_time": "2023-05-03T18:25:02.609Z"
   },
   {
    "duration": 489,
    "start_time": "2023-05-03T18:25:06.694Z"
   },
   {
    "duration": 14,
    "start_time": "2023-05-03T18:25:07.185Z"
   },
   {
    "duration": 1916,
    "start_time": "2023-05-04T16:37:23.546Z"
   },
   {
    "duration": 3667,
    "start_time": "2023-05-04T16:37:25.464Z"
   },
   {
    "duration": 33,
    "start_time": "2023-05-04T16:37:29.133Z"
   },
   {
    "duration": 16,
    "start_time": "2023-05-04T16:37:29.168Z"
   },
   {
    "duration": 25,
    "start_time": "2023-05-04T16:37:29.186Z"
   },
   {
    "duration": 11,
    "start_time": "2023-05-04T16:37:29.213Z"
   },
   {
    "duration": 5,
    "start_time": "2023-05-04T16:37:29.227Z"
   },
   {
    "duration": 8,
    "start_time": "2023-05-04T16:37:29.234Z"
   },
   {
    "duration": 46,
    "start_time": "2023-05-04T16:37:29.244Z"
   },
   {
    "duration": 30,
    "start_time": "2023-05-04T16:37:29.294Z"
   },
   {
    "duration": 16,
    "start_time": "2023-05-04T16:37:29.326Z"
   },
   {
    "duration": 39,
    "start_time": "2023-05-04T16:37:29.345Z"
   },
   {
    "duration": 30,
    "start_time": "2023-05-04T16:37:29.387Z"
   },
   {
    "duration": 40,
    "start_time": "2023-05-04T16:37:29.419Z"
   },
   {
    "duration": 15,
    "start_time": "2023-05-04T16:37:29.463Z"
   },
   {
    "duration": 19,
    "start_time": "2023-05-04T16:37:29.480Z"
   },
   {
    "duration": 10,
    "start_time": "2023-05-04T16:37:29.501Z"
   },
   {
    "duration": 31,
    "start_time": "2023-05-04T16:37:29.513Z"
   },
   {
    "duration": 17,
    "start_time": "2023-05-04T16:37:29.558Z"
   },
   {
    "duration": 1318,
    "start_time": "2023-05-04T16:37:29.577Z"
   },
   {
    "duration": 1361,
    "start_time": "2023-05-04T16:37:30.898Z"
   },
   {
    "duration": 1592,
    "start_time": "2023-05-04T16:37:32.262Z"
   },
   {
    "duration": 9,
    "start_time": "2023-05-04T16:37:33.856Z"
   },
   {
    "duration": 894,
    "start_time": "2023-05-04T16:37:33.867Z"
   },
   {
    "duration": 7,
    "start_time": "2023-05-04T16:37:34.765Z"
   },
   {
    "duration": 779,
    "start_time": "2023-05-04T16:37:34.774Z"
   },
   {
    "duration": 5,
    "start_time": "2023-05-04T16:37:35.560Z"
   },
   {
    "duration": 900,
    "start_time": "2023-05-04T16:37:35.570Z"
   },
   {
    "duration": 10,
    "start_time": "2023-05-04T16:37:36.472Z"
   },
   {
    "duration": 13,
    "start_time": "2023-05-04T16:37:36.484Z"
   },
   {
    "duration": 869,
    "start_time": "2023-05-04T16:37:36.499Z"
   },
   {
    "duration": 16,
    "start_time": "2023-05-04T16:37:37.370Z"
   },
   {
    "duration": 6,
    "start_time": "2023-05-04T16:37:37.388Z"
   },
   {
    "duration": 752,
    "start_time": "2023-05-04T16:37:37.397Z"
   },
   {
    "duration": 5,
    "start_time": "2023-05-04T16:37:38.151Z"
   },
   {
    "duration": 893,
    "start_time": "2023-05-04T16:37:38.158Z"
   },
   {
    "duration": 13,
    "start_time": "2023-05-04T16:37:39.054Z"
   },
   {
    "duration": 8,
    "start_time": "2023-05-04T16:37:39.069Z"
   },
   {
    "duration": 782,
    "start_time": "2023-05-04T16:37:39.079Z"
   },
   {
    "duration": 22,
    "start_time": "2023-05-04T16:37:39.863Z"
   },
   {
    "duration": 14,
    "start_time": "2023-05-04T16:37:39.887Z"
   },
   {
    "duration": 8,
    "start_time": "2023-05-04T16:37:39.903Z"
   },
   {
    "duration": 53,
    "start_time": "2023-05-04T16:37:39.913Z"
   },
   {
    "duration": 29,
    "start_time": "2023-05-04T16:37:39.969Z"
   },
   {
    "duration": 34760,
    "start_time": "2023-05-04T16:37:40.000Z"
   },
   {
    "duration": 5,
    "start_time": "2023-05-04T16:38:14.763Z"
   },
   {
    "duration": 34625,
    "start_time": "2023-05-04T16:38:14.769Z"
   },
   {
    "duration": 4,
    "start_time": "2023-05-04T16:38:49.396Z"
   },
   {
    "duration": 126186,
    "start_time": "2023-05-04T16:38:49.402Z"
   },
   {
    "duration": 6664,
    "start_time": "2023-05-04T16:40:55.591Z"
   },
   {
    "duration": 556,
    "start_time": "2023-05-04T16:41:02.258Z"
   },
   {
    "duration": 10,
    "start_time": "2023-05-04T16:41:02.816Z"
   },
   {
    "duration": 391,
    "start_time": "2023-05-04T16:42:45.185Z"
   },
   {
    "duration": 1602,
    "start_time": "2023-05-04T16:45:06.696Z"
   },
   {
    "duration": 872,
    "start_time": "2023-05-04T16:45:08.301Z"
   },
   {
    "duration": 35,
    "start_time": "2023-05-04T16:45:09.175Z"
   },
   {
    "duration": 5,
    "start_time": "2023-05-04T16:45:09.213Z"
   },
   {
    "duration": 43,
    "start_time": "2023-05-04T16:45:09.241Z"
   },
   {
    "duration": 20,
    "start_time": "2023-05-04T16:45:09.287Z"
   },
   {
    "duration": 10,
    "start_time": "2023-05-04T16:45:09.309Z"
   },
   {
    "duration": 13,
    "start_time": "2023-05-04T16:45:09.321Z"
   },
   {
    "duration": 33,
    "start_time": "2023-05-04T16:45:09.336Z"
   },
   {
    "duration": 50,
    "start_time": "2023-05-04T16:45:09.373Z"
   },
   {
    "duration": 17,
    "start_time": "2023-05-04T16:45:09.425Z"
   },
   {
    "duration": 33,
    "start_time": "2023-05-04T16:45:09.452Z"
   },
   {
    "duration": 16,
    "start_time": "2023-05-04T16:45:09.488Z"
   },
   {
    "duration": 48,
    "start_time": "2023-05-04T16:45:09.506Z"
   },
   {
    "duration": 34,
    "start_time": "2023-05-04T16:45:09.558Z"
   },
   {
    "duration": 53,
    "start_time": "2023-05-04T16:45:09.595Z"
   },
   {
    "duration": 37,
    "start_time": "2023-05-04T16:45:09.650Z"
   },
   {
    "duration": 10,
    "start_time": "2023-05-04T16:45:09.689Z"
   },
   {
    "duration": 13,
    "start_time": "2023-05-04T16:45:09.702Z"
   },
   {
    "duration": 1398,
    "start_time": "2023-05-04T16:45:09.717Z"
   },
   {
    "duration": 1206,
    "start_time": "2023-05-04T16:45:11.117Z"
   },
   {
    "duration": 1447,
    "start_time": "2023-05-04T16:45:12.325Z"
   },
   {
    "duration": 8,
    "start_time": "2023-05-04T16:45:13.774Z"
   },
   {
    "duration": 871,
    "start_time": "2023-05-04T16:45:13.784Z"
   },
   {
    "duration": 8,
    "start_time": "2023-05-04T16:45:14.660Z"
   },
   {
    "duration": 765,
    "start_time": "2023-05-04T16:45:14.669Z"
   },
   {
    "duration": 15,
    "start_time": "2023-05-04T16:45:15.436Z"
   },
   {
    "duration": 770,
    "start_time": "2023-05-04T16:45:15.462Z"
   },
   {
    "duration": 11,
    "start_time": "2023-05-04T16:45:16.240Z"
   },
   {
    "duration": 32,
    "start_time": "2023-05-04T16:45:16.253Z"
   },
   {
    "duration": 816,
    "start_time": "2023-05-04T16:45:16.287Z"
   },
   {
    "duration": 14,
    "start_time": "2023-05-04T16:45:17.105Z"
   },
   {
    "duration": 23,
    "start_time": "2023-05-04T16:45:17.121Z"
   },
   {
    "duration": 823,
    "start_time": "2023-05-04T16:45:17.147Z"
   },
   {
    "duration": 5,
    "start_time": "2023-05-04T16:45:17.972Z"
   },
   {
    "duration": 997,
    "start_time": "2023-05-04T16:45:17.979Z"
   },
   {
    "duration": 13,
    "start_time": "2023-05-04T16:45:18.978Z"
   },
   {
    "duration": 10,
    "start_time": "2023-05-04T16:45:18.994Z"
   },
   {
    "duration": 829,
    "start_time": "2023-05-04T16:45:19.006Z"
   },
   {
    "duration": 30,
    "start_time": "2023-05-04T16:45:19.837Z"
   },
   {
    "duration": 40,
    "start_time": "2023-05-04T16:45:19.868Z"
   },
   {
    "duration": 48,
    "start_time": "2023-05-04T16:45:19.910Z"
   },
   {
    "duration": 39,
    "start_time": "2023-05-04T16:45:19.962Z"
   },
   {
    "duration": 56,
    "start_time": "2023-05-04T16:45:20.003Z"
   },
   {
    "duration": 33442,
    "start_time": "2023-05-04T16:45:20.061Z"
   },
   {
    "duration": 5,
    "start_time": "2023-05-04T16:45:53.505Z"
   },
   {
    "duration": 34014,
    "start_time": "2023-05-04T16:45:53.511Z"
   },
   {
    "duration": 5,
    "start_time": "2023-05-04T16:46:27.527Z"
   },
   {
    "duration": 123864,
    "start_time": "2023-05-04T16:46:27.534Z"
   },
   {
    "duration": 4641,
    "start_time": "2023-05-04T16:48:31.400Z"
   },
   {
    "duration": 464,
    "start_time": "2023-05-04T16:48:36.043Z"
   },
   {
    "duration": 10,
    "start_time": "2023-05-04T16:48:36.510Z"
   },
   {
    "duration": 380,
    "start_time": "2023-05-04T16:49:21.438Z"
   },
   {
    "duration": 407,
    "start_time": "2023-05-04T16:52:58.559Z"
   },
   {
    "duration": 391,
    "start_time": "2023-05-04T16:53:08.601Z"
   },
   {
    "duration": 399,
    "start_time": "2023-05-04T16:53:15.026Z"
   },
   {
    "duration": 403,
    "start_time": "2023-05-04T16:53:21.358Z"
   },
   {
    "duration": 11,
    "start_time": "2023-05-04T16:53:44.460Z"
   },
   {
    "duration": 6,
    "start_time": "2023-05-04T17:41:42.054Z"
   },
   {
    "duration": 21,
    "start_time": "2023-05-04T17:43:07.589Z"
   },
   {
    "duration": 3195,
    "start_time": "2023-05-04T17:43:11.268Z"
   },
   {
    "duration": 18,
    "start_time": "2023-05-04T18:41:43.281Z"
   },
   {
    "duration": 6050,
    "start_time": "2023-05-04T18:41:43.511Z"
   },
   {
    "duration": 1722,
    "start_time": "2023-05-04T18:43:56.395Z"
   },
   {
    "duration": 861,
    "start_time": "2023-05-04T18:43:58.120Z"
   },
   {
    "duration": 30,
    "start_time": "2023-05-04T18:43:58.984Z"
   },
   {
    "duration": 6,
    "start_time": "2023-05-04T18:43:59.017Z"
   },
   {
    "duration": 57,
    "start_time": "2023-05-04T18:43:59.026Z"
   },
   {
    "duration": 13,
    "start_time": "2023-05-04T18:43:59.085Z"
   },
   {
    "duration": 7,
    "start_time": "2023-05-04T18:43:59.101Z"
   },
   {
    "duration": 8,
    "start_time": "2023-05-04T18:43:59.111Z"
   },
   {
    "duration": 36,
    "start_time": "2023-05-04T18:43:59.121Z"
   },
   {
    "duration": 30,
    "start_time": "2023-05-04T18:43:59.162Z"
   },
   {
    "duration": 3,
    "start_time": "2023-05-04T18:43:59.195Z"
   },
   {
    "duration": 14,
    "start_time": "2023-05-04T18:43:59.200Z"
   },
   {
    "duration": 22,
    "start_time": "2023-05-04T18:43:59.216Z"
   },
   {
    "duration": 77,
    "start_time": "2023-05-04T18:43:59.240Z"
   },
   {
    "duration": 33,
    "start_time": "2023-05-04T18:43:59.319Z"
   },
   {
    "duration": 76,
    "start_time": "2023-05-04T18:43:59.353Z"
   },
   {
    "duration": 16,
    "start_time": "2023-05-04T18:43:59.432Z"
   },
   {
    "duration": 37,
    "start_time": "2023-05-04T18:43:59.454Z"
   },
   {
    "duration": 8,
    "start_time": "2023-05-04T18:43:59.493Z"
   },
   {
    "duration": 1243,
    "start_time": "2023-05-04T18:43:59.503Z"
   },
   {
    "duration": 1296,
    "start_time": "2023-05-04T18:44:00.753Z"
   },
   {
    "duration": 1138,
    "start_time": "2023-05-04T18:44:02.050Z"
   },
   {
    "duration": 12,
    "start_time": "2023-05-04T18:44:03.191Z"
   },
   {
    "duration": 898,
    "start_time": "2023-05-04T18:44:03.206Z"
   },
   {
    "duration": 9,
    "start_time": "2023-05-04T18:44:04.106Z"
   },
   {
    "duration": 846,
    "start_time": "2023-05-04T18:44:04.117Z"
   },
   {
    "duration": 7,
    "start_time": "2023-05-04T18:44:04.965Z"
   },
   {
    "duration": 842,
    "start_time": "2023-05-04T18:44:04.976Z"
   },
   {
    "duration": 28,
    "start_time": "2023-05-04T18:44:05.821Z"
   },
   {
    "duration": 9,
    "start_time": "2023-05-04T18:44:05.862Z"
   },
   {
    "duration": 1014,
    "start_time": "2023-05-04T18:44:05.874Z"
   },
   {
    "duration": 14,
    "start_time": "2023-05-04T18:44:06.890Z"
   },
   {
    "duration": 23,
    "start_time": "2023-05-04T18:44:06.907Z"
   },
   {
    "duration": 1015,
    "start_time": "2023-05-04T18:44:06.933Z"
   },
   {
    "duration": 12,
    "start_time": "2023-05-04T18:44:07.949Z"
   },
   {
    "duration": 992,
    "start_time": "2023-05-04T18:44:07.965Z"
   },
   {
    "duration": 18,
    "start_time": "2023-05-04T18:44:08.963Z"
   },
   {
    "duration": 195,
    "start_time": "2023-05-04T18:44:08.984Z"
   },
   {
    "duration": 910,
    "start_time": "2023-05-04T18:44:09.183Z"
   },
   {
    "duration": 21,
    "start_time": "2023-05-04T18:44:10.095Z"
   },
   {
    "duration": 121,
    "start_time": "2023-05-04T18:44:10.117Z"
   },
   {
    "duration": 64,
    "start_time": "2023-05-04T18:44:10.241Z"
   },
   {
    "duration": 26,
    "start_time": "2023-05-04T18:44:10.307Z"
   },
   {
    "duration": 55,
    "start_time": "2023-05-04T18:44:10.336Z"
   },
   {
    "duration": 35946,
    "start_time": "2023-05-04T18:44:10.394Z"
   },
   {
    "duration": 13,
    "start_time": "2023-05-04T18:44:46.351Z"
   },
   {
    "duration": 36206,
    "start_time": "2023-05-04T18:44:46.374Z"
   },
   {
    "duration": 6,
    "start_time": "2023-05-04T18:45:22.582Z"
   },
   {
    "duration": 132428,
    "start_time": "2023-05-04T18:45:22.590Z"
   },
   {
    "duration": 55,
    "start_time": "2023-05-04T18:47:35.020Z"
   },
   {
    "duration": 12199,
    "start_time": "2023-05-04T18:47:35.081Z"
   },
   {
    "duration": 523,
    "start_time": "2023-05-04T18:47:47.283Z"
   },
   {
    "duration": 14,
    "start_time": "2023-05-04T18:47:47.808Z"
   },
   {
    "duration": 411,
    "start_time": "2023-05-04T18:55:33.127Z"
   },
   {
    "duration": 420,
    "start_time": "2023-05-04T18:56:41.639Z"
   },
   {
    "duration": 1815,
    "start_time": "2023-05-04T18:57:08.174Z"
   },
   {
    "duration": 869,
    "start_time": "2023-05-04T18:57:09.992Z"
   },
   {
    "duration": 31,
    "start_time": "2023-05-04T18:57:10.863Z"
   },
   {
    "duration": 13,
    "start_time": "2023-05-04T18:57:10.895Z"
   },
   {
    "duration": 12,
    "start_time": "2023-05-04T18:57:10.911Z"
   },
   {
    "duration": 38,
    "start_time": "2023-05-04T18:57:10.925Z"
   },
   {
    "duration": 17,
    "start_time": "2023-05-04T18:57:10.972Z"
   },
   {
    "duration": 14,
    "start_time": "2023-05-04T18:57:10.992Z"
   },
   {
    "duration": 43,
    "start_time": "2023-05-04T18:57:11.008Z"
   },
   {
    "duration": 54,
    "start_time": "2023-05-04T18:57:11.053Z"
   },
   {
    "duration": 19,
    "start_time": "2023-05-04T18:57:11.109Z"
   },
   {
    "duration": 57,
    "start_time": "2023-05-04T18:57:11.131Z"
   },
   {
    "duration": 16,
    "start_time": "2023-05-04T18:57:11.191Z"
   },
   {
    "duration": 49,
    "start_time": "2023-05-04T18:57:11.211Z"
   },
   {
    "duration": 34,
    "start_time": "2023-05-04T18:57:11.262Z"
   },
   {
    "duration": 19,
    "start_time": "2023-05-04T18:57:11.298Z"
   },
   {
    "duration": 35,
    "start_time": "2023-05-04T18:57:11.319Z"
   },
   {
    "duration": 33,
    "start_time": "2023-05-04T18:57:11.362Z"
   },
   {
    "duration": 21,
    "start_time": "2023-05-04T18:57:11.397Z"
   },
   {
    "duration": 1479,
    "start_time": "2023-05-04T18:57:11.420Z"
   },
   {
    "duration": 1402,
    "start_time": "2023-05-04T18:57:12.903Z"
   },
   {
    "duration": 1255,
    "start_time": "2023-05-04T18:57:14.307Z"
   },
   {
    "duration": 10,
    "start_time": "2023-05-04T18:57:15.575Z"
   },
   {
    "duration": 965,
    "start_time": "2023-05-04T18:57:15.590Z"
   },
   {
    "duration": 14,
    "start_time": "2023-05-04T18:57:16.566Z"
   },
   {
    "duration": 739,
    "start_time": "2023-05-04T18:57:16.582Z"
   },
   {
    "duration": 7,
    "start_time": "2023-05-04T18:57:17.322Z"
   },
   {
    "duration": 864,
    "start_time": "2023-05-04T18:57:17.341Z"
   },
   {
    "duration": 10,
    "start_time": "2023-05-04T18:57:18.208Z"
   },
   {
    "duration": 28,
    "start_time": "2023-05-04T18:57:18.221Z"
   },
   {
    "duration": 853,
    "start_time": "2023-05-04T18:57:18.255Z"
   },
   {
    "duration": 12,
    "start_time": "2023-05-04T18:57:19.111Z"
   },
   {
    "duration": 28,
    "start_time": "2023-05-04T18:57:19.125Z"
   },
   {
    "duration": 828,
    "start_time": "2023-05-04T18:57:19.162Z"
   },
   {
    "duration": 6,
    "start_time": "2023-05-04T18:57:19.993Z"
   },
   {
    "duration": 979,
    "start_time": "2023-05-04T18:57:20.002Z"
   },
   {
    "duration": 16,
    "start_time": "2023-05-04T18:57:20.984Z"
   },
   {
    "duration": 31,
    "start_time": "2023-05-04T18:57:21.002Z"
   },
   {
    "duration": 971,
    "start_time": "2023-05-04T18:57:21.036Z"
   },
   {
    "duration": 47,
    "start_time": "2023-05-04T18:57:22.009Z"
   },
   {
    "duration": 45,
    "start_time": "2023-05-04T18:57:22.063Z"
   },
   {
    "duration": 63,
    "start_time": "2023-05-04T18:57:22.111Z"
   },
   {
    "duration": 43,
    "start_time": "2023-05-04T18:57:22.178Z"
   },
   {
    "duration": 81,
    "start_time": "2023-05-04T18:57:22.224Z"
   },
   {
    "duration": 34927,
    "start_time": "2023-05-04T18:57:22.307Z"
   },
   {
    "duration": 15,
    "start_time": "2023-05-04T18:57:57.248Z"
   },
   {
    "duration": 34800,
    "start_time": "2023-05-04T18:57:57.276Z"
   },
   {
    "duration": 6,
    "start_time": "2023-05-04T18:58:32.078Z"
   },
   {
    "duration": 129906,
    "start_time": "2023-05-04T18:58:32.086Z"
   },
   {
    "duration": 19,
    "start_time": "2023-05-04T19:00:41.994Z"
   },
   {
    "duration": 6768,
    "start_time": "2023-05-04T19:00:42.015Z"
   },
   {
    "duration": 481,
    "start_time": "2023-05-04T19:00:48.796Z"
   },
   {
    "duration": 20,
    "start_time": "2023-05-04T19:00:49.280Z"
   },
   {
    "duration": 4,
    "start_time": "2023-05-04T19:13:55.670Z"
   },
   {
    "duration": 6431,
    "start_time": "2023-05-04T19:13:55.842Z"
   },
   {
    "duration": 527,
    "start_time": "2023-05-04T19:14:02.278Z"
   },
   {
    "duration": 10,
    "start_time": "2023-05-04T19:14:02.807Z"
   },
   {
    "duration": 1680,
    "start_time": "2023-05-04T19:14:10.234Z"
   },
   {
    "duration": 859,
    "start_time": "2023-05-04T19:14:11.917Z"
   },
   {
    "duration": 27,
    "start_time": "2023-05-04T19:14:12.779Z"
   },
   {
    "duration": 5,
    "start_time": "2023-05-04T19:14:12.808Z"
   },
   {
    "duration": 13,
    "start_time": "2023-05-04T19:14:12.816Z"
   },
   {
    "duration": 47,
    "start_time": "2023-05-04T19:14:12.830Z"
   },
   {
    "duration": 4,
    "start_time": "2023-05-04T19:14:12.879Z"
   },
   {
    "duration": 23,
    "start_time": "2023-05-04T19:14:12.885Z"
   },
   {
    "duration": 21,
    "start_time": "2023-05-04T19:14:12.910Z"
   },
   {
    "duration": 40,
    "start_time": "2023-05-04T19:14:12.933Z"
   },
   {
    "duration": 9,
    "start_time": "2023-05-04T19:14:12.977Z"
   },
   {
    "duration": 15,
    "start_time": "2023-05-04T19:14:12.988Z"
   },
   {
    "duration": 12,
    "start_time": "2023-05-04T19:14:13.005Z"
   },
   {
    "duration": 32,
    "start_time": "2023-05-04T19:14:13.020Z"
   },
   {
    "duration": 33,
    "start_time": "2023-05-04T19:14:13.054Z"
   },
   {
    "duration": 17,
    "start_time": "2023-05-04T19:14:13.089Z"
   },
   {
    "duration": 9,
    "start_time": "2023-05-04T19:14:13.108Z"
   },
   {
    "duration": 9,
    "start_time": "2023-05-04T19:14:13.118Z"
   },
   {
    "duration": 62,
    "start_time": "2023-05-04T19:14:13.128Z"
   },
   {
    "duration": 1511,
    "start_time": "2023-05-04T19:14:13.192Z"
   },
   {
    "duration": 1346,
    "start_time": "2023-05-04T19:14:14.705Z"
   },
   {
    "duration": 1373,
    "start_time": "2023-05-04T19:14:16.060Z"
   },
   {
    "duration": 12,
    "start_time": "2023-05-04T19:14:17.441Z"
   },
   {
    "duration": 808,
    "start_time": "2023-05-04T19:14:17.455Z"
   },
   {
    "duration": 8,
    "start_time": "2023-05-04T19:14:18.267Z"
   },
   {
    "duration": 758,
    "start_time": "2023-05-04T19:14:18.277Z"
   },
   {
    "duration": 11,
    "start_time": "2023-05-04T19:14:19.037Z"
   },
   {
    "duration": 815,
    "start_time": "2023-05-04T19:14:19.050Z"
   },
   {
    "duration": 15,
    "start_time": "2023-05-04T19:14:19.867Z"
   },
   {
    "duration": 17,
    "start_time": "2023-05-04T19:14:19.884Z"
   },
   {
    "duration": 816,
    "start_time": "2023-05-04T19:14:19.903Z"
   },
   {
    "duration": 24,
    "start_time": "2023-05-04T19:14:20.721Z"
   },
   {
    "duration": 36,
    "start_time": "2023-05-04T19:14:20.747Z"
   },
   {
    "duration": 761,
    "start_time": "2023-05-04T19:14:20.785Z"
   },
   {
    "duration": 17,
    "start_time": "2023-05-04T19:14:21.548Z"
   },
   {
    "duration": 968,
    "start_time": "2023-05-04T19:14:21.570Z"
   },
   {
    "duration": 18,
    "start_time": "2023-05-04T19:14:22.541Z"
   },
   {
    "duration": 16,
    "start_time": "2023-05-04T19:14:22.566Z"
   },
   {
    "duration": 790,
    "start_time": "2023-05-04T19:14:22.584Z"
   },
   {
    "duration": 19,
    "start_time": "2023-05-04T19:14:23.376Z"
   },
   {
    "duration": 4,
    "start_time": "2023-05-04T19:14:23.399Z"
   },
   {
    "duration": 11,
    "start_time": "2023-05-04T19:14:23.404Z"
   },
   {
    "duration": 29,
    "start_time": "2023-05-04T19:14:23.417Z"
   },
   {
    "duration": 36,
    "start_time": "2023-05-04T19:14:23.447Z"
   },
   {
    "duration": 33299,
    "start_time": "2023-05-04T19:14:23.484Z"
   },
   {
    "duration": 4,
    "start_time": "2023-05-04T19:14:56.785Z"
   },
   {
    "duration": 34333,
    "start_time": "2023-05-04T19:14:56.791Z"
   },
   {
    "duration": 4,
    "start_time": "2023-05-04T19:15:31.125Z"
   },
   {
    "duration": 130176,
    "start_time": "2023-05-04T19:15:31.145Z"
   },
   {
    "duration": 3,
    "start_time": "2023-05-04T19:17:41.323Z"
   },
   {
    "duration": 6238,
    "start_time": "2023-05-04T19:17:41.327Z"
   },
   {
    "duration": 511,
    "start_time": "2023-05-04T19:17:47.573Z"
   },
   {
    "duration": 12,
    "start_time": "2023-05-04T19:17:48.086Z"
   },
   {
    "duration": 1583,
    "start_time": "2023-05-04T19:29:48.199Z"
   },
   {
    "duration": 847,
    "start_time": "2023-05-04T19:29:49.786Z"
   },
   {
    "duration": 40,
    "start_time": "2023-05-04T19:29:50.635Z"
   },
   {
    "duration": 21,
    "start_time": "2023-05-04T19:29:50.678Z"
   },
   {
    "duration": 21,
    "start_time": "2023-05-04T19:29:50.702Z"
   },
   {
    "duration": 12,
    "start_time": "2023-05-04T19:29:50.726Z"
   },
   {
    "duration": 51,
    "start_time": "2023-05-04T19:29:50.740Z"
   },
   {
    "duration": 16,
    "start_time": "2023-05-04T19:29:50.793Z"
   },
   {
    "duration": 26,
    "start_time": "2023-05-04T19:29:50.811Z"
   },
   {
    "duration": 60,
    "start_time": "2023-05-04T19:29:50.841Z"
   },
   {
    "duration": 7,
    "start_time": "2023-05-04T19:29:50.903Z"
   },
   {
    "duration": 12,
    "start_time": "2023-05-04T19:29:50.911Z"
   },
   {
    "duration": 49,
    "start_time": "2023-05-04T19:29:50.925Z"
   },
   {
    "duration": 38,
    "start_time": "2023-05-04T19:29:50.976Z"
   },
   {
    "duration": 18,
    "start_time": "2023-05-04T19:29:51.016Z"
   },
   {
    "duration": 22,
    "start_time": "2023-05-04T19:29:51.036Z"
   },
   {
    "duration": 33,
    "start_time": "2023-05-04T19:29:51.060Z"
   },
   {
    "duration": 27,
    "start_time": "2023-05-04T19:29:51.095Z"
   },
   {
    "duration": 57,
    "start_time": "2023-05-04T19:29:51.124Z"
   },
   {
    "duration": 1412,
    "start_time": "2023-05-04T19:29:51.183Z"
   },
   {
    "duration": 1309,
    "start_time": "2023-05-04T19:29:52.597Z"
   },
   {
    "duration": 1260,
    "start_time": "2023-05-04T19:29:53.909Z"
   },
   {
    "duration": 10,
    "start_time": "2023-05-04T19:29:55.174Z"
   },
   {
    "duration": 1072,
    "start_time": "2023-05-04T19:29:55.187Z"
   },
   {
    "duration": 19,
    "start_time": "2023-05-04T19:29:56.263Z"
   },
   {
    "duration": 746,
    "start_time": "2023-05-04T19:29:56.287Z"
   },
   {
    "duration": 15,
    "start_time": "2023-05-04T19:29:57.041Z"
   },
   {
    "duration": 873,
    "start_time": "2023-05-04T19:29:57.064Z"
   },
   {
    "duration": 19,
    "start_time": "2023-05-04T19:29:57.941Z"
   },
   {
    "duration": 39,
    "start_time": "2023-05-04T19:29:57.965Z"
   },
   {
    "duration": 746,
    "start_time": "2023-05-04T19:29:58.006Z"
   },
   {
    "duration": 21,
    "start_time": "2023-05-04T19:29:58.754Z"
   },
   {
    "duration": 23,
    "start_time": "2023-05-04T19:29:58.777Z"
   },
   {
    "duration": 799,
    "start_time": "2023-05-04T19:29:58.802Z"
   },
   {
    "duration": 5,
    "start_time": "2023-05-04T19:29:59.602Z"
   },
   {
    "duration": 1010,
    "start_time": "2023-05-04T19:29:59.609Z"
   },
   {
    "duration": 28,
    "start_time": "2023-05-04T19:30:00.622Z"
   },
   {
    "duration": 167,
    "start_time": "2023-05-04T19:30:00.653Z"
   },
   {
    "duration": 941,
    "start_time": "2023-05-04T19:30:00.824Z"
   },
   {
    "duration": 25,
    "start_time": "2023-05-04T19:30:01.767Z"
   },
   {
    "duration": 31,
    "start_time": "2023-05-04T19:30:01.794Z"
   },
   {
    "duration": 146,
    "start_time": "2023-05-04T19:30:01.827Z"
   },
   {
    "duration": 121,
    "start_time": "2023-05-04T19:30:01.976Z"
   },
   {
    "duration": 84,
    "start_time": "2023-05-04T19:30:02.099Z"
   },
   {
    "duration": 35377,
    "start_time": "2023-05-04T19:30:02.186Z"
   },
   {
    "duration": 12,
    "start_time": "2023-05-04T19:30:37.566Z"
   },
   {
    "duration": 34423,
    "start_time": "2023-05-04T19:30:37.580Z"
   },
   {
    "duration": 5,
    "start_time": "2023-05-04T19:31:12.005Z"
   },
   {
    "duration": 1695,
    "start_time": "2023-05-04T19:33:28.310Z"
   },
   {
    "duration": 865,
    "start_time": "2023-05-04T19:33:30.007Z"
   },
   {
    "duration": 41,
    "start_time": "2023-05-04T19:33:30.874Z"
   },
   {
    "duration": 55,
    "start_time": "2023-05-04T19:33:30.918Z"
   },
   {
    "duration": 33,
    "start_time": "2023-05-04T19:33:30.979Z"
   },
   {
    "duration": 58,
    "start_time": "2023-05-04T19:33:31.014Z"
   },
   {
    "duration": 5,
    "start_time": "2023-05-04T19:33:31.074Z"
   },
   {
    "duration": 36,
    "start_time": "2023-05-04T19:33:31.081Z"
   },
   {
    "duration": 87,
    "start_time": "2023-05-04T19:33:31.119Z"
   },
   {
    "duration": 61,
    "start_time": "2023-05-04T19:33:31.208Z"
   },
   {
    "duration": 64,
    "start_time": "2023-05-04T19:33:31.271Z"
   },
   {
    "duration": 85,
    "start_time": "2023-05-04T19:33:31.337Z"
   },
   {
    "duration": 63,
    "start_time": "2023-05-04T19:33:31.424Z"
   },
   {
    "duration": 54,
    "start_time": "2023-05-04T19:33:31.489Z"
   },
   {
    "duration": 59,
    "start_time": "2023-05-04T19:33:31.547Z"
   },
   {
    "duration": 41,
    "start_time": "2023-05-04T19:33:31.608Z"
   },
   {
    "duration": 39,
    "start_time": "2023-05-04T19:33:31.652Z"
   },
   {
    "duration": 20,
    "start_time": "2023-05-04T19:33:31.693Z"
   },
   {
    "duration": 22,
    "start_time": "2023-05-04T19:33:31.715Z"
   },
   {
    "duration": 1554,
    "start_time": "2023-05-04T19:33:31.739Z"
   },
   {
    "duration": 1221,
    "start_time": "2023-05-04T19:33:33.296Z"
   },
   {
    "duration": 1227,
    "start_time": "2023-05-04T19:33:34.519Z"
   },
   {
    "duration": 8,
    "start_time": "2023-05-04T19:33:35.747Z"
   },
   {
    "duration": 1043,
    "start_time": "2023-05-04T19:33:35.757Z"
   },
   {
    "duration": 10,
    "start_time": "2023-05-04T19:33:36.802Z"
   },
   {
    "duration": 807,
    "start_time": "2023-05-04T19:33:36.814Z"
   },
   {
    "duration": 5,
    "start_time": "2023-05-04T19:33:37.623Z"
   },
   {
    "duration": 905,
    "start_time": "2023-05-04T19:33:37.643Z"
   },
   {
    "duration": 11,
    "start_time": "2023-05-04T19:33:38.550Z"
   },
   {
    "duration": 35,
    "start_time": "2023-05-04T19:33:38.563Z"
   },
   {
    "duration": 926,
    "start_time": "2023-05-04T19:33:38.600Z"
   },
   {
    "duration": 20,
    "start_time": "2023-05-04T19:33:39.528Z"
   },
   {
    "duration": 46,
    "start_time": "2023-05-04T19:33:39.554Z"
   },
   {
    "duration": 810,
    "start_time": "2023-05-04T19:33:39.605Z"
   },
   {
    "duration": 6,
    "start_time": "2023-05-04T19:33:40.418Z"
   },
   {
    "duration": 1072,
    "start_time": "2023-05-04T19:33:40.427Z"
   },
   {
    "duration": 13,
    "start_time": "2023-05-04T19:33:41.501Z"
   },
   {
    "duration": 5,
    "start_time": "2023-05-04T19:33:41.517Z"
   },
   {
    "duration": 859,
    "start_time": "2023-05-04T19:33:41.542Z"
   },
   {
    "duration": 23,
    "start_time": "2023-05-04T19:33:42.404Z"
   },
   {
    "duration": 45,
    "start_time": "2023-05-04T19:33:42.442Z"
   },
   {
    "duration": 13,
    "start_time": "2023-05-04T19:33:42.490Z"
   },
   {
    "duration": 32,
    "start_time": "2023-05-04T19:33:42.506Z"
   },
   {
    "duration": 43,
    "start_time": "2023-05-04T19:33:42.540Z"
   },
   {
    "duration": 35522,
    "start_time": "2023-05-04T19:33:42.585Z"
   },
   {
    "duration": 4,
    "start_time": "2023-05-04T19:34:18.109Z"
   },
   {
    "duration": 34725,
    "start_time": "2023-05-04T19:34:18.116Z"
   },
   {
    "duration": 8,
    "start_time": "2023-05-04T19:34:52.843Z"
   },
   {
    "duration": 129357,
    "start_time": "2023-05-04T19:34:52.853Z"
   },
   {
    "duration": 3,
    "start_time": "2023-05-04T19:37:02.212Z"
   },
   {
    "duration": 9762,
    "start_time": "2023-05-04T19:37:02.219Z"
   },
   {
    "duration": 456,
    "start_time": "2023-05-04T19:37:12.054Z"
   },
   {
    "duration": 12,
    "start_time": "2023-05-04T19:37:12.512Z"
   },
   {
    "duration": 1418,
    "start_time": "2023-06-10T16:44:12.042Z"
   },
   {
    "duration": 3447,
    "start_time": "2023-06-10T16:44:13.462Z"
   },
   {
    "duration": 24,
    "start_time": "2023-06-10T16:44:16.911Z"
   },
   {
    "duration": 8,
    "start_time": "2023-06-10T16:44:16.937Z"
   },
   {
    "duration": 11,
    "start_time": "2023-06-10T16:44:16.947Z"
   },
   {
    "duration": 9,
    "start_time": "2023-06-10T16:44:16.960Z"
   },
   {
    "duration": 5,
    "start_time": "2023-06-10T16:44:16.970Z"
   },
   {
    "duration": 6,
    "start_time": "2023-06-10T16:44:16.977Z"
   },
   {
    "duration": 31,
    "start_time": "2023-06-10T16:44:16.984Z"
   },
   {
    "duration": 28,
    "start_time": "2023-06-10T16:44:17.018Z"
   },
   {
    "duration": 5,
    "start_time": "2023-06-10T16:44:17.048Z"
   },
   {
    "duration": 15,
    "start_time": "2023-06-10T16:44:17.054Z"
   },
   {
    "duration": 6,
    "start_time": "2023-06-10T16:44:17.070Z"
   },
   {
    "duration": 20,
    "start_time": "2023-06-10T16:44:17.077Z"
   },
   {
    "duration": 55,
    "start_time": "2023-06-10T16:44:17.098Z"
   },
   {
    "duration": 10,
    "start_time": "2023-06-10T16:44:17.155Z"
   },
   {
    "duration": 8,
    "start_time": "2023-06-10T16:44:17.167Z"
   },
   {
    "duration": 7,
    "start_time": "2023-06-10T16:44:17.177Z"
   },
   {
    "duration": 45,
    "start_time": "2023-06-10T16:44:17.185Z"
   },
   {
    "duration": 1209,
    "start_time": "2023-06-10T16:44:17.231Z"
   },
   {
    "duration": 1805,
    "start_time": "2023-06-10T16:44:18.442Z"
   },
   {
    "duration": 1506,
    "start_time": "2023-06-10T16:44:20.248Z"
   },
   {
    "duration": 6,
    "start_time": "2023-06-10T16:44:21.755Z"
   },
   {
    "duration": 1987,
    "start_time": "2023-06-10T16:44:21.762Z"
   },
   {
    "duration": 6,
    "start_time": "2023-06-10T16:44:23.751Z"
   },
   {
    "duration": 1374,
    "start_time": "2023-06-10T16:44:23.758Z"
   },
   {
    "duration": 7,
    "start_time": "2023-06-10T16:44:25.134Z"
   },
   {
    "duration": 1204,
    "start_time": "2023-06-10T16:44:25.145Z"
   },
   {
    "duration": 8,
    "start_time": "2023-06-10T16:44:26.350Z"
   },
   {
    "duration": 57,
    "start_time": "2023-06-10T16:44:26.359Z"
   },
   {
    "duration": 1146,
    "start_time": "2023-06-10T16:44:26.418Z"
   },
   {
    "duration": 14,
    "start_time": "2023-06-10T16:44:27.630Z"
   },
   {
    "duration": 22,
    "start_time": "2023-06-10T16:44:27.647Z"
   },
   {
    "duration": 1089,
    "start_time": "2023-06-10T16:44:27.671Z"
   },
   {
    "duration": 3,
    "start_time": "2023-06-10T16:44:28.762Z"
   },
   {
    "duration": 1450,
    "start_time": "2023-06-10T16:44:28.766Z"
   },
   {
    "duration": 10,
    "start_time": "2023-06-10T16:44:30.217Z"
   },
   {
    "duration": 3,
    "start_time": "2023-06-10T16:44:30.228Z"
   },
   {
    "duration": 854,
    "start_time": "2023-06-10T16:44:30.233Z"
   },
   {
    "duration": 17,
    "start_time": "2023-06-10T16:44:31.089Z"
   },
   {
    "duration": 37,
    "start_time": "2023-06-10T16:44:31.108Z"
   },
   {
    "duration": 33,
    "start_time": "2023-06-10T16:44:31.147Z"
   },
   {
    "duration": 68,
    "start_time": "2023-06-10T16:44:31.182Z"
   },
   {
    "duration": 13,
    "start_time": "2023-06-10T16:44:31.251Z"
   },
   {
    "duration": 34841,
    "start_time": "2023-06-10T16:44:31.265Z"
   },
   {
    "duration": 14,
    "start_time": "2023-06-10T16:45:06.108Z"
   },
   {
    "duration": 34631,
    "start_time": "2023-06-10T16:45:06.124Z"
   },
   {
    "duration": 3,
    "start_time": "2023-06-10T16:45:40.757Z"
   },
   {
    "duration": 139863,
    "start_time": "2023-06-10T16:45:40.762Z"
   },
   {
    "duration": 14,
    "start_time": "2023-06-10T16:48:00.626Z"
   },
   {
    "duration": 3593,
    "start_time": "2023-06-10T16:48:00.641Z"
   },
   {
    "duration": 502,
    "start_time": "2023-06-10T16:48:04.238Z"
   },
   {
    "duration": 10,
    "start_time": "2023-06-10T16:48:04.741Z"
   }
  ],
  "kernelspec": {
   "display_name": "Python 3 (ipykernel)",
   "language": "python",
   "name": "python3"
  },
  "language_info": {
   "codemirror_mode": {
    "name": "ipython",
    "version": 3
   },
   "file_extension": ".py",
   "mimetype": "text/x-python",
   "name": "python",
   "nbconvert_exporter": "python",
   "pygments_lexer": "ipython3",
   "version": "3.9.16"
  },
  "toc": {
   "base_numbering": 1,
   "nav_menu": {},
   "number_sections": true,
   "sideBar": true,
   "skip_h1_title": true,
   "title_cell": "Содержание",
   "title_sidebar": "Contents",
   "toc_cell": true,
   "toc_position": {
    "height": "calc(100% - 180px)",
    "left": "10px",
    "top": "150px",
    "width": "284.275px"
   },
   "toc_section_display": true,
   "toc_window_display": true
  }
 },
 "nbformat": 4,
 "nbformat_minor": 4
}
