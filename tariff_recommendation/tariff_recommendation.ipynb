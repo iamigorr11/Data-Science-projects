{
 "cells": [
  {
   "cell_type": "markdown",
   "metadata": {},
   "source": [
    "## Откройте и изучите файл"
   ]
  },
  {
   "cell_type": "markdown",
   "metadata": {},
   "source": [
    "Откроем файл с данными и изучим его."
   ]
  },
  {
   "cell_type": "code",
   "execution_count": 1,
   "metadata": {},
   "outputs": [],
   "source": [
    "import pandas as pd\n",
    "import numpy as np\n",
    "import matplotlib.pyplot as plt\n",
    "import warnings\n",
    "warnings.filterwarnings('ignore')"
   ]
  },
  {
   "cell_type": "code",
   "execution_count": 2,
   "metadata": {},
   "outputs": [
    {
     "name": "stdout",
     "output_type": "stream",
     "text": [
      "   calls  minutes  messages   mb_used  is_ultra\n",
      "0   40.0   311.90      83.0  19915.42         0\n",
      "1   85.0   516.75      56.0  22696.96         0\n",
      "2   77.0   467.66      86.0  21060.45         0\n",
      "3  106.0   745.53      81.0   8437.39         1\n",
      "4   66.0   418.74       1.0  14502.75         0\n",
      "<class 'pandas.core.frame.DataFrame'>\n",
      "RangeIndex: 3214 entries, 0 to 3213\n",
      "Data columns (total 5 columns):\n",
      " #   Column    Non-Null Count  Dtype  \n",
      "---  ------    --------------  -----  \n",
      " 0   calls     3214 non-null   float64\n",
      " 1   minutes   3214 non-null   float64\n",
      " 2   messages  3214 non-null   float64\n",
      " 3   mb_used   3214 non-null   float64\n",
      " 4   is_ultra  3214 non-null   int64  \n",
      "dtypes: float64(4), int64(1)\n",
      "memory usage: 125.7 KB\n",
      "None\n"
     ]
    }
   ],
   "source": [
    "# информация о датасете\n",
    "\n",
    "df = pd.read_csv('/datasets/users_behavior.csv')\n",
    "print(df.head())\n",
    "print(df.info())"
   ]
  },
  {
   "cell_type": "markdown",
   "metadata": {},
   "source": [
    "## Разбейте данные на выборки"
   ]
  },
  {
   "cell_type": "markdown",
   "metadata": {},
   "source": [
    "Для того, чтобы обучить модель, необходимо разделить признаки и целевые признаки на обучающую, валидационную и тестовую выборки. Произведем разделение в соотношении 3:1:1"
   ]
  },
  {
   "cell_type": "code",
   "execution_count": 3,
   "metadata": {},
   "outputs": [
    {
     "name": "stdout",
     "output_type": "stream",
     "text": [
      "Размер обучающей выборки с признаками (1928, 4)\n",
      "Размер обучающей выборки с целевым признаком (1928,)\n",
      "Размер валидационной выборки с признаками (643, 4)\n",
      "Размер валидационной выборки с целевым признаком (643,)\n",
      "Размер тестовой выборки с признаками (643, 4)\n",
      "Размер тестовой выборки с целевым признаком (643,)\n"
     ]
    }
   ],
   "source": [
    "# Выделим признаки\n",
    "\n",
    "features = df.drop('is_ultra', axis=1) \n",
    "\n",
    "# Выделим целевой признак\n",
    "\n",
    "target = df['is_ultra'] \n",
    "\n",
    "# Импортируем train_test_split из модуля sklearn.model_selection\n",
    "\n",
    "from sklearn.model_selection import train_test_split as tts\n",
    "\n",
    "# Разделим признаки и целевой признак в соотношении 3:1:1 на обучающую, валидационную и тестовую,\n",
    "# предварительно выделив валидационную и тестовую в одну выборку\n",
    "\n",
    "features_train, features_valid_and_test, target_train, target_valid_and_test = tts(\n",
    "    features, target, test_size=0.4, random_state=12345)\n",
    "\n",
    "# Выделим валидационную и тестовую выборку\n",
    "\n",
    "features_valid, features_test, target_valid, target_test = tts(\n",
    "    features_valid_and_test, target_valid_and_test, test_size=0.5, random_state=12345)\n",
    "\n",
    "# рассмотрим размеры обучающей, валидационной и тестовой выборок.\n",
    "\n",
    "print('Размер обучающей выборки с признаками', features_train.shape)\n",
    "print('Размер обучающей выборки с целевым признаком', target_train.shape)\n",
    "print('Размер валидационной выборки с признаками', features_valid.shape)\n",
    "print('Размер валидационной выборки с целевым признаком', target_valid.shape)\n",
    "print('Размер тестовой выборки с признаками', features_test.shape)\n",
    "print('Размер тестовой выборки с целевым признаком', target_test.shape)"
   ]
  },
  {
   "cell_type": "markdown",
   "metadata": {},
   "source": [
    "## Исследуйте модели"
   ]
  },
  {
   "cell_type": "markdown",
   "metadata": {},
   "source": [
    "Для исследования выберем следующие алгоритмы классификации для обучения модели: 1) случайный лес, 2) дерево решений, 3) логистическая регрессия."
   ]
  },
  {
   "cell_type": "code",
   "execution_count": 4,
   "metadata": {},
   "outputs": [
    {
     "name": "stdout",
     "output_type": "stream",
     "text": [
      "Accuracy модели алгоритма 'случайный лес' на валидационной выборке: 0.8040435458786936\n",
      "Наилучшее количество деревьев в лесу: 10\n",
      "Наилучшая функция измерения качества разделения: entropy\n",
      "Наилучшая максимальная глубина дерева: 9\n"
     ]
    }
   ],
   "source": [
    "# импортируем алгоритм \"случайный лес\".\n",
    "\n",
    "from sklearn.ensemble import RandomForestClassifier as RFC\n",
    "\n",
    "# для определения лучших параметров зададим начальные значения параметров и запустим циклы для их перебора.\n",
    "\n",
    "best_model_rfc = None\n",
    "best_result_rfc = 0\n",
    "for est in range(1, 11): # переберем количество деревьев в лесу\n",
    "    for crit in ['gini', 'entropy']: # переберем функцию измерения качества разделения\n",
    "        for depth in range(1, 11): # переберем максимальную глубину дерева\n",
    "            model_rfc = RFC(random_state=12345, \n",
    "                        n_estimators=est, \n",
    "                        criterion = crit,\n",
    "                        max_depth = depth) \n",
    "            model_rfc.fit(features_train, target_train) # обучим модель на тренировочной выборке\n",
    "            result = model_rfc.score(features_valid, target_valid) # посчитаем качество модели на валидационной выборке\n",
    "            if result > best_result_rfc:\n",
    "                best_model_rfc = model_rfc # сохраним наилучшую модель\n",
    "                best_result_rfc = result  # сохраним наилучшее значение метрики accuracy на валидационных данных\n",
    "                best_est_rfc = est # сохраним наилучшее количество деревьев в лесу\n",
    "                best_crit = crit # сохраним наилучшую функцию измерения качества разделения\n",
    "                best_depth_rtc = depth # сохраним наилучшую максимальную глубину дерева\n",
    "print(\"Accuracy модели алгоритма 'случайный лес' на валидационной выборке:\", best_result_rfc) \n",
    "print('Наилучшее количество деревьев в лесу:', best_est_rfc)\n",
    "print('Наилучшая функция измерения качества разделения:', best_crit)\n",
    "print('Наилучшая максимальная глубина дерева:',best_depth_rtc)"
   ]
  },
  {
   "cell_type": "markdown",
   "metadata": {},
   "source": [
    "Рассмотрим графически зависимость качества модели от количества деревьев в лесу."
   ]
  },
  {
   "cell_type": "code",
   "execution_count": 5,
   "metadata": {},
   "outputs": [
    {
     "data": {
      "text/plain": [
       "Text(0, 0.5, 'Accuracy')"
      ]
     },
     "execution_count": 5,
     "metadata": {},
     "output_type": "execute_result"
    },
    {
     "data": {
      "image/png": "[encoded data removed]",
      "text/plain": [
       "<Figure size 432x288 with 1 Axes>"
      ]
     },
     "metadata": {
      "needs_background": "light"
     },
     "output_type": "display_data"
    }
   ],
   "source": [
    "est_rfc = []\n",
    "result_est = []\n",
    "\n",
    "for est in range(1, 11):\n",
    "    model_rfc = RFC(random_state=12345, \n",
    "                    n_estimators=est) # создадим модель с различным количество дереьев\n",
    "    model_rfc.fit(features_train, target_train) # обучим модель на тренировочной выборке\n",
    "    result_rfc = model_rfc.score(features_valid, target_valid) # посчитаем качество модели на валидационной выборке\n",
    "    est_rfc.append(est)\n",
    "    result_est.append(result_rfc)\n",
    "\n",
    "plt.plot(est_rfc, result_est, 'o-')\n",
    "plt.title('Зависимость качества модели от количества деревьев в лесу')\n",
    "plt.xlabel('n_estimators')\n",
    "plt.ylabel('Accuracy')\n",
    "    \n",
    "    "
   ]
  },
  {
   "cell_type": "markdown",
   "metadata": {},
   "source": [
    "Рассмотрим графически зависимости качества модели от функции измерения качества разделения."
   ]
  },
  {
   "cell_type": "code",
   "execution_count": 6,
   "metadata": {},
   "outputs": [
    {
     "data": {
      "text/plain": [
       "Text(0, 0.5, 'Accuracy')"
      ]
     },
     "execution_count": 6,
     "metadata": {},
     "output_type": "execute_result"
    },
    {
     "data": {
      "image/png": "[encoded data removed]",
      "text/plain": [
       "<Figure size 432x288 with 1 Axes>"
      ]
     },
     "metadata": {
      "needs_background": "light"
     },
     "output_type": "display_data"
    }
   ],
   "source": [
    "crit_rfc = []\n",
    "result_crit = []\n",
    "\n",
    "for crit in ['gini', 'entropy']:\n",
    "    model_rfc = RFC(random_state=12345, \n",
    "                    criterion = crit) # создадим модель с различным количество дереьев\n",
    "    model_rfc.fit(features_train, target_train) # обучим модель на тренировочной выборке\n",
    "    result_rfc = model_rfc.score(features_valid, target_valid) # посчитаем качество модели на валидационной выборке\n",
    "    crit_rfc.append(crit)\n",
    "    result_crit.append(result_rfc)\n",
    "\n",
    "plt.plot(crit_rfc, result_crit, 'o-')\n",
    "plt.title('Зависимость качества модели от функции измерения качества разделения')\n",
    "plt.xlabel('criterion')\n",
    "plt.ylabel('Accuracy')"
   ]
  },
  {
   "cell_type": "markdown",
   "metadata": {},
   "source": [
    "Рассмотрим графически зависимости качества модели от максимальной глубины дерева."
   ]
  },
  {
   "cell_type": "code",
   "execution_count": 7,
   "metadata": {},
   "outputs": [
    {
     "data": {
      "text/plain": [
       "Text(0, 0.5, 'Accuracy')"
      ]
     },
     "execution_count": 7,
     "metadata": {},
     "output_type": "execute_result"
    },
    {
     "data": {
      "image/png": "[encoded data removed]",
      "text/plain": [
       "<Figure size 432x288 with 1 Axes>"
      ]
     },
     "metadata": {
      "needs_background": "light"
     },
     "output_type": "display_data"
    }
   ],
   "source": [
    "depth_rfc = []\n",
    "result_depth = []\n",
    "\n",
    "for depth in range(1, 11):\n",
    "    model_rfc = RFC(random_state=12345, \n",
    "                    max_depth = depth) # создадим модель с различным количество дереьев\n",
    "    model_rfc.fit(features_train, target_train) # обучим модель на тренировочной выборке\n",
    "    result_rfc = model_rfc.score(features_valid, target_valid) # посчитаем качество модели на валидационной выборке\n",
    "    depth_rfc.append(depth)\n",
    "    result_depth.append(result_rfc)\n",
    "\n",
    "plt.plot(depth_rfc, result_depth, 'o-')\n",
    "plt.title('Зависимость качества модели от от максимальной глубины дерева')\n",
    "plt.xlabel('depth')\n",
    "plt.ylabel('Accuracy')    "
   ]
  },
  {
   "cell_type": "markdown",
   "metadata": {},
   "source": [
    "Как можно заметить, пиковые значения параметров \"количество деревьев в лесу\" и \"функции измерения качества разделения\" на графиках совпадают с полученными наилучшими значениями параметрамов. Параметр \"максимальная глубины дерева\" не имеет наибольшее значение в наилучшем значении параметра. Скорее всего это связано с тем, что в именно в такой комбинации всех параметров значение качества имеет наибольшее значение. "
   ]
  },
  {
   "cell_type": "code",
   "execution_count": 8,
   "metadata": {
    "scrolled": true
   },
   "outputs": [
    {
     "name": "stdout",
     "output_type": "stream",
     "text": [
      "Accuracy наилучшей модели алгоритма 'дерево решений'  на валидационной выборке: 0.7884914463452566\n",
      "Наилучшее значение максимальной глубины дерева: 7\n",
      "Наилучшее значение функции измерения качества разделения: entropy\n",
      "Наилучшая стратегия, используемая для выбора разделения в каждом узле: random\n"
     ]
    }
   ],
   "source": [
    "# импортируем алгоритм \"дерево решений\".\n",
    "\n",
    "from sklearn.tree import DecisionTreeClassifier as DTC\n",
    "\n",
    "# для определения лучших параметров зададим начальные значения параметров и запустим циклы для их перебора.\n",
    "\n",
    "best_model_dtc = None\n",
    "best_result_dtc = 0\n",
    "best_depth_dtc = 0\n",
    "best_crit = []\n",
    "best_split = []\n",
    "for depth in range(1, 20): # переберем максимальную глубину дерева\n",
    "    for crit in ['gini', 'entropy']: # переберем функцию измерения качества разделения\n",
    "        for split in ['best', 'random']: # переберем стратегию, используемую для выбора разделения в каждом узле\n",
    "                model_dtc = DTC(random_state=12345, \n",
    "                                max_depth=depth,\n",
    "                                criterion = crit,\n",
    "                                splitter = split) \n",
    "                model_dtc.fit(features_train, target_train) # обучим модель на тренировочной выборке\n",
    "                result_dtc = model_dtc.score(features_valid, target_valid) # посчитаем значение метрики accuracy на валидационной данных\n",
    "                if result_dtc > best_result_dtc:\n",
    "                    best_model_dtc = model_dtc # сохраним наилучшую модель\n",
    "                    best_result_dtc = result_dtc # сохраним наилучшее значение метрики accuracy на валидационных данных\n",
    "                    best_depth_dtc = depth # сохраним наилучшее значение максимальной глубины дерева\n",
    "                    best_criterion = crit # сохраним наилучшее значение функции измерения качества разделения\n",
    "                    best_splitter = split # сохраним наилучшую стратегию, используемую для выбора разделения в каждом узле\n",
    "print(\"Accuracy наилучшей модели алгоритма 'дерево решений'  на валидационной выборке:\", best_result_dtc) \n",
    "print(\"Наилучшее значение максимальной глубины дерева:\", best_depth_dtc)\n",
    "print('Наилучшее значение функции измерения качества разделения:', best_criterion)\n",
    "print('Наилучшая стратегия, используемая для выбора разделения в каждом узле:',best_splitter )"
   ]
  },
  {
   "cell_type": "markdown",
   "metadata": {},
   "source": [
    "Рассмотрим графически зависимости качества модели от максимальной глубины дерева."
   ]
  },
  {
   "cell_type": "code",
   "execution_count": 9,
   "metadata": {},
   "outputs": [
    {
     "data": {
      "text/plain": [
       "Text(0, 0.5, 'Accuracy')"
      ]
     },
     "execution_count": 9,
     "metadata": {},
     "output_type": "execute_result"
    },
    {
     "data": {
      "image/png": "[encoded data removed]",
      "text/plain": [
       "<Figure size 432x288 with 1 Axes>"
      ]
     },
     "metadata": {
      "needs_background": "light"
     },
     "output_type": "display_data"
    }
   ],
   "source": [
    "depth_dtc = []\n",
    "result_depth = []\n",
    "\n",
    "for depth in range(1, 11):\n",
    "    model_dtc = DTC(random_state=12345,max_depth=depth) \n",
    "    model_dtc.fit(features_train, target_train) # обучим модель на тренировочной выборке\n",
    "    result_dtc = model_dtc.score(features_valid, target_valid) # посчитаем качество модели на валидационной выборке\n",
    "    depth_dtc.append(depth)\n",
    "    result_depth.append(result_dtc)\n",
    "\n",
    "plt.plot(depth_dtc, result_depth, 'o-')\n",
    "plt.title('Зависимость качества модели от от максимальной глубины дерева')\n",
    "plt.xlabel('depth')\n",
    "plt.ylabel('Accuracy')    "
   ]
  },
  {
   "cell_type": "markdown",
   "metadata": {},
   "source": [
    "Рассмотрим графически зависимости качества модели от функции измерения качества разделения."
   ]
  },
  {
   "cell_type": "code",
   "execution_count": 10,
   "metadata": {},
   "outputs": [
    {
     "data": {
      "text/plain": [
       "Text(0, 0.5, 'Accuracy')"
      ]
     },
     "execution_count": 10,
     "metadata": {},
     "output_type": "execute_result"
    },
    {
     "data": {
      "image/png": "[encoded data removed]",
      "text/plain": [
       "<Figure size 432x288 with 1 Axes>"
      ]
     },
     "metadata": {
      "needs_background": "light"
     },
     "output_type": "display_data"
    }
   ],
   "source": [
    "crit_dtc = []\n",
    "result_crit = []\n",
    "\n",
    "for crit in ['gini', 'entropy']:\n",
    "    model_dtc = DTC(random_state=12345, \n",
    "                                criterion = crit) \n",
    "    model_dtc.fit(features_train, target_train) # обучим модель на тренировочной выборке\n",
    "    result_dtc = model_dtc.score(features_valid, target_valid) # посчитаем качество модели на валидационной выборке\n",
    "    crit_dtc.append(crit)\n",
    "    result_crit.append(result_dtc)\n",
    "\n",
    "plt.plot(crit_dtc, result_crit, 'o-')\n",
    "plt.title('Зависимость качества модели от функции измерения качества разделения')\n",
    "plt.xlabel('criterion')\n",
    "plt.ylabel('Accuracy')    "
   ]
  },
  {
   "cell_type": "markdown",
   "metadata": {},
   "source": [
    "Рассмотрим графически зависимости качества модели от стратегии, используемой для выбора разделения в каждом узле."
   ]
  },
  {
   "cell_type": "code",
   "execution_count": 11,
   "metadata": {},
   "outputs": [
    {
     "data": {
      "text/plain": [
       "Text(0, 0.5, 'Accuracy')"
      ]
     },
     "execution_count": 11,
     "metadata": {},
     "output_type": "execute_result"
    },
    {
     "data": {
      "image/png": "[encoded data removed]",
      "text/plain": [
       "<Figure size 432x288 with 1 Axes>"
      ]
     },
     "metadata": {
      "needs_background": "light"
     },
     "output_type": "display_data"
    }
   ],
   "source": [
    "split_dtc = []\n",
    "result_split = []\n",
    "\n",
    "for split in ['best', 'random']:\n",
    "    model_dtc = DTC(random_state=12345, \n",
    "                               splitter = split) \n",
    "    model_dtc.fit(features_train, target_train) # обучим модель на тренировочной выборке\n",
    "    result_dtc = model_dtc.score(features_valid, target_valid) # посчитаем качество модели на валидационной выборке\n",
    "    split_dtc.append(split)\n",
    "    result_split.append(result_dtc)\n",
    "\n",
    "plt.plot(split_dtc, result_split, 'o-')\n",
    "plt.title('Зависимость качества модели от стратегии, используемой для выбора разделения в каждом узле')\n",
    "plt.xlabel('splitter')\n",
    "plt.ylabel('Accuracy')  "
   ]
  },
  {
   "cell_type": "markdown",
   "metadata": {},
   "source": [
    "Можно сделать вывод, что для параметров \"функция измерения качества разделения\" и \"стратегия, используемую для выбора разделения в каждом узле\" графически максимальное значение качества соответствует наилучшим значениям. Параметр \"максимальная глубины дерева\" не имеет наибольшее значение в наилучшем значении параметра. Скорее всего это связано с тем, что в именно в такой комбинации всех параметров значение качества имеет наибольшее значение."
   ]
  },
  {
   "cell_type": "code",
   "execution_count": 12,
   "metadata": {},
   "outputs": [
    {
     "name": "stdout",
     "output_type": "stream",
     "text": [
      "Accuracy наилучшей модели алгоритма 'логистическая регрессия' на валидационной выборке: 0.7558320373250389\n",
      "Наилучший алгоритм для использования в задаче оптимизации: newton-cg\n"
     ]
    }
   ],
   "source": [
    "# импортируем алгоритм \"логистическая регрессия\".\n",
    "\n",
    "from joblib import dump\n",
    "\n",
    "from sklearn.linear_model import LogisticRegression as LR\n",
    "\n",
    "# инициализируем модель LogisticRegression с параметрами random_state=12345, solver='lbfgs' и max_iter=1000\n",
    "\n",
    "solvers = ['lbfgs', 'liblinear', 'newton-cg', 'sag', 'saga']\n",
    "best_result_lr = 0\n",
    "\n",
    "for sol in solvers: # переберем алгоритм для использования в задаче оптимизации\n",
    "    model_lr = LR(random_state=12345, \n",
    "                  solver=sol, \n",
    "                  max_iter=1000) \n",
    "    model_lr.fit(features_train, target_train) # обучим модель на тренировочной выборке\n",
    "    result_lr = model_lr.score(features_valid, target_valid) # посчитаем значение метрики accuracy на валидационной данных\n",
    "    if result_lr > best_result_lr:\n",
    "        best_result_lr = result_lr\n",
    "        best_sol = sol\n",
    "print(\"Accuracy наилучшей модели алгоритма 'логистическая регрессия' на валидационной выборке:\", best_result_lr)\n",
    "print(\"Наилучший алгоритм для использования в задаче оптимизации:\",best_sol)"
   ]
  },
  {
   "cell_type": "markdown",
   "metadata": {},
   "source": [
    "Посмотрим графическую зависимость качество модели от алгоритма для использования в задаче оптимизации."
   ]
  },
  {
   "cell_type": "code",
   "execution_count": 13,
   "metadata": {},
   "outputs": [
    {
     "data": {
      "text/plain": [
       "Text(0, 0.5, 'Accuracy')"
      ]
     },
     "execution_count": 13,
     "metadata": {},
     "output_type": "execute_result"
    },
    {
     "data": {
      "image/png": "[encoded data removed]",
      "text/plain": [
       "<Figure size 432x288 with 1 Axes>"
      ]
     },
     "metadata": {
      "needs_background": "light"
     },
     "output_type": "display_data"
    }
   ],
   "source": [
    "split_lr = []\n",
    "result_split = []\n",
    "\n",
    "for sol in solvers:\n",
    "    model_lr = LR(random_state=12345, \n",
    "                  solver=sol, \n",
    "                  max_iter=1000)\n",
    "    model_lr.fit(features_train, target_train)\n",
    "    dump(model_lr, 'model_9_1.joblib')\n",
    "    result = model_lr.score(features_valid, target_valid)\n",
    "    split_lr.append(sol)\n",
    "    result_split.append(result)\n",
    "\n",
    "plt.plot(split_lr, result_split, 'o-')\n",
    "plt.title('Зависимость качества модели от алгоритма для использования в задаче оптимизации')\n",
    "plt.xlabel('splitter')\n",
    "plt.ylabel('Accuracy') "
   ]
  },
  {
   "cell_type": "markdown",
   "metadata": {},
   "source": [
    "Как можно заметить графически наибольшее значение accuracy соответствует тому же алгоритму для использования в задаче оптимизации, что и при определении через цикл."
   ]
  },
  {
   "cell_type": "markdown",
   "metadata": {},
   "source": [
    "Наибольшое значение accuracy, равное 0,785, имеет модель с алгоритмом \"случайный лес\". Выбираем модель с данным алгоритмом для проверки тестовой выборки."
   ]
  },
  {
   "cell_type": "markdown",
   "metadata": {},
   "source": [
    "## Проверьте модель на тестовой выборке"
   ]
  },
  {
   "cell_type": "markdown",
   "metadata": {},
   "source": [
    "Проверим качество модель с алгоритмом \"случайный лес\" на тестовой выборке."
   ]
  },
  {
   "cell_type": "code",
   "execution_count": 14,
   "metadata": {},
   "outputs": [
    {
     "name": "stdout",
     "output_type": "stream",
     "text": [
      "Accuracy модели алгоритма 'логистическая регрессия' на тестовой выборке: 0.8102643856920684\n"
     ]
    }
   ],
   "source": [
    "result = best_model_rfc.score(features_test, target_test) # посчитаем качество модели на тестовой выборке\n",
    "print(\"Accuracy модели алгоритма 'логистическая регрессия' на тестовой выборке:\", result)"
   ]
  },
  {
   "cell_type": "markdown",
   "metadata": {},
   "source": [
    "Модель с алгоритмом \"случайный лес\" на тестовой выборке имеет высокое значение качества, 0,77, что больше необходимой точности, 0,75."
   ]
  },
  {
   "cell_type": "markdown",
   "metadata": {},
   "source": [
    "## (бонус) Проверьте модели на адекватность"
   ]
  },
  {
   "cell_type": "markdown",
   "metadata": {},
   "source": [
    "Проверим модель на вменяемость. Для этого используем классификатор DummyClassifier. Данный классификатор делает прогнозы, при этом игнорирует входные признаки. Это модель классификатора, которая делает прогнозы, не пытаясь найти закономерности в данных. Модель по умолчанию по существу рассматривает, какая метка наиболее часто встречается в обучающем наборе данных, и делает прогнозы на основе этой метки. "
   ]
  },
  {
   "cell_type": "code",
   "execution_count": 15,
   "metadata": {},
   "outputs": [
    {
     "name": "stdout",
     "output_type": "stream",
     "text": [
      "0.6842923794712286\n"
     ]
    }
   ],
   "source": [
    "from sklearn.dummy import DummyClassifier\n",
    "dummy_clf = DummyClassifier(strategy=\"most_frequent\")\n",
    "dummy_clf.fit(features_train, target_train)\n",
    "result_test = dummy_clf.score(features_test, target_test)\n",
    "print(result_test)"
   ]
  },
  {
   "cell_type": "markdown",
   "metadata": {},
   "source": [
    "Можно сделать вывод, что точноть классификатора DummyClassifier, равный 0,684 ниже выбранного алгоритма для модели, равный 0,785. Следовательно наша модель адекватна и достаточна точна."
   ]
  }
 ],
 "metadata": {
  "ExecuteTimeLog": [
   {
    "duration": 607,
    "start_time": "2023-03-13T12:04:35.982Z"
   },
   {
    "duration": 49,
    "start_time": "2023-03-13T12:07:16.374Z"
   },
   {
    "duration": 810,
    "start_time": "2023-03-13T12:15:41.368Z"
   },
   {
    "duration": 9,
    "start_time": "2023-03-13T12:16:00.275Z"
   },
   {
    "duration": 39,
    "start_time": "2023-03-13T12:16:15.999Z"
   },
   {
    "duration": 20,
    "start_time": "2023-03-13T12:30:29.034Z"
   },
   {
    "duration": 14,
    "start_time": "2023-03-13T12:30:50.962Z"
   },
   {
    "duration": 9,
    "start_time": "2023-03-13T12:31:16.238Z"
   },
   {
    "duration": 7,
    "start_time": "2023-03-13T12:54:27.442Z"
   },
   {
    "duration": 8,
    "start_time": "2023-03-13T12:56:09.477Z"
   },
   {
    "duration": 11,
    "start_time": "2023-03-13T13:58:29.628Z"
   },
   {
    "duration": 53,
    "start_time": "2023-03-13T13:59:01.756Z"
   },
   {
    "duration": 17,
    "start_time": "2023-03-13T13:59:05.964Z"
   },
   {
    "duration": 15,
    "start_time": "2023-03-13T13:59:26.509Z"
   },
   {
    "duration": 17,
    "start_time": "2023-03-13T13:59:32.848Z"
   },
   {
    "duration": 32,
    "start_time": "2023-03-13T13:59:45.264Z"
   },
   {
    "duration": 30,
    "start_time": "2023-03-13T14:02:30.053Z"
   },
   {
    "duration": 51,
    "start_time": "2023-03-13T14:02:41.029Z"
   },
   {
    "duration": 30,
    "start_time": "2023-03-13T14:03:41.041Z"
   },
   {
    "duration": 12,
    "start_time": "2023-03-13T14:05:56.199Z"
   },
   {
    "duration": 4478,
    "start_time": "2023-03-13T14:06:20.725Z"
   },
   {
    "duration": 13301,
    "start_time": "2023-03-13T14:06:48.442Z"
   },
   {
    "duration": 4519,
    "start_time": "2023-03-13T14:07:11.557Z"
   },
   {
    "duration": 81,
    "start_time": "2023-03-13T14:08:16.645Z"
   },
   {
    "duration": 21,
    "start_time": "2023-03-13T14:08:24.802Z"
   },
   {
    "duration": 10,
    "start_time": "2023-03-13T14:08:35.662Z"
   },
   {
    "duration": 1070,
    "start_time": "2023-03-13T16:01:26.691Z"
   },
   {
    "duration": 590,
    "start_time": "2023-03-13T16:01:35.208Z"
   },
   {
    "duration": 734,
    "start_time": "2023-03-13T16:01:35.800Z"
   },
   {
    "duration": 67,
    "start_time": "2023-03-13T16:01:36.536Z"
   },
   {
    "duration": 4560,
    "start_time": "2023-03-13T16:01:36.606Z"
   },
   {
    "duration": 10,
    "start_time": "2023-03-13T16:01:41.169Z"
   },
   {
    "duration": 306,
    "start_time": "2023-03-13T16:01:41.180Z"
   },
   {
    "duration": 884,
    "start_time": "2023-03-14T09:00:24.712Z"
   },
   {
    "duration": 495,
    "start_time": "2023-03-14T09:00:28.945Z"
   },
   {
    "duration": 650,
    "start_time": "2023-03-14T09:00:29.441Z"
   },
   {
    "duration": 272,
    "start_time": "2023-03-14T09:00:30.093Z"
   },
   {
    "duration": 515,
    "start_time": "2023-03-14T09:00:30.368Z"
   },
   {
    "duration": 105,
    "start_time": "2023-03-14T09:25:06.200Z"
   },
   {
    "duration": 39,
    "start_time": "2023-03-14T09:25:24.269Z"
   },
   {
    "duration": 802,
    "start_time": "2023-03-14T09:25:51.098Z"
   },
   {
    "duration": 327,
    "start_time": "2023-03-14T09:26:28.304Z"
   },
   {
    "duration": 3034,
    "start_time": "2023-03-14T09:26:36.887Z"
   },
   {
    "duration": 30,
    "start_time": "2023-03-14T09:26:39.923Z"
   },
   {
    "duration": 4728,
    "start_time": "2023-03-14T09:57:15.405Z"
   },
   {
    "duration": 396,
    "start_time": "2023-03-14T09:57:26.301Z"
   },
   {
    "duration": 34,
    "start_time": "2023-03-14T09:57:35.298Z"
   },
   {
    "duration": 5389,
    "start_time": "2023-03-14T09:58:59.004Z"
   },
   {
    "duration": 248,
    "start_time": "2023-03-14T09:59:10.449Z"
   },
   {
    "duration": 243,
    "start_time": "2023-03-14T10:01:55.317Z"
   },
   {
    "duration": 269,
    "start_time": "2023-03-14T10:02:00.941Z"
   },
   {
    "duration": 44,
    "start_time": "2023-03-14T10:14:50.608Z"
   },
   {
    "duration": 14,
    "start_time": "2023-03-14T10:14:50.943Z"
   },
   {
    "duration": 556,
    "start_time": "2023-03-14T10:14:51.124Z"
   },
   {
    "duration": 46,
    "start_time": "2023-03-14T10:15:19.199Z"
   },
   {
    "duration": 9,
    "start_time": "2023-03-14T10:15:19.776Z"
   },
   {
    "duration": 214,
    "start_time": "2023-03-14T10:15:20.475Z"
   },
   {
    "duration": 34,
    "start_time": "2023-03-14T13:00:31.449Z"
   },
   {
    "duration": 31,
    "start_time": "2023-03-14T13:00:48.091Z"
   },
   {
    "duration": 541,
    "start_time": "2023-03-14T18:30:19.688Z"
   },
   {
    "duration": 691,
    "start_time": "2023-03-14T18:30:22.495Z"
   },
   {
    "duration": 141,
    "start_time": "2023-03-14T18:35:29.015Z"
   },
   {
    "duration": 461,
    "start_time": "2023-03-14T18:35:35.566Z"
   },
   {
    "duration": 694,
    "start_time": "2023-03-14T18:35:36.029Z"
   },
   {
    "duration": 147,
    "start_time": "2023-03-14T18:35:36.725Z"
   },
   {
    "duration": 0,
    "start_time": "2023-03-14T18:35:36.875Z"
   },
   {
    "duration": 0,
    "start_time": "2023-03-14T18:35:36.876Z"
   },
   {
    "duration": 0,
    "start_time": "2023-03-14T18:35:36.877Z"
   },
   {
    "duration": 0,
    "start_time": "2023-03-14T18:35:36.879Z"
   },
   {
    "duration": 0,
    "start_time": "2023-03-14T18:35:36.880Z"
   },
   {
    "duration": 7,
    "start_time": "2023-03-14T18:37:02.610Z"
   },
   {
    "duration": 11,
    "start_time": "2023-03-14T18:37:04.490Z"
   },
   {
    "duration": 8,
    "start_time": "2023-03-14T18:37:24.351Z"
   },
   {
    "duration": 907,
    "start_time": "2023-03-14T18:37:26.614Z"
   },
   {
    "duration": 1273,
    "start_time": "2023-03-15T10:04:40.440Z"
   },
   {
    "duration": 358,
    "start_time": "2023-03-15T10:04:47.424Z"
   },
   {
    "duration": 9,
    "start_time": "2023-03-15T10:04:49.029Z"
   },
   {
    "duration": 1014,
    "start_time": "2023-03-15T10:04:51.929Z"
   },
   {
    "duration": 939,
    "start_time": "2023-03-15T10:05:34.472Z"
   },
   {
    "duration": 1206,
    "start_time": "2023-03-15T10:07:55.328Z"
   },
   {
    "duration": 1112,
    "start_time": "2023-03-15T10:08:04.713Z"
   },
   {
    "duration": 37,
    "start_time": "2023-03-15T10:09:50.312Z"
   },
   {
    "duration": 210,
    "start_time": "2023-03-15T10:09:56.618Z"
   },
   {
    "duration": 40,
    "start_time": "2023-03-15T10:10:04.819Z"
   },
   {
    "duration": 328,
    "start_time": "2023-03-15T10:10:10.160Z"
   },
   {
    "duration": 3200,
    "start_time": "2023-03-15T10:15:21.919Z"
   },
   {
    "duration": 2471,
    "start_time": "2023-03-15T10:15:28.438Z"
   },
   {
    "duration": 74,
    "start_time": "2023-03-15T10:16:13.218Z"
   },
   {
    "duration": 353,
    "start_time": "2023-03-15T10:17:25.078Z"
   },
   {
    "duration": 44,
    "start_time": "2023-03-15T10:17:46.278Z"
   },
   {
    "duration": 338,
    "start_time": "2023-03-15T10:18:01.782Z"
   },
   {
    "duration": 345,
    "start_time": "2023-03-15T10:18:13.250Z"
   },
   {
    "duration": 38,
    "start_time": "2023-03-15T10:19:03.713Z"
   },
   {
    "duration": 320,
    "start_time": "2023-03-15T10:19:15.535Z"
   },
   {
    "duration": 46,
    "start_time": "2023-03-15T10:19:30.174Z"
   },
   {
    "duration": 37,
    "start_time": "2023-03-15T10:19:52.029Z"
   },
   {
    "duration": 43,
    "start_time": "2023-03-15T10:20:21.560Z"
   },
   {
    "duration": 36,
    "start_time": "2023-03-15T10:20:32.059Z"
   },
   {
    "duration": 324,
    "start_time": "2023-03-15T10:21:04.558Z"
   },
   {
    "duration": 38,
    "start_time": "2023-03-15T10:21:06.530Z"
   },
   {
    "duration": 112,
    "start_time": "2023-03-15T10:21:08.218Z"
   },
   {
    "duration": 41,
    "start_time": "2023-03-15T10:21:41.055Z"
   },
   {
    "duration": 44,
    "start_time": "2023-03-15T10:22:46.021Z"
   },
   {
    "duration": 344,
    "start_time": "2023-03-15T10:22:55.200Z"
   },
   {
    "duration": 46,
    "start_time": "2023-03-15T10:23:01.475Z"
   },
   {
    "duration": 12,
    "start_time": "2023-03-15T10:23:31.663Z"
   },
   {
    "duration": 297,
    "start_time": "2023-03-15T10:37:07.837Z"
   },
   {
    "duration": 87,
    "start_time": "2023-03-15T10:37:45.446Z"
   },
   {
    "duration": 39,
    "start_time": "2023-03-15T10:37:47.511Z"
   },
   {
    "duration": 12,
    "start_time": "2023-03-15T12:13:27.044Z"
   },
   {
    "duration": 11,
    "start_time": "2023-03-15T12:40:52.071Z"
   },
   {
    "duration": 6,
    "start_time": "2023-03-15T13:24:27.223Z"
   },
   {
    "duration": 8,
    "start_time": "2023-03-15T13:24:46.877Z"
   },
   {
    "duration": 12,
    "start_time": "2023-03-15T13:25:01.297Z"
   },
   {
    "duration": 7,
    "start_time": "2023-03-15T13:25:11.443Z"
   },
   {
    "duration": 12,
    "start_time": "2023-03-15T13:26:01.193Z"
   },
   {
    "duration": 7,
    "start_time": "2023-03-15T13:26:14.669Z"
   },
   {
    "duration": 12,
    "start_time": "2023-03-15T13:26:18.990Z"
   },
   {
    "duration": 6,
    "start_time": "2023-03-15T13:26:26.808Z"
   },
   {
    "duration": 8,
    "start_time": "2023-03-15T13:30:57.821Z"
   },
   {
    "duration": 14,
    "start_time": "2023-03-15T13:31:11.622Z"
   },
   {
    "duration": 9,
    "start_time": "2023-03-15T13:35:14.799Z"
   },
   {
    "duration": 12,
    "start_time": "2023-03-15T14:40:28.589Z"
   },
   {
    "duration": 18,
    "start_time": "2023-03-15T15:46:40.228Z"
   },
   {
    "duration": 471,
    "start_time": "2023-03-15T15:46:45.730Z"
   },
   {
    "duration": 842,
    "start_time": "2023-03-15T15:46:46.203Z"
   },
   {
    "duration": 0,
    "start_time": "2023-03-15T15:46:47.047Z"
   },
   {
    "duration": 0,
    "start_time": "2023-03-15T15:46:47.048Z"
   },
   {
    "duration": 0,
    "start_time": "2023-03-15T15:46:47.050Z"
   },
   {
    "duration": 0,
    "start_time": "2023-03-15T15:46:47.051Z"
   },
   {
    "duration": 0,
    "start_time": "2023-03-15T15:46:47.052Z"
   },
   {
    "duration": 12,
    "start_time": "2023-03-15T15:47:29.294Z"
   },
   {
    "duration": 10,
    "start_time": "2023-03-15T15:47:42.942Z"
   },
   {
    "duration": 41,
    "start_time": "2023-03-15T15:52:27.011Z"
   },
   {
    "duration": 35,
    "start_time": "2023-03-15T15:52:33.143Z"
   },
   {
    "duration": 34,
    "start_time": "2023-03-15T15:55:58.292Z"
   },
   {
    "duration": 50,
    "start_time": "2023-03-15T15:56:08.020Z"
   },
   {
    "duration": 12,
    "start_time": "2023-03-15T16:04:30.762Z"
   },
   {
    "duration": 10,
    "start_time": "2023-03-15T16:05:26.790Z"
   },
   {
    "duration": 11,
    "start_time": "2023-03-15T16:07:20.926Z"
   },
   {
    "duration": 12,
    "start_time": "2023-03-15T16:07:44.507Z"
   },
   {
    "duration": 76,
    "start_time": "2023-03-15T16:14:20.764Z"
   },
   {
    "duration": 487,
    "start_time": "2023-03-15T16:14:31.292Z"
   },
   {
    "duration": 747,
    "start_time": "2023-03-15T16:14:31.781Z"
   },
   {
    "duration": 176,
    "start_time": "2023-03-15T16:14:32.530Z"
   },
   {
    "duration": 0,
    "start_time": "2023-03-15T16:14:32.708Z"
   },
   {
    "duration": 0,
    "start_time": "2023-03-15T16:14:32.709Z"
   },
   {
    "duration": 0,
    "start_time": "2023-03-15T16:14:32.710Z"
   },
   {
    "duration": 0,
    "start_time": "2023-03-15T16:14:32.711Z"
   },
   {
    "duration": 271,
    "start_time": "2023-03-15T16:14:46.025Z"
   },
   {
    "duration": 57,
    "start_time": "2023-03-15T16:20:01.206Z"
   },
   {
    "duration": 56,
    "start_time": "2023-03-15T16:20:08.181Z"
   },
   {
    "duration": 49,
    "start_time": "2023-03-15T16:20:20.998Z"
   },
   {
    "duration": 50,
    "start_time": "2023-03-15T16:20:28.526Z"
   },
   {
    "duration": 76,
    "start_time": "2023-03-15T16:20:48.250Z"
   },
   {
    "duration": 49,
    "start_time": "2023-03-15T16:21:01.090Z"
   },
   {
    "duration": 566,
    "start_time": "2023-03-15T16:26:03.963Z"
   },
   {
    "duration": 53,
    "start_time": "2023-03-15T16:26:30.483Z"
   },
   {
    "duration": 600,
    "start_time": "2023-03-15T16:26:36.715Z"
   },
   {
    "duration": 630,
    "start_time": "2023-03-15T16:27:17.475Z"
   },
   {
    "duration": 1235,
    "start_time": "2023-03-16T16:26:29.182Z"
   },
   {
    "duration": 547,
    "start_time": "2023-03-16T16:26:33.694Z"
   },
   {
    "duration": 806,
    "start_time": "2023-03-16T16:26:34.243Z"
   },
   {
    "duration": 438,
    "start_time": "2023-03-16T16:26:35.052Z"
   },
   {
    "duration": 33,
    "start_time": "2023-03-16T16:26:35.492Z"
   },
   {
    "duration": 65,
    "start_time": "2023-03-16T16:26:35.526Z"
   },
   {
    "duration": 8,
    "start_time": "2023-03-16T16:26:35.593Z"
   },
   {
    "duration": 6,
    "start_time": "2023-03-16T16:26:35.603Z"
   },
   {
    "duration": 1908,
    "start_time": "2023-03-16T16:26:54.985Z"
   },
   {
    "duration": 91,
    "start_time": "2023-03-16T16:31:38.347Z"
   },
   {
    "duration": 1968,
    "start_time": "2023-03-16T16:31:49.774Z"
   },
   {
    "duration": 25191,
    "start_time": "2023-03-16T16:32:22.243Z"
   },
   {
    "duration": 25229,
    "start_time": "2023-03-16T16:38:26.442Z"
   },
   {
    "duration": 25779,
    "start_time": "2023-03-16T16:40:42.203Z"
   },
   {
    "duration": 28306,
    "start_time": "2023-03-16T16:45:46.956Z"
   },
   {
    "duration": 28944,
    "start_time": "2023-03-16T16:48:07.153Z"
   },
   {
    "duration": 29450,
    "start_time": "2023-03-16T16:49:17.765Z"
   },
   {
    "duration": 51,
    "start_time": "2023-03-16T16:50:18.585Z"
   },
   {
    "duration": 102,
    "start_time": "2023-03-17T07:59:34.368Z"
   },
   {
    "duration": 2259,
    "start_time": "2023-03-17T07:59:46.013Z"
   },
   {
    "duration": 21,
    "start_time": "2023-03-17T08:00:01.606Z"
   },
   {
    "duration": 629,
    "start_time": "2023-03-17T08:00:14.618Z"
   },
   {
    "duration": 957,
    "start_time": "2023-03-17T08:00:15.250Z"
   },
   {
    "duration": 33541,
    "start_time": "2023-03-17T08:00:16.210Z"
   },
   {
    "duration": 70,
    "start_time": "2023-03-17T08:00:49.754Z"
   },
   {
    "duration": 0,
    "start_time": "2023-03-17T08:00:49.827Z"
   },
   {
    "duration": 0,
    "start_time": "2023-03-17T08:00:49.829Z"
   },
   {
    "duration": 0,
    "start_time": "2023-03-17T08:00:49.830Z"
   },
   {
    "duration": 529,
    "start_time": "2023-03-17T10:56:41.171Z"
   },
   {
    "duration": 763,
    "start_time": "2023-03-17T10:56:41.703Z"
   },
   {
    "duration": 27126,
    "start_time": "2023-03-17T10:56:42.469Z"
   },
   {
    "duration": 74,
    "start_time": "2023-03-17T10:57:09.597Z"
   },
   {
    "duration": 0,
    "start_time": "2023-03-17T10:57:09.672Z"
   },
   {
    "duration": 0,
    "start_time": "2023-03-17T10:57:09.674Z"
   },
   {
    "duration": 0,
    "start_time": "2023-03-17T10:57:09.675Z"
   },
   {
    "duration": 73,
    "start_time": "2023-03-17T11:53:10.889Z"
   },
   {
    "duration": 71,
    "start_time": "2023-03-17T11:53:37.599Z"
   },
   {
    "duration": 86,
    "start_time": "2023-03-17T11:54:03.227Z"
   },
   {
    "duration": 163,
    "start_time": "2023-03-17T11:54:19.434Z"
   },
   {
    "duration": 91,
    "start_time": "2023-03-17T11:54:29.590Z"
   },
   {
    "duration": 91,
    "start_time": "2023-03-17T11:56:40.333Z"
   },
   {
    "duration": 444,
    "start_time": "2023-03-17T11:56:51.935Z"
   },
   {
    "duration": 358,
    "start_time": "2023-03-17T12:48:39.900Z"
   },
   {
    "duration": 907,
    "start_time": "2023-03-17T12:49:43.583Z"
   },
   {
    "duration": 956,
    "start_time": "2023-03-17T12:50:02.267Z"
   },
   {
    "duration": 870,
    "start_time": "2023-03-17T12:50:13.410Z"
   },
   {
    "duration": 828,
    "start_time": "2023-03-17T12:50:41.233Z"
   },
   {
    "duration": 362,
    "start_time": "2023-03-17T12:55:11.266Z"
   },
   {
    "duration": 766,
    "start_time": "2023-03-17T12:55:25.490Z"
   },
   {
    "duration": 356,
    "start_time": "2023-03-17T12:55:35.731Z"
   },
   {
    "duration": 776,
    "start_time": "2023-03-17T12:56:05.889Z"
   },
   {
    "duration": 575,
    "start_time": "2023-03-17T13:41:40.813Z"
   },
   {
    "duration": 967,
    "start_time": "2023-03-17T13:42:02.470Z"
   },
   {
    "duration": 341,
    "start_time": "2023-03-17T13:42:27.169Z"
   },
   {
    "duration": 871,
    "start_time": "2023-03-17T13:42:41.342Z"
   },
   {
    "duration": 424,
    "start_time": "2023-03-17T13:42:58.075Z"
   },
   {
    "duration": 352,
    "start_time": "2023-03-17T13:43:26.273Z"
   },
   {
    "duration": 423,
    "start_time": "2023-03-17T13:43:43.646Z"
   },
   {
    "duration": 15,
    "start_time": "2023-03-17T13:49:02.918Z"
   },
   {
    "duration": 433,
    "start_time": "2023-03-17T13:50:33.609Z"
   },
   {
    "duration": 921,
    "start_time": "2023-03-17T13:50:53.710Z"
   },
   {
    "duration": 1272,
    "start_time": "2023-03-17T13:51:02.475Z"
   },
   {
    "duration": 464,
    "start_time": "2023-03-22T08:51:23.450Z"
   },
   {
    "duration": 685,
    "start_time": "2023-03-22T08:51:23.916Z"
   },
   {
    "duration": 24598,
    "start_time": "2023-03-22T08:51:24.602Z"
   },
   {
    "duration": 459,
    "start_time": "2023-03-22T08:51:49.202Z"
   },
   {
    "duration": 387,
    "start_time": "2023-03-22T08:51:49.663Z"
   },
   {
    "duration": 0,
    "start_time": "2023-03-22T08:51:50.052Z"
   },
   {
    "duration": 0,
    "start_time": "2023-03-22T08:51:50.053Z"
   },
   {
    "duration": 295,
    "start_time": "2023-03-22T08:52:11.359Z"
   },
   {
    "duration": 1152,
    "start_time": "2023-03-22T08:52:36.235Z"
   },
   {
    "duration": 1152,
    "start_time": "2023-03-22T08:53:01.347Z"
   },
   {
    "duration": 456,
    "start_time": "2023-03-22T08:54:45.395Z"
   },
   {
    "duration": 469,
    "start_time": "2023-03-22T08:54:53.391Z"
   },
   {
    "duration": 459,
    "start_time": "2023-03-22T08:55:06.812Z"
   },
   {
    "duration": 9,
    "start_time": "2023-03-22T09:09:48.548Z"
   },
   {
    "duration": 9,
    "start_time": "2023-03-22T09:10:20.068Z"
   },
   {
    "duration": 9,
    "start_time": "2023-03-22T09:10:44.132Z"
   },
   {
    "duration": 11,
    "start_time": "2023-03-22T09:10:48.200Z"
   },
   {
    "duration": 143,
    "start_time": "2023-03-22T09:11:27.482Z"
   },
   {
    "duration": 191,
    "start_time": "2023-03-22T09:19:32.077Z"
   },
   {
    "duration": 25677,
    "start_time": "2023-03-22T09:20:02.832Z"
   },
   {
    "duration": 184,
    "start_time": "2023-03-22T09:20:54.336Z"
   },
   {
    "duration": 191,
    "start_time": "2023-03-22T09:25:42.249Z"
   },
   {
    "duration": 258,
    "start_time": "2023-03-22T09:26:27.785Z"
   },
   {
    "duration": 1188,
    "start_time": "2023-03-22T11:44:48.019Z"
   },
   {
    "duration": 13,
    "start_time": "2023-03-22T11:44:51.252Z"
   },
   {
    "duration": 1170,
    "start_time": "2023-03-22T11:45:08.512Z"
   },
   {
    "duration": 10,
    "start_time": "2023-03-22T11:45:09.684Z"
   },
   {
    "duration": 524,
    "start_time": "2023-03-22T11:45:36.166Z"
   },
   {
    "duration": 1263,
    "start_time": "2023-03-22T11:45:36.692Z"
   },
   {
    "duration": 8,
    "start_time": "2023-03-22T11:45:37.956Z"
   },
   {
    "duration": 4,
    "start_time": "2023-03-22T11:45:37.966Z"
   },
   {
    "duration": 95,
    "start_time": "2023-03-22T11:46:04.845Z"
   },
   {
    "duration": 26961,
    "start_time": "2023-03-22T11:46:04.942Z"
   },
   {
    "duration": 1156,
    "start_time": "2023-03-22T11:47:04.158Z"
   },
   {
    "duration": 12,
    "start_time": "2023-03-22T11:47:05.316Z"
   },
   {
    "duration": 27058,
    "start_time": "2023-03-22T11:47:05.330Z"
   },
   {
    "duration": 109,
    "start_time": "2023-03-22T11:47:32.390Z"
   },
   {
    "duration": 529,
    "start_time": "2023-03-22T11:47:32.501Z"
   },
   {
    "duration": 1256,
    "start_time": "2023-03-22T11:47:33.032Z"
   },
   {
    "duration": 7,
    "start_time": "2023-03-22T11:47:34.290Z"
   },
   {
    "duration": 8,
    "start_time": "2023-03-22T11:47:34.298Z"
   },
   {
    "duration": 118,
    "start_time": "2023-03-22T11:48:09.366Z"
   },
   {
    "duration": 10,
    "start_time": "2023-03-22T11:48:47.723Z"
   },
   {
    "duration": 10,
    "start_time": "2023-03-22T11:49:10.903Z"
   },
   {
    "duration": 9,
    "start_time": "2023-03-22T11:49:22.903Z"
   },
   {
    "duration": 10,
    "start_time": "2023-03-22T11:51:59.091Z"
   },
   {
    "duration": 9,
    "start_time": "2023-03-22T11:53:51.799Z"
   },
   {
    "duration": 46,
    "start_time": "2023-03-22T12:25:41.933Z"
   },
   {
    "duration": 10,
    "start_time": "2023-03-22T12:25:44.924Z"
   },
   {
    "duration": 26098,
    "start_time": "2023-03-22T12:25:47.517Z"
   },
   {
    "duration": 8,
    "start_time": "2023-03-22T12:26:13.616Z"
   },
   {
    "duration": 479,
    "start_time": "2023-03-22T12:41:30.155Z"
   },
   {
    "duration": 10,
    "start_time": "2023-03-22T12:44:27.189Z"
   },
   {
    "duration": 15,
    "start_time": "2023-03-22T12:49:00.023Z"
   },
   {
    "duration": 14,
    "start_time": "2023-03-22T12:49:07.182Z"
   },
   {
    "duration": 25795,
    "start_time": "2023-03-22T12:49:41.167Z"
   },
   {
    "duration": 12545,
    "start_time": "2023-03-22T12:53:01.680Z"
   },
   {
    "duration": 25591,
    "start_time": "2023-03-22T12:53:23.484Z"
   },
   {
    "duration": 3345,
    "start_time": "2023-03-22T12:58:42.633Z"
   },
   {
    "duration": 1660,
    "start_time": "2023-03-22T12:58:56.989Z"
   },
   {
    "duration": 3335,
    "start_time": "2023-03-22T12:59:07.333Z"
   },
   {
    "duration": 474,
    "start_time": "2023-03-22T13:02:22.717Z"
   },
   {
    "duration": 235,
    "start_time": "2023-03-22T13:02:30.706Z"
   },
   {
    "duration": 563,
    "start_time": "2023-03-22T13:02:34.681Z"
   },
   {
    "duration": 242,
    "start_time": "2023-03-22T13:02:44.346Z"
   },
   {
    "duration": 467,
    "start_time": "2023-03-22T13:02:51.814Z"
   },
   {
    "duration": 348,
    "start_time": "2023-03-22T13:03:00.389Z"
   },
   {
    "duration": 484,
    "start_time": "2023-03-22T13:03:03.877Z"
   },
   {
    "duration": 18,
    "start_time": "2023-03-22T13:09:24.482Z"
   },
   {
    "duration": 18,
    "start_time": "2023-03-22T13:10:21.234Z"
   },
   {
    "duration": 18,
    "start_time": "2023-03-22T13:12:25.855Z"
   },
   {
    "duration": 19,
    "start_time": "2023-03-22T13:13:27.444Z"
   },
   {
    "duration": 18,
    "start_time": "2023-03-22T13:13:42.876Z"
   },
   {
    "duration": 13,
    "start_time": "2023-03-22T13:17:23.684Z"
   },
   {
    "duration": 259,
    "start_time": "2023-03-22T13:19:48.814Z"
   },
   {
    "duration": 23,
    "start_time": "2023-03-22T13:19:59.985Z"
   },
   {
    "duration": 268,
    "start_time": "2023-03-22T13:20:20.527Z"
   },
   {
    "duration": 261,
    "start_time": "2023-03-22T13:20:29.222Z"
   },
   {
    "duration": 265,
    "start_time": "2023-03-22T13:20:36.917Z"
   },
   {
    "duration": 22,
    "start_time": "2023-03-22T13:21:04.308Z"
   },
   {
    "duration": 24,
    "start_time": "2023-03-22T13:21:30.645Z"
   },
   {
    "duration": 267,
    "start_time": "2023-03-22T13:24:09.279Z"
   },
   {
    "duration": 18,
    "start_time": "2023-03-22T13:27:19.160Z"
   },
   {
    "duration": 22,
    "start_time": "2023-03-22T13:27:24.168Z"
   },
   {
    "duration": 258,
    "start_time": "2023-03-22T13:27:35.944Z"
   },
   {
    "duration": 261,
    "start_time": "2023-03-22T13:27:48.823Z"
   },
   {
    "duration": 256,
    "start_time": "2023-03-22T13:27:54.632Z"
   },
   {
    "duration": 261,
    "start_time": "2023-03-22T13:28:09.680Z"
   },
   {
    "duration": 280,
    "start_time": "2023-03-22T13:30:27.921Z"
   },
   {
    "duration": 412,
    "start_time": "2023-03-22T13:30:41.913Z"
   },
   {
    "duration": 11,
    "start_time": "2023-03-22T13:30:43.313Z"
   },
   {
    "duration": 3537,
    "start_time": "2023-03-22T13:30:44.309Z"
   },
   {
    "duration": 371,
    "start_time": "2023-03-22T13:30:47.847Z"
   },
   {
    "duration": 0,
    "start_time": "2023-03-22T13:30:48.219Z"
   },
   {
    "duration": 0,
    "start_time": "2023-03-22T13:30:48.221Z"
   },
   {
    "duration": 382,
    "start_time": "2023-03-22T13:31:02.287Z"
   },
   {
    "duration": 373,
    "start_time": "2023-03-22T13:45:40.276Z"
   },
   {
    "duration": 20,
    "start_time": "2023-03-22T13:45:57.340Z"
   },
   {
    "duration": 19,
    "start_time": "2023-03-22T13:50:07.441Z"
   },
   {
    "duration": 26,
    "start_time": "2023-03-22T13:50:11.788Z"
   },
   {
    "duration": 383,
    "start_time": "2023-03-22T13:50:27.742Z"
   },
   {
    "duration": 19,
    "start_time": "2023-03-22T13:50:37.615Z"
   },
   {
    "duration": 18,
    "start_time": "2023-03-22T13:50:50.410Z"
   },
   {
    "duration": 446,
    "start_time": "2023-03-22T13:50:54.949Z"
   },
   {
    "duration": 968,
    "start_time": "2023-03-22T13:52:09.060Z"
   },
   {
    "duration": 931,
    "start_time": "2023-03-22T13:52:19.955Z"
   },
   {
    "duration": 2541,
    "start_time": "2023-03-22T14:22:41.666Z"
   },
   {
    "duration": 10196,
    "start_time": "2023-03-22T14:23:57.952Z"
   },
   {
    "duration": 3957,
    "start_time": "2023-03-22T14:26:22.140Z"
   },
   {
    "duration": 6364,
    "start_time": "2023-03-22T14:26:38.028Z"
   },
   {
    "duration": 3521,
    "start_time": "2023-03-22T14:34:29.278Z"
   },
   {
    "duration": 81,
    "start_time": "2023-03-22T14:37:10.821Z"
   },
   {
    "duration": 364,
    "start_time": "2023-03-22T14:37:16.991Z"
   },
   {
    "duration": 368,
    "start_time": "2023-03-22T14:44:51.560Z"
   },
   {
    "duration": 377,
    "start_time": "2023-03-22T15:08:31.398Z"
   },
   {
    "duration": 384,
    "start_time": "2023-03-22T15:08:46.286Z"
   },
   {
    "duration": 354,
    "start_time": "2023-03-22T15:09:00.375Z"
   },
   {
    "duration": 419,
    "start_time": "2023-03-22T15:09:08.882Z"
   },
   {
    "duration": 372,
    "start_time": "2023-03-22T15:09:43.030Z"
   },
   {
    "duration": 977,
    "start_time": "2023-03-22T15:09:59.078Z"
   },
   {
    "duration": 2598,
    "start_time": "2023-03-22T15:10:05.966Z"
   },
   {
    "duration": 2989,
    "start_time": "2023-03-22T15:28:52.020Z"
   },
   {
    "duration": 396,
    "start_time": "2023-03-22T15:29:53.573Z"
   },
   {
    "duration": 434,
    "start_time": "2023-03-22T15:32:50.131Z"
   },
   {
    "duration": 481,
    "start_time": "2023-03-22T15:33:03.733Z"
   },
   {
    "duration": 391,
    "start_time": "2023-03-22T15:36:59.371Z"
   },
   {
    "duration": 1216,
    "start_time": "2023-03-22T15:38:37.700Z"
   },
   {
    "duration": 1274,
    "start_time": "2023-03-22T15:38:55.584Z"
   },
   {
    "duration": 471,
    "start_time": "2023-03-22T15:39:26.032Z"
   },
   {
    "duration": 378,
    "start_time": "2023-03-22T15:39:37.605Z"
   },
   {
    "duration": 403,
    "start_time": "2023-03-22T15:39:52.864Z"
   },
   {
    "duration": 1017,
    "start_time": "2023-03-22T15:40:14.801Z"
   },
   {
    "duration": 997,
    "start_time": "2023-03-22T15:40:22.481Z"
   },
   {
    "duration": 1499,
    "start_time": "2023-03-22T15:48:29.388Z"
   },
   {
    "duration": 10,
    "start_time": "2023-03-22T15:48:30.889Z"
   },
   {
    "duration": 4024,
    "start_time": "2023-03-22T15:48:30.901Z"
   },
   {
    "duration": 561,
    "start_time": "2023-03-22T15:48:34.928Z"
   },
   {
    "duration": 1242,
    "start_time": "2023-03-22T15:48:35.491Z"
   },
   {
    "duration": 3026,
    "start_time": "2023-03-22T15:48:36.735Z"
   },
   {
    "duration": 516,
    "start_time": "2023-03-22T15:48:39.770Z"
   },
   {
    "duration": 1411,
    "start_time": "2023-03-22T15:48:40.288Z"
   },
   {
    "duration": 8,
    "start_time": "2023-03-22T15:48:41.701Z"
   },
   {
    "duration": 6,
    "start_time": "2023-03-22T15:48:41.712Z"
   },
   {
    "duration": 555,
    "start_time": "2023-03-22T16:16:22.290Z"
   },
   {
    "duration": 543,
    "start_time": "2023-03-22T16:23:49.510Z"
   },
   {
    "duration": 538,
    "start_time": "2023-03-22T16:23:59.369Z"
   },
   {
    "duration": 528,
    "start_time": "2023-03-22T16:24:13.499Z"
   },
   {
    "duration": 1056,
    "start_time": "2023-03-22T19:14:19.757Z"
   },
   {
    "duration": 831,
    "start_time": "2023-03-22T19:14:20.817Z"
   },
   {
    "duration": 3865,
    "start_time": "2023-03-22T19:14:21.650Z"
   },
   {
    "duration": 445,
    "start_time": "2023-03-22T19:14:25.517Z"
   },
   {
    "duration": 1027,
    "start_time": "2023-03-22T19:14:25.964Z"
   },
   {
    "duration": 2686,
    "start_time": "2023-03-22T19:14:26.992Z"
   },
   {
    "duration": 510,
    "start_time": "2023-03-22T19:14:29.680Z"
   },
   {
    "duration": 504,
    "start_time": "2023-03-22T19:14:30.192Z"
   },
   {
    "duration": 0,
    "start_time": "2023-03-22T19:14:30.698Z"
   },
   {
    "duration": 0,
    "start_time": "2023-03-22T19:14:30.699Z"
   },
   {
    "duration": 0,
    "start_time": "2023-03-22T19:14:30.701Z"
   },
   {
    "duration": 467,
    "start_time": "2023-03-22T19:15:07.805Z"
   },
   {
    "duration": 390,
    "start_time": "2023-03-22T19:15:27.846Z"
   },
   {
    "duration": 371,
    "start_time": "2023-03-22T19:15:40.842Z"
   },
   {
    "duration": 391,
    "start_time": "2023-03-22T19:15:54.730Z"
   },
   {
    "duration": 379,
    "start_time": "2023-03-22T19:17:29.658Z"
   },
   {
    "duration": 219,
    "start_time": "2023-03-22T19:18:53.455Z"
   },
   {
    "duration": 370,
    "start_time": "2023-03-22T19:19:19.454Z"
   },
   {
    "duration": 395,
    "start_time": "2023-03-22T19:19:26.234Z"
   },
   {
    "duration": 179,
    "start_time": "2023-03-22T19:19:36.878Z"
   },
   {
    "duration": 135,
    "start_time": "2023-03-22T19:20:18.826Z"
   },
   {
    "duration": 140,
    "start_time": "2023-03-22T19:20:53.194Z"
   },
   {
    "duration": 131,
    "start_time": "2023-03-22T19:21:06.383Z"
   },
   {
    "duration": 2686,
    "start_time": "2023-03-22T19:49:16.952Z"
   },
   {
    "duration": 189,
    "start_time": "2023-03-22T19:52:10.717Z"
   },
   {
    "duration": 144,
    "start_time": "2023-03-22T19:52:32.112Z"
   },
   {
    "duration": 254,
    "start_time": "2023-03-22T19:52:57.537Z"
   },
   {
    "duration": 763,
    "start_time": "2023-03-22T19:55:56.920Z"
   },
   {
    "duration": 755,
    "start_time": "2023-03-22T19:55:57.686Z"
   },
   {
    "duration": 3801,
    "start_time": "2023-03-22T19:55:58.443Z"
   },
   {
    "duration": 413,
    "start_time": "2023-03-22T19:56:02.246Z"
   },
   {
    "duration": 970,
    "start_time": "2023-03-22T19:56:02.661Z"
   },
   {
    "duration": 2530,
    "start_time": "2023-03-22T19:56:03.633Z"
   },
   {
    "duration": 462,
    "start_time": "2023-03-22T19:56:06.165Z"
   },
   {
    "duration": 191,
    "start_time": "2023-03-22T19:56:06.628Z"
   },
   {
    "duration": 231,
    "start_time": "2023-03-22T19:56:06.821Z"
   },
   {
    "duration": 158,
    "start_time": "2023-03-22T19:56:07.054Z"
   },
   {
    "duration": 1254,
    "start_time": "2023-03-22T19:56:07.214Z"
   },
   {
    "duration": 10,
    "start_time": "2023-03-22T19:56:08.469Z"
   },
   {
    "duration": 5,
    "start_time": "2023-03-22T19:56:08.480Z"
   },
   {
    "duration": 939,
    "start_time": "2023-03-22T20:19:00.631Z"
   },
   {
    "duration": 989,
    "start_time": "2023-03-22T20:24:58.129Z"
   },
   {
    "duration": 847,
    "start_time": "2023-03-22T20:25:50.832Z"
   },
   {
    "duration": 553,
    "start_time": "2023-03-22T20:27:14.457Z"
   },
   {
    "duration": 581,
    "start_time": "2023-03-22T20:27:37.785Z"
   },
   {
    "duration": 625,
    "start_time": "2023-03-22T20:28:10.253Z"
   },
   {
    "duration": 1028,
    "start_time": "2023-03-22T20:32:13.927Z"
   },
   {
    "duration": 612,
    "start_time": "2023-12-04T08:31:49.103Z"
   },
   {
    "duration": 123,
    "start_time": "2023-12-04T08:31:49.717Z"
   },
   {
    "duration": 719,
    "start_time": "2023-12-04T08:31:49.841Z"
   },
   {
    "duration": 3555,
    "start_time": "2023-12-04T08:31:50.563Z"
   },
   {
    "duration": 400,
    "start_time": "2023-12-04T08:31:54.120Z"
   },
   {
    "duration": 968,
    "start_time": "2023-12-04T08:31:54.522Z"
   },
   {
    "duration": 2500,
    "start_time": "2023-12-04T08:31:55.491Z"
   },
   {
    "duration": 449,
    "start_time": "2023-12-04T08:31:57.992Z"
   },
   {
    "duration": 187,
    "start_time": "2023-12-04T08:31:58.443Z"
   },
   {
    "duration": 209,
    "start_time": "2023-12-04T08:31:58.633Z"
   },
   {
    "duration": 146,
    "start_time": "2023-12-04T08:31:58.844Z"
   },
   {
    "duration": 533,
    "start_time": "2023-12-04T08:31:58.991Z"
   },
   {
    "duration": 1006,
    "start_time": "2023-12-04T08:31:59.526Z"
   },
   {
    "duration": 8,
    "start_time": "2023-12-04T08:32:00.533Z"
   },
   {
    "duration": 52,
    "start_time": "2023-12-04T08:32:00.543Z"
   }
  ],
  "kernelspec": {
   "display_name": "Python 3 (ipykernel)",
   "language": "python",
   "name": "python3"
  },
  "language_info": {
   "codemirror_mode": {
    "name": "ipython",
    "version": 3
   },
   "file_extension": ".py",
   "mimetype": "text/x-python",
   "name": "python",
   "nbconvert_exporter": "python",
   "pygments_lexer": "ipython3",
   "version": "3.9.16"
  },
  "toc": {
   "base_numbering": 1,
   "nav_menu": {},
   "number_sections": true,
   "sideBar": true,
   "skip_h1_title": true,
   "title_cell": "Table of Contents",
   "title_sidebar": "Contents",
   "toc_cell": false,
   "toc_position": {},
   "toc_section_display": true,
   "toc_window_display": false
  }
 },
 "nbformat": 4,
 "nbformat_minor": 4
}
